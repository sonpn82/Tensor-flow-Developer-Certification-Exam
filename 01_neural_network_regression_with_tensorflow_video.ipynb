{
  "nbformat": 4,
  "nbformat_minor": 0,
  "metadata": {
    "colab": {
      "name": "01_neural_network_regression_with_tensorflow_video.ipynb",
      "provenance": [],
      "collapsed_sections": [],
      "mount_file_id": "108lpGL2Bhznb9uFm6cONnVqCbv0CVBNv",
      "authorship_tag": "ABX9TyNYUW7j8DXuN47Fla3VplwK",
      "include_colab_link": true
    },
    "kernelspec": {
      "name": "python3",
      "display_name": "Python 3"
    },
    "language_info": {
      "name": "python"
    }
  },
  "cells": [
    {
      "cell_type": "markdown",
      "metadata": {
        "id": "view-in-github",
        "colab_type": "text"
      },
      "source": [
        "<a href=\"https://colab.research.google.com/github/sonpn82/Tensor-flow-Developer-Certification-Exam/blob/main/01_neural_network_regression_with_tensorflow_video.ipynb\" target=\"_parent\"><img src=\"https://colab.research.google.com/assets/colab-badge.svg\" alt=\"Open In Colab\"/></a>"
      ]
    },
    {
      "cell_type": "markdown",
      "source": [
        "# Introduction to Regression with Neural Networks in TensorFlow\n",
        "\n",
        "There are many definitions for a regression problem but in our case, we're going to simplity it: predicting a numerical variable based on some other combination of variables, even shorter ... predicting a number."
      ],
      "metadata": {
        "id": "z6chaV2sjksW"
      }
    },
    {
      "cell_type": "code",
      "source": [
        "# Import tensorflow\n",
        "import tensorflow as tf\n",
        "print(tf.__version__)"
      ],
      "metadata": {
        "colab": {
          "base_uri": "https://localhost:8080/"
        },
        "id": "BKkc20E7kItK",
        "outputId": "d6befcfd-132e-4fb2-a2dc-5aca0c6e4677"
      },
      "execution_count": null,
      "outputs": [
        {
          "output_type": "stream",
          "name": "stdout",
          "text": [
            "2.8.2\n"
          ]
        }
      ]
    },
    {
      "cell_type": "markdown",
      "source": [
        "## Creating data to view and fit"
      ],
      "metadata": {
        "id": "KMgrcAeBkecZ"
      }
    },
    {
      "cell_type": "code",
      "source": [
        "import numpy as np\n",
        "import matplotlib.pyplot as plt\n",
        "\n",
        "# Create features\n",
        "X = np.array([-7., -4.,-1.,2.,5.,8.,11.,14.])\n",
        "\n",
        "# Create labels\n",
        "y = np.array([3.,6.,9.,12.,15.,18.,21.,24.])\n",
        "\n",
        "# Visualize it\n",
        "plt.scatter(X, y)"
      ],
      "metadata": {
        "colab": {
          "base_uri": "https://localhost:8080/",
          "height": 287
        },
        "id": "M69T2l_Ykp-N",
        "outputId": "e32b11e3-1f89-44bd-dfdd-7076b708c6a1"
      },
      "execution_count": null,
      "outputs": [
        {
          "output_type": "execute_result",
          "data": {
            "text/plain": [
              "<matplotlib.collections.PathCollection at 0x7f06f0f30b10>"
            ]
          },
          "metadata": {},
          "execution_count": 17
        },
        {
          "output_type": "display_data",
          "data": {
            "text/plain": [
              "<Figure size 432x288 with 1 Axes>"
            ],
            "image/png": "[encoded data removed]"
          },
          "metadata": {
            "needs_background": "light"
          }
        }
      ]
    },
    {
      "cell_type": "markdown",
      "source": [
        "## Input and output shapes"
      ],
      "metadata": {
        "id": "5lYdhOtslNGi"
      }
    },
    {
      "cell_type": "code",
      "source": [
        "# Create a demo tensor for our housing price prediction problem\n",
        "house_info = tf.constant([\"bedroom\", \"bathroom\", \"garage\"])\n",
        "house_price = tf.constant([939700])\n",
        "house_info, house_price"
      ],
      "metadata": {
        "colab": {
          "base_uri": "https://localhost:8080/"
        },
        "id": "XfylbM05loH9",
        "outputId": "a8a21c33-857e-49bc-9964-3018059be154"
      },
      "execution_count": null,
      "outputs": [
        {
          "output_type": "execute_result",
          "data": {
            "text/plain": [
              "(<tf.Tensor: shape=(3,), dtype=string, numpy=array([b'bedroom', b'bathroom', b'garage'], dtype=object)>,\n",
              " <tf.Tensor: shape=(1,), dtype=int32, numpy=array([939700], dtype=int32)>)"
            ]
          },
          "metadata": {},
          "execution_count": 18
        }
      ]
    },
    {
      "cell_type": "code",
      "source": [
        "X[0], y[0]"
      ],
      "metadata": {
        "colab": {
          "base_uri": "https://localhost:8080/"
        },
        "id": "xQ7yUQNdmaEI",
        "outputId": "59f98a3f-95ea-42d9-a94e-3b5d30249e47"
      },
      "execution_count": null,
      "outputs": [
        {
          "output_type": "execute_result",
          "data": {
            "text/plain": [
              "(-7.0, 3.0)"
            ]
          },
          "metadata": {},
          "execution_count": 19
        }
      ]
    },
    {
      "cell_type": "code",
      "source": [
        "X[1], y[1]"
      ],
      "metadata": {
        "colab": {
          "base_uri": "https://localhost:8080/"
        },
        "id": "IJ_T5gammdYf",
        "outputId": "8ea66361-9f4c-4d49-977e-7d4463df6911"
      },
      "execution_count": null,
      "outputs": [
        {
          "output_type": "execute_result",
          "data": {
            "text/plain": [
              "(-4.0, 6.0)"
            ]
          },
          "metadata": {},
          "execution_count": 20
        }
      ]
    },
    {
      "cell_type": "code",
      "source": [
        "input_shape = X.shape\n",
        "output_shape = y.shape\n",
        "input_shape, output_shape"
      ],
      "metadata": {
        "colab": {
          "base_uri": "https://localhost:8080/"
        },
        "id": "cCsS6yxdmGNR",
        "outputId": "6738d5d6-8b98-432e-b0f7-a692f89b716f"
      },
      "execution_count": null,
      "outputs": [
        {
          "output_type": "execute_result",
          "data": {
            "text/plain": [
              "((8,), (8,))"
            ]
          },
          "metadata": {},
          "execution_count": 21
        }
      ]
    },
    {
      "cell_type": "code",
      "source": [
        "X[0].ndim"
      ],
      "metadata": {
        "colab": {
          "base_uri": "https://localhost:8080/"
        },
        "id": "4senKSTlmU4_",
        "outputId": "1ffc4edb-e98c-47b2-b2c3-6941be5fa375"
      },
      "execution_count": null,
      "outputs": [
        {
          "output_type": "execute_result",
          "data": {
            "text/plain": [
              "0"
            ]
          },
          "metadata": {},
          "execution_count": 22
        }
      ]
    },
    {
      "cell_type": "code",
      "source": [
        "X[0], y[0]"
      ],
      "metadata": {
        "colab": {
          "base_uri": "https://localhost:8080/"
        },
        "id": "31Ez53GNm1cf",
        "outputId": "6f53fa33-b2dc-4de7-c745-c21afb3c9198"
      },
      "execution_count": null,
      "outputs": [
        {
          "output_type": "execute_result",
          "data": {
            "text/plain": [
              "(-7.0, 3.0)"
            ]
          },
          "metadata": {},
          "execution_count": 23
        }
      ]
    },
    {
      "cell_type": "code",
      "source": [
        "# Turn our numpy arrays into tensors\n",
        "X = tf.constant(X)\n",
        "y = tf.constant(y)\n",
        "X, y"
      ],
      "metadata": {
        "colab": {
          "base_uri": "https://localhost:8080/"
        },
        "id": "8L0sIENRm5Me",
        "outputId": "25ecd1ed-3f92-47af-8b5d-f6a56364c1d5"
      },
      "execution_count": null,
      "outputs": [
        {
          "output_type": "execute_result",
          "data": {
            "text/plain": [
              "(<tf.Tensor: shape=(8,), dtype=float64, numpy=array([-7., -4., -1.,  2.,  5.,  8., 11., 14.])>,\n",
              " <tf.Tensor: shape=(8,), dtype=float64, numpy=array([ 3.,  6.,  9., 12., 15., 18., 21., 24.])>)"
            ]
          },
          "metadata": {},
          "execution_count": 24
        }
      ]
    },
    {
      "cell_type": "code",
      "source": [
        "input_shape = X[0].shape\n",
        "output_shape = y[0].shape\n",
        "input_shape, output_shape"
      ],
      "metadata": {
        "colab": {
          "base_uri": "https://localhost:8080/"
        },
        "id": "dZswPbcdn5nO",
        "outputId": "8e9a4a17-11d1-4cd3-ea17-523f70ebb14e"
      },
      "execution_count": null,
      "outputs": [
        {
          "output_type": "execute_result",
          "data": {
            "text/plain": [
              "(TensorShape([]), TensorShape([]))"
            ]
          },
          "metadata": {},
          "execution_count": 25
        }
      ]
    },
    {
      "cell_type": "code",
      "source": [
        "plt.scatter(X, y)"
      ],
      "metadata": {
        "colab": {
          "base_uri": "https://localhost:8080/",
          "height": 287
        },
        "id": "53dENaQ4oCSN",
        "outputId": "913553b4-b1ac-439a-9353-b40a1ccb6144"
      },
      "execution_count": null,
      "outputs": [
        {
          "output_type": "execute_result",
          "data": {
            "text/plain": [
              "<matplotlib.collections.PathCollection at 0x7f06f094f150>"
            ]
          },
          "metadata": {},
          "execution_count": 26
        },
        {
          "output_type": "display_data",
          "data": {
            "text/plain": [
              "<Figure size 432x288 with 1 Axes>"
            ],
            "image/png": "[encoded data removed]"
          },
          "metadata": {
            "needs_background": "light"
          }
        }
      ]
    },
    {
      "cell_type": "markdown",
      "source": [
        "## Steps in modeling with TensorFlow\n",
        "\n",
        "1. **Creating a model** - define the input and output layers, as well as the hidden layers of a deep learning model. \n",
        "2. **Compiling a model** -define the loss function (in others words, the function which tells our model how wrong it is) and the otimizer (tells our model how to improve the patterns its learning) and evaluation metrics (what we can use to interpret the performance of our model).\n",
        "3. **Fitting a model** - letting the model try to find patterns between X & y (features and lables)."
      ],
      "metadata": {
        "id": "EwTKhIrboIxM"
      }
    },
    {
      "cell_type": "code",
      "source": [
        "# Set random seed\n",
        "tf.random.set_seed(24)\n",
        "\n",
        "# 1. Create a model using the Sequential API\n",
        "model = tf.keras.Sequential([\n",
        "  tf.keras.layers.Dense(1)\n",
        "])\n",
        "\n",
        "#2. Compile the model\n",
        "model.compile(loss=tf.keras.losses.mae, # mae is hort for mean absolute error\n",
        "              optimizer=tf.keras.optimizers.SGD(), # sgd is short for stochastic gradient descent\n",
        "              metrics=[\"mae\"])  \n",
        "\n",
        "#. Fit the model\n",
        "model.fit(tf.expand_dims(X, axis=-1), y, epochs=5)\n"
      ],
      "metadata": {
        "colab": {
          "base_uri": "https://localhost:8080/"
        },
        "id": "INjxlWw5oxC2",
        "outputId": "4048cef2-6fac-429b-cfeb-dcce7a3cecf7"
      },
      "execution_count": null,
      "outputs": [
        {
          "output_type": "stream",
          "name": "stdout",
          "text": [
            "Epoch 1/5\n",
            "1/1 [==============================] - 1s 568ms/step - loss: 19.8558 - mae: 19.8558\n",
            "Epoch 2/5\n",
            "1/1 [==============================] - 0s 16ms/step - loss: 19.5746 - mae: 19.5746\n",
            "Epoch 3/5\n",
            "1/1 [==============================] - 0s 19ms/step - loss: 19.2933 - mae: 19.2933\n",
            "Epoch 4/5\n",
            "1/1 [==============================] - 0s 7ms/step - loss: 19.0121 - mae: 19.0121\n",
            "Epoch 5/5\n",
            "1/1 [==============================] - 0s 7ms/step - loss: 18.7308 - mae: 18.7308\n"
          ]
        },
        {
          "output_type": "execute_result",
          "data": {
            "text/plain": [
              "<keras.callbacks.History at 0x7f06f091c250>"
            ]
          },
          "metadata": {},
          "execution_count": 27
        }
      ]
    },
    {
      "cell_type": "code",
      "source": [
        "# Check out X and y\n",
        "X, y"
      ],
      "metadata": {
        "colab": {
          "base_uri": "https://localhost:8080/"
        },
        "id": "i8KbO_1XsH10",
        "outputId": "94a0e1e4-b061-47fc-b978-0148fc7e02b3"
      },
      "execution_count": null,
      "outputs": [
        {
          "output_type": "execute_result",
          "data": {
            "text/plain": [
              "(<tf.Tensor: shape=(8,), dtype=float64, numpy=array([-7., -4., -1.,  2.,  5.,  8., 11., 14.])>,\n",
              " <tf.Tensor: shape=(8,), dtype=float64, numpy=array([ 3.,  6.,  9., 12., 15., 18., 21., 24.])>)"
            ]
          },
          "metadata": {},
          "execution_count": 28
        }
      ]
    },
    {
      "cell_type": "code",
      "source": [
        "# Try and make a prediction using our model\n",
        "y_pred = model.predict([17.])"
      ],
      "metadata": {
        "id": "QdxCyqvxtBSV"
      },
      "execution_count": null,
      "outputs": []
    },
    {
      "cell_type": "code",
      "source": [
        "y_pred + 11"
      ],
      "metadata": {
        "colab": {
          "base_uri": "https://localhost:8080/"
        },
        "id": "6eSoqlBjtJV4",
        "outputId": "bd23ca1d-891e-4b43-90cd-a80036dbcf5c"
      },
      "execution_count": null,
      "outputs": [
        {
          "output_type": "execute_result",
          "data": {
            "text/plain": [
              "array([[-7.5093994]], dtype=float32)"
            ]
          },
          "metadata": {},
          "execution_count": 30
        }
      ]
    },
    {
      "cell_type": "markdown",
      "source": [
        "## Improving our model\n",
        "\n",
        "We can improve our model, by altering the steps we took to create a model.\n",
        "\n",
        "1. **Creating a model** - here we might add more layers increase the number of hidden units (all called neurons) within each of the hidden layers, change the activation function of each layer.\n",
        "2. **Compiling a model** - here we might change the optimization or perhaps the \"learning rate** of the optimization function.\n",
        "3. **Fitting a model** - here we might fit a model for more **epochs** (leave it training for longer) or on more data (give the model more examples to learn from)."
      ],
      "metadata": {
        "id": "qdYsmMsOtrG3"
      }
    },
    {
      "cell_type": "code",
      "source": [
        "# Let's rebuild our model\n",
        "#1. Create the model\n",
        "model = tf.keras.Sequential([\n",
        "  tf.keras.layers.Dense(1)\n",
        "])\n",
        "\n",
        "# 2. Compile the model\n",
        "model.compile(loss=tf.keras.losses.mae,\n",
        "              optimizer=tf.keras.optimizers.SGD(),\n",
        "              metrics=[\"mae\"])\n",
        "\n",
        "# 3. Fit the model\n",
        "model.fit(tf.expand_dims(X, axis=-1), y, epochs=100)"
      ],
      "metadata": {
        "colab": {
          "base_uri": "https://localhost:8080/"
        },
        "id": "Lfbz-HNTmcic",
        "outputId": "d9af5e25-00f8-477d-c2f1-890a403f08b1"
      },
      "execution_count": null,
      "outputs": [
        {
          "output_type": "stream",
          "name": "stdout",
          "text": [
            "Epoch 1/100\n",
            "1/1 [==============================] - 1s 567ms/step - loss: 8.8006 - mae: 8.8006\n",
            "Epoch 2/100\n",
            "1/1 [==============================] - 0s 10ms/step - loss: 8.6681 - mae: 8.6681\n",
            "Epoch 3/100\n",
            "1/1 [==============================] - 0s 8ms/step - loss: 8.5356 - mae: 8.5356\n",
            "Epoch 4/100\n",
            "1/1 [==============================] - 0s 8ms/step - loss: 8.4031 - mae: 8.4031\n",
            "Epoch 5/100\n",
            "1/1 [==============================] - 0s 7ms/step - loss: 8.2706 - mae: 8.2706\n",
            "Epoch 6/100\n",
            "1/1 [==============================] - 0s 7ms/step - loss: 8.1381 - mae: 8.1381\n",
            "Epoch 7/100\n",
            "1/1 [==============================] - 0s 7ms/step - loss: 8.0056 - mae: 8.0056\n",
            "Epoch 8/100\n",
            "1/1 [==============================] - 0s 13ms/step - loss: 7.8731 - mae: 7.8731\n",
            "Epoch 9/100\n",
            "1/1 [==============================] - 0s 14ms/step - loss: 7.7406 - mae: 7.7406\n",
            "Epoch 10/100\n",
            "1/1 [==============================] - 0s 11ms/step - loss: 7.6081 - mae: 7.6081\n",
            "Epoch 11/100\n",
            "1/1 [==============================] - 0s 7ms/step - loss: 7.4756 - mae: 7.4756\n",
            "Epoch 12/100\n",
            "1/1 [==============================] - 0s 6ms/step - loss: 7.4175 - mae: 7.4175\n",
            "Epoch 13/100\n",
            "1/1 [==============================] - 0s 6ms/step - loss: 7.4119 - mae: 7.4119\n",
            "Epoch 14/100\n",
            "1/1 [==============================] - 0s 6ms/step - loss: 7.4062 - mae: 7.4062\n",
            "Epoch 15/100\n",
            "1/1 [==============================] - 0s 7ms/step - loss: 7.4006 - mae: 7.4006\n",
            "Epoch 16/100\n",
            "1/1 [==============================] - 0s 7ms/step - loss: 7.3950 - mae: 7.3950\n",
            "Epoch 17/100\n",
            "1/1 [==============================] - 0s 7ms/step - loss: 7.3894 - mae: 7.3894\n",
            "Epoch 18/100\n",
            "1/1 [==============================] - 0s 7ms/step - loss: 7.3837 - mae: 7.3837\n",
            "Epoch 19/100\n",
            "1/1 [==============================] - 0s 10ms/step - loss: 7.3781 - mae: 7.3781\n",
            "Epoch 20/100\n",
            "1/1 [==============================] - 0s 12ms/step - loss: 7.3725 - mae: 7.3725\n",
            "Epoch 21/100\n",
            "1/1 [==============================] - 0s 11ms/step - loss: 7.3669 - mae: 7.3669\n",
            "Epoch 22/100\n",
            "1/1 [==============================] - 0s 12ms/step - loss: 7.3613 - mae: 7.3613\n",
            "Epoch 23/100\n",
            "1/1 [==============================] - 0s 19ms/step - loss: 7.3556 - mae: 7.3556\n",
            "Epoch 24/100\n",
            "1/1 [==============================] - 0s 14ms/step - loss: 7.3500 - mae: 7.3500\n",
            "Epoch 25/100\n",
            "1/1 [==============================] - 0s 13ms/step - loss: 7.3444 - mae: 7.3444\n",
            "Epoch 26/100\n",
            "1/1 [==============================] - 0s 9ms/step - loss: 7.3387 - mae: 7.3387\n",
            "Epoch 27/100\n",
            "1/1 [==============================] - 0s 13ms/step - loss: 7.3331 - mae: 7.3331\n",
            "Epoch 28/100\n",
            "1/1 [==============================] - 0s 33ms/step - loss: 7.3275 - mae: 7.3275\n",
            "Epoch 29/100\n",
            "1/1 [==============================] - 0s 8ms/step - loss: 7.3219 - mae: 7.3219\n",
            "Epoch 30/100\n",
            "1/1 [==============================] - 0s 13ms/step - loss: 7.3162 - mae: 7.3162\n",
            "Epoch 31/100\n",
            "1/1 [==============================] - 0s 17ms/step - loss: 7.3106 - mae: 7.3106\n",
            "Epoch 32/100\n",
            "1/1 [==============================] - 0s 15ms/step - loss: 7.3050 - mae: 7.3050\n",
            "Epoch 33/100\n",
            "1/1 [==============================] - 0s 14ms/step - loss: 7.2994 - mae: 7.2994\n",
            "Epoch 34/100\n",
            "1/1 [==============================] - 0s 16ms/step - loss: 7.2938 - mae: 7.2938\n",
            "Epoch 35/100\n",
            "1/1 [==============================] - 0s 15ms/step - loss: 7.2881 - mae: 7.2881\n",
            "Epoch 36/100\n",
            "1/1 [==============================] - 0s 7ms/step - loss: 7.2825 - mae: 7.2825\n",
            "Epoch 37/100\n",
            "1/1 [==============================] - 0s 6ms/step - loss: 7.2769 - mae: 7.2769\n",
            "Epoch 38/100\n",
            "1/1 [==============================] - 0s 7ms/step - loss: 7.2712 - mae: 7.2712\n",
            "Epoch 39/100\n",
            "1/1 [==============================] - 0s 7ms/step - loss: 7.2656 - mae: 7.2656\n",
            "Epoch 40/100\n",
            "1/1 [==============================] - 0s 6ms/step - loss: 7.2600 - mae: 7.2600\n",
            "Epoch 41/100\n",
            "1/1 [==============================] - 0s 7ms/step - loss: 7.2544 - mae: 7.2544\n",
            "Epoch 42/100\n",
            "1/1 [==============================] - 0s 7ms/step - loss: 7.2487 - mae: 7.2487\n",
            "Epoch 43/100\n",
            "1/1 [==============================] - 0s 7ms/step - loss: 7.2431 - mae: 7.2431\n",
            "Epoch 44/100\n",
            "1/1 [==============================] - 0s 6ms/step - loss: 7.2375 - mae: 7.2375\n",
            "Epoch 45/100\n",
            "1/1 [==============================] - 0s 7ms/step - loss: 7.2319 - mae: 7.2319\n",
            "Epoch 46/100\n",
            "1/1 [==============================] - 0s 12ms/step - loss: 7.2263 - mae: 7.2263\n",
            "Epoch 47/100\n",
            "1/1 [==============================] - 0s 9ms/step - loss: 7.2206 - mae: 7.2206\n",
            "Epoch 48/100\n",
            "1/1 [==============================] - 0s 8ms/step - loss: 7.2150 - mae: 7.2150\n",
            "Epoch 49/100\n",
            "1/1 [==============================] - 0s 9ms/step - loss: 7.2094 - mae: 7.2094\n",
            "Epoch 50/100\n",
            "1/1 [==============================] - 0s 13ms/step - loss: 7.2038 - mae: 7.2038\n",
            "Epoch 51/100\n",
            "1/1 [==============================] - 0s 12ms/step - loss: 7.1981 - mae: 7.1981\n",
            "Epoch 52/100\n",
            "1/1 [==============================] - 0s 15ms/step - loss: 7.1925 - mae: 7.1925\n",
            "Epoch 53/100\n",
            "1/1 [==============================] - 0s 13ms/step - loss: 7.1869 - mae: 7.1869\n",
            "Epoch 54/100\n",
            "1/1 [==============================] - 0s 11ms/step - loss: 7.1813 - mae: 7.1813\n",
            "Epoch 55/100\n",
            "1/1 [==============================] - 0s 12ms/step - loss: 7.1756 - mae: 7.1756\n",
            "Epoch 56/100\n",
            "1/1 [==============================] - 0s 15ms/step - loss: 7.1700 - mae: 7.1700\n",
            "Epoch 57/100\n",
            "1/1 [==============================] - 0s 8ms/step - loss: 7.1644 - mae: 7.1644\n",
            "Epoch 58/100\n",
            "1/1 [==============================] - 0s 9ms/step - loss: 7.1587 - mae: 7.1587\n",
            "Epoch 59/100\n",
            "1/1 [==============================] - 0s 9ms/step - loss: 7.1531 - mae: 7.1531\n",
            "Epoch 60/100\n",
            "1/1 [==============================] - 0s 9ms/step - loss: 7.1475 - mae: 7.1475\n",
            "Epoch 61/100\n",
            "1/1 [==============================] - 0s 9ms/step - loss: 7.1419 - mae: 7.1419\n",
            "Epoch 62/100\n",
            "1/1 [==============================] - 0s 9ms/step - loss: 7.1363 - mae: 7.1363\n",
            "Epoch 63/100\n",
            "1/1 [==============================] - 0s 14ms/step - loss: 7.1306 - mae: 7.1306\n",
            "Epoch 64/100\n",
            "1/1 [==============================] - 0s 8ms/step - loss: 7.1250 - mae: 7.1250\n",
            "Epoch 65/100\n",
            "1/1 [==============================] - 0s 27ms/step - loss: 7.1194 - mae: 7.1194\n",
            "Epoch 66/100\n",
            "1/1 [==============================] - 0s 15ms/step - loss: 7.1138 - mae: 7.1138\n",
            "Epoch 67/100\n",
            "1/1 [==============================] - 0s 18ms/step - loss: 7.1081 - mae: 7.1081\n",
            "Epoch 68/100\n",
            "1/1 [==============================] - 0s 18ms/step - loss: 7.1025 - mae: 7.1025\n",
            "Epoch 69/100\n",
            "1/1 [==============================] - 0s 24ms/step - loss: 7.0969 - mae: 7.0969\n",
            "Epoch 70/100\n",
            "1/1 [==============================] - 0s 22ms/step - loss: 7.0912 - mae: 7.0912\n",
            "Epoch 71/100\n",
            "1/1 [==============================] - 0s 8ms/step - loss: 7.0856 - mae: 7.0856\n",
            "Epoch 72/100\n",
            "1/1 [==============================] - 0s 9ms/step - loss: 7.0800 - mae: 7.0800\n",
            "Epoch 73/100\n",
            "1/1 [==============================] - 0s 8ms/step - loss: 7.0744 - mae: 7.0744\n",
            "Epoch 74/100\n",
            "1/1 [==============================] - 0s 8ms/step - loss: 7.0687 - mae: 7.0687\n",
            "Epoch 75/100\n",
            "1/1 [==============================] - 0s 12ms/step - loss: 7.0631 - mae: 7.0631\n",
            "Epoch 76/100\n",
            "1/1 [==============================] - 0s 12ms/step - loss: 7.0575 - mae: 7.0575\n",
            "Epoch 77/100\n",
            "1/1 [==============================] - 0s 9ms/step - loss: 7.0519 - mae: 7.0519\n",
            "Epoch 78/100\n",
            "1/1 [==============================] - 0s 8ms/step - loss: 7.0463 - mae: 7.0463\n",
            "Epoch 79/100\n",
            "1/1 [==============================] - 0s 12ms/step - loss: 7.0406 - mae: 7.0406\n",
            "Epoch 80/100\n",
            "1/1 [==============================] - 0s 10ms/step - loss: 7.0350 - mae: 7.0350\n",
            "Epoch 81/100\n",
            "1/1 [==============================] - 0s 11ms/step - loss: 7.0294 - mae: 7.0294\n",
            "Epoch 82/100\n",
            "1/1 [==============================] - 0s 16ms/step - loss: 7.0238 - mae: 7.0238\n",
            "Epoch 83/100\n",
            "1/1 [==============================] - 0s 12ms/step - loss: 7.0181 - mae: 7.0181\n",
            "Epoch 84/100\n",
            "1/1 [==============================] - 0s 16ms/step - loss: 7.0125 - mae: 7.0125\n",
            "Epoch 85/100\n",
            "1/1 [==============================] - 0s 17ms/step - loss: 7.0069 - mae: 7.0069\n",
            "Epoch 86/100\n",
            "1/1 [==============================] - 0s 39ms/step - loss: 7.0013 - mae: 7.0013\n",
            "Epoch 87/100\n",
            "1/1 [==============================] - 0s 18ms/step - loss: 6.9956 - mae: 6.9956\n",
            "Epoch 88/100\n",
            "1/1 [==============================] - 0s 17ms/step - loss: 6.9900 - mae: 6.9900\n",
            "Epoch 89/100\n",
            "1/1 [==============================] - 0s 20ms/step - loss: 6.9844 - mae: 6.9844\n",
            "Epoch 90/100\n",
            "1/1 [==============================] - 0s 18ms/step - loss: 6.9788 - mae: 6.9788\n",
            "Epoch 91/100\n",
            "1/1 [==============================] - 0s 15ms/step - loss: 6.9731 - mae: 6.9731\n",
            "Epoch 92/100\n",
            "1/1 [==============================] - 0s 13ms/step - loss: 6.9675 - mae: 6.9675\n",
            "Epoch 93/100\n",
            "1/1 [==============================] - 0s 13ms/step - loss: 6.9619 - mae: 6.9619\n",
            "Epoch 94/100\n",
            "1/1 [==============================] - 0s 13ms/step - loss: 6.9563 - mae: 6.9563\n",
            "Epoch 95/100\n",
            "1/1 [==============================] - 0s 13ms/step - loss: 6.9506 - mae: 6.9506\n",
            "Epoch 96/100\n",
            "1/1 [==============================] - 0s 12ms/step - loss: 6.9450 - mae: 6.9450\n",
            "Epoch 97/100\n",
            "1/1 [==============================] - 0s 13ms/step - loss: 6.9394 - mae: 6.9394\n",
            "Epoch 98/100\n",
            "1/1 [==============================] - 0s 13ms/step - loss: 6.9338 - mae: 6.9338\n",
            "Epoch 99/100\n",
            "1/1 [==============================] - 0s 11ms/step - loss: 6.9281 - mae: 6.9281\n",
            "Epoch 100/100\n",
            "1/1 [==============================] - 0s 11ms/step - loss: 6.9225 - mae: 6.9225\n"
          ]
        },
        {
          "output_type": "execute_result",
          "data": {
            "text/plain": [
              "<keras.callbacks.History at 0x7f06f001d310>"
            ]
          },
          "metadata": {},
          "execution_count": 31
        }
      ]
    },
    {
      "cell_type": "code",
      "source": [
        "# Remind ourselves of the data\n",
        "X, y"
      ],
      "metadata": {
        "colab": {
          "base_uri": "https://localhost:8080/"
        },
        "id": "OR1jSdZMo94L",
        "outputId": "db3a3c0f-4e63-410c-ad38-09da59d761cb"
      },
      "execution_count": null,
      "outputs": [
        {
          "output_type": "execute_result",
          "data": {
            "text/plain": [
              "(<tf.Tensor: shape=(8,), dtype=float64, numpy=array([-7., -4., -1.,  2.,  5.,  8., 11., 14.])>,\n",
              " <tf.Tensor: shape=(8,), dtype=float64, numpy=array([ 3.,  6.,  9., 12., 15., 18., 21., 24.])>)"
            ]
          },
          "metadata": {},
          "execution_count": 32
        }
      ]
    },
    {
      "cell_type": "code",
      "source": [
        "# Let's see if our model's prediction has improved\n",
        "model.predict([17.0])"
      ],
      "metadata": {
        "colab": {
          "base_uri": "https://localhost:8080/"
        },
        "id": "ldkz5S8Yp3pB",
        "outputId": "323b6446-cade-4f1f-ea8d-0abb9c51e045"
      },
      "execution_count": null,
      "outputs": [
        {
          "output_type": "execute_result",
          "data": {
            "text/plain": [
              "array([[30.148031]], dtype=float32)"
            ]
          },
          "metadata": {},
          "execution_count": 33
        }
      ]
    },
    {
      "cell_type": "code",
      "source": [
        "# Let see if we can make another to improve the model\n",
        "\n",
        "#1. Create the model (with an extra hidden layer with 100 hidden units)\n",
        "model = tf.keras.Sequential([\n",
        "  tf.keras.layers.Dense(50, activation=None),\n",
        "  tf.keras.layers.Dense(1)\n",
        "])\n",
        "\n",
        "# 2. Compile the model\n",
        "model.compile(loss=tf.keras.losses.mae,\n",
        "              optimizer=tf.keras.optimizers.Adam(lr=0.01),\n",
        "              metrics=[\"mae\"])\n",
        "\n",
        "# 3. Fit the model\n",
        "model.fit(tf.expand_dims(X, axis=-1), y, epochs=100)"
      ],
      "metadata": {
        "colab": {
          "base_uri": "https://localhost:8080/"
        },
        "id": "j2SxbjZAp_P3",
        "outputId": "b2f979f4-71ac-4228-e8a6-717493fd5c64"
      },
      "execution_count": null,
      "outputs": [
        {
          "output_type": "stream",
          "name": "stdout",
          "text": [
            "Epoch 1/100\n"
          ]
        },
        {
          "output_type": "stream",
          "name": "stderr",
          "text": [
            "/usr/local/lib/python3.7/dist-packages/keras/optimizer_v2/adam.py:105: UserWarning: The `lr` argument is deprecated, use `learning_rate` instead.\n",
            "  super(Adam, self).__init__(name, **kwargs)\n"
          ]
        },
        {
          "output_type": "stream",
          "name": "stdout",
          "text": [
            "1/1 [==============================] - 1s 723ms/step - loss: 13.2703 - mae: 13.2703\n",
            "Epoch 2/100\n",
            "1/1 [==============================] - 0s 18ms/step - loss: 12.5250 - mae: 12.5250\n",
            "Epoch 3/100\n",
            "1/1 [==============================] - 0s 16ms/step - loss: 11.7812 - mae: 11.7812\n",
            "Epoch 4/100\n",
            "1/1 [==============================] - 0s 14ms/step - loss: 11.0378 - mae: 11.0378\n",
            "Epoch 5/100\n",
            "1/1 [==============================] - 0s 14ms/step - loss: 10.2938 - mae: 10.2938\n",
            "Epoch 6/100\n",
            "1/1 [==============================] - 0s 16ms/step - loss: 9.5467 - mae: 9.5467\n",
            "Epoch 7/100\n",
            "1/1 [==============================] - 0s 16ms/step - loss: 8.7931 - mae: 8.7931\n",
            "Epoch 8/100\n",
            "1/1 [==============================] - 0s 15ms/step - loss: 8.0291 - mae: 8.0291\n",
            "Epoch 9/100\n",
            "1/1 [==============================] - 0s 14ms/step - loss: 7.2503 - mae: 7.2503\n",
            "Epoch 10/100\n",
            "1/1 [==============================] - 0s 14ms/step - loss: 6.7960 - mae: 6.7960\n",
            "Epoch 11/100\n",
            "1/1 [==============================] - 0s 14ms/step - loss: 7.0082 - mae: 7.0082\n",
            "Epoch 12/100\n",
            "1/1 [==============================] - 0s 18ms/step - loss: 7.3014 - mae: 7.3014\n",
            "Epoch 13/100\n",
            "1/1 [==============================] - 0s 12ms/step - loss: 7.5645 - mae: 7.5645\n",
            "Epoch 14/100\n",
            "1/1 [==============================] - 0s 12ms/step - loss: 7.6614 - mae: 7.6614\n",
            "Epoch 15/100\n",
            "1/1 [==============================] - 0s 12ms/step - loss: 7.5552 - mae: 7.5552\n",
            "Epoch 16/100\n",
            "1/1 [==============================] - 0s 12ms/step - loss: 7.2964 - mae: 7.2964\n",
            "Epoch 17/100\n",
            "1/1 [==============================] - 0s 9ms/step - loss: 6.9951 - mae: 6.9951\n",
            "Epoch 18/100\n",
            "1/1 [==============================] - 0s 10ms/step - loss: 6.7334 - mae: 6.7334\n",
            "Epoch 19/100\n",
            "1/1 [==============================] - 0s 10ms/step - loss: 6.4536 - mae: 6.4536\n",
            "Epoch 20/100\n",
            "1/1 [==============================] - 0s 12ms/step - loss: 6.1766 - mae: 6.1766\n",
            "Epoch 21/100\n",
            "1/1 [==============================] - 0s 11ms/step - loss: 6.1302 - mae: 6.1302\n",
            "Epoch 22/100\n",
            "1/1 [==============================] - 0s 10ms/step - loss: 6.0796 - mae: 6.0796\n",
            "Epoch 23/100\n",
            "1/1 [==============================] - 0s 11ms/step - loss: 6.2292 - mae: 6.2292\n",
            "Epoch 24/100\n",
            "1/1 [==============================] - 0s 11ms/step - loss: 6.2683 - mae: 6.2683\n",
            "Epoch 25/100\n",
            "1/1 [==============================] - 0s 15ms/step - loss: 6.2046 - mae: 6.2046\n",
            "Epoch 26/100\n",
            "1/1 [==============================] - 0s 12ms/step - loss: 6.0514 - mae: 6.0514\n",
            "Epoch 27/100\n",
            "1/1 [==============================] - 0s 10ms/step - loss: 5.8186 - mae: 5.8186\n",
            "Epoch 28/100\n",
            "1/1 [==============================] - 0s 11ms/step - loss: 5.6045 - mae: 5.6045\n",
            "Epoch 29/100\n",
            "1/1 [==============================] - 0s 18ms/step - loss: 5.5011 - mae: 5.5011\n",
            "Epoch 30/100\n",
            "1/1 [==============================] - 0s 17ms/step - loss: 5.3953 - mae: 5.3953\n",
            "Epoch 31/100\n",
            "1/1 [==============================] - 0s 15ms/step - loss: 5.4195 - mae: 5.4195\n",
            "Epoch 32/100\n",
            "1/1 [==============================] - 0s 13ms/step - loss: 5.4082 - mae: 5.4082\n",
            "Epoch 33/100\n",
            "1/1 [==============================] - 0s 14ms/step - loss: 5.3497 - mae: 5.3497\n",
            "Epoch 34/100\n",
            "1/1 [==============================] - 0s 13ms/step - loss: 5.2479 - mae: 5.2479\n",
            "Epoch 35/100\n",
            "1/1 [==============================] - 0s 14ms/step - loss: 5.1065 - mae: 5.1065\n",
            "Epoch 36/100\n",
            "1/1 [==============================] - 0s 13ms/step - loss: 4.9289 - mae: 4.9289\n",
            "Epoch 37/100\n",
            "1/1 [==============================] - 0s 14ms/step - loss: 4.7183 - mae: 4.7183\n",
            "Epoch 38/100\n",
            "1/1 [==============================] - 0s 14ms/step - loss: 4.6246 - mae: 4.6246\n",
            "Epoch 39/100\n",
            "1/1 [==============================] - 0s 14ms/step - loss: 4.5242 - mae: 4.5242\n",
            "Epoch 40/100\n",
            "1/1 [==============================] - 0s 11ms/step - loss: 4.4170 - mae: 4.4170\n",
            "Epoch 41/100\n",
            "1/1 [==============================] - 0s 12ms/step - loss: 4.3248 - mae: 4.3248\n",
            "Epoch 42/100\n",
            "1/1 [==============================] - 0s 9ms/step - loss: 4.1730 - mae: 4.1730\n",
            "Epoch 43/100\n",
            "1/1 [==============================] - 0s 27ms/step - loss: 4.0365 - mae: 4.0365\n",
            "Epoch 44/100\n",
            "1/1 [==============================] - 0s 15ms/step - loss: 3.8934 - mae: 3.8934\n",
            "Epoch 45/100\n",
            "1/1 [==============================] - 0s 20ms/step - loss: 3.7432 - mae: 3.7432\n",
            "Epoch 46/100\n",
            "1/1 [==============================] - 0s 19ms/step - loss: 3.5859 - mae: 3.5859\n",
            "Epoch 47/100\n",
            "1/1 [==============================] - 0s 18ms/step - loss: 3.4210 - mae: 3.4210\n",
            "Epoch 48/100\n",
            "1/1 [==============================] - 0s 16ms/step - loss: 3.2484 - mae: 3.2484\n",
            "Epoch 49/100\n",
            "1/1 [==============================] - 0s 16ms/step - loss: 3.1341 - mae: 3.1341\n",
            "Epoch 50/100\n",
            "1/1 [==============================] - 0s 15ms/step - loss: 2.9584 - mae: 2.9584\n",
            "Epoch 51/100\n",
            "1/1 [==============================] - 0s 15ms/step - loss: 2.7216 - mae: 2.7216\n",
            "Epoch 52/100\n",
            "1/1 [==============================] - 0s 9ms/step - loss: 2.5400 - mae: 2.5400\n",
            "Epoch 53/100\n",
            "1/1 [==============================] - 0s 9ms/step - loss: 2.4129 - mae: 2.4129\n",
            "Epoch 54/100\n",
            "1/1 [==============================] - 0s 14ms/step - loss: 2.1985 - mae: 2.1985\n",
            "Epoch 55/100\n",
            "1/1 [==============================] - 0s 11ms/step - loss: 1.9179 - mae: 1.9179\n",
            "Epoch 56/100\n",
            "1/1 [==============================] - 0s 11ms/step - loss: 1.7472 - mae: 1.7472\n",
            "Epoch 57/100\n",
            "1/1 [==============================] - 0s 13ms/step - loss: 1.5610 - mae: 1.5610\n",
            "Epoch 58/100\n",
            "1/1 [==============================] - 0s 13ms/step - loss: 1.2994 - mae: 1.2994\n",
            "Epoch 59/100\n",
            "1/1 [==============================] - 0s 13ms/step - loss: 0.9737 - mae: 0.9737\n",
            "Epoch 60/100\n",
            "1/1 [==============================] - 0s 19ms/step - loss: 0.7722 - mae: 0.7722\n",
            "Epoch 61/100\n",
            "1/1 [==============================] - 0s 10ms/step - loss: 0.4530 - mae: 0.4530\n",
            "Epoch 62/100\n",
            "1/1 [==============================] - 0s 13ms/step - loss: 0.2083 - mae: 0.2083\n",
            "Epoch 63/100\n",
            "1/1 [==============================] - 0s 17ms/step - loss: 0.1969 - mae: 0.1969\n",
            "Epoch 64/100\n",
            "1/1 [==============================] - 0s 11ms/step - loss: 0.3997 - mae: 0.3997\n",
            "Epoch 65/100\n",
            "1/1 [==============================] - 0s 10ms/step - loss: 0.5238 - mae: 0.5238\n",
            "Epoch 66/100\n",
            "1/1 [==============================] - 0s 10ms/step - loss: 0.6391 - mae: 0.6391\n",
            "Epoch 67/100\n",
            "1/1 [==============================] - 0s 10ms/step - loss: 0.7089 - mae: 0.7089\n",
            "Epoch 68/100\n",
            "1/1 [==============================] - 0s 17ms/step - loss: 0.7441 - mae: 0.7441\n",
            "Epoch 69/100\n",
            "1/1 [==============================] - 0s 14ms/step - loss: 0.7512 - mae: 0.7512\n",
            "Epoch 70/100\n",
            "1/1 [==============================] - 0s 10ms/step - loss: 0.7194 - mae: 0.7194\n",
            "Epoch 71/100\n",
            "1/1 [==============================] - 0s 10ms/step - loss: 0.5930 - mae: 0.5930\n",
            "Epoch 72/100\n",
            "1/1 [==============================] - 0s 7ms/step - loss: 0.5698 - mae: 0.5698\n",
            "Epoch 73/100\n",
            "1/1 [==============================] - 0s 11ms/step - loss: 0.4295 - mae: 0.4295\n",
            "Epoch 74/100\n",
            "1/1 [==============================] - 0s 8ms/step - loss: 0.2582 - mae: 0.2582\n",
            "Epoch 75/100\n",
            "1/1 [==============================] - 0s 8ms/step - loss: 0.1181 - mae: 0.1181\n",
            "Epoch 76/100\n",
            "1/1 [==============================] - 0s 10ms/step - loss: 0.3206 - mae: 0.3206\n",
            "Epoch 77/100\n",
            "1/1 [==============================] - 0s 12ms/step - loss: 0.3800 - mae: 0.3800\n",
            "Epoch 78/100\n",
            "1/1 [==============================] - 0s 18ms/step - loss: 0.3746 - mae: 0.3746\n",
            "Epoch 79/100\n",
            "1/1 [==============================] - 0s 16ms/step - loss: 0.4747 - mae: 0.4747\n",
            "Epoch 80/100\n",
            "1/1 [==============================] - 0s 17ms/step - loss: 0.3990 - mae: 0.3990\n",
            "Epoch 81/100\n",
            "1/1 [==============================] - 0s 11ms/step - loss: 0.5414 - mae: 0.5414\n",
            "Epoch 82/100\n",
            "1/1 [==============================] - 0s 13ms/step - loss: 0.5772 - mae: 0.5772\n",
            "Epoch 83/100\n",
            "1/1 [==============================] - 0s 9ms/step - loss: 0.3570 - mae: 0.3570\n",
            "Epoch 84/100\n",
            "1/1 [==============================] - 0s 14ms/step - loss: 0.3991 - mae: 0.3991\n",
            "Epoch 85/100\n",
            "1/1 [==============================] - 0s 17ms/step - loss: 0.4704 - mae: 0.4704\n",
            "Epoch 86/100\n",
            "1/1 [==============================] - 0s 12ms/step - loss: 0.3493 - mae: 0.3493\n",
            "Epoch 87/100\n",
            "1/1 [==============================] - 0s 17ms/step - loss: 0.0943 - mae: 0.0943\n",
            "Epoch 88/100\n",
            "1/1 [==============================] - 0s 20ms/step - loss: 0.2693 - mae: 0.2693\n",
            "Epoch 89/100\n",
            "1/1 [==============================] - 0s 16ms/step - loss: 0.2045 - mae: 0.2045\n",
            "Epoch 90/100\n",
            "1/1 [==============================] - 0s 14ms/step - loss: 0.2342 - mae: 0.2342\n",
            "Epoch 91/100\n",
            "1/1 [==============================] - 0s 19ms/step - loss: 0.2126 - mae: 0.2126\n",
            "Epoch 92/100\n",
            "1/1 [==============================] - 0s 16ms/step - loss: 0.1289 - mae: 0.1289\n",
            "Epoch 93/100\n",
            "1/1 [==============================] - 0s 17ms/step - loss: 0.1841 - mae: 0.1841\n",
            "Epoch 94/100\n",
            "1/1 [==============================] - 0s 16ms/step - loss: 0.1011 - mae: 0.1011\n",
            "Epoch 95/100\n",
            "1/1 [==============================] - 0s 11ms/step - loss: 0.1366 - mae: 0.1366\n",
            "Epoch 96/100\n",
            "1/1 [==============================] - 0s 9ms/step - loss: 0.0837 - mae: 0.0837\n",
            "Epoch 97/100\n",
            "1/1 [==============================] - 0s 10ms/step - loss: 0.0741 - mae: 0.0741\n",
            "Epoch 98/100\n",
            "1/1 [==============================] - 0s 7ms/step - loss: 0.0727 - mae: 0.0727\n",
            "Epoch 99/100\n",
            "1/1 [==============================] - 0s 6ms/step - loss: 0.1135 - mae: 0.1135\n",
            "Epoch 100/100\n",
            "1/1 [==============================] - 0s 6ms/step - loss: 0.0841 - mae: 0.0841\n"
          ]
        },
        {
          "output_type": "execute_result",
          "data": {
            "text/plain": [
              "<keras.callbacks.History at 0x7f06ee5fa590>"
            ]
          },
          "metadata": {},
          "execution_count": 34
        }
      ]
    },
    {
      "cell_type": "code",
      "source": [
        "# Let's remind ourselves of the data\n",
        "X, y"
      ],
      "metadata": {
        "colab": {
          "base_uri": "https://localhost:8080/"
        },
        "id": "wK7E0g4tsOAm",
        "outputId": "b4d27e6a-a937-4d9a-f6c1-72caa505f757"
      },
      "execution_count": null,
      "outputs": [
        {
          "output_type": "execute_result",
          "data": {
            "text/plain": [
              "(<tf.Tensor: shape=(8,), dtype=float64, numpy=array([-7., -4., -1.,  2.,  5.,  8., 11., 14.])>,\n",
              " <tf.Tensor: shape=(8,), dtype=float64, numpy=array([ 3.,  6.,  9., 12., 15., 18., 21., 24.])>)"
            ]
          },
          "metadata": {},
          "execution_count": 35
        }
      ]
    },
    {
      "cell_type": "code",
      "source": [
        "# Let's try to make a prediction\n",
        "model.predict([17.0])"
      ],
      "metadata": {
        "colab": {
          "base_uri": "https://localhost:8080/"
        },
        "id": "29GafxKKsmA6",
        "outputId": "17b47f92-710d-4dd7-948c-848db6507d9e"
      },
      "execution_count": null,
      "outputs": [
        {
          "output_type": "execute_result",
          "data": {
            "text/plain": [
              "array([[26.841167]], dtype=float32)"
            ]
          },
          "metadata": {},
          "execution_count": 36
        }
      ]
    },
    {
      "cell_type": "markdown",
      "source": [
        "## Evaluating a model\n",
        "\n",
        "In practice, a typical workflow you'll go through when building neural network is:\n",
        "\n",
        "Build a model => fit it -> evaluate it => tweak it=> fit it => ..."
      ],
      "metadata": {
        "id": "cXVLQ64ossR7"
      }
    },
    {
      "cell_type": "markdown",
      "source": [
        "When it comes to evaluation...there are 3words you shoul memorie:\n",
        "\"Visualize, Visuallize, visualize\"\n",
        "It's a good idea to visualize?\n",
        "* The data - what data are we working with? what does it look like?\n",
        "* The model itself - what does our model look like?\n",
        "* The traning of a model - how does a model perform while it learns\n",
        "* The predictions of a odel - how do the precisions of a model line up against the grould truth("
      ],
      "metadata": {
        "id": "G12ip5R0vRIm"
      }
    },
    {
      "cell_type": "code",
      "source": [
        "# Make a bigger dataset\n",
        "X = tf.range(-100, 100,4)\n",
        "X"
      ],
      "metadata": {
        "colab": {
          "base_uri": "https://localhost:8080/"
        },
        "id": "QdJjkagcvppW",
        "outputId": "396af262-f54b-4c24-9d84-04edba4e6b02"
      },
      "execution_count": 5,
      "outputs": [
        {
          "output_type": "execute_result",
          "data": {
            "text/plain": [
              "<tf.Tensor: shape=(50,), dtype=int32, numpy=\n",
              "array([-100,  -96,  -92,  -88,  -84,  -80,  -76,  -72,  -68,  -64,  -60,\n",
              "        -56,  -52,  -48,  -44,  -40,  -36,  -32,  -28,  -24,  -20,  -16,\n",
              "        -12,   -8,   -4,    0,    4,    8,   12,   16,   20,   24,   28,\n",
              "         32,   36,   40,   44,   48,   52,   56,   60,   64,   68,   72,\n",
              "         76,   80,   84,   88,   92,   96], dtype=int32)>"
            ]
          },
          "metadata": {},
          "execution_count": 5
        }
      ]
    },
    {
      "cell_type": "code",
      "source": [
        "# Make labels for the dataset\n",
        "y = X + 10\n",
        "y"
      ],
      "metadata": {
        "colab": {
          "base_uri": "https://localhost:8080/"
        },
        "id": "eQm9jlfzwjxz",
        "outputId": "f4cce9cd-a459-49c4-8652-4bedf2995fe3"
      },
      "execution_count": 6,
      "outputs": [
        {
          "output_type": "execute_result",
          "data": {
            "text/plain": [
              "<tf.Tensor: shape=(50,), dtype=int32, numpy=\n",
              "array([-90, -86, -82, -78, -74, -70, -66, -62, -58, -54, -50, -46, -42,\n",
              "       -38, -34, -30, -26, -22, -18, -14, -10,  -6,  -2,   2,   6,  10,\n",
              "        14,  18,  22,  26,  30,  34,  38,  42,  46,  50,  54,  58,  62,\n",
              "        66,  70,  74,  78,  82,  86,  90,  94,  98, 102, 106], dtype=int32)>"
            ]
          },
          "metadata": {},
          "execution_count": 6
        }
      ]
    },
    {
      "cell_type": "code",
      "source": [
        "# Visualize the data\n",
        "import matplotlib.pyplot as plt\n",
        "plt.scatter(X, y)"
      ],
      "metadata": {
        "colab": {
          "base_uri": "https://localhost:8080/",
          "height": 283
        },
        "id": "S__p2-Nuwqih",
        "outputId": "e81a41af-d173-4ef5-d531-375d9d81df9f"
      },
      "execution_count": 7,
      "outputs": [
        {
          "output_type": "execute_result",
          "data": {
            "text/plain": [
              "<matplotlib.collections.PathCollection at 0x7fa9d13a2bd0>"
            ]
          },
          "metadata": {},
          "execution_count": 7
        },
        {
          "output_type": "display_data",
          "data": {
            "text/plain": [
              "<Figure size 432x288 with 1 Axes>"
            ],
            "image/png": "[encoded data removed]"
          },
          "metadata": {
            "needs_background": "light"
          }
        }
      ]
    },
    {
      "cell_type": "markdown",
      "source": [
        "### The 3 sets\n",
        "\n",
        "* **Training set** - the model learns from this data, which is typically 70-80% of total data you have available.\n",
        "* **Validation set** - the model gets tuned on this data, which is typically 10-15% of the data available\n",
        "* **Test set** - the model gets evaluated on this data to test what it has learned, this set is typically 10-15% of the total data available."
      ],
      "metadata": {
        "id": "9vw_GRcZxA2Y"
      }
    },
    {
      "cell_type": "code",
      "source": [
        "# Check the length of how many samples we have\n",
        "len(X)"
      ],
      "metadata": {
        "colab": {
          "base_uri": "https://localhost:8080/"
        },
        "id": "it4sbTi4sZD0",
        "outputId": "5907494d-8a10-4b46-abb3-306645ef6f6f"
      },
      "execution_count": 8,
      "outputs": [
        {
          "output_type": "execute_result",
          "data": {
            "text/plain": [
              "50"
            ]
          },
          "metadata": {},
          "execution_count": 8
        }
      ]
    },
    {
      "cell_type": "code",
      "source": [
        "# Split the data into train and test sets\n",
        "X_train = X[:40] # first 40 are training samples (80% of the data)\n",
        "y_train = y[:40] # first 40 are training samples (80% of the data)\n",
        "\n",
        "X_test = X[40:] # last 10 are testing samples (20% of the data)\n",
        "y_test = y[40:] # last 10 are testing samples (20% of the data)\n",
        "\n",
        "len(X_train), len(X_test)"
      ],
      "metadata": {
        "colab": {
          "base_uri": "https://localhost:8080/"
        },
        "id": "Bg2f6B-mttFU",
        "outputId": "78b209da-cded-4ed7-d919-96d5aa23b000"
      },
      "execution_count": 9,
      "outputs": [
        {
          "output_type": "execute_result",
          "data": {
            "text/plain": [
              "(40, 10)"
            ]
          },
          "metadata": {},
          "execution_count": 9
        }
      ]
    },
    {
      "cell_type": "markdown",
      "source": [
        "### Visualing the data\n",
        "\n",
        "Now we've got our data in training and test sets... let's visualize it again!"
      ],
      "metadata": {
        "id": "sBjkoOXUuVjT"
      }
    },
    {
      "cell_type": "code",
      "source": [
        "plt.figure(figsize=(10, 7))\n",
        "# Plot training data in blue\n",
        "plt.scatter(X_train, y_train, c=\"b\", label=\"Training data\")\n",
        "# Plot test data in green\n",
        "plt.scatter(X_test, y_test, c=\"g\", label=\"Testing data\")\n",
        "# Show a legend\n",
        "plt.legend()"
      ],
      "metadata": {
        "colab": {
          "base_uri": "https://localhost:8080/",
          "height": 446
        },
        "id": "Q5RWbLmouxGI",
        "outputId": "12134722-bd5c-40c4-809b-92afda04f1c7"
      },
      "execution_count": 10,
      "outputs": [
        {
          "output_type": "execute_result",
          "data": {
            "text/plain": [
              "<matplotlib.legend.Legend at 0x7fa9d0e2ec90>"
            ]
          },
          "metadata": {},
          "execution_count": 10
        },
        {
          "output_type": "display_data",
          "data": {
            "text/plain": [
              "<Figure size 720x504 with 1 Axes>"
            ],
            "image/png": "[encoded data removed]"
          },
          "metadata": {
            "needs_background": "light"
          }
        }
      ]
    },
    {
      "cell_type": "code",
      "source": [
        "# Let's have a look at how to build a neural network for our data\n",
        "\n",
        "# 1. Create a model\n",
        "model = tf.keras.Sequential(\n",
        "    [\n",
        "     tf.keras.layers.Dense(1)\n",
        "    ]\n",
        ")\n",
        "\n",
        "# 2. Compile the model\n",
        "model.compile(loss=tf.keras.losses.mae,\n",
        "              optimizer=tf.keras.optimizers.SGD(),\n",
        "              metrics=[\"mae\"])\n",
        "\n",
        "#3. Fit the model\n",
        "#model.fit(X_train, y_train, epochs=100)"
      ],
      "metadata": {
        "id": "_gHcfCiavJyq"
      },
      "execution_count": 11,
      "outputs": []
    },
    {
      "cell_type": "markdown",
      "source": [
        "### Visualize the model"
      ],
      "metadata": {
        "id": "fpIVkzKoxhOy"
      }
    },
    {
      "cell_type": "code",
      "source": [
        "model.summary()"
      ],
      "metadata": {
        "colab": {
          "base_uri": "https://localhost:8080/",
          "height": 299
        },
        "id": "ETmEWZbNxkNi",
        "outputId": "2049801e-bd86-4c59-b875-54c07c4cb321"
      },
      "execution_count": 12,
      "outputs": [
        {
          "output_type": "error",
          "ename": "ValueError",
          "evalue": "ignored",
          "traceback": [
            "\u001b[0;31m---------------------------------------------------------------------------\u001b[0m",
            "\u001b[0;31mValueError\u001b[0m                                Traceback (most recent call last)",
            "\u001b[0;32m<ipython-input-12-5f15418b3570>\u001b[0m in \u001b[0;36m<module>\u001b[0;34m()\u001b[0m\n\u001b[0;32m----> 1\u001b[0;31m \u001b[0mmodel\u001b[0m\u001b[0;34m.\u001b[0m\u001b[0msummary\u001b[0m\u001b[0;34m(\u001b[0m\u001b[0;34m)\u001b[0m\u001b[0;34m\u001b[0m\u001b[0;34m\u001b[0m\u001b[0m\n\u001b[0m",
            "\u001b[0;32m/usr/local/lib/python3.7/dist-packages/keras/engine/training.py\u001b[0m in \u001b[0;36msummary\u001b[0;34m(self, line_length, positions, print_fn, expand_nested, show_trainable)\u001b[0m\n\u001b[1;32m   2774\u001b[0m     \u001b[0;32mif\u001b[0m \u001b[0;32mnot\u001b[0m \u001b[0mself\u001b[0m\u001b[0;34m.\u001b[0m\u001b[0mbuilt\u001b[0m\u001b[0;34m:\u001b[0m\u001b[0;34m\u001b[0m\u001b[0;34m\u001b[0m\u001b[0m\n\u001b[1;32m   2775\u001b[0m       raise ValueError(\n\u001b[0;32m-> 2776\u001b[0;31m           \u001b[0;34m'This model has not yet been built. '\u001b[0m\u001b[0;34m\u001b[0m\u001b[0;34m\u001b[0m\u001b[0m\n\u001b[0m\u001b[1;32m   2777\u001b[0m           \u001b[0;34m'Build the model first by calling `build()` or by calling '\u001b[0m\u001b[0;34m\u001b[0m\u001b[0;34m\u001b[0m\u001b[0m\n\u001b[1;32m   2778\u001b[0m           'the model on a batch of data.')\n",
            "\u001b[0;31mValueError\u001b[0m: This model has not yet been built. Build the model first by calling `build()` or by calling the model on a batch of data."
          ]
        }
      ]
    },
    {
      "cell_type": "code",
      "source": [
        "X[0], y[0]"
      ],
      "metadata": {
        "colab": {
          "base_uri": "https://localhost:8080/"
        },
        "id": "HkzZ1edzycnD",
        "outputId": "9379fe65-ef41-4420-f5e0-f3f852cf8856"
      },
      "execution_count": 13,
      "outputs": [
        {
          "output_type": "execute_result",
          "data": {
            "text/plain": [
              "(<tf.Tensor: shape=(), dtype=int32, numpy=-100>,\n",
              " <tf.Tensor: shape=(), dtype=int32, numpy=-90>)"
            ]
          },
          "metadata": {},
          "execution_count": 13
        }
      ]
    },
    {
      "cell_type": "code",
      "source": [
        "# Let's create a model which builds automatically by defining the input_shape argument\n",
        "tf.random.set_seed(24)\n",
        "\n",
        "# 1. Create a model (same as above)\n",
        "model = tf.keras.Sequential([\n",
        "  tf.keras.layers.Dense(1, input_shape=[1])                               \n",
        "])\n",
        "\n",
        "# 2. Compile the model (same as above)\n",
        "model.compile(loss=tf.keras.losses.mae,\n",
        "              optimizer=tf.keras.optimizers.SGD(),\n",
        "              metrics=[\"mae\"])"
      ],
      "metadata": {
        "id": "ABPpXIyhxoC6"
      },
      "execution_count": 14,
      "outputs": []
    },
    {
      "cell_type": "code",
      "source": [
        "model.summary()"
      ],
      "metadata": {
        "colab": {
          "base_uri": "https://localhost:8080/"
        },
        "id": "w0g6ZXZXy6D6",
        "outputId": "d0255b79-defd-4d8f-c58f-1b91fef9403f"
      },
      "execution_count": 15,
      "outputs": [
        {
          "output_type": "stream",
          "name": "stdout",
          "text": [
            "Model: \"sequential_1\"\n",
            "_________________________________________________________________\n",
            " Layer (type)                Output Shape              Param #   \n",
            "=================================================================\n",
            " dense_1 (Dense)             (None, 1)                 2         \n",
            "                                                                 \n",
            "=================================================================\n",
            "Total params: 2\n",
            "Trainable params: 2\n",
            "Non-trainable params: 0\n",
            "_________________________________________________________________\n"
          ]
        }
      ]
    },
    {
      "cell_type": "markdown",
      "source": [
        "* Total params - total number of parameters in the model.\n",
        "* Trainable parameters - these are the parameters (patterns) the model can update as it trains.\n",
        "* Non-trainable params - these parameters aren't updated during training (this is typical when you bring in already learn patterns or parameters from other models during **transfer learning**).\n",
        "\n",
        "**Resource:** For a more in-depth overview of the trainable parameters within a layer, check out MIT's introduction to deep learning video.\n",
        "\n",
        "** Exercise:** Try playing around with the number of hidden units in the dense layer, see how that effects the number of parameters (total and trainable) by calling `model.summary()`."
      ],
      "metadata": {
        "id": "KEqV-plTy74i"
      }
    },
    {
      "cell_type": "markdown",
      "source": [
        "Exercise"
      ],
      "metadata": {
        "id": "hi0E2dFtzj0R"
      }
    },
    {
      "cell_type": "code",
      "source": [
        "model = tf.keras.Sequential([\n",
        "  tf.keras.layers.Dense(10, input_shape=[1], name=\"input_layer\"),\n",
        "  tf.keras.layers.Dense(1, name=\"output\")                          \n",
        "], name=\"models_to_be_built\")\n",
        "\n",
        "model.compile(loss=tf.keras.losses.mae,\n",
        "              optimizer=tf.keras.optimizers.SGD(),\n",
        "              metrics=[\"mae\"])"
      ],
      "metadata": {
        "id": "Dp65h9hiTeqN"
      },
      "execution_count": 16,
      "outputs": []
    },
    {
      "cell_type": "code",
      "source": [
        "model.summary()"
      ],
      "metadata": {
        "colab": {
          "base_uri": "https://localhost:8080/"
        },
        "id": "6UvfOKxnTzCN",
        "outputId": "978bd448-8b19-4f51-c1fe-3d41ab8a7517"
      },
      "execution_count": 17,
      "outputs": [
        {
          "output_type": "stream",
          "name": "stdout",
          "text": [
            "Model: \"models_to_be_built\"\n",
            "_________________________________________________________________\n",
            " Layer (type)                Output Shape              Param #   \n",
            "=================================================================\n",
            " input_layer (Dense)         (None, 10)                20        \n",
            "                                                                 \n",
            " output (Dense)              (None, 1)                 11        \n",
            "                                                                 \n",
            "=================================================================\n",
            "Total params: 31\n",
            "Trainable params: 31\n",
            "Non-trainable params: 0\n",
            "_________________________________________________________________\n"
          ]
        }
      ]
    },
    {
      "cell_type": "code",
      "source": [
        "# Lets 'fit our model to the training data\n",
        "model.fit(X_train, y_train, epochs=100, verbose=0)"
      ],
      "metadata": {
        "colab": {
          "base_uri": "https://localhost:8080/"
        },
        "id": "zvr7UtaUT0ZM",
        "outputId": "8d880ed7-afa2-48b3-c15f-2eca92963dcf"
      },
      "execution_count": null,
      "outputs": [
        {
          "output_type": "execute_result",
          "data": {
            "text/plain": [
              "<keras.callbacks.History at 0x7f06effcf990>"
            ]
          },
          "metadata": {},
          "execution_count": 50
        }
      ]
    },
    {
      "cell_type": "code",
      "source": [
        "# Get a summary of our model\n",
        "model.summary()"
      ],
      "metadata": {
        "colab": {
          "base_uri": "https://localhost:8080/"
        },
        "id": "uuqb_RtUUMDM",
        "outputId": "525639ab-1977-4bbb-cdb3-9bfae6b2c4af"
      },
      "execution_count": null,
      "outputs": [
        {
          "output_type": "stream",
          "name": "stdout",
          "text": [
            "Model: \"models_to_be_built\"\n",
            "_________________________________________________________________\n",
            " Layer (type)                Output Shape              Param #   \n",
            "=================================================================\n",
            " input_layer (Dense)         (None, 10)                20        \n",
            "                                                                 \n",
            " output (Dense)              (None, 1)                 11        \n",
            "                                                                 \n",
            "=================================================================\n",
            "Total params: 31\n",
            "Trainable params: 31\n",
            "Non-trainable params: 0\n",
            "_________________________________________________________________\n"
          ]
        }
      ]
    },
    {
      "cell_type": "code",
      "source": [
        "from tensorflow.keras.utils import plot_model\n",
        "\n",
        "plot_model(model=model, show_shapes=True)"
      ],
      "metadata": {
        "colab": {
          "base_uri": "https://localhost:8080/",
          "height": 312
        },
        "id": "YSvYjw4BXLds",
        "outputId": "6750e1f9-0f08-4ed2-d791-26670177fb25"
      },
      "execution_count": null,
      "outputs": [
        {
          "output_type": "execute_result",
          "data": {
            "text/plain": [
              "<IPython.core.display.Image object>"
            ],
            "image/png": "[encoded data removed]"
          },
          "metadata": {},
          "execution_count": 52
        }
      ]
    },
    {
      "cell_type": "markdown",
      "source": [
        "### Visualizing our models' prediction\n",
        "\n",
        "To visualize predictions, it'sa good idea to plot them against the round truth labels.\n",
        "\n",
        "Often you'll see this in the form of `y_test` or `y_true` versus `y_pred` (ground truth versus your model prediction)"
      ],
      "metadata": {
        "id": "UDVe43TpX7sQ"
      }
    },
    {
      "cell_type": "code",
      "source": [
        "# Make some predictions\n",
        "y_pred = model.predict(X_test)\n",
        "y_pred\n",
        "                      "
      ],
      "metadata": {
        "colab": {
          "base_uri": "https://localhost:8080/"
        },
        "id": "cots9wItZeaB",
        "outputId": "853c81d5-758f-4c49-98c3-4dbf3548e86b"
      },
      "execution_count": 19,
      "outputs": [
        {
          "output_type": "execute_result",
          "data": {
            "text/plain": [
              "array([[15.106327],\n",
              "       [16.113413],\n",
              "       [17.120504],\n",
              "       [18.12759 ],\n",
              "       [19.134684],\n",
              "       [20.141771],\n",
              "       [21.148855],\n",
              "       [22.155945],\n",
              "       [23.163034],\n",
              "       [24.170122]], dtype=float32)"
            ]
          },
          "metadata": {},
          "execution_count": 19
        }
      ]
    },
    {
      "cell_type": "code",
      "source": [
        "y_test"
      ],
      "metadata": {
        "colab": {
          "base_uri": "https://localhost:8080/"
        },
        "id": "2YqVza_iaFOB",
        "outputId": "5d538851-5ac6-4327-9337-88e8e0954467"
      },
      "execution_count": null,
      "outputs": [
        {
          "output_type": "execute_result",
          "data": {
            "text/plain": [
              "<tf.Tensor: shape=(10,), dtype=int32, numpy=array([ 70,  74,  78,  82,  86,  90,  94,  98, 102, 106], dtype=int32)>"
            ]
          },
          "metadata": {},
          "execution_count": 54
        }
      ]
    },
    {
      "cell_type": "markdown",
      "source": [
        "**Note:** If you feel like you're going to reuse some kind of functionality in the future, it's a good idea to turn it into a function."
      ],
      "metadata": {
        "id": "CyRWRh4NaWbG"
      }
    },
    {
      "cell_type": "code",
      "source": [
        "# Let's create a plotting function\n",
        "def plot_predictions(train_data=X_train, \n",
        "                     train_labels=y_train,\n",
        "                     test_data=X_test,\n",
        "                     test_labels=y_test,\n",
        "                     predictions=y_pred):\n",
        "  \"\"\"\n",
        "  Plots training data, test data and compares predictions to ground truth value\n",
        "  \"\"\"\n",
        "\n",
        "  plt.figure(figsize=(10, 7))\n",
        "  # Plot training data in blue\n",
        "  plt.scatter(train_data, train_labels, c=\"b\", label=\"Training data\")\n",
        "\n",
        "  # Plot testing dat in green\n",
        "  plt.scatter(test_data, test_labels, c=\"g\", label=\"Testing data\")\n",
        "\n",
        "  # Plot model's predictions in red\n",
        "  plt.scatter(test_data, predictions, c=\"r\", label=\"Predictions\")\n",
        "\n",
        "  # Show the legend\n",
        "  plt.legend();"
      ],
      "metadata": {
        "id": "X2Nqj5PEaHun"
      },
      "execution_count": 20,
      "outputs": []
    },
    {
      "cell_type": "code",
      "source": [
        "plot_predictions(train_data=X_train,\n",
        "                 train_labels=y_train,\n",
        "                 test_data=X_test,\n",
        "                 test_labels=y_test,\n",
        "                 predictions=y_pred)"
      ],
      "metadata": {
        "colab": {
          "base_uri": "https://localhost:8080/",
          "height": 428
        },
        "id": "bhRAbqDUaV7H",
        "outputId": "816f1b3e-6296-4d70-b615-961c3547d63e"
      },
      "execution_count": null,
      "outputs": [
        {
          "output_type": "display_data",
          "data": {
            "text/plain": [
              "<Figure size 720x504 with 1 Axes>"
            ],
            "image/png": "[encoded data removed]"
          },
          "metadata": {
            "needs_background": "light"
          }
        }
      ]
    },
    {
      "cell_type": "markdown",
      "source": [
        "### Evaluating our model's prediction with regression evaluation metrics\n",
        "\n",
        "Depending on the problem you're working on, there will be different evaluation metrics to evalutate your model's performance.\n",
        "\n",
        "Since we're working on a regression, two of the main metrics:\n",
        "* MAE - mean absolute error, \"on average, how wrong is each of my model's predictions\"\n",
        "* MSE - mean square error, \"square the average errors\""
      ],
      "metadata": {
        "id": "SVwkUH4fbzSV"
      }
    },
    {
      "cell_type": "code",
      "source": [
        "# Evaluate the model on the test\n",
        "model.evaluate(X_test, y_test)"
      ],
      "metadata": {
        "colab": {
          "base_uri": "https://localhost:8080/"
        },
        "id": "Y1lJf2-Rc4lC",
        "outputId": "150c923d-973d-436b-b55a-0ff1c54e8a38"
      },
      "execution_count": null,
      "outputs": [
        {
          "output_type": "stream",
          "name": "stdout",
          "text": [
            "1/1 [==============================] - 0s 138ms/step - loss: 11.3979 - mae: 11.3979\n"
          ]
        },
        {
          "output_type": "execute_result",
          "data": {
            "text/plain": [
              "[11.397873878479004, 11.397873878479004]"
            ]
          },
          "metadata": {},
          "execution_count": 42
        }
      ]
    },
    {
      "cell_type": "code",
      "source": [
        "# Calculate the mean absolute error\n",
        "mae = tf.metrics.mean_absolute_error(y_true=y_test, \n",
        "                                     y_pred=tf.constant(y_pred))\n",
        "mae"
      ],
      "metadata": {
        "colab": {
          "base_uri": "https://localhost:8080/"
        },
        "id": "QYLNHtIuexfL",
        "outputId": "fbec0dc4-8a09-44db-b178-120d62904904"
      },
      "execution_count": null,
      "outputs": [
        {
          "output_type": "execute_result",
          "data": {
            "text/plain": [
              "<tf.Tensor: shape=(10,), dtype=float32, numpy=\n",
              "array([28.675266, 24.835846, 20.996422, 17.325603, 14.390553, 12.191266,\n",
              "       10.727748, 10.      , 10.00802 , 10.775904], dtype=float32)>"
            ]
          },
          "metadata": {},
          "execution_count": 43
        }
      ]
    },
    {
      "cell_type": "code",
      "source": [
        "tf.constant(y_pred)"
      ],
      "metadata": {
        "colab": {
          "base_uri": "https://localhost:8080/"
        },
        "id": "9XyqYj0GepyS",
        "outputId": "28c7549d-251c-4800-b490-1aca6e250c06"
      },
      "execution_count": null,
      "outputs": [
        {
          "output_type": "execute_result",
          "data": {
            "text/plain": [
              "<tf.Tensor: shape=(10, 1), dtype=float32, numpy=\n",
              "array([[59.324734],\n",
              "       [63.164154],\n",
              "       [67.00358 ],\n",
              "       [70.842995],\n",
              "       [74.68241 ],\n",
              "       [78.521835],\n",
              "       [82.36126 ],\n",
              "       [86.20068 ],\n",
              "       [90.0401  ],\n",
              "       [93.87952 ]], dtype=float32)>"
            ]
          },
          "metadata": {},
          "execution_count": 44
        }
      ]
    },
    {
      "cell_type": "code",
      "source": [
        "y_test"
      ],
      "metadata": {
        "colab": {
          "base_uri": "https://localhost:8080/"
        },
        "id": "MmFVC-eteuxR",
        "outputId": "a65d40a5-67f8-4ffb-dacf-13fa9b9b5208"
      },
      "execution_count": null,
      "outputs": [
        {
          "output_type": "execute_result",
          "data": {
            "text/plain": [
              "<tf.Tensor: shape=(10,), dtype=int32, numpy=array([ 70,  74,  78,  82,  86,  90,  94,  98, 102, 106], dtype=int32)>"
            ]
          },
          "metadata": {},
          "execution_count": 45
        }
      ]
    },
    {
      "cell_type": "code",
      "source": [
        "tf.squeeze(y_pred)"
      ],
      "metadata": {
        "colab": {
          "base_uri": "https://localhost:8080/"
        },
        "id": "_YsOl-RFevhS",
        "outputId": "db8a1d44-f64f-4e67-dcce-5d8042e48815"
      },
      "execution_count": null,
      "outputs": [
        {
          "output_type": "execute_result",
          "data": {
            "text/plain": [
              "<tf.Tensor: shape=(10,), dtype=float32, numpy=\n",
              "array([59.324734, 63.164154, 67.00358 , 70.842995, 74.68241 , 78.521835,\n",
              "       82.36126 , 86.20068 , 90.0401  , 93.87952 ], dtype=float32)>"
            ]
          },
          "metadata": {},
          "execution_count": 46
        }
      ]
    },
    {
      "cell_type": "code",
      "source": [
        "# Calculate the mean absolute error\n",
        "mae = tf.metrics.mean_absolute_error(y_true=y_test,\n",
        "                                    y_pred=tf.squeeze(y_pred))\n",
        "mae"
      ],
      "metadata": {
        "colab": {
          "base_uri": "https://localhost:8080/"
        },
        "id": "pVG5WSrRnX_-",
        "outputId": "e973290e-9da7-4454-d263-3e41481f828b"
      },
      "execution_count": null,
      "outputs": [
        {
          "output_type": "execute_result",
          "data": {
            "text/plain": [
              "<tf.Tensor: shape=(), dtype=float32, numpy=11.397873>"
            ]
          },
          "metadata": {},
          "execution_count": 47
        }
      ]
    },
    {
      "cell_type": "code",
      "source": [
        "# Calculate the mean square eror\n",
        "mse = tf.metrics.mean_squared_error(y_true=y_test,\n",
        "                                    y_pred=tf.squeeze(y_pred))\n",
        "mse"
      ],
      "metadata": {
        "colab": {
          "base_uri": "https://localhost:8080/"
        },
        "id": "-5hd5yWcnQYh",
        "outputId": "91024036-9ba3-4ba1-e776-655d8caeee47"
      },
      "execution_count": null,
      "outputs": [
        {
          "output_type": "execute_result",
          "data": {
            "text/plain": [
              "<tf.Tensor: shape=(), dtype=float32, numpy=130.12424>"
            ]
          },
          "metadata": {},
          "execution_count": 48
        }
      ]
    },
    {
      "cell_type": "code",
      "source": [
        "# Make some functions to reuse MAE and MSE\n",
        "def mae(y_true, y_pred):\n",
        "  return tf.metrics.mean_absolute_error(y_true=y_true,\n",
        "                                        y_pred=tf.squeeze(y_pred))\n",
        "  \n",
        "def mse(y_true, y_pred):\n",
        "  return tf.metrics.mean_squared_error(y_true=y_true,\n",
        "                                       y_pred=tf.squeeze(y_pred))"
      ],
      "metadata": {
        "id": "Hbn2In4NoSI6"
      },
      "execution_count": null,
      "outputs": []
    },
    {
      "cell_type": "markdown",
      "source": [
        "### Running experiments to improve our model\n",
        "\n",
        "Build a model => fit it => evaluate it => tweak it => fit it => eva ...\n",
        "\n",
        "1. Get more data - get more examples for your model to train on (more opportunities to learn patterns or relationships between features and labels).\n",
        "2. Make you model larger (using a more complex model) - this might come in the form of more layers or more hidden units in each layer.\n",
        "3. Train for longer - give your model more of a chance to find patterns in the data\n",
        "\n",
        "Let's do 3 modelling experiments:\n",
        "\n",
        "1. `model_1` - same as original model, 1 layer, trained for 100 epochs.\n",
        "2. `model_2` - 2 layers, trained for 100 epochs\n",
        "3. `model_3` - 2 layers, trained for 500 epochs"
      ],
      "metadata": {
        "id": "kQWHifHNqAWQ"
      }
    },
    {
      "cell_type": "markdown",
      "source": [
        "Build `model_1`"
      ],
      "metadata": {
        "id": "H0vXPcccsEh4"
      }
    },
    {
      "cell_type": "code",
      "source": [
        "# Set random seed\n",
        "tf.random.set_seed(24)\n",
        "\n",
        "# 1. Create the model\n",
        "model_1 = tf.keras.Sequential([\n",
        "  tf.keras.layers.Dense(1)\n",
        "])\n",
        "\n",
        "# 2. Compile the model\n",
        "model_1.compile(loss=tf.keras.losses.mae,\n",
        "                optimizer=tf.keras.optimizers.SGD(),\n",
        "                metrics=[\"mae\"])\n",
        "\n",
        "# 3. Fit the model\n",
        "model_1.fit(tf.expand_dims(X_train, axis=-1), y_train, epochs=100)"
      ],
      "metadata": {
        "colab": {
          "base_uri": "https://localhost:8080/"
        },
        "id": "Rg7Hj3i9qZwP",
        "outputId": "746f07b6-9aca-40d2-e233-de2901da0e1f"
      },
      "execution_count": null,
      "outputs": [
        {
          "output_type": "stream",
          "name": "stdout",
          "text": [
            "Epoch 1/100\n",
            "2/2 [==============================] - 0s 5ms/step - loss: 95.2833 - mae: 95.2833\n",
            "Epoch 2/100\n",
            "2/2 [==============================] - 0s 7ms/step - loss: 60.9137 - mae: 60.9137\n",
            "Epoch 3/100\n",
            "2/2 [==============================] - 0s 3ms/step - loss: 30.4818 - mae: 30.4818\n",
            "Epoch 4/100\n",
            "2/2 [==============================] - 0s 4ms/step - loss: 7.9957 - mae: 7.9957\n",
            "Epoch 5/100\n",
            "2/2 [==============================] - 0s 8ms/step - loss: 9.6778 - mae: 9.6778\n",
            "Epoch 6/100\n",
            "2/2 [==============================] - 0s 4ms/step - loss: 11.1314 - mae: 11.1314\n",
            "Epoch 7/100\n",
            "2/2 [==============================] - 0s 5ms/step - loss: 10.2098 - mae: 10.2098\n",
            "Epoch 8/100\n",
            "2/2 [==============================] - 0s 6ms/step - loss: 10.3906 - mae: 10.3906\n",
            "Epoch 9/100\n",
            "2/2 [==============================] - 0s 15ms/step - loss: 7.6215 - mae: 7.6215\n",
            "Epoch 10/100\n",
            "2/2 [==============================] - 0s 4ms/step - loss: 9.4041 - mae: 9.4041\n",
            "Epoch 11/100\n",
            "2/2 [==============================] - 0s 8ms/step - loss: 8.5834 - mae: 8.5834\n",
            "Epoch 12/100\n",
            "2/2 [==============================] - 0s 5ms/step - loss: 9.1407 - mae: 9.1407\n",
            "Epoch 13/100\n",
            "2/2 [==============================] - 0s 4ms/step - loss: 9.7856 - mae: 9.7856\n",
            "Epoch 14/100\n",
            "2/2 [==============================] - 0s 4ms/step - loss: 10.5360 - mae: 10.5360\n",
            "Epoch 15/100\n",
            "2/2 [==============================] - 0s 3ms/step - loss: 19.1407 - mae: 19.1407\n",
            "Epoch 16/100\n",
            "2/2 [==============================] - 0s 3ms/step - loss: 15.3038 - mae: 15.3038\n",
            "Epoch 17/100\n",
            "2/2 [==============================] - 0s 3ms/step - loss: 9.1613 - mae: 9.1613\n",
            "Epoch 18/100\n",
            "2/2 [==============================] - 0s 3ms/step - loss: 10.5857 - mae: 10.5857\n",
            "Epoch 19/100\n",
            "2/2 [==============================] - 0s 3ms/step - loss: 10.0745 - mae: 10.0745\n",
            "Epoch 20/100\n",
            "2/2 [==============================] - 0s 3ms/step - loss: 10.8056 - mae: 10.8056\n",
            "Epoch 21/100\n",
            "2/2 [==============================] - 0s 3ms/step - loss: 18.6508 - mae: 18.6508\n",
            "Epoch 22/100\n",
            "2/2 [==============================] - 0s 3ms/step - loss: 9.3504 - mae: 9.3504\n",
            "Epoch 23/100\n",
            "2/2 [==============================] - 0s 3ms/step - loss: 11.0557 - mae: 11.0557\n",
            "Epoch 24/100\n",
            "2/2 [==============================] - 0s 3ms/step - loss: 7.3813 - mae: 7.3813\n",
            "Epoch 25/100\n",
            "2/2 [==============================] - 0s 3ms/step - loss: 9.0258 - mae: 9.0258\n",
            "Epoch 26/100\n",
            "2/2 [==============================] - 0s 3ms/step - loss: 10.1856 - mae: 10.1856\n",
            "Epoch 27/100\n",
            "2/2 [==============================] - 0s 4ms/step - loss: 7.4433 - mae: 7.4433\n",
            "Epoch 28/100\n",
            "2/2 [==============================] - 0s 4ms/step - loss: 10.4414 - mae: 10.4414\n",
            "Epoch 29/100\n",
            "2/2 [==============================] - 0s 3ms/step - loss: 8.9991 - mae: 8.9991\n",
            "Epoch 30/100\n",
            "2/2 [==============================] - 0s 4ms/step - loss: 9.6126 - mae: 9.6126\n",
            "Epoch 31/100\n",
            "2/2 [==============================] - 0s 12ms/step - loss: 14.0409 - mae: 14.0409\n",
            "Epoch 32/100\n",
            "2/2 [==============================] - 0s 7ms/step - loss: 11.3274 - mae: 11.3274\n",
            "Epoch 33/100\n",
            "2/2 [==============================] - 0s 6ms/step - loss: 7.4937 - mae: 7.4937\n",
            "Epoch 34/100\n",
            "2/2 [==============================] - 0s 5ms/step - loss: 10.4338 - mae: 10.4338\n",
            "Epoch 35/100\n",
            "2/2 [==============================] - 0s 8ms/step - loss: 7.8868 - mae: 7.8868\n",
            "Epoch 36/100\n",
            "2/2 [==============================] - 0s 15ms/step - loss: 10.3563 - mae: 10.3563\n",
            "Epoch 37/100\n",
            "2/2 [==============================] - 0s 5ms/step - loss: 15.2221 - mae: 15.2221\n",
            "Epoch 38/100\n",
            "2/2 [==============================] - 0s 3ms/step - loss: 11.6087 - mae: 11.6087\n",
            "Epoch 39/100\n",
            "2/2 [==============================] - 0s 4ms/step - loss: 10.4623 - mae: 10.4623\n",
            "Epoch 40/100\n",
            "2/2 [==============================] - 0s 3ms/step - loss: 9.1059 - mae: 9.1059\n",
            "Epoch 41/100\n",
            "2/2 [==============================] - 0s 7ms/step - loss: 9.9152 - mae: 9.9152\n",
            "Epoch 42/100\n",
            "2/2 [==============================] - 0s 6ms/step - loss: 10.8976 - mae: 10.8976\n",
            "Epoch 43/100\n",
            "2/2 [==============================] - 0s 6ms/step - loss: 8.5476 - mae: 8.5476\n",
            "Epoch 44/100\n",
            "2/2 [==============================] - 0s 3ms/step - loss: 7.8563 - mae: 7.8563\n",
            "Epoch 45/100\n",
            "2/2 [==============================] - 0s 3ms/step - loss: 9.1689 - mae: 9.1689\n",
            "Epoch 46/100\n",
            "2/2 [==============================] - 0s 3ms/step - loss: 10.6302 - mae: 10.6302\n",
            "Epoch 47/100\n",
            "2/2 [==============================] - 0s 3ms/step - loss: 9.2916 - mae: 9.2916\n",
            "Epoch 48/100\n",
            "2/2 [==============================] - 0s 3ms/step - loss: 11.7913 - mae: 11.7913\n",
            "Epoch 49/100\n",
            "2/2 [==============================] - 0s 3ms/step - loss: 8.9847 - mae: 8.9847\n",
            "Epoch 50/100\n",
            "2/2 [==============================] - 0s 3ms/step - loss: 15.2955 - mae: 15.2955\n",
            "Epoch 51/100\n",
            "2/2 [==============================] - 0s 4ms/step - loss: 9.1312 - mae: 9.1312\n",
            "Epoch 52/100\n",
            "2/2 [==============================] - 0s 12ms/step - loss: 8.4471 - mae: 8.4471\n",
            "Epoch 53/100\n",
            "2/2 [==============================] - 0s 9ms/step - loss: 8.8494 - mae: 8.8494\n",
            "Epoch 54/100\n",
            "2/2 [==============================] - 0s 11ms/step - loss: 9.7613 - mae: 9.7613\n",
            "Epoch 55/100\n",
            "2/2 [==============================] - 0s 4ms/step - loss: 17.6755 - mae: 17.6755\n",
            "Epoch 56/100\n",
            "2/2 [==============================] - 0s 4ms/step - loss: 11.5625 - mae: 11.5625\n",
            "Epoch 57/100\n",
            "2/2 [==============================] - 0s 4ms/step - loss: 13.8309 - mae: 13.8309\n",
            "Epoch 58/100\n",
            "2/2 [==============================] - 0s 4ms/step - loss: 10.1723 - mae: 10.1723\n",
            "Epoch 59/100\n",
            "2/2 [==============================] - 0s 4ms/step - loss: 9.7644 - mae: 9.7644\n",
            "Epoch 60/100\n",
            "2/2 [==============================] - 0s 4ms/step - loss: 10.5739 - mae: 10.5739\n",
            "Epoch 61/100\n",
            "2/2 [==============================] - 0s 4ms/step - loss: 9.3716 - mae: 9.3716\n",
            "Epoch 62/100\n",
            "2/2 [==============================] - 0s 4ms/step - loss: 11.0143 - mae: 11.0143\n",
            "Epoch 63/100\n",
            "2/2 [==============================] - 0s 4ms/step - loss: 10.6950 - mae: 10.6950\n",
            "Epoch 64/100\n",
            "2/2 [==============================] - 0s 4ms/step - loss: 21.3520 - mae: 21.3520\n",
            "Epoch 65/100\n",
            "2/2 [==============================] - 0s 5ms/step - loss: 11.8668 - mae: 11.8668\n",
            "Epoch 66/100\n",
            "2/2 [==============================] - 0s 6ms/step - loss: 10.3155 - mae: 10.3155\n",
            "Epoch 67/100\n",
            "2/2 [==============================] - 0s 10ms/step - loss: 9.0125 - mae: 9.0125\n",
            "Epoch 68/100\n",
            "2/2 [==============================] - 0s 7ms/step - loss: 10.6969 - mae: 10.6969\n",
            "Epoch 69/100\n",
            "2/2 [==============================] - 0s 9ms/step - loss: 13.2566 - mae: 13.2566\n",
            "Epoch 70/100\n",
            "2/2 [==============================] - 0s 5ms/step - loss: 13.3775 - mae: 13.3775\n",
            "Epoch 71/100\n",
            "2/2 [==============================] - 0s 7ms/step - loss: 7.7588 - mae: 7.7588\n",
            "Epoch 72/100\n",
            "2/2 [==============================] - 0s 22ms/step - loss: 8.6600 - mae: 8.6600\n",
            "Epoch 73/100\n",
            "2/2 [==============================] - 0s 13ms/step - loss: 6.8668 - mae: 6.8668\n",
            "Epoch 74/100\n",
            "2/2 [==============================] - 0s 15ms/step - loss: 8.5887 - mae: 8.5887\n",
            "Epoch 75/100\n",
            "2/2 [==============================] - 0s 8ms/step - loss: 8.5845 - mae: 8.5845\n",
            "Epoch 76/100\n",
            "2/2 [==============================] - 0s 6ms/step - loss: 8.9066 - mae: 8.9066\n",
            "Epoch 77/100\n",
            "2/2 [==============================] - 0s 9ms/step - loss: 8.2657 - mae: 8.2657\n",
            "Epoch 78/100\n",
            "2/2 [==============================] - 0s 3ms/step - loss: 10.9379 - mae: 10.9379\n",
            "Epoch 79/100\n",
            "2/2 [==============================] - 0s 4ms/step - loss: 11.0058 - mae: 11.0058\n",
            "Epoch 80/100\n",
            "2/2 [==============================] - 0s 5ms/step - loss: 7.8068 - mae: 7.8068\n",
            "Epoch 81/100\n",
            "2/2 [==============================] - 0s 4ms/step - loss: 8.7855 - mae: 8.7855\n",
            "Epoch 82/100\n",
            "2/2 [==============================] - 0s 3ms/step - loss: 8.3320 - mae: 8.3320\n",
            "Epoch 83/100\n",
            "2/2 [==============================] - 0s 4ms/step - loss: 8.4194 - mae: 8.4194\n",
            "Epoch 84/100\n",
            "2/2 [==============================] - 0s 5ms/step - loss: 9.5617 - mae: 9.5617\n",
            "Epoch 85/100\n",
            "2/2 [==============================] - 0s 4ms/step - loss: 7.0848 - mae: 7.0848\n",
            "Epoch 86/100\n",
            "2/2 [==============================] - 0s 4ms/step - loss: 14.1265 - mae: 14.1265\n",
            "Epoch 87/100\n",
            "2/2 [==============================] - 0s 3ms/step - loss: 14.1863 - mae: 14.1863\n",
            "Epoch 88/100\n",
            "2/2 [==============================] - 0s 4ms/step - loss: 10.8189 - mae: 10.8189\n",
            "Epoch 89/100\n",
            "2/2 [==============================] - 0s 4ms/step - loss: 7.8945 - mae: 7.8945\n",
            "Epoch 90/100\n",
            "2/2 [==============================] - 0s 3ms/step - loss: 14.2400 - mae: 14.2400\n",
            "Epoch 91/100\n",
            "2/2 [==============================] - 0s 4ms/step - loss: 12.7769 - mae: 12.7769\n",
            "Epoch 92/100\n",
            "2/2 [==============================] - 0s 4ms/step - loss: 8.3020 - mae: 8.3020\n",
            "Epoch 93/100\n",
            "2/2 [==============================] - 0s 4ms/step - loss: 17.1661 - mae: 17.1661\n",
            "Epoch 94/100\n",
            "2/2 [==============================] - 0s 4ms/step - loss: 12.7184 - mae: 12.7184\n",
            "Epoch 95/100\n",
            "2/2 [==============================] - 0s 4ms/step - loss: 10.3079 - mae: 10.3079\n",
            "Epoch 96/100\n",
            "2/2 [==============================] - 0s 5ms/step - loss: 9.2680 - mae: 9.2680\n",
            "Epoch 97/100\n",
            "2/2 [==============================] - 0s 9ms/step - loss: 11.5723 - mae: 11.5723\n",
            "Epoch 98/100\n",
            "2/2 [==============================] - 0s 9ms/step - loss: 8.2695 - mae: 8.2695\n",
            "Epoch 99/100\n",
            "2/2 [==============================] - 0s 6ms/step - loss: 14.1238 - mae: 14.1238\n",
            "Epoch 100/100\n",
            "2/2 [==============================] - 0s 4ms/step - loss: 10.3253 - mae: 10.3253\n"
          ]
        },
        {
          "output_type": "execute_result",
          "data": {
            "text/plain": [
              "<keras.callbacks.History at 0x7f15588e53d0>"
            ]
          },
          "metadata": {},
          "execution_count": 50
        }
      ]
    },
    {
      "cell_type": "code",
      "source": [
        "# Make and plot predictions for model_1\n",
        "y_preds_1 = model_1.predict(X_test)\n",
        "plot_predictions(predictions=y_preds_1)"
      ],
      "metadata": {
        "colab": {
          "base_uri": "https://localhost:8080/",
          "height": 466
        },
        "id": "mX2PEwlwrc3F",
        "outputId": "74416de1-3b06-44e6-a35f-da357bdff912"
      },
      "execution_count": null,
      "outputs": [
        {
          "output_type": "stream",
          "name": "stdout",
          "text": [
            "WARNING:tensorflow:5 out of the last 5 calls to <function Model.make_predict_function.<locals>.predict_function at 0x7f15ddd879e0> triggered tf.function retracing. Tracing is expensive and the excessive number of tracings could be due to (1) creating @tf.function repeatedly in a loop, (2) passing tensors with different shapes, (3) passing Python objects instead of tensors. For (1), please define your @tf.function outside of the loop. For (2), @tf.function has experimental_relax_shapes=True option that relaxes argument shapes that can avoid unnecessary retracing. For (3), please refer to https://www.tensorflow.org/guide/function#controlling_retracing and https://www.tensorflow.org/api_docs/python/tf/function for  more details.\n"
          ]
        },
        {
          "output_type": "display_data",
          "data": {
            "text/plain": [
              "<Figure size 720x504 with 1 Axes>"
            ],
            "image/png": "[encoded data removed]"
          },
          "metadata": {
            "needs_background": "light"
          }
        }
      ]
    },
    {
      "cell_type": "code",
      "source": [
        "# Calculate model_1 evaluation metrics\n",
        "mae_1 = mae(y_test, y_preds_1)\n",
        "mse_1 = mse(y_test, y_preds_1)\n",
        "mae_1, mse_1"
      ],
      "metadata": {
        "colab": {
          "base_uri": "https://localhost:8080/"
        },
        "id": "90cYreJguCcB",
        "outputId": "2e3a6656-3412-43d5-dfa1-16d049f6e1ca"
      },
      "execution_count": null,
      "outputs": [
        {
          "output_type": "execute_result",
          "data": {
            "text/plain": [
              "(<tf.Tensor: shape=(), dtype=float32, numpy=6.786891>,\n",
              " <tf.Tensor: shape=(), dtype=float32, numpy=46.13796>)"
            ]
          },
          "metadata": {},
          "execution_count": 52
        }
      ]
    },
    {
      "cell_type": "markdown",
      "source": [
        "**Build `model_2`**\n",
        "\n",
        "* 2 dense layers, trained for 100 epochs"
      ],
      "metadata": {
        "id": "weYqvv7vubLT"
      }
    },
    {
      "cell_type": "code",
      "source": [
        "# Set the random seed\n",
        "tf.random.set_seed(24)\n",
        "\n",
        "# 1. Create the model\n",
        "\n",
        "model_2 = tf.keras.Sequential([\n",
        "  tf.keras.layers.Dense(10),\n",
        "  tf.keras.layers.Dense(1)                             \n",
        "])\n",
        "\n",
        "# Compile the model\n",
        "model_2.compile(loss=tf.keras.losses.mae,\n",
        "                optimizer=tf.keras.optimizers.SGD(),\n",
        "                metrics=[\"mae\"])\n",
        "\n",
        "# Fit the model\n",
        "model_2.fit(tf.expand_dims(X_train, axis=-1), y_train, epochs=100)"
      ],
      "metadata": {
        "colab": {
          "base_uri": "https://localhost:8080/"
        },
        "id": "a839mn49wQZh",
        "outputId": "5d48631f-5ff8-4b8d-817f-91917ba80807"
      },
      "execution_count": null,
      "outputs": [
        {
          "output_type": "stream",
          "name": "stdout",
          "text": [
            "Epoch 1/100\n",
            "2/2 [==============================] - 0s 6ms/step - loss: 40.6500 - mae: 40.6500\n",
            "Epoch 2/100\n",
            "2/2 [==============================] - 0s 5ms/step - loss: 19.6281 - mae: 19.6281\n",
            "Epoch 3/100\n",
            "2/2 [==============================] - 0s 3ms/step - loss: 20.4913 - mae: 20.4913\n",
            "Epoch 4/100\n",
            "2/2 [==============================] - 0s 3ms/step - loss: 12.5051 - mae: 12.5051\n",
            "Epoch 5/100\n",
            "2/2 [==============================] - 0s 3ms/step - loss: 11.6015 - mae: 11.6015\n",
            "Epoch 6/100\n",
            "2/2 [==============================] - 0s 4ms/step - loss: 20.2044 - mae: 20.2044\n",
            "Epoch 7/100\n",
            "2/2 [==============================] - 0s 3ms/step - loss: 15.2340 - mae: 15.2340\n",
            "Epoch 8/100\n",
            "2/2 [==============================] - 0s 3ms/step - loss: 23.9551 - mae: 23.9551\n",
            "Epoch 9/100\n",
            "2/2 [==============================] - 0s 3ms/step - loss: 13.5147 - mae: 13.5147\n",
            "Epoch 10/100\n",
            "2/2 [==============================] - 0s 3ms/step - loss: 10.8302 - mae: 10.8302\n",
            "Epoch 11/100\n",
            "2/2 [==============================] - 0s 3ms/step - loss: 13.1595 - mae: 13.1595\n",
            "Epoch 12/100\n",
            "2/2 [==============================] - 0s 3ms/step - loss: 10.8143 - mae: 10.8143\n",
            "Epoch 13/100\n",
            "2/2 [==============================] - 0s 3ms/step - loss: 13.8055 - mae: 13.8055\n",
            "Epoch 14/100\n",
            "2/2 [==============================] - 0s 4ms/step - loss: 10.9475 - mae: 10.9475\n",
            "Epoch 15/100\n",
            "2/2 [==============================] - 0s 3ms/step - loss: 21.4052 - mae: 21.4052\n",
            "Epoch 16/100\n",
            "2/2 [==============================] - 0s 3ms/step - loss: 8.1384 - mae: 8.1384\n",
            "Epoch 17/100\n",
            "2/2 [==============================] - 0s 3ms/step - loss: 7.4855 - mae: 7.4855\n",
            "Epoch 18/100\n",
            "2/2 [==============================] - 0s 3ms/step - loss: 11.8027 - mae: 11.8027\n",
            "Epoch 19/100\n",
            "2/2 [==============================] - 0s 3ms/step - loss: 11.5283 - mae: 11.5283\n",
            "Epoch 20/100\n",
            "2/2 [==============================] - 0s 3ms/step - loss: 17.2207 - mae: 17.2207\n",
            "Epoch 21/100\n",
            "2/2 [==============================] - 0s 3ms/step - loss: 27.7971 - mae: 27.7971\n",
            "Epoch 22/100\n",
            "2/2 [==============================] - 0s 4ms/step - loss: 7.8085 - mae: 7.8085\n",
            "Epoch 23/100\n",
            "2/2 [==============================] - 0s 4ms/step - loss: 15.9713 - mae: 15.9713\n",
            "Epoch 24/100\n",
            "2/2 [==============================] - 0s 4ms/step - loss: 15.1215 - mae: 15.1215\n",
            "Epoch 25/100\n",
            "2/2 [==============================] - 0s 4ms/step - loss: 8.6763 - mae: 8.6763\n",
            "Epoch 26/100\n",
            "2/2 [==============================] - 0s 4ms/step - loss: 15.4744 - mae: 15.4744\n",
            "Epoch 27/100\n",
            "2/2 [==============================] - 0s 4ms/step - loss: 12.2087 - mae: 12.2087\n",
            "Epoch 28/100\n",
            "2/2 [==============================] - 0s 3ms/step - loss: 12.9250 - mae: 12.9250\n",
            "Epoch 29/100\n",
            "2/2 [==============================] - 0s 5ms/step - loss: 14.1051 - mae: 14.1051\n",
            "Epoch 30/100\n",
            "2/2 [==============================] - 0s 4ms/step - loss: 17.2487 - mae: 17.2487\n",
            "Epoch 31/100\n",
            "2/2 [==============================] - 0s 4ms/step - loss: 16.8754 - mae: 16.8754\n",
            "Epoch 32/100\n",
            "2/2 [==============================] - 0s 4ms/step - loss: 13.2976 - mae: 13.2976\n",
            "Epoch 33/100\n",
            "2/2 [==============================] - 0s 4ms/step - loss: 14.3895 - mae: 14.3895\n",
            "Epoch 34/100\n",
            "2/2 [==============================] - 0s 5ms/step - loss: 11.5698 - mae: 11.5698\n",
            "Epoch 35/100\n",
            "2/2 [==============================] - 0s 5ms/step - loss: 15.1959 - mae: 15.1959\n",
            "Epoch 36/100\n",
            "2/2 [==============================] - 0s 5ms/step - loss: 13.7464 - mae: 13.7464\n",
            "Epoch 37/100\n",
            "2/2 [==============================] - 0s 12ms/step - loss: 26.9472 - mae: 26.9472\n",
            "Epoch 38/100\n",
            "2/2 [==============================] - 0s 4ms/step - loss: 11.4256 - mae: 11.4256\n",
            "Epoch 39/100\n",
            "2/2 [==============================] - 0s 4ms/step - loss: 22.9783 - mae: 22.9783\n",
            "Epoch 40/100\n",
            "2/2 [==============================] - 0s 5ms/step - loss: 13.4646 - mae: 13.4646\n",
            "Epoch 41/100\n",
            "2/2 [==============================] - 0s 8ms/step - loss: 11.9352 - mae: 11.9352\n",
            "Epoch 42/100\n",
            "2/2 [==============================] - 0s 4ms/step - loss: 12.5384 - mae: 12.5384\n",
            "Epoch 43/100\n",
            "2/2 [==============================] - 0s 4ms/step - loss: 7.9152 - mae: 7.9152\n",
            "Epoch 44/100\n",
            "2/2 [==============================] - 0s 5ms/step - loss: 10.3550 - mae: 10.3550\n",
            "Epoch 45/100\n",
            "2/2 [==============================] - 0s 4ms/step - loss: 11.1726 - mae: 11.1726\n",
            "Epoch 46/100\n",
            "2/2 [==============================] - 0s 4ms/step - loss: 15.0088 - mae: 15.0088\n",
            "Epoch 47/100\n",
            "2/2 [==============================] - 0s 5ms/step - loss: 10.5644 - mae: 10.5644\n",
            "Epoch 48/100\n",
            "2/2 [==============================] - 0s 4ms/step - loss: 32.1434 - mae: 32.1434\n",
            "Epoch 49/100\n",
            "2/2 [==============================] - 0s 4ms/step - loss: 13.3885 - mae: 13.3885\n",
            "Epoch 50/100\n",
            "2/2 [==============================] - 0s 4ms/step - loss: 9.0112 - mae: 9.0112\n",
            "Epoch 51/100\n",
            "2/2 [==============================] - 0s 4ms/step - loss: 9.9296 - mae: 9.9296\n",
            "Epoch 52/100\n",
            "2/2 [==============================] - 0s 3ms/step - loss: 11.0861 - mae: 11.0861\n",
            "Epoch 53/100\n",
            "2/2 [==============================] - 0s 4ms/step - loss: 10.2436 - mae: 10.2436\n",
            "Epoch 54/100\n",
            "2/2 [==============================] - 0s 4ms/step - loss: 17.8834 - mae: 17.8834\n",
            "Epoch 55/100\n",
            "2/2 [==============================] - 0s 4ms/step - loss: 20.5590 - mae: 20.5590\n",
            "Epoch 56/100\n",
            "2/2 [==============================] - 0s 4ms/step - loss: 19.8144 - mae: 19.8144\n",
            "Epoch 57/100\n",
            "2/2 [==============================] - 0s 4ms/step - loss: 12.9130 - mae: 12.9130\n",
            "Epoch 58/100\n",
            "2/2 [==============================] - 0s 4ms/step - loss: 13.7989 - mae: 13.7989\n",
            "Epoch 59/100\n",
            "2/2 [==============================] - 0s 3ms/step - loss: 10.9438 - mae: 10.9438\n",
            "Epoch 60/100\n",
            "2/2 [==============================] - 0s 4ms/step - loss: 28.6206 - mae: 28.6206\n",
            "Epoch 61/100\n",
            "2/2 [==============================] - 0s 4ms/step - loss: 9.1291 - mae: 9.1291\n",
            "Epoch 62/100\n",
            "2/2 [==============================] - 0s 4ms/step - loss: 10.2722 - mae: 10.2722\n",
            "Epoch 63/100\n",
            "2/2 [==============================] - 0s 4ms/step - loss: 8.5817 - mae: 8.5817\n",
            "Epoch 64/100\n",
            "2/2 [==============================] - 0s 4ms/step - loss: 28.7139 - mae: 28.7139\n",
            "Epoch 65/100\n",
            "2/2 [==============================] - 0s 5ms/step - loss: 12.6075 - mae: 12.6075\n",
            "Epoch 66/100\n",
            "2/2 [==============================] - 0s 4ms/step - loss: 8.9770 - mae: 8.9770\n",
            "Epoch 67/100\n",
            "2/2 [==============================] - 0s 8ms/step - loss: 14.0989 - mae: 14.0989\n",
            "Epoch 68/100\n",
            "2/2 [==============================] - 0s 8ms/step - loss: 11.2527 - mae: 11.2527\n",
            "Epoch 69/100\n",
            "2/2 [==============================] - 0s 7ms/step - loss: 16.5746 - mae: 16.5746\n",
            "Epoch 70/100\n",
            "2/2 [==============================] - 0s 4ms/step - loss: 20.8408 - mae: 20.8408\n",
            "Epoch 71/100\n",
            "2/2 [==============================] - 0s 4ms/step - loss: 27.0659 - mae: 27.0659\n",
            "Epoch 72/100\n",
            "2/2 [==============================] - 0s 6ms/step - loss: 8.7048 - mae: 8.7048\n",
            "Epoch 73/100\n",
            "2/2 [==============================] - 0s 5ms/step - loss: 10.6591 - mae: 10.6591\n",
            "Epoch 74/100\n",
            "2/2 [==============================] - 0s 6ms/step - loss: 9.4620 - mae: 9.4620\n",
            "Epoch 75/100\n",
            "2/2 [==============================] - 0s 4ms/step - loss: 8.9544 - mae: 8.9544\n",
            "Epoch 76/100\n",
            "2/2 [==============================] - 0s 5ms/step - loss: 6.8469 - mae: 6.8469\n",
            "Epoch 77/100\n",
            "2/2 [==============================] - 0s 5ms/step - loss: 12.5794 - mae: 12.5794\n",
            "Epoch 78/100\n",
            "2/2 [==============================] - 0s 8ms/step - loss: 16.4061 - mae: 16.4061\n",
            "Epoch 79/100\n",
            "2/2 [==============================] - 0s 17ms/step - loss: 10.2160 - mae: 10.2160\n",
            "Epoch 80/100\n",
            "2/2 [==============================] - 0s 5ms/step - loss: 8.9142 - mae: 8.9142\n",
            "Epoch 81/100\n",
            "2/2 [==============================] - 0s 4ms/step - loss: 12.6077 - mae: 12.6077\n",
            "Epoch 82/100\n",
            "2/2 [==============================] - 0s 5ms/step - loss: 9.8191 - mae: 9.8191\n",
            "Epoch 83/100\n",
            "2/2 [==============================] - 0s 7ms/step - loss: 8.9673 - mae: 8.9673\n",
            "Epoch 84/100\n",
            "2/2 [==============================] - 0s 10ms/step - loss: 9.2807 - mae: 9.2807\n",
            "Epoch 85/100\n",
            "2/2 [==============================] - 0s 4ms/step - loss: 9.0454 - mae: 9.0454\n",
            "Epoch 86/100\n",
            "2/2 [==============================] - 0s 11ms/step - loss: 15.7514 - mae: 15.7514\n",
            "Epoch 87/100\n",
            "2/2 [==============================] - 0s 8ms/step - loss: 11.6193 - mae: 11.6193\n",
            "Epoch 88/100\n",
            "2/2 [==============================] - 0s 7ms/step - loss: 21.9424 - mae: 21.9424\n",
            "Epoch 89/100\n",
            "2/2 [==============================] - 0s 9ms/step - loss: 9.9159 - mae: 9.9159\n",
            "Epoch 90/100\n",
            "2/2 [==============================] - 0s 5ms/step - loss: 26.4784 - mae: 26.4784\n",
            "Epoch 91/100\n",
            "2/2 [==============================] - 0s 5ms/step - loss: 10.1483 - mae: 10.1483\n",
            "Epoch 92/100\n",
            "2/2 [==============================] - 0s 4ms/step - loss: 9.0743 - mae: 9.0743\n",
            "Epoch 93/100\n",
            "2/2 [==============================] - 0s 5ms/step - loss: 22.2708 - mae: 22.2708\n",
            "Epoch 94/100\n",
            "2/2 [==============================] - 0s 4ms/step - loss: 9.4919 - mae: 9.4919\n",
            "Epoch 95/100\n",
            "2/2 [==============================] - 0s 4ms/step - loss: 8.6972 - mae: 8.6972\n",
            "Epoch 96/100\n",
            "2/2 [==============================] - 0s 4ms/step - loss: 10.5325 - mae: 10.5325\n",
            "Epoch 97/100\n",
            "2/2 [==============================] - 0s 4ms/step - loss: 18.7023 - mae: 18.7023\n",
            "Epoch 98/100\n",
            "2/2 [==============================] - 0s 4ms/step - loss: 8.6974 - mae: 8.6974\n",
            "Epoch 99/100\n",
            "2/2 [==============================] - 0s 4ms/step - loss: 19.9633 - mae: 19.9633\n",
            "Epoch 100/100\n",
            "2/2 [==============================] - 0s 4ms/step - loss: 11.7230 - mae: 11.7230\n"
          ]
        },
        {
          "output_type": "execute_result",
          "data": {
            "text/plain": [
              "<keras.callbacks.History at 0x7f15588ec350>"
            ]
          },
          "metadata": {},
          "execution_count": 53
        }
      ]
    },
    {
      "cell_type": "code",
      "source": [
        "# Make and plot predictions for model_2\n",
        "y_preds_2 = model_2.predict(X_test)\n",
        "plot_predictions(predictions=y_preds_2)"
      ],
      "metadata": {
        "colab": {
          "base_uri": "https://localhost:8080/",
          "height": 466
        },
        "id": "EZtzKzGDyGeV",
        "outputId": "ac89222a-c456-49ac-9c8c-87a384642a9d"
      },
      "execution_count": null,
      "outputs": [
        {
          "output_type": "stream",
          "name": "stdout",
          "text": [
            "WARNING:tensorflow:6 out of the last 6 calls to <function Model.make_predict_function.<locals>.predict_function at 0x7f15dde648c0> triggered tf.function retracing. Tracing is expensive and the excessive number of tracings could be due to (1) creating @tf.function repeatedly in a loop, (2) passing tensors with different shapes, (3) passing Python objects instead of tensors. For (1), please define your @tf.function outside of the loop. For (2), @tf.function has experimental_relax_shapes=True option that relaxes argument shapes that can avoid unnecessary retracing. For (3), please refer to https://www.tensorflow.org/guide/function#controlling_retracing and https://www.tensorflow.org/api_docs/python/tf/function for  more details.\n"
          ]
        },
        {
          "output_type": "display_data",
          "data": {
            "text/plain": [
              "<Figure size 720x504 with 1 Axes>"
            ],
            "image/png": "[encoded data removed]"
          },
          "metadata": {
            "needs_background": "light"
          }
        }
      ]
    },
    {
      "cell_type": "code",
      "source": [
        "# Calculate model_2 evaluation metrics\n",
        "mae_2 = mae(y_test, y_preds_2)\n",
        "mse_2 = mse(y_test, y_preds_2)\n",
        "mae_2, mse_2"
      ],
      "metadata": {
        "colab": {
          "base_uri": "https://localhost:8080/"
        },
        "id": "2M27F39Sykqf",
        "outputId": "2413f092-2e1e-48bc-a0bb-e9d013d72676"
      },
      "execution_count": null,
      "outputs": [
        {
          "output_type": "execute_result",
          "data": {
            "text/plain": [
              "(<tf.Tensor: shape=(), dtype=float32, numpy=3.2645698>,\n",
              " <tf.Tensor: shape=(), dtype=float32, numpy=13.435565>)"
            ]
          },
          "metadata": {},
          "execution_count": 55
        }
      ]
    },
    {
      "cell_type": "markdown",
      "source": [
        "**Build model 3**\n",
        "\n",
        "* 2 layers, trained for 500 epochs"
      ],
      "metadata": {
        "id": "1-EpZWO5zdqf"
      }
    },
    {
      "cell_type": "code",
      "source": [
        "# Set the random seed\n",
        "tf.random.set_seed(24)\n",
        "\n",
        "# 1. Create the model\n",
        "model_3 = tf.keras.models.Sequential([\n",
        "  tf.keras.layers.Dense(10)                                      ,\n",
        "  tf.keras.layers.Dense(1)\n",
        "])\n",
        "\n",
        "# Compile the model\n",
        "model_3.compile(loss=tf.keras.losses.mae,\n",
        "                optimizer=tf.keras.optimizers.SGD(),\n",
        "                metrics=[\"mae\"])\n",
        "\n",
        "# Fit the model\n",
        "model_3.fit(tf.expand_dims(X_train, axis=-1), y_train, epochs=500)"
      ],
      "metadata": {
        "colab": {
          "base_uri": "https://localhost:8080/"
        },
        "id": "1t3Z259f1Lwj",
        "outputId": "8cbaef99-2037-48f5-f2d4-0446c3450571"
      },
      "execution_count": null,
      "outputs": [
        {
          "output_type": "stream",
          "name": "stdout",
          "text": [
            "Epoch 1/500\n",
            "2/2 [==============================] - 0s 5ms/step - loss: 40.6500 - mae: 40.6500\n",
            "Epoch 2/500\n",
            "2/2 [==============================] - 0s 7ms/step - loss: 19.6281 - mae: 19.6281\n",
            "Epoch 3/500\n",
            "2/2 [==============================] - 0s 3ms/step - loss: 20.4913 - mae: 20.4913\n",
            "Epoch 4/500\n",
            "2/2 [==============================] - 0s 5ms/step - loss: 12.5051 - mae: 12.5051\n",
            "Epoch 5/500\n",
            "2/2 [==============================] - 0s 5ms/step - loss: 11.6015 - mae: 11.6015\n",
            "Epoch 6/500\n",
            "2/2 [==============================] - 0s 4ms/step - loss: 20.2044 - mae: 20.2044\n",
            "Epoch 7/500\n",
            "2/2 [==============================] - 0s 6ms/step - loss: 15.2340 - mae: 15.2340\n",
            "Epoch 8/500\n",
            "2/2 [==============================] - 0s 4ms/step - loss: 23.9551 - mae: 23.9551\n",
            "Epoch 9/500\n",
            "2/2 [==============================] - 0s 3ms/step - loss: 13.5147 - mae: 13.5147\n",
            "Epoch 10/500\n",
            "2/2 [==============================] - 0s 3ms/step - loss: 10.8302 - mae: 10.8302\n",
            "Epoch 11/500\n",
            "2/2 [==============================] - 0s 4ms/step - loss: 13.1595 - mae: 13.1595\n",
            "Epoch 12/500\n",
            "2/2 [==============================] - 0s 3ms/step - loss: 10.8143 - mae: 10.8143\n",
            "Epoch 13/500\n",
            "2/2 [==============================] - 0s 3ms/step - loss: 13.8055 - mae: 13.8055\n",
            "Epoch 14/500\n",
            "2/2 [==============================] - 0s 3ms/step - loss: 10.9475 - mae: 10.9475\n",
            "Epoch 15/500\n",
            "2/2 [==============================] - 0s 4ms/step - loss: 21.4052 - mae: 21.4052\n",
            "Epoch 16/500\n",
            "2/2 [==============================] - 0s 3ms/step - loss: 8.1384 - mae: 8.1384\n",
            "Epoch 17/500\n",
            "2/2 [==============================] - 0s 4ms/step - loss: 7.4855 - mae: 7.4855\n",
            "Epoch 18/500\n",
            "2/2 [==============================] - 0s 4ms/step - loss: 11.8027 - mae: 11.8027\n",
            "Epoch 19/500\n",
            "2/2 [==============================] - 0s 4ms/step - loss: 11.5283 - mae: 11.5283\n",
            "Epoch 20/500\n",
            "2/2 [==============================] - 0s 6ms/step - loss: 17.2207 - mae: 17.2207\n",
            "Epoch 21/500\n",
            "2/2 [==============================] - 0s 8ms/step - loss: 27.7971 - mae: 27.7971\n",
            "Epoch 22/500\n",
            "2/2 [==============================] - 0s 6ms/step - loss: 7.8085 - mae: 7.8085\n",
            "Epoch 23/500\n",
            "2/2 [==============================] - 0s 6ms/step - loss: 15.9713 - mae: 15.9713\n",
            "Epoch 24/500\n",
            "2/2 [==============================] - 0s 9ms/step - loss: 15.1215 - mae: 15.1215\n",
            "Epoch 25/500\n",
            "2/2 [==============================] - 0s 4ms/step - loss: 8.6763 - mae: 8.6763\n",
            "Epoch 26/500\n",
            "2/2 [==============================] - 0s 5ms/step - loss: 15.4744 - mae: 15.4744\n",
            "Epoch 27/500\n",
            "2/2 [==============================] - 0s 4ms/step - loss: 12.2087 - mae: 12.2087\n",
            "Epoch 28/500\n",
            "2/2 [==============================] - 0s 12ms/step - loss: 12.9250 - mae: 12.9250\n",
            "Epoch 29/500\n",
            "2/2 [==============================] - 0s 6ms/step - loss: 14.1051 - mae: 14.1051\n",
            "Epoch 30/500\n",
            "2/2 [==============================] - 0s 6ms/step - loss: 17.2487 - mae: 17.2487\n",
            "Epoch 31/500\n",
            "2/2 [==============================] - 0s 7ms/step - loss: 16.8754 - mae: 16.8754\n",
            "Epoch 32/500\n",
            "2/2 [==============================] - 0s 9ms/step - loss: 13.2976 - mae: 13.2976\n",
            "Epoch 33/500\n",
            "2/2 [==============================] - 0s 6ms/step - loss: 14.3895 - mae: 14.3895\n",
            "Epoch 34/500\n",
            "2/2 [==============================] - 0s 5ms/step - loss: 11.5698 - mae: 11.5698\n",
            "Epoch 35/500\n",
            "2/2 [==============================] - 0s 5ms/step - loss: 15.1959 - mae: 15.1959\n",
            "Epoch 36/500\n",
            "2/2 [==============================] - 0s 5ms/step - loss: 13.7464 - mae: 13.7464\n",
            "Epoch 37/500\n",
            "2/2 [==============================] - 0s 9ms/step - loss: 26.9472 - mae: 26.9472\n",
            "Epoch 38/500\n",
            "2/2 [==============================] - 0s 6ms/step - loss: 11.4256 - mae: 11.4256\n",
            "Epoch 39/500\n",
            "2/2 [==============================] - 0s 4ms/step - loss: 22.9783 - mae: 22.9783\n",
            "Epoch 40/500\n",
            "2/2 [==============================] - 0s 4ms/step - loss: 13.4646 - mae: 13.4646\n",
            "Epoch 41/500\n",
            "2/2 [==============================] - 0s 3ms/step - loss: 11.9352 - mae: 11.9352\n",
            "Epoch 42/500\n",
            "2/2 [==============================] - 0s 4ms/step - loss: 12.5384 - mae: 12.5384\n",
            "Epoch 43/500\n",
            "2/2 [==============================] - 0s 4ms/step - loss: 7.9152 - mae: 7.9152\n",
            "Epoch 44/500\n",
            "2/2 [==============================] - 0s 4ms/step - loss: 10.3550 - mae: 10.3550\n",
            "Epoch 45/500\n",
            "2/2 [==============================] - 0s 4ms/step - loss: 11.1726 - mae: 11.1726\n",
            "Epoch 46/500\n",
            "2/2 [==============================] - 0s 4ms/step - loss: 15.0088 - mae: 15.0088\n",
            "Epoch 47/500\n",
            "2/2 [==============================] - 0s 4ms/step - loss: 10.5644 - mae: 10.5644\n",
            "Epoch 48/500\n",
            "2/2 [==============================] - 0s 3ms/step - loss: 32.1434 - mae: 32.1434\n",
            "Epoch 49/500\n",
            "2/2 [==============================] - 0s 3ms/step - loss: 13.3885 - mae: 13.3885\n",
            "Epoch 50/500\n",
            "2/2 [==============================] - 0s 3ms/step - loss: 9.0112 - mae: 9.0112\n",
            "Epoch 51/500\n",
            "2/2 [==============================] - 0s 3ms/step - loss: 9.9296 - mae: 9.9296\n",
            "Epoch 52/500\n",
            "2/2 [==============================] - 0s 3ms/step - loss: 11.0861 - mae: 11.0861\n",
            "Epoch 53/500\n",
            "2/2 [==============================] - 0s 3ms/step - loss: 10.2436 - mae: 10.2436\n",
            "Epoch 54/500\n",
            "2/2 [==============================] - 0s 3ms/step - loss: 17.8834 - mae: 17.8834\n",
            "Epoch 55/500\n",
            "2/2 [==============================] - 0s 3ms/step - loss: 20.5590 - mae: 20.5590\n",
            "Epoch 56/500\n",
            "2/2 [==============================] - 0s 3ms/step - loss: 19.8144 - mae: 19.8144\n",
            "Epoch 57/500\n",
            "2/2 [==============================] - 0s 3ms/step - loss: 12.9130 - mae: 12.9130\n",
            "Epoch 58/500\n",
            "2/2 [==============================] - 0s 3ms/step - loss: 13.7989 - mae: 13.7989\n",
            "Epoch 59/500\n",
            "2/2 [==============================] - 0s 3ms/step - loss: 10.9438 - mae: 10.9438\n",
            "Epoch 60/500\n",
            "2/2 [==============================] - 0s 3ms/step - loss: 28.6206 - mae: 28.6206\n",
            "Epoch 61/500\n",
            "2/2 [==============================] - 0s 3ms/step - loss: 9.1291 - mae: 9.1291\n",
            "Epoch 62/500\n",
            "2/2 [==============================] - 0s 3ms/step - loss: 10.2722 - mae: 10.2722\n",
            "Epoch 63/500\n",
            "2/2 [==============================] - 0s 3ms/step - loss: 8.5817 - mae: 8.5817\n",
            "Epoch 64/500\n",
            "2/2 [==============================] - 0s 4ms/step - loss: 28.7139 - mae: 28.7139\n",
            "Epoch 65/500\n",
            "2/2 [==============================] - 0s 5ms/step - loss: 12.6075 - mae: 12.6075\n",
            "Epoch 66/500\n",
            "2/2 [==============================] - 0s 5ms/step - loss: 8.9770 - mae: 8.9770\n",
            "Epoch 67/500\n",
            "2/2 [==============================] - 0s 4ms/step - loss: 14.0989 - mae: 14.0989\n",
            "Epoch 68/500\n",
            "2/2 [==============================] - 0s 3ms/step - loss: 11.2527 - mae: 11.2527\n",
            "Epoch 69/500\n",
            "2/2 [==============================] - 0s 3ms/step - loss: 16.5746 - mae: 16.5746\n",
            "Epoch 70/500\n",
            "2/2 [==============================] - 0s 3ms/step - loss: 20.8408 - mae: 20.8408\n",
            "Epoch 71/500\n",
            "2/2 [==============================] - 0s 3ms/step - loss: 27.0659 - mae: 27.0659\n",
            "Epoch 72/500\n",
            "2/2 [==============================] - 0s 3ms/step - loss: 8.7048 - mae: 8.7048\n",
            "Epoch 73/500\n",
            "2/2 [==============================] - 0s 3ms/step - loss: 10.6591 - mae: 10.6591\n",
            "Epoch 74/500\n",
            "2/2 [==============================] - 0s 3ms/step - loss: 9.4620 - mae: 9.4620\n",
            "Epoch 75/500\n",
            "2/2 [==============================] - 0s 3ms/step - loss: 8.9544 - mae: 8.9544\n",
            "Epoch 76/500\n",
            "2/2 [==============================] - 0s 3ms/step - loss: 6.8469 - mae: 6.8469\n",
            "Epoch 77/500\n",
            "2/2 [==============================] - 0s 3ms/step - loss: 12.5794 - mae: 12.5794\n",
            "Epoch 78/500\n",
            "2/2 [==============================] - 0s 5ms/step - loss: 16.4061 - mae: 16.4061\n",
            "Epoch 79/500\n",
            "2/2 [==============================] - 0s 4ms/step - loss: 10.2160 - mae: 10.2160\n",
            "Epoch 80/500\n",
            "2/2 [==============================] - 0s 4ms/step - loss: 8.9142 - mae: 8.9142\n",
            "Epoch 81/500\n",
            "2/2 [==============================] - 0s 4ms/step - loss: 12.6077 - mae: 12.6077\n",
            "Epoch 82/500\n",
            "2/2 [==============================] - 0s 3ms/step - loss: 9.8191 - mae: 9.8191\n",
            "Epoch 83/500\n",
            "2/2 [==============================] - 0s 3ms/step - loss: 8.9673 - mae: 8.9673\n",
            "Epoch 84/500\n",
            "2/2 [==============================] - 0s 3ms/step - loss: 9.2807 - mae: 9.2807\n",
            "Epoch 85/500\n",
            "2/2 [==============================] - 0s 3ms/step - loss: 9.0454 - mae: 9.0454\n",
            "Epoch 86/500\n",
            "2/2 [==============================] - 0s 4ms/step - loss: 15.7514 - mae: 15.7514\n",
            "Epoch 87/500\n",
            "2/2 [==============================] - 0s 3ms/step - loss: 11.6193 - mae: 11.6193\n",
            "Epoch 88/500\n",
            "2/2 [==============================] - 0s 3ms/step - loss: 21.9424 - mae: 21.9424\n",
            "Epoch 89/500\n",
            "2/2 [==============================] - 0s 3ms/step - loss: 9.9159 - mae: 9.9159\n",
            "Epoch 90/500\n",
            "2/2 [==============================] - 0s 3ms/step - loss: 26.4784 - mae: 26.4784\n",
            "Epoch 91/500\n",
            "2/2 [==============================] - 0s 3ms/step - loss: 10.1483 - mae: 10.1483\n",
            "Epoch 92/500\n",
            "2/2 [==============================] - 0s 4ms/step - loss: 9.0743 - mae: 9.0743\n",
            "Epoch 93/500\n",
            "2/2 [==============================] - 0s 3ms/step - loss: 22.2708 - mae: 22.2708\n",
            "Epoch 94/500\n",
            "2/2 [==============================] - 0s 3ms/step - loss: 9.4919 - mae: 9.4919\n",
            "Epoch 95/500\n",
            "2/2 [==============================] - 0s 3ms/step - loss: 8.6972 - mae: 8.6972\n",
            "Epoch 96/500\n",
            "2/2 [==============================] - 0s 3ms/step - loss: 10.5325 - mae: 10.5325\n",
            "Epoch 97/500\n",
            "2/2 [==============================] - 0s 3ms/step - loss: 18.7023 - mae: 18.7023\n",
            "Epoch 98/500\n",
            "2/2 [==============================] - 0s 3ms/step - loss: 8.6974 - mae: 8.6974\n",
            "Epoch 99/500\n",
            "2/2 [==============================] - 0s 3ms/step - loss: 19.9633 - mae: 19.9633\n",
            "Epoch 100/500\n",
            "2/2 [==============================] - 0s 3ms/step - loss: 11.7230 - mae: 11.7230\n",
            "Epoch 101/500\n",
            "2/2 [==============================] - 0s 3ms/step - loss: 12.4014 - mae: 12.4014\n",
            "Epoch 102/500\n",
            "2/2 [==============================] - 0s 3ms/step - loss: 25.8400 - mae: 25.8400\n",
            "Epoch 103/500\n",
            "2/2 [==============================] - 0s 3ms/step - loss: 9.8202 - mae: 9.8202\n",
            "Epoch 104/500\n",
            "2/2 [==============================] - 0s 3ms/step - loss: 11.5271 - mae: 11.5271\n",
            "Epoch 105/500\n",
            "2/2 [==============================] - 0s 3ms/step - loss: 17.9398 - mae: 17.9398\n",
            "Epoch 106/500\n",
            "2/2 [==============================] - 0s 3ms/step - loss: 7.9450 - mae: 7.9450\n",
            "Epoch 107/500\n",
            "2/2 [==============================] - 0s 3ms/step - loss: 17.9196 - mae: 17.9196\n",
            "Epoch 108/500\n",
            "2/2 [==============================] - 0s 3ms/step - loss: 10.3552 - mae: 10.3552\n",
            "Epoch 109/500\n",
            "2/2 [==============================] - 0s 3ms/step - loss: 8.1235 - mae: 8.1235\n",
            "Epoch 110/500\n",
            "2/2 [==============================] - 0s 3ms/step - loss: 7.7206 - mae: 7.7206\n",
            "Epoch 111/500\n",
            "2/2 [==============================] - 0s 3ms/step - loss: 16.0626 - mae: 16.0626\n",
            "Epoch 112/500\n",
            "2/2 [==============================] - 0s 3ms/step - loss: 13.6727 - mae: 13.6727\n",
            "Epoch 113/500\n",
            "2/2 [==============================] - 0s 3ms/step - loss: 28.9960 - mae: 28.9960\n",
            "Epoch 114/500\n",
            "2/2 [==============================] - 0s 3ms/step - loss: 9.3878 - mae: 9.3878\n",
            "Epoch 115/500\n",
            "2/2 [==============================] - 0s 3ms/step - loss: 11.2784 - mae: 11.2784\n",
            "Epoch 116/500\n",
            "2/2 [==============================] - 0s 3ms/step - loss: 9.4704 - mae: 9.4704\n",
            "Epoch 117/500\n",
            "2/2 [==============================] - 0s 3ms/step - loss: 16.8764 - mae: 16.8764\n",
            "Epoch 118/500\n",
            "2/2 [==============================] - 0s 3ms/step - loss: 7.0596 - mae: 7.0596\n",
            "Epoch 119/500\n",
            "2/2 [==============================] - 0s 3ms/step - loss: 15.9394 - mae: 15.9394\n",
            "Epoch 120/500\n",
            "2/2 [==============================] - 0s 3ms/step - loss: 21.1317 - mae: 21.1317\n",
            "Epoch 121/500\n",
            "2/2 [==============================] - 0s 3ms/step - loss: 11.5843 - mae: 11.5843\n",
            "Epoch 122/500\n",
            "2/2 [==============================] - 0s 3ms/step - loss: 16.2750 - mae: 16.2750\n",
            "Epoch 123/500\n",
            "2/2 [==============================] - 0s 3ms/step - loss: 15.4936 - mae: 15.4936\n",
            "Epoch 124/500\n",
            "2/2 [==============================] - 0s 3ms/step - loss: 19.0494 - mae: 19.0494\n",
            "Epoch 125/500\n",
            "2/2 [==============================] - 0s 3ms/step - loss: 16.5733 - mae: 16.5733\n",
            "Epoch 126/500\n",
            "2/2 [==============================] - 0s 3ms/step - loss: 11.1146 - mae: 11.1146\n",
            "Epoch 127/500\n",
            "2/2 [==============================] - 0s 3ms/step - loss: 11.8719 - mae: 11.8719\n",
            "Epoch 128/500\n",
            "2/2 [==============================] - 0s 6ms/step - loss: 13.0960 - mae: 13.0960\n",
            "Epoch 129/500\n",
            "2/2 [==============================] - 0s 3ms/step - loss: 19.8633 - mae: 19.8633\n",
            "Epoch 130/500\n",
            "2/2 [==============================] - 0s 3ms/step - loss: 10.0183 - mae: 10.0183\n",
            "Epoch 131/500\n",
            "2/2 [==============================] - 0s 3ms/step - loss: 27.7451 - mae: 27.7451\n",
            "Epoch 132/500\n",
            "2/2 [==============================] - 0s 3ms/step - loss: 9.2405 - mae: 9.2405\n",
            "Epoch 133/500\n",
            "2/2 [==============================] - 0s 3ms/step - loss: 15.5204 - mae: 15.5204\n",
            "Epoch 134/500\n",
            "2/2 [==============================] - 0s 3ms/step - loss: 8.4281 - mae: 8.4281\n",
            "Epoch 135/500\n",
            "2/2 [==============================] - 0s 6ms/step - loss: 25.9871 - mae: 25.9871\n",
            "Epoch 136/500\n",
            "2/2 [==============================] - 0s 6ms/step - loss: 15.8733 - mae: 15.8733\n",
            "Epoch 137/500\n",
            "2/2 [==============================] - 0s 4ms/step - loss: 10.8335 - mae: 10.8335\n",
            "Epoch 138/500\n",
            "2/2 [==============================] - 0s 3ms/step - loss: 7.4810 - mae: 7.4810\n",
            "Epoch 139/500\n",
            "2/2 [==============================] - 0s 3ms/step - loss: 15.4867 - mae: 15.4867\n",
            "Epoch 140/500\n",
            "2/2 [==============================] - 0s 3ms/step - loss: 28.7828 - mae: 28.7828\n",
            "Epoch 141/500\n",
            "2/2 [==============================] - 0s 3ms/step - loss: 9.9891 - mae: 9.9891\n",
            "Epoch 142/500\n",
            "2/2 [==============================] - 0s 3ms/step - loss: 8.6105 - mae: 8.6105\n",
            "Epoch 143/500\n",
            "2/2 [==============================] - 0s 3ms/step - loss: 13.8460 - mae: 13.8460\n",
            "Epoch 144/500\n",
            "2/2 [==============================] - 0s 3ms/step - loss: 11.9347 - mae: 11.9347\n",
            "Epoch 145/500\n",
            "2/2 [==============================] - 0s 3ms/step - loss: 11.0080 - mae: 11.0080\n",
            "Epoch 146/500\n",
            "2/2 [==============================] - 0s 3ms/step - loss: 8.6777 - mae: 8.6777\n",
            "Epoch 147/500\n",
            "2/2 [==============================] - 0s 3ms/step - loss: 18.0703 - mae: 18.0703\n",
            "Epoch 148/500\n",
            "2/2 [==============================] - 0s 3ms/step - loss: 28.4576 - mae: 28.4576\n",
            "Epoch 149/500\n",
            "2/2 [==============================] - 0s 3ms/step - loss: 15.2278 - mae: 15.2278\n",
            "Epoch 150/500\n",
            "2/2 [==============================] - 0s 3ms/step - loss: 9.3742 - mae: 9.3742\n",
            "Epoch 151/500\n",
            "2/2 [==============================] - 0s 4ms/step - loss: 21.6790 - mae: 21.6790\n",
            "Epoch 152/500\n",
            "2/2 [==============================] - 0s 6ms/step - loss: 12.1511 - mae: 12.1511\n",
            "Epoch 153/500\n",
            "2/2 [==============================] - 0s 3ms/step - loss: 22.5900 - mae: 22.5900\n",
            "Epoch 154/500\n",
            "2/2 [==============================] - 0s 3ms/step - loss: 27.4945 - mae: 27.4945\n",
            "Epoch 155/500\n",
            "2/2 [==============================] - 0s 3ms/step - loss: 11.3294 - mae: 11.3294\n",
            "Epoch 156/500\n",
            "2/2 [==============================] - 0s 3ms/step - loss: 11.9903 - mae: 11.9903\n",
            "Epoch 157/500\n",
            "2/2 [==============================] - 0s 3ms/step - loss: 18.1746 - mae: 18.1746\n",
            "Epoch 158/500\n",
            "2/2 [==============================] - 0s 5ms/step - loss: 23.1676 - mae: 23.1676\n",
            "Epoch 159/500\n",
            "2/2 [==============================] - 0s 3ms/step - loss: 15.5895 - mae: 15.5895\n",
            "Epoch 160/500\n",
            "2/2 [==============================] - 0s 3ms/step - loss: 7.2952 - mae: 7.2952\n",
            "Epoch 161/500\n",
            "2/2 [==============================] - 0s 9ms/step - loss: 12.0469 - mae: 12.0469\n",
            "Epoch 162/500\n",
            "2/2 [==============================] - 0s 4ms/step - loss: 23.5727 - mae: 23.5727\n",
            "Epoch 163/500\n",
            "2/2 [==============================] - 0s 6ms/step - loss: 16.6523 - mae: 16.6523\n",
            "Epoch 164/500\n",
            "2/2 [==============================] - 0s 5ms/step - loss: 15.8030 - mae: 15.8030\n",
            "Epoch 165/500\n",
            "2/2 [==============================] - 0s 5ms/step - loss: 8.7440 - mae: 8.7440\n",
            "Epoch 166/500\n",
            "2/2 [==============================] - 0s 4ms/step - loss: 24.1433 - mae: 24.1433\n",
            "Epoch 167/500\n",
            "2/2 [==============================] - 0s 4ms/step - loss: 9.1270 - mae: 9.1270\n",
            "Epoch 168/500\n",
            "2/2 [==============================] - 0s 5ms/step - loss: 9.3135 - mae: 9.3135\n",
            "Epoch 169/500\n",
            "2/2 [==============================] - 0s 10ms/step - loss: 28.1328 - mae: 28.1328\n",
            "Epoch 170/500\n",
            "2/2 [==============================] - 0s 4ms/step - loss: 8.2577 - mae: 8.2577\n",
            "Epoch 171/500\n",
            "2/2 [==============================] - 0s 4ms/step - loss: 32.8366 - mae: 32.8366\n",
            "Epoch 172/500\n",
            "2/2 [==============================] - 0s 4ms/step - loss: 18.3578 - mae: 18.3578\n",
            "Epoch 173/500\n",
            "2/2 [==============================] - 0s 4ms/step - loss: 8.4784 - mae: 8.4784\n",
            "Epoch 174/500\n",
            "2/2 [==============================] - 0s 4ms/step - loss: 13.6749 - mae: 13.6749\n",
            "Epoch 175/500\n",
            "2/2 [==============================] - 0s 7ms/step - loss: 10.9004 - mae: 10.9004\n",
            "Epoch 176/500\n",
            "2/2 [==============================] - 0s 5ms/step - loss: 26.1201 - mae: 26.1201\n",
            "Epoch 177/500\n",
            "2/2 [==============================] - 0s 4ms/step - loss: 15.7071 - mae: 15.7071\n",
            "Epoch 178/500\n",
            "2/2 [==============================] - 0s 4ms/step - loss: 5.9456 - mae: 5.9456\n",
            "Epoch 179/500\n",
            "2/2 [==============================] - 0s 10ms/step - loss: 20.8150 - mae: 20.8150\n",
            "Epoch 180/500\n",
            "2/2 [==============================] - 0s 4ms/step - loss: 9.7131 - mae: 9.7131\n",
            "Epoch 181/500\n",
            "2/2 [==============================] - 0s 7ms/step - loss: 9.6467 - mae: 9.6467\n",
            "Epoch 182/500\n",
            "2/2 [==============================] - 0s 4ms/step - loss: 12.1720 - mae: 12.1720\n",
            "Epoch 183/500\n",
            "2/2 [==============================] - 0s 4ms/step - loss: 6.6736 - mae: 6.6736\n",
            "Epoch 184/500\n",
            "2/2 [==============================] - 0s 7ms/step - loss: 19.7293 - mae: 19.7293\n",
            "Epoch 185/500\n",
            "2/2 [==============================] - 0s 5ms/step - loss: 16.1500 - mae: 16.1500\n",
            "Epoch 186/500\n",
            "2/2 [==============================] - 0s 4ms/step - loss: 7.2279 - mae: 7.2279\n",
            "Epoch 187/500\n",
            "2/2 [==============================] - 0s 4ms/step - loss: 36.0247 - mae: 36.0247\n",
            "Epoch 188/500\n",
            "2/2 [==============================] - 0s 5ms/step - loss: 18.9879 - mae: 18.9879\n",
            "Epoch 189/500\n",
            "2/2 [==============================] - 0s 4ms/step - loss: 14.3428 - mae: 14.3428\n",
            "Epoch 190/500\n",
            "2/2 [==============================] - 0s 6ms/step - loss: 9.3326 - mae: 9.3326\n",
            "Epoch 191/500\n",
            "2/2 [==============================] - 0s 4ms/step - loss: 17.1341 - mae: 17.1341\n",
            "Epoch 192/500\n",
            "2/2 [==============================] - 0s 4ms/step - loss: 10.0472 - mae: 10.0472\n",
            "Epoch 193/500\n",
            "2/2 [==============================] - 0s 4ms/step - loss: 16.0454 - mae: 16.0454\n",
            "Epoch 194/500\n",
            "2/2 [==============================] - 0s 7ms/step - loss: 15.7857 - mae: 15.7857\n",
            "Epoch 195/500\n",
            "2/2 [==============================] - 0s 4ms/step - loss: 23.3833 - mae: 23.3833\n",
            "Epoch 196/500\n",
            "2/2 [==============================] - 0s 4ms/step - loss: 17.5691 - mae: 17.5691\n",
            "Epoch 197/500\n",
            "2/2 [==============================] - 0s 4ms/step - loss: 7.4832 - mae: 7.4832\n",
            "Epoch 198/500\n",
            "2/2 [==============================] - 0s 9ms/step - loss: 7.2891 - mae: 7.2891\n",
            "Epoch 199/500\n",
            "2/2 [==============================] - 0s 7ms/step - loss: 22.4118 - mae: 22.4118\n",
            "Epoch 200/500\n",
            "2/2 [==============================] - 0s 8ms/step - loss: 11.7270 - mae: 11.7270\n",
            "Epoch 201/500\n",
            "2/2 [==============================] - 0s 7ms/step - loss: 13.8888 - mae: 13.8888\n",
            "Epoch 202/500\n",
            "2/2 [==============================] - 0s 5ms/step - loss: 15.0153 - mae: 15.0153\n",
            "Epoch 203/500\n",
            "2/2 [==============================] - 0s 5ms/step - loss: 28.3591 - mae: 28.3591\n",
            "Epoch 204/500\n",
            "2/2 [==============================] - 0s 7ms/step - loss: 7.4305 - mae: 7.4305\n",
            "Epoch 205/500\n",
            "2/2 [==============================] - 0s 7ms/step - loss: 28.2788 - mae: 28.2788\n",
            "Epoch 206/500\n",
            "2/2 [==============================] - 0s 4ms/step - loss: 8.4305 - mae: 8.4305\n",
            "Epoch 207/500\n",
            "2/2 [==============================] - 0s 4ms/step - loss: 18.1767 - mae: 18.1767\n",
            "Epoch 208/500\n",
            "2/2 [==============================] - 0s 3ms/step - loss: 9.0730 - mae: 9.0730\n",
            "Epoch 209/500\n",
            "2/2 [==============================] - 0s 4ms/step - loss: 28.7162 - mae: 28.7162\n",
            "Epoch 210/500\n",
            "2/2 [==============================] - 0s 4ms/step - loss: 9.4698 - mae: 9.4698\n",
            "Epoch 211/500\n",
            "2/2 [==============================] - 0s 5ms/step - loss: 23.3569 - mae: 23.3569\n",
            "Epoch 212/500\n",
            "2/2 [==============================] - 0s 6ms/step - loss: 14.1990 - mae: 14.1990\n",
            "Epoch 213/500\n",
            "2/2 [==============================] - 0s 6ms/step - loss: 15.6508 - mae: 15.6508\n",
            "Epoch 214/500\n",
            "2/2 [==============================] - 0s 5ms/step - loss: 14.2681 - mae: 14.2681\n",
            "Epoch 215/500\n",
            "2/2 [==============================] - 0s 5ms/step - loss: 15.6499 - mae: 15.6499\n",
            "Epoch 216/500\n",
            "2/2 [==============================] - 0s 4ms/step - loss: 13.1776 - mae: 13.1776\n",
            "Epoch 217/500\n",
            "2/2 [==============================] - 0s 4ms/step - loss: 17.0073 - mae: 17.0073\n",
            "Epoch 218/500\n",
            "2/2 [==============================] - 0s 4ms/step - loss: 13.5087 - mae: 13.5087\n",
            "Epoch 219/500\n",
            "2/2 [==============================] - 0s 4ms/step - loss: 15.9101 - mae: 15.9101\n",
            "Epoch 220/500\n",
            "2/2 [==============================] - 0s 4ms/step - loss: 32.2496 - mae: 32.2496\n",
            "Epoch 221/500\n",
            "2/2 [==============================] - 0s 4ms/step - loss: 14.0067 - mae: 14.0067\n",
            "Epoch 222/500\n",
            "2/2 [==============================] - 0s 3ms/step - loss: 15.8367 - mae: 15.8367\n",
            "Epoch 223/500\n",
            "2/2 [==============================] - 0s 4ms/step - loss: 14.7398 - mae: 14.7398\n",
            "Epoch 224/500\n",
            "2/2 [==============================] - 0s 3ms/step - loss: 11.5141 - mae: 11.5141\n",
            "Epoch 225/500\n",
            "2/2 [==============================] - 0s 4ms/step - loss: 17.0932 - mae: 17.0932\n",
            "Epoch 226/500\n",
            "2/2 [==============================] - 0s 3ms/step - loss: 18.6529 - mae: 18.6529\n",
            "Epoch 227/500\n",
            "2/2 [==============================] - 0s 4ms/step - loss: 30.0904 - mae: 30.0904\n",
            "Epoch 228/500\n",
            "2/2 [==============================] - 0s 3ms/step - loss: 25.0519 - mae: 25.0519\n",
            "Epoch 229/500\n",
            "2/2 [==============================] - 0s 4ms/step - loss: 20.6705 - mae: 20.6705\n",
            "Epoch 230/500\n",
            "2/2 [==============================] - 0s 4ms/step - loss: 6.7749 - mae: 6.7749\n",
            "Epoch 231/500\n",
            "2/2 [==============================] - 0s 4ms/step - loss: 14.7140 - mae: 14.7140\n",
            "Epoch 232/500\n",
            "2/2 [==============================] - 0s 3ms/step - loss: 16.4138 - mae: 16.4138\n",
            "Epoch 233/500\n",
            "2/2 [==============================] - 0s 4ms/step - loss: 16.4364 - mae: 16.4364\n",
            "Epoch 234/500\n",
            "2/2 [==============================] - 0s 4ms/step - loss: 16.7041 - mae: 16.7041\n",
            "Epoch 235/500\n",
            "2/2 [==============================] - 0s 3ms/step - loss: 14.7368 - mae: 14.7368\n",
            "Epoch 236/500\n",
            "2/2 [==============================] - 0s 3ms/step - loss: 14.4658 - mae: 14.4658\n",
            "Epoch 237/500\n",
            "2/2 [==============================] - 0s 3ms/step - loss: 16.3316 - mae: 16.3316\n",
            "Epoch 238/500\n",
            "2/2 [==============================] - 0s 3ms/step - loss: 14.1803 - mae: 14.1803\n",
            "Epoch 239/500\n",
            "2/2 [==============================] - 0s 3ms/step - loss: 17.7019 - mae: 17.7019\n",
            "Epoch 240/500\n",
            "2/2 [==============================] - 0s 3ms/step - loss: 18.9194 - mae: 18.9194\n",
            "Epoch 241/500\n",
            "2/2 [==============================] - 0s 3ms/step - loss: 12.7203 - mae: 12.7203\n",
            "Epoch 242/500\n",
            "2/2 [==============================] - 0s 3ms/step - loss: 23.0418 - mae: 23.0418\n",
            "Epoch 243/500\n",
            "2/2 [==============================] - 0s 3ms/step - loss: 21.8901 - mae: 21.8901\n",
            "Epoch 244/500\n",
            "2/2 [==============================] - 0s 3ms/step - loss: 6.9051 - mae: 6.9051\n",
            "Epoch 245/500\n",
            "2/2 [==============================] - 0s 3ms/step - loss: 7.5144 - mae: 7.5144\n",
            "Epoch 246/500\n",
            "2/2 [==============================] - 0s 3ms/step - loss: 8.4392 - mae: 8.4392\n",
            "Epoch 247/500\n",
            "2/2 [==============================] - 0s 5ms/step - loss: 17.4992 - mae: 17.4992\n",
            "Epoch 248/500\n",
            "2/2 [==============================] - 0s 4ms/step - loss: 8.3643 - mae: 8.3643\n",
            "Epoch 249/500\n",
            "2/2 [==============================] - 0s 4ms/step - loss: 25.8795 - mae: 25.8795\n",
            "Epoch 250/500\n",
            "2/2 [==============================] - 0s 5ms/step - loss: 14.3723 - mae: 14.3723\n",
            "Epoch 251/500\n",
            "2/2 [==============================] - 0s 4ms/step - loss: 12.0755 - mae: 12.0755\n",
            "Epoch 252/500\n",
            "2/2 [==============================] - 0s 4ms/step - loss: 17.4869 - mae: 17.4869\n",
            "Epoch 253/500\n",
            "2/2 [==============================] - 0s 4ms/step - loss: 10.9580 - mae: 10.9580\n",
            "Epoch 254/500\n",
            "2/2 [==============================] - 0s 4ms/step - loss: 18.4349 - mae: 18.4349\n",
            "Epoch 255/500\n",
            "2/2 [==============================] - 0s 5ms/step - loss: 17.9308 - mae: 17.9308\n",
            "Epoch 256/500\n",
            "2/2 [==============================] - 0s 6ms/step - loss: 35.4736 - mae: 35.4736\n",
            "Epoch 257/500\n",
            "2/2 [==============================] - 0s 4ms/step - loss: 25.6555 - mae: 25.6555\n",
            "Epoch 258/500\n",
            "2/2 [==============================] - 0s 4ms/step - loss: 12.8440 - mae: 12.8440\n",
            "Epoch 259/500\n",
            "2/2 [==============================] - 0s 5ms/step - loss: 15.1958 - mae: 15.1958\n",
            "Epoch 260/500\n",
            "2/2 [==============================] - 0s 4ms/step - loss: 10.9375 - mae: 10.9375\n",
            "Epoch 261/500\n",
            "2/2 [==============================] - 0s 4ms/step - loss: 21.3396 - mae: 21.3396\n",
            "Epoch 262/500\n",
            "2/2 [==============================] - 0s 4ms/step - loss: 7.2876 - mae: 7.2876\n",
            "Epoch 263/500\n",
            "2/2 [==============================] - 0s 4ms/step - loss: 37.4224 - mae: 37.4224\n",
            "Epoch 264/500\n",
            "2/2 [==============================] - 0s 4ms/step - loss: 20.8167 - mae: 20.8167\n",
            "Epoch 265/500\n",
            "2/2 [==============================] - 0s 4ms/step - loss: 5.9720 - mae: 5.9720\n",
            "Epoch 266/500\n",
            "2/2 [==============================] - 0s 4ms/step - loss: 24.9708 - mae: 24.9708\n",
            "Epoch 267/500\n",
            "2/2 [==============================] - 0s 4ms/step - loss: 15.0361 - mae: 15.0361\n",
            "Epoch 268/500\n",
            "2/2 [==============================] - 0s 4ms/step - loss: 8.2614 - mae: 8.2614\n",
            "Epoch 269/500\n",
            "2/2 [==============================] - 0s 4ms/step - loss: 15.3413 - mae: 15.3413\n",
            "Epoch 270/500\n",
            "2/2 [==============================] - 0s 4ms/step - loss: 7.4524 - mae: 7.4524\n",
            "Epoch 271/500\n",
            "2/2 [==============================] - 0s 4ms/step - loss: 18.2244 - mae: 18.2244\n",
            "Epoch 272/500\n",
            "2/2 [==============================] - 0s 4ms/step - loss: 9.8988 - mae: 9.8988\n",
            "Epoch 273/500\n",
            "2/2 [==============================] - 0s 4ms/step - loss: 17.3487 - mae: 17.3487\n",
            "Epoch 274/500\n",
            "2/2 [==============================] - 0s 4ms/step - loss: 18.3133 - mae: 18.3133\n",
            "Epoch 275/500\n",
            "2/2 [==============================] - 0s 4ms/step - loss: 12.9830 - mae: 12.9830\n",
            "Epoch 276/500\n",
            "2/2 [==============================] - 0s 4ms/step - loss: 18.2756 - mae: 18.2756\n",
            "Epoch 277/500\n",
            "2/2 [==============================] - 0s 6ms/step - loss: 13.0005 - mae: 13.0005\n",
            "Epoch 278/500\n",
            "2/2 [==============================] - 0s 5ms/step - loss: 6.3860 - mae: 6.3860\n",
            "Epoch 279/500\n",
            "2/2 [==============================] - 0s 14ms/step - loss: 11.7311 - mae: 11.7311\n",
            "Epoch 280/500\n",
            "2/2 [==============================] - 0s 8ms/step - loss: 9.5411 - mae: 9.5411\n",
            "Epoch 281/500\n",
            "2/2 [==============================] - 0s 5ms/step - loss: 11.7313 - mae: 11.7313\n",
            "Epoch 282/500\n",
            "2/2 [==============================] - 0s 6ms/step - loss: 22.6440 - mae: 22.6440\n",
            "Epoch 283/500\n",
            "2/2 [==============================] - 0s 4ms/step - loss: 19.4267 - mae: 19.4267\n",
            "Epoch 284/500\n",
            "2/2 [==============================] - 0s 7ms/step - loss: 9.0242 - mae: 9.0242\n",
            "Epoch 285/500\n",
            "2/2 [==============================] - 0s 6ms/step - loss: 29.5171 - mae: 29.5171\n",
            "Epoch 286/500\n",
            "2/2 [==============================] - 0s 4ms/step - loss: 9.1075 - mae: 9.1075\n",
            "Epoch 287/500\n",
            "2/2 [==============================] - 0s 5ms/step - loss: 8.3235 - mae: 8.3235\n",
            "Epoch 288/500\n",
            "2/2 [==============================] - 0s 5ms/step - loss: 30.1049 - mae: 30.1049\n",
            "Epoch 289/500\n",
            "2/2 [==============================] - 0s 5ms/step - loss: 7.3502 - mae: 7.3502\n",
            "Epoch 290/500\n",
            "2/2 [==============================] - 0s 5ms/step - loss: 11.8938 - mae: 11.8938\n",
            "Epoch 291/500\n",
            "2/2 [==============================] - 0s 5ms/step - loss: 11.5553 - mae: 11.5553\n",
            "Epoch 292/500\n",
            "2/2 [==============================] - 0s 4ms/step - loss: 11.9236 - mae: 11.9236\n",
            "Epoch 293/500\n",
            "2/2 [==============================] - 0s 4ms/step - loss: 19.0077 - mae: 19.0077\n",
            "Epoch 294/500\n",
            "2/2 [==============================] - 0s 4ms/step - loss: 15.4520 - mae: 15.4520\n",
            "Epoch 295/500\n",
            "2/2 [==============================] - 0s 5ms/step - loss: 27.7779 - mae: 27.7779\n",
            "Epoch 296/500\n",
            "2/2 [==============================] - 0s 5ms/step - loss: 7.3125 - mae: 7.3125\n",
            "Epoch 297/500\n",
            "2/2 [==============================] - 0s 4ms/step - loss: 7.1280 - mae: 7.1280\n",
            "Epoch 298/500\n",
            "2/2 [==============================] - 0s 5ms/step - loss: 10.0794 - mae: 10.0794\n",
            "Epoch 299/500\n",
            "2/2 [==============================] - 0s 4ms/step - loss: 11.9543 - mae: 11.9543\n",
            "Epoch 300/500\n",
            "2/2 [==============================] - 0s 5ms/step - loss: 12.3307 - mae: 12.3307\n",
            "Epoch 301/500\n",
            "2/2 [==============================] - 0s 5ms/step - loss: 14.6356 - mae: 14.6356\n",
            "Epoch 302/500\n",
            "2/2 [==============================] - 0s 5ms/step - loss: 17.0455 - mae: 17.0455\n",
            "Epoch 303/500\n",
            "2/2 [==============================] - 0s 4ms/step - loss: 12.7400 - mae: 12.7400\n",
            "Epoch 304/500\n",
            "2/2 [==============================] - 0s 7ms/step - loss: 27.9742 - mae: 27.9742\n",
            "Epoch 305/500\n",
            "2/2 [==============================] - 0s 5ms/step - loss: 4.2899 - mae: 4.2899\n",
            "Epoch 306/500\n",
            "2/2 [==============================] - 0s 5ms/step - loss: 13.3081 - mae: 13.3081\n",
            "Epoch 307/500\n",
            "2/2 [==============================] - 0s 4ms/step - loss: 15.6002 - mae: 15.6002\n",
            "Epoch 308/500\n",
            "2/2 [==============================] - 0s 4ms/step - loss: 23.1999 - mae: 23.1999\n",
            "Epoch 309/500\n",
            "2/2 [==============================] - 0s 7ms/step - loss: 23.6210 - mae: 23.6210\n",
            "Epoch 310/500\n",
            "2/2 [==============================] - 0s 10ms/step - loss: 8.1304 - mae: 8.1304\n",
            "Epoch 311/500\n",
            "2/2 [==============================] - 0s 5ms/step - loss: 28.6745 - mae: 28.6745\n",
            "Epoch 312/500\n",
            "2/2 [==============================] - 0s 10ms/step - loss: 16.6505 - mae: 16.6505\n",
            "Epoch 313/500\n",
            "2/2 [==============================] - 0s 4ms/step - loss: 10.3749 - mae: 10.3749\n",
            "Epoch 314/500\n",
            "2/2 [==============================] - 0s 4ms/step - loss: 13.5097 - mae: 13.5097\n",
            "Epoch 315/500\n",
            "2/2 [==============================] - 0s 4ms/step - loss: 14.5737 - mae: 14.5737\n",
            "Epoch 316/500\n",
            "2/2 [==============================] - 0s 7ms/step - loss: 25.9450 - mae: 25.9450\n",
            "Epoch 317/500\n",
            "2/2 [==============================] - 0s 7ms/step - loss: 15.2294 - mae: 15.2294\n",
            "Epoch 318/500\n",
            "2/2 [==============================] - 0s 7ms/step - loss: 11.0058 - mae: 11.0058\n",
            "Epoch 319/500\n",
            "2/2 [==============================] - 0s 4ms/step - loss: 13.1222 - mae: 13.1222\n",
            "Epoch 320/500\n",
            "2/2 [==============================] - 0s 6ms/step - loss: 18.7678 - mae: 18.7678\n",
            "Epoch 321/500\n",
            "2/2 [==============================] - 0s 5ms/step - loss: 28.4452 - mae: 28.4452\n",
            "Epoch 322/500\n",
            "2/2 [==============================] - 0s 8ms/step - loss: 15.0728 - mae: 15.0728\n",
            "Epoch 323/500\n",
            "2/2 [==============================] - 0s 6ms/step - loss: 8.6451 - mae: 8.6451\n",
            "Epoch 324/500\n",
            "2/2 [==============================] - 0s 7ms/step - loss: 9.0500 - mae: 9.0500\n",
            "Epoch 325/500\n",
            "2/2 [==============================] - 0s 6ms/step - loss: 16.6578 - mae: 16.6578\n",
            "Epoch 326/500\n",
            "2/2 [==============================] - 0s 7ms/step - loss: 14.9418 - mae: 14.9418\n",
            "Epoch 327/500\n",
            "2/2 [==============================] - 0s 8ms/step - loss: 18.3359 - mae: 18.3359\n",
            "Epoch 328/500\n",
            "2/2 [==============================] - 0s 8ms/step - loss: 36.0675 - mae: 36.0675\n",
            "Epoch 329/500\n",
            "2/2 [==============================] - 0s 6ms/step - loss: 21.1199 - mae: 21.1199\n",
            "Epoch 330/500\n",
            "2/2 [==============================] - 0s 8ms/step - loss: 19.5327 - mae: 19.5327\n",
            "Epoch 331/500\n",
            "2/2 [==============================] - 0s 7ms/step - loss: 8.0748 - mae: 8.0748\n",
            "Epoch 332/500\n",
            "2/2 [==============================] - 0s 6ms/step - loss: 26.4039 - mae: 26.4039\n",
            "Epoch 333/500\n",
            "2/2 [==============================] - 0s 4ms/step - loss: 16.1247 - mae: 16.1247\n",
            "Epoch 334/500\n",
            "2/2 [==============================] - 0s 9ms/step - loss: 7.6058 - mae: 7.6058\n",
            "Epoch 335/500\n",
            "2/2 [==============================] - 0s 4ms/step - loss: 8.8833 - mae: 8.8833\n",
            "Epoch 336/500\n",
            "2/2 [==============================] - 0s 3ms/step - loss: 15.5163 - mae: 15.5163\n",
            "Epoch 337/500\n",
            "2/2 [==============================] - 0s 3ms/step - loss: 13.1259 - mae: 13.1259\n",
            "Epoch 338/500\n",
            "2/2 [==============================] - 0s 3ms/step - loss: 24.1731 - mae: 24.1731\n",
            "Epoch 339/500\n",
            "2/2 [==============================] - 0s 3ms/step - loss: 24.2771 - mae: 24.2771\n",
            "Epoch 340/500\n",
            "2/2 [==============================] - 0s 3ms/step - loss: 6.7335 - mae: 6.7335\n",
            "Epoch 341/500\n",
            "2/2 [==============================] - 0s 3ms/step - loss: 22.3961 - mae: 22.3961\n",
            "Epoch 342/500\n",
            "2/2 [==============================] - 0s 4ms/step - loss: 24.3736 - mae: 24.3736\n",
            "Epoch 343/500\n",
            "2/2 [==============================] - 0s 3ms/step - loss: 7.4735 - mae: 7.4735\n",
            "Epoch 344/500\n",
            "2/2 [==============================] - 0s 4ms/step - loss: 6.7090 - mae: 6.7090\n",
            "Epoch 345/500\n",
            "2/2 [==============================] - 0s 4ms/step - loss: 21.5518 - mae: 21.5518\n",
            "Epoch 346/500\n",
            "2/2 [==============================] - 0s 4ms/step - loss: 11.8034 - mae: 11.8034\n",
            "Epoch 347/500\n",
            "2/2 [==============================] - 0s 4ms/step - loss: 22.5962 - mae: 22.5962\n",
            "Epoch 348/500\n",
            "2/2 [==============================] - 0s 7ms/step - loss: 11.1813 - mae: 11.1813\n",
            "Epoch 349/500\n",
            "2/2 [==============================] - 0s 3ms/step - loss: 7.6113 - mae: 7.6113\n",
            "Epoch 350/500\n",
            "2/2 [==============================] - 0s 3ms/step - loss: 23.3382 - mae: 23.3382\n",
            "Epoch 351/500\n",
            "2/2 [==============================] - 0s 3ms/step - loss: 12.5011 - mae: 12.5011\n",
            "Epoch 352/500\n",
            "2/2 [==============================] - 0s 7ms/step - loss: 20.9063 - mae: 20.9063\n",
            "Epoch 353/500\n",
            "2/2 [==============================] - 0s 3ms/step - loss: 27.9033 - mae: 27.9033\n",
            "Epoch 354/500\n",
            "2/2 [==============================] - 0s 4ms/step - loss: 23.7519 - mae: 23.7519\n",
            "Epoch 355/500\n",
            "2/2 [==============================] - 0s 3ms/step - loss: 4.6241 - mae: 4.6241\n",
            "Epoch 356/500\n",
            "2/2 [==============================] - 0s 5ms/step - loss: 17.1720 - mae: 17.1720\n",
            "Epoch 357/500\n",
            "2/2 [==============================] - 0s 8ms/step - loss: 15.9301 - mae: 15.9301\n",
            "Epoch 358/500\n",
            "2/2 [==============================] - 0s 3ms/step - loss: 12.4307 - mae: 12.4307\n",
            "Epoch 359/500\n",
            "2/2 [==============================] - 0s 4ms/step - loss: 7.2878 - mae: 7.2878\n",
            "Epoch 360/500\n",
            "2/2 [==============================] - 0s 4ms/step - loss: 13.2287 - mae: 13.2287\n",
            "Epoch 361/500\n",
            "2/2 [==============================] - 0s 5ms/step - loss: 12.9525 - mae: 12.9525\n",
            "Epoch 362/500\n",
            "2/2 [==============================] - 0s 3ms/step - loss: 16.0287 - mae: 16.0287\n",
            "Epoch 363/500\n",
            "2/2 [==============================] - 0s 5ms/step - loss: 9.1655 - mae: 9.1655\n",
            "Epoch 364/500\n",
            "2/2 [==============================] - 0s 4ms/step - loss: 12.4848 - mae: 12.4848\n",
            "Epoch 365/500\n",
            "2/2 [==============================] - 0s 4ms/step - loss: 22.4803 - mae: 22.4803\n",
            "Epoch 366/500\n",
            "2/2 [==============================] - 0s 7ms/step - loss: 28.6442 - mae: 28.6442\n",
            "Epoch 367/500\n",
            "2/2 [==============================] - 0s 5ms/step - loss: 7.4999 - mae: 7.4999\n",
            "Epoch 368/500\n",
            "2/2 [==============================] - 0s 6ms/step - loss: 27.8135 - mae: 27.8135\n",
            "Epoch 369/500\n",
            "2/2 [==============================] - 0s 6ms/step - loss: 8.1435 - mae: 8.1435\n",
            "Epoch 370/500\n",
            "2/2 [==============================] - 0s 6ms/step - loss: 18.5659 - mae: 18.5659\n",
            "Epoch 371/500\n",
            "2/2 [==============================] - 0s 6ms/step - loss: 33.7618 - mae: 33.7618\n",
            "Epoch 372/500\n",
            "2/2 [==============================] - 0s 7ms/step - loss: 14.4484 - mae: 14.4484\n",
            "Epoch 373/500\n",
            "2/2 [==============================] - 0s 7ms/step - loss: 10.8919 - mae: 10.8919\n",
            "Epoch 374/500\n",
            "2/2 [==============================] - 0s 10ms/step - loss: 13.6569 - mae: 13.6569\n",
            "Epoch 375/500\n",
            "2/2 [==============================] - 0s 4ms/step - loss: 13.4873 - mae: 13.4873\n",
            "Epoch 376/500\n",
            "2/2 [==============================] - 0s 5ms/step - loss: 14.3464 - mae: 14.3464\n",
            "Epoch 377/500\n",
            "2/2 [==============================] - 0s 8ms/step - loss: 13.9453 - mae: 13.9453\n",
            "Epoch 378/500\n",
            "2/2 [==============================] - 0s 6ms/step - loss: 18.3083 - mae: 18.3083\n",
            "Epoch 379/500\n",
            "2/2 [==============================] - 0s 4ms/step - loss: 9.1102 - mae: 9.1102\n",
            "Epoch 380/500\n",
            "2/2 [==============================] - 0s 7ms/step - loss: 19.8767 - mae: 19.8767\n",
            "Epoch 381/500\n",
            "2/2 [==============================] - 0s 6ms/step - loss: 5.3992 - mae: 5.3992\n",
            "Epoch 382/500\n",
            "2/2 [==============================] - 0s 5ms/step - loss: 16.9565 - mae: 16.9565\n",
            "Epoch 383/500\n",
            "2/2 [==============================] - 0s 6ms/step - loss: 22.9250 - mae: 22.9250\n",
            "Epoch 384/500\n",
            "2/2 [==============================] - 0s 6ms/step - loss: 24.0919 - mae: 24.0919\n",
            "Epoch 385/500\n",
            "2/2 [==============================] - 0s 5ms/step - loss: 7.2657 - mae: 7.2657\n",
            "Epoch 386/500\n",
            "2/2 [==============================] - 0s 8ms/step - loss: 20.4003 - mae: 20.4003\n",
            "Epoch 387/500\n",
            "2/2 [==============================] - 0s 8ms/step - loss: 12.4302 - mae: 12.4302\n",
            "Epoch 388/500\n",
            "2/2 [==============================] - 0s 6ms/step - loss: 22.3102 - mae: 22.3102\n",
            "Epoch 389/500\n",
            "2/2 [==============================] - 0s 5ms/step - loss: 24.0534 - mae: 24.0534\n",
            "Epoch 390/500\n",
            "2/2 [==============================] - 0s 4ms/step - loss: 14.1267 - mae: 14.1267\n",
            "Epoch 391/500\n",
            "2/2 [==============================] - 0s 6ms/step - loss: 23.9568 - mae: 23.9568\n",
            "Epoch 392/500\n",
            "2/2 [==============================] - 0s 5ms/step - loss: 16.2259 - mae: 16.2259\n",
            "Epoch 393/500\n",
            "2/2 [==============================] - 0s 6ms/step - loss: 13.9531 - mae: 13.9531\n",
            "Epoch 394/500\n",
            "2/2 [==============================] - 0s 7ms/step - loss: 32.3296 - mae: 32.3296\n",
            "Epoch 395/500\n",
            "2/2 [==============================] - 0s 9ms/step - loss: 15.0218 - mae: 15.0218\n",
            "Epoch 396/500\n",
            "2/2 [==============================] - 0s 6ms/step - loss: 25.8191 - mae: 25.8191\n",
            "Epoch 397/500\n",
            "2/2 [==============================] - 0s 7ms/step - loss: 12.0412 - mae: 12.0412\n",
            "Epoch 398/500\n",
            "2/2 [==============================] - 0s 4ms/step - loss: 6.6582 - mae: 6.6582\n",
            "Epoch 399/500\n",
            "2/2 [==============================] - 0s 7ms/step - loss: 11.4555 - mae: 11.4555\n",
            "Epoch 400/500\n",
            "2/2 [==============================] - 0s 4ms/step - loss: 16.2138 - mae: 16.2138\n",
            "Epoch 401/500\n",
            "2/2 [==============================] - 0s 4ms/step - loss: 12.4016 - mae: 12.4016\n",
            "Epoch 402/500\n",
            "2/2 [==============================] - 0s 4ms/step - loss: 14.2626 - mae: 14.2626\n",
            "Epoch 403/500\n",
            "2/2 [==============================] - 0s 3ms/step - loss: 16.9425 - mae: 16.9425\n",
            "Epoch 404/500\n",
            "2/2 [==============================] - 0s 3ms/step - loss: 14.5015 - mae: 14.5015\n",
            "Epoch 405/500\n",
            "2/2 [==============================] - 0s 3ms/step - loss: 13.3826 - mae: 13.3826\n",
            "Epoch 406/500\n",
            "2/2 [==============================] - 0s 3ms/step - loss: 23.4994 - mae: 23.4994\n",
            "Epoch 407/500\n",
            "2/2 [==============================] - 0s 7ms/step - loss: 19.4696 - mae: 19.4696\n",
            "Epoch 408/500\n",
            "2/2 [==============================] - 0s 3ms/step - loss: 5.5802 - mae: 5.5802\n",
            "Epoch 409/500\n",
            "2/2 [==============================] - 0s 3ms/step - loss: 6.3848 - mae: 6.3848\n",
            "Epoch 410/500\n",
            "2/2 [==============================] - 0s 3ms/step - loss: 5.9907 - mae: 5.9907\n",
            "Epoch 411/500\n",
            "2/2 [==============================] - 0s 3ms/step - loss: 7.4370 - mae: 7.4370\n",
            "Epoch 412/500\n",
            "2/2 [==============================] - 0s 3ms/step - loss: 16.7108 - mae: 16.7108\n",
            "Epoch 413/500\n",
            "2/2 [==============================] - 0s 3ms/step - loss: 6.5953 - mae: 6.5953\n",
            "Epoch 414/500\n",
            "2/2 [==============================] - 0s 3ms/step - loss: 23.5680 - mae: 23.5680\n",
            "Epoch 415/500\n",
            "2/2 [==============================] - 0s 3ms/step - loss: 6.5150 - mae: 6.5150\n",
            "Epoch 416/500\n",
            "2/2 [==============================] - 0s 4ms/step - loss: 18.2472 - mae: 18.2472\n",
            "Epoch 417/500\n",
            "2/2 [==============================] - 0s 4ms/step - loss: 7.0394 - mae: 7.0394\n",
            "Epoch 418/500\n",
            "2/2 [==============================] - 0s 3ms/step - loss: 8.7715 - mae: 8.7715\n",
            "Epoch 419/500\n",
            "2/2 [==============================] - 0s 3ms/step - loss: 13.4613 - mae: 13.4613\n",
            "Epoch 420/500\n",
            "2/2 [==============================] - 0s 3ms/step - loss: 5.7901 - mae: 5.7901\n",
            "Epoch 421/500\n",
            "2/2 [==============================] - 0s 3ms/step - loss: 7.2520 - mae: 7.2520\n",
            "Epoch 422/500\n",
            "2/2 [==============================] - 0s 4ms/step - loss: 10.5465 - mae: 10.5465\n",
            "Epoch 423/500\n",
            "2/2 [==============================] - 0s 4ms/step - loss: 23.7608 - mae: 23.7608\n",
            "Epoch 424/500\n",
            "2/2 [==============================] - 0s 4ms/step - loss: 20.8383 - mae: 20.8383\n",
            "Epoch 425/500\n",
            "2/2 [==============================] - 0s 3ms/step - loss: 15.0700 - mae: 15.0700\n",
            "Epoch 426/500\n",
            "2/2 [==============================] - 0s 6ms/step - loss: 5.6359 - mae: 5.6359\n",
            "Epoch 427/500\n",
            "2/2 [==============================] - 0s 7ms/step - loss: 25.8894 - mae: 25.8894\n",
            "Epoch 428/500\n",
            "2/2 [==============================] - 0s 8ms/step - loss: 10.5072 - mae: 10.5072\n",
            "Epoch 429/500\n",
            "2/2 [==============================] - 0s 4ms/step - loss: 7.7982 - mae: 7.7982\n",
            "Epoch 430/500\n",
            "2/2 [==============================] - 0s 4ms/step - loss: 29.5934 - mae: 29.5934\n",
            "Epoch 431/500\n",
            "2/2 [==============================] - 0s 3ms/step - loss: 5.8022 - mae: 5.8022\n",
            "Epoch 432/500\n",
            "2/2 [==============================] - 0s 4ms/step - loss: 28.1184 - mae: 28.1184\n",
            "Epoch 433/500\n",
            "2/2 [==============================] - 0s 4ms/step - loss: 12.2500 - mae: 12.2500\n",
            "Epoch 434/500\n",
            "2/2 [==============================] - 0s 4ms/step - loss: 5.0166 - mae: 5.0166\n",
            "Epoch 435/500\n",
            "2/2 [==============================] - 0s 4ms/step - loss: 25.8773 - mae: 25.8773\n",
            "Epoch 436/500\n",
            "2/2 [==============================] - 0s 4ms/step - loss: 11.0361 - mae: 11.0361\n",
            "Epoch 437/500\n",
            "2/2 [==============================] - 0s 4ms/step - loss: 14.0824 - mae: 14.0824\n",
            "Epoch 438/500\n",
            "2/2 [==============================] - 0s 4ms/step - loss: 14.6592 - mae: 14.6592\n",
            "Epoch 439/500\n",
            "2/2 [==============================] - 0s 5ms/step - loss: 27.6247 - mae: 27.6247\n",
            "Epoch 440/500\n",
            "2/2 [==============================] - 0s 3ms/step - loss: 8.8769 - mae: 8.8769\n",
            "Epoch 441/500\n",
            "2/2 [==============================] - 0s 4ms/step - loss: 26.3632 - mae: 26.3632\n",
            "Epoch 442/500\n",
            "2/2 [==============================] - 0s 4ms/step - loss: 11.9360 - mae: 11.9360\n",
            "Epoch 443/500\n",
            "2/2 [==============================] - 0s 4ms/step - loss: 6.5789 - mae: 6.5789\n",
            "Epoch 444/500\n",
            "2/2 [==============================] - 0s 4ms/step - loss: 24.6686 - mae: 24.6686\n",
            "Epoch 445/500\n",
            "2/2 [==============================] - 0s 4ms/step - loss: 19.3224 - mae: 19.3224\n",
            "Epoch 446/500\n",
            "2/2 [==============================] - 0s 6ms/step - loss: 21.0746 - mae: 21.0746\n",
            "Epoch 447/500\n",
            "2/2 [==============================] - 0s 4ms/step - loss: 11.7732 - mae: 11.7732\n",
            "Epoch 448/500\n",
            "2/2 [==============================] - 0s 9ms/step - loss: 24.8764 - mae: 24.8764\n",
            "Epoch 449/500\n",
            "2/2 [==============================] - 0s 4ms/step - loss: 18.9715 - mae: 18.9715\n",
            "Epoch 450/500\n",
            "2/2 [==============================] - 0s 4ms/step - loss: 8.5452 - mae: 8.5452\n",
            "Epoch 451/500\n",
            "2/2 [==============================] - 0s 4ms/step - loss: 25.6614 - mae: 25.6614\n",
            "Epoch 452/500\n",
            "2/2 [==============================] - 0s 4ms/step - loss: 15.8624 - mae: 15.8624\n",
            "Epoch 453/500\n",
            "2/2 [==============================] - 0s 4ms/step - loss: 7.0895 - mae: 7.0895\n",
            "Epoch 454/500\n",
            "2/2 [==============================] - 0s 9ms/step - loss: 14.8929 - mae: 14.8929\n",
            "Epoch 455/500\n",
            "2/2 [==============================] - 0s 7ms/step - loss: 19.1787 - mae: 19.1787\n",
            "Epoch 456/500\n",
            "2/2 [==============================] - 0s 5ms/step - loss: 22.8454 - mae: 22.8454\n",
            "Epoch 457/500\n",
            "2/2 [==============================] - 0s 14ms/step - loss: 11.8853 - mae: 11.8853\n",
            "Epoch 458/500\n",
            "2/2 [==============================] - 0s 4ms/step - loss: 10.8944 - mae: 10.8944\n",
            "Epoch 459/500\n",
            "2/2 [==============================] - 0s 5ms/step - loss: 13.5108 - mae: 13.5108\n",
            "Epoch 460/500\n",
            "2/2 [==============================] - 0s 4ms/step - loss: 29.9619 - mae: 29.9619\n",
            "Epoch 461/500\n",
            "2/2 [==============================] - 0s 4ms/step - loss: 5.1740 - mae: 5.1740\n",
            "Epoch 462/500\n",
            "2/2 [==============================] - 0s 13ms/step - loss: 18.0607 - mae: 18.0607\n",
            "Epoch 463/500\n",
            "2/2 [==============================] - 0s 10ms/step - loss: 6.6034 - mae: 6.6034\n",
            "Epoch 464/500\n",
            "2/2 [==============================] - 0s 4ms/step - loss: 30.1623 - mae: 30.1623\n",
            "Epoch 465/500\n",
            "2/2 [==============================] - 0s 6ms/step - loss: 15.6893 - mae: 15.6893\n",
            "Epoch 466/500\n",
            "2/2 [==============================] - 0s 4ms/step - loss: 6.4114 - mae: 6.4114\n",
            "Epoch 467/500\n",
            "2/2 [==============================] - 0s 6ms/step - loss: 8.5945 - mae: 8.5945\n",
            "Epoch 468/500\n",
            "2/2 [==============================] - 0s 5ms/step - loss: 12.3271 - mae: 12.3271\n",
            "Epoch 469/500\n",
            "2/2 [==============================] - 0s 7ms/step - loss: 22.9475 - mae: 22.9475\n",
            "Epoch 470/500\n",
            "2/2 [==============================] - 0s 5ms/step - loss: 28.7607 - mae: 28.7607\n",
            "Epoch 471/500\n",
            "2/2 [==============================] - 0s 4ms/step - loss: 19.4872 - mae: 19.4872\n",
            "Epoch 472/500\n",
            "2/2 [==============================] - 0s 3ms/step - loss: 6.1173 - mae: 6.1173\n",
            "Epoch 473/500\n",
            "2/2 [==============================] - 0s 4ms/step - loss: 3.8297 - mae: 3.8297\n",
            "Epoch 474/500\n",
            "2/2 [==============================] - 0s 3ms/step - loss: 17.5810 - mae: 17.5810\n",
            "Epoch 475/500\n",
            "2/2 [==============================] - 0s 4ms/step - loss: 13.0854 - mae: 13.0854\n",
            "Epoch 476/500\n",
            "2/2 [==============================] - 0s 5ms/step - loss: 30.8059 - mae: 30.8059\n",
            "Epoch 477/500\n",
            "2/2 [==============================] - 0s 5ms/step - loss: 12.8039 - mae: 12.8039\n",
            "Epoch 478/500\n",
            "2/2 [==============================] - 0s 8ms/step - loss: 23.6651 - mae: 23.6651\n",
            "Epoch 479/500\n",
            "2/2 [==============================] - 0s 7ms/step - loss: 24.1728 - mae: 24.1728\n",
            "Epoch 480/500\n",
            "2/2 [==============================] - 0s 11ms/step - loss: 11.3057 - mae: 11.3057\n",
            "Epoch 481/500\n",
            "2/2 [==============================] - 0s 4ms/step - loss: 23.9553 - mae: 23.9553\n",
            "Epoch 482/500\n",
            "2/2 [==============================] - 0s 6ms/step - loss: 20.4046 - mae: 20.4046\n",
            "Epoch 483/500\n",
            "2/2 [==============================] - 0s 3ms/step - loss: 9.9172 - mae: 9.9172\n",
            "Epoch 484/500\n",
            "2/2 [==============================] - 0s 3ms/step - loss: 10.8763 - mae: 10.8763\n",
            "Epoch 485/500\n",
            "2/2 [==============================] - 0s 4ms/step - loss: 16.7175 - mae: 16.7175\n",
            "Epoch 486/500\n",
            "2/2 [==============================] - 0s 3ms/step - loss: 16.8906 - mae: 16.8906\n",
            "Epoch 487/500\n",
            "2/2 [==============================] - 0s 3ms/step - loss: 21.2308 - mae: 21.2308\n",
            "Epoch 488/500\n",
            "2/2 [==============================] - 0s 3ms/step - loss: 17.8934 - mae: 17.8934\n",
            "Epoch 489/500\n",
            "2/2 [==============================] - 0s 3ms/step - loss: 11.8904 - mae: 11.8904\n",
            "Epoch 490/500\n",
            "2/2 [==============================] - 0s 3ms/step - loss: 14.7214 - mae: 14.7214\n",
            "Epoch 491/500\n",
            "2/2 [==============================] - 0s 7ms/step - loss: 24.6354 - mae: 24.6354\n",
            "Epoch 492/500\n",
            "2/2 [==============================] - 0s 6ms/step - loss: 19.2531 - mae: 19.2531\n",
            "Epoch 493/500\n",
            "2/2 [==============================] - 0s 4ms/step - loss: 10.8687 - mae: 10.8687\n",
            "Epoch 494/500\n",
            "2/2 [==============================] - 0s 5ms/step - loss: 12.2406 - mae: 12.2406\n",
            "Epoch 495/500\n",
            "2/2 [==============================] - 0s 6ms/step - loss: 22.8886 - mae: 22.8886\n",
            "Epoch 496/500\n",
            "2/2 [==============================] - 0s 4ms/step - loss: 27.5326 - mae: 27.5326\n",
            "Epoch 497/500\n",
            "2/2 [==============================] - 0s 4ms/step - loss: 10.1458 - mae: 10.1458\n",
            "Epoch 498/500\n",
            "2/2 [==============================] - 0s 8ms/step - loss: 14.9446 - mae: 14.9446\n",
            "Epoch 499/500\n",
            "2/2 [==============================] - 0s 6ms/step - loss: 12.9876 - mae: 12.9876\n",
            "Epoch 500/500\n",
            "2/2 [==============================] - 0s 10ms/step - loss: 23.9524 - mae: 23.9524\n"
          ]
        },
        {
          "output_type": "execute_result",
          "data": {
            "text/plain": [
              "<keras.callbacks.History at 0x7f15ddba8510>"
            ]
          },
          "metadata": {},
          "execution_count": 56
        }
      ]
    },
    {
      "cell_type": "code",
      "source": [
        "# Make and plot predictions for model_2\n",
        "y_preds_3 = model_3.predict(X_test)\n",
        "plot_predictions(predictions=y_preds_3)"
      ],
      "metadata": {
        "colab": {
          "base_uri": "https://localhost:8080/",
          "height": 430
        },
        "id": "5i5fOon41_3S",
        "outputId": "f9382ccd-1faa-4ed1-bd6b-26efd626d741"
      },
      "execution_count": null,
      "outputs": [
        {
          "output_type": "display_data",
          "data": {
            "text/plain": [
              "<Figure size 720x504 with 1 Axes>"
            ],
            "image/png": "[encoded data removed]"
          },
          "metadata": {
            "needs_background": "light"
          }
        }
      ]
    },
    {
      "cell_type": "code",
      "source": [
        "# Calculate model 3 evaluation metrics\n",
        "mae_3 = mae(y_test, y_preds_3)\n",
        "mse_3 = mse(y_test, y_preds_3)\n",
        "\n",
        "mae_3, mse_3"
      ],
      "metadata": {
        "colab": {
          "base_uri": "https://localhost:8080/"
        },
        "id": "5qqpi06G2nqa",
        "outputId": "87e5ea82-59ee-4612-b310-a1fe3d1d8b13"
      },
      "execution_count": null,
      "outputs": [
        {
          "output_type": "execute_result",
          "data": {
            "text/plain": [
              "(<tf.Tensor: shape=(), dtype=float32, numpy=27.195185>,\n",
              " <tf.Tensor: shape=(), dtype=float32, numpy=759.6576>)"
            ]
          },
          "metadata": {},
          "execution_count": 58
        }
      ]
    },
    {
      "cell_type": "markdown",
      "source": [
        "**Note:** You want to start with small experiments (small models) and make sure they work and then increase their scale when necessary."
      ],
      "metadata": {
        "id": "yW-VKqWi4v5_"
      }
    },
    {
      "cell_type": "markdown",
      "source": [
        "## Comparing the results of our experiments\n",
        "\n",
        "We've run a few experiments, let's compare the results.\n"
      ],
      "metadata": {
        "id": "0KoI3uSG3I4T"
      }
    },
    {
      "cell_type": "code",
      "source": [
        "# Let's compare our model's results using a pandas DataFrame\n",
        "import pandas as pd\n",
        "\n",
        "model_results = [[\"model_1\", mae_1.numpy(), mse_1.numpy()],\n",
        "                 [\"model_2\", mae_2.numpy(), mse_2.numpy()],\n",
        "                 [\"model_3\", mae_3.numpy(), mse_3.numpy()]]\n",
        "              \n",
        "all_results = pd.DataFrame(model_results, columns=[\"model\", \"mae\", \"mse\"])\n",
        "all_results"
      ],
      "metadata": {
        "colab": {
          "base_uri": "https://localhost:8080/",
          "height": 143
        },
        "id": "WYR1a1dr5H9H",
        "outputId": "00b3c88a-95ae-4689-a9f0-aa3c0c9939b5"
      },
      "execution_count": null,
      "outputs": [
        {
          "output_type": "execute_result",
          "data": {
            "text/plain": [
              "     model        mae         mse\n",
              "0  model_1   6.786891   46.137959\n",
              "1  model_2   3.264570   13.435565\n",
              "2  model_3  27.195185  759.657593"
            ],
            "text/html": [
              "\n",
              "  <div id=\"df-91c3b12d-15d7-4cd4-b814-f75ade355c84\">\n",
              "    <div class=\"colab-df-container\">\n",
              "      <div>\n",
              "<style scoped>\n",
              "    .dataframe tbody tr th:only-of-type {\n",
              "        vertical-align: middle;\n",
              "    }\n",
              "\n",
              "    .dataframe tbody tr th {\n",
              "        vertical-align: top;\n",
              "    }\n",
              "\n",
              "    .dataframe thead th {\n",
              "        text-align: right;\n",
              "    }\n",
              "</style>\n",
              "<table border=\"1\" class=\"dataframe\">\n",
              "  <thead>\n",
              "    <tr style=\"text-align: right;\">\n",
              "      <th></th>\n",
              "      <th>model</th>\n",
              "      <th>mae</th>\n",
              "      <th>mse</th>\n",
              "    </tr>\n",
              "  </thead>\n",
              "  <tbody>\n",
              "    <tr>\n",
              "      <th>0</th>\n",
              "      <td>model_1</td>\n",
              "      <td>6.786891</td>\n",
              "      <td>46.137959</td>\n",
              "    </tr>\n",
              "    <tr>\n",
              "      <th>1</th>\n",
              "      <td>model_2</td>\n",
              "      <td>3.264570</td>\n",
              "      <td>13.435565</td>\n",
              "    </tr>\n",
              "    <tr>\n",
              "      <th>2</th>\n",
              "      <td>model_3</td>\n",
              "      <td>27.195185</td>\n",
              "      <td>759.657593</td>\n",
              "    </tr>\n",
              "  </tbody>\n",
              "</table>\n",
              "</div>\n",
              "      <button class=\"colab-df-convert\" onclick=\"convertToInteractive('df-91c3b12d-15d7-4cd4-b814-f75ade355c84')\"\n",
              "              title=\"Convert this dataframe to an interactive table.\"\n",
              "              style=\"display:none;\">\n",
              "        \n",
              "  <svg xmlns=\"http://www.w3.org/2000/svg\" height=\"24px\"viewBox=\"0 0 24 24\"\n",
              "       width=\"24px\">\n",
              "    <path d=\"M0 0h24v24H0V0z\" fill=\"none\"/>\n",
              "    <path d=\"M18.56 5.44l.94 2.06.94-2.06 2.06-.94-2.06-.94-.94-2.06-.94 2.06-2.06.94zm-11 1L8.5 8.5l.94-2.06 2.06-.94-2.06-.94L8.5 2.5l-.94 2.06-2.06.94zm10 10l.94 2.06.94-2.06 2.06-.94-2.06-.94-.94-2.06-.94 2.06-2.06.94z\"/><path d=\"M17.41 7.96l-1.37-1.37c-.4-.4-.92-.59-1.43-.59-.52 0-1.04.2-1.43.59L10.3 9.45l-7.72 7.72c-.78.78-.78 2.05 0 2.83L4 21.41c.39.39.9.59 1.41.59.51 0 1.02-.2 1.41-.59l7.78-7.78 2.81-2.81c.8-.78.8-2.07 0-2.86zM5.41 20L4 18.59l7.72-7.72 1.47 1.35L5.41 20z\"/>\n",
              "  </svg>\n",
              "      </button>\n",
              "      \n",
              "  <style>\n",
              "    .colab-df-container {\n",
              "      display:flex;\n",
              "      flex-wrap:wrap;\n",
              "      gap: 12px;\n",
              "    }\n",
              "\n",
              "    .colab-df-convert {\n",
              "      background-color: #E8F0FE;\n",
              "      border: none;\n",
              "      border-radius: 50%;\n",
              "      cursor: pointer;\n",
              "      display: none;\n",
              "      fill: #1967D2;\n",
              "      height: 32px;\n",
              "      padding: 0 0 0 0;\n",
              "      width: 32px;\n",
              "    }\n",
              "\n",
              "    .colab-df-convert:hover {\n",
              "      background-color: #E2EBFA;\n",
              "      box-shadow: 0px 1px 2px rgba(60, 64, 67, 0.3), 0px 1px 3px 1px rgba(60, 64, 67, 0.15);\n",
              "      fill: #174EA6;\n",
              "    }\n",
              "\n",
              "    [theme=dark] .colab-df-convert {\n",
              "      background-color: #3B4455;\n",
              "      fill: #D2E3FC;\n",
              "    }\n",
              "\n",
              "    [theme=dark] .colab-df-convert:hover {\n",
              "      background-color: #434B5C;\n",
              "      box-shadow: 0px 1px 3px 1px rgba(0, 0, 0, 0.15);\n",
              "      filter: drop-shadow(0px 1px 2px rgba(0, 0, 0, 0.3));\n",
              "      fill: #FFFFFF;\n",
              "    }\n",
              "  </style>\n",
              "\n",
              "      <script>\n",
              "        const buttonEl =\n",
              "          document.querySelector('#df-91c3b12d-15d7-4cd4-b814-f75ade355c84 button.colab-df-convert');\n",
              "        buttonEl.style.display =\n",
              "          google.colab.kernel.accessAllowed ? 'block' : 'none';\n",
              "\n",
              "        async function convertToInteractive(key) {\n",
              "          const element = document.querySelector('#df-91c3b12d-15d7-4cd4-b814-f75ade355c84');\n",
              "          const dataTable =\n",
              "            await google.colab.kernel.invokeFunction('convertToInteractive',\n",
              "                                                     [key], {});\n",
              "          if (!dataTable) return;\n",
              "\n",
              "          const docLinkHtml = 'Like what you see? Visit the ' +\n",
              "            '<a target=\"_blank\" href=https://colab.research.google.com/notebooks/data_table.ipynb>data table notebook</a>'\n",
              "            + ' to learn more about interactive tables.';\n",
              "          element.innerHTML = '';\n",
              "          dataTable['output_type'] = 'display_data';\n",
              "          await google.colab.output.renderOutput(dataTable, element);\n",
              "          const docLink = document.createElement('div');\n",
              "          docLink.innerHTML = docLinkHtml;\n",
              "          element.appendChild(docLink);\n",
              "        }\n",
              "      </script>\n",
              "    </div>\n",
              "  </div>\n",
              "  "
            ]
          },
          "metadata": {},
          "execution_count": 61
        }
      ]
    },
    {
      "cell_type": "markdown",
      "source": [
        "Looks like model_2 performed the best..."
      ],
      "metadata": {
        "id": "WmgFJU2EuHQJ"
      }
    },
    {
      "cell_type": "code",
      "source": [
        "model_2.summary()"
      ],
      "metadata": {
        "id": "wc7s9dNX8uSu",
        "colab": {
          "base_uri": "https://localhost:8080/"
        },
        "outputId": "b49f7a48-5c0b-4cd1-bb9c-03e34b9652ab"
      },
      "execution_count": null,
      "outputs": [
        {
          "output_type": "stream",
          "name": "stdout",
          "text": [
            "Model: \"sequential_6\"\n",
            "_________________________________________________________________\n",
            " Layer (type)                Output Shape              Param #   \n",
            "=================================================================\n",
            " dense_7 (Dense)             (None, 10)                20        \n",
            "                                                                 \n",
            " dense_8 (Dense)             (None, 1)                 11        \n",
            "                                                                 \n",
            "=================================================================\n",
            "Total params: 31\n",
            "Trainable params: 31\n",
            "Non-trainable params: 0\n",
            "_________________________________________________________________\n"
          ]
        }
      ]
    },
    {
      "cell_type": "markdown",
      "source": [
        "**Note:** One of your main goals should be to minimize the time between your experiments. The more experiments you do, the more things you'll figure out which don't work and in turn, get closer to figuring out what does work. Remember the machine learning practioners' motto: \"experiment, experiment, experiment\""
      ],
      "metadata": {
        "id": "hEagLt6Wt36s"
      }
    },
    {
      "cell_type": "markdown",
      "source": [
        "## Tracking your experiments \n",
        "\n",
        "One really good habit in machine learning modelling is to track the results of your experiments.\n",
        "\n",
        "And when doing so, it can be tedious if you'r running lots of experiments.\n",
        "\n",
        "Luckily there are tools to help us!\n",
        "\n",
        "**Resourse:** As you build more models, you'll want to look into using:\n",
        "\n",
        "* TensorBoard - a component of the TensorFlow library to help track modelling experiments (we'll see this one later).\n",
        "* Weights & biases - a tool for tracking all of kinds of machine learning experiments (plugs straight into TensorBoard).\n",
        "\n"
      ],
      "metadata": {
        "id": "LsWj-o_NuoP9"
      }
    },
    {
      "cell_type": "markdown",
      "source": [
        "## Saving our models\n",
        "\n",
        "Saving our models allows us to use them outside of Google Collab (or wherever they were trained) such as in a web application or a mobile app.\n",
        "\n",
        "There are two main formats we can save our model's too:\n",
        "\n",
        "1. The SavedModel format\n",
        "2. The HDF5 format"
      ],
      "metadata": {
        "id": "xlQJ5ECjw9v0"
      }
    },
    {
      "cell_type": "code",
      "source": [
        "# Save model using the SavedModel format\n",
        "model_2.save(\"best_model_SavedModel_format\")"
      ],
      "metadata": {
        "colab": {
          "base_uri": "https://localhost:8080/"
        },
        "id": "j3DnbZEkx0MZ",
        "outputId": "91a3c218-7ccd-49ed-b5f0-62ecf21c8eb9"
      },
      "execution_count": null,
      "outputs": [
        {
          "output_type": "stream",
          "name": "stdout",
          "text": [
            "INFO:tensorflow:Assets written to: best_model_SavedModel_format/assets\n"
          ]
        }
      ]
    },
    {
      "cell_type": "code",
      "source": [
        "# Save model using the HDF5 format\n",
        "model_2.save(\"best_model_HDF5_format.h5\")"
      ],
      "metadata": {
        "id": "cnDRIVJRy73_"
      },
      "execution_count": null,
      "outputs": []
    },
    {
      "cell_type": "markdown",
      "source": [
        "## Loading in a saved model"
      ],
      "metadata": {
        "id": "Wo5GbTInzt1l"
      }
    },
    {
      "cell_type": "code",
      "source": [
        "# Load in the SavedModel format model\n",
        "loaded_SavedModel_format = tf.keras.models.load_model(\"best_model_SavedModel_format\")\n",
        "loaded_SavedModel_format.summary()"
      ],
      "metadata": {
        "colab": {
          "base_uri": "https://localhost:8080/"
        },
        "id": "NYjFmbS41oE7",
        "outputId": "1ec6777a-1f94-44af-bdbb-3397ad2bcd4f"
      },
      "execution_count": null,
      "outputs": [
        {
          "output_type": "stream",
          "name": "stdout",
          "text": [
            "Model: \"sequential_6\"\n",
            "_________________________________________________________________\n",
            " Layer (type)                Output Shape              Param #   \n",
            "=================================================================\n",
            " dense_7 (Dense)             (None, 10)                20        \n",
            "                                                                 \n",
            " dense_8 (Dense)             (None, 1)                 11        \n",
            "                                                                 \n",
            "=================================================================\n",
            "Total params: 31\n",
            "Trainable params: 31\n",
            "Non-trainable params: 0\n",
            "_________________________________________________________________\n"
          ]
        }
      ]
    },
    {
      "cell_type": "code",
      "source": [
        "# Compare model_2 predictions with SavedModel format model predictions\n",
        "model_2_preds = model_2.predict(X_test)\n",
        "loaded_SavedModel_format_preds = loaded_SavedModel_format.predict(X_test)\n",
        "model_2_preds == loaded_SavedModel_format_preds"
      ],
      "metadata": {
        "colab": {
          "base_uri": "https://localhost:8080/"
        },
        "id": "oDVMMCwC2KuK",
        "outputId": "6b39ef73-9596-492b-f790-89e8b6d3a7fc"
      },
      "execution_count": null,
      "outputs": [
        {
          "output_type": "execute_result",
          "data": {
            "text/plain": [
              "array([[ True],\n",
              "       [ True],\n",
              "       [ True],\n",
              "       [ True],\n",
              "       [ True],\n",
              "       [ True],\n",
              "       [ True],\n",
              "       [ True],\n",
              "       [ True],\n",
              "       [ True]])"
            ]
          },
          "metadata": {},
          "execution_count": 68
        }
      ]
    },
    {
      "cell_type": "code",
      "source": [
        "model_2_preds.squeeze()"
      ],
      "metadata": {
        "colab": {
          "base_uri": "https://localhost:8080/"
        },
        "id": "bys5eslc3LHy",
        "outputId": "f901e3a5-e21a-44ea-be2c-a2826bf0842d"
      },
      "execution_count": null,
      "outputs": [
        {
          "output_type": "execute_result",
          "data": {
            "text/plain": [
              "array([ 70.65323 ,  75.23353 ,  79.81383 ,  84.39412 ,  88.97443 ,\n",
              "        93.554726,  98.13501 , 102.71531 , 107.295616, 111.87591 ],\n",
              "      dtype=float32)"
            ]
          },
          "metadata": {},
          "execution_count": 69
        }
      ]
    },
    {
      "cell_type": "code",
      "source": [
        "loaded_SavedModel_format_preds.squeeze()"
      ],
      "metadata": {
        "colab": {
          "base_uri": "https://localhost:8080/"
        },
        "id": "wVnXA0ZJ3oip",
        "outputId": "d385fc51-49ab-43da-df15-206fd11e12ed"
      },
      "execution_count": null,
      "outputs": [
        {
          "output_type": "execute_result",
          "data": {
            "text/plain": [
              "array([ 70.65323 ,  75.23353 ,  79.81383 ,  84.39412 ,  88.97443 ,\n",
              "        93.554726,  98.13501 , 102.71531 , 107.295616, 111.87591 ],\n",
              "      dtype=float32)"
            ]
          },
          "metadata": {},
          "execution_count": 70
        }
      ]
    },
    {
      "cell_type": "code",
      "source": [
        "# Load in a model using HDF5 format\n",
        "loaded_h5_model = tf.keras.models.load_model(\"/content/best_model_HDF5_format.h5\")\n",
        "loaded_h5_model.summary()"
      ],
      "metadata": {
        "colab": {
          "base_uri": "https://localhost:8080/"
        },
        "id": "MDj8foQs3s0h",
        "outputId": "9236a94f-9c98-41ec-ef8e-425c368aa810"
      },
      "execution_count": null,
      "outputs": [
        {
          "output_type": "stream",
          "name": "stdout",
          "text": [
            "Model: \"sequential_6\"\n",
            "_________________________________________________________________\n",
            " Layer (type)                Output Shape              Param #   \n",
            "=================================================================\n",
            " dense_7 (Dense)             (None, 10)                20        \n",
            "                                                                 \n",
            " dense_8 (Dense)             (None, 1)                 11        \n",
            "                                                                 \n",
            "=================================================================\n",
            "Total params: 31\n",
            "Trainable params: 31\n",
            "Non-trainable params: 0\n",
            "_________________________________________________________________\n"
          ]
        }
      ]
    },
    {
      "cell_type": "code",
      "source": [
        "# Compare h5 model with model_2\n",
        "loaded_h5_model_pred = loaded_h5_model.predict(X_test)\n",
        "loaded_h5_model_pred == model_2_preds"
      ],
      "metadata": {
        "colab": {
          "base_uri": "https://localhost:8080/"
        },
        "id": "WHHZMdtt4DEw",
        "outputId": "da1184f0-70b2-4432-bdf6-62023c1e2051"
      },
      "execution_count": null,
      "outputs": [
        {
          "output_type": "execute_result",
          "data": {
            "text/plain": [
              "array([[ True],\n",
              "       [ True],\n",
              "       [ True],\n",
              "       [ True],\n",
              "       [ True],\n",
              "       [ True],\n",
              "       [ True],\n",
              "       [ True],\n",
              "       [ True],\n",
              "       [ True]])"
            ]
          },
          "metadata": {},
          "execution_count": 73
        }
      ]
    },
    {
      "cell_type": "markdown",
      "source": [
        "## Download a model (or any other file) from Google Colab\n",
        "\n",
        "If you want to download your files from Google Colab:\n",
        "\n",
        "1. You can go to the \"files\" tab and right click on the file you're after and click \"download\"\n",
        "2. Use code (see the cell below).\n",
        "3. Save it to Google Drive by connecting Google Drive and copying it there (see 2nd code cell)"
      ],
      "metadata": {
        "id": "TYiDt_kC4Zwv"
      }
    },
    {
      "cell_type": "code",
      "source": [
        "# Download a file from Google Colab\n",
        "from google.colab import files\n",
        "files.download(\"/content/best_model_HDF5_format.h5\")"
      ],
      "metadata": {
        "colab": {
          "base_uri": "https://localhost:8080/",
          "height": 17
        },
        "id": "3DpIkIVT5Hpr",
        "outputId": "595a1b83-1cb9-4438-f3de-ff2d016c1ec3"
      },
      "execution_count": null,
      "outputs": [
        {
          "output_type": "display_data",
          "data": {
            "text/plain": [
              "<IPython.core.display.Javascript object>"
            ],
            "application/javascript": [
              "\n",
              "    async function download(id, filename, size) {\n",
              "      if (!google.colab.kernel.accessAllowed) {\n",
              "        return;\n",
              "      }\n",
              "      const div = document.createElement('div');\n",
              "      const label = document.createElement('label');\n",
              "      label.textContent = `Downloading \"${filename}\": `;\n",
              "      div.appendChild(label);\n",
              "      const progress = document.createElement('progress');\n",
              "      progress.max = size;\n",
              "      div.appendChild(progress);\n",
              "      document.body.appendChild(div);\n",
              "\n",
              "      const buffers = [];\n",
              "      let downloaded = 0;\n",
              "\n",
              "      const channel = await google.colab.kernel.comms.open(id);\n",
              "      // Send a message to notify the kernel that we're ready.\n",
              "      channel.send({})\n",
              "\n",
              "      for await (const message of channel.messages) {\n",
              "        // Send a message to notify the kernel that we're ready.\n",
              "        channel.send({})\n",
              "        if (message.buffers) {\n",
              "          for (const buffer of message.buffers) {\n",
              "            buffers.push(buffer);\n",
              "            downloaded += buffer.byteLength;\n",
              "            progress.value = downloaded;\n",
              "          }\n",
              "        }\n",
              "      }\n",
              "      const blob = new Blob(buffers, {type: 'application/binary'});\n",
              "      const a = document.createElement('a');\n",
              "      a.href = window.URL.createObjectURL(blob);\n",
              "      a.download = filename;\n",
              "      div.appendChild(a);\n",
              "      a.click();\n",
              "      div.remove();\n",
              "    }\n",
              "  "
            ]
          },
          "metadata": {}
        },
        {
          "output_type": "display_data",
          "data": {
            "text/plain": [
              "<IPython.core.display.Javascript object>"
            ],
            "application/javascript": [
              "download(\"download_f21416a0-5072-477b-93b3-c348f989a429\", \"best_model_HDF5_format.h5\", 17872)"
            ]
          },
          "metadata": {}
        }
      ]
    },
    {
      "cell_type": "code",
      "source": [
        "# Save a file from Google Colab to Google drive (requires mounting google drive - by click the drive icon below the Files icon)\n",
        "!cp /content/best_model_HDF5_format.h5 \"/content/drive/MyDrive/Colab Notebooks\""
      ],
      "metadata": {
        "id": "LfYumgX35tTO"
      },
      "execution_count": null,
      "outputs": []
    },
    {
      "cell_type": "code",
      "source": [
        "!ls \"/content/drive/MyDrive/Colab Notebooks\""
      ],
      "metadata": {
        "colab": {
          "base_uri": "https://localhost:8080/"
        },
        "id": "LyxY2No161FN",
        "outputId": "ac77b41a-808b-4ca1-a020-b538e033b86f"
      },
      "execution_count": null,
      "outputs": [
        {
          "output_type": "stream",
          "name": "stdout",
          "text": [
            "00_tensorflow_fundamentals.ipynb\n",
            "01_neural_network_regression_with_tensorflow_video.ipynb\n",
            "best_model_HDF5_format.h5\n"
          ]
        }
      ]
    },
    {
      "cell_type": "markdown",
      "source": [
        "## A larger example"
      ],
      "metadata": {
        "id": "YdVBu4A97Cn1"
      }
    },
    {
      "cell_type": "code",
      "source": [
        "# Import required libraries\n",
        "import tensorflow as tf\n",
        "import pandas as pd\n",
        "import matplotlib.pyplot as plt"
      ],
      "metadata": {
        "id": "O_650yty7fJE"
      },
      "execution_count": 46,
      "outputs": []
    },
    {
      "cell_type": "code",
      "source": [
        "# Read in insurance dataset\n",
        "insurance = pd.read_csv(\"https://raw.githubusercontent.com/stedy/Machine-Learning-with-R-datasets/master/insurance.csv\")\n",
        "insurance"
      ],
      "metadata": {
        "colab": {
          "base_uri": "https://localhost:8080/",
          "height": 424
        },
        "id": "CBjHVCYE80NK",
        "outputId": "b32dc180-9793-404a-bff3-0757526aaa3f"
      },
      "execution_count": 47,
      "outputs": [
        {
          "output_type": "execute_result",
          "data": {
            "text/plain": [
              "      age     sex     bmi  children smoker     region      charges\n",
              "0      19  female  27.900         0    yes  southwest  16884.92400\n",
              "1      18    male  33.770         1     no  southeast   1725.55230\n",
              "2      28    male  33.000         3     no  southeast   4449.46200\n",
              "3      33    male  22.705         0     no  northwest  21984.47061\n",
              "4      32    male  28.880         0     no  northwest   3866.85520\n",
              "...   ...     ...     ...       ...    ...        ...          ...\n",
              "1333   50    male  30.970         3     no  northwest  10600.54830\n",
              "1334   18  female  31.920         0     no  northeast   2205.98080\n",
              "1335   18  female  36.850         0     no  southeast   1629.83350\n",
              "1336   21  female  25.800         0     no  southwest   2007.94500\n",
              "1337   61  female  29.070         0    yes  northwest  29141.36030\n",
              "\n",
              "[1338 rows x 7 columns]"
            ],
            "text/html": [
              "\n",
              "  <div id=\"df-e03270b1-4edb-426b-893c-10c1f0d20260\">\n",
              "    <div class=\"colab-df-container\">\n",
              "      <div>\n",
              "<style scoped>\n",
              "    .dataframe tbody tr th:only-of-type {\n",
              "        vertical-align: middle;\n",
              "    }\n",
              "\n",
              "    .dataframe tbody tr th {\n",
              "        vertical-align: top;\n",
              "    }\n",
              "\n",
              "    .dataframe thead th {\n",
              "        text-align: right;\n",
              "    }\n",
              "</style>\n",
              "<table border=\"1\" class=\"dataframe\">\n",
              "  <thead>\n",
              "    <tr style=\"text-align: right;\">\n",
              "      <th></th>\n",
              "      <th>age</th>\n",
              "      <th>sex</th>\n",
              "      <th>bmi</th>\n",
              "      <th>children</th>\n",
              "      <th>smoker</th>\n",
              "      <th>region</th>\n",
              "      <th>charges</th>\n",
              "    </tr>\n",
              "  </thead>\n",
              "  <tbody>\n",
              "    <tr>\n",
              "      <th>0</th>\n",
              "      <td>19</td>\n",
              "      <td>female</td>\n",
              "      <td>27.900</td>\n",
              "      <td>0</td>\n",
              "      <td>yes</td>\n",
              "      <td>southwest</td>\n",
              "      <td>16884.92400</td>\n",
              "    </tr>\n",
              "    <tr>\n",
              "      <th>1</th>\n",
              "      <td>18</td>\n",
              "      <td>male</td>\n",
              "      <td>33.770</td>\n",
              "      <td>1</td>\n",
              "      <td>no</td>\n",
              "      <td>southeast</td>\n",
              "      <td>1725.55230</td>\n",
              "    </tr>\n",
              "    <tr>\n",
              "      <th>2</th>\n",
              "      <td>28</td>\n",
              "      <td>male</td>\n",
              "      <td>33.000</td>\n",
              "      <td>3</td>\n",
              "      <td>no</td>\n",
              "      <td>southeast</td>\n",
              "      <td>4449.46200</td>\n",
              "    </tr>\n",
              "    <tr>\n",
              "      <th>3</th>\n",
              "      <td>33</td>\n",
              "      <td>male</td>\n",
              "      <td>22.705</td>\n",
              "      <td>0</td>\n",
              "      <td>no</td>\n",
              "      <td>northwest</td>\n",
              "      <td>21984.47061</td>\n",
              "    </tr>\n",
              "    <tr>\n",
              "      <th>4</th>\n",
              "      <td>32</td>\n",
              "      <td>male</td>\n",
              "      <td>28.880</td>\n",
              "      <td>0</td>\n",
              "      <td>no</td>\n",
              "      <td>northwest</td>\n",
              "      <td>3866.85520</td>\n",
              "    </tr>\n",
              "    <tr>\n",
              "      <th>...</th>\n",
              "      <td>...</td>\n",
              "      <td>...</td>\n",
              "      <td>...</td>\n",
              "      <td>...</td>\n",
              "      <td>...</td>\n",
              "      <td>...</td>\n",
              "      <td>...</td>\n",
              "    </tr>\n",
              "    <tr>\n",
              "      <th>1333</th>\n",
              "      <td>50</td>\n",
              "      <td>male</td>\n",
              "      <td>30.970</td>\n",
              "      <td>3</td>\n",
              "      <td>no</td>\n",
              "      <td>northwest</td>\n",
              "      <td>10600.54830</td>\n",
              "    </tr>\n",
              "    <tr>\n",
              "      <th>1334</th>\n",
              "      <td>18</td>\n",
              "      <td>female</td>\n",
              "      <td>31.920</td>\n",
              "      <td>0</td>\n",
              "      <td>no</td>\n",
              "      <td>northeast</td>\n",
              "      <td>2205.98080</td>\n",
              "    </tr>\n",
              "    <tr>\n",
              "      <th>1335</th>\n",
              "      <td>18</td>\n",
              "      <td>female</td>\n",
              "      <td>36.850</td>\n",
              "      <td>0</td>\n",
              "      <td>no</td>\n",
              "      <td>southeast</td>\n",
              "      <td>1629.83350</td>\n",
              "    </tr>\n",
              "    <tr>\n",
              "      <th>1336</th>\n",
              "      <td>21</td>\n",
              "      <td>female</td>\n",
              "      <td>25.800</td>\n",
              "      <td>0</td>\n",
              "      <td>no</td>\n",
              "      <td>southwest</td>\n",
              "      <td>2007.94500</td>\n",
              "    </tr>\n",
              "    <tr>\n",
              "      <th>1337</th>\n",
              "      <td>61</td>\n",
              "      <td>female</td>\n",
              "      <td>29.070</td>\n",
              "      <td>0</td>\n",
              "      <td>yes</td>\n",
              "      <td>northwest</td>\n",
              "      <td>29141.36030</td>\n",
              "    </tr>\n",
              "  </tbody>\n",
              "</table>\n",
              "<p>1338 rows × 7 columns</p>\n",
              "</div>\n",
              "      <button class=\"colab-df-convert\" onclick=\"convertToInteractive('df-e03270b1-4edb-426b-893c-10c1f0d20260')\"\n",
              "              title=\"Convert this dataframe to an interactive table.\"\n",
              "              style=\"display:none;\">\n",
              "        \n",
              "  <svg xmlns=\"http://www.w3.org/2000/svg\" height=\"24px\"viewBox=\"0 0 24 24\"\n",
              "       width=\"24px\">\n",
              "    <path d=\"M0 0h24v24H0V0z\" fill=\"none\"/>\n",
              "    <path d=\"M18.56 5.44l.94 2.06.94-2.06 2.06-.94-2.06-.94-.94-2.06-.94 2.06-2.06.94zm-11 1L8.5 8.5l.94-2.06 2.06-.94-2.06-.94L8.5 2.5l-.94 2.06-2.06.94zm10 10l.94 2.06.94-2.06 2.06-.94-2.06-.94-.94-2.06-.94 2.06-2.06.94z\"/><path d=\"M17.41 7.96l-1.37-1.37c-.4-.4-.92-.59-1.43-.59-.52 0-1.04.2-1.43.59L10.3 9.45l-7.72 7.72c-.78.78-.78 2.05 0 2.83L4 21.41c.39.39.9.59 1.41.59.51 0 1.02-.2 1.41-.59l7.78-7.78 2.81-2.81c.8-.78.8-2.07 0-2.86zM5.41 20L4 18.59l7.72-7.72 1.47 1.35L5.41 20z\"/>\n",
              "  </svg>\n",
              "      </button>\n",
              "      \n",
              "  <style>\n",
              "    .colab-df-container {\n",
              "      display:flex;\n",
              "      flex-wrap:wrap;\n",
              "      gap: 12px;\n",
              "    }\n",
              "\n",
              "    .colab-df-convert {\n",
              "      background-color: #E8F0FE;\n",
              "      border: none;\n",
              "      border-radius: 50%;\n",
              "      cursor: pointer;\n",
              "      display: none;\n",
              "      fill: #1967D2;\n",
              "      height: 32px;\n",
              "      padding: 0 0 0 0;\n",
              "      width: 32px;\n",
              "    }\n",
              "\n",
              "    .colab-df-convert:hover {\n",
              "      background-color: #E2EBFA;\n",
              "      box-shadow: 0px 1px 2px rgba(60, 64, 67, 0.3), 0px 1px 3px 1px rgba(60, 64, 67, 0.15);\n",
              "      fill: #174EA6;\n",
              "    }\n",
              "\n",
              "    [theme=dark] .colab-df-convert {\n",
              "      background-color: #3B4455;\n",
              "      fill: #D2E3FC;\n",
              "    }\n",
              "\n",
              "    [theme=dark] .colab-df-convert:hover {\n",
              "      background-color: #434B5C;\n",
              "      box-shadow: 0px 1px 3px 1px rgba(0, 0, 0, 0.15);\n",
              "      filter: drop-shadow(0px 1px 2px rgba(0, 0, 0, 0.3));\n",
              "      fill: #FFFFFF;\n",
              "    }\n",
              "  </style>\n",
              "\n",
              "      <script>\n",
              "        const buttonEl =\n",
              "          document.querySelector('#df-e03270b1-4edb-426b-893c-10c1f0d20260 button.colab-df-convert');\n",
              "        buttonEl.style.display =\n",
              "          google.colab.kernel.accessAllowed ? 'block' : 'none';\n",
              "\n",
              "        async function convertToInteractive(key) {\n",
              "          const element = document.querySelector('#df-e03270b1-4edb-426b-893c-10c1f0d20260');\n",
              "          const dataTable =\n",
              "            await google.colab.kernel.invokeFunction('convertToInteractive',\n",
              "                                                     [key], {});\n",
              "          if (!dataTable) return;\n",
              "\n",
              "          const docLinkHtml = 'Like what you see? Visit the ' +\n",
              "            '<a target=\"_blank\" href=https://colab.research.google.com/notebooks/data_table.ipynb>data table notebook</a>'\n",
              "            + ' to learn more about interactive tables.';\n",
              "          element.innerHTML = '';\n",
              "          dataTable['output_type'] = 'display_data';\n",
              "          await google.colab.output.renderOutput(dataTable, element);\n",
              "          const docLink = document.createElement('div');\n",
              "          docLink.innerHTML = docLinkHtml;\n",
              "          element.appendChild(docLink);\n",
              "        }\n",
              "      </script>\n",
              "    </div>\n",
              "  </div>\n",
              "  "
            ]
          },
          "metadata": {},
          "execution_count": 47
        }
      ]
    },
    {
      "cell_type": "code",
      "source": [
        "# Let's try one-hot encode our DataFrame so it's all numbers\n",
        "insurance_one_hot = pd.get_dummies(insurance)\n",
        "insurance_one_hot.head()"
      ],
      "metadata": {
        "colab": {
          "base_uri": "https://localhost:8080/",
          "height": 206
        },
        "id": "Wj-1FLoR95Ei",
        "outputId": "61f453c7-b5e9-4adc-eb4e-2ffc0db4e2a0"
      },
      "execution_count": 48,
      "outputs": [
        {
          "output_type": "execute_result",
          "data": {
            "text/plain": [
              "   age     bmi  children      charges  sex_female  sex_male  smoker_no  \\\n",
              "0   19  27.900         0  16884.92400           1         0          0   \n",
              "1   18  33.770         1   1725.55230           0         1          1   \n",
              "2   28  33.000         3   4449.46200           0         1          1   \n",
              "3   33  22.705         0  21984.47061           0         1          1   \n",
              "4   32  28.880         0   3866.85520           0         1          1   \n",
              "\n",
              "   smoker_yes  region_northeast  region_northwest  region_southeast  \\\n",
              "0           1                 0                 0                 0   \n",
              "1           0                 0                 0                 1   \n",
              "2           0                 0                 0                 1   \n",
              "3           0                 0                 1                 0   \n",
              "4           0                 0                 1                 0   \n",
              "\n",
              "   region_southwest  \n",
              "0                 1  \n",
              "1                 0  \n",
              "2                 0  \n",
              "3                 0  \n",
              "4                 0  "
            ],
            "text/html": [
              "\n",
              "  <div id=\"df-9b49925a-ff26-492e-bcaa-00cdb7e9633f\">\n",
              "    <div class=\"colab-df-container\">\n",
              "      <div>\n",
              "<style scoped>\n",
              "    .dataframe tbody tr th:only-of-type {\n",
              "        vertical-align: middle;\n",
              "    }\n",
              "\n",
              "    .dataframe tbody tr th {\n",
              "        vertical-align: top;\n",
              "    }\n",
              "\n",
              "    .dataframe thead th {\n",
              "        text-align: right;\n",
              "    }\n",
              "</style>\n",
              "<table border=\"1\" class=\"dataframe\">\n",
              "  <thead>\n",
              "    <tr style=\"text-align: right;\">\n",
              "      <th></th>\n",
              "      <th>age</th>\n",
              "      <th>bmi</th>\n",
              "      <th>children</th>\n",
              "      <th>charges</th>\n",
              "      <th>sex_female</th>\n",
              "      <th>sex_male</th>\n",
              "      <th>smoker_no</th>\n",
              "      <th>smoker_yes</th>\n",
              "      <th>region_northeast</th>\n",
              "      <th>region_northwest</th>\n",
              "      <th>region_southeast</th>\n",
              "      <th>region_southwest</th>\n",
              "    </tr>\n",
              "  </thead>\n",
              "  <tbody>\n",
              "    <tr>\n",
              "      <th>0</th>\n",
              "      <td>19</td>\n",
              "      <td>27.900</td>\n",
              "      <td>0</td>\n",
              "      <td>16884.92400</td>\n",
              "      <td>1</td>\n",
              "      <td>0</td>\n",
              "      <td>0</td>\n",
              "      <td>1</td>\n",
              "      <td>0</td>\n",
              "      <td>0</td>\n",
              "      <td>0</td>\n",
              "      <td>1</td>\n",
              "    </tr>\n",
              "    <tr>\n",
              "      <th>1</th>\n",
              "      <td>18</td>\n",
              "      <td>33.770</td>\n",
              "      <td>1</td>\n",
              "      <td>1725.55230</td>\n",
              "      <td>0</td>\n",
              "      <td>1</td>\n",
              "      <td>1</td>\n",
              "      <td>0</td>\n",
              "      <td>0</td>\n",
              "      <td>0</td>\n",
              "      <td>1</td>\n",
              "      <td>0</td>\n",
              "    </tr>\n",
              "    <tr>\n",
              "      <th>2</th>\n",
              "      <td>28</td>\n",
              "      <td>33.000</td>\n",
              "      <td>3</td>\n",
              "      <td>4449.46200</td>\n",
              "      <td>0</td>\n",
              "      <td>1</td>\n",
              "      <td>1</td>\n",
              "      <td>0</td>\n",
              "      <td>0</td>\n",
              "      <td>0</td>\n",
              "      <td>1</td>\n",
              "      <td>0</td>\n",
              "    </tr>\n",
              "    <tr>\n",
              "      <th>3</th>\n",
              "      <td>33</td>\n",
              "      <td>22.705</td>\n",
              "      <td>0</td>\n",
              "      <td>21984.47061</td>\n",
              "      <td>0</td>\n",
              "      <td>1</td>\n",
              "      <td>1</td>\n",
              "      <td>0</td>\n",
              "      <td>0</td>\n",
              "      <td>1</td>\n",
              "      <td>0</td>\n",
              "      <td>0</td>\n",
              "    </tr>\n",
              "    <tr>\n",
              "      <th>4</th>\n",
              "      <td>32</td>\n",
              "      <td>28.880</td>\n",
              "      <td>0</td>\n",
              "      <td>3866.85520</td>\n",
              "      <td>0</td>\n",
              "      <td>1</td>\n",
              "      <td>1</td>\n",
              "      <td>0</td>\n",
              "      <td>0</td>\n",
              "      <td>1</td>\n",
              "      <td>0</td>\n",
              "      <td>0</td>\n",
              "    </tr>\n",
              "  </tbody>\n",
              "</table>\n",
              "</div>\n",
              "      <button class=\"colab-df-convert\" onclick=\"convertToInteractive('df-9b49925a-ff26-492e-bcaa-00cdb7e9633f')\"\n",
              "              title=\"Convert this dataframe to an interactive table.\"\n",
              "              style=\"display:none;\">\n",
              "        \n",
              "  <svg xmlns=\"http://www.w3.org/2000/svg\" height=\"24px\"viewBox=\"0 0 24 24\"\n",
              "       width=\"24px\">\n",
              "    <path d=\"M0 0h24v24H0V0z\" fill=\"none\"/>\n",
              "    <path d=\"M18.56 5.44l.94 2.06.94-2.06 2.06-.94-2.06-.94-.94-2.06-.94 2.06-2.06.94zm-11 1L8.5 8.5l.94-2.06 2.06-.94-2.06-.94L8.5 2.5l-.94 2.06-2.06.94zm10 10l.94 2.06.94-2.06 2.06-.94-2.06-.94-.94-2.06-.94 2.06-2.06.94z\"/><path d=\"M17.41 7.96l-1.37-1.37c-.4-.4-.92-.59-1.43-.59-.52 0-1.04.2-1.43.59L10.3 9.45l-7.72 7.72c-.78.78-.78 2.05 0 2.83L4 21.41c.39.39.9.59 1.41.59.51 0 1.02-.2 1.41-.59l7.78-7.78 2.81-2.81c.8-.78.8-2.07 0-2.86zM5.41 20L4 18.59l7.72-7.72 1.47 1.35L5.41 20z\"/>\n",
              "  </svg>\n",
              "      </button>\n",
              "      \n",
              "  <style>\n",
              "    .colab-df-container {\n",
              "      display:flex;\n",
              "      flex-wrap:wrap;\n",
              "      gap: 12px;\n",
              "    }\n",
              "\n",
              "    .colab-df-convert {\n",
              "      background-color: #E8F0FE;\n",
              "      border: none;\n",
              "      border-radius: 50%;\n",
              "      cursor: pointer;\n",
              "      display: none;\n",
              "      fill: #1967D2;\n",
              "      height: 32px;\n",
              "      padding: 0 0 0 0;\n",
              "      width: 32px;\n",
              "    }\n",
              "\n",
              "    .colab-df-convert:hover {\n",
              "      background-color: #E2EBFA;\n",
              "      box-shadow: 0px 1px 2px rgba(60, 64, 67, 0.3), 0px 1px 3px 1px rgba(60, 64, 67, 0.15);\n",
              "      fill: #174EA6;\n",
              "    }\n",
              "\n",
              "    [theme=dark] .colab-df-convert {\n",
              "      background-color: #3B4455;\n",
              "      fill: #D2E3FC;\n",
              "    }\n",
              "\n",
              "    [theme=dark] .colab-df-convert:hover {\n",
              "      background-color: #434B5C;\n",
              "      box-shadow: 0px 1px 3px 1px rgba(0, 0, 0, 0.15);\n",
              "      filter: drop-shadow(0px 1px 2px rgba(0, 0, 0, 0.3));\n",
              "      fill: #FFFFFF;\n",
              "    }\n",
              "  </style>\n",
              "\n",
              "      <script>\n",
              "        const buttonEl =\n",
              "          document.querySelector('#df-9b49925a-ff26-492e-bcaa-00cdb7e9633f button.colab-df-convert');\n",
              "        buttonEl.style.display =\n",
              "          google.colab.kernel.accessAllowed ? 'block' : 'none';\n",
              "\n",
              "        async function convertToInteractive(key) {\n",
              "          const element = document.querySelector('#df-9b49925a-ff26-492e-bcaa-00cdb7e9633f');\n",
              "          const dataTable =\n",
              "            await google.colab.kernel.invokeFunction('convertToInteractive',\n",
              "                                                     [key], {});\n",
              "          if (!dataTable) return;\n",
              "\n",
              "          const docLinkHtml = 'Like what you see? Visit the ' +\n",
              "            '<a target=\"_blank\" href=https://colab.research.google.com/notebooks/data_table.ipynb>data table notebook</a>'\n",
              "            + ' to learn more about interactive tables.';\n",
              "          element.innerHTML = '';\n",
              "          dataTable['output_type'] = 'display_data';\n",
              "          await google.colab.output.renderOutput(dataTable, element);\n",
              "          const docLink = document.createElement('div');\n",
              "          docLink.innerHTML = docLinkHtml;\n",
              "          element.appendChild(docLink);\n",
              "        }\n",
              "      </script>\n",
              "    </div>\n",
              "  </div>\n",
              "  "
            ]
          },
          "metadata": {},
          "execution_count": 48
        }
      ]
    },
    {
      "cell_type": "code",
      "source": [
        "# Create X & y values (features and labels)\n",
        "X = insurance_one_hot.drop(\"charges\", axis=1)\n",
        "y = insurance_one_hot[\"charges\"]\n",
        "\n",
        "# View \n",
        "X.head()\n",
        "\n"
      ],
      "metadata": {
        "id": "lcUidw10eiae",
        "colab": {
          "base_uri": "https://localhost:8080/",
          "height": 206
        },
        "outputId": "e724a27d-db13-476f-cc92-ef1c07d14a18"
      },
      "execution_count": 49,
      "outputs": [
        {
          "output_type": "execute_result",
          "data": {
            "text/plain": [
              "   age     bmi  children  sex_female  sex_male  smoker_no  smoker_yes  \\\n",
              "0   19  27.900         0           1         0          0           1   \n",
              "1   18  33.770         1           0         1          1           0   \n",
              "2   28  33.000         3           0         1          1           0   \n",
              "3   33  22.705         0           0         1          1           0   \n",
              "4   32  28.880         0           0         1          1           0   \n",
              "\n",
              "   region_northeast  region_northwest  region_southeast  region_southwest  \n",
              "0                 0                 0                 0                 1  \n",
              "1                 0                 0                 1                 0  \n",
              "2                 0                 0                 1                 0  \n",
              "3                 0                 1                 0                 0  \n",
              "4                 0                 1                 0                 0  "
            ],
            "text/html": [
              "\n",
              "  <div id=\"df-d0eec37a-17af-4f98-920b-3677cc80d9fa\">\n",
              "    <div class=\"colab-df-container\">\n",
              "      <div>\n",
              "<style scoped>\n",
              "    .dataframe tbody tr th:only-of-type {\n",
              "        vertical-align: middle;\n",
              "    }\n",
              "\n",
              "    .dataframe tbody tr th {\n",
              "        vertical-align: top;\n",
              "    }\n",
              "\n",
              "    .dataframe thead th {\n",
              "        text-align: right;\n",
              "    }\n",
              "</style>\n",
              "<table border=\"1\" class=\"dataframe\">\n",
              "  <thead>\n",
              "    <tr style=\"text-align: right;\">\n",
              "      <th></th>\n",
              "      <th>age</th>\n",
              "      <th>bmi</th>\n",
              "      <th>children</th>\n",
              "      <th>sex_female</th>\n",
              "      <th>sex_male</th>\n",
              "      <th>smoker_no</th>\n",
              "      <th>smoker_yes</th>\n",
              "      <th>region_northeast</th>\n",
              "      <th>region_northwest</th>\n",
              "      <th>region_southeast</th>\n",
              "      <th>region_southwest</th>\n",
              "    </tr>\n",
              "  </thead>\n",
              "  <tbody>\n",
              "    <tr>\n",
              "      <th>0</th>\n",
              "      <td>19</td>\n",
              "      <td>27.900</td>\n",
              "      <td>0</td>\n",
              "      <td>1</td>\n",
              "      <td>0</td>\n",
              "      <td>0</td>\n",
              "      <td>1</td>\n",
              "      <td>0</td>\n",
              "      <td>0</td>\n",
              "      <td>0</td>\n",
              "      <td>1</td>\n",
              "    </tr>\n",
              "    <tr>\n",
              "      <th>1</th>\n",
              "      <td>18</td>\n",
              "      <td>33.770</td>\n",
              "      <td>1</td>\n",
              "      <td>0</td>\n",
              "      <td>1</td>\n",
              "      <td>1</td>\n",
              "      <td>0</td>\n",
              "      <td>0</td>\n",
              "      <td>0</td>\n",
              "      <td>1</td>\n",
              "      <td>0</td>\n",
              "    </tr>\n",
              "    <tr>\n",
              "      <th>2</th>\n",
              "      <td>28</td>\n",
              "      <td>33.000</td>\n",
              "      <td>3</td>\n",
              "      <td>0</td>\n",
              "      <td>1</td>\n",
              "      <td>1</td>\n",
              "      <td>0</td>\n",
              "      <td>0</td>\n",
              "      <td>0</td>\n",
              "      <td>1</td>\n",
              "      <td>0</td>\n",
              "    </tr>\n",
              "    <tr>\n",
              "      <th>3</th>\n",
              "      <td>33</td>\n",
              "      <td>22.705</td>\n",
              "      <td>0</td>\n",
              "      <td>0</td>\n",
              "      <td>1</td>\n",
              "      <td>1</td>\n",
              "      <td>0</td>\n",
              "      <td>0</td>\n",
              "      <td>1</td>\n",
              "      <td>0</td>\n",
              "      <td>0</td>\n",
              "    </tr>\n",
              "    <tr>\n",
              "      <th>4</th>\n",
              "      <td>32</td>\n",
              "      <td>28.880</td>\n",
              "      <td>0</td>\n",
              "      <td>0</td>\n",
              "      <td>1</td>\n",
              "      <td>1</td>\n",
              "      <td>0</td>\n",
              "      <td>0</td>\n",
              "      <td>1</td>\n",
              "      <td>0</td>\n",
              "      <td>0</td>\n",
              "    </tr>\n",
              "  </tbody>\n",
              "</table>\n",
              "</div>\n",
              "      <button class=\"colab-df-convert\" onclick=\"convertToInteractive('df-d0eec37a-17af-4f98-920b-3677cc80d9fa')\"\n",
              "              title=\"Convert this dataframe to an interactive table.\"\n",
              "              style=\"display:none;\">\n",
              "        \n",
              "  <svg xmlns=\"http://www.w3.org/2000/svg\" height=\"24px\"viewBox=\"0 0 24 24\"\n",
              "       width=\"24px\">\n",
              "    <path d=\"M0 0h24v24H0V0z\" fill=\"none\"/>\n",
              "    <path d=\"M18.56 5.44l.94 2.06.94-2.06 2.06-.94-2.06-.94-.94-2.06-.94 2.06-2.06.94zm-11 1L8.5 8.5l.94-2.06 2.06-.94-2.06-.94L8.5 2.5l-.94 2.06-2.06.94zm10 10l.94 2.06.94-2.06 2.06-.94-2.06-.94-.94-2.06-.94 2.06-2.06.94z\"/><path d=\"M17.41 7.96l-1.37-1.37c-.4-.4-.92-.59-1.43-.59-.52 0-1.04.2-1.43.59L10.3 9.45l-7.72 7.72c-.78.78-.78 2.05 0 2.83L4 21.41c.39.39.9.59 1.41.59.51 0 1.02-.2 1.41-.59l7.78-7.78 2.81-2.81c.8-.78.8-2.07 0-2.86zM5.41 20L4 18.59l7.72-7.72 1.47 1.35L5.41 20z\"/>\n",
              "  </svg>\n",
              "      </button>\n",
              "      \n",
              "  <style>\n",
              "    .colab-df-container {\n",
              "      display:flex;\n",
              "      flex-wrap:wrap;\n",
              "      gap: 12px;\n",
              "    }\n",
              "\n",
              "    .colab-df-convert {\n",
              "      background-color: #E8F0FE;\n",
              "      border: none;\n",
              "      border-radius: 50%;\n",
              "      cursor: pointer;\n",
              "      display: none;\n",
              "      fill: #1967D2;\n",
              "      height: 32px;\n",
              "      padding: 0 0 0 0;\n",
              "      width: 32px;\n",
              "    }\n",
              "\n",
              "    .colab-df-convert:hover {\n",
              "      background-color: #E2EBFA;\n",
              "      box-shadow: 0px 1px 2px rgba(60, 64, 67, 0.3), 0px 1px 3px 1px rgba(60, 64, 67, 0.15);\n",
              "      fill: #174EA6;\n",
              "    }\n",
              "\n",
              "    [theme=dark] .colab-df-convert {\n",
              "      background-color: #3B4455;\n",
              "      fill: #D2E3FC;\n",
              "    }\n",
              "\n",
              "    [theme=dark] .colab-df-convert:hover {\n",
              "      background-color: #434B5C;\n",
              "      box-shadow: 0px 1px 3px 1px rgba(0, 0, 0, 0.15);\n",
              "      filter: drop-shadow(0px 1px 2px rgba(0, 0, 0, 0.3));\n",
              "      fill: #FFFFFF;\n",
              "    }\n",
              "  </style>\n",
              "\n",
              "      <script>\n",
              "        const buttonEl =\n",
              "          document.querySelector('#df-d0eec37a-17af-4f98-920b-3677cc80d9fa button.colab-df-convert');\n",
              "        buttonEl.style.display =\n",
              "          google.colab.kernel.accessAllowed ? 'block' : 'none';\n",
              "\n",
              "        async function convertToInteractive(key) {\n",
              "          const element = document.querySelector('#df-d0eec37a-17af-4f98-920b-3677cc80d9fa');\n",
              "          const dataTable =\n",
              "            await google.colab.kernel.invokeFunction('convertToInteractive',\n",
              "                                                     [key], {});\n",
              "          if (!dataTable) return;\n",
              "\n",
              "          const docLinkHtml = 'Like what you see? Visit the ' +\n",
              "            '<a target=\"_blank\" href=https://colab.research.google.com/notebooks/data_table.ipynb>data table notebook</a>'\n",
              "            + ' to learn more about interactive tables.';\n",
              "          element.innerHTML = '';\n",
              "          dataTable['output_type'] = 'display_data';\n",
              "          await google.colab.output.renderOutput(dataTable, element);\n",
              "          const docLink = document.createElement('div');\n",
              "          docLink.innerHTML = docLinkHtml;\n",
              "          element.appendChild(docLink);\n",
              "        }\n",
              "      </script>\n",
              "    </div>\n",
              "  </div>\n",
              "  "
            ]
          },
          "metadata": {},
          "execution_count": 49
        }
      ]
    },
    {
      "cell_type": "code",
      "source": [
        "# View y\n",
        "y.head()"
      ],
      "metadata": {
        "colab": {
          "base_uri": "https://localhost:8080/"
        },
        "id": "hYjqT7WERyuu",
        "outputId": "94d3477e-da79-4561-eb8e-8ca81a673240"
      },
      "execution_count": 50,
      "outputs": [
        {
          "output_type": "execute_result",
          "data": {
            "text/plain": [
              "0    16884.92400\n",
              "1     1725.55230\n",
              "2     4449.46200\n",
              "3    21984.47061\n",
              "4     3866.85520\n",
              "Name: charges, dtype: float64"
            ]
          },
          "metadata": {},
          "execution_count": 50
        }
      ]
    },
    {
      "cell_type": "code",
      "source": [
        "# Create training and test sets\n",
        "from sklearn.model_selection import train_test_split\n",
        "X_train, X_test, y_train, y_test = train_test_split(X, y, test_size=0.2, random_state=24)\n",
        "len(X), len(X_train), len(X_test)"
      ],
      "metadata": {
        "colab": {
          "base_uri": "https://localhost:8080/"
        },
        "id": "mT-h8HH8gvkM",
        "outputId": "76afca3a-2773-4547-c769-c6e02efdde85"
      },
      "execution_count": 51,
      "outputs": [
        {
          "output_type": "execute_result",
          "data": {
            "text/plain": [
              "(1338, 1070, 268)"
            ]
          },
          "metadata": {},
          "execution_count": 51
        }
      ]
    },
    {
      "cell_type": "code",
      "source": [
        "X_train"
      ],
      "metadata": {
        "id": "GRm7iwb8hSVe",
        "colab": {
          "base_uri": "https://localhost:8080/",
          "height": 424
        },
        "outputId": "754212d3-7174-47af-9f8a-39fd181b99e7"
      },
      "execution_count": 52,
      "outputs": [
        {
          "output_type": "execute_result",
          "data": {
            "text/plain": [
              "      age     bmi  children  sex_female  sex_male  smoker_no  smoker_yes  \\\n",
              "132    53  35.900         2           1         0          1           0   \n",
              "508    24  25.270         0           1         0          1           0   \n",
              "422    40  32.775         1           0         1          0           1   \n",
              "613    34  19.000         3           1         0          1           0   \n",
              "1111   38  38.390         3           0         1          0           1   \n",
              "...   ...     ...       ...         ...       ...        ...         ...   \n",
              "145    29  38.830         3           1         0          1           0   \n",
              "343    63  36.765         0           0         1          1           0   \n",
              "192    25  25.740         0           0         1          1           0   \n",
              "899    19  22.515         0           1         0          1           0   \n",
              "418    64  39.160         1           0         1          1           0   \n",
              "\n",
              "      region_northeast  region_northwest  region_southeast  region_southwest  \n",
              "132                  0                 0                 0                 1  \n",
              "508                  1                 0                 0                 0  \n",
              "422                  1                 0                 0                 0  \n",
              "613                  1                 0                 0                 0  \n",
              "1111                 0                 0                 1                 0  \n",
              "...                ...               ...               ...               ...  \n",
              "145                  0                 0                 1                 0  \n",
              "343                  1                 0                 0                 0  \n",
              "192                  0                 0                 1                 0  \n",
              "899                  0                 1                 0                 0  \n",
              "418                  0                 0                 1                 0  \n",
              "\n",
              "[1070 rows x 11 columns]"
            ],
            "text/html": [
              "\n",
              "  <div id=\"df-9171deb6-c206-49f8-8770-4bd34a1bbc08\">\n",
              "    <div class=\"colab-df-container\">\n",
              "      <div>\n",
              "<style scoped>\n",
              "    .dataframe tbody tr th:only-of-type {\n",
              "        vertical-align: middle;\n",
              "    }\n",
              "\n",
              "    .dataframe tbody tr th {\n",
              "        vertical-align: top;\n",
              "    }\n",
              "\n",
              "    .dataframe thead th {\n",
              "        text-align: right;\n",
              "    }\n",
              "</style>\n",
              "<table border=\"1\" class=\"dataframe\">\n",
              "  <thead>\n",
              "    <tr style=\"text-align: right;\">\n",
              "      <th></th>\n",
              "      <th>age</th>\n",
              "      <th>bmi</th>\n",
              "      <th>children</th>\n",
              "      <th>sex_female</th>\n",
              "      <th>sex_male</th>\n",
              "      <th>smoker_no</th>\n",
              "      <th>smoker_yes</th>\n",
              "      <th>region_northeast</th>\n",
              "      <th>region_northwest</th>\n",
              "      <th>region_southeast</th>\n",
              "      <th>region_southwest</th>\n",
              "    </tr>\n",
              "  </thead>\n",
              "  <tbody>\n",
              "    <tr>\n",
              "      <th>132</th>\n",
              "      <td>53</td>\n",
              "      <td>35.900</td>\n",
              "      <td>2</td>\n",
              "      <td>1</td>\n",
              "      <td>0</td>\n",
              "      <td>1</td>\n",
              "      <td>0</td>\n",
              "      <td>0</td>\n",
              "      <td>0</td>\n",
              "      <td>0</td>\n",
              "      <td>1</td>\n",
              "    </tr>\n",
              "    <tr>\n",
              "      <th>508</th>\n",
              "      <td>24</td>\n",
              "      <td>25.270</td>\n",
              "      <td>0</td>\n",
              "      <td>1</td>\n",
              "      <td>0</td>\n",
              "      <td>1</td>\n",
              "      <td>0</td>\n",
              "      <td>1</td>\n",
              "      <td>0</td>\n",
              "      <td>0</td>\n",
              "      <td>0</td>\n",
              "    </tr>\n",
              "    <tr>\n",
              "      <th>422</th>\n",
              "      <td>40</td>\n",
              "      <td>32.775</td>\n",
              "      <td>1</td>\n",
              "      <td>0</td>\n",
              "      <td>1</td>\n",
              "      <td>0</td>\n",
              "      <td>1</td>\n",
              "      <td>1</td>\n",
              "      <td>0</td>\n",
              "      <td>0</td>\n",
              "      <td>0</td>\n",
              "    </tr>\n",
              "    <tr>\n",
              "      <th>613</th>\n",
              "      <td>34</td>\n",
              "      <td>19.000</td>\n",
              "      <td>3</td>\n",
              "      <td>1</td>\n",
              "      <td>0</td>\n",
              "      <td>1</td>\n",
              "      <td>0</td>\n",
              "      <td>1</td>\n",
              "      <td>0</td>\n",
              "      <td>0</td>\n",
              "      <td>0</td>\n",
              "    </tr>\n",
              "    <tr>\n",
              "      <th>1111</th>\n",
              "      <td>38</td>\n",
              "      <td>38.390</td>\n",
              "      <td>3</td>\n",
              "      <td>0</td>\n",
              "      <td>1</td>\n",
              "      <td>0</td>\n",
              "      <td>1</td>\n",
              "      <td>0</td>\n",
              "      <td>0</td>\n",
              "      <td>1</td>\n",
              "      <td>0</td>\n",
              "    </tr>\n",
              "    <tr>\n",
              "      <th>...</th>\n",
              "      <td>...</td>\n",
              "      <td>...</td>\n",
              "      <td>...</td>\n",
              "      <td>...</td>\n",
              "      <td>...</td>\n",
              "      <td>...</td>\n",
              "      <td>...</td>\n",
              "      <td>...</td>\n",
              "      <td>...</td>\n",
              "      <td>...</td>\n",
              "      <td>...</td>\n",
              "    </tr>\n",
              "    <tr>\n",
              "      <th>145</th>\n",
              "      <td>29</td>\n",
              "      <td>38.830</td>\n",
              "      <td>3</td>\n",
              "      <td>1</td>\n",
              "      <td>0</td>\n",
              "      <td>1</td>\n",
              "      <td>0</td>\n",
              "      <td>0</td>\n",
              "      <td>0</td>\n",
              "      <td>1</td>\n",
              "      <td>0</td>\n",
              "    </tr>\n",
              "    <tr>\n",
              "      <th>343</th>\n",
              "      <td>63</td>\n",
              "      <td>36.765</td>\n",
              "      <td>0</td>\n",
              "      <td>0</td>\n",
              "      <td>1</td>\n",
              "      <td>1</td>\n",
              "      <td>0</td>\n",
              "      <td>1</td>\n",
              "      <td>0</td>\n",
              "      <td>0</td>\n",
              "      <td>0</td>\n",
              "    </tr>\n",
              "    <tr>\n",
              "      <th>192</th>\n",
              "      <td>25</td>\n",
              "      <td>25.740</td>\n",
              "      <td>0</td>\n",
              "      <td>0</td>\n",
              "      <td>1</td>\n",
              "      <td>1</td>\n",
              "      <td>0</td>\n",
              "      <td>0</td>\n",
              "      <td>0</td>\n",
              "      <td>1</td>\n",
              "      <td>0</td>\n",
              "    </tr>\n",
              "    <tr>\n",
              "      <th>899</th>\n",
              "      <td>19</td>\n",
              "      <td>22.515</td>\n",
              "      <td>0</td>\n",
              "      <td>1</td>\n",
              "      <td>0</td>\n",
              "      <td>1</td>\n",
              "      <td>0</td>\n",
              "      <td>0</td>\n",
              "      <td>1</td>\n",
              "      <td>0</td>\n",
              "      <td>0</td>\n",
              "    </tr>\n",
              "    <tr>\n",
              "      <th>418</th>\n",
              "      <td>64</td>\n",
              "      <td>39.160</td>\n",
              "      <td>1</td>\n",
              "      <td>0</td>\n",
              "      <td>1</td>\n",
              "      <td>1</td>\n",
              "      <td>0</td>\n",
              "      <td>0</td>\n",
              "      <td>0</td>\n",
              "      <td>1</td>\n",
              "      <td>0</td>\n",
              "    </tr>\n",
              "  </tbody>\n",
              "</table>\n",
              "<p>1070 rows × 11 columns</p>\n",
              "</div>\n",
              "      <button class=\"colab-df-convert\" onclick=\"convertToInteractive('df-9171deb6-c206-49f8-8770-4bd34a1bbc08')\"\n",
              "              title=\"Convert this dataframe to an interactive table.\"\n",
              "              style=\"display:none;\">\n",
              "        \n",
              "  <svg xmlns=\"http://www.w3.org/2000/svg\" height=\"24px\"viewBox=\"0 0 24 24\"\n",
              "       width=\"24px\">\n",
              "    <path d=\"M0 0h24v24H0V0z\" fill=\"none\"/>\n",
              "    <path d=\"M18.56 5.44l.94 2.06.94-2.06 2.06-.94-2.06-.94-.94-2.06-.94 2.06-2.06.94zm-11 1L8.5 8.5l.94-2.06 2.06-.94-2.06-.94L8.5 2.5l-.94 2.06-2.06.94zm10 10l.94 2.06.94-2.06 2.06-.94-2.06-.94-.94-2.06-.94 2.06-2.06.94z\"/><path d=\"M17.41 7.96l-1.37-1.37c-.4-.4-.92-.59-1.43-.59-.52 0-1.04.2-1.43.59L10.3 9.45l-7.72 7.72c-.78.78-.78 2.05 0 2.83L4 21.41c.39.39.9.59 1.41.59.51 0 1.02-.2 1.41-.59l7.78-7.78 2.81-2.81c.8-.78.8-2.07 0-2.86zM5.41 20L4 18.59l7.72-7.72 1.47 1.35L5.41 20z\"/>\n",
              "  </svg>\n",
              "      </button>\n",
              "      \n",
              "  <style>\n",
              "    .colab-df-container {\n",
              "      display:flex;\n",
              "      flex-wrap:wrap;\n",
              "      gap: 12px;\n",
              "    }\n",
              "\n",
              "    .colab-df-convert {\n",
              "      background-color: #E8F0FE;\n",
              "      border: none;\n",
              "      border-radius: 50%;\n",
              "      cursor: pointer;\n",
              "      display: none;\n",
              "      fill: #1967D2;\n",
              "      height: 32px;\n",
              "      padding: 0 0 0 0;\n",
              "      width: 32px;\n",
              "    }\n",
              "\n",
              "    .colab-df-convert:hover {\n",
              "      background-color: #E2EBFA;\n",
              "      box-shadow: 0px 1px 2px rgba(60, 64, 67, 0.3), 0px 1px 3px 1px rgba(60, 64, 67, 0.15);\n",
              "      fill: #174EA6;\n",
              "    }\n",
              "\n",
              "    [theme=dark] .colab-df-convert {\n",
              "      background-color: #3B4455;\n",
              "      fill: #D2E3FC;\n",
              "    }\n",
              "\n",
              "    [theme=dark] .colab-df-convert:hover {\n",
              "      background-color: #434B5C;\n",
              "      box-shadow: 0px 1px 3px 1px rgba(0, 0, 0, 0.15);\n",
              "      filter: drop-shadow(0px 1px 2px rgba(0, 0, 0, 0.3));\n",
              "      fill: #FFFFFF;\n",
              "    }\n",
              "  </style>\n",
              "\n",
              "      <script>\n",
              "        const buttonEl =\n",
              "          document.querySelector('#df-9171deb6-c206-49f8-8770-4bd34a1bbc08 button.colab-df-convert');\n",
              "        buttonEl.style.display =\n",
              "          google.colab.kernel.accessAllowed ? 'block' : 'none';\n",
              "\n",
              "        async function convertToInteractive(key) {\n",
              "          const element = document.querySelector('#df-9171deb6-c206-49f8-8770-4bd34a1bbc08');\n",
              "          const dataTable =\n",
              "            await google.colab.kernel.invokeFunction('convertToInteractive',\n",
              "                                                     [key], {});\n",
              "          if (!dataTable) return;\n",
              "\n",
              "          const docLinkHtml = 'Like what you see? Visit the ' +\n",
              "            '<a target=\"_blank\" href=https://colab.research.google.com/notebooks/data_table.ipynb>data table notebook</a>'\n",
              "            + ' to learn more about interactive tables.';\n",
              "          element.innerHTML = '';\n",
              "          dataTable['output_type'] = 'display_data';\n",
              "          await google.colab.output.renderOutput(dataTable, element);\n",
              "          const docLink = document.createElement('div');\n",
              "          docLink.innerHTML = docLinkHtml;\n",
              "          element.appendChild(docLink);\n",
              "        }\n",
              "      </script>\n",
              "    </div>\n",
              "  </div>\n",
              "  "
            ]
          },
          "metadata": {},
          "execution_count": 52
        }
      ]
    },
    {
      "cell_type": "code",
      "source": [
        "# Build a neural network (sort of like model_2 above)\n",
        "tf.random.set_seed(24)\n",
        "\n",
        "# 1. Create a model\n",
        "insurance_model = tf.keras.Sequential([\n",
        "  tf.keras.layers.Dense(10),\n",
        "  tf.keras.layers.Dense(1)                                       \n",
        "])\n",
        "\n",
        "#2. Compile the model\n",
        "insurance_model.compile(loss=tf.keras.losses.mae,\n",
        "                        optimizer=tf.keras.optimizers.SGD(),\n",
        "                        metrics=[\"mae\"])\n",
        "\n",
        "#3. Fit the model\n",
        "insurance_model.fit(X_train, y_train, epochs=100)"
      ],
      "metadata": {
        "colab": {
          "base_uri": "https://localhost:8080/"
        },
        "id": "ja0ZlwFrhoK3",
        "outputId": "9cc314e7-2c0b-4521-c072-8bbfaaa8df20"
      },
      "execution_count": 53,
      "outputs": [
        {
          "output_type": "stream",
          "name": "stdout",
          "text": [
            "Epoch 1/100\n",
            "34/34 [==============================] - 1s 3ms/step - loss: 8580.8857 - mae: 8580.8857\n",
            "Epoch 2/100\n",
            "34/34 [==============================] - 0s 4ms/step - loss: 7737.1792 - mae: 7737.1792\n",
            "Epoch 3/100\n",
            "34/34 [==============================] - 0s 3ms/step - loss: 7504.8779 - mae: 7504.8779\n",
            "Epoch 4/100\n",
            "34/34 [==============================] - 0s 2ms/step - loss: 7943.0093 - mae: 7943.0093\n",
            "Epoch 5/100\n",
            "34/34 [==============================] - 0s 2ms/step - loss: 7718.9326 - mae: 7718.9326\n",
            "Epoch 6/100\n",
            "34/34 [==============================] - 0s 2ms/step - loss: 7787.1279 - mae: 7787.1279\n",
            "Epoch 7/100\n",
            "34/34 [==============================] - 0s 3ms/step - loss: 7402.6890 - mae: 7402.6890\n",
            "Epoch 8/100\n",
            "34/34 [==============================] - 0s 1ms/step - loss: 7943.7319 - mae: 7943.7319\n",
            "Epoch 9/100\n",
            "34/34 [==============================] - 0s 2ms/step - loss: 7788.5469 - mae: 7788.5469\n",
            "Epoch 10/100\n",
            "34/34 [==============================] - 0s 2ms/step - loss: 7685.2886 - mae: 7685.2886\n",
            "Epoch 11/100\n",
            "34/34 [==============================] - 0s 2ms/step - loss: 7598.3076 - mae: 7598.3076\n",
            "Epoch 12/100\n",
            "34/34 [==============================] - 0s 4ms/step - loss: 7516.8818 - mae: 7516.8818\n",
            "Epoch 13/100\n",
            "34/34 [==============================] - 0s 6ms/step - loss: 7569.4116 - mae: 7569.4116\n",
            "Epoch 14/100\n",
            "34/34 [==============================] - 0s 3ms/step - loss: 7792.1611 - mae: 7792.1611\n",
            "Epoch 15/100\n",
            "34/34 [==============================] - 0s 2ms/step - loss: 7574.2051 - mae: 7574.2051\n",
            "Epoch 16/100\n",
            "34/34 [==============================] - 0s 4ms/step - loss: 7702.6084 - mae: 7702.6084\n",
            "Epoch 17/100\n",
            "34/34 [==============================] - 0s 4ms/step - loss: 7790.4028 - mae: 7790.4028\n",
            "Epoch 18/100\n",
            "34/34 [==============================] - 0s 3ms/step - loss: 7890.0381 - mae: 7890.0381\n",
            "Epoch 19/100\n",
            "34/34 [==============================] - 0s 3ms/step - loss: 7566.2236 - mae: 7566.2236\n",
            "Epoch 20/100\n",
            "34/34 [==============================] - 0s 2ms/step - loss: 7628.3750 - mae: 7628.3750\n",
            "Epoch 21/100\n",
            "34/34 [==============================] - 0s 2ms/step - loss: 7556.8101 - mae: 7556.8101\n",
            "Epoch 22/100\n",
            "34/34 [==============================] - 0s 3ms/step - loss: 7537.5923 - mae: 7537.5923\n",
            "Epoch 23/100\n",
            "34/34 [==============================] - 0s 4ms/step - loss: 7588.8350 - mae: 7588.8350\n",
            "Epoch 24/100\n",
            "34/34 [==============================] - 0s 3ms/step - loss: 7394.5420 - mae: 7394.5420\n",
            "Epoch 25/100\n",
            "34/34 [==============================] - 0s 3ms/step - loss: 7448.4854 - mae: 7448.4854\n",
            "Epoch 26/100\n",
            "34/34 [==============================] - 0s 4ms/step - loss: 7620.0825 - mae: 7620.0825\n",
            "Epoch 27/100\n",
            "34/34 [==============================] - 0s 3ms/step - loss: 7645.8564 - mae: 7645.8564\n",
            "Epoch 28/100\n",
            "34/34 [==============================] - 0s 5ms/step - loss: 7499.6978 - mae: 7499.6978\n",
            "Epoch 29/100\n",
            "34/34 [==============================] - 0s 4ms/step - loss: 7405.0801 - mae: 7405.0801\n",
            "Epoch 30/100\n",
            "34/34 [==============================] - 0s 5ms/step - loss: 7510.1328 - mae: 7510.1328\n",
            "Epoch 31/100\n",
            "34/34 [==============================] - 0s 3ms/step - loss: 7448.8916 - mae: 7448.8916\n",
            "Epoch 32/100\n",
            "34/34 [==============================] - 0s 4ms/step - loss: 7591.4600 - mae: 7591.4600\n",
            "Epoch 33/100\n",
            "34/34 [==============================] - 0s 2ms/step - loss: 7436.5942 - mae: 7436.5942\n",
            "Epoch 34/100\n",
            "34/34 [==============================] - 0s 5ms/step - loss: 7505.8857 - mae: 7505.8857\n",
            "Epoch 35/100\n",
            "34/34 [==============================] - 0s 3ms/step - loss: 7391.8999 - mae: 7391.8999\n",
            "Epoch 36/100\n",
            "34/34 [==============================] - 0s 3ms/step - loss: 7524.1411 - mae: 7524.1411\n",
            "Epoch 37/100\n",
            "34/34 [==============================] - 0s 4ms/step - loss: 7554.3794 - mae: 7554.3794\n",
            "Epoch 38/100\n",
            "34/34 [==============================] - 0s 2ms/step - loss: 7425.1978 - mae: 7425.1978\n",
            "Epoch 39/100\n",
            "34/34 [==============================] - 0s 5ms/step - loss: 7350.6812 - mae: 7350.6812\n",
            "Epoch 40/100\n",
            "34/34 [==============================] - 0s 3ms/step - loss: 7361.4038 - mae: 7361.4038\n",
            "Epoch 41/100\n",
            "34/34 [==============================] - 0s 2ms/step - loss: 7389.1538 - mae: 7389.1538\n",
            "Epoch 42/100\n",
            "34/34 [==============================] - 0s 4ms/step - loss: 7342.7563 - mae: 7342.7563\n",
            "Epoch 43/100\n",
            "34/34 [==============================] - 0s 2ms/step - loss: 7525.1821 - mae: 7525.1821\n",
            "Epoch 44/100\n",
            "34/34 [==============================] - 0s 2ms/step - loss: 7255.2676 - mae: 7255.2676\n",
            "Epoch 45/100\n",
            "34/34 [==============================] - 0s 2ms/step - loss: 7343.8384 - mae: 7343.8384\n",
            "Epoch 46/100\n",
            "34/34 [==============================] - 0s 3ms/step - loss: 7373.7769 - mae: 7373.7769\n",
            "Epoch 47/100\n",
            "34/34 [==============================] - 0s 5ms/step - loss: 7636.1641 - mae: 7636.1641\n",
            "Epoch 48/100\n",
            "34/34 [==============================] - 0s 3ms/step - loss: 7648.8008 - mae: 7648.8008\n",
            "Epoch 49/100\n",
            "34/34 [==============================] - 0s 4ms/step - loss: 7670.0249 - mae: 7670.0249\n",
            "Epoch 50/100\n",
            "34/34 [==============================] - 0s 2ms/step - loss: 7507.2568 - mae: 7507.2568\n",
            "Epoch 51/100\n",
            "34/34 [==============================] - 0s 3ms/step - loss: 7460.3857 - mae: 7460.3857\n",
            "Epoch 52/100\n",
            "34/34 [==============================] - 0s 2ms/step - loss: 7364.8555 - mae: 7364.8555\n",
            "Epoch 53/100\n",
            "34/34 [==============================] - 0s 2ms/step - loss: 7420.2119 - mae: 7420.2119\n",
            "Epoch 54/100\n",
            "34/34 [==============================] - 0s 2ms/step - loss: 7562.7373 - mae: 7562.7373\n",
            "Epoch 55/100\n",
            "34/34 [==============================] - 0s 4ms/step - loss: 7467.1792 - mae: 7467.1792\n",
            "Epoch 56/100\n",
            "34/34 [==============================] - 0s 3ms/step - loss: 7530.9780 - mae: 7530.9780\n",
            "Epoch 57/100\n",
            "34/34 [==============================] - 0s 3ms/step - loss: 7348.9604 - mae: 7348.9604\n",
            "Epoch 58/100\n",
            "34/34 [==============================] - 0s 3ms/step - loss: 7329.6230 - mae: 7329.6230\n",
            "Epoch 59/100\n",
            "34/34 [==============================] - 0s 2ms/step - loss: 7501.2886 - mae: 7501.2886\n",
            "Epoch 60/100\n",
            "34/34 [==============================] - 0s 2ms/step - loss: 7293.0815 - mae: 7293.0815\n",
            "Epoch 61/100\n",
            "34/34 [==============================] - 0s 3ms/step - loss: 7541.8511 - mae: 7541.8511\n",
            "Epoch 62/100\n",
            "34/34 [==============================] - 0s 2ms/step - loss: 7691.6689 - mae: 7691.6689\n",
            "Epoch 63/100\n",
            "34/34 [==============================] - 0s 2ms/step - loss: 7481.4702 - mae: 7481.4702\n",
            "Epoch 64/100\n",
            "34/34 [==============================] - 0s 4ms/step - loss: 7314.9868 - mae: 7314.9868\n",
            "Epoch 65/100\n",
            "34/34 [==============================] - 0s 2ms/step - loss: 7142.5239 - mae: 7142.5239\n",
            "Epoch 66/100\n",
            "34/34 [==============================] - 0s 4ms/step - loss: 7249.2988 - mae: 7249.2988\n",
            "Epoch 67/100\n",
            "34/34 [==============================] - 0s 3ms/step - loss: 7311.3965 - mae: 7311.3965\n",
            "Epoch 68/100\n",
            "34/34 [==============================] - 0s 4ms/step - loss: 7093.6069 - mae: 7093.6069\n",
            "Epoch 69/100\n",
            "34/34 [==============================] - 0s 2ms/step - loss: 7556.6489 - mae: 7556.6489\n",
            "Epoch 70/100\n",
            "34/34 [==============================] - 0s 2ms/step - loss: 7197.5986 - mae: 7197.5986\n",
            "Epoch 71/100\n",
            "34/34 [==============================] - 0s 3ms/step - loss: 7318.6660 - mae: 7318.6660\n",
            "Epoch 72/100\n",
            "34/34 [==============================] - 0s 4ms/step - loss: 7319.7290 - mae: 7319.7290\n",
            "Epoch 73/100\n",
            "34/34 [==============================] - 0s 4ms/step - loss: 7437.3633 - mae: 7437.3633\n",
            "Epoch 74/100\n",
            "34/34 [==============================] - 0s 2ms/step - loss: 7376.7642 - mae: 7376.7642\n",
            "Epoch 75/100\n",
            "34/34 [==============================] - 0s 4ms/step - loss: 7591.1523 - mae: 7591.1523\n",
            "Epoch 76/100\n",
            "34/34 [==============================] - 0s 5ms/step - loss: 7375.9526 - mae: 7375.9526\n",
            "Epoch 77/100\n",
            "34/34 [==============================] - 0s 4ms/step - loss: 7193.1108 - mae: 7193.1108\n",
            "Epoch 78/100\n",
            "34/34 [==============================] - 0s 4ms/step - loss: 7393.1040 - mae: 7393.1040\n",
            "Epoch 79/100\n",
            "34/34 [==============================] - 0s 5ms/step - loss: 7107.2246 - mae: 7107.2246\n",
            "Epoch 80/100\n",
            "34/34 [==============================] - 0s 4ms/step - loss: 7301.5239 - mae: 7301.5239\n",
            "Epoch 81/100\n",
            "34/34 [==============================] - 0s 3ms/step - loss: 7100.6343 - mae: 7100.6343\n",
            "Epoch 82/100\n",
            "34/34 [==============================] - 0s 2ms/step - loss: 7337.5957 - mae: 7337.5957\n",
            "Epoch 83/100\n",
            "34/34 [==============================] - 0s 4ms/step - loss: 7298.6655 - mae: 7298.6655\n",
            "Epoch 84/100\n",
            "34/34 [==============================] - 0s 3ms/step - loss: 7162.8345 - mae: 7162.8345\n",
            "Epoch 85/100\n",
            "34/34 [==============================] - 0s 4ms/step - loss: 7051.5977 - mae: 7051.5977\n",
            "Epoch 86/100\n",
            "34/34 [==============================] - 0s 4ms/step - loss: 7539.4150 - mae: 7539.4150\n",
            "Epoch 87/100\n",
            "34/34 [==============================] - 0s 2ms/step - loss: 7269.0605 - mae: 7269.0605\n",
            "Epoch 88/100\n",
            "34/34 [==============================] - 0s 2ms/step - loss: 7479.4551 - mae: 7479.4551\n",
            "Epoch 89/100\n",
            "34/34 [==============================] - 0s 3ms/step - loss: 7476.1519 - mae: 7476.1519\n",
            "Epoch 90/100\n",
            "34/34 [==============================] - 0s 3ms/step - loss: 7402.0981 - mae: 7402.0981\n",
            "Epoch 91/100\n",
            "34/34 [==============================] - 0s 2ms/step - loss: 7283.5557 - mae: 7283.5557\n",
            "Epoch 92/100\n",
            "34/34 [==============================] - 0s 3ms/step - loss: 7094.4663 - mae: 7094.4663\n",
            "Epoch 93/100\n",
            "34/34 [==============================] - 0s 3ms/step - loss: 7286.7783 - mae: 7286.7783\n",
            "Epoch 94/100\n",
            "34/34 [==============================] - 0s 2ms/step - loss: 7265.1284 - mae: 7265.1284\n",
            "Epoch 95/100\n",
            "34/34 [==============================] - 0s 4ms/step - loss: 7459.8408 - mae: 7459.8408\n",
            "Epoch 96/100\n",
            "34/34 [==============================] - 0s 5ms/step - loss: 7149.9141 - mae: 7149.9141\n",
            "Epoch 97/100\n",
            "34/34 [==============================] - 0s 3ms/step - loss: 7286.3374 - mae: 7286.3374\n",
            "Epoch 98/100\n",
            "34/34 [==============================] - 0s 3ms/step - loss: 7405.5908 - mae: 7405.5908\n",
            "Epoch 99/100\n",
            "34/34 [==============================] - 0s 2ms/step - loss: 7059.7710 - mae: 7059.7710\n",
            "Epoch 100/100\n",
            "34/34 [==============================] - 0s 3ms/step - loss: 7306.5020 - mae: 7306.5020\n"
          ]
        },
        {
          "output_type": "execute_result",
          "data": {
            "text/plain": [
              "<keras.callbacks.History at 0x7fa9ce166b10>"
            ]
          },
          "metadata": {},
          "execution_count": 53
        }
      ]
    },
    {
      "cell_type": "code",
      "source": [
        "# Check the results of the insurance model\n",
        "insurance_model.evaluate(X_test, y_test)"
      ],
      "metadata": {
        "colab": {
          "base_uri": "https://localhost:8080/"
        },
        "id": "R96Zfa26lhaX",
        "outputId": "b4765f7a-da38-474b-f510-4be25c0a6dc9"
      },
      "execution_count": 54,
      "outputs": [
        {
          "output_type": "stream",
          "name": "stdout",
          "text": [
            "9/9 [==============================] - 0s 2ms/step - loss: 7851.0737 - mae: 7851.0737\n"
          ]
        },
        {
          "output_type": "execute_result",
          "data": {
            "text/plain": [
              "[7851.07373046875, 7851.07373046875]"
            ]
          },
          "metadata": {},
          "execution_count": 54
        }
      ]
    },
    {
      "cell_type": "code",
      "source": [
        "y_train.median(), y_train.mean()\n"
      ],
      "metadata": {
        "id": "6t7FiCSbmMZh",
        "colab": {
          "base_uri": "https://localhost:8080/"
        },
        "outputId": "8058848f-a7f2-4186-9cfd-76887d6a5815"
      },
      "execution_count": 55,
      "outputs": [
        {
          "output_type": "execute_result",
          "data": {
            "text/plain": [
              "(9618.996575000001, 13352.418761690644)"
            ]
          },
          "metadata": {},
          "execution_count": 55
        }
      ]
    },
    {
      "cell_type": "markdown",
      "source": [
        "Right now it looks like our model is not performing too well... let's try and improve it!\n",
        "\n",
        "To improve our model, we'll run several experiments:\n",
        "1. Add an extra layer with more hidden units\n",
        "2. Train for longer\n",
        "3. Use Adam instead of SGD"
      ],
      "metadata": {
        "id": "fJaMxrTaUqFo"
      }
    },
    {
      "cell_type": "code",
      "source": [
        "# improvement\n",
        "tf.random.set_seed(24)\n",
        "\n",
        "#1. Create the model\n",
        "insurance_model2 = tf.keras.Sequential([\n",
        "  tf.keras.layers.Dense(100),\n",
        "  tf.keras.layers.Dense(10),\n",
        "  tf.keras.layers.Dense(1)                                   \n",
        "])\n",
        "\n",
        "#2. Compile the model\n",
        "insurance_model2.compile(loss=tf.keras.losses.mae,\n",
        "                  optimizer=tf.keras.optimizers.Adam(),\n",
        "                  metrics=[\"mae\"])\n",
        "\n",
        "#3. Fit the model\n",
        "insurance_model2.fit(X_train, y_train, epochs=100)"
      ],
      "metadata": {
        "colab": {
          "base_uri": "https://localhost:8080/"
        },
        "id": "4P1nC8J3VWBX",
        "outputId": "308636c5-2c13-4bf7-b02e-92574ffa6c85"
      },
      "execution_count": 56,
      "outputs": [
        {
          "output_type": "stream",
          "name": "stdout",
          "text": [
            "Epoch 1/100\n",
            "34/34 [==============================] - 0s 2ms/step - loss: 13298.5820 - mae: 13298.5820\n",
            "Epoch 2/100\n",
            "34/34 [==============================] - 0s 2ms/step - loss: 13131.2783 - mae: 13131.2783\n",
            "Epoch 3/100\n",
            "34/34 [==============================] - 0s 2ms/step - loss: 12789.3262 - mae: 12789.3262\n",
            "Epoch 4/100\n",
            "34/34 [==============================] - 0s 2ms/step - loss: 12116.7744 - mae: 12116.7744\n",
            "Epoch 5/100\n",
            "34/34 [==============================] - 0s 2ms/step - loss: 10977.4053 - mae: 10977.4053\n",
            "Epoch 6/100\n",
            "34/34 [==============================] - 0s 2ms/step - loss: 9518.7754 - mae: 9518.7754\n",
            "Epoch 7/100\n",
            "34/34 [==============================] - 0s 2ms/step - loss: 8195.0508 - mae: 8195.0508\n",
            "Epoch 8/100\n",
            "34/34 [==============================] - 0s 2ms/step - loss: 7528.5439 - mae: 7528.5439\n",
            "Epoch 9/100\n",
            "34/34 [==============================] - 0s 2ms/step - loss: 7395.8105 - mae: 7395.8105\n",
            "Epoch 10/100\n",
            "34/34 [==============================] - 0s 2ms/step - loss: 7371.9785 - mae: 7371.9785\n",
            "Epoch 11/100\n",
            "34/34 [==============================] - 0s 2ms/step - loss: 7348.6904 - mae: 7348.6904\n",
            "Epoch 12/100\n",
            "34/34 [==============================] - 0s 2ms/step - loss: 7326.0840 - mae: 7326.0840\n",
            "Epoch 13/100\n",
            "34/34 [==============================] - 0s 2ms/step - loss: 7304.7163 - mae: 7304.7163\n",
            "Epoch 14/100\n",
            "34/34 [==============================] - 0s 3ms/step - loss: 7279.7246 - mae: 7279.7246\n",
            "Epoch 15/100\n",
            "34/34 [==============================] - 0s 2ms/step - loss: 7256.5498 - mae: 7256.5498\n",
            "Epoch 16/100\n",
            "34/34 [==============================] - 0s 2ms/step - loss: 7231.8423 - mae: 7231.8423\n",
            "Epoch 17/100\n",
            "34/34 [==============================] - 0s 2ms/step - loss: 7205.2393 - mae: 7205.2393\n",
            "Epoch 18/100\n",
            "34/34 [==============================] - 0s 2ms/step - loss: 7180.0522 - mae: 7180.0522\n",
            "Epoch 19/100\n",
            "34/34 [==============================] - 0s 2ms/step - loss: 7155.3174 - mae: 7155.3174\n",
            "Epoch 20/100\n",
            "34/34 [==============================] - 0s 2ms/step - loss: 7127.1929 - mae: 7127.1929\n",
            "Epoch 21/100\n",
            "34/34 [==============================] - 0s 2ms/step - loss: 7098.8662 - mae: 7098.8662\n",
            "Epoch 22/100\n",
            "34/34 [==============================] - 0s 2ms/step - loss: 7072.3896 - mae: 7072.3896\n",
            "Epoch 23/100\n",
            "34/34 [==============================] - 0s 2ms/step - loss: 7043.2471 - mae: 7043.2471\n",
            "Epoch 24/100\n",
            "34/34 [==============================] - 0s 2ms/step - loss: 7016.5649 - mae: 7016.5649\n",
            "Epoch 25/100\n",
            "34/34 [==============================] - 0s 2ms/step - loss: 6981.7495 - mae: 6981.7495\n",
            "Epoch 26/100\n",
            "34/34 [==============================] - 0s 2ms/step - loss: 6950.4160 - mae: 6950.4160\n",
            "Epoch 27/100\n",
            "34/34 [==============================] - 0s 2ms/step - loss: 6918.6021 - mae: 6918.6021\n",
            "Epoch 28/100\n",
            "34/34 [==============================] - 0s 2ms/step - loss: 6885.4692 - mae: 6885.4692\n",
            "Epoch 29/100\n",
            "34/34 [==============================] - 0s 2ms/step - loss: 6850.1675 - mae: 6850.1675\n",
            "Epoch 30/100\n",
            "34/34 [==============================] - 0s 2ms/step - loss: 6815.0312 - mae: 6815.0312\n",
            "Epoch 31/100\n",
            "34/34 [==============================] - 0s 2ms/step - loss: 6781.4155 - mae: 6781.4155\n",
            "Epoch 32/100\n",
            "34/34 [==============================] - 0s 2ms/step - loss: 6743.8657 - mae: 6743.8657\n",
            "Epoch 33/100\n",
            "34/34 [==============================] - 0s 2ms/step - loss: 6707.6880 - mae: 6707.6880\n",
            "Epoch 34/100\n",
            "34/34 [==============================] - 0s 2ms/step - loss: 6668.4194 - mae: 6668.4194\n",
            "Epoch 35/100\n",
            "34/34 [==============================] - 0s 2ms/step - loss: 6628.7397 - mae: 6628.7397\n",
            "Epoch 36/100\n",
            "34/34 [==============================] - 0s 2ms/step - loss: 6592.8945 - mae: 6592.8945\n",
            "Epoch 37/100\n",
            "34/34 [==============================] - 0s 2ms/step - loss: 6555.9897 - mae: 6555.9897\n",
            "Epoch 38/100\n",
            "34/34 [==============================] - 0s 2ms/step - loss: 6520.3125 - mae: 6520.3125\n",
            "Epoch 39/100\n",
            "34/34 [==============================] - 0s 2ms/step - loss: 6490.8101 - mae: 6490.8101\n",
            "Epoch 40/100\n",
            "34/34 [==============================] - 0s 2ms/step - loss: 6462.9634 - mae: 6462.9634\n",
            "Epoch 41/100\n",
            "34/34 [==============================] - 0s 3ms/step - loss: 6439.7769 - mae: 6439.7769\n",
            "Epoch 42/100\n",
            "34/34 [==============================] - 0s 2ms/step - loss: 6423.8071 - mae: 6423.8071\n",
            "Epoch 43/100\n",
            "34/34 [==============================] - 0s 2ms/step - loss: 6405.7627 - mae: 6405.7627\n",
            "Epoch 44/100\n",
            "34/34 [==============================] - 0s 2ms/step - loss: 6387.6436 - mae: 6387.6436\n",
            "Epoch 45/100\n",
            "34/34 [==============================] - 0s 2ms/step - loss: 6372.0459 - mae: 6372.0459\n",
            "Epoch 46/100\n",
            "34/34 [==============================] - 0s 2ms/step - loss: 6358.3804 - mae: 6358.3804\n",
            "Epoch 47/100\n",
            "34/34 [==============================] - 0s 2ms/step - loss: 6344.5576 - mae: 6344.5576\n",
            "Epoch 48/100\n",
            "34/34 [==============================] - 0s 2ms/step - loss: 6331.2588 - mae: 6331.2588\n",
            "Epoch 49/100\n",
            "34/34 [==============================] - 0s 2ms/step - loss: 6317.5801 - mae: 6317.5801\n",
            "Epoch 50/100\n",
            "34/34 [==============================] - 0s 2ms/step - loss: 6308.1445 - mae: 6308.1445\n",
            "Epoch 51/100\n",
            "34/34 [==============================] - 0s 2ms/step - loss: 6287.5347 - mae: 6287.5347\n",
            "Epoch 52/100\n",
            "34/34 [==============================] - 0s 2ms/step - loss: 6277.3149 - mae: 6277.3149\n",
            "Epoch 53/100\n",
            "34/34 [==============================] - 0s 2ms/step - loss: 6260.6406 - mae: 6260.6406\n",
            "Epoch 54/100\n",
            "34/34 [==============================] - 0s 2ms/step - loss: 6242.9688 - mae: 6242.9688\n",
            "Epoch 55/100\n",
            "34/34 [==============================] - 0s 2ms/step - loss: 6232.5420 - mae: 6232.5420\n",
            "Epoch 56/100\n",
            "34/34 [==============================] - 0s 2ms/step - loss: 6214.9692 - mae: 6214.9692\n",
            "Epoch 57/100\n",
            "34/34 [==============================] - 0s 2ms/step - loss: 6208.0029 - mae: 6208.0029\n",
            "Epoch 58/100\n",
            "34/34 [==============================] - 0s 2ms/step - loss: 6184.9839 - mae: 6184.9839\n",
            "Epoch 59/100\n",
            "34/34 [==============================] - 0s 2ms/step - loss: 6171.5747 - mae: 6171.5747\n",
            "Epoch 60/100\n",
            "34/34 [==============================] - 0s 2ms/step - loss: 6154.7290 - mae: 6154.7290\n",
            "Epoch 61/100\n",
            "34/34 [==============================] - 0s 2ms/step - loss: 6136.6406 - mae: 6136.6406\n",
            "Epoch 62/100\n",
            "34/34 [==============================] - 0s 2ms/step - loss: 6119.5762 - mae: 6119.5762\n",
            "Epoch 63/100\n",
            "34/34 [==============================] - 0s 2ms/step - loss: 6104.1401 - mae: 6104.1401\n",
            "Epoch 64/100\n",
            "34/34 [==============================] - 0s 2ms/step - loss: 6086.1719 - mae: 6086.1719\n",
            "Epoch 65/100\n",
            "34/34 [==============================] - 0s 2ms/step - loss: 6067.9458 - mae: 6067.9458\n",
            "Epoch 66/100\n",
            "34/34 [==============================] - 0s 2ms/step - loss: 6048.7778 - mae: 6048.7778\n",
            "Epoch 67/100\n",
            "34/34 [==============================] - 0s 2ms/step - loss: 6032.2817 - mae: 6032.2817\n",
            "Epoch 68/100\n",
            "34/34 [==============================] - 0s 2ms/step - loss: 6012.5029 - mae: 6012.5029\n",
            "Epoch 69/100\n",
            "34/34 [==============================] - 0s 2ms/step - loss: 5995.8921 - mae: 5995.8921\n",
            "Epoch 70/100\n",
            "34/34 [==============================] - 0s 2ms/step - loss: 5973.8770 - mae: 5973.8770\n",
            "Epoch 71/100\n",
            "34/34 [==============================] - 0s 2ms/step - loss: 5949.0439 - mae: 5949.0439\n",
            "Epoch 72/100\n",
            "34/34 [==============================] - 0s 2ms/step - loss: 5926.4946 - mae: 5926.4946\n",
            "Epoch 73/100\n",
            "34/34 [==============================] - 0s 2ms/step - loss: 5906.0527 - mae: 5906.0527\n",
            "Epoch 74/100\n",
            "34/34 [==============================] - 0s 2ms/step - loss: 5881.3867 - mae: 5881.3867\n",
            "Epoch 75/100\n",
            "34/34 [==============================] - 0s 2ms/step - loss: 5862.6621 - mae: 5862.6621\n",
            "Epoch 76/100\n",
            "34/34 [==============================] - 0s 2ms/step - loss: 5833.6758 - mae: 5833.6758\n",
            "Epoch 77/100\n",
            "34/34 [==============================] - 0s 2ms/step - loss: 5810.8770 - mae: 5810.8770\n",
            "Epoch 78/100\n",
            "34/34 [==============================] - 0s 2ms/step - loss: 5783.0757 - mae: 5783.0757\n",
            "Epoch 79/100\n",
            "34/34 [==============================] - 0s 2ms/step - loss: 5752.3589 - mae: 5752.3589\n",
            "Epoch 80/100\n",
            "34/34 [==============================] - 0s 3ms/step - loss: 5723.9526 - mae: 5723.9526\n",
            "Epoch 81/100\n",
            "34/34 [==============================] - 0s 2ms/step - loss: 5695.0112 - mae: 5695.0112\n",
            "Epoch 82/100\n",
            "34/34 [==============================] - 0s 2ms/step - loss: 5669.2979 - mae: 5669.2979\n",
            "Epoch 83/100\n",
            "34/34 [==============================] - 0s 2ms/step - loss: 5636.7847 - mae: 5636.7847\n",
            "Epoch 84/100\n",
            "34/34 [==============================] - 0s 2ms/step - loss: 5601.8169 - mae: 5601.8169\n",
            "Epoch 85/100\n",
            "34/34 [==============================] - 0s 2ms/step - loss: 5560.4287 - mae: 5560.4287\n",
            "Epoch 86/100\n",
            "34/34 [==============================] - 0s 2ms/step - loss: 5534.8257 - mae: 5534.8257\n",
            "Epoch 87/100\n",
            "34/34 [==============================] - 0s 2ms/step - loss: 5488.2017 - mae: 5488.2017\n",
            "Epoch 88/100\n",
            "34/34 [==============================] - 0s 2ms/step - loss: 5457.7280 - mae: 5457.7280\n",
            "Epoch 89/100\n",
            "34/34 [==============================] - 0s 2ms/step - loss: 5406.1973 - mae: 5406.1973\n",
            "Epoch 90/100\n",
            "34/34 [==============================] - 0s 2ms/step - loss: 5364.0986 - mae: 5364.0986\n",
            "Epoch 91/100\n",
            "34/34 [==============================] - 0s 2ms/step - loss: 5316.6533 - mae: 5316.6533\n",
            "Epoch 92/100\n",
            "34/34 [==============================] - 0s 2ms/step - loss: 5268.4609 - mae: 5268.4609\n",
            "Epoch 93/100\n",
            "34/34 [==============================] - 0s 2ms/step - loss: 5227.6079 - mae: 5227.6079\n",
            "Epoch 94/100\n",
            "34/34 [==============================] - 0s 2ms/step - loss: 5186.4873 - mae: 5186.4873\n",
            "Epoch 95/100\n",
            "34/34 [==============================] - 0s 2ms/step - loss: 5120.0898 - mae: 5120.0898\n",
            "Epoch 96/100\n",
            "34/34 [==============================] - 0s 2ms/step - loss: 5059.3096 - mae: 5059.3096\n",
            "Epoch 97/100\n",
            "34/34 [==============================] - 0s 2ms/step - loss: 5013.7339 - mae: 5013.7339\n",
            "Epoch 98/100\n",
            "34/34 [==============================] - 0s 2ms/step - loss: 4938.6416 - mae: 4938.6416\n",
            "Epoch 99/100\n",
            "34/34 [==============================] - 0s 2ms/step - loss: 4873.5054 - mae: 4873.5054\n",
            "Epoch 100/100\n",
            "34/34 [==============================] - 0s 2ms/step - loss: 4803.2051 - mae: 4803.2051\n"
          ]
        },
        {
          "output_type": "execute_result",
          "data": {
            "text/plain": [
              "<keras.callbacks.History at 0x7fa9ce1dae90>"
            ]
          },
          "metadata": {},
          "execution_count": 56
        }
      ]
    },
    {
      "cell_type": "code",
      "source": [
        "insurance_model2.evaluate(X_test, y_test)"
      ],
      "metadata": {
        "colab": {
          "base_uri": "https://localhost:8080/"
        },
        "id": "KPjCYExeWLIt",
        "outputId": "f6aa89a2-d70b-487d-f2e9-0ce1e91c2959"
      },
      "execution_count": 57,
      "outputs": [
        {
          "output_type": "stream",
          "name": "stdout",
          "text": [
            "9/9 [==============================] - 0s 2ms/step - loss: 5021.5278 - mae: 5021.5278\n"
          ]
        },
        {
          "output_type": "execute_result",
          "data": {
            "text/plain": [
              "[5021.52783203125, 5021.52783203125]"
            ]
          },
          "metadata": {},
          "execution_count": 57
        }
      ]
    },
    {
      "cell_type": "code",
      "source": [
        "# Test again with larger number of epochs\n",
        "tf.random.set_seed(24)\n",
        "\n",
        "#1. Create the model\n",
        "insurance_model3 = tf.keras.Sequential([\n",
        "  tf.keras.layers.Dense(100),\n",
        "  tf.keras.layers.Dense(10),\n",
        "  tf.keras.layers.Dense(1)                                          \n",
        "])\n",
        "\n",
        "#2. Compile the model\n",
        "insurance_model3.compile(loss=tf.keras.losses.mae,\n",
        "                         optimizer=tf.keras.optimizers.Adam(),\n",
        "                         metrics=[\"mae\"])\n",
        "\n",
        "#3. Fit the model\n",
        "history = insurance_model3.fit(X_train, y_train, epochs=200)"
      ],
      "metadata": {
        "colab": {
          "base_uri": "https://localhost:8080/"
        },
        "id": "NaSiTDqXWZki",
        "outputId": "14c0976b-3e0a-46a7-9ad4-78692d31b00f"
      },
      "execution_count": 58,
      "outputs": [
        {
          "output_type": "stream",
          "name": "stdout",
          "text": [
            "Epoch 1/200\n",
            "34/34 [==============================] - 0s 2ms/step - loss: 13298.5820 - mae: 13298.5820\n",
            "Epoch 2/200\n",
            "34/34 [==============================] - 0s 2ms/step - loss: 13131.2783 - mae: 13131.2783\n",
            "Epoch 3/200\n",
            "34/34 [==============================] - 0s 2ms/step - loss: 12789.3262 - mae: 12789.3262\n",
            "Epoch 4/200\n",
            "34/34 [==============================] - 0s 2ms/step - loss: 12116.7744 - mae: 12116.7744\n",
            "Epoch 5/200\n",
            "34/34 [==============================] - 0s 2ms/step - loss: 10977.4053 - mae: 10977.4053\n",
            "Epoch 6/200\n",
            "34/34 [==============================] - 0s 2ms/step - loss: 9518.7754 - mae: 9518.7754\n",
            "Epoch 7/200\n",
            "34/34 [==============================] - 0s 2ms/step - loss: 8195.0508 - mae: 8195.0508\n",
            "Epoch 8/200\n",
            "34/34 [==============================] - 0s 2ms/step - loss: 7528.5439 - mae: 7528.5439\n",
            "Epoch 9/200\n",
            "34/34 [==============================] - 0s 2ms/step - loss: 7395.8105 - mae: 7395.8105\n",
            "Epoch 10/200\n",
            "34/34 [==============================] - 0s 2ms/step - loss: 7371.9785 - mae: 7371.9785\n",
            "Epoch 11/200\n",
            "34/34 [==============================] - 0s 2ms/step - loss: 7348.6904 - mae: 7348.6904\n",
            "Epoch 12/200\n",
            "34/34 [==============================] - 0s 2ms/step - loss: 7326.0840 - mae: 7326.0840\n",
            "Epoch 13/200\n",
            "34/34 [==============================] - 0s 2ms/step - loss: 7304.7163 - mae: 7304.7163\n",
            "Epoch 14/200\n",
            "34/34 [==============================] - 0s 2ms/step - loss: 7279.7246 - mae: 7279.7246\n",
            "Epoch 15/200\n",
            "34/34 [==============================] - 0s 2ms/step - loss: 7256.5498 - mae: 7256.5498\n",
            "Epoch 16/200\n",
            "34/34 [==============================] - 0s 2ms/step - loss: 7231.8423 - mae: 7231.8423\n",
            "Epoch 17/200\n",
            "34/34 [==============================] - 0s 2ms/step - loss: 7205.2393 - mae: 7205.2393\n",
            "Epoch 18/200\n",
            "34/34 [==============================] - 0s 2ms/step - loss: 7180.0522 - mae: 7180.0522\n",
            "Epoch 19/200\n",
            "34/34 [==============================] - 0s 2ms/step - loss: 7155.3174 - mae: 7155.3174\n",
            "Epoch 20/200\n",
            "34/34 [==============================] - 0s 2ms/step - loss: 7127.1929 - mae: 7127.1929\n",
            "Epoch 21/200\n",
            "34/34 [==============================] - 0s 2ms/step - loss: 7098.8662 - mae: 7098.8662\n",
            "Epoch 22/200\n",
            "34/34 [==============================] - 0s 2ms/step - loss: 7072.3896 - mae: 7072.3896\n",
            "Epoch 23/200\n",
            "34/34 [==============================] - 0s 2ms/step - loss: 7043.2471 - mae: 7043.2471\n",
            "Epoch 24/200\n",
            "34/34 [==============================] - 0s 2ms/step - loss: 7016.5649 - mae: 7016.5649\n",
            "Epoch 25/200\n",
            "34/34 [==============================] - 0s 2ms/step - loss: 6981.7495 - mae: 6981.7495\n",
            "Epoch 26/200\n",
            "34/34 [==============================] - 0s 2ms/step - loss: 6950.4160 - mae: 6950.4160\n",
            "Epoch 27/200\n",
            "34/34 [==============================] - 0s 2ms/step - loss: 6918.6021 - mae: 6918.6021\n",
            "Epoch 28/200\n",
            "34/34 [==============================] - 0s 2ms/step - loss: 6885.4692 - mae: 6885.4692\n",
            "Epoch 29/200\n",
            "34/34 [==============================] - 0s 2ms/step - loss: 6850.1675 - mae: 6850.1675\n",
            "Epoch 30/200\n",
            "34/34 [==============================] - 0s 2ms/step - loss: 6815.0312 - mae: 6815.0312\n",
            "Epoch 31/200\n",
            "34/34 [==============================] - 0s 2ms/step - loss: 6781.4155 - mae: 6781.4155\n",
            "Epoch 32/200\n",
            "34/34 [==============================] - 0s 2ms/step - loss: 6743.8657 - mae: 6743.8657\n",
            "Epoch 33/200\n",
            "34/34 [==============================] - 0s 2ms/step - loss: 6707.6880 - mae: 6707.6880\n",
            "Epoch 34/200\n",
            "34/34 [==============================] - 0s 2ms/step - loss: 6668.4194 - mae: 6668.4194\n",
            "Epoch 35/200\n",
            "34/34 [==============================] - 0s 2ms/step - loss: 6628.7397 - mae: 6628.7397\n",
            "Epoch 36/200\n",
            "34/34 [==============================] - 0s 2ms/step - loss: 6592.8945 - mae: 6592.8945\n",
            "Epoch 37/200\n",
            "34/34 [==============================] - 0s 2ms/step - loss: 6555.9897 - mae: 6555.9897\n",
            "Epoch 38/200\n",
            "34/34 [==============================] - 0s 2ms/step - loss: 6520.3125 - mae: 6520.3125\n",
            "Epoch 39/200\n",
            "34/34 [==============================] - 0s 2ms/step - loss: 6490.8101 - mae: 6490.8101\n",
            "Epoch 40/200\n",
            "34/34 [==============================] - 0s 2ms/step - loss: 6462.9634 - mae: 6462.9634\n",
            "Epoch 41/200\n",
            "34/34 [==============================] - 0s 2ms/step - loss: 6439.7769 - mae: 6439.7769\n",
            "Epoch 42/200\n",
            "34/34 [==============================] - 0s 2ms/step - loss: 6423.8071 - mae: 6423.8071\n",
            "Epoch 43/200\n",
            "34/34 [==============================] - 0s 2ms/step - loss: 6405.7627 - mae: 6405.7627\n",
            "Epoch 44/200\n",
            "34/34 [==============================] - 0s 2ms/step - loss: 6387.6436 - mae: 6387.6436\n",
            "Epoch 45/200\n",
            "34/34 [==============================] - 0s 2ms/step - loss: 6372.0459 - mae: 6372.0459\n",
            "Epoch 46/200\n",
            "34/34 [==============================] - 0s 2ms/step - loss: 6358.3804 - mae: 6358.3804\n",
            "Epoch 47/200\n",
            "34/34 [==============================] - 0s 2ms/step - loss: 6344.5576 - mae: 6344.5576\n",
            "Epoch 48/200\n",
            "34/34 [==============================] - 0s 2ms/step - loss: 6331.2588 - mae: 6331.2588\n",
            "Epoch 49/200\n",
            "34/34 [==============================] - 0s 2ms/step - loss: 6317.5801 - mae: 6317.5801\n",
            "Epoch 50/200\n",
            "34/34 [==============================] - 0s 2ms/step - loss: 6308.1445 - mae: 6308.1445\n",
            "Epoch 51/200\n",
            "34/34 [==============================] - 0s 2ms/step - loss: 6287.5347 - mae: 6287.5347\n",
            "Epoch 52/200\n",
            "34/34 [==============================] - 0s 2ms/step - loss: 6277.3149 - mae: 6277.3149\n",
            "Epoch 53/200\n",
            "34/34 [==============================] - 0s 2ms/step - loss: 6260.6406 - mae: 6260.6406\n",
            "Epoch 54/200\n",
            "34/34 [==============================] - 0s 2ms/step - loss: 6242.9688 - mae: 6242.9688\n",
            "Epoch 55/200\n",
            "34/34 [==============================] - 0s 2ms/step - loss: 6232.5420 - mae: 6232.5420\n",
            "Epoch 56/200\n",
            "34/34 [==============================] - 0s 2ms/step - loss: 6214.9692 - mae: 6214.9692\n",
            "Epoch 57/200\n",
            "34/34 [==============================] - 0s 2ms/step - loss: 6208.0029 - mae: 6208.0029\n",
            "Epoch 58/200\n",
            "34/34 [==============================] - 0s 2ms/step - loss: 6184.9839 - mae: 6184.9839\n",
            "Epoch 59/200\n",
            "34/34 [==============================] - 0s 2ms/step - loss: 6171.5747 - mae: 6171.5747\n",
            "Epoch 60/200\n",
            "34/34 [==============================] - 0s 2ms/step - loss: 6154.7290 - mae: 6154.7290\n",
            "Epoch 61/200\n",
            "34/34 [==============================] - 0s 2ms/step - loss: 6136.6406 - mae: 6136.6406\n",
            "Epoch 62/200\n",
            "34/34 [==============================] - 0s 2ms/step - loss: 6119.5762 - mae: 6119.5762\n",
            "Epoch 63/200\n",
            "34/34 [==============================] - 0s 2ms/step - loss: 6104.1401 - mae: 6104.1401\n",
            "Epoch 64/200\n",
            "34/34 [==============================] - 0s 2ms/step - loss: 6086.1719 - mae: 6086.1719\n",
            "Epoch 65/200\n",
            "34/34 [==============================] - 0s 2ms/step - loss: 6067.9458 - mae: 6067.9458\n",
            "Epoch 66/200\n",
            "34/34 [==============================] - 0s 2ms/step - loss: 6048.7778 - mae: 6048.7778\n",
            "Epoch 67/200\n",
            "34/34 [==============================] - 0s 2ms/step - loss: 6032.2817 - mae: 6032.2817\n",
            "Epoch 68/200\n",
            "34/34 [==============================] - 0s 2ms/step - loss: 6012.5029 - mae: 6012.5029\n",
            "Epoch 69/200\n",
            "34/34 [==============================] - 0s 2ms/step - loss: 5995.8921 - mae: 5995.8921\n",
            "Epoch 70/200\n",
            "34/34 [==============================] - 0s 2ms/step - loss: 5973.8770 - mae: 5973.8770\n",
            "Epoch 71/200\n",
            "34/34 [==============================] - 0s 2ms/step - loss: 5949.0439 - mae: 5949.0439\n",
            "Epoch 72/200\n",
            "34/34 [==============================] - 0s 2ms/step - loss: 5926.4946 - mae: 5926.4946\n",
            "Epoch 73/200\n",
            "34/34 [==============================] - 0s 2ms/step - loss: 5906.0527 - mae: 5906.0527\n",
            "Epoch 74/200\n",
            "34/34 [==============================] - 0s 2ms/step - loss: 5881.3867 - mae: 5881.3867\n",
            "Epoch 75/200\n",
            "34/34 [==============================] - 0s 2ms/step - loss: 5862.6621 - mae: 5862.6621\n",
            "Epoch 76/200\n",
            "34/34 [==============================] - 0s 2ms/step - loss: 5833.6758 - mae: 5833.6758\n",
            "Epoch 77/200\n",
            "34/34 [==============================] - 0s 2ms/step - loss: 5810.8770 - mae: 5810.8770\n",
            "Epoch 78/200\n",
            "34/34 [==============================] - 0s 2ms/step - loss: 5783.0757 - mae: 5783.0757\n",
            "Epoch 79/200\n",
            "34/34 [==============================] - 0s 2ms/step - loss: 5752.3589 - mae: 5752.3589\n",
            "Epoch 80/200\n",
            "34/34 [==============================] - 0s 2ms/step - loss: 5723.9526 - mae: 5723.9526\n",
            "Epoch 81/200\n",
            "34/34 [==============================] - 0s 2ms/step - loss: 5695.0112 - mae: 5695.0112\n",
            "Epoch 82/200\n",
            "34/34 [==============================] - 0s 2ms/step - loss: 5669.2979 - mae: 5669.2979\n",
            "Epoch 83/200\n",
            "34/34 [==============================] - 0s 2ms/step - loss: 5636.7847 - mae: 5636.7847\n",
            "Epoch 84/200\n",
            "34/34 [==============================] - 0s 2ms/step - loss: 5601.8169 - mae: 5601.8169\n",
            "Epoch 85/200\n",
            "34/34 [==============================] - 0s 2ms/step - loss: 5560.4287 - mae: 5560.4287\n",
            "Epoch 86/200\n",
            "34/34 [==============================] - 0s 2ms/step - loss: 5534.8257 - mae: 5534.8257\n",
            "Epoch 87/200\n",
            "34/34 [==============================] - 0s 2ms/step - loss: 5488.2017 - mae: 5488.2017\n",
            "Epoch 88/200\n",
            "34/34 [==============================] - 0s 2ms/step - loss: 5457.7280 - mae: 5457.7280\n",
            "Epoch 89/200\n",
            "34/34 [==============================] - 0s 2ms/step - loss: 5406.1973 - mae: 5406.1973\n",
            "Epoch 90/200\n",
            "34/34 [==============================] - 0s 2ms/step - loss: 5364.0986 - mae: 5364.0986\n",
            "Epoch 91/200\n",
            "34/34 [==============================] - 0s 2ms/step - loss: 5316.6533 - mae: 5316.6533\n",
            "Epoch 92/200\n",
            "34/34 [==============================] - 0s 2ms/step - loss: 5268.4609 - mae: 5268.4609\n",
            "Epoch 93/200\n",
            "34/34 [==============================] - 0s 2ms/step - loss: 5227.6079 - mae: 5227.6079\n",
            "Epoch 94/200\n",
            "34/34 [==============================] - 0s 2ms/step - loss: 5186.4873 - mae: 5186.4873\n",
            "Epoch 95/200\n",
            "34/34 [==============================] - 0s 2ms/step - loss: 5120.0898 - mae: 5120.0898\n",
            "Epoch 96/200\n",
            "34/34 [==============================] - 0s 2ms/step - loss: 5059.3096 - mae: 5059.3096\n",
            "Epoch 97/200\n",
            "34/34 [==============================] - 0s 2ms/step - loss: 5013.7339 - mae: 5013.7339\n",
            "Epoch 98/200\n",
            "34/34 [==============================] - 0s 2ms/step - loss: 4938.6416 - mae: 4938.6416\n",
            "Epoch 99/200\n",
            "34/34 [==============================] - 0s 2ms/step - loss: 4873.5054 - mae: 4873.5054\n",
            "Epoch 100/200\n",
            "34/34 [==============================] - 0s 2ms/step - loss: 4803.2051 - mae: 4803.2051\n",
            "Epoch 101/200\n",
            "34/34 [==============================] - 0s 2ms/step - loss: 4736.1641 - mae: 4736.1641\n",
            "Epoch 102/200\n",
            "34/34 [==============================] - 0s 2ms/step - loss: 4654.8398 - mae: 4654.8398\n",
            "Epoch 103/200\n",
            "34/34 [==============================] - 0s 2ms/step - loss: 4576.4619 - mae: 4576.4619\n",
            "Epoch 104/200\n",
            "34/34 [==============================] - 0s 2ms/step - loss: 4497.7271 - mae: 4497.7271\n",
            "Epoch 105/200\n",
            "34/34 [==============================] - 0s 2ms/step - loss: 4408.6685 - mae: 4408.6685\n",
            "Epoch 106/200\n",
            "34/34 [==============================] - 0s 2ms/step - loss: 4335.8286 - mae: 4335.8286\n",
            "Epoch 107/200\n",
            "34/34 [==============================] - 0s 2ms/step - loss: 4245.5347 - mae: 4245.5347\n",
            "Epoch 108/200\n",
            "34/34 [==============================] - 0s 2ms/step - loss: 4165.2539 - mae: 4165.2539\n",
            "Epoch 109/200\n",
            "34/34 [==============================] - 0s 2ms/step - loss: 4089.9692 - mae: 4089.9692\n",
            "Epoch 110/200\n",
            "34/34 [==============================] - 0s 2ms/step - loss: 4012.4104 - mae: 4012.4104\n",
            "Epoch 111/200\n",
            "34/34 [==============================] - 0s 2ms/step - loss: 3949.3767 - mae: 3949.3767\n",
            "Epoch 112/200\n",
            "34/34 [==============================] - 0s 2ms/step - loss: 3902.5354 - mae: 3902.5354\n",
            "Epoch 113/200\n",
            "34/34 [==============================] - 0s 2ms/step - loss: 3863.8545 - mae: 3863.8545\n",
            "Epoch 114/200\n",
            "34/34 [==============================] - 0s 2ms/step - loss: 3833.0225 - mae: 3833.0225\n",
            "Epoch 115/200\n",
            "34/34 [==============================] - 0s 2ms/step - loss: 3809.7749 - mae: 3809.7749\n",
            "Epoch 116/200\n",
            "34/34 [==============================] - 0s 2ms/step - loss: 3792.3120 - mae: 3792.3120\n",
            "Epoch 117/200\n",
            "34/34 [==============================] - 0s 2ms/step - loss: 3793.0989 - mae: 3793.0989\n",
            "Epoch 118/200\n",
            "34/34 [==============================] - 0s 2ms/step - loss: 3773.2012 - mae: 3773.2012\n",
            "Epoch 119/200\n",
            "34/34 [==============================] - 0s 2ms/step - loss: 3771.5332 - mae: 3771.5332\n",
            "Epoch 120/200\n",
            "34/34 [==============================] - 0s 2ms/step - loss: 3755.4429 - mae: 3755.4429\n",
            "Epoch 121/200\n",
            "34/34 [==============================] - 0s 2ms/step - loss: 3760.5483 - mae: 3760.5483\n",
            "Epoch 122/200\n",
            "34/34 [==============================] - 0s 2ms/step - loss: 3746.6279 - mae: 3746.6279\n",
            "Epoch 123/200\n",
            "34/34 [==============================] - 0s 2ms/step - loss: 3737.8843 - mae: 3737.8843\n",
            "Epoch 124/200\n",
            "34/34 [==============================] - 0s 2ms/step - loss: 3738.6101 - mae: 3738.6101\n",
            "Epoch 125/200\n",
            "34/34 [==============================] - 0s 2ms/step - loss: 3738.2844 - mae: 3738.2844\n",
            "Epoch 126/200\n",
            "34/34 [==============================] - 0s 2ms/step - loss: 3734.8201 - mae: 3734.8201\n",
            "Epoch 127/200\n",
            "34/34 [==============================] - 0s 2ms/step - loss: 3730.9429 - mae: 3730.9429\n",
            "Epoch 128/200\n",
            "34/34 [==============================] - 0s 2ms/step - loss: 3735.1155 - mae: 3735.1155\n",
            "Epoch 129/200\n",
            "34/34 [==============================] - 0s 2ms/step - loss: 3723.4053 - mae: 3723.4053\n",
            "Epoch 130/200\n",
            "34/34 [==============================] - 0s 2ms/step - loss: 3729.2126 - mae: 3729.2126\n",
            "Epoch 131/200\n",
            "34/34 [==============================] - 0s 2ms/step - loss: 3714.4783 - mae: 3714.4783\n",
            "Epoch 132/200\n",
            "34/34 [==============================] - 0s 2ms/step - loss: 3713.4768 - mae: 3713.4768\n",
            "Epoch 133/200\n",
            "34/34 [==============================] - 0s 2ms/step - loss: 3711.7278 - mae: 3711.7278\n",
            "Epoch 134/200\n",
            "34/34 [==============================] - 0s 2ms/step - loss: 3716.0225 - mae: 3716.0225\n",
            "Epoch 135/200\n",
            "34/34 [==============================] - 0s 2ms/step - loss: 3706.7380 - mae: 3706.7380\n",
            "Epoch 136/200\n",
            "34/34 [==============================] - 0s 2ms/step - loss: 3708.6760 - mae: 3708.6760\n",
            "Epoch 137/200\n",
            "34/34 [==============================] - 0s 2ms/step - loss: 3708.6614 - mae: 3708.6614\n",
            "Epoch 138/200\n",
            "34/34 [==============================] - 0s 2ms/step - loss: 3704.7539 - mae: 3704.7539\n",
            "Epoch 139/200\n",
            "34/34 [==============================] - 0s 2ms/step - loss: 3705.7922 - mae: 3705.7922\n",
            "Epoch 140/200\n",
            "34/34 [==============================] - 0s 2ms/step - loss: 3701.7329 - mae: 3701.7329\n",
            "Epoch 141/200\n",
            "34/34 [==============================] - 0s 2ms/step - loss: 3701.2546 - mae: 3701.2546\n",
            "Epoch 142/200\n",
            "34/34 [==============================] - 0s 2ms/step - loss: 3710.3989 - mae: 3710.3989\n",
            "Epoch 143/200\n",
            "34/34 [==============================] - 0s 2ms/step - loss: 3702.4658 - mae: 3702.4658\n",
            "Epoch 144/200\n",
            "34/34 [==============================] - 0s 2ms/step - loss: 3697.2505 - mae: 3697.2505\n",
            "Epoch 145/200\n",
            "34/34 [==============================] - 0s 2ms/step - loss: 3694.9988 - mae: 3694.9988\n",
            "Epoch 146/200\n",
            "34/34 [==============================] - 0s 2ms/step - loss: 3690.7537 - mae: 3690.7537\n",
            "Epoch 147/200\n",
            "34/34 [==============================] - 0s 2ms/step - loss: 3692.0344 - mae: 3692.0344\n",
            "Epoch 148/200\n",
            "34/34 [==============================] - 0s 2ms/step - loss: 3693.8845 - mae: 3693.8845\n",
            "Epoch 149/200\n",
            "34/34 [==============================] - 0s 2ms/step - loss: 3692.7937 - mae: 3692.7937\n",
            "Epoch 150/200\n",
            "34/34 [==============================] - 0s 2ms/step - loss: 3692.9158 - mae: 3692.9158\n",
            "Epoch 151/200\n",
            "34/34 [==============================] - 0s 2ms/step - loss: 3684.8071 - mae: 3684.8071\n",
            "Epoch 152/200\n",
            "34/34 [==============================] - 0s 2ms/step - loss: 3691.2803 - mae: 3691.2803\n",
            "Epoch 153/200\n",
            "34/34 [==============================] - 0s 2ms/step - loss: 3682.6621 - mae: 3682.6621\n",
            "Epoch 154/200\n",
            "34/34 [==============================] - 0s 2ms/step - loss: 3686.6228 - mae: 3686.6228\n",
            "Epoch 155/200\n",
            "34/34 [==============================] - 0s 2ms/step - loss: 3680.5020 - mae: 3680.5020\n",
            "Epoch 156/200\n",
            "34/34 [==============================] - 0s 2ms/step - loss: 3684.6147 - mae: 3684.6147\n",
            "Epoch 157/200\n",
            "34/34 [==============================] - 0s 2ms/step - loss: 3679.6250 - mae: 3679.6250\n",
            "Epoch 158/200\n",
            "34/34 [==============================] - 0s 2ms/step - loss: 3675.1450 - mae: 3675.1450\n",
            "Epoch 159/200\n",
            "34/34 [==============================] - 0s 2ms/step - loss: 3682.7900 - mae: 3682.7900\n",
            "Epoch 160/200\n",
            "34/34 [==============================] - 0s 2ms/step - loss: 3678.4014 - mae: 3678.4014\n",
            "Epoch 161/200\n",
            "34/34 [==============================] - 0s 2ms/step - loss: 3678.6533 - mae: 3678.6533\n",
            "Epoch 162/200\n",
            "34/34 [==============================] - 0s 2ms/step - loss: 3699.4150 - mae: 3699.4150\n",
            "Epoch 163/200\n",
            "34/34 [==============================] - 0s 2ms/step - loss: 3674.2805 - mae: 3674.2805\n",
            "Epoch 164/200\n",
            "34/34 [==============================] - 0s 2ms/step - loss: 3675.9387 - mae: 3675.9387\n",
            "Epoch 165/200\n",
            "34/34 [==============================] - 0s 2ms/step - loss: 3676.7703 - mae: 3676.7703\n",
            "Epoch 166/200\n",
            "34/34 [==============================] - 0s 2ms/step - loss: 3673.8401 - mae: 3673.8401\n",
            "Epoch 167/200\n",
            "34/34 [==============================] - 0s 2ms/step - loss: 3685.9614 - mae: 3685.9614\n",
            "Epoch 168/200\n",
            "34/34 [==============================] - 0s 2ms/step - loss: 3668.5527 - mae: 3668.5527\n",
            "Epoch 169/200\n",
            "34/34 [==============================] - 0s 2ms/step - loss: 3671.0811 - mae: 3671.0811\n",
            "Epoch 170/200\n",
            "34/34 [==============================] - 0s 2ms/step - loss: 3660.7112 - mae: 3660.7112\n",
            "Epoch 171/200\n",
            "34/34 [==============================] - 0s 2ms/step - loss: 3668.9573 - mae: 3668.9573\n",
            "Epoch 172/200\n",
            "34/34 [==============================] - 0s 2ms/step - loss: 3666.7922 - mae: 3666.7922\n",
            "Epoch 173/200\n",
            "34/34 [==============================] - 0s 2ms/step - loss: 3663.2209 - mae: 3663.2209\n",
            "Epoch 174/200\n",
            "34/34 [==============================] - 0s 2ms/step - loss: 3661.9260 - mae: 3661.9260\n",
            "Epoch 175/200\n",
            "34/34 [==============================] - 0s 2ms/step - loss: 3658.8918 - mae: 3658.8918\n",
            "Epoch 176/200\n",
            "34/34 [==============================] - 0s 2ms/step - loss: 3663.8127 - mae: 3663.8127\n",
            "Epoch 177/200\n",
            "34/34 [==============================] - 0s 2ms/step - loss: 3655.5623 - mae: 3655.5623\n",
            "Epoch 178/200\n",
            "34/34 [==============================] - 0s 2ms/step - loss: 3653.5039 - mae: 3653.5039\n",
            "Epoch 179/200\n",
            "34/34 [==============================] - 0s 2ms/step - loss: 3657.2012 - mae: 3657.2012\n",
            "Epoch 180/200\n",
            "34/34 [==============================] - 0s 2ms/step - loss: 3656.4275 - mae: 3656.4275\n",
            "Epoch 181/200\n",
            "34/34 [==============================] - 0s 2ms/step - loss: 3654.5493 - mae: 3654.5493\n",
            "Epoch 182/200\n",
            "34/34 [==============================] - 0s 2ms/step - loss: 3651.1235 - mae: 3651.1235\n",
            "Epoch 183/200\n",
            "34/34 [==============================] - 0s 2ms/step - loss: 3649.4458 - mae: 3649.4458\n",
            "Epoch 184/200\n",
            "34/34 [==============================] - 0s 2ms/step - loss: 3652.1467 - mae: 3652.1467\n",
            "Epoch 185/200\n",
            "34/34 [==============================] - 0s 2ms/step - loss: 3648.4773 - mae: 3648.4773\n",
            "Epoch 186/200\n",
            "34/34 [==============================] - 0s 2ms/step - loss: 3652.8276 - mae: 3652.8276\n",
            "Epoch 187/200\n",
            "34/34 [==============================] - 0s 2ms/step - loss: 3648.4395 - mae: 3648.4395\n",
            "Epoch 188/200\n",
            "34/34 [==============================] - 0s 2ms/step - loss: 3654.2776 - mae: 3654.2776\n",
            "Epoch 189/200\n",
            "34/34 [==============================] - 0s 2ms/step - loss: 3649.2778 - mae: 3649.2778\n",
            "Epoch 190/200\n",
            "34/34 [==============================] - 0s 2ms/step - loss: 3646.5833 - mae: 3646.5833\n",
            "Epoch 191/200\n",
            "34/34 [==============================] - 0s 2ms/step - loss: 3643.0762 - mae: 3643.0762\n",
            "Epoch 192/200\n",
            "34/34 [==============================] - 0s 2ms/step - loss: 3643.4951 - mae: 3643.4951\n",
            "Epoch 193/200\n",
            "34/34 [==============================] - 0s 2ms/step - loss: 3640.4189 - mae: 3640.4189\n",
            "Epoch 194/200\n",
            "34/34 [==============================] - 0s 2ms/step - loss: 3635.4553 - mae: 3635.4553\n",
            "Epoch 195/200\n",
            "34/34 [==============================] - 0s 2ms/step - loss: 3642.8933 - mae: 3642.8933\n",
            "Epoch 196/200\n",
            "34/34 [==============================] - 0s 2ms/step - loss: 3645.3872 - mae: 3645.3872\n",
            "Epoch 197/200\n",
            "34/34 [==============================] - 0s 2ms/step - loss: 3634.2214 - mae: 3634.2214\n",
            "Epoch 198/200\n",
            "34/34 [==============================] - 0s 2ms/step - loss: 3634.2446 - mae: 3634.2446\n",
            "Epoch 199/200\n",
            "34/34 [==============================] - 0s 2ms/step - loss: 3632.7690 - mae: 3632.7690\n",
            "Epoch 200/200\n",
            "34/34 [==============================] - 0s 2ms/step - loss: 3631.5920 - mae: 3631.5920\n"
          ]
        }
      ]
    },
    {
      "cell_type": "code",
      "source": [
        "insurance_model3.evaluate(X_test, y_test)"
      ],
      "metadata": {
        "colab": {
          "base_uri": "https://localhost:8080/"
        },
        "id": "gVNhqcZfZiMy",
        "outputId": "2166d3e9-5dcf-438d-ba2d-1f7123d11d3a"
      },
      "execution_count": 59,
      "outputs": [
        {
          "output_type": "stream",
          "name": "stdout",
          "text": [
            "9/9 [==============================] - 0s 2ms/step - loss: 3666.9766 - mae: 3666.9766\n"
          ]
        },
        {
          "output_type": "execute_result",
          "data": {
            "text/plain": [
              "[3666.9765625, 3666.9765625]"
            ]
          },
          "metadata": {},
          "execution_count": 59
        }
      ]
    },
    {
      "cell_type": "code",
      "source": [
        "# Plot history (also known as a loss curve or a training curve)\n",
        "pd.DataFrame(history.history).plot()\n",
        "plt.ylabel(\"loss\")\n",
        "plt.xlabel(\"epochs\")"
      ],
      "metadata": {
        "colab": {
          "base_uri": "https://localhost:8080/",
          "height": 297
        },
        "id": "6nCT4GMVZtL6",
        "outputId": "96edb0ab-af89-4ce3-8a2b-9156eed466c0"
      },
      "execution_count": 60,
      "outputs": [
        {
          "output_type": "execute_result",
          "data": {
            "text/plain": [
              "Text(0.5, 0, 'epochs')"
            ]
          },
          "metadata": {},
          "execution_count": 60
        },
        {
          "output_type": "display_data",
          "data": {
            "text/plain": [
              "<Figure size 432x288 with 1 Axes>"
            ],
            "image/png": "[encoded data removed]"
          },
          "metadata": {
            "needs_background": "light"
          }
        }
      ]
    },
    {
      "cell_type": "markdown",
      "source": [
        "**Question:** How long should you train for?\n",
        "It depends. Really... it depends on the problem you're working on. However, many people have asked this question before... so TensorFlow has a solution called the EarlyStopping callback which is a TensorFlow component you can add to your model to stop training when not improving a certain metric.\n"
      ],
      "metadata": {
        "id": "Zi8F_7KpaNAh"
      }
    },
    {
      "cell_type": "markdown",
      "source": [
        "## Preprocessing data (normalization and standardization)\n",
        "\n",
        "in terms of scaling values, neural networks tend to prefer normalization.\n",
        "\n",
        "If you are not sure on which to use, you could try both and see which performs better."
      ],
      "metadata": {
        "id": "ijI30EdFbT2b"
      }
    },
    {
      "cell_type": "code",
      "source": [
        "import pandas as pd\n",
        "import matplotlib.pyplot as plt\n",
        "import tensorflow as tf\n",
        "\n",
        "# Read in the insurance csv\n",
        "insurance = pd.read_csv(\"https://raw.githubusercontent.com/stedy/Machine-Learning-with-R-datasets/master/insurance.csv\")\n",
        "insurance"
      ],
      "metadata": {
        "colab": {
          "base_uri": "https://localhost:8080/",
          "height": 424
        },
        "id": "fyBtw2blrHfW",
        "outputId": "8d152785-ea7f-44e3-d413-090449982bb5"
      },
      "execution_count": 1,
      "outputs": [
        {
          "output_type": "execute_result",
          "data": {
            "text/plain": [
              "      age     sex     bmi  children smoker     region      charges\n",
              "0      19  female  27.900         0    yes  southwest  16884.92400\n",
              "1      18    male  33.770         1     no  southeast   1725.55230\n",
              "2      28    male  33.000         3     no  southeast   4449.46200\n",
              "3      33    male  22.705         0     no  northwest  21984.47061\n",
              "4      32    male  28.880         0     no  northwest   3866.85520\n",
              "...   ...     ...     ...       ...    ...        ...          ...\n",
              "1333   50    male  30.970         3     no  northwest  10600.54830\n",
              "1334   18  female  31.920         0     no  northeast   2205.98080\n",
              "1335   18  female  36.850         0     no  southeast   1629.83350\n",
              "1336   21  female  25.800         0     no  southwest   2007.94500\n",
              "1337   61  female  29.070         0    yes  northwest  29141.36030\n",
              "\n",
              "[1338 rows x 7 columns]"
            ],
            "text/html": [
              "\n",
              "  <div id=\"df-06867be5-2b7f-4648-b109-6372cb08be34\">\n",
              "    <div class=\"colab-df-container\">\n",
              "      <div>\n",
              "<style scoped>\n",
              "    .dataframe tbody tr th:only-of-type {\n",
              "        vertical-align: middle;\n",
              "    }\n",
              "\n",
              "    .dataframe tbody tr th {\n",
              "        vertical-align: top;\n",
              "    }\n",
              "\n",
              "    .dataframe thead th {\n",
              "        text-align: right;\n",
              "    }\n",
              "</style>\n",
              "<table border=\"1\" class=\"dataframe\">\n",
              "  <thead>\n",
              "    <tr style=\"text-align: right;\">\n",
              "      <th></th>\n",
              "      <th>age</th>\n",
              "      <th>sex</th>\n",
              "      <th>bmi</th>\n",
              "      <th>children</th>\n",
              "      <th>smoker</th>\n",
              "      <th>region</th>\n",
              "      <th>charges</th>\n",
              "    </tr>\n",
              "  </thead>\n",
              "  <tbody>\n",
              "    <tr>\n",
              "      <th>0</th>\n",
              "      <td>19</td>\n",
              "      <td>female</td>\n",
              "      <td>27.900</td>\n",
              "      <td>0</td>\n",
              "      <td>yes</td>\n",
              "      <td>southwest</td>\n",
              "      <td>16884.92400</td>\n",
              "    </tr>\n",
              "    <tr>\n",
              "      <th>1</th>\n",
              "      <td>18</td>\n",
              "      <td>male</td>\n",
              "      <td>33.770</td>\n",
              "      <td>1</td>\n",
              "      <td>no</td>\n",
              "      <td>southeast</td>\n",
              "      <td>1725.55230</td>\n",
              "    </tr>\n",
              "    <tr>\n",
              "      <th>2</th>\n",
              "      <td>28</td>\n",
              "      <td>male</td>\n",
              "      <td>33.000</td>\n",
              "      <td>3</td>\n",
              "      <td>no</td>\n",
              "      <td>southeast</td>\n",
              "      <td>4449.46200</td>\n",
              "    </tr>\n",
              "    <tr>\n",
              "      <th>3</th>\n",
              "      <td>33</td>\n",
              "      <td>male</td>\n",
              "      <td>22.705</td>\n",
              "      <td>0</td>\n",
              "      <td>no</td>\n",
              "      <td>northwest</td>\n",
              "      <td>21984.47061</td>\n",
              "    </tr>\n",
              "    <tr>\n",
              "      <th>4</th>\n",
              "      <td>32</td>\n",
              "      <td>male</td>\n",
              "      <td>28.880</td>\n",
              "      <td>0</td>\n",
              "      <td>no</td>\n",
              "      <td>northwest</td>\n",
              "      <td>3866.85520</td>\n",
              "    </tr>\n",
              "    <tr>\n",
              "      <th>...</th>\n",
              "      <td>...</td>\n",
              "      <td>...</td>\n",
              "      <td>...</td>\n",
              "      <td>...</td>\n",
              "      <td>...</td>\n",
              "      <td>...</td>\n",
              "      <td>...</td>\n",
              "    </tr>\n",
              "    <tr>\n",
              "      <th>1333</th>\n",
              "      <td>50</td>\n",
              "      <td>male</td>\n",
              "      <td>30.970</td>\n",
              "      <td>3</td>\n",
              "      <td>no</td>\n",
              "      <td>northwest</td>\n",
              "      <td>10600.54830</td>\n",
              "    </tr>\n",
              "    <tr>\n",
              "      <th>1334</th>\n",
              "      <td>18</td>\n",
              "      <td>female</td>\n",
              "      <td>31.920</td>\n",
              "      <td>0</td>\n",
              "      <td>no</td>\n",
              "      <td>northeast</td>\n",
              "      <td>2205.98080</td>\n",
              "    </tr>\n",
              "    <tr>\n",
              "      <th>1335</th>\n",
              "      <td>18</td>\n",
              "      <td>female</td>\n",
              "      <td>36.850</td>\n",
              "      <td>0</td>\n",
              "      <td>no</td>\n",
              "      <td>southeast</td>\n",
              "      <td>1629.83350</td>\n",
              "    </tr>\n",
              "    <tr>\n",
              "      <th>1336</th>\n",
              "      <td>21</td>\n",
              "      <td>female</td>\n",
              "      <td>25.800</td>\n",
              "      <td>0</td>\n",
              "      <td>no</td>\n",
              "      <td>southwest</td>\n",
              "      <td>2007.94500</td>\n",
              "    </tr>\n",
              "    <tr>\n",
              "      <th>1337</th>\n",
              "      <td>61</td>\n",
              "      <td>female</td>\n",
              "      <td>29.070</td>\n",
              "      <td>0</td>\n",
              "      <td>yes</td>\n",
              "      <td>northwest</td>\n",
              "      <td>29141.36030</td>\n",
              "    </tr>\n",
              "  </tbody>\n",
              "</table>\n",
              "<p>1338 rows × 7 columns</p>\n",
              "</div>\n",
              "      <button class=\"colab-df-convert\" onclick=\"convertToInteractive('df-06867be5-2b7f-4648-b109-6372cb08be34')\"\n",
              "              title=\"Convert this dataframe to an interactive table.\"\n",
              "              style=\"display:none;\">\n",
              "        \n",
              "  <svg xmlns=\"http://www.w3.org/2000/svg\" height=\"24px\"viewBox=\"0 0 24 24\"\n",
              "       width=\"24px\">\n",
              "    <path d=\"M0 0h24v24H0V0z\" fill=\"none\"/>\n",
              "    <path d=\"M18.56 5.44l.94 2.06.94-2.06 2.06-.94-2.06-.94-.94-2.06-.94 2.06-2.06.94zm-11 1L8.5 8.5l.94-2.06 2.06-.94-2.06-.94L8.5 2.5l-.94 2.06-2.06.94zm10 10l.94 2.06.94-2.06 2.06-.94-2.06-.94-.94-2.06-.94 2.06-2.06.94z\"/><path d=\"M17.41 7.96l-1.37-1.37c-.4-.4-.92-.59-1.43-.59-.52 0-1.04.2-1.43.59L10.3 9.45l-7.72 7.72c-.78.78-.78 2.05 0 2.83L4 21.41c.39.39.9.59 1.41.59.51 0 1.02-.2 1.41-.59l7.78-7.78 2.81-2.81c.8-.78.8-2.07 0-2.86zM5.41 20L4 18.59l7.72-7.72 1.47 1.35L5.41 20z\"/>\n",
              "  </svg>\n",
              "      </button>\n",
              "      \n",
              "  <style>\n",
              "    .colab-df-container {\n",
              "      display:flex;\n",
              "      flex-wrap:wrap;\n",
              "      gap: 12px;\n",
              "    }\n",
              "\n",
              "    .colab-df-convert {\n",
              "      background-color: #E8F0FE;\n",
              "      border: none;\n",
              "      border-radius: 50%;\n",
              "      cursor: pointer;\n",
              "      display: none;\n",
              "      fill: #1967D2;\n",
              "      height: 32px;\n",
              "      padding: 0 0 0 0;\n",
              "      width: 32px;\n",
              "    }\n",
              "\n",
              "    .colab-df-convert:hover {\n",
              "      background-color: #E2EBFA;\n",
              "      box-shadow: 0px 1px 2px rgba(60, 64, 67, 0.3), 0px 1px 3px 1px rgba(60, 64, 67, 0.15);\n",
              "      fill: #174EA6;\n",
              "    }\n",
              "\n",
              "    [theme=dark] .colab-df-convert {\n",
              "      background-color: #3B4455;\n",
              "      fill: #D2E3FC;\n",
              "    }\n",
              "\n",
              "    [theme=dark] .colab-df-convert:hover {\n",
              "      background-color: #434B5C;\n",
              "      box-shadow: 0px 1px 3px 1px rgba(0, 0, 0, 0.15);\n",
              "      filter: drop-shadow(0px 1px 2px rgba(0, 0, 0, 0.3));\n",
              "      fill: #FFFFFF;\n",
              "    }\n",
              "  </style>\n",
              "\n",
              "      <script>\n",
              "        const buttonEl =\n",
              "          document.querySelector('#df-06867be5-2b7f-4648-b109-6372cb08be34 button.colab-df-convert');\n",
              "        buttonEl.style.display =\n",
              "          google.colab.kernel.accessAllowed ? 'block' : 'none';\n",
              "\n",
              "        async function convertToInteractive(key) {\n",
              "          const element = document.querySelector('#df-06867be5-2b7f-4648-b109-6372cb08be34');\n",
              "          const dataTable =\n",
              "            await google.colab.kernel.invokeFunction('convertToInteractive',\n",
              "                                                     [key], {});\n",
              "          if (!dataTable) return;\n",
              "\n",
              "          const docLinkHtml = 'Like what you see? Visit the ' +\n",
              "            '<a target=\"_blank\" href=https://colab.research.google.com/notebooks/data_table.ipynb>data table notebook</a>'\n",
              "            + ' to learn more about interactive tables.';\n",
              "          element.innerHTML = '';\n",
              "          dataTable['output_type'] = 'display_data';\n",
              "          await google.colab.output.renderOutput(dataTable, element);\n",
              "          const docLink = document.createElement('div');\n",
              "          docLink.innerHTML = docLinkHtml;\n",
              "          element.appendChild(docLink);\n",
              "        }\n",
              "      </script>\n",
              "    </div>\n",
              "  </div>\n",
              "  "
            ]
          },
          "metadata": {},
          "execution_count": 1
        }
      ]
    },
    {
      "cell_type": "code",
      "source": [
        "X[\"age\"].plot(kind=\"hist\")"
      ],
      "metadata": {
        "colab": {
          "base_uri": "https://localhost:8080/",
          "height": 283
        },
        "id": "C-43MeRZrzKj",
        "outputId": "f93bb4ab-1c56-403d-fbc5-44413158bd1c"
      },
      "execution_count": 63,
      "outputs": [
        {
          "output_type": "execute_result",
          "data": {
            "text/plain": [
              "<matplotlib.axes._subplots.AxesSubplot at 0x7fa9ce7e1410>"
            ]
          },
          "metadata": {},
          "execution_count": 63
        },
        {
          "output_type": "display_data",
          "data": {
            "text/plain": [
              "<Figure size 432x288 with 1 Axes>"
            ],
            "image/png": "[encoded data removed]"
          },
          "metadata": {
            "needs_background": "light"
          }
        }
      ]
    },
    {
      "cell_type": "code",
      "source": [
        "X[\"bmi\"].plot(kind=\"hist\")"
      ],
      "metadata": {
        "colab": {
          "base_uri": "https://localhost:8080/",
          "height": 283
        },
        "id": "ujmS0ANpr4rn",
        "outputId": "f5a0357a-3e7d-47ed-f530-30bb55c619d9"
      },
      "execution_count": 64,
      "outputs": [
        {
          "output_type": "execute_result",
          "data": {
            "text/plain": [
              "<matplotlib.axes._subplots.AxesSubplot at 0x7fa9ce6ea650>"
            ]
          },
          "metadata": {},
          "execution_count": 64
        },
        {
          "output_type": "display_data",
          "data": {
            "text/plain": [
              "<Figure size 432x288 with 1 Axes>"
            ],
            "image/png": "[encoded data removed]"
          },
          "metadata": {
            "needs_background": "light"
          }
        }
      ]
    },
    {
      "cell_type": "code",
      "source": [
        "X[\"children\"].value_counts()"
      ],
      "metadata": {
        "colab": {
          "base_uri": "https://localhost:8080/"
        },
        "id": "V9k6O0z7sFTo",
        "outputId": "359a45fc-e072-4dab-f27d-43727a759320"
      },
      "execution_count": 65,
      "outputs": [
        {
          "output_type": "execute_result",
          "data": {
            "text/plain": [
              "0    574\n",
              "1    324\n",
              "2    240\n",
              "3    157\n",
              "4     25\n",
              "5     18\n",
              "Name: children, dtype: int64"
            ]
          },
          "metadata": {},
          "execution_count": 65
        }
      ]
    },
    {
      "cell_type": "markdown",
      "source": [
        "To prepare our data, we can borrow a few classes from Scikit-learn"
      ],
      "metadata": {
        "id": "Z8Fr1aPlsKPY"
      }
    },
    {
      "cell_type": "code",
      "source": [
        "from sklearn.compose import make_column_transformer\n",
        "from sklearn.preprocessing import MinMaxScaler, OneHotEncoder\n",
        "from sklearn.model_selection import train_test_split\n",
        "\n",
        "# Create a column transformner\n",
        "ct = make_column_transformer(\n",
        "    (MinMaxScaler(),[\"age\",\"bmi\",\"children\"]), # turn all vals in these columns to between 0-1\n",
        "    (OneHotEncoder(handle_unknown=\"ignore\"), [\"sex\", \"smoker\",\"region\"])\n",
        ")\n",
        "\n",
        "# Create X & y\n",
        "X = insurance.drop(\"charges\", axis=1)\n",
        "y = insurance[\"charges\"]\n",
        "\n",
        "# Build our train and test sets\n",
        "X_train, X_test, y_train, y_test = train_test_split(X, y, test_size=0.2, random_state=24)\n",
        "\n",
        "# Fit the column transformer to our training data\n",
        "ct.fit(X_train)\n",
        "\n",
        "# Transform training and test data with normalization (MinMaxScaler) and OneHotEncoder\n",
        "X_train_normal = ct.transform(X_train)\n",
        "X_test_normal = ct.transform(X_test)"
      ],
      "metadata": {
        "id": "QqE7KpjWt3qC"
      },
      "execution_count": 2,
      "outputs": []
    },
    {
      "cell_type": "code",
      "source": [
        "# What does our data look like now?\n",
        "X_train_normal"
      ],
      "metadata": {
        "colab": {
          "base_uri": "https://localhost:8080/"
        },
        "id": "kJ1sSzsLwf40",
        "outputId": "8d212598-0d0b-4304-e942-4427376b448a"
      },
      "execution_count": 3,
      "outputs": [
        {
          "output_type": "execute_result",
          "data": {
            "text/plain": [
              "array([[0.76086957, 0.5445112 , 0.4       , ..., 0.        , 0.        ,\n",
              "        1.        ],\n",
              "       [0.13043478, 0.25423266, 0.        , ..., 0.        , 0.        ,\n",
              "        0.        ],\n",
              "       [0.47826087, 0.45917531, 0.2       , ..., 0.        , 0.        ,\n",
              "        0.        ],\n",
              "       ...,\n",
              "       [0.15217391, 0.26706718, 0.        , ..., 0.        , 1.        ,\n",
              "        0.        ],\n",
              "       [0.02173913, 0.17900055, 0.        , ..., 1.        , 0.        ,\n",
              "        0.        ],\n",
              "       [1.        , 0.63353359, 0.2       , ..., 0.        , 1.        ,\n",
              "        0.        ]])"
            ]
          },
          "metadata": {},
          "execution_count": 3
        }
      ]
    },
    {
      "cell_type": "code",
      "source": [
        "X_train.shape, X_train_normal.shape"
      ],
      "metadata": {
        "colab": {
          "base_uri": "https://localhost:8080/"
        },
        "id": "VIZI0CVkwoTl",
        "outputId": "2a01692a-a86f-4948-8377-c42ca1672839"
      },
      "execution_count": 4,
      "outputs": [
        {
          "output_type": "execute_result",
          "data": {
            "text/plain": [
              "((1070, 6), (1070, 11))"
            ]
          },
          "metadata": {},
          "execution_count": 4
        }
      ]
    },
    {
      "cell_type": "markdown",
      "source": [
        "Beautiful! Our data has been normalized and one hot encoded.\n",
        "Now let's build a neural network model."
      ],
      "metadata": {
        "id": "JhWYq96_xj6v"
      }
    },
    {
      "cell_type": "code",
      "source": [
        "# Build a neural network model to fit on our normalized data\n",
        "tf.random.set_seed(24)\n",
        "\n",
        "#1. Create the model\n",
        "insurance_model_normal = tf.keras.Sequential([\n",
        "  tf.keras.layers.Dense(100),\n",
        "  tf.keras.layers.Dense(10),\n",
        "  tf.keras.layers.Dense(1)                                              \n",
        "])\n",
        "\n",
        "#2. Compile the model\n",
        "insurance_model_normal.compile(loss=tf.keras.losses.mae,\n",
        "                               optimizer=tf.keras.optimizers.Adam(),\n",
        "                               metrics=[\"mae\"])\n",
        "\n",
        "#3. Fit the model\n",
        "insurance_model_normal.fit(X_train_normal, y_train, epochs=100)"
      ],
      "metadata": {
        "colab": {
          "base_uri": "https://localhost:8080/"
        },
        "id": "KKGi8Wmaxzlk",
        "outputId": "0ff86b68-daf3-499f-ebaa-ac44363853ab"
      },
      "execution_count": 5,
      "outputs": [
        {
          "output_type": "stream",
          "name": "stdout",
          "text": [
            "Epoch 1/100\n",
            "34/34 [==============================] - 1s 2ms/step - loss: 13350.1602 - mae: 13350.1602\n",
            "Epoch 2/100\n",
            "34/34 [==============================] - 0s 2ms/step - loss: 13341.3906 - mae: 13341.3906\n",
            "Epoch 3/100\n",
            "34/34 [==============================] - 0s 2ms/step - loss: 13319.6855 - mae: 13319.6855\n",
            "Epoch 4/100\n",
            "34/34 [==============================] - 0s 2ms/step - loss: 13274.3506 - mae: 13274.3506\n",
            "Epoch 5/100\n",
            "34/34 [==============================] - 0s 2ms/step - loss: 13194.2588 - mae: 13194.2588\n",
            "Epoch 6/100\n",
            "34/34 [==============================] - 0s 2ms/step - loss: 13068.0547 - mae: 13068.0547\n",
            "Epoch 7/100\n",
            "34/34 [==============================] - 0s 2ms/step - loss: 12885.3125 - mae: 12885.3125\n",
            "Epoch 8/100\n",
            "34/34 [==============================] - 0s 2ms/step - loss: 12635.7334 - mae: 12635.7334\n",
            "Epoch 9/100\n",
            "34/34 [==============================] - 0s 2ms/step - loss: 12309.5996 - mae: 12309.5996\n",
            "Epoch 10/100\n",
            "34/34 [==============================] - 0s 2ms/step - loss: 11899.5879 - mae: 11899.5879\n",
            "Epoch 11/100\n",
            "34/34 [==============================] - 0s 2ms/step - loss: 11416.0537 - mae: 11416.0537\n",
            "Epoch 12/100\n",
            "34/34 [==============================] - 0s 2ms/step - loss: 10905.7705 - mae: 10905.7705\n",
            "Epoch 13/100\n",
            "34/34 [==============================] - 0s 2ms/step - loss: 10404.1133 - mae: 10404.1133\n",
            "Epoch 14/100\n",
            "34/34 [==============================] - 0s 2ms/step - loss: 9916.4961 - mae: 9916.4961\n",
            "Epoch 15/100\n",
            "34/34 [==============================] - 0s 2ms/step - loss: 9460.1055 - mae: 9460.1055\n",
            "Epoch 16/100\n",
            "34/34 [==============================] - 0s 2ms/step - loss: 9060.7588 - mae: 9060.7588\n",
            "Epoch 17/100\n",
            "34/34 [==============================] - 0s 2ms/step - loss: 8714.9893 - mae: 8714.9893\n",
            "Epoch 18/100\n",
            "34/34 [==============================] - 0s 2ms/step - loss: 8448.3857 - mae: 8448.3857\n",
            "Epoch 19/100\n",
            "34/34 [==============================] - 0s 2ms/step - loss: 8249.8496 - mae: 8249.8496\n",
            "Epoch 20/100\n",
            "34/34 [==============================] - 0s 2ms/step - loss: 8103.1685 - mae: 8103.1685\n",
            "Epoch 21/100\n",
            "34/34 [==============================] - 0s 2ms/step - loss: 7994.3140 - mae: 7994.3140\n",
            "Epoch 22/100\n",
            "34/34 [==============================] - 0s 2ms/step - loss: 7915.7690 - mae: 7915.7690\n",
            "Epoch 23/100\n",
            "34/34 [==============================] - 0s 2ms/step - loss: 7848.9580 - mae: 7848.9580\n",
            "Epoch 24/100\n",
            "34/34 [==============================] - 0s 2ms/step - loss: 7799.9072 - mae: 7799.9072\n",
            "Epoch 25/100\n",
            "34/34 [==============================] - 0s 2ms/step - loss: 7748.1816 - mae: 7748.1816\n",
            "Epoch 26/100\n",
            "34/34 [==============================] - 0s 2ms/step - loss: 7702.9902 - mae: 7702.9902\n",
            "Epoch 27/100\n",
            "34/34 [==============================] - 0s 2ms/step - loss: 7660.5503 - mae: 7660.5503\n",
            "Epoch 28/100\n",
            "34/34 [==============================] - 0s 2ms/step - loss: 7612.2705 - mae: 7612.2705\n",
            "Epoch 29/100\n",
            "34/34 [==============================] - 0s 2ms/step - loss: 7567.1670 - mae: 7567.1670\n",
            "Epoch 30/100\n",
            "34/34 [==============================] - 0s 2ms/step - loss: 7521.2817 - mae: 7521.2817\n",
            "Epoch 31/100\n",
            "34/34 [==============================] - 0s 2ms/step - loss: 7474.6206 - mae: 7474.6206\n",
            "Epoch 32/100\n",
            "34/34 [==============================] - 0s 2ms/step - loss: 7426.8687 - mae: 7426.8687\n",
            "Epoch 33/100\n",
            "34/34 [==============================] - 0s 2ms/step - loss: 7377.7231 - mae: 7377.7231\n",
            "Epoch 34/100\n",
            "34/34 [==============================] - 0s 2ms/step - loss: 7327.5562 - mae: 7327.5562\n",
            "Epoch 35/100\n",
            "34/34 [==============================] - 0s 2ms/step - loss: 7275.9585 - mae: 7275.9585\n",
            "Epoch 36/100\n",
            "34/34 [==============================] - 0s 2ms/step - loss: 7223.9175 - mae: 7223.9175\n",
            "Epoch 37/100\n",
            "34/34 [==============================] - 0s 2ms/step - loss: 7169.7153 - mae: 7169.7153\n",
            "Epoch 38/100\n",
            "34/34 [==============================] - 0s 2ms/step - loss: 7112.8457 - mae: 7112.8457\n",
            "Epoch 39/100\n",
            "34/34 [==============================] - 0s 2ms/step - loss: 7055.1938 - mae: 7055.1938\n",
            "Epoch 40/100\n",
            "34/34 [==============================] - 0s 2ms/step - loss: 6995.8389 - mae: 6995.8389\n",
            "Epoch 41/100\n",
            "34/34 [==============================] - 0s 2ms/step - loss: 6932.9707 - mae: 6932.9707\n",
            "Epoch 42/100\n",
            "34/34 [==============================] - 0s 2ms/step - loss: 6868.6143 - mae: 6868.6143\n",
            "Epoch 43/100\n",
            "34/34 [==============================] - 0s 2ms/step - loss: 6801.1641 - mae: 6801.1641\n",
            "Epoch 44/100\n",
            "34/34 [==============================] - 0s 2ms/step - loss: 6730.4336 - mae: 6730.4336\n",
            "Epoch 45/100\n",
            "34/34 [==============================] - 0s 2ms/step - loss: 6657.7578 - mae: 6657.7578\n",
            "Epoch 46/100\n",
            "34/34 [==============================] - 0s 2ms/step - loss: 6580.3984 - mae: 6580.3984\n",
            "Epoch 47/100\n",
            "34/34 [==============================] - 0s 2ms/step - loss: 6500.4111 - mae: 6500.4111\n",
            "Epoch 48/100\n",
            "34/34 [==============================] - 0s 2ms/step - loss: 6416.4082 - mae: 6416.4082\n",
            "Epoch 49/100\n",
            "34/34 [==============================] - 0s 2ms/step - loss: 6329.1382 - mae: 6329.1382\n",
            "Epoch 50/100\n",
            "34/34 [==============================] - 0s 2ms/step - loss: 6237.0664 - mae: 6237.0664\n",
            "Epoch 51/100\n",
            "34/34 [==============================] - 0s 2ms/step - loss: 6139.6890 - mae: 6139.6890\n",
            "Epoch 52/100\n",
            "34/34 [==============================] - 0s 2ms/step - loss: 6039.3467 - mae: 6039.3467\n",
            "Epoch 53/100\n",
            "34/34 [==============================] - 0s 2ms/step - loss: 5930.5659 - mae: 5930.5659\n",
            "Epoch 54/100\n",
            "34/34 [==============================] - 0s 2ms/step - loss: 5819.8320 - mae: 5819.8320\n",
            "Epoch 55/100\n",
            "34/34 [==============================] - 0s 2ms/step - loss: 5702.5884 - mae: 5702.5884\n",
            "Epoch 56/100\n",
            "34/34 [==============================] - 0s 2ms/step - loss: 5579.0776 - mae: 5579.0776\n",
            "Epoch 57/100\n",
            "34/34 [==============================] - 0s 2ms/step - loss: 5453.9092 - mae: 5453.9092\n",
            "Epoch 58/100\n",
            "34/34 [==============================] - 0s 2ms/step - loss: 5321.6748 - mae: 5321.6748\n",
            "Epoch 59/100\n",
            "34/34 [==============================] - 0s 2ms/step - loss: 5185.8535 - mae: 5185.8535\n",
            "Epoch 60/100\n",
            "34/34 [==============================] - 0s 2ms/step - loss: 5045.9780 - mae: 5045.9780\n",
            "Epoch 61/100\n",
            "34/34 [==============================] - 0s 2ms/step - loss: 4902.1353 - mae: 4902.1353\n",
            "Epoch 62/100\n",
            "34/34 [==============================] - 0s 2ms/step - loss: 4762.7397 - mae: 4762.7397\n",
            "Epoch 63/100\n",
            "34/34 [==============================] - 0s 2ms/step - loss: 4624.5898 - mae: 4624.5898\n",
            "Epoch 64/100\n",
            "34/34 [==============================] - 0s 2ms/step - loss: 4489.3159 - mae: 4489.3159\n",
            "Epoch 65/100\n",
            "34/34 [==============================] - 0s 2ms/step - loss: 4368.9863 - mae: 4368.9863\n",
            "Epoch 66/100\n",
            "34/34 [==============================] - 0s 2ms/step - loss: 4253.0654 - mae: 4253.0654\n",
            "Epoch 67/100\n",
            "34/34 [==============================] - 0s 2ms/step - loss: 4146.9395 - mae: 4146.9395\n",
            "Epoch 68/100\n",
            "34/34 [==============================] - 0s 2ms/step - loss: 4053.5798 - mae: 4053.5798\n",
            "Epoch 69/100\n",
            "34/34 [==============================] - 0s 2ms/step - loss: 3969.3630 - mae: 3969.3630\n",
            "Epoch 70/100\n",
            "34/34 [==============================] - 0s 2ms/step - loss: 3895.9719 - mae: 3895.9719\n",
            "Epoch 71/100\n",
            "34/34 [==============================] - 0s 2ms/step - loss: 3830.1394 - mae: 3830.1394\n",
            "Epoch 72/100\n",
            "34/34 [==============================] - 0s 2ms/step - loss: 3776.5459 - mae: 3776.5459\n",
            "Epoch 73/100\n",
            "34/34 [==============================] - 0s 2ms/step - loss: 3736.1013 - mae: 3736.1013\n",
            "Epoch 74/100\n",
            "34/34 [==============================] - 0s 2ms/step - loss: 3702.4199 - mae: 3702.4199\n",
            "Epoch 75/100\n",
            "34/34 [==============================] - 0s 2ms/step - loss: 3678.3340 - mae: 3678.3340\n",
            "Epoch 76/100\n",
            "34/34 [==============================] - 0s 2ms/step - loss: 3663.1960 - mae: 3663.1960\n",
            "Epoch 77/100\n",
            "34/34 [==============================] - 0s 2ms/step - loss: 3653.8730 - mae: 3653.8730\n",
            "Epoch 78/100\n",
            "34/34 [==============================] - 0s 2ms/step - loss: 3643.8481 - mae: 3643.8481\n",
            "Epoch 79/100\n",
            "34/34 [==============================] - 0s 2ms/step - loss: 3638.5825 - mae: 3638.5825\n",
            "Epoch 80/100\n",
            "34/34 [==============================] - 0s 2ms/step - loss: 3634.8640 - mae: 3634.8640\n",
            "Epoch 81/100\n",
            "34/34 [==============================] - 0s 2ms/step - loss: 3630.5073 - mae: 3630.5073\n",
            "Epoch 82/100\n",
            "34/34 [==============================] - 0s 2ms/step - loss: 3628.6731 - mae: 3628.6731\n",
            "Epoch 83/100\n",
            "34/34 [==============================] - 0s 2ms/step - loss: 3627.8743 - mae: 3627.8743\n",
            "Epoch 84/100\n",
            "34/34 [==============================] - 0s 2ms/step - loss: 3627.4326 - mae: 3627.4326\n",
            "Epoch 85/100\n",
            "34/34 [==============================] - 0s 2ms/step - loss: 3624.3972 - mae: 3624.3972\n",
            "Epoch 86/100\n",
            "34/34 [==============================] - 0s 2ms/step - loss: 3622.2720 - mae: 3622.2720\n",
            "Epoch 87/100\n",
            "34/34 [==============================] - 0s 2ms/step - loss: 3623.4138 - mae: 3623.4138\n",
            "Epoch 88/100\n",
            "34/34 [==============================] - 0s 2ms/step - loss: 3622.6995 - mae: 3622.6995\n",
            "Epoch 89/100\n",
            "34/34 [==============================] - 0s 2ms/step - loss: 3617.9949 - mae: 3617.9949\n",
            "Epoch 90/100\n",
            "34/34 [==============================] - 0s 2ms/step - loss: 3617.0723 - mae: 3617.0723\n",
            "Epoch 91/100\n",
            "34/34 [==============================] - 0s 2ms/step - loss: 3617.0076 - mae: 3617.0076\n",
            "Epoch 92/100\n",
            "34/34 [==============================] - 0s 2ms/step - loss: 3615.6506 - mae: 3615.6506\n",
            "Epoch 93/100\n",
            "34/34 [==============================] - 0s 2ms/step - loss: 3615.7268 - mae: 3615.7268\n",
            "Epoch 94/100\n",
            "34/34 [==============================] - 0s 2ms/step - loss: 3613.1985 - mae: 3613.1985\n",
            "Epoch 95/100\n",
            "34/34 [==============================] - 0s 2ms/step - loss: 3612.2771 - mae: 3612.2771\n",
            "Epoch 96/100\n",
            "34/34 [==============================] - 0s 2ms/step - loss: 3610.9548 - mae: 3610.9548\n",
            "Epoch 97/100\n",
            "34/34 [==============================] - 0s 2ms/step - loss: 3610.5764 - mae: 3610.5764\n",
            "Epoch 98/100\n",
            "34/34 [==============================] - 0s 2ms/step - loss: 3609.4919 - mae: 3609.4919\n",
            "Epoch 99/100\n",
            "34/34 [==============================] - 0s 2ms/step - loss: 3607.9382 - mae: 3607.9382\n",
            "Epoch 100/100\n",
            "34/34 [==============================] - 0s 2ms/step - loss: 3605.7180 - mae: 3605.7180\n"
          ]
        },
        {
          "output_type": "execute_result",
          "data": {
            "text/plain": [
              "<keras.callbacks.History at 0x7fbde8eccd50>"
            ]
          },
          "metadata": {},
          "execution_count": 5
        }
      ]
    },
    {
      "cell_type": "code",
      "source": [
        "# Evaluate our insurance model trained on normalized data\n",
        "insurance_model_normal.evaluate(X_test_normal, y_test)"
      ],
      "metadata": {
        "colab": {
          "base_uri": "https://localhost:8080/"
        },
        "id": "T6YludrDyvX0",
        "outputId": "a6bf18eb-c974-4c9c-d7e0-b243046f2afb"
      },
      "execution_count": 6,
      "outputs": [
        {
          "output_type": "stream",
          "name": "stdout",
          "text": [
            "9/9 [==============================] - 0s 2ms/step - loss: 3606.5161 - mae: 3606.5161\n"
          ]
        },
        {
          "output_type": "execute_result",
          "data": {
            "text/plain": [
              "[3606.51611328125, 3606.51611328125]"
            ]
          },
          "metadata": {},
          "execution_count": 6
        }
      ]
    },
    {
      "cell_type": "code",
      "source": [
        "# Insurance model 2 results\n",
        "# loss: 5021.5278 - mae: 5021.5278"
      ],
      "metadata": {
        "id": "hcdt6BIkzs64"
      },
      "execution_count": 7,
      "outputs": []
    },
    {
      "cell_type": "code",
      "source": [
        "# Excercise\n",
        "# Build a 4 Dense layers network\n",
        "tf.random.set_seed(24)\n",
        "\n",
        "#1. Create the model\n",
        "insurance_model4 = tf.keras.Sequential([\n",
        "  tf.keras.layers.Dense(100),\n",
        "  tf.keras.layers.Dense(50),\n",
        "  tf.keras.layers.Dense(10),\n",
        "  tf.keras.layers.Dense(1)                                        \n",
        "])\n",
        "\n",
        "#2. Compile the model\n",
        "insurance_model4.compile(loss=tf.keras.losses.mae,\n",
        "                         optimizer=tf.keras.optimizers.Adam(),\n",
        "                         metrics=[\"mae\"])\n",
        "\n",
        "#3. Fit the model\n",
        "insurance_model4.fit(X_train_normal, y_train, epochs=100)"
      ],
      "metadata": {
        "colab": {
          "base_uri": "https://localhost:8080/"
        },
        "id": "cAVMhf8FbJJg",
        "outputId": "3c1b65a7-3ee5-443d-d4cc-fba077811de9"
      },
      "execution_count": 8,
      "outputs": [
        {
          "output_type": "stream",
          "name": "stdout",
          "text": [
            "Epoch 1/100\n",
            "34/34 [==============================] - 1s 6ms/step - loss: 13345.8164 - mae: 13345.8164\n",
            "Epoch 2/100\n",
            "34/34 [==============================] - 0s 4ms/step - loss: 13288.7969 - mae: 13288.7969\n",
            "Epoch 3/100\n",
            "34/34 [==============================] - 0s 4ms/step - loss: 13005.9463 - mae: 13005.9463\n",
            "Epoch 4/100\n",
            "34/34 [==============================] - 0s 4ms/step - loss: 12100.8613 - mae: 12100.8613\n",
            "Epoch 5/100\n",
            "34/34 [==============================] - 0s 5ms/step - loss: 10327.3457 - mae: 10327.3457\n",
            "Epoch 6/100\n",
            "34/34 [==============================] - 0s 4ms/step - loss: 8567.2070 - mae: 8567.2070\n",
            "Epoch 7/100\n",
            "34/34 [==============================] - 0s 4ms/step - loss: 7970.7983 - mae: 7970.7983\n",
            "Epoch 8/100\n",
            "34/34 [==============================] - 0s 4ms/step - loss: 7797.3262 - mae: 7797.3262\n",
            "Epoch 9/100\n",
            "34/34 [==============================] - 0s 5ms/step - loss: 7646.1074 - mae: 7646.1074\n",
            "Epoch 10/100\n",
            "34/34 [==============================] - 0s 4ms/step - loss: 7488.2822 - mae: 7488.2822\n",
            "Epoch 11/100\n",
            "34/34 [==============================] - 0s 4ms/step - loss: 7318.9717 - mae: 7318.9717\n",
            "Epoch 12/100\n",
            "34/34 [==============================] - 0s 6ms/step - loss: 7130.9834 - mae: 7130.9834\n",
            "Epoch 13/100\n",
            "34/34 [==============================] - 0s 4ms/step - loss: 6926.0762 - mae: 6926.0762\n",
            "Epoch 14/100\n",
            "34/34 [==============================] - 0s 5ms/step - loss: 6679.6211 - mae: 6679.6211\n",
            "Epoch 15/100\n",
            "34/34 [==============================] - 0s 4ms/step - loss: 6396.1455 - mae: 6396.1455\n",
            "Epoch 16/100\n",
            "34/34 [==============================] - 0s 4ms/step - loss: 6051.2114 - mae: 6051.2114\n",
            "Epoch 17/100\n",
            "34/34 [==============================] - 0s 4ms/step - loss: 5627.0894 - mae: 5627.0894\n",
            "Epoch 18/100\n",
            "34/34 [==============================] - 0s 5ms/step - loss: 5119.7744 - mae: 5119.7744\n",
            "Epoch 19/100\n",
            "34/34 [==============================] - 0s 4ms/step - loss: 4553.9521 - mae: 4553.9521\n",
            "Epoch 20/100\n",
            "34/34 [==============================] - 0s 4ms/step - loss: 4071.5542 - mae: 4071.5542\n",
            "Epoch 21/100\n",
            "34/34 [==============================] - 0s 4ms/step - loss: 3758.4075 - mae: 3758.4075\n",
            "Epoch 22/100\n",
            "34/34 [==============================] - 0s 4ms/step - loss: 3653.5408 - mae: 3653.5408\n",
            "Epoch 23/100\n",
            "34/34 [==============================] - 0s 3ms/step - loss: 3634.0342 - mae: 3634.0342\n",
            "Epoch 24/100\n",
            "34/34 [==============================] - 0s 3ms/step - loss: 3626.4370 - mae: 3626.4370\n",
            "Epoch 25/100\n",
            "34/34 [==============================] - 0s 4ms/step - loss: 3620.4871 - mae: 3620.4871\n",
            "Epoch 26/100\n",
            "34/34 [==============================] - 0s 4ms/step - loss: 3619.9277 - mae: 3619.9277\n",
            "Epoch 27/100\n",
            "34/34 [==============================] - 0s 4ms/step - loss: 3609.4150 - mae: 3609.4150\n",
            "Epoch 28/100\n",
            "34/34 [==============================] - 0s 4ms/step - loss: 3612.3794 - mae: 3612.3794\n",
            "Epoch 29/100\n",
            "34/34 [==============================] - 0s 4ms/step - loss: 3601.0137 - mae: 3601.0137\n",
            "Epoch 30/100\n",
            "34/34 [==============================] - 0s 3ms/step - loss: 3598.5942 - mae: 3598.5942\n",
            "Epoch 31/100\n",
            "34/34 [==============================] - 0s 4ms/step - loss: 3597.0325 - mae: 3597.0325\n",
            "Epoch 32/100\n",
            "34/34 [==============================] - 0s 4ms/step - loss: 3593.5278 - mae: 3593.5278\n",
            "Epoch 33/100\n",
            "34/34 [==============================] - 0s 5ms/step - loss: 3597.1331 - mae: 3597.1331\n",
            "Epoch 34/100\n",
            "34/34 [==============================] - 0s 5ms/step - loss: 3585.8083 - mae: 3585.8083\n",
            "Epoch 35/100\n",
            "34/34 [==============================] - 0s 6ms/step - loss: 3576.6270 - mae: 3576.6270\n",
            "Epoch 36/100\n",
            "34/34 [==============================] - 0s 4ms/step - loss: 3572.6848 - mae: 3572.6848\n",
            "Epoch 37/100\n",
            "34/34 [==============================] - 0s 4ms/step - loss: 3567.8584 - mae: 3567.8584\n",
            "Epoch 38/100\n",
            "34/34 [==============================] - 0s 4ms/step - loss: 3565.4124 - mae: 3565.4124\n",
            "Epoch 39/100\n",
            "34/34 [==============================] - 0s 5ms/step - loss: 3560.5173 - mae: 3560.5173\n",
            "Epoch 40/100\n",
            "34/34 [==============================] - 0s 7ms/step - loss: 3559.0054 - mae: 3559.0054\n",
            "Epoch 41/100\n",
            "34/34 [==============================] - 0s 4ms/step - loss: 3552.1819 - mae: 3552.1819\n",
            "Epoch 42/100\n",
            "34/34 [==============================] - 0s 4ms/step - loss: 3560.1055 - mae: 3560.1055\n",
            "Epoch 43/100\n",
            "34/34 [==============================] - 0s 4ms/step - loss: 3540.7649 - mae: 3540.7649\n",
            "Epoch 44/100\n",
            "34/34 [==============================] - 0s 4ms/step - loss: 3542.4722 - mae: 3542.4722\n",
            "Epoch 45/100\n",
            "34/34 [==============================] - 0s 4ms/step - loss: 3536.9998 - mae: 3536.9998\n",
            "Epoch 46/100\n",
            "34/34 [==============================] - 0s 5ms/step - loss: 3550.5574 - mae: 3550.5574\n",
            "Epoch 47/100\n",
            "34/34 [==============================] - 0s 4ms/step - loss: 3534.2104 - mae: 3534.2104\n",
            "Epoch 48/100\n",
            "34/34 [==============================] - 0s 4ms/step - loss: 3528.0950 - mae: 3528.0950\n",
            "Epoch 49/100\n",
            "34/34 [==============================] - 0s 4ms/step - loss: 3527.0981 - mae: 3527.0981\n",
            "Epoch 50/100\n",
            "34/34 [==============================] - 0s 4ms/step - loss: 3528.1917 - mae: 3528.1917\n",
            "Epoch 51/100\n",
            "34/34 [==============================] - 0s 4ms/step - loss: 3523.6931 - mae: 3523.6931\n",
            "Epoch 52/100\n",
            "34/34 [==============================] - 0s 4ms/step - loss: 3522.6133 - mae: 3522.6133\n",
            "Epoch 53/100\n",
            "34/34 [==============================] - 0s 4ms/step - loss: 3513.3088 - mae: 3513.3088\n",
            "Epoch 54/100\n",
            "34/34 [==============================] - 0s 4ms/step - loss: 3510.2686 - mae: 3510.2686\n",
            "Epoch 55/100\n",
            "34/34 [==============================] - 0s 5ms/step - loss: 3510.0137 - mae: 3510.0137\n",
            "Epoch 56/100\n",
            "34/34 [==============================] - 0s 5ms/step - loss: 3511.6838 - mae: 3511.6838\n",
            "Epoch 57/100\n",
            "34/34 [==============================] - 0s 4ms/step - loss: 3512.7407 - mae: 3512.7407\n",
            "Epoch 58/100\n",
            "34/34 [==============================] - 0s 3ms/step - loss: 3523.3174 - mae: 3523.3174\n",
            "Epoch 59/100\n",
            "34/34 [==============================] - 0s 3ms/step - loss: 3504.5254 - mae: 3504.5254\n",
            "Epoch 60/100\n",
            "34/34 [==============================] - 0s 5ms/step - loss: 3513.0776 - mae: 3513.0776\n",
            "Epoch 61/100\n",
            "34/34 [==============================] - 0s 3ms/step - loss: 3504.4102 - mae: 3504.4102\n",
            "Epoch 62/100\n",
            "34/34 [==============================] - 0s 3ms/step - loss: 3498.2500 - mae: 3498.2500\n",
            "Epoch 63/100\n",
            "34/34 [==============================] - 0s 4ms/step - loss: 3499.7444 - mae: 3499.7444\n",
            "Epoch 64/100\n",
            "34/34 [==============================] - 0s 4ms/step - loss: 3496.0964 - mae: 3496.0964\n",
            "Epoch 65/100\n",
            "34/34 [==============================] - 0s 4ms/step - loss: 3500.1028 - mae: 3500.1028\n",
            "Epoch 66/100\n",
            "34/34 [==============================] - 0s 4ms/step - loss: 3498.4434 - mae: 3498.4434\n",
            "Epoch 67/100\n",
            "34/34 [==============================] - 0s 4ms/step - loss: 3496.5259 - mae: 3496.5259\n",
            "Epoch 68/100\n",
            "34/34 [==============================] - 0s 5ms/step - loss: 3495.1692 - mae: 3495.1692\n",
            "Epoch 69/100\n",
            "34/34 [==============================] - 0s 5ms/step - loss: 3507.3467 - mae: 3507.3467\n",
            "Epoch 70/100\n",
            "34/34 [==============================] - 0s 3ms/step - loss: 3490.1113 - mae: 3490.1113\n",
            "Epoch 71/100\n",
            "34/34 [==============================] - 0s 3ms/step - loss: 3490.7930 - mae: 3490.7930\n",
            "Epoch 72/100\n",
            "34/34 [==============================] - 0s 3ms/step - loss: 3486.1426 - mae: 3486.1426\n",
            "Epoch 73/100\n",
            "34/34 [==============================] - 0s 3ms/step - loss: 3491.4019 - mae: 3491.4019\n",
            "Epoch 74/100\n",
            "34/34 [==============================] - 0s 6ms/step - loss: 3494.5444 - mae: 3494.5444\n",
            "Epoch 75/100\n",
            "34/34 [==============================] - 0s 4ms/step - loss: 3487.9753 - mae: 3487.9753\n",
            "Epoch 76/100\n",
            "34/34 [==============================] - 0s 4ms/step - loss: 3497.1023 - mae: 3497.1023\n",
            "Epoch 77/100\n",
            "34/34 [==============================] - 0s 4ms/step - loss: 3488.7710 - mae: 3488.7710\n",
            "Epoch 78/100\n",
            "34/34 [==============================] - 0s 4ms/step - loss: 3503.5413 - mae: 3503.5413\n",
            "Epoch 79/100\n",
            "34/34 [==============================] - 0s 3ms/step - loss: 3491.2534 - mae: 3491.2534\n",
            "Epoch 80/100\n",
            "34/34 [==============================] - 0s 3ms/step - loss: 3492.3147 - mae: 3492.3147\n",
            "Epoch 81/100\n",
            "34/34 [==============================] - 0s 4ms/step - loss: 3488.9209 - mae: 3488.9209\n",
            "Epoch 82/100\n",
            "34/34 [==============================] - 0s 5ms/step - loss: 3486.1609 - mae: 3486.1609\n",
            "Epoch 83/100\n",
            "34/34 [==============================] - 0s 4ms/step - loss: 3501.6194 - mae: 3501.6194\n",
            "Epoch 84/100\n",
            "34/34 [==============================] - 0s 4ms/step - loss: 3504.0430 - mae: 3504.0430\n",
            "Epoch 85/100\n",
            "34/34 [==============================] - 0s 4ms/step - loss: 3486.8127 - mae: 3486.8127\n",
            "Epoch 86/100\n",
            "34/34 [==============================] - 0s 4ms/step - loss: 3487.5623 - mae: 3487.5623\n",
            "Epoch 87/100\n",
            "34/34 [==============================] - 0s 4ms/step - loss: 3493.7981 - mae: 3493.7981\n",
            "Epoch 88/100\n",
            "34/34 [==============================] - 0s 5ms/step - loss: 3502.8691 - mae: 3502.8691\n",
            "Epoch 89/100\n",
            "34/34 [==============================] - 0s 6ms/step - loss: 3500.2551 - mae: 3500.2551\n",
            "Epoch 90/100\n",
            "34/34 [==============================] - 0s 5ms/step - loss: 3493.4507 - mae: 3493.4507\n",
            "Epoch 91/100\n",
            "34/34 [==============================] - 0s 3ms/step - loss: 3486.4094 - mae: 3486.4094\n",
            "Epoch 92/100\n",
            "34/34 [==============================] - 0s 5ms/step - loss: 3489.3186 - mae: 3489.3186\n",
            "Epoch 93/100\n",
            "34/34 [==============================] - 0s 4ms/step - loss: 3491.7356 - mae: 3491.7356\n",
            "Epoch 94/100\n",
            "34/34 [==============================] - 0s 4ms/step - loss: 3496.5344 - mae: 3496.5344\n",
            "Epoch 95/100\n",
            "34/34 [==============================] - 0s 4ms/step - loss: 3485.5278 - mae: 3485.5278\n",
            "Epoch 96/100\n",
            "34/34 [==============================] - 0s 5ms/step - loss: 3492.3088 - mae: 3492.3088\n",
            "Epoch 97/100\n",
            "34/34 [==============================] - 0s 5ms/step - loss: 3495.1216 - mae: 3495.1216\n",
            "Epoch 98/100\n",
            "34/34 [==============================] - 0s 4ms/step - loss: 3491.8618 - mae: 3491.8618\n",
            "Epoch 99/100\n",
            "34/34 [==============================] - 0s 4ms/step - loss: 3489.4402 - mae: 3489.4402\n",
            "Epoch 100/100\n",
            "34/34 [==============================] - 0s 4ms/step - loss: 3488.8408 - mae: 3488.8408\n"
          ]
        },
        {
          "output_type": "execute_result",
          "data": {
            "text/plain": [
              "<keras.callbacks.History at 0x7fbde86c58d0>"
            ]
          },
          "metadata": {},
          "execution_count": 8
        }
      ]
    },
    {
      "cell_type": "code",
      "source": [
        "insurance_model4.evaluate(X_test_normal, y_test)"
      ],
      "metadata": {
        "colab": {
          "base_uri": "https://localhost:8080/"
        },
        "id": "ahQhZxMMcL-1",
        "outputId": "6c31a408-3d0d-435d-ef50-a4f64be6deab"
      },
      "execution_count": 9,
      "outputs": [
        {
          "output_type": "stream",
          "name": "stdout",
          "text": [
            "9/9 [==============================] - 0s 3ms/step - loss: 3125.4038 - mae: 3125.4038\n"
          ]
        },
        {
          "output_type": "execute_result",
          "data": {
            "text/plain": [
              "[3125.40380859375, 3125.40380859375]"
            ]
          },
          "metadata": {},
          "execution_count": 9
        }
      ]
    },
    {
      "cell_type": "code",
      "source": [
        "# Model 5: Increase unit in each layer\n",
        "tf.random.set_seed(24)\n",
        "\n",
        "#1. Create the model\n",
        "insurance_model5 = tf.keras.Sequential([\n",
        "  tf.keras.layers.Dense(150),\n",
        "  tf.keras.layers.Dense(100),\n",
        "  tf.keras.layers.Dense(10),\n",
        "  tf.keras.layers.Dense(1)                                        \n",
        "])\n",
        "\n",
        "#2. Compile the model\n",
        "insurance_model5.compile(loss=tf.keras.losses.mae,\n",
        "                         optimizer=tf.keras.optimizers.Adam(),\n",
        "                         metrics=[\"mae\"])\n",
        "\n",
        "#3. Fit the model\n",
        "insurance_model5.fit(X_train_normal, y_train, epochs=100)"
      ],
      "metadata": {
        "colab": {
          "base_uri": "https://localhost:8080/"
        },
        "id": "kJihtnyWcZdH",
        "outputId": "37b35b3a-8576-4abf-ce97-99e58bd0adeb"
      },
      "execution_count": 11,
      "outputs": [
        {
          "output_type": "stream",
          "name": "stdout",
          "text": [
            "Epoch 1/100\n",
            "34/34 [==============================] - 2s 4ms/step - loss: 13338.3975 - mae: 13338.3975\n",
            "Epoch 2/100\n",
            "34/34 [==============================] - 0s 5ms/step - loss: 13181.4805 - mae: 13181.4805\n",
            "Epoch 3/100\n",
            "34/34 [==============================] - 0s 4ms/step - loss: 12358.9268 - mae: 12358.9268\n",
            "Epoch 4/100\n",
            "34/34 [==============================] - 0s 4ms/step - loss: 10219.8037 - mae: 10219.8037\n",
            "Epoch 5/100\n",
            "34/34 [==============================] - 0s 3ms/step - loss: 8268.6797 - mae: 8268.6797\n",
            "Epoch 6/100\n",
            "34/34 [==============================] - 0s 3ms/step - loss: 7839.6196 - mae: 7839.6196\n",
            "Epoch 7/100\n",
            "34/34 [==============================] - 0s 4ms/step - loss: 7634.9404 - mae: 7634.9404\n",
            "Epoch 8/100\n",
            "34/34 [==============================] - 0s 5ms/step - loss: 7415.0557 - mae: 7415.0557\n",
            "Epoch 9/100\n",
            "34/34 [==============================] - 0s 5ms/step - loss: 7164.1035 - mae: 7164.1035\n",
            "Epoch 10/100\n",
            "34/34 [==============================] - 0s 5ms/step - loss: 6874.2026 - mae: 6874.2026\n",
            "Epoch 11/100\n",
            "34/34 [==============================] - 0s 5ms/step - loss: 6517.5684 - mae: 6517.5684\n",
            "Epoch 12/100\n",
            "34/34 [==============================] - 0s 5ms/step - loss: 6055.5737 - mae: 6055.5737\n",
            "Epoch 13/100\n",
            "34/34 [==============================] - 0s 4ms/step - loss: 5478.0464 - mae: 5478.0464\n",
            "Epoch 14/100\n",
            "34/34 [==============================] - 0s 4ms/step - loss: 4750.5635 - mae: 4750.5635\n",
            "Epoch 15/100\n",
            "34/34 [==============================] - 0s 4ms/step - loss: 4113.6138 - mae: 4113.6138\n",
            "Epoch 16/100\n",
            "34/34 [==============================] - 0s 4ms/step - loss: 3742.3284 - mae: 3742.3284\n",
            "Epoch 17/100\n",
            "34/34 [==============================] - 0s 4ms/step - loss: 3631.8293 - mae: 3631.8293\n",
            "Epoch 18/100\n",
            "34/34 [==============================] - 0s 4ms/step - loss: 3626.1521 - mae: 3626.1521\n",
            "Epoch 19/100\n",
            "34/34 [==============================] - 0s 5ms/step - loss: 3625.2427 - mae: 3625.2427\n",
            "Epoch 20/100\n",
            "34/34 [==============================] - 0s 5ms/step - loss: 3617.7231 - mae: 3617.7231\n",
            "Epoch 21/100\n",
            "34/34 [==============================] - 0s 4ms/step - loss: 3611.4075 - mae: 3611.4075\n",
            "Epoch 22/100\n",
            "34/34 [==============================] - 0s 4ms/step - loss: 3602.2419 - mae: 3602.2419\n",
            "Epoch 23/100\n",
            "34/34 [==============================] - 0s 4ms/step - loss: 3592.8813 - mae: 3592.8813\n",
            "Epoch 24/100\n",
            "34/34 [==============================] - 0s 4ms/step - loss: 3590.6736 - mae: 3590.6736\n",
            "Epoch 25/100\n",
            "34/34 [==============================] - 0s 4ms/step - loss: 3580.4724 - mae: 3580.4724\n",
            "Epoch 26/100\n",
            "34/34 [==============================] - 0s 4ms/step - loss: 3575.5408 - mae: 3575.5408\n",
            "Epoch 27/100\n",
            "34/34 [==============================] - 0s 5ms/step - loss: 3567.0813 - mae: 3567.0813\n",
            "Epoch 28/100\n",
            "34/34 [==============================] - 0s 4ms/step - loss: 3564.2966 - mae: 3564.2966\n",
            "Epoch 29/100\n",
            "34/34 [==============================] - 0s 4ms/step - loss: 3552.7432 - mae: 3552.7432\n",
            "Epoch 30/100\n",
            "34/34 [==============================] - 0s 6ms/step - loss: 3548.6245 - mae: 3548.6245\n",
            "Epoch 31/100\n",
            "34/34 [==============================] - 0s 4ms/step - loss: 3548.8318 - mae: 3548.8318\n",
            "Epoch 32/100\n",
            "34/34 [==============================] - 0s 4ms/step - loss: 3540.0737 - mae: 3540.0737\n",
            "Epoch 33/100\n",
            "34/34 [==============================] - 0s 4ms/step - loss: 3545.8093 - mae: 3545.8093\n",
            "Epoch 34/100\n",
            "34/34 [==============================] - 0s 5ms/step - loss: 3540.4980 - mae: 3540.4980\n",
            "Epoch 35/100\n",
            "34/34 [==============================] - 0s 4ms/step - loss: 3529.1904 - mae: 3529.1904\n",
            "Epoch 36/100\n",
            "34/34 [==============================] - 0s 5ms/step - loss: 3524.0125 - mae: 3524.0125\n",
            "Epoch 37/100\n",
            "34/34 [==============================] - 0s 4ms/step - loss: 3522.8772 - mae: 3522.8772\n",
            "Epoch 38/100\n",
            "34/34 [==============================] - 0s 4ms/step - loss: 3523.9446 - mae: 3523.9446\n",
            "Epoch 39/100\n",
            "34/34 [==============================] - 0s 5ms/step - loss: 3518.1057 - mae: 3518.1057\n",
            "Epoch 40/100\n",
            "34/34 [==============================] - 0s 5ms/step - loss: 3521.4883 - mae: 3521.4883\n",
            "Epoch 41/100\n",
            "34/34 [==============================] - 0s 4ms/step - loss: 3517.0935 - mae: 3517.0935\n",
            "Epoch 42/100\n",
            "34/34 [==============================] - 0s 4ms/step - loss: 3517.1895 - mae: 3517.1895\n",
            "Epoch 43/100\n",
            "34/34 [==============================] - 0s 4ms/step - loss: 3504.5659 - mae: 3504.5659\n",
            "Epoch 44/100\n",
            "34/34 [==============================] - 0s 5ms/step - loss: 3507.9221 - mae: 3507.9221\n",
            "Epoch 45/100\n",
            "34/34 [==============================] - 0s 5ms/step - loss: 3510.3560 - mae: 3510.3560\n",
            "Epoch 46/100\n",
            "34/34 [==============================] - 0s 4ms/step - loss: 3521.0859 - mae: 3521.0859\n",
            "Epoch 47/100\n",
            "34/34 [==============================] - 0s 4ms/step - loss: 3506.7058 - mae: 3506.7058\n",
            "Epoch 48/100\n",
            "34/34 [==============================] - 0s 4ms/step - loss: 3500.9277 - mae: 3500.9277\n",
            "Epoch 49/100\n",
            "34/34 [==============================] - 0s 4ms/step - loss: 3500.8774 - mae: 3500.8774\n",
            "Epoch 50/100\n",
            "34/34 [==============================] - 0s 3ms/step - loss: 3501.7483 - mae: 3501.7483\n",
            "Epoch 51/100\n",
            "34/34 [==============================] - 0s 4ms/step - loss: 3500.5283 - mae: 3500.5283\n",
            "Epoch 52/100\n",
            "34/34 [==============================] - 0s 4ms/step - loss: 3499.5251 - mae: 3499.5251\n",
            "Epoch 53/100\n",
            "34/34 [==============================] - 0s 4ms/step - loss: 3489.8359 - mae: 3489.8359\n",
            "Epoch 54/100\n",
            "34/34 [==============================] - 0s 4ms/step - loss: 3490.9199 - mae: 3490.9199\n",
            "Epoch 55/100\n",
            "34/34 [==============================] - 0s 3ms/step - loss: 3490.0522 - mae: 3490.0522\n",
            "Epoch 56/100\n",
            "34/34 [==============================] - 0s 4ms/step - loss: 3496.4397 - mae: 3496.4397\n",
            "Epoch 57/100\n",
            "34/34 [==============================] - 0s 4ms/step - loss: 3498.0928 - mae: 3498.0928\n",
            "Epoch 58/100\n",
            "34/34 [==============================] - 0s 4ms/step - loss: 3506.6394 - mae: 3506.6394\n",
            "Epoch 59/100\n",
            "34/34 [==============================] - 0s 5ms/step - loss: 3497.1680 - mae: 3497.1680\n",
            "Epoch 60/100\n",
            "34/34 [==============================] - 0s 4ms/step - loss: 3508.1182 - mae: 3508.1182\n",
            "Epoch 61/100\n",
            "34/34 [==============================] - 0s 5ms/step - loss: 3492.4956 - mae: 3492.4956\n",
            "Epoch 62/100\n",
            "34/34 [==============================] - 0s 4ms/step - loss: 3489.2930 - mae: 3489.2930\n",
            "Epoch 63/100\n",
            "34/34 [==============================] - 0s 4ms/step - loss: 3489.9902 - mae: 3489.9902\n",
            "Epoch 64/100\n",
            "34/34 [==============================] - 0s 4ms/step - loss: 3493.1484 - mae: 3493.1484\n",
            "Epoch 65/100\n",
            "34/34 [==============================] - 0s 4ms/step - loss: 3493.6392 - mae: 3493.6392\n",
            "Epoch 66/100\n",
            "34/34 [==============================] - 0s 5ms/step - loss: 3497.4060 - mae: 3497.4060\n",
            "Epoch 67/100\n",
            "34/34 [==============================] - 0s 3ms/step - loss: 3503.0261 - mae: 3503.0261\n",
            "Epoch 68/100\n",
            "34/34 [==============================] - 0s 3ms/step - loss: 3499.6636 - mae: 3499.6636\n",
            "Epoch 69/100\n",
            "34/34 [==============================] - 0s 4ms/step - loss: 3508.8669 - mae: 3508.8669\n",
            "Epoch 70/100\n",
            "34/34 [==============================] - 0s 4ms/step - loss: 3495.1777 - mae: 3495.1777\n",
            "Epoch 71/100\n",
            "34/34 [==============================] - 0s 6ms/step - loss: 3493.7241 - mae: 3493.7241\n",
            "Epoch 72/100\n",
            "34/34 [==============================] - 0s 4ms/step - loss: 3488.7302 - mae: 3488.7302\n",
            "Epoch 73/100\n",
            "34/34 [==============================] - 0s 5ms/step - loss: 3491.4263 - mae: 3491.4263\n",
            "Epoch 74/100\n",
            "34/34 [==============================] - 0s 5ms/step - loss: 3492.6924 - mae: 3492.6924\n",
            "Epoch 75/100\n",
            "34/34 [==============================] - 0s 4ms/step - loss: 3492.2310 - mae: 3492.2310\n",
            "Epoch 76/100\n",
            "34/34 [==============================] - 0s 5ms/step - loss: 3492.3298 - mae: 3492.3298\n",
            "Epoch 77/100\n",
            "34/34 [==============================] - 0s 4ms/step - loss: 3494.7998 - mae: 3494.7998\n",
            "Epoch 78/100\n",
            "34/34 [==============================] - 0s 4ms/step - loss: 3508.3596 - mae: 3508.3596\n",
            "Epoch 79/100\n",
            "34/34 [==============================] - 0s 4ms/step - loss: 3495.5718 - mae: 3495.5718\n",
            "Epoch 80/100\n",
            "34/34 [==============================] - 0s 4ms/step - loss: 3494.8621 - mae: 3494.8621\n",
            "Epoch 81/100\n",
            "34/34 [==============================] - 0s 4ms/step - loss: 3489.9983 - mae: 3489.9983\n",
            "Epoch 82/100\n",
            "34/34 [==============================] - 0s 5ms/step - loss: 3487.4187 - mae: 3487.4187\n",
            "Epoch 83/100\n",
            "34/34 [==============================] - 0s 3ms/step - loss: 3503.2666 - mae: 3503.2666\n",
            "Epoch 84/100\n",
            "34/34 [==============================] - 0s 3ms/step - loss: 3498.9614 - mae: 3498.9614\n",
            "Epoch 85/100\n",
            "34/34 [==============================] - 0s 4ms/step - loss: 3494.3079 - mae: 3494.3079\n",
            "Epoch 86/100\n",
            "34/34 [==============================] - 0s 4ms/step - loss: 3492.3733 - mae: 3492.3733\n",
            "Epoch 87/100\n",
            "34/34 [==============================] - 0s 4ms/step - loss: 3496.3259 - mae: 3496.3259\n",
            "Epoch 88/100\n",
            "34/34 [==============================] - 0s 4ms/step - loss: 3501.5947 - mae: 3501.5947\n",
            "Epoch 89/100\n",
            "34/34 [==============================] - 0s 4ms/step - loss: 3503.5525 - mae: 3503.5525\n",
            "Epoch 90/100\n",
            "34/34 [==============================] - 0s 4ms/step - loss: 3497.0190 - mae: 3497.0190\n",
            "Epoch 91/100\n",
            "34/34 [==============================] - 0s 3ms/step - loss: 3487.3621 - mae: 3487.3621\n",
            "Epoch 92/100\n",
            "34/34 [==============================] - 0s 4ms/step - loss: 3492.2573 - mae: 3492.2573\n",
            "Epoch 93/100\n",
            "34/34 [==============================] - 0s 6ms/step - loss: 3491.2883 - mae: 3491.2883\n",
            "Epoch 94/100\n",
            "34/34 [==============================] - 0s 5ms/step - loss: 3499.3782 - mae: 3499.3782\n",
            "Epoch 95/100\n",
            "34/34 [==============================] - 0s 5ms/step - loss: 3488.8794 - mae: 3488.8794\n",
            "Epoch 96/100\n",
            "34/34 [==============================] - 0s 6ms/step - loss: 3494.0151 - mae: 3494.0151\n",
            "Epoch 97/100\n",
            "34/34 [==============================] - 0s 4ms/step - loss: 3497.4309 - mae: 3497.4309\n",
            "Epoch 98/100\n",
            "34/34 [==============================] - 0s 5ms/step - loss: 3488.3228 - mae: 3488.3228\n",
            "Epoch 99/100\n",
            "34/34 [==============================] - 0s 5ms/step - loss: 3491.3086 - mae: 3491.3086\n",
            "Epoch 100/100\n",
            "34/34 [==============================] - 0s 4ms/step - loss: 3489.7671 - mae: 3489.7671\n"
          ]
        },
        {
          "output_type": "execute_result",
          "data": {
            "text/plain": [
              "<keras.callbacks.History at 0x7fbde8505090>"
            ]
          },
          "metadata": {},
          "execution_count": 11
        }
      ]
    },
    {
      "cell_type": "code",
      "source": [
        "insurance_model5.evaluate(X_test_normal, y_test)"
      ],
      "metadata": {
        "colab": {
          "base_uri": "https://localhost:8080/"
        },
        "id": "IqOmPRKYdSMV",
        "outputId": "d24f0433-bbda-4ce0-ab1d-66819a676945"
      },
      "execution_count": 12,
      "outputs": [
        {
          "output_type": "stream",
          "name": "stdout",
          "text": [
            "9/9 [==============================] - 0s 3ms/step - loss: 3120.8044 - mae: 3120.8044\n"
          ]
        },
        {
          "output_type": "execute_result",
          "data": {
            "text/plain": [
              "[3120.804443359375, 3120.804443359375]"
            ]
          },
          "metadata": {},
          "execution_count": 12
        }
      ]
    },
    {
      "cell_type": "code",
      "source": [
        "# Model 6: Increase learning rate by 10 times in Adam optimizer\n",
        "tf.random.set_seed(24)\n",
        "\n",
        "#1. Create the model\n",
        "insurance_model6 = tf.keras.Sequential([\n",
        "  tf.keras.layers.Dense(150),\n",
        "  tf.keras.layers.Dense(100),\n",
        "  tf.keras.layers.Dense(10),\n",
        "  tf.keras.layers.Dense(1)                                        \n",
        "])\n",
        "\n",
        "#2. Compile the model\n",
        "insurance_model6.compile(loss=tf.keras.losses.mae,\n",
        "                         optimizer=tf.keras.optimizers.Adam(learning_rate=0.01),\n",
        "                         metrics=[\"mae\"])\n",
        "\n",
        "#3. Fit the model\n",
        "insurance_model6.fit(X_train_normal, y_train, epochs=100)"
      ],
      "metadata": {
        "colab": {
          "base_uri": "https://localhost:8080/"
        },
        "id": "JoXFAL8gdieA",
        "outputId": "e4489513-6698-46df-dbd7-910c9d7f01ad"
      },
      "execution_count": 13,
      "outputs": [
        {
          "output_type": "stream",
          "name": "stdout",
          "text": [
            "Epoch 1/100\n",
            "34/34 [==============================] - 1s 4ms/step - loss: 10846.0869 - mae: 10846.0869\n",
            "Epoch 2/100\n",
            "34/34 [==============================] - 0s 4ms/step - loss: 7082.4766 - mae: 7082.4766\n",
            "Epoch 3/100\n",
            "34/34 [==============================] - 0s 4ms/step - loss: 4343.2056 - mae: 4343.2056\n",
            "Epoch 4/100\n",
            "34/34 [==============================] - 0s 4ms/step - loss: 3715.2620 - mae: 3715.2620\n",
            "Epoch 5/100\n",
            "34/34 [==============================] - 0s 4ms/step - loss: 3616.7163 - mae: 3616.7163\n",
            "Epoch 6/100\n",
            "34/34 [==============================] - 0s 4ms/step - loss: 3575.4900 - mae: 3575.4900\n",
            "Epoch 7/100\n",
            "34/34 [==============================] - 0s 4ms/step - loss: 3644.1218 - mae: 3644.1218\n",
            "Epoch 8/100\n",
            "34/34 [==============================] - 0s 5ms/step - loss: 3608.9829 - mae: 3608.9829\n",
            "Epoch 9/100\n",
            "34/34 [==============================] - 0s 5ms/step - loss: 3559.7847 - mae: 3559.7847\n",
            "Epoch 10/100\n",
            "34/34 [==============================] - 0s 5ms/step - loss: 3580.5247 - mae: 3580.5247\n",
            "Epoch 11/100\n",
            "34/34 [==============================] - 0s 4ms/step - loss: 3605.4707 - mae: 3605.4707\n",
            "Epoch 12/100\n",
            "34/34 [==============================] - 0s 4ms/step - loss: 3581.5903 - mae: 3581.5903\n",
            "Epoch 13/100\n",
            "34/34 [==============================] - 0s 4ms/step - loss: 3659.7061 - mae: 3659.7061\n",
            "Epoch 14/100\n",
            "34/34 [==============================] - 0s 5ms/step - loss: 3598.2266 - mae: 3598.2266\n",
            "Epoch 15/100\n",
            "34/34 [==============================] - 0s 4ms/step - loss: 3603.6313 - mae: 3603.6313\n",
            "Epoch 16/100\n",
            "34/34 [==============================] - 0s 4ms/step - loss: 3571.7515 - mae: 3571.7515\n",
            "Epoch 17/100\n",
            "34/34 [==============================] - 0s 4ms/step - loss: 3516.4802 - mae: 3516.4802\n",
            "Epoch 18/100\n",
            "34/34 [==============================] - 0s 5ms/step - loss: 3586.9675 - mae: 3586.9675\n",
            "Epoch 19/100\n",
            "34/34 [==============================] - 0s 4ms/step - loss: 3599.3215 - mae: 3599.3215\n",
            "Epoch 20/100\n",
            "34/34 [==============================] - 0s 4ms/step - loss: 3568.5046 - mae: 3568.5046\n",
            "Epoch 21/100\n",
            "34/34 [==============================] - 0s 4ms/step - loss: 3564.5513 - mae: 3564.5513\n",
            "Epoch 22/100\n",
            "34/34 [==============================] - 0s 6ms/step - loss: 3570.8962 - mae: 3570.8962\n",
            "Epoch 23/100\n",
            "34/34 [==============================] - 0s 4ms/step - loss: 3582.3179 - mae: 3582.3179\n",
            "Epoch 24/100\n",
            "34/34 [==============================] - 0s 4ms/step - loss: 3557.0137 - mae: 3557.0137\n",
            "Epoch 25/100\n",
            "34/34 [==============================] - 0s 4ms/step - loss: 3538.8403 - mae: 3538.8403\n",
            "Epoch 26/100\n",
            "34/34 [==============================] - 0s 5ms/step - loss: 3584.8672 - mae: 3584.8672\n",
            "Epoch 27/100\n",
            "34/34 [==============================] - 0s 4ms/step - loss: 3564.1379 - mae: 3564.1379\n",
            "Epoch 28/100\n",
            "34/34 [==============================] - 0s 5ms/step - loss: 3551.6765 - mae: 3551.6765\n",
            "Epoch 29/100\n",
            "34/34 [==============================] - 0s 4ms/step - loss: 3557.7307 - mae: 3557.7307\n",
            "Epoch 30/100\n",
            "34/34 [==============================] - 0s 4ms/step - loss: 3573.7925 - mae: 3573.7925\n",
            "Epoch 31/100\n",
            "34/34 [==============================] - 0s 4ms/step - loss: 3612.2117 - mae: 3612.2117\n",
            "Epoch 32/100\n",
            "34/34 [==============================] - 0s 4ms/step - loss: 3576.5750 - mae: 3576.5750\n",
            "Epoch 33/100\n",
            "34/34 [==============================] - 0s 5ms/step - loss: 3581.9863 - mae: 3581.9863\n",
            "Epoch 34/100\n",
            "34/34 [==============================] - 0s 5ms/step - loss: 3622.2471 - mae: 3622.2471\n",
            "Epoch 35/100\n",
            "34/34 [==============================] - 0s 5ms/step - loss: 3569.4954 - mae: 3569.4954\n",
            "Epoch 36/100\n",
            "34/34 [==============================] - 0s 3ms/step - loss: 3565.2168 - mae: 3565.2168\n",
            "Epoch 37/100\n",
            "34/34 [==============================] - 0s 4ms/step - loss: 3544.8291 - mae: 3544.8291\n",
            "Epoch 38/100\n",
            "34/34 [==============================] - 0s 4ms/step - loss: 3574.6597 - mae: 3574.6597\n",
            "Epoch 39/100\n",
            "34/34 [==============================] - 0s 4ms/step - loss: 3602.0969 - mae: 3602.0969\n",
            "Epoch 40/100\n",
            "34/34 [==============================] - 0s 4ms/step - loss: 3556.1812 - mae: 3556.1812\n",
            "Epoch 41/100\n",
            "34/34 [==============================] - 0s 4ms/step - loss: 3592.2935 - mae: 3592.2935\n",
            "Epoch 42/100\n",
            "34/34 [==============================] - 0s 4ms/step - loss: 3603.1096 - mae: 3603.1096\n",
            "Epoch 43/100\n",
            "34/34 [==============================] - 0s 4ms/step - loss: 3549.2581 - mae: 3549.2581\n",
            "Epoch 44/100\n",
            "34/34 [==============================] - 0s 4ms/step - loss: 3530.6270 - mae: 3530.6270\n",
            "Epoch 45/100\n",
            "34/34 [==============================] - 0s 4ms/step - loss: 3672.6050 - mae: 3672.6050\n",
            "Epoch 46/100\n",
            "34/34 [==============================] - 0s 4ms/step - loss: 3652.8394 - mae: 3652.8394\n",
            "Epoch 47/100\n",
            "34/34 [==============================] - 0s 4ms/step - loss: 3577.0596 - mae: 3577.0596\n",
            "Epoch 48/100\n",
            "34/34 [==============================] - 0s 4ms/step - loss: 3536.0234 - mae: 3536.0234\n",
            "Epoch 49/100\n",
            "34/34 [==============================] - 0s 4ms/step - loss: 3555.0706 - mae: 3555.0706\n",
            "Epoch 50/100\n",
            "34/34 [==============================] - 0s 4ms/step - loss: 3565.1477 - mae: 3565.1477\n",
            "Epoch 51/100\n",
            "34/34 [==============================] - 0s 4ms/step - loss: 3585.7517 - mae: 3585.7517\n",
            "Epoch 52/100\n",
            "34/34 [==============================] - 0s 5ms/step - loss: 3581.8425 - mae: 3581.8425\n",
            "Epoch 53/100\n",
            "34/34 [==============================] - 0s 4ms/step - loss: 3549.3599 - mae: 3549.3599\n",
            "Epoch 54/100\n",
            "34/34 [==============================] - 0s 4ms/step - loss: 3571.1841 - mae: 3571.1841\n",
            "Epoch 55/100\n",
            "34/34 [==============================] - 0s 4ms/step - loss: 3641.0723 - mae: 3641.0723\n",
            "Epoch 56/100\n",
            "34/34 [==============================] - 0s 5ms/step - loss: 3613.4490 - mae: 3613.4490\n",
            "Epoch 57/100\n",
            "34/34 [==============================] - 0s 4ms/step - loss: 3623.8452 - mae: 3623.8452\n",
            "Epoch 58/100\n",
            "34/34 [==============================] - 0s 4ms/step - loss: 3589.5627 - mae: 3589.5627\n",
            "Epoch 59/100\n",
            "34/34 [==============================] - 0s 5ms/step - loss: 3590.1128 - mae: 3590.1128\n",
            "Epoch 60/100\n",
            "34/34 [==============================] - 0s 4ms/step - loss: 3550.9966 - mae: 3550.9966\n",
            "Epoch 61/100\n",
            "34/34 [==============================] - 0s 4ms/step - loss: 3575.7363 - mae: 3575.7363\n",
            "Epoch 62/100\n",
            "34/34 [==============================] - 0s 5ms/step - loss: 3557.6199 - mae: 3557.6199\n",
            "Epoch 63/100\n",
            "34/34 [==============================] - 0s 4ms/step - loss: 3525.1511 - mae: 3525.1511\n",
            "Epoch 64/100\n",
            "34/34 [==============================] - 0s 4ms/step - loss: 3596.1592 - mae: 3596.1592\n",
            "Epoch 65/100\n",
            "34/34 [==============================] - 0s 4ms/step - loss: 3518.5242 - mae: 3518.5242\n",
            "Epoch 66/100\n",
            "34/34 [==============================] - 0s 4ms/step - loss: 3548.8669 - mae: 3548.8669\n",
            "Epoch 67/100\n",
            "34/34 [==============================] - 0s 4ms/step - loss: 3541.2305 - mae: 3541.2305\n",
            "Epoch 68/100\n",
            "34/34 [==============================] - 0s 4ms/step - loss: 3532.6685 - mae: 3532.6685\n",
            "Epoch 69/100\n",
            "34/34 [==============================] - 0s 5ms/step - loss: 3544.3037 - mae: 3544.3037\n",
            "Epoch 70/100\n",
            "34/34 [==============================] - 0s 4ms/step - loss: 3595.2402 - mae: 3595.2402\n",
            "Epoch 71/100\n",
            "34/34 [==============================] - 0s 4ms/step - loss: 3532.5833 - mae: 3532.5833\n",
            "Epoch 72/100\n",
            "34/34 [==============================] - 0s 4ms/step - loss: 3550.1797 - mae: 3550.1797\n",
            "Epoch 73/100\n",
            "34/34 [==============================] - 0s 4ms/step - loss: 3590.2043 - mae: 3590.2043\n",
            "Epoch 74/100\n",
            "34/34 [==============================] - 0s 4ms/step - loss: 3620.9663 - mae: 3620.9663\n",
            "Epoch 75/100\n",
            "34/34 [==============================] - 0s 4ms/step - loss: 3653.1821 - mae: 3653.1821\n",
            "Epoch 76/100\n",
            "34/34 [==============================] - 0s 5ms/step - loss: 3504.8320 - mae: 3504.8320\n",
            "Epoch 77/100\n",
            "34/34 [==============================] - 0s 7ms/step - loss: 3626.3574 - mae: 3626.3574\n",
            "Epoch 78/100\n",
            "34/34 [==============================] - 0s 7ms/step - loss: 3680.7949 - mae: 3680.7949\n",
            "Epoch 79/100\n",
            "34/34 [==============================] - 0s 6ms/step - loss: 3645.2095 - mae: 3645.2095\n",
            "Epoch 80/100\n",
            "34/34 [==============================] - 0s 6ms/step - loss: 3616.3687 - mae: 3616.3687\n",
            "Epoch 81/100\n",
            "34/34 [==============================] - 0s 7ms/step - loss: 3554.4519 - mae: 3554.4519\n",
            "Epoch 82/100\n",
            "34/34 [==============================] - 0s 5ms/step - loss: 3585.6113 - mae: 3585.6113\n",
            "Epoch 83/100\n",
            "34/34 [==============================] - 0s 5ms/step - loss: 3525.3662 - mae: 3525.3662\n",
            "Epoch 84/100\n",
            "34/34 [==============================] - 0s 5ms/step - loss: 3533.1614 - mae: 3533.1614\n",
            "Epoch 85/100\n",
            "34/34 [==============================] - 0s 4ms/step - loss: 3567.6218 - mae: 3567.6218\n",
            "Epoch 86/100\n",
            "34/34 [==============================] - 0s 4ms/step - loss: 3530.2820 - mae: 3530.2820\n",
            "Epoch 87/100\n",
            "34/34 [==============================] - 0s 4ms/step - loss: 3562.9915 - mae: 3562.9915\n",
            "Epoch 88/100\n",
            "34/34 [==============================] - 0s 4ms/step - loss: 3624.9343 - mae: 3624.9343\n",
            "Epoch 89/100\n",
            "34/34 [==============================] - 0s 4ms/step - loss: 3602.8018 - mae: 3602.8018\n",
            "Epoch 90/100\n",
            "34/34 [==============================] - 0s 3ms/step - loss: 3567.1909 - mae: 3567.1909\n",
            "Epoch 91/100\n",
            "34/34 [==============================] - 0s 3ms/step - loss: 3565.7542 - mae: 3565.7542\n",
            "Epoch 92/100\n",
            "34/34 [==============================] - 0s 3ms/step - loss: 3539.5908 - mae: 3539.5908\n",
            "Epoch 93/100\n",
            "34/34 [==============================] - 0s 4ms/step - loss: 3575.7710 - mae: 3575.7710\n",
            "Epoch 94/100\n",
            "34/34 [==============================] - 0s 3ms/step - loss: 3600.7456 - mae: 3600.7456\n",
            "Epoch 95/100\n",
            "34/34 [==============================] - 0s 4ms/step - loss: 3600.5740 - mae: 3600.5740\n",
            "Epoch 96/100\n",
            "34/34 [==============================] - 0s 4ms/step - loss: 3577.8469 - mae: 3577.8469\n",
            "Epoch 97/100\n",
            "34/34 [==============================] - 0s 5ms/step - loss: 3599.3972 - mae: 3599.3972\n",
            "Epoch 98/100\n",
            "34/34 [==============================] - 0s 4ms/step - loss: 3583.4485 - mae: 3583.4485\n",
            "Epoch 99/100\n",
            "34/34 [==============================] - 0s 3ms/step - loss: 3579.5359 - mae: 3579.5359\n",
            "Epoch 100/100\n",
            "34/34 [==============================] - 0s 4ms/step - loss: 3547.7847 - mae: 3547.7847\n"
          ]
        },
        {
          "output_type": "execute_result",
          "data": {
            "text/plain": [
              "<keras.callbacks.History at 0x7fbde7b4e3d0>"
            ]
          },
          "metadata": {},
          "execution_count": 13
        }
      ]
    },
    {
      "cell_type": "code",
      "source": [
        "insurance_model6.evaluate(X_test_normal, y_test)"
      ],
      "metadata": {
        "colab": {
          "base_uri": "https://localhost:8080/"
        },
        "id": "HLwIa3pee50d",
        "outputId": "807f6a52-cfe7-40a8-f5e5-ce41ed7e608f"
      },
      "execution_count": 14,
      "outputs": [
        {
          "output_type": "stream",
          "name": "stdout",
          "text": [
            "9/9 [==============================] - 0s 4ms/step - loss: 3268.5454 - mae: 3268.5454\n"
          ]
        },
        {
          "output_type": "execute_result",
          "data": {
            "text/plain": [
              "[3268.54541015625, 3268.54541015625]"
            ]
          },
          "metadata": {},
          "execution_count": 14
        }
      ]
    },
    {
      "cell_type": "code",
      "source": [
        "# Model 7: Try 300 epochs!\n",
        "tf.random.set_seed(24)\n",
        "\n",
        "#1. Create the model\n",
        "insurance_model7 = tf.keras.Sequential([\n",
        "  tf.keras.layers.Dense(150),\n",
        "  tf.keras.layers.Dense(100),\n",
        "  tf.keras.layers.Dense(10),\n",
        "  tf.keras.layers.Dense(1)                                        \n",
        "])\n",
        "\n",
        "#2. Compile the model\n",
        "insurance_model7.compile(loss=tf.keras.losses.mae,\n",
        "                         optimizer=tf.keras.optimizers.Adam(),\n",
        "                         metrics=[\"mae\"])\n",
        "\n",
        "#3. Fit the model\n",
        "insurance_model7.fit(X_train_normal, y_train, epochs=300)\n"
      ],
      "metadata": {
        "colab": {
          "base_uri": "https://localhost:8080/"
        },
        "id": "h88mA_RnfGC-",
        "outputId": "9b1eaa13-3770-48f5-ea0a-6b22b82c8083"
      },
      "execution_count": 15,
      "outputs": [
        {
          "output_type": "stream",
          "name": "stdout",
          "text": [
            "Epoch 1/300\n",
            "34/34 [==============================] - 1s 4ms/step - loss: 13338.3975 - mae: 13338.3975\n",
            "Epoch 2/300\n",
            "34/34 [==============================] - 0s 6ms/step - loss: 13181.4805 - mae: 13181.4805\n",
            "Epoch 3/300\n",
            "34/34 [==============================] - 0s 5ms/step - loss: 12358.9268 - mae: 12358.9268\n",
            "Epoch 4/300\n",
            "34/34 [==============================] - 0s 5ms/step - loss: 10219.8037 - mae: 10219.8037\n",
            "Epoch 5/300\n",
            "34/34 [==============================] - 0s 5ms/step - loss: 8268.6797 - mae: 8268.6797\n",
            "Epoch 6/300\n",
            "34/34 [==============================] - 0s 5ms/step - loss: 7839.6196 - mae: 7839.6196\n",
            "Epoch 7/300\n",
            "34/34 [==============================] - 0s 3ms/step - loss: 7634.9404 - mae: 7634.9404\n",
            "Epoch 8/300\n",
            "34/34 [==============================] - 0s 5ms/step - loss: 7415.0557 - mae: 7415.0557\n",
            "Epoch 9/300\n",
            "34/34 [==============================] - 0s 5ms/step - loss: 7164.1035 - mae: 7164.1035\n",
            "Epoch 10/300\n",
            "34/34 [==============================] - 0s 3ms/step - loss: 6874.2026 - mae: 6874.2026\n",
            "Epoch 11/300\n",
            "34/34 [==============================] - 0s 3ms/step - loss: 6517.5684 - mae: 6517.5684\n",
            "Epoch 12/300\n",
            "34/34 [==============================] - 0s 5ms/step - loss: 6055.5737 - mae: 6055.5737\n",
            "Epoch 13/300\n",
            "34/34 [==============================] - 0s 5ms/step - loss: 5478.0464 - mae: 5478.0464\n",
            "Epoch 14/300\n",
            "34/34 [==============================] - 0s 4ms/step - loss: 4750.5635 - mae: 4750.5635\n",
            "Epoch 15/300\n",
            "34/34 [==============================] - 0s 4ms/step - loss: 4113.6138 - mae: 4113.6138\n",
            "Epoch 16/300\n",
            "34/34 [==============================] - 0s 4ms/step - loss: 3742.3284 - mae: 3742.3284\n",
            "Epoch 17/300\n",
            "34/34 [==============================] - 0s 3ms/step - loss: 3631.8293 - mae: 3631.8293\n",
            "Epoch 18/300\n",
            "34/34 [==============================] - 0s 4ms/step - loss: 3626.1521 - mae: 3626.1521\n",
            "Epoch 19/300\n",
            "34/34 [==============================] - 0s 5ms/step - loss: 3625.2427 - mae: 3625.2427\n",
            "Epoch 20/300\n",
            "34/34 [==============================] - 0s 4ms/step - loss: 3617.7231 - mae: 3617.7231\n",
            "Epoch 21/300\n",
            "34/34 [==============================] - 0s 5ms/step - loss: 3611.4075 - mae: 3611.4075\n",
            "Epoch 22/300\n",
            "34/34 [==============================] - 0s 4ms/step - loss: 3602.2419 - mae: 3602.2419\n",
            "Epoch 23/300\n",
            "34/34 [==============================] - 0s 3ms/step - loss: 3592.8813 - mae: 3592.8813\n",
            "Epoch 24/300\n",
            "34/34 [==============================] - 0s 4ms/step - loss: 3590.6736 - mae: 3590.6736\n",
            "Epoch 25/300\n",
            "34/34 [==============================] - 0s 3ms/step - loss: 3580.4724 - mae: 3580.4724\n",
            "Epoch 26/300\n",
            "34/34 [==============================] - 0s 3ms/step - loss: 3575.5408 - mae: 3575.5408\n",
            "Epoch 27/300\n",
            "34/34 [==============================] - 0s 4ms/step - loss: 3567.0813 - mae: 3567.0813\n",
            "Epoch 28/300\n",
            "34/34 [==============================] - 0s 4ms/step - loss: 3564.2966 - mae: 3564.2966\n",
            "Epoch 29/300\n",
            "34/34 [==============================] - 0s 4ms/step - loss: 3552.7432 - mae: 3552.7432\n",
            "Epoch 30/300\n",
            "34/34 [==============================] - 0s 4ms/step - loss: 3548.6245 - mae: 3548.6245\n",
            "Epoch 31/300\n",
            "34/34 [==============================] - 0s 4ms/step - loss: 3548.8318 - mae: 3548.8318\n",
            "Epoch 32/300\n",
            "34/34 [==============================] - 0s 4ms/step - loss: 3540.0737 - mae: 3540.0737\n",
            "Epoch 33/300\n",
            "34/34 [==============================] - 0s 4ms/step - loss: 3545.8093 - mae: 3545.8093\n",
            "Epoch 34/300\n",
            "34/34 [==============================] - 0s 6ms/step - loss: 3540.4980 - mae: 3540.4980\n",
            "Epoch 35/300\n",
            "34/34 [==============================] - 0s 5ms/step - loss: 3529.1904 - mae: 3529.1904\n",
            "Epoch 36/300\n",
            "34/34 [==============================] - 0s 4ms/step - loss: 3524.0125 - mae: 3524.0125\n",
            "Epoch 37/300\n",
            "34/34 [==============================] - 0s 5ms/step - loss: 3522.8772 - mae: 3522.8772\n",
            "Epoch 38/300\n",
            "34/34 [==============================] - 0s 4ms/step - loss: 3523.9446 - mae: 3523.9446\n",
            "Epoch 39/300\n",
            "34/34 [==============================] - 0s 5ms/step - loss: 3518.1057 - mae: 3518.1057\n",
            "Epoch 40/300\n",
            "34/34 [==============================] - 0s 4ms/step - loss: 3521.4883 - mae: 3521.4883\n",
            "Epoch 41/300\n",
            "34/34 [==============================] - 0s 3ms/step - loss: 3517.0935 - mae: 3517.0935\n",
            "Epoch 42/300\n",
            "34/34 [==============================] - 0s 4ms/step - loss: 3517.1895 - mae: 3517.1895\n",
            "Epoch 43/300\n",
            "34/34 [==============================] - 0s 5ms/step - loss: 3504.5659 - mae: 3504.5659\n",
            "Epoch 44/300\n",
            "34/34 [==============================] - 0s 5ms/step - loss: 3507.9221 - mae: 3507.9221\n",
            "Epoch 45/300\n",
            "34/34 [==============================] - 0s 4ms/step - loss: 3510.3560 - mae: 3510.3560\n",
            "Epoch 46/300\n",
            "34/34 [==============================] - 0s 5ms/step - loss: 3521.0859 - mae: 3521.0859\n",
            "Epoch 47/300\n",
            "34/34 [==============================] - 0s 6ms/step - loss: 3506.7058 - mae: 3506.7058\n",
            "Epoch 48/300\n",
            "34/34 [==============================] - 0s 5ms/step - loss: 3500.9277 - mae: 3500.9277\n",
            "Epoch 49/300\n",
            "34/34 [==============================] - 0s 3ms/step - loss: 3500.8774 - mae: 3500.8774\n",
            "Epoch 50/300\n",
            "34/34 [==============================] - 0s 4ms/step - loss: 3501.7483 - mae: 3501.7483\n",
            "Epoch 51/300\n",
            "34/34 [==============================] - 0s 4ms/step - loss: 3500.5283 - mae: 3500.5283\n",
            "Epoch 52/300\n",
            "34/34 [==============================] - 0s 4ms/step - loss: 3499.5251 - mae: 3499.5251\n",
            "Epoch 53/300\n",
            "34/34 [==============================] - 0s 5ms/step - loss: 3489.8359 - mae: 3489.8359\n",
            "Epoch 54/300\n",
            "34/34 [==============================] - 0s 4ms/step - loss: 3490.9199 - mae: 3490.9199\n",
            "Epoch 55/300\n",
            "34/34 [==============================] - 0s 4ms/step - loss: 3490.0522 - mae: 3490.0522\n",
            "Epoch 56/300\n",
            "34/34 [==============================] - 0s 4ms/step - loss: 3496.4397 - mae: 3496.4397\n",
            "Epoch 57/300\n",
            "34/34 [==============================] - 0s 5ms/step - loss: 3498.0928 - mae: 3498.0928\n",
            "Epoch 58/300\n",
            "34/34 [==============================] - 0s 5ms/step - loss: 3506.6394 - mae: 3506.6394\n",
            "Epoch 59/300\n",
            "34/34 [==============================] - 0s 6ms/step - loss: 3497.1680 - mae: 3497.1680\n",
            "Epoch 60/300\n",
            "34/34 [==============================] - 0s 4ms/step - loss: 3508.1182 - mae: 3508.1182\n",
            "Epoch 61/300\n",
            "34/34 [==============================] - 0s 5ms/step - loss: 3492.4956 - mae: 3492.4956\n",
            "Epoch 62/300\n",
            "34/34 [==============================] - 0s 5ms/step - loss: 3489.2930 - mae: 3489.2930\n",
            "Epoch 63/300\n",
            "34/34 [==============================] - 0s 4ms/step - loss: 3489.9902 - mae: 3489.9902\n",
            "Epoch 64/300\n",
            "34/34 [==============================] - 0s 4ms/step - loss: 3493.1484 - mae: 3493.1484\n",
            "Epoch 65/300\n",
            "34/34 [==============================] - 0s 4ms/step - loss: 3493.6392 - mae: 3493.6392\n",
            "Epoch 66/300\n",
            "34/34 [==============================] - 0s 5ms/step - loss: 3497.4060 - mae: 3497.4060\n",
            "Epoch 67/300\n",
            "34/34 [==============================] - 0s 5ms/step - loss: 3503.0261 - mae: 3503.0261\n",
            "Epoch 68/300\n",
            "34/34 [==============================] - 0s 4ms/step - loss: 3499.6636 - mae: 3499.6636\n",
            "Epoch 69/300\n",
            "34/34 [==============================] - 0s 4ms/step - loss: 3508.8669 - mae: 3508.8669\n",
            "Epoch 70/300\n",
            "34/34 [==============================] - 0s 4ms/step - loss: 3495.1777 - mae: 3495.1777\n",
            "Epoch 71/300\n",
            "34/34 [==============================] - 0s 4ms/step - loss: 3493.7241 - mae: 3493.7241\n",
            "Epoch 72/300\n",
            "34/34 [==============================] - 0s 4ms/step - loss: 3488.7302 - mae: 3488.7302\n",
            "Epoch 73/300\n",
            "34/34 [==============================] - 0s 6ms/step - loss: 3491.4263 - mae: 3491.4263\n",
            "Epoch 74/300\n",
            "34/34 [==============================] - 0s 7ms/step - loss: 3492.6924 - mae: 3492.6924\n",
            "Epoch 75/300\n",
            "34/34 [==============================] - 0s 5ms/step - loss: 3492.2310 - mae: 3492.2310\n",
            "Epoch 76/300\n",
            "34/34 [==============================] - 0s 7ms/step - loss: 3492.3298 - mae: 3492.3298\n",
            "Epoch 77/300\n",
            "34/34 [==============================] - 0s 6ms/step - loss: 3494.7998 - mae: 3494.7998\n",
            "Epoch 78/300\n",
            "34/34 [==============================] - 0s 7ms/step - loss: 3508.3596 - mae: 3508.3596\n",
            "Epoch 79/300\n",
            "34/34 [==============================] - 0s 5ms/step - loss: 3495.5718 - mae: 3495.5718\n",
            "Epoch 80/300\n",
            "34/34 [==============================] - 0s 6ms/step - loss: 3494.8621 - mae: 3494.8621\n",
            "Epoch 81/300\n",
            "34/34 [==============================] - 0s 7ms/step - loss: 3489.9983 - mae: 3489.9983\n",
            "Epoch 82/300\n",
            "34/34 [==============================] - 0s 8ms/step - loss: 3487.4187 - mae: 3487.4187\n",
            "Epoch 83/300\n",
            "34/34 [==============================] - 0s 8ms/step - loss: 3503.2666 - mae: 3503.2666\n",
            "Epoch 84/300\n",
            "34/34 [==============================] - 0s 7ms/step - loss: 3498.9614 - mae: 3498.9614\n",
            "Epoch 85/300\n",
            "34/34 [==============================] - 0s 7ms/step - loss: 3494.3079 - mae: 3494.3079\n",
            "Epoch 86/300\n",
            "34/34 [==============================] - 0s 7ms/step - loss: 3492.3733 - mae: 3492.3733\n",
            "Epoch 87/300\n",
            "34/34 [==============================] - 0s 7ms/step - loss: 3496.3259 - mae: 3496.3259\n",
            "Epoch 88/300\n",
            "34/34 [==============================] - 0s 9ms/step - loss: 3501.5947 - mae: 3501.5947\n",
            "Epoch 89/300\n",
            "34/34 [==============================] - 0s 8ms/step - loss: 3503.5525 - mae: 3503.5525\n",
            "Epoch 90/300\n",
            "34/34 [==============================] - 0s 7ms/step - loss: 3497.0190 - mae: 3497.0190\n",
            "Epoch 91/300\n",
            "34/34 [==============================] - 0s 5ms/step - loss: 3487.3621 - mae: 3487.3621\n",
            "Epoch 92/300\n",
            "34/34 [==============================] - 0s 4ms/step - loss: 3492.2573 - mae: 3492.2573\n",
            "Epoch 93/300\n",
            "34/34 [==============================] - 0s 4ms/step - loss: 3491.2883 - mae: 3491.2883\n",
            "Epoch 94/300\n",
            "34/34 [==============================] - 0s 5ms/step - loss: 3499.3782 - mae: 3499.3782\n",
            "Epoch 95/300\n",
            "34/34 [==============================] - 0s 3ms/step - loss: 3488.8794 - mae: 3488.8794\n",
            "Epoch 96/300\n",
            "34/34 [==============================] - 0s 4ms/step - loss: 3494.0151 - mae: 3494.0151\n",
            "Epoch 97/300\n",
            "34/34 [==============================] - 0s 5ms/step - loss: 3497.4309 - mae: 3497.4309\n",
            "Epoch 98/300\n",
            "34/34 [==============================] - 0s 4ms/step - loss: 3488.3228 - mae: 3488.3228\n",
            "Epoch 99/300\n",
            "34/34 [==============================] - 0s 4ms/step - loss: 3491.3086 - mae: 3491.3086\n",
            "Epoch 100/300\n",
            "34/34 [==============================] - 0s 5ms/step - loss: 3489.7671 - mae: 3489.7671\n",
            "Epoch 101/300\n",
            "34/34 [==============================] - 0s 4ms/step - loss: 3489.8735 - mae: 3489.8735\n",
            "Epoch 102/300\n",
            "34/34 [==============================] - 0s 4ms/step - loss: 3490.5696 - mae: 3490.5696\n",
            "Epoch 103/300\n",
            "34/34 [==============================] - 0s 4ms/step - loss: 3486.6536 - mae: 3486.6536\n",
            "Epoch 104/300\n",
            "34/34 [==============================] - 0s 4ms/step - loss: 3489.8701 - mae: 3489.8701\n",
            "Epoch 105/300\n",
            "34/34 [==============================] - 0s 5ms/step - loss: 3506.9680 - mae: 3506.9680\n",
            "Epoch 106/300\n",
            "34/34 [==============================] - 0s 5ms/step - loss: 3495.6411 - mae: 3495.6411\n",
            "Epoch 107/300\n",
            "34/34 [==============================] - 0s 4ms/step - loss: 3486.5081 - mae: 3486.5081\n",
            "Epoch 108/300\n",
            "34/34 [==============================] - 0s 4ms/step - loss: 3502.7344 - mae: 3502.7344\n",
            "Epoch 109/300\n",
            "34/34 [==============================] - 0s 4ms/step - loss: 3490.8540 - mae: 3490.8540\n",
            "Epoch 110/300\n",
            "34/34 [==============================] - 0s 4ms/step - loss: 3497.7837 - mae: 3497.7837\n",
            "Epoch 111/300\n",
            "34/34 [==============================] - 0s 4ms/step - loss: 3504.4629 - mae: 3504.4629\n",
            "Epoch 112/300\n",
            "34/34 [==============================] - 0s 4ms/step - loss: 3496.4773 - mae: 3496.4773\n",
            "Epoch 113/300\n",
            "34/34 [==============================] - 0s 4ms/step - loss: 3491.0974 - mae: 3491.0974\n",
            "Epoch 114/300\n",
            "34/34 [==============================] - 0s 3ms/step - loss: 3493.0588 - mae: 3493.0588\n",
            "Epoch 115/300\n",
            "34/34 [==============================] - 0s 4ms/step - loss: 3493.2815 - mae: 3493.2815\n",
            "Epoch 116/300\n",
            "34/34 [==============================] - 0s 3ms/step - loss: 3493.6448 - mae: 3493.6448\n",
            "Epoch 117/300\n",
            "34/34 [==============================] - 0s 4ms/step - loss: 3494.0188 - mae: 3494.0188\n",
            "Epoch 118/300\n",
            "34/34 [==============================] - 0s 4ms/step - loss: 3489.5859 - mae: 3489.5859\n",
            "Epoch 119/300\n",
            "34/34 [==============================] - 0s 3ms/step - loss: 3491.6409 - mae: 3491.6409\n",
            "Epoch 120/300\n",
            "34/34 [==============================] - 0s 4ms/step - loss: 3509.7527 - mae: 3509.7527\n",
            "Epoch 121/300\n",
            "34/34 [==============================] - 0s 4ms/step - loss: 3490.8992 - mae: 3490.8992\n",
            "Epoch 122/300\n",
            "34/34 [==============================] - 0s 4ms/step - loss: 3500.7529 - mae: 3500.7529\n",
            "Epoch 123/300\n",
            "34/34 [==============================] - 0s 4ms/step - loss: 3492.6323 - mae: 3492.6323\n",
            "Epoch 124/300\n",
            "34/34 [==============================] - 0s 5ms/step - loss: 3492.0801 - mae: 3492.0801\n",
            "Epoch 125/300\n",
            "34/34 [==============================] - 0s 4ms/step - loss: 3504.1782 - mae: 3504.1782\n",
            "Epoch 126/300\n",
            "34/34 [==============================] - 0s 4ms/step - loss: 3488.1089 - mae: 3488.1089\n",
            "Epoch 127/300\n",
            "34/34 [==============================] - 0s 4ms/step - loss: 3494.4048 - mae: 3494.4048\n",
            "Epoch 128/300\n",
            "34/34 [==============================] - 0s 3ms/step - loss: 3500.8428 - mae: 3500.8428\n",
            "Epoch 129/300\n",
            "34/34 [==============================] - 0s 4ms/step - loss: 3492.0691 - mae: 3492.0691\n",
            "Epoch 130/300\n",
            "34/34 [==============================] - 0s 3ms/step - loss: 3507.5242 - mae: 3507.5242\n",
            "Epoch 131/300\n",
            "34/34 [==============================] - 0s 4ms/step - loss: 3486.8481 - mae: 3486.8481\n",
            "Epoch 132/300\n",
            "34/34 [==============================] - 0s 4ms/step - loss: 3489.7485 - mae: 3489.7485\n",
            "Epoch 133/300\n",
            "34/34 [==============================] - 0s 4ms/step - loss: 3486.1299 - mae: 3486.1299\n",
            "Epoch 134/300\n",
            "34/34 [==============================] - 0s 4ms/step - loss: 3489.5986 - mae: 3489.5986\n",
            "Epoch 135/300\n",
            "34/34 [==============================] - 0s 4ms/step - loss: 3490.6689 - mae: 3490.6689\n",
            "Epoch 136/300\n",
            "34/34 [==============================] - 0s 4ms/step - loss: 3491.1604 - mae: 3491.1604\n",
            "Epoch 137/300\n",
            "34/34 [==============================] - 0s 4ms/step - loss: 3493.6128 - mae: 3493.6128\n",
            "Epoch 138/300\n",
            "34/34 [==============================] - 0s 4ms/step - loss: 3502.8416 - mae: 3502.8416\n",
            "Epoch 139/300\n",
            "34/34 [==============================] - 0s 4ms/step - loss: 3496.8882 - mae: 3496.8882\n",
            "Epoch 140/300\n",
            "34/34 [==============================] - 0s 5ms/step - loss: 3494.5808 - mae: 3494.5808\n",
            "Epoch 141/300\n",
            "34/34 [==============================] - 0s 5ms/step - loss: 3494.6577 - mae: 3494.6577\n",
            "Epoch 142/300\n",
            "34/34 [==============================] - 0s 5ms/step - loss: 3506.6824 - mae: 3506.6824\n",
            "Epoch 143/300\n",
            "34/34 [==============================] - 0s 5ms/step - loss: 3493.2314 - mae: 3493.2314\n",
            "Epoch 144/300\n",
            "34/34 [==============================] - 0s 5ms/step - loss: 3490.6670 - mae: 3490.6670\n",
            "Epoch 145/300\n",
            "34/34 [==============================] - 0s 4ms/step - loss: 3497.4443 - mae: 3497.4443\n",
            "Epoch 146/300\n",
            "34/34 [==============================] - 0s 5ms/step - loss: 3497.3535 - mae: 3497.3535\n",
            "Epoch 147/300\n",
            "34/34 [==============================] - 0s 5ms/step - loss: 3495.8032 - mae: 3495.8032\n",
            "Epoch 148/300\n",
            "34/34 [==============================] - 0s 5ms/step - loss: 3494.0007 - mae: 3494.0007\n",
            "Epoch 149/300\n",
            "34/34 [==============================] - 0s 5ms/step - loss: 3491.3674 - mae: 3491.3674\n",
            "Epoch 150/300\n",
            "34/34 [==============================] - 0s 3ms/step - loss: 3494.2959 - mae: 3494.2959\n",
            "Epoch 151/300\n",
            "34/34 [==============================] - 0s 4ms/step - loss: 3489.2295 - mae: 3489.2295\n",
            "Epoch 152/300\n",
            "34/34 [==============================] - 0s 4ms/step - loss: 3493.0452 - mae: 3493.0452\n",
            "Epoch 153/300\n",
            "34/34 [==============================] - 0s 4ms/step - loss: 3489.1328 - mae: 3489.1328\n",
            "Epoch 154/300\n",
            "34/34 [==============================] - 0s 4ms/step - loss: 3497.6169 - mae: 3497.6169\n",
            "Epoch 155/300\n",
            "34/34 [==============================] - 0s 4ms/step - loss: 3487.4802 - mae: 3487.4802\n",
            "Epoch 156/300\n",
            "34/34 [==============================] - 0s 4ms/step - loss: 3488.6138 - mae: 3488.6138\n",
            "Epoch 157/300\n",
            "34/34 [==============================] - 0s 4ms/step - loss: 3489.2939 - mae: 3489.2939\n",
            "Epoch 158/300\n",
            "34/34 [==============================] - 0s 3ms/step - loss: 3495.9180 - mae: 3495.9180\n",
            "Epoch 159/300\n",
            "34/34 [==============================] - 0s 5ms/step - loss: 3496.0474 - mae: 3496.0474\n",
            "Epoch 160/300\n",
            "34/34 [==============================] - 0s 5ms/step - loss: 3490.5061 - mae: 3490.5061\n",
            "Epoch 161/300\n",
            "34/34 [==============================] - 0s 5ms/step - loss: 3492.4050 - mae: 3492.4050\n",
            "Epoch 162/300\n",
            "34/34 [==============================] - 0s 4ms/step - loss: 3531.2625 - mae: 3531.2625\n",
            "Epoch 163/300\n",
            "34/34 [==============================] - 0s 5ms/step - loss: 3495.0950 - mae: 3495.0950\n",
            "Epoch 164/300\n",
            "34/34 [==============================] - 0s 5ms/step - loss: 3495.6406 - mae: 3495.6406\n",
            "Epoch 165/300\n",
            "34/34 [==============================] - 0s 4ms/step - loss: 3489.1667 - mae: 3489.1667\n",
            "Epoch 166/300\n",
            "34/34 [==============================] - 0s 5ms/step - loss: 3506.3030 - mae: 3506.3030\n",
            "Epoch 167/300\n",
            "34/34 [==============================] - 0s 5ms/step - loss: 3495.4175 - mae: 3495.4175\n",
            "Epoch 168/300\n",
            "34/34 [==============================] - 0s 4ms/step - loss: 3489.1829 - mae: 3489.1829\n",
            "Epoch 169/300\n",
            "34/34 [==============================] - 0s 4ms/step - loss: 3494.8699 - mae: 3494.8699\n",
            "Epoch 170/300\n",
            "34/34 [==============================] - 0s 4ms/step - loss: 3492.8350 - mae: 3492.8350\n",
            "Epoch 171/300\n",
            "34/34 [==============================] - 0s 4ms/step - loss: 3496.1353 - mae: 3496.1353\n",
            "Epoch 172/300\n",
            "34/34 [==============================] - 0s 4ms/step - loss: 3488.8242 - mae: 3488.8242\n",
            "Epoch 173/300\n",
            "34/34 [==============================] - 0s 4ms/step - loss: 3495.9314 - mae: 3495.9314\n",
            "Epoch 174/300\n",
            "34/34 [==============================] - 0s 4ms/step - loss: 3489.5918 - mae: 3489.5918\n",
            "Epoch 175/300\n",
            "34/34 [==============================] - 0s 4ms/step - loss: 3489.7754 - mae: 3489.7754\n",
            "Epoch 176/300\n",
            "34/34 [==============================] - 0s 4ms/step - loss: 3492.8569 - mae: 3492.8569\n",
            "Epoch 177/300\n",
            "34/34 [==============================] - 0s 5ms/step - loss: 3491.7363 - mae: 3491.7363\n",
            "Epoch 178/300\n",
            "34/34 [==============================] - 0s 5ms/step - loss: 3486.8262 - mae: 3486.8262\n",
            "Epoch 179/300\n",
            "34/34 [==============================] - 0s 4ms/step - loss: 3501.9626 - mae: 3501.9626\n",
            "Epoch 180/300\n",
            "34/34 [==============================] - 0s 4ms/step - loss: 3490.0618 - mae: 3490.0618\n",
            "Epoch 181/300\n",
            "34/34 [==============================] - 0s 5ms/step - loss: 3489.9856 - mae: 3489.9856\n",
            "Epoch 182/300\n",
            "34/34 [==============================] - 0s 5ms/step - loss: 3490.2109 - mae: 3490.2109\n",
            "Epoch 183/300\n",
            "34/34 [==============================] - 0s 4ms/step - loss: 3493.4194 - mae: 3493.4194\n",
            "Epoch 184/300\n",
            "34/34 [==============================] - 0s 4ms/step - loss: 3499.4346 - mae: 3499.4346\n",
            "Epoch 185/300\n",
            "34/34 [==============================] - 0s 5ms/step - loss: 3488.1802 - mae: 3488.1802\n",
            "Epoch 186/300\n",
            "34/34 [==============================] - 0s 5ms/step - loss: 3499.9817 - mae: 3499.9817\n",
            "Epoch 187/300\n",
            "34/34 [==============================] - 0s 4ms/step - loss: 3491.1238 - mae: 3491.1238\n",
            "Epoch 188/300\n",
            "34/34 [==============================] - 0s 5ms/step - loss: 3492.6873 - mae: 3492.6873\n",
            "Epoch 189/300\n",
            "34/34 [==============================] - 0s 4ms/step - loss: 3489.7124 - mae: 3489.7124\n",
            "Epoch 190/300\n",
            "34/34 [==============================] - 0s 4ms/step - loss: 3491.1848 - mae: 3491.1848\n",
            "Epoch 191/300\n",
            "34/34 [==============================] - 0s 4ms/step - loss: 3487.7832 - mae: 3487.7832\n",
            "Epoch 192/300\n",
            "34/34 [==============================] - 0s 4ms/step - loss: 3492.4541 - mae: 3492.4541\n",
            "Epoch 193/300\n",
            "34/34 [==============================] - 0s 4ms/step - loss: 3490.3928 - mae: 3490.3928\n",
            "Epoch 194/300\n",
            "34/34 [==============================] - 0s 4ms/step - loss: 3488.9749 - mae: 3488.9749\n",
            "Epoch 195/300\n",
            "34/34 [==============================] - 0s 5ms/step - loss: 3494.8394 - mae: 3494.8394\n",
            "Epoch 196/300\n",
            "34/34 [==============================] - 0s 4ms/step - loss: 3493.0415 - mae: 3493.0415\n",
            "Epoch 197/300\n",
            "34/34 [==============================] - 0s 4ms/step - loss: 3494.3259 - mae: 3494.3259\n",
            "Epoch 198/300\n",
            "34/34 [==============================] - 0s 5ms/step - loss: 3491.5432 - mae: 3491.5432\n",
            "Epoch 199/300\n",
            "34/34 [==============================] - 0s 4ms/step - loss: 3496.7803 - mae: 3496.7803\n",
            "Epoch 200/300\n",
            "34/34 [==============================] - 0s 4ms/step - loss: 3499.7197 - mae: 3499.7197\n",
            "Epoch 201/300\n",
            "34/34 [==============================] - 0s 5ms/step - loss: 3500.6790 - mae: 3500.6790\n",
            "Epoch 202/300\n",
            "34/34 [==============================] - 0s 4ms/step - loss: 3489.1013 - mae: 3489.1013\n",
            "Epoch 203/300\n",
            "34/34 [==============================] - 0s 5ms/step - loss: 3493.5027 - mae: 3493.5027\n",
            "Epoch 204/300\n",
            "34/34 [==============================] - 0s 4ms/step - loss: 3488.0842 - mae: 3488.0842\n",
            "Epoch 205/300\n",
            "34/34 [==============================] - 0s 4ms/step - loss: 3494.3411 - mae: 3494.3411\n",
            "Epoch 206/300\n",
            "34/34 [==============================] - 0s 3ms/step - loss: 3501.9507 - mae: 3501.9507\n",
            "Epoch 207/300\n",
            "34/34 [==============================] - 0s 4ms/step - loss: 3489.0486 - mae: 3489.0486\n",
            "Epoch 208/300\n",
            "34/34 [==============================] - 0s 4ms/step - loss: 3497.0662 - mae: 3497.0662\n",
            "Epoch 209/300\n",
            "34/34 [==============================] - 0s 4ms/step - loss: 3488.1711 - mae: 3488.1711\n",
            "Epoch 210/300\n",
            "34/34 [==============================] - 0s 4ms/step - loss: 3490.0679 - mae: 3490.0679\n",
            "Epoch 211/300\n",
            "34/34 [==============================] - 0s 5ms/step - loss: 3495.9746 - mae: 3495.9746\n",
            "Epoch 212/300\n",
            "34/34 [==============================] - 0s 4ms/step - loss: 3493.7190 - mae: 3493.7190\n",
            "Epoch 213/300\n",
            "34/34 [==============================] - 0s 5ms/step - loss: 3493.9214 - mae: 3493.9214\n",
            "Epoch 214/300\n",
            "34/34 [==============================] - 0s 4ms/step - loss: 3502.4104 - mae: 3502.4104\n",
            "Epoch 215/300\n",
            "34/34 [==============================] - 0s 4ms/step - loss: 3494.3870 - mae: 3494.3870\n",
            "Epoch 216/300\n",
            "34/34 [==============================] - 0s 4ms/step - loss: 3511.5874 - mae: 3511.5874\n",
            "Epoch 217/300\n",
            "34/34 [==============================] - 0s 6ms/step - loss: 3491.9907 - mae: 3491.9907\n",
            "Epoch 218/300\n",
            "34/34 [==============================] - 0s 4ms/step - loss: 3495.0137 - mae: 3495.0137\n",
            "Epoch 219/300\n",
            "34/34 [==============================] - 0s 5ms/step - loss: 3492.8154 - mae: 3492.8154\n",
            "Epoch 220/300\n",
            "34/34 [==============================] - 0s 4ms/step - loss: 3490.4138 - mae: 3490.4138\n",
            "Epoch 221/300\n",
            "34/34 [==============================] - 0s 4ms/step - loss: 3490.5120 - mae: 3490.5120\n",
            "Epoch 222/300\n",
            "34/34 [==============================] - 0s 4ms/step - loss: 3496.2527 - mae: 3496.2527\n",
            "Epoch 223/300\n",
            "34/34 [==============================] - 0s 4ms/step - loss: 3495.0942 - mae: 3495.0942\n",
            "Epoch 224/300\n",
            "34/34 [==============================] - 0s 5ms/step - loss: 3489.7170 - mae: 3489.7170\n",
            "Epoch 225/300\n",
            "34/34 [==============================] - 0s 4ms/step - loss: 3492.9756 - mae: 3492.9756\n",
            "Epoch 226/300\n",
            "34/34 [==============================] - 0s 5ms/step - loss: 3492.2336 - mae: 3492.2336\n",
            "Epoch 227/300\n",
            "34/34 [==============================] - 0s 5ms/step - loss: 3491.2771 - mae: 3491.2771\n",
            "Epoch 228/300\n",
            "34/34 [==============================] - 0s 4ms/step - loss: 3487.9492 - mae: 3487.9492\n",
            "Epoch 229/300\n",
            "34/34 [==============================] - 0s 4ms/step - loss: 3493.1211 - mae: 3493.1211\n",
            "Epoch 230/300\n",
            "34/34 [==============================] - 0s 6ms/step - loss: 3495.2683 - mae: 3495.2683\n",
            "Epoch 231/300\n",
            "34/34 [==============================] - 0s 5ms/step - loss: 3501.7881 - mae: 3501.7881\n",
            "Epoch 232/300\n",
            "34/34 [==============================] - 0s 5ms/step - loss: 3490.3826 - mae: 3490.3826\n",
            "Epoch 233/300\n",
            "34/34 [==============================] - 0s 4ms/step - loss: 3492.5291 - mae: 3492.5291\n",
            "Epoch 234/300\n",
            "34/34 [==============================] - 0s 4ms/step - loss: 3503.4258 - mae: 3503.4258\n",
            "Epoch 235/300\n",
            "34/34 [==============================] - 0s 5ms/step - loss: 3490.4143 - mae: 3490.4143\n",
            "Epoch 236/300\n",
            "34/34 [==============================] - 0s 5ms/step - loss: 3499.7749 - mae: 3499.7749\n",
            "Epoch 237/300\n",
            "34/34 [==============================] - 0s 4ms/step - loss: 3490.9014 - mae: 3490.9014\n",
            "Epoch 238/300\n",
            "34/34 [==============================] - 0s 4ms/step - loss: 3496.0757 - mae: 3496.0757\n",
            "Epoch 239/300\n",
            "34/34 [==============================] - 0s 5ms/step - loss: 3491.6919 - mae: 3491.6919\n",
            "Epoch 240/300\n",
            "34/34 [==============================] - 0s 5ms/step - loss: 3505.7156 - mae: 3505.7156\n",
            "Epoch 241/300\n",
            "34/34 [==============================] - 0s 5ms/step - loss: 3488.8855 - mae: 3488.8855\n",
            "Epoch 242/300\n",
            "34/34 [==============================] - 0s 5ms/step - loss: 3495.8086 - mae: 3495.8086\n",
            "Epoch 243/300\n",
            "34/34 [==============================] - 0s 4ms/step - loss: 3487.2700 - mae: 3487.2700\n",
            "Epoch 244/300\n",
            "34/34 [==============================] - 0s 4ms/step - loss: 3496.6897 - mae: 3496.6897\n",
            "Epoch 245/300\n",
            "34/34 [==============================] - 0s 4ms/step - loss: 3497.4634 - mae: 3497.4634\n",
            "Epoch 246/300\n",
            "34/34 [==============================] - 0s 4ms/step - loss: 3491.6206 - mae: 3491.6206\n",
            "Epoch 247/300\n",
            "34/34 [==============================] - 0s 3ms/step - loss: 3496.4924 - mae: 3496.4924\n",
            "Epoch 248/300\n",
            "34/34 [==============================] - 0s 5ms/step - loss: 3502.6492 - mae: 3502.6492\n",
            "Epoch 249/300\n",
            "34/34 [==============================] - 0s 5ms/step - loss: 3498.6792 - mae: 3498.6792\n",
            "Epoch 250/300\n",
            "34/34 [==============================] - 0s 5ms/step - loss: 3494.6567 - mae: 3494.6567\n",
            "Epoch 251/300\n",
            "34/34 [==============================] - 0s 5ms/step - loss: 3493.5208 - mae: 3493.5208\n",
            "Epoch 252/300\n",
            "34/34 [==============================] - 0s 5ms/step - loss: 3487.4446 - mae: 3487.4446\n",
            "Epoch 253/300\n",
            "34/34 [==============================] - 0s 5ms/step - loss: 3499.0676 - mae: 3499.0676\n",
            "Epoch 254/300\n",
            "34/34 [==============================] - 0s 5ms/step - loss: 3492.6421 - mae: 3492.6421\n",
            "Epoch 255/300\n",
            "34/34 [==============================] - 0s 5ms/step - loss: 3494.8936 - mae: 3494.8936\n",
            "Epoch 256/300\n",
            "34/34 [==============================] - 0s 5ms/step - loss: 3492.0642 - mae: 3492.0642\n",
            "Epoch 257/300\n",
            "34/34 [==============================] - 0s 5ms/step - loss: 3492.4053 - mae: 3492.4053\n",
            "Epoch 258/300\n",
            "34/34 [==============================] - 0s 4ms/step - loss: 3488.5420 - mae: 3488.5420\n",
            "Epoch 259/300\n",
            "34/34 [==============================] - 0s 4ms/step - loss: 3499.8896 - mae: 3499.8896\n",
            "Epoch 260/300\n",
            "34/34 [==============================] - 0s 5ms/step - loss: 3494.3840 - mae: 3494.3840\n",
            "Epoch 261/300\n",
            "34/34 [==============================] - 0s 4ms/step - loss: 3494.1450 - mae: 3494.1450\n",
            "Epoch 262/300\n",
            "34/34 [==============================] - 0s 4ms/step - loss: 3497.7036 - mae: 3497.7036\n",
            "Epoch 263/300\n",
            "34/34 [==============================] - 0s 5ms/step - loss: 3488.7649 - mae: 3488.7649\n",
            "Epoch 264/300\n",
            "34/34 [==============================] - 0s 4ms/step - loss: 3486.8396 - mae: 3486.8396\n",
            "Epoch 265/300\n",
            "34/34 [==============================] - 0s 4ms/step - loss: 3493.7805 - mae: 3493.7805\n",
            "Epoch 266/300\n",
            "34/34 [==============================] - 0s 4ms/step - loss: 3492.3818 - mae: 3492.3818\n",
            "Epoch 267/300\n",
            "34/34 [==============================] - 0s 5ms/step - loss: 3501.1704 - mae: 3501.1704\n",
            "Epoch 268/300\n",
            "34/34 [==============================] - 0s 5ms/step - loss: 3501.6482 - mae: 3501.6482\n",
            "Epoch 269/300\n",
            "34/34 [==============================] - 0s 5ms/step - loss: 3502.0808 - mae: 3502.0808\n",
            "Epoch 270/300\n",
            "34/34 [==============================] - 0s 4ms/step - loss: 3493.8396 - mae: 3493.8396\n",
            "Epoch 271/300\n",
            "34/34 [==============================] - 0s 4ms/step - loss: 3493.6284 - mae: 3493.6284\n",
            "Epoch 272/300\n",
            "34/34 [==============================] - 0s 4ms/step - loss: 3488.3276 - mae: 3488.3276\n",
            "Epoch 273/300\n",
            "34/34 [==============================] - 0s 4ms/step - loss: 3486.9565 - mae: 3486.9565\n",
            "Epoch 274/300\n",
            "34/34 [==============================] - 0s 4ms/step - loss: 3496.8997 - mae: 3496.8997\n",
            "Epoch 275/300\n",
            "34/34 [==============================] - 0s 5ms/step - loss: 3498.7771 - mae: 3498.7771\n",
            "Epoch 276/300\n",
            "34/34 [==============================] - 0s 6ms/step - loss: 3492.4006 - mae: 3492.4006\n",
            "Epoch 277/300\n",
            "34/34 [==============================] - 0s 5ms/step - loss: 3491.6765 - mae: 3491.6765\n",
            "Epoch 278/300\n",
            "34/34 [==============================] - 0s 3ms/step - loss: 3505.2744 - mae: 3505.2744\n",
            "Epoch 279/300\n",
            "34/34 [==============================] - 0s 5ms/step - loss: 3498.5874 - mae: 3498.5874\n",
            "Epoch 280/300\n",
            "34/34 [==============================] - 0s 5ms/step - loss: 3488.6018 - mae: 3488.6018\n",
            "Epoch 281/300\n",
            "34/34 [==============================] - 0s 5ms/step - loss: 3492.2004 - mae: 3492.2004\n",
            "Epoch 282/300\n",
            "34/34 [==============================] - 0s 5ms/step - loss: 3491.7207 - mae: 3491.7207\n",
            "Epoch 283/300\n",
            "34/34 [==============================] - 0s 6ms/step - loss: 3497.7122 - mae: 3497.7122\n",
            "Epoch 284/300\n",
            "34/34 [==============================] - 0s 4ms/step - loss: 3493.3708 - mae: 3493.3708\n",
            "Epoch 285/300\n",
            "34/34 [==============================] - 0s 5ms/step - loss: 3492.6885 - mae: 3492.6885\n",
            "Epoch 286/300\n",
            "34/34 [==============================] - 0s 4ms/step - loss: 3504.4272 - mae: 3504.4272\n",
            "Epoch 287/300\n",
            "34/34 [==============================] - 0s 4ms/step - loss: 3494.8655 - mae: 3494.8655\n",
            "Epoch 288/300\n",
            "34/34 [==============================] - 0s 4ms/step - loss: 3486.9424 - mae: 3486.9424\n",
            "Epoch 289/300\n",
            "34/34 [==============================] - 0s 4ms/step - loss: 3497.2949 - mae: 3497.2949\n",
            "Epoch 290/300\n",
            "34/34 [==============================] - 0s 4ms/step - loss: 3507.1362 - mae: 3507.1362\n",
            "Epoch 291/300\n",
            "34/34 [==============================] - 0s 5ms/step - loss: 3496.2461 - mae: 3496.2461\n",
            "Epoch 292/300\n",
            "34/34 [==============================] - 0s 4ms/step - loss: 3495.2578 - mae: 3495.2578\n",
            "Epoch 293/300\n",
            "34/34 [==============================] - 0s 4ms/step - loss: 3500.5693 - mae: 3500.5693\n",
            "Epoch 294/300\n",
            "34/34 [==============================] - 0s 4ms/step - loss: 3495.1006 - mae: 3495.1006\n",
            "Epoch 295/300\n",
            "34/34 [==============================] - 0s 4ms/step - loss: 3501.8423 - mae: 3501.8423\n",
            "Epoch 296/300\n",
            "34/34 [==============================] - 0s 5ms/step - loss: 3493.1758 - mae: 3493.1758\n",
            "Epoch 297/300\n",
            "34/34 [==============================] - 0s 4ms/step - loss: 3493.7229 - mae: 3493.7229\n",
            "Epoch 298/300\n",
            "34/34 [==============================] - 0s 5ms/step - loss: 3488.6301 - mae: 3488.6301\n",
            "Epoch 299/300\n",
            "34/34 [==============================] - 0s 4ms/step - loss: 3495.4592 - mae: 3495.4592\n",
            "Epoch 300/300\n",
            "34/34 [==============================] - 0s 4ms/step - loss: 3496.6541 - mae: 3496.6541\n"
          ]
        },
        {
          "output_type": "execute_result",
          "data": {
            "text/plain": [
              "<keras.callbacks.History at 0x7fbde7af3fd0>"
            ]
          },
          "metadata": {},
          "execution_count": 15
        }
      ]
    },
    {
      "cell_type": "code",
      "source": [
        "insurance_model7.evaluate(X_test_normal, y_test)"
      ],
      "metadata": {
        "colab": {
          "base_uri": "https://localhost:8080/"
        },
        "id": "wL2kt3dRf4k8",
        "outputId": "384208b2-4b8f-44fa-8cb2-217138ff3602"
      },
      "execution_count": 16,
      "outputs": [
        {
          "output_type": "stream",
          "name": "stdout",
          "text": [
            "9/9 [==============================] - 0s 3ms/step - loss: 3127.1108 - mae: 3127.1108\n"
          ]
        },
        {
          "output_type": "execute_result",
          "data": {
            "text/plain": [
              "[3127.11083984375, 3127.11083984375]"
            ]
          },
          "metadata": {},
          "execution_count": 16
        }
      ]
    },
    {
      "cell_type": "markdown",
      "source": [
        "Build a new model using boston housing dataset"
      ],
      "metadata": {
        "id": "Ln5svSzEgR8D"
      }
    },
    {
      "cell_type": "code",
      "source": [
        "import pandas as pd\n",
        "import matplotlib.pyplot as plt\n",
        "import tensorflow as tf\n",
        "\n",
        "from sklearn.compose import make_column_transformer\n",
        "from sklearn.preprocessing import MinMaxScaler, OneHotEncoder\n",
        "from sklearn.model_selection import train_test_split\n",
        "\n",
        "(X_train, y_train), (X_test, y_test) = tf.keras.datasets.boston_housing.load_data(\n",
        "    path='boston_housing.npz', test_split=0.2, seed=24\n",
        ")"
      ],
      "metadata": {
        "colab": {
          "base_uri": "https://localhost:8080/"
        },
        "id": "sFnJgkHIgdnc",
        "outputId": "f55c8276-2238-4f3a-894a-899ecc0385ef"
      },
      "execution_count": 18,
      "outputs": [
        {
          "output_type": "stream",
          "name": "stdout",
          "text": [
            "Downloading data from https://storage.googleapis.com/tensorflow/tf-keras-datasets/boston_housing.npz\n",
            "57344/57026 [==============================] - 0s 0us/step\n",
            "65536/57026 [==================================] - 0s 0us/step\n"
          ]
        }
      ]
    },
    {
      "cell_type": "code",
      "source": [
        "X_train.shape, y_train.shape, X_test.shape, y_test.shape"
      ],
      "metadata": {
        "colab": {
          "base_uri": "https://localhost:8080/"
        },
        "id": "pw9d2mINgnYW",
        "outputId": "d5c1b5bf-6278-431a-b63b-b07ae05457f0"
      },
      "execution_count": 21,
      "outputs": [
        {
          "output_type": "execute_result",
          "data": {
            "text/plain": [
              "((404, 13), (404,), (102, 13), (102,))"
            ]
          },
          "metadata": {},
          "execution_count": 21
        }
      ]
    },
    {
      "cell_type": "code",
      "source": [
        "X_train"
      ],
      "metadata": {
        "colab": {
          "base_uri": "https://localhost:8080/"
        },
        "id": "MeBDONbwg-HQ",
        "outputId": "a633b7b3-5c26-4221-a2ce-478c76255003"
      },
      "execution_count": 27,
      "outputs": [
        {
          "output_type": "execute_result",
          "data": {
            "text/plain": [
              "array([[4.89822e+00, 0.00000e+00, 1.81000e+01, ..., 2.02000e+01,\n",
              "        3.75520e+02, 3.26000e+00],\n",
              "       [1.32620e-01, 0.00000e+00, 8.56000e+00, ..., 2.09000e+01,\n",
              "        3.94050e+02, 1.64700e+01],\n",
              "       [9.06500e-02, 2.00000e+01, 6.96000e+00, ..., 1.86000e+01,\n",
              "        3.91340e+02, 1.36500e+01],\n",
              "       ...,\n",
              "       [2.90900e-01, 0.00000e+00, 2.18900e+01, ..., 2.12000e+01,\n",
              "        3.88080e+02, 2.41600e+01],\n",
              "       [1.22040e-01, 0.00000e+00, 2.89000e+00, ..., 1.80000e+01,\n",
              "        3.57980e+02, 6.65000e+00],\n",
              "       [4.41700e-02, 7.00000e+01, 2.24000e+00, ..., 1.48000e+01,\n",
              "        3.90860e+02, 6.07000e+00]])"
            ]
          },
          "metadata": {},
          "execution_count": 27
        }
      ]
    },
    {
      "cell_type": "code",
      "source": [
        "# Normalize the data\n",
        "ct = make_column_transformer(\n",
        "    (MinMaxScaler(),[0,1,2,3,4,5,6,7,8,9,10,11,12])\n",
        ")\n",
        "\n",
        "# Fit the column transformer to our training data\n",
        "ct.fit(X_train)\n",
        "\n",
        "# Transform training and test\n",
        "X_train_normal = ct.transform(X_train)\n",
        "X_test_normal = ct.transform(X_test)"
      ],
      "metadata": {
        "id": "g66Y9HUjhR1J"
      },
      "execution_count": 30,
      "outputs": []
    },
    {
      "cell_type": "code",
      "source": [
        "# Check the normal values\n",
        "X_train_normal"
      ],
      "metadata": {
        "colab": {
          "base_uri": "https://localhost:8080/"
        },
        "id": "sr6OKJepjnrW",
        "outputId": "a387156e-e44f-45b7-ad6b-9e59977ac0d5"
      },
      "execution_count": 31,
      "outputs": [
        {
          "output_type": "execute_result",
          "data": {
            "text/plain": [
              "array([[5.49837765e-02, 0.00000000e+00, 6.42962963e-01, ...,\n",
              "        8.08510638e-01, 9.46089061e-01, 4.34042553e-02],\n",
              "       [1.41958155e-03, 0.00000000e+00, 2.89629630e-01, ...,\n",
              "        8.82978723e-01, 9.92813556e-01, 4.18156028e-01],\n",
              "       [9.47848868e-04, 2.00000000e-01, 2.30370370e-01, ...,\n",
              "        6.38297872e-01, 9.85980130e-01, 3.38156028e-01],\n",
              "       ...,\n",
              "       [3.19861059e-03, 0.00000000e+00, 7.83333333e-01, ...,\n",
              "        9.14893617e-01, 9.77759847e-01, 6.36312057e-01],\n",
              "       [1.30066490e-03, 0.00000000e+00, 7.96296296e-02, ...,\n",
              "        5.74468085e-01, 9.01860911e-01, 1.39574468e-01],\n",
              "       [4.25424874e-04, 7.00000000e-01, 5.55555556e-02, ...,\n",
              "        2.34042553e-01, 9.84769782e-01, 1.23120567e-01]])"
            ]
          },
          "metadata": {},
          "execution_count": 31
        }
      ]
    },
    {
      "cell_type": "code",
      "source": [
        "# Set the random\n",
        "tf.random.set_seed(24)\n",
        "\n",
        "#1. Create the model\n",
        "boston_model = tf.keras.Sequential([\n",
        "  tf.keras.layers.Dense(50),\n",
        "  tf.keras.layers.Dense(10),\n",
        "  tf.keras.layers.Dense(1)                                    \n",
        "])\n",
        "\n",
        "#2. Compile the model\n",
        "boston_model.compile(loss=tf.keras.losses.mae,\n",
        "                     optimizer=tf.keras.optimizers.Adam(),\n",
        "                     metrics=[\"mae\"])\n",
        "\n",
        "#3. Fit the model\n",
        "boston_model.fit(X_train_normal, y_train, epochs=200)"
      ],
      "metadata": {
        "colab": {
          "base_uri": "https://localhost:8080/"
        },
        "id": "Bo2vFsOsj6hP",
        "outputId": "bd0891ca-2907-4ff0-ebf2-5eb65ae785f1"
      },
      "execution_count": 43,
      "outputs": [
        {
          "output_type": "stream",
          "name": "stdout",
          "text": [
            "Epoch 1/200\n",
            "13/13 [==============================] - 1s 4ms/step - loss: 21.4613 - mae: 21.4613\n",
            "Epoch 2/200\n",
            "13/13 [==============================] - 0s 3ms/step - loss: 19.7649 - mae: 19.7649\n",
            "Epoch 3/200\n",
            "13/13 [==============================] - 0s 3ms/step - loss: 17.6559 - mae: 17.6559\n",
            "Epoch 4/200\n",
            "13/13 [==============================] - 0s 3ms/step - loss: 15.0952 - mae: 15.0952\n",
            "Epoch 5/200\n",
            "13/13 [==============================] - 0s 5ms/step - loss: 12.3462 - mae: 12.3462\n",
            "Epoch 6/200\n",
            "13/13 [==============================] - 0s 4ms/step - loss: 10.1652 - mae: 10.1652\n",
            "Epoch 7/200\n",
            "13/13 [==============================] - 0s 3ms/step - loss: 8.8199 - mae: 8.8199\n",
            "Epoch 8/200\n",
            "13/13 [==============================] - 0s 3ms/step - loss: 8.2126 - mae: 8.2126\n",
            "Epoch 9/200\n",
            "13/13 [==============================] - 0s 3ms/step - loss: 7.7629 - mae: 7.7629\n",
            "Epoch 10/200\n",
            "13/13 [==============================] - 0s 3ms/step - loss: 7.3021 - mae: 7.3021\n",
            "Epoch 11/200\n",
            "13/13 [==============================] - 0s 4ms/step - loss: 6.8879 - mae: 6.8879\n",
            "Epoch 12/200\n",
            "13/13 [==============================] - 0s 3ms/step - loss: 6.4953 - mae: 6.4953\n",
            "Epoch 13/200\n",
            "13/13 [==============================] - 0s 4ms/step - loss: 6.1702 - mae: 6.1702\n",
            "Epoch 14/200\n",
            "13/13 [==============================] - 0s 4ms/step - loss: 5.8885 - mae: 5.8885\n",
            "Epoch 15/200\n",
            "13/13 [==============================] - 0s 4ms/step - loss: 5.6137 - mae: 5.6137\n",
            "Epoch 16/200\n",
            "13/13 [==============================] - 0s 4ms/step - loss: 5.3842 - mae: 5.3842\n",
            "Epoch 17/200\n",
            "13/13 [==============================] - 0s 4ms/step - loss: 5.2101 - mae: 5.2101\n",
            "Epoch 18/200\n",
            "13/13 [==============================] - 0s 3ms/step - loss: 5.0951 - mae: 5.0951\n",
            "Epoch 19/200\n",
            "13/13 [==============================] - 0s 3ms/step - loss: 5.0075 - mae: 5.0075\n",
            "Epoch 20/200\n",
            "13/13 [==============================] - 0s 3ms/step - loss: 4.9335 - mae: 4.9335\n",
            "Epoch 21/200\n",
            "13/13 [==============================] - 0s 4ms/step - loss: 4.8711 - mae: 4.8711\n",
            "Epoch 22/200\n",
            "13/13 [==============================] - 0s 3ms/step - loss: 4.8261 - mae: 4.8261\n",
            "Epoch 23/200\n",
            "13/13 [==============================] - 0s 4ms/step - loss: 4.7844 - mae: 4.7844\n",
            "Epoch 24/200\n",
            "13/13 [==============================] - 0s 4ms/step - loss: 4.7102 - mae: 4.7102\n",
            "Epoch 25/200\n",
            "13/13 [==============================] - 0s 4ms/step - loss: 4.6529 - mae: 4.6529\n",
            "Epoch 26/200\n",
            "13/13 [==============================] - 0s 4ms/step - loss: 4.5987 - mae: 4.5987\n",
            "Epoch 27/200\n",
            "13/13 [==============================] - 0s 4ms/step - loss: 4.5443 - mae: 4.5443\n",
            "Epoch 28/200\n",
            "13/13 [==============================] - 0s 4ms/step - loss: 4.4980 - mae: 4.4980\n",
            "Epoch 29/200\n",
            "13/13 [==============================] - 0s 4ms/step - loss: 4.4510 - mae: 4.4510\n",
            "Epoch 30/200\n",
            "13/13 [==============================] - 0s 4ms/step - loss: 4.3966 - mae: 4.3966\n",
            "Epoch 31/200\n",
            "13/13 [==============================] - 0s 3ms/step - loss: 4.3275 - mae: 4.3275\n",
            "Epoch 32/200\n",
            "13/13 [==============================] - 0s 4ms/step - loss: 4.2778 - mae: 4.2778\n",
            "Epoch 33/200\n",
            "13/13 [==============================] - 0s 3ms/step - loss: 4.2200 - mae: 4.2200\n",
            "Epoch 34/200\n",
            "13/13 [==============================] - 0s 4ms/step - loss: 4.1694 - mae: 4.1694\n",
            "Epoch 35/200\n",
            "13/13 [==============================] - 0s 4ms/step - loss: 4.0975 - mae: 4.0975\n",
            "Epoch 36/200\n",
            "13/13 [==============================] - 0s 4ms/step - loss: 4.0459 - mae: 4.0459\n",
            "Epoch 37/200\n",
            "13/13 [==============================] - 0s 3ms/step - loss: 3.9902 - mae: 3.9902\n",
            "Epoch 38/200\n",
            "13/13 [==============================] - 0s 4ms/step - loss: 3.9382 - mae: 3.9382\n",
            "Epoch 39/200\n",
            "13/13 [==============================] - 0s 3ms/step - loss: 3.9003 - mae: 3.9003\n",
            "Epoch 40/200\n",
            "13/13 [==============================] - 0s 4ms/step - loss: 3.8508 - mae: 3.8508\n",
            "Epoch 41/200\n",
            "13/13 [==============================] - 0s 5ms/step - loss: 3.8183 - mae: 3.8183\n",
            "Epoch 42/200\n",
            "13/13 [==============================] - 0s 4ms/step - loss: 3.7484 - mae: 3.7484\n",
            "Epoch 43/200\n",
            "13/13 [==============================] - 0s 4ms/step - loss: 3.6995 - mae: 3.6995\n",
            "Epoch 44/200\n",
            "13/13 [==============================] - 0s 4ms/step - loss: 3.6544 - mae: 3.6544\n",
            "Epoch 45/200\n",
            "13/13 [==============================] - 0s 4ms/step - loss: 3.6205 - mae: 3.6205\n",
            "Epoch 46/200\n",
            "13/13 [==============================] - 0s 4ms/step - loss: 3.5807 - mae: 3.5807\n",
            "Epoch 47/200\n",
            "13/13 [==============================] - 0s 3ms/step - loss: 3.5523 - mae: 3.5523\n",
            "Epoch 48/200\n",
            "13/13 [==============================] - 0s 4ms/step - loss: 3.5259 - mae: 3.5259\n",
            "Epoch 49/200\n",
            "13/13 [==============================] - 0s 3ms/step - loss: 3.4974 - mae: 3.4974\n",
            "Epoch 50/200\n",
            "13/13 [==============================] - 0s 3ms/step - loss: 3.4539 - mae: 3.4539\n",
            "Epoch 51/200\n",
            "13/13 [==============================] - 0s 2ms/step - loss: 3.4158 - mae: 3.4158\n",
            "Epoch 52/200\n",
            "13/13 [==============================] - 0s 3ms/step - loss: 3.3783 - mae: 3.3783\n",
            "Epoch 53/200\n",
            "13/13 [==============================] - 0s 2ms/step - loss: 3.3748 - mae: 3.3748\n",
            "Epoch 54/200\n",
            "13/13 [==============================] - 0s 2ms/step - loss: 3.3474 - mae: 3.3474\n",
            "Epoch 55/200\n",
            "13/13 [==============================] - 0s 2ms/step - loss: 3.3274 - mae: 3.3274\n",
            "Epoch 56/200\n",
            "13/13 [==============================] - 0s 2ms/step - loss: 3.3084 - mae: 3.3084\n",
            "Epoch 57/200\n",
            "13/13 [==============================] - 0s 3ms/step - loss: 3.2779 - mae: 3.2779\n",
            "Epoch 58/200\n",
            "13/13 [==============================] - 0s 2ms/step - loss: 3.2645 - mae: 3.2645\n",
            "Epoch 59/200\n",
            "13/13 [==============================] - 0s 2ms/step - loss: 3.2489 - mae: 3.2489\n",
            "Epoch 60/200\n",
            "13/13 [==============================] - 0s 2ms/step - loss: 3.2440 - mae: 3.2440\n",
            "Epoch 61/200\n",
            "13/13 [==============================] - 0s 2ms/step - loss: 3.3057 - mae: 3.3057\n",
            "Epoch 62/200\n",
            "13/13 [==============================] - 0s 4ms/step - loss: 3.2311 - mae: 3.2311\n",
            "Epoch 63/200\n",
            "13/13 [==============================] - 0s 2ms/step - loss: 3.2080 - mae: 3.2080\n",
            "Epoch 64/200\n",
            "13/13 [==============================] - 0s 3ms/step - loss: 3.1942 - mae: 3.1942\n",
            "Epoch 65/200\n",
            "13/13 [==============================] - 0s 2ms/step - loss: 3.2421 - mae: 3.2421\n",
            "Epoch 66/200\n",
            "13/13 [==============================] - 0s 2ms/step - loss: 3.1652 - mae: 3.1652\n",
            "Epoch 67/200\n",
            "13/13 [==============================] - 0s 2ms/step - loss: 3.1672 - mae: 3.1672\n",
            "Epoch 68/200\n",
            "13/13 [==============================] - 0s 2ms/step - loss: 3.1632 - mae: 3.1632\n",
            "Epoch 69/200\n",
            "13/13 [==============================] - 0s 2ms/step - loss: 3.1745 - mae: 3.1745\n",
            "Epoch 70/200\n",
            "13/13 [==============================] - 0s 3ms/step - loss: 3.1519 - mae: 3.1519\n",
            "Epoch 71/200\n",
            "13/13 [==============================] - 0s 3ms/step - loss: 3.1449 - mae: 3.1449\n",
            "Epoch 72/200\n",
            "13/13 [==============================] - 0s 3ms/step - loss: 3.1296 - mae: 3.1296\n",
            "Epoch 73/200\n",
            "13/13 [==============================] - 0s 2ms/step - loss: 3.1401 - mae: 3.1401\n",
            "Epoch 74/200\n",
            "13/13 [==============================] - 0s 2ms/step - loss: 3.1567 - mae: 3.1567\n",
            "Epoch 75/200\n",
            "13/13 [==============================] - 0s 3ms/step - loss: 3.1504 - mae: 3.1504\n",
            "Epoch 76/200\n",
            "13/13 [==============================] - 0s 3ms/step - loss: 3.1387 - mae: 3.1387\n",
            "Epoch 77/200\n",
            "13/13 [==============================] - 0s 3ms/step - loss: 3.1088 - mae: 3.1088\n",
            "Epoch 78/200\n",
            "13/13 [==============================] - 0s 3ms/step - loss: 3.1156 - mae: 3.1156\n",
            "Epoch 79/200\n",
            "13/13 [==============================] - 0s 3ms/step - loss: 3.1078 - mae: 3.1078\n",
            "Epoch 80/200\n",
            "13/13 [==============================] - 0s 2ms/step - loss: 3.1144 - mae: 3.1144\n",
            "Epoch 81/200\n",
            "13/13 [==============================] - 0s 4ms/step - loss: 3.0970 - mae: 3.0970\n",
            "Epoch 82/200\n",
            "13/13 [==============================] - 0s 4ms/step - loss: 3.0993 - mae: 3.0993\n",
            "Epoch 83/200\n",
            "13/13 [==============================] - 0s 3ms/step - loss: 3.0995 - mae: 3.0995\n",
            "Epoch 84/200\n",
            "13/13 [==============================] - 0s 2ms/step - loss: 3.0844 - mae: 3.0844\n",
            "Epoch 85/200\n",
            "13/13 [==============================] - 0s 3ms/step - loss: 3.0883 - mae: 3.0883\n",
            "Epoch 86/200\n",
            "13/13 [==============================] - 0s 3ms/step - loss: 3.0890 - mae: 3.0890\n",
            "Epoch 87/200\n",
            "13/13 [==============================] - 0s 3ms/step - loss: 3.0840 - mae: 3.0840\n",
            "Epoch 88/200\n",
            "13/13 [==============================] - 0s 2ms/step - loss: 3.0736 - mae: 3.0736\n",
            "Epoch 89/200\n",
            "13/13 [==============================] - 0s 2ms/step - loss: 3.0738 - mae: 3.0738\n",
            "Epoch 90/200\n",
            "13/13 [==============================] - 0s 2ms/step - loss: 3.0696 - mae: 3.0696\n",
            "Epoch 91/200\n",
            "13/13 [==============================] - 0s 2ms/step - loss: 3.0746 - mae: 3.0746\n",
            "Epoch 92/200\n",
            "13/13 [==============================] - 0s 3ms/step - loss: 3.0975 - mae: 3.0975\n",
            "Epoch 93/200\n",
            "13/13 [==============================] - 0s 3ms/step - loss: 3.0941 - mae: 3.0941\n",
            "Epoch 94/200\n",
            "13/13 [==============================] - 0s 3ms/step - loss: 3.0781 - mae: 3.0781\n",
            "Epoch 95/200\n",
            "13/13 [==============================] - 0s 2ms/step - loss: 3.0834 - mae: 3.0834\n",
            "Epoch 96/200\n",
            "13/13 [==============================] - 0s 2ms/step - loss: 3.0640 - mae: 3.0640\n",
            "Epoch 97/200\n",
            "13/13 [==============================] - 0s 2ms/step - loss: 3.0697 - mae: 3.0697\n",
            "Epoch 98/200\n",
            "13/13 [==============================] - 0s 2ms/step - loss: 3.0563 - mae: 3.0563\n",
            "Epoch 99/200\n",
            "13/13 [==============================] - 0s 3ms/step - loss: 3.0522 - mae: 3.0522\n",
            "Epoch 100/200\n",
            "13/13 [==============================] - 0s 3ms/step - loss: 3.0642 - mae: 3.0642\n",
            "Epoch 101/200\n",
            "13/13 [==============================] - 0s 3ms/step - loss: 3.0907 - mae: 3.0907\n",
            "Epoch 102/200\n",
            "13/13 [==============================] - 0s 2ms/step - loss: 3.0600 - mae: 3.0600\n",
            "Epoch 103/200\n",
            "13/13 [==============================] - 0s 2ms/step - loss: 3.0743 - mae: 3.0743\n",
            "Epoch 104/200\n",
            "13/13 [==============================] - 0s 2ms/step - loss: 3.0721 - mae: 3.0721\n",
            "Epoch 105/200\n",
            "13/13 [==============================] - 0s 2ms/step - loss: 3.0454 - mae: 3.0454\n",
            "Epoch 106/200\n",
            "13/13 [==============================] - 0s 2ms/step - loss: 3.0614 - mae: 3.0614\n",
            "Epoch 107/200\n",
            "13/13 [==============================] - 0s 2ms/step - loss: 3.0879 - mae: 3.0879\n",
            "Epoch 108/200\n",
            "13/13 [==============================] - 0s 3ms/step - loss: 3.0492 - mae: 3.0492\n",
            "Epoch 109/200\n",
            "13/13 [==============================] - 0s 2ms/step - loss: 3.0539 - mae: 3.0539\n",
            "Epoch 110/200\n",
            "13/13 [==============================] - 0s 2ms/step - loss: 3.0604 - mae: 3.0604\n",
            "Epoch 111/200\n",
            "13/13 [==============================] - 0s 3ms/step - loss: 3.0411 - mae: 3.0411\n",
            "Epoch 112/200\n",
            "13/13 [==============================] - 0s 2ms/step - loss: 3.0426 - mae: 3.0426\n",
            "Epoch 113/200\n",
            "13/13 [==============================] - 0s 2ms/step - loss: 3.0502 - mae: 3.0502\n",
            "Epoch 114/200\n",
            "13/13 [==============================] - 0s 2ms/step - loss: 3.0441 - mae: 3.0441\n",
            "Epoch 115/200\n",
            "13/13 [==============================] - 0s 2ms/step - loss: 3.0544 - mae: 3.0544\n",
            "Epoch 116/200\n",
            "13/13 [==============================] - 0s 2ms/step - loss: 3.0758 - mae: 3.0758\n",
            "Epoch 117/200\n",
            "13/13 [==============================] - 0s 2ms/step - loss: 3.0726 - mae: 3.0726\n",
            "Epoch 118/200\n",
            "13/13 [==============================] - 0s 2ms/step - loss: 3.0349 - mae: 3.0349\n",
            "Epoch 119/200\n",
            "13/13 [==============================] - 0s 3ms/step - loss: 3.0828 - mae: 3.0828\n",
            "Epoch 120/200\n",
            "13/13 [==============================] - 0s 3ms/step - loss: 3.0893 - mae: 3.0893\n",
            "Epoch 121/200\n",
            "13/13 [==============================] - 0s 2ms/step - loss: 3.0771 - mae: 3.0771\n",
            "Epoch 122/200\n",
            "13/13 [==============================] - 0s 3ms/step - loss: 3.1095 - mae: 3.1095\n",
            "Epoch 123/200\n",
            "13/13 [==============================] - 0s 2ms/step - loss: 3.1130 - mae: 3.1130\n",
            "Epoch 124/200\n",
            "13/13 [==============================] - 0s 2ms/step - loss: 3.0533 - mae: 3.0533\n",
            "Epoch 125/200\n",
            "13/13 [==============================] - 0s 2ms/step - loss: 3.0516 - mae: 3.0516\n",
            "Epoch 126/200\n",
            "13/13 [==============================] - 0s 2ms/step - loss: 3.0480 - mae: 3.0480\n",
            "Epoch 127/200\n",
            "13/13 [==============================] - 0s 2ms/step - loss: 3.0574 - mae: 3.0574\n",
            "Epoch 128/200\n",
            "13/13 [==============================] - 0s 2ms/step - loss: 3.0427 - mae: 3.0427\n",
            "Epoch 129/200\n",
            "13/13 [==============================] - 0s 2ms/step - loss: 3.0478 - mae: 3.0478\n",
            "Epoch 130/200\n",
            "13/13 [==============================] - 0s 2ms/step - loss: 3.0331 - mae: 3.0331\n",
            "Epoch 131/200\n",
            "13/13 [==============================] - 0s 2ms/step - loss: 3.0644 - mae: 3.0644\n",
            "Epoch 132/200\n",
            "13/13 [==============================] - 0s 2ms/step - loss: 3.0892 - mae: 3.0892\n",
            "Epoch 133/200\n",
            "13/13 [==============================] - 0s 3ms/step - loss: 3.0638 - mae: 3.0638\n",
            "Epoch 134/200\n",
            "13/13 [==============================] - 0s 2ms/step - loss: 3.0518 - mae: 3.0518\n",
            "Epoch 135/200\n",
            "13/13 [==============================] - 0s 3ms/step - loss: 3.0482 - mae: 3.0482\n",
            "Epoch 136/200\n",
            "13/13 [==============================] - 0s 2ms/step - loss: 3.0594 - mae: 3.0594\n",
            "Epoch 137/200\n",
            "13/13 [==============================] - 0s 2ms/step - loss: 3.0589 - mae: 3.0589\n",
            "Epoch 138/200\n",
            "13/13 [==============================] - 0s 2ms/step - loss: 3.0583 - mae: 3.0583\n",
            "Epoch 139/200\n",
            "13/13 [==============================] - 0s 2ms/step - loss: 3.0340 - mae: 3.0340\n",
            "Epoch 140/200\n",
            "13/13 [==============================] - 0s 2ms/step - loss: 3.0398 - mae: 3.0398\n",
            "Epoch 141/200\n",
            "13/13 [==============================] - 0s 2ms/step - loss: 3.0418 - mae: 3.0418\n",
            "Epoch 142/200\n",
            "13/13 [==============================] - 0s 2ms/step - loss: 3.0315 - mae: 3.0315\n",
            "Epoch 143/200\n",
            "13/13 [==============================] - 0s 2ms/step - loss: 3.0336 - mae: 3.0336\n",
            "Epoch 144/200\n",
            "13/13 [==============================] - 0s 2ms/step - loss: 3.0430 - mae: 3.0430\n",
            "Epoch 145/200\n",
            "13/13 [==============================] - 0s 2ms/step - loss: 3.0322 - mae: 3.0322\n",
            "Epoch 146/200\n",
            "13/13 [==============================] - 0s 3ms/step - loss: 3.0488 - mae: 3.0488\n",
            "Epoch 147/200\n",
            "13/13 [==============================] - 0s 2ms/step - loss: 3.0355 - mae: 3.0355\n",
            "Epoch 148/200\n",
            "13/13 [==============================] - 0s 2ms/step - loss: 3.0283 - mae: 3.0283\n",
            "Epoch 149/200\n",
            "13/13 [==============================] - 0s 2ms/step - loss: 3.0289 - mae: 3.0289\n",
            "Epoch 150/200\n",
            "13/13 [==============================] - 0s 2ms/step - loss: 3.0378 - mae: 3.0378\n",
            "Epoch 151/200\n",
            "13/13 [==============================] - 0s 2ms/step - loss: 3.0510 - mae: 3.0510\n",
            "Epoch 152/200\n",
            "13/13 [==============================] - 0s 2ms/step - loss: 3.0512 - mae: 3.0512\n",
            "Epoch 153/200\n",
            "13/13 [==============================] - 0s 3ms/step - loss: 3.0248 - mae: 3.0248\n",
            "Epoch 154/200\n",
            "13/13 [==============================] - 0s 2ms/step - loss: 3.0498 - mae: 3.0498\n",
            "Epoch 155/200\n",
            "13/13 [==============================] - 0s 2ms/step - loss: 3.0365 - mae: 3.0365\n",
            "Epoch 156/200\n",
            "13/13 [==============================] - 0s 2ms/step - loss: 3.0491 - mae: 3.0491\n",
            "Epoch 157/200\n",
            "13/13 [==============================] - 0s 2ms/step - loss: 3.0388 - mae: 3.0388\n",
            "Epoch 158/200\n",
            "13/13 [==============================] - 0s 2ms/step - loss: 3.0254 - mae: 3.0254\n",
            "Epoch 159/200\n",
            "13/13 [==============================] - 0s 3ms/step - loss: 3.0486 - mae: 3.0486\n",
            "Epoch 160/200\n",
            "13/13 [==============================] - 0s 2ms/step - loss: 3.0407 - mae: 3.0407\n",
            "Epoch 161/200\n",
            "13/13 [==============================] - 0s 2ms/step - loss: 3.0315 - mae: 3.0315\n",
            "Epoch 162/200\n",
            "13/13 [==============================] - 0s 2ms/step - loss: 3.0267 - mae: 3.0267\n",
            "Epoch 163/200\n",
            "13/13 [==============================] - 0s 2ms/step - loss: 3.0291 - mae: 3.0291\n",
            "Epoch 164/200\n",
            "13/13 [==============================] - 0s 2ms/step - loss: 3.0358 - mae: 3.0358\n",
            "Epoch 165/200\n",
            "13/13 [==============================] - 0s 2ms/step - loss: 3.0349 - mae: 3.0349\n",
            "Epoch 166/200\n",
            "13/13 [==============================] - 0s 2ms/step - loss: 3.0304 - mae: 3.0304\n",
            "Epoch 167/200\n",
            "13/13 [==============================] - 0s 2ms/step - loss: 3.0474 - mae: 3.0474\n",
            "Epoch 168/200\n",
            "13/13 [==============================] - 0s 2ms/step - loss: 3.0421 - mae: 3.0421\n",
            "Epoch 169/200\n",
            "13/13 [==============================] - 0s 2ms/step - loss: 3.1092 - mae: 3.1092\n",
            "Epoch 170/200\n",
            "13/13 [==============================] - 0s 3ms/step - loss: 3.0608 - mae: 3.0608\n",
            "Epoch 171/200\n",
            "13/13 [==============================] - 0s 2ms/step - loss: 3.0466 - mae: 3.0466\n",
            "Epoch 172/200\n",
            "13/13 [==============================] - 0s 2ms/step - loss: 3.0356 - mae: 3.0356\n",
            "Epoch 173/200\n",
            "13/13 [==============================] - 0s 3ms/step - loss: 3.0330 - mae: 3.0330\n",
            "Epoch 174/200\n",
            "13/13 [==============================] - 0s 3ms/step - loss: 3.0305 - mae: 3.0305\n",
            "Epoch 175/200\n",
            "13/13 [==============================] - 0s 2ms/step - loss: 3.0401 - mae: 3.0401\n",
            "Epoch 176/200\n",
            "13/13 [==============================] - 0s 2ms/step - loss: 3.0337 - mae: 3.0337\n",
            "Epoch 177/200\n",
            "13/13 [==============================] - 0s 2ms/step - loss: 3.0420 - mae: 3.0420\n",
            "Epoch 178/200\n",
            "13/13 [==============================] - 0s 2ms/step - loss: 3.0501 - mae: 3.0501\n",
            "Epoch 179/200\n",
            "13/13 [==============================] - 0s 2ms/step - loss: 3.0458 - mae: 3.0458\n",
            "Epoch 180/200\n",
            "13/13 [==============================] - 0s 2ms/step - loss: 3.0282 - mae: 3.0282\n",
            "Epoch 181/200\n",
            "13/13 [==============================] - 0s 2ms/step - loss: 3.0297 - mae: 3.0297\n",
            "Epoch 182/200\n",
            "13/13 [==============================] - 0s 2ms/step - loss: 3.0570 - mae: 3.0570\n",
            "Epoch 183/200\n",
            "13/13 [==============================] - 0s 3ms/step - loss: 3.0353 - mae: 3.0353\n",
            "Epoch 184/200\n",
            "13/13 [==============================] - 0s 4ms/step - loss: 3.0385 - mae: 3.0385\n",
            "Epoch 185/200\n",
            "13/13 [==============================] - 0s 2ms/step - loss: 3.0480 - mae: 3.0480\n",
            "Epoch 186/200\n",
            "13/13 [==============================] - 0s 2ms/step - loss: 3.0416 - mae: 3.0416\n",
            "Epoch 187/200\n",
            "13/13 [==============================] - 0s 2ms/step - loss: 3.0322 - mae: 3.0322\n",
            "Epoch 188/200\n",
            "13/13 [==============================] - 0s 2ms/step - loss: 3.0129 - mae: 3.0129\n",
            "Epoch 189/200\n",
            "13/13 [==============================] - 0s 3ms/step - loss: 3.0442 - mae: 3.0442\n",
            "Epoch 190/200\n",
            "13/13 [==============================] - 0s 2ms/step - loss: 3.0397 - mae: 3.0397\n",
            "Epoch 191/200\n",
            "13/13 [==============================] - 0s 2ms/step - loss: 3.0308 - mae: 3.0308\n",
            "Epoch 192/200\n",
            "13/13 [==============================] - 0s 3ms/step - loss: 3.0345 - mae: 3.0345\n",
            "Epoch 193/200\n",
            "13/13 [==============================] - 0s 2ms/step - loss: 3.0556 - mae: 3.0556\n",
            "Epoch 194/200\n",
            "13/13 [==============================] - 0s 2ms/step - loss: 3.0702 - mae: 3.0702\n",
            "Epoch 195/200\n",
            "13/13 [==============================] - 0s 2ms/step - loss: 3.0490 - mae: 3.0490\n",
            "Epoch 196/200\n",
            "13/13 [==============================] - 0s 2ms/step - loss: 3.0365 - mae: 3.0365\n",
            "Epoch 197/200\n",
            "13/13 [==============================] - 0s 2ms/step - loss: 3.0311 - mae: 3.0311\n",
            "Epoch 198/200\n",
            "13/13 [==============================] - 0s 2ms/step - loss: 3.0456 - mae: 3.0456\n",
            "Epoch 199/200\n",
            "13/13 [==============================] - 0s 2ms/step - loss: 3.0421 - mae: 3.0421\n",
            "Epoch 200/200\n",
            "13/13 [==============================] - 0s 2ms/step - loss: 3.0494 - mae: 3.0494\n"
          ]
        },
        {
          "output_type": "execute_result",
          "data": {
            "text/plain": [
              "<keras.callbacks.History at 0x7fbde79723d0>"
            ]
          },
          "metadata": {},
          "execution_count": 43
        }
      ]
    },
    {
      "cell_type": "code",
      "source": [
        "# Evaluate the model\n",
        "boston_model.evaluate(X_test_normal, y_test)"
      ],
      "metadata": {
        "colab": {
          "base_uri": "https://localhost:8080/"
        },
        "id": "7zrXyNaskoBb",
        "outputId": "2e9519ec-36c0-4fe2-ef50-ddb0816f6b48"
      },
      "execution_count": 44,
      "outputs": [
        {
          "output_type": "stream",
          "name": "stdout",
          "text": [
            "4/4 [==============================] - 0s 3ms/step - loss: 3.4452 - mae: 3.4452\n"
          ]
        },
        {
          "output_type": "execute_result",
          "data": {
            "text/plain": [
              "[3.445188045501709, 3.445188045501709]"
            ]
          },
          "metadata": {},
          "execution_count": 44
        }
      ]
    },
    {
      "cell_type": "code",
      "source": [
        "y_train.mean()"
      ],
      "metadata": {
        "colab": {
          "base_uri": "https://localhost:8080/"
        },
        "id": "eDekMA33k0O6",
        "outputId": "1cba4ec7-78ca-4eeb-e70d-63319af42de5"
      },
      "execution_count": 34,
      "outputs": [
        {
          "output_type": "execute_result",
          "data": {
            "text/plain": [
              "22.633415841584164"
            ]
          },
          "metadata": {},
          "execution_count": 34
        }
      ]
    },
    {
      "cell_type": "code",
      "source": [
        "# 2 layers SGD mae = 3.4143, Adam = 4.8661, 200 epochs = 3.3851, 20 neurons = 3.3873\n",
        "# 3 layers SGD mae = 3.4528, Adam = 3.4452\n",
        "\n"
      ],
      "metadata": {
        "id": "rPQ0HAkPk5I6"
      },
      "execution_count": null,
      "outputs": []
    }
  ]
}