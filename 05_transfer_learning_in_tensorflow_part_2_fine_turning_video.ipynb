{
  "nbformat": 4,
  "nbformat_minor": 0,
  "metadata": {
    "colab": {
      "name": "05_transfer_learning_in_tensorflow_part_2_fine_turning_video.ipynb",
      "provenance": [],
      "authorship_tag": "ABX9TyMmDdFHgJ6ewo2/bPtqOkoU",
      "include_colab_link": true
    },
    "kernelspec": {
      "name": "python3",
      "display_name": "Python 3"
    },
    "language_info": {
      "name": "python"
    },
    "gpuClass": "standard"
  },
  "cells": [
    {
      "cell_type": "markdown",
      "metadata": {
        "id": "view-in-github",
        "colab_type": "text"
      },
      "source": [
        "<a href=\"https://colab.research.google.com/github/sonpn82/Tensor-flow-Developer-Certification-Exam/blob/main/05_transfer_learning_in_tensorflow_part_2_fine_turning_video.ipynb\" target=\"_parent\"><img src=\"https://colab.research.google.com/assets/colab-badge.svg\" alt=\"Open In Colab\"/></a>"
      ]
    },
    {
      "cell_type": "markdown",
      "source": [
        "# Transfer Learning with TensorFlow part 2: Fine-tuning\n",
        "\n",
        "In the previous notebook, we covered transfer learning feature extraction, now it's time to learn about a new kind of transfer learning: fine-tuning"
      ],
      "metadata": {
        "id": "bCohYETFft1n"
      }
    },
    {
      "cell_type": "code",
      "source": [
        "# Check if we're using a GPU\n",
        "!nvidia-smi"
      ],
      "metadata": {
        "colab": {
          "base_uri": "https://localhost:8080/"
        },
        "id": "N5fZMVl0gaZN",
        "outputId": "d1784356-9973-4096-81bf-ca2fd4c0baaf"
      },
      "execution_count": 44,
      "outputs": [
        {
          "output_type": "stream",
          "name": "stdout",
          "text": [
            "Mon Jul  4 08:04:51 2022       \n",
            "+-----------------------------------------------------------------------------+\n",
            "| NVIDIA-SMI 460.32.03    Driver Version: 460.32.03    CUDA Version: 11.2     |\n",
            "|-------------------------------+----------------------+----------------------+\n",
            "| GPU  Name        Persistence-M| Bus-Id        Disp.A | Volatile Uncorr. ECC |\n",
            "| Fan  Temp  Perf  Pwr:Usage/Cap|         Memory-Usage | GPU-Util  Compute M. |\n",
            "|                               |                      |               MIG M. |\n",
            "|===============================+======================+======================|\n",
            "|   0  Tesla T4            Off  | 00000000:00:04.0 Off |                    0 |\n",
            "| N/A   77C    P0    34W /  70W |   4884MiB / 15109MiB |      0%      Default |\n",
            "|                               |                      |                  N/A |\n",
            "+-------------------------------+----------------------+----------------------+\n",
            "                                                                               \n",
            "+-----------------------------------------------------------------------------+\n",
            "| Processes:                                                                  |\n",
            "|  GPU   GI   CI        PID   Type   Process name                  GPU Memory |\n",
            "|        ID   ID                                                   Usage      |\n",
            "|=============================================================================|\n",
            "+-----------------------------------------------------------------------------+\n"
          ]
        }
      ]
    },
    {
      "cell_type": "markdown",
      "source": [
        "## Creating helper functions\n",
        "\n",
        "In previous notebooks, we' created a bunch of helper functions, now we could rewrite them all, however, this is tedious.\n",
        "\n",
        "So, it's a good idea to put functions you'll want to use again in a script you can download and import your notebooks (or elsewhere).\n",
        "\n",
        "We've done this for some of the functions we've used previously here: https://raw.githubusercontent.com/mrdbourke/tensorflow-deep-learning/main/extras/helper_functions.py"
      ],
      "metadata": {
        "id": "UYyGo0fbgyxc"
      }
    },
    {
      "cell_type": "code",
      "source": [
        "!wget https://raw.githubusercontent.com/mrdbourke/tensorflow-deep-learning/main/extras/helper_functions.py"
      ],
      "metadata": {
        "colab": {
          "base_uri": "https://localhost:8080/"
        },
        "id": "ISQfPIJ0hptr",
        "outputId": "d0552e38-4b00-4bb1-c896-c0c7a362ad5f"
      },
      "execution_count": 45,
      "outputs": [
        {
          "output_type": "stream",
          "name": "stdout",
          "text": [
            "--2022-07-04 08:04:51--  https://raw.githubusercontent.com/mrdbourke/tensorflow-deep-learning/main/extras/helper_functions.py\n",
            "Resolving raw.githubusercontent.com (raw.githubusercontent.com)... 185.199.108.133, 185.199.109.133, 185.199.110.133, ...\n",
            "Connecting to raw.githubusercontent.com (raw.githubusercontent.com)|185.199.108.133|:443... connected.\n",
            "HTTP request sent, awaiting response... 200 OK\n",
            "Length: 10246 (10K) [text/plain]\n",
            "Saving to: ‘helper_functions.py.2’\n",
            "\n",
            "\rhelper_functions.py   0%[                    ]       0  --.-KB/s               \rhelper_functions.py 100%[===================>]  10.01K  --.-KB/s    in 0s      \n",
            "\n",
            "2022-07-04 08:04:51 (103 MB/s) - ‘helper_functions.py.2’ saved [10246/10246]\n",
            "\n"
          ]
        }
      ]
    },
    {
      "cell_type": "code",
      "source": [
        "# Import helper functions we're going to use in this notebook\n",
        "from helper_functions import create_tensorboard_callback, plot_loss_curves, unzip_data, walk_through_dir"
      ],
      "metadata": {
        "id": "ny4W1V5TmRRW"
      },
      "execution_count": 46,
      "outputs": []
    },
    {
      "cell_type": "markdown",
      "source": [
        ">**Note:** If you're running this notebook in Google Colab, when it times out Colab will delete `helper_functions.py`, so you'll have to redownload it if you want access to your helper functions."
      ],
      "metadata": {
        "id": "LwlI5b_YnpzM"
      }
    },
    {
      "cell_type": "markdown",
      "source": [
        "## Let's get some data\n",
        "\n",
        "This time we're going to see how we can use the pretrained models within tf.keras.applications and apply them to our own problem (recognizing images of food).\n",
        "\n",
        "link: https://www.tensorflow.org/api_docs/python/tf/keras/applications"
      ],
      "metadata": {
        "id": "wzWA0kNmn7wL"
      }
    },
    {
      "cell_type": "code",
      "source": [
        "# Get 10% of training data of 10 classes of Food101\n",
        "!wget https://storage.googleapis.com/ztm_tf_course/food_vision/10_food_classes_10_percent.zip\n",
        "\n",
        "unzip_data(\"10_food_classes_10_percent.zip\")"
      ],
      "metadata": {
        "colab": {
          "base_uri": "https://localhost:8080/"
        },
        "id": "VcqLMvQToJXq",
        "outputId": "d9fad6a3-516d-4c0a-9803-94926b529b5e"
      },
      "execution_count": 47,
      "outputs": [
        {
          "output_type": "stream",
          "name": "stdout",
          "text": [
            "--2022-07-04 08:04:52--  https://storage.googleapis.com/ztm_tf_course/food_vision/10_food_classes_10_percent.zip\n",
            "Resolving storage.googleapis.com (storage.googleapis.com)... 142.251.120.128, 142.251.161.128, 64.233.183.128, ...\n",
            "Connecting to storage.googleapis.com (storage.googleapis.com)|142.251.120.128|:443... connected.\n",
            "HTTP request sent, awaiting response... 200 OK\n",
            "Length: 168546183 (161M) [application/zip]\n",
            "Saving to: ‘10_food_classes_10_percent.zip.1’\n",
            "\n",
            "10_food_classes_10_ 100%[===================>] 160.74M   235MB/s    in 0.7s    \n",
            "\n",
            "2022-07-04 08:04:52 (235 MB/s) - ‘10_food_classes_10_percent.zip.1’ saved [168546183/168546183]\n",
            "\n"
          ]
        }
      ]
    },
    {
      "cell_type": "code",
      "source": [
        "# Check out how many images and subdirectories are in our dataset\n",
        "walk_through_dir(\"10_food_classes_10_percent\")"
      ],
      "metadata": {
        "colab": {
          "base_uri": "https://localhost:8080/"
        },
        "id": "QxcT1Ty1pK8I",
        "outputId": "648a159d-6061-4a91-da4b-916371899f09"
      },
      "execution_count": 48,
      "outputs": [
        {
          "output_type": "stream",
          "name": "stdout",
          "text": [
            "There are 2 directories and 0 images in '10_food_classes_10_percent'.\n",
            "There are 10 directories and 0 images in '10_food_classes_10_percent/train'.\n",
            "There are 0 directories and 75 images in '10_food_classes_10_percent/train/ramen'.\n",
            "There are 0 directories and 75 images in '10_food_classes_10_percent/train/chicken_curry'.\n",
            "There are 0 directories and 75 images in '10_food_classes_10_percent/train/pizza'.\n",
            "There are 0 directories and 75 images in '10_food_classes_10_percent/train/hamburger'.\n",
            "There are 0 directories and 75 images in '10_food_classes_10_percent/train/grilled_salmon'.\n",
            "There are 0 directories and 75 images in '10_food_classes_10_percent/train/chicken_wings'.\n",
            "There are 0 directories and 75 images in '10_food_classes_10_percent/train/steak'.\n",
            "There are 0 directories and 75 images in '10_food_classes_10_percent/train/fried_rice'.\n",
            "There are 0 directories and 75 images in '10_food_classes_10_percent/train/sushi'.\n",
            "There are 0 directories and 75 images in '10_food_classes_10_percent/train/ice_cream'.\n",
            "There are 10 directories and 0 images in '10_food_classes_10_percent/test'.\n",
            "There are 0 directories and 250 images in '10_food_classes_10_percent/test/ramen'.\n",
            "There are 0 directories and 250 images in '10_food_classes_10_percent/test/chicken_curry'.\n",
            "There are 0 directories and 250 images in '10_food_classes_10_percent/test/pizza'.\n",
            "There are 0 directories and 250 images in '10_food_classes_10_percent/test/hamburger'.\n",
            "There are 0 directories and 250 images in '10_food_classes_10_percent/test/grilled_salmon'.\n",
            "There are 0 directories and 250 images in '10_food_classes_10_percent/test/chicken_wings'.\n",
            "There are 0 directories and 250 images in '10_food_classes_10_percent/test/steak'.\n",
            "There are 0 directories and 250 images in '10_food_classes_10_percent/test/fried_rice'.\n",
            "There are 0 directories and 250 images in '10_food_classes_10_percent/test/sushi'.\n",
            "There are 0 directories and 250 images in '10_food_classes_10_percent/test/ice_cream'.\n"
          ]
        }
      ]
    },
    {
      "cell_type": "code",
      "source": [
        "# Create training and test directory paths\n",
        "train_dir = \"10_food_classes_10_percent/train\"\n",
        "test_dir = \"10_food_classes_10_percent/test\""
      ],
      "metadata": {
        "id": "MizLZevnpUdA"
      },
      "execution_count": 49,
      "outputs": []
    },
    {
      "cell_type": "code",
      "source": [
        "import tensorflow as tf\n",
        "\n",
        "IMG_SIZE = (224, 224)\n",
        "BATCH_SIZE = 32\n",
        "train_data_10_percent = tf.keras.preprocessing.image_dataset_from_directory(directory=train_dir,\n",
        "                                                                            image_size=IMG_SIZE,\n",
        "                                                                            label_mode=\"categorical\",\n",
        "                                                                            batch_size=BATCH_SIZE)\n",
        "\n",
        "test_data = tf.keras.preprocessing.image_dataset_from_directory(directory=test_dir,\n",
        "                                                                           image_size=IMG_SIZE,\n",
        "                                                                           label_mode=\"categorical\",\n",
        "                                                                           batch_size=BATCH_SIZE)"
      ],
      "metadata": {
        "colab": {
          "base_uri": "https://localhost:8080/"
        },
        "id": "Etguh8sDpu6R",
        "outputId": "e9432e2b-bd24-44da-cd30-06f16b951b31"
      },
      "execution_count": 50,
      "outputs": [
        {
          "output_type": "stream",
          "name": "stdout",
          "text": [
            "Found 750 files belonging to 10 classes.\n",
            "Found 2500 files belonging to 10 classes.\n"
          ]
        }
      ]
    },
    {
      "cell_type": "code",
      "source": [
        "train_data_10_percent"
      ],
      "metadata": {
        "colab": {
          "base_uri": "https://localhost:8080/"
        },
        "id": "QbS8X21lsN0e",
        "outputId": "0453dd3f-40f6-44e6-b1ec-fd9c287439b0"
      },
      "execution_count": 51,
      "outputs": [
        {
          "output_type": "execute_result",
          "data": {
            "text/plain": [
              "<BatchDataset element_spec=(TensorSpec(shape=(None, 224, 224, 3), dtype=tf.float32, name=None), TensorSpec(shape=(None, 10), dtype=tf.float32, name=None))>"
            ]
          },
          "metadata": {},
          "execution_count": 51
        }
      ]
    },
    {
      "cell_type": "code",
      "source": [
        "# Check out the class names of our dataset\n",
        "train_data_10_percent.class_names"
      ],
      "metadata": {
        "colab": {
          "base_uri": "https://localhost:8080/"
        },
        "id": "TXe-3VAPsTrs",
        "outputId": "0bc24955-d8df-42c7-c2dd-5129edba68eb"
      },
      "execution_count": 52,
      "outputs": [
        {
          "output_type": "execute_result",
          "data": {
            "text/plain": [
              "['chicken_curry',\n",
              " 'chicken_wings',\n",
              " 'fried_rice',\n",
              " 'grilled_salmon',\n",
              " 'hamburger',\n",
              " 'ice_cream',\n",
              " 'pizza',\n",
              " 'ramen',\n",
              " 'steak',\n",
              " 'sushi']"
            ]
          },
          "metadata": {},
          "execution_count": 52
        }
      ]
    },
    {
      "cell_type": "code",
      "source": [
        "# See an example of a batch data\n",
        "for images, labels in train_data_10_percent.take(1):\n",
        "  print(images, labels)"
      ],
      "metadata": {
        "colab": {
          "base_uri": "https://localhost:8080/"
        },
        "id": "98FekS_Ks3mN",
        "outputId": "5e6b3b63-abe3-48fd-9ddf-26216c01d61d"
      },
      "execution_count": 53,
      "outputs": [
        {
          "output_type": "stream",
          "name": "stdout",
          "text": [
            "tf.Tensor(\n",
            "[[[[1.71648605e+02 1.69413269e+02 1.58119263e+02]\n",
            "   [1.72491074e+02 1.70427933e+02 1.58617340e+02]\n",
            "   [1.79185577e+02 1.77185577e+02 1.65185577e+02]\n",
            "   ...\n",
            "   [2.04771667e+02 1.48650482e+02 7.47110748e+01]\n",
            "   [2.21585464e+02 1.67711731e+02 9.36485901e+01]\n",
            "   [2.24397308e+02 1.70867966e+02 9.66326370e+01]]\n",
            "\n",
            "  [[1.77438126e+02 1.77686874e+02 1.70616074e+02]\n",
            "   [1.78796555e+02 1.79633926e+02 1.71505096e+02]\n",
            "   [1.83351395e+02 1.84893494e+02 1.74437500e+02]\n",
            "   ...\n",
            "   [2.29057419e+02 1.76985992e+02 1.00985985e+02]\n",
            "   [2.21822067e+02 1.72628830e+02 9.66932373e+01]\n",
            "   [2.21200256e+02 1.72064423e+02 9.61096954e+01]]\n",
            "\n",
            "  [[1.83303574e+02 1.85867996e+02 1.81892853e+02]\n",
            "   [1.84491074e+02 1.87842484e+02 1.81253189e+02]\n",
            "   [1.87393494e+02 1.90688766e+02 1.84242355e+02]\n",
            "   ...\n",
            "   [2.21239807e+02 1.71705994e+02 9.48839340e+01]\n",
            "   [2.28496826e+02 1.79071426e+02 1.02187508e+02]\n",
            "   [2.25626923e+02 1.78198364e+02 1.00412643e+02]]\n",
            "\n",
            "  ...\n",
            "\n",
            "  [[4.64356422e+01 2.74356441e+01 1.08641720e+01]\n",
            "   [4.63572083e+01 2.73572083e+01 1.07857361e+01]\n",
            "   [4.85632019e+01 2.95632000e+01 1.29917269e+01]\n",
            "   ...\n",
            "   [9.44987717e+01 6.04987755e+01 2.54987736e+01]\n",
            "   [9.22142639e+01 5.82142639e+01 2.32142639e+01]\n",
            "   [9.22142639e+01 5.82142639e+01 2.32142639e+01]]\n",
            "\n",
            "  [[5.30714417e+01 3.20714417e+01 1.50714417e+01]\n",
            "   [5.30070152e+01 3.20070152e+01 1.50070162e+01]\n",
            "   [5.31575241e+01 3.21575241e+01 1.51575232e+01]\n",
            "   ...\n",
            "   [9.18182297e+01 5.78182335e+01 2.28182335e+01]\n",
            "   [9.30000000e+01 5.90000000e+01 2.40000000e+01]\n",
            "   [9.30714417e+01 5.90714417e+01 2.40714417e+01]]\n",
            "\n",
            "  [[5.30000000e+01 3.20000000e+01 1.50000000e+01]\n",
            "   [5.26779022e+01 3.16779022e+01 1.46779022e+01]\n",
            "   [5.14731789e+01 3.04731789e+01 1.34731798e+01]\n",
            "   ...\n",
            "   [9.49018860e+01 6.09018860e+01 2.59018860e+01]\n",
            "   [9.30000000e+01 5.90000000e+01 2.40000000e+01]\n",
            "   [9.37735672e+01 5.97735710e+01 2.47735710e+01]]]\n",
            "\n",
            "\n",
            " [[[1.20078766e+02 1.20952812e+02 1.41683350e+02]\n",
            "   [7.86304169e+01 7.96304169e+01 9.83609695e+01]\n",
            "   [4.32783813e+01 4.21396675e+01 5.73992348e+01]\n",
            "   ...\n",
            "   [2.22768288e+01 2.24910927e+01 2.98483009e+01]\n",
            "   [2.26801605e+01 2.26801605e+01 3.26801605e+01]\n",
            "   [2.69073582e+01 2.69073582e+01 3.69073601e+01]]\n",
            "\n",
            "  [[1.69327179e+02 1.70443253e+02 1.99447708e+02]\n",
            "   [1.74099487e+02 1.75982468e+02 2.01540817e+02]\n",
            "   [1.55710770e+02 1.55768814e+02 1.80117020e+02]\n",
            "   ...\n",
            "   [2.58437729e+01 2.68437729e+01 3.18437729e+01]\n",
            "   [2.49865952e+01 2.49865952e+01 3.29865952e+01]\n",
            "   [2.88439255e+01 2.88439255e+01 3.68439255e+01]]\n",
            "\n",
            "  [[1.73544327e+02 1.77035080e+02 2.14838974e+02]\n",
            "   [1.78876923e+02 1.80783157e+02 2.17869583e+02]\n",
            "   [1.80000000e+02 1.81763397e+02 2.17870529e+02]\n",
            "   ...\n",
            "   [2.69493046e+01 2.79493046e+01 3.27857361e+01]\n",
            "   [2.59285583e+01 2.66919518e+01 3.24017715e+01]\n",
            "   [3.05492821e+01 3.05492821e+01 3.85492821e+01]]\n",
            "\n",
            "  ...\n",
            "\n",
            "  [[8.04596939e+01 7.14596939e+01 7.39864273e+01]\n",
            "   [8.32732010e+01 7.42732010e+01 7.67999344e+01]\n",
            "   [8.47917252e+01 7.40283585e+01 7.73184586e+01]\n",
            "   ...\n",
            "   [2.49871704e+02 2.52228912e+02 2.45556046e+02]\n",
            "   [2.39310974e+02 2.47707397e+02 2.51823639e+02]\n",
            "   [1.90145996e+02 2.03401215e+02 2.27235596e+02]]\n",
            "\n",
            "  [[7.15965042e+01 6.25965004e+01 6.35965004e+01]\n",
            "   [7.70260544e+01 6.80260544e+01 6.90260544e+01]\n",
            "   [8.22847290e+01 7.22847290e+01 7.32847290e+01]\n",
            "   ...\n",
            "   [2.51811478e+02 2.54168686e+02 2.45284714e+02]\n",
            "   [2.30209976e+02 2.39424301e+02 2.46951248e+02]\n",
            "   [1.95498871e+02 2.09893341e+02 2.38131439e+02]]\n",
            "\n",
            "  [[6.98695679e+01 6.08695679e+01 6.18695679e+01]\n",
            "   [7.76680527e+01 6.86680527e+01 6.96680527e+01]\n",
            "   [8.65089645e+01 7.65089645e+01 7.75089645e+01]\n",
            "   ...\n",
            "   [2.52660065e+02 2.54214264e+02 2.45508636e+02]\n",
            "   [2.19997910e+02 2.29140793e+02 2.38876266e+02]\n",
            "   [1.88010712e+02 2.03367889e+02 2.34027817e+02]]]\n",
            "\n",
            "\n",
            " [[[1.08285721e+02 1.10285721e+02 1.25285721e+02]\n",
            "   [1.09928574e+02 1.11928574e+02 1.26928574e+02]\n",
            "   [1.09219383e+02 1.11219383e+02 1.26219383e+02]\n",
            "   ...\n",
            "   [1.37790833e+02 1.28790833e+02 1.29790833e+02]\n",
            "   [1.38571426e+02 1.29617355e+02 1.30479568e+02]\n",
            "   [1.37571426e+02 1.28801041e+02 1.29112198e+02]]\n",
            "\n",
            "  [[1.13857147e+02 1.12857147e+02 1.28857147e+02]\n",
            "   [1.12132652e+02 1.11132652e+02 1.27132652e+02]\n",
            "   [1.07642853e+02 1.06642853e+02 1.22642853e+02]\n",
            "   ...\n",
            "   [1.47229630e+02 1.39229630e+02 1.36301056e+02]\n",
            "   [1.49642853e+02 1.41709198e+02 1.38576508e+02]\n",
            "   [1.50642853e+02 1.42974518e+02 1.39025436e+02]]\n",
            "\n",
            "  [[1.16280609e+02 1.14852036e+02 1.31066330e+02]\n",
            "   [1.14086731e+02 1.12658157e+02 1.28872452e+02]\n",
            "   [1.07785713e+02 1.06357140e+02 1.22571426e+02]\n",
            "   ...\n",
            "   [1.54642853e+02 1.47688766e+02 1.38831665e+02]\n",
            "   [1.55413269e+02 1.48428574e+02 1.39857117e+02]\n",
            "   [1.55000000e+02 1.48076538e+02 1.38933609e+02]]\n",
            "\n",
            "  ...\n",
            "\n",
            "  [[7.97091446e+01 5.02806206e+01 8.14183578e+01]\n",
            "   [7.84999542e+01 4.82856903e+01 8.22856903e+01]\n",
            "   [7.86428375e+01 4.59999771e+01 8.52142639e+01]\n",
            "   ...\n",
            "   [5.48316460e+01 2.80000000e+01 6.30000000e+01]\n",
            "   [5.64285278e+01 2.87857361e+01 6.40000000e+01]\n",
            "   [5.64285278e+01 2.87857361e+01 6.40000000e+01]]\n",
            "\n",
            "  [[8.04030685e+01 5.14030685e+01 8.24030685e+01]\n",
            "   [8.00051041e+01 5.00051041e+01 8.40051041e+01]\n",
            "   [8.03010406e+01 4.78724632e+01 8.64438934e+01]\n",
            "   ...\n",
            "   [5.50000000e+01 2.90000000e+01 6.40000000e+01]\n",
            "   [5.49897919e+01 2.90000000e+01 6.39948959e+01]\n",
            "   [5.35968971e+01 2.84031029e+01 6.30000000e+01]]\n",
            "\n",
            "  [[7.96428223e+01 5.06428223e+01 8.16428223e+01]\n",
            "   [8.00000000e+01 5.00000000e+01 8.40000000e+01]\n",
            "   [8.20000000e+01 5.00000000e+01 8.85714264e+01]\n",
            "   ...\n",
            "   [5.42142639e+01 2.97857361e+01 6.40000000e+01]\n",
            "   [5.35968971e+01 2.95968971e+01 6.35968971e+01]\n",
            "   [5.18264427e+01 2.95867786e+01 6.30000000e+01]]]\n",
            "\n",
            "\n",
            " ...\n",
            "\n",
            "\n",
            " [[[1.26438774e+02 7.42091827e+01 2.76683655e+01]\n",
            "   [1.58372452e+02 1.03438782e+02 4.90357170e+01]\n",
            "   [1.59454086e+02 1.01163269e+02 3.66581650e+01]\n",
            "   ...\n",
            "   [5.59999771e+01 1.42755041e+01 7.85714340e+00]\n",
            "   [5.03826332e+01 1.09489832e+01 4.09691763e+00]\n",
            "   [4.97550926e+01 1.08725061e+01 3.46937799e+00]]\n",
            "\n",
            "  [[7.62091751e+01 2.67091808e+01 9.18363929e-02]\n",
            "   [1.17862244e+02 6.69285736e+01 1.99948978e+01]\n",
            "   [1.40668365e+02 8.53673477e+01 2.80816307e+01]\n",
            "   ...\n",
            "   [9.07142944e+01 3.61428604e+01 2.92551079e+01]\n",
            "   [8.44897766e+01 3.19336510e+01 2.40611992e+01]\n",
            "   [8.15918350e+01 2.90969448e+01 2.23570766e+01]]\n",
            "\n",
            "  [[7.56530609e+01 2.63622475e+01 9.79592502e-01]\n",
            "   [1.16301025e+02 6.44438858e+01 2.46581688e+01]\n",
            "   [1.44556122e+02 9.01938782e+01 3.92908173e+01]\n",
            "   ...\n",
            "   [1.13260178e+02 4.56173210e+01 3.64030342e+01]\n",
            "   [1.09301033e+02 4.44438934e+01 3.54438934e+01]\n",
            "   [1.14005219e+02 4.91480713e+01 4.01480713e+01]]\n",
            "\n",
            "  ...\n",
            "\n",
            "  [[2.14009933e+02 1.74305740e+02 1.49020035e+02]\n",
            "   [2.27316193e+02 1.90760010e+02 1.63918167e+02]\n",
            "   [2.43117279e+02 2.09234528e+02 1.80974350e+02]\n",
            "   ...\n",
            "   [1.51877243e+02 7.43057785e+01 5.36629868e+01]\n",
            "   [1.57622421e+02 7.66224289e+01 5.96224289e+01]\n",
            "   [1.73219681e+02 9.12196884e+01 7.72196884e+01]]\n",
            "\n",
            "  [[1.62892624e+02 1.12744644e+02 8.56272736e+01]\n",
            "   [1.96586380e+02 1.51091431e+02 1.22290428e+02]\n",
            "   [2.24224228e+02 1.80765030e+02 1.51566055e+02]\n",
            "   ...\n",
            "   [1.47790298e+02 6.97903061e+01 4.93617744e+01]\n",
            "   [1.74857300e+02 9.58572998e+01 7.91328583e+01]\n",
            "   [1.94315231e+02 1.12315231e+02 1.00315231e+02]]\n",
            "\n",
            "  [[1.50694168e+02 9.49798050e+01 6.53369827e+01]\n",
            "   [1.48933365e+02 9.51936035e+01 6.60557480e+01]\n",
            "   [1.72203308e+02 1.23907364e+02 9.41981964e+01]\n",
            "   ...\n",
            "   [1.56739639e+02 7.87396469e+01 5.83111191e+01]\n",
            "   [1.63668152e+02 8.46681595e+01 6.96681595e+01]\n",
            "   [1.69540970e+02 8.75409698e+01 7.55409698e+01]]]\n",
            "\n",
            "\n",
            " [[[2.78265305e+01 5.60561218e+01 3.40561218e+01]\n",
            "   [2.60969391e+01 4.93775482e+01 2.92602024e+01]\n",
            "   [2.16479568e+01 3.80051003e+01 2.26479568e+01]\n",
            "   ...\n",
            "   [1.13623028e+01 1.75664005e+01 1.30000219e+01]\n",
            "   [5.66837215e+00 1.20255146e+01 6.95408630e+00]\n",
            "   [9.29078865e+00 1.73622169e+01 1.00050745e+01]]\n",
            "\n",
            "  [[2.78061218e+01 5.25714264e+01 3.36887741e+01]\n",
            "   [2.93520412e+01 5.01530609e+01 3.33622437e+01]\n",
            "   [2.19285698e+01 3.55867310e+01 2.32857132e+01]\n",
            "   ...\n",
            "   [1.14592237e+01 1.80306969e+01 1.11735315e+01]\n",
            "   [3.06127501e+00 1.27959728e+01 4.92352104e+00]\n",
            "   [8.55081654e+00 1.86936741e+01 1.05508165e+01]]\n",
            "\n",
            "  [[3.46989784e+01 5.34948997e+01 3.87755089e+01]\n",
            "   [3.03928566e+01 4.42806091e+01 3.35510178e+01]\n",
            "   [7.79591656e+00 1.94591808e+01 9.29081440e+00]\n",
            "   ...\n",
            "   [1.16837425e+01 1.85919151e+01 1.14235430e+01]\n",
            "   [1.88271022e+00 1.10868034e+01 2.68373346e+00]\n",
            "   [1.03519297e+01 2.23519287e+01 1.23519297e+01]]\n",
            "\n",
            "  ...\n",
            "\n",
            "  [[4.10815163e+01 5.16529274e+01 5.58672218e+01]\n",
            "   [1.26070976e+01 2.23928032e+01 2.50356865e+01]\n",
            "   [1.49845285e+01 2.40049133e+01 2.63416538e+01]\n",
            "   ...\n",
            "   [2.93010807e+01 3.48979568e+01 3.88214378e+01]\n",
            "   [1.48315125e+01 1.98315125e+01 2.36172180e+01]\n",
            "   [8.06634235e+00 1.20663424e+01 1.46377535e+01]]\n",
            "\n",
            "  [[1.48568459e+01 2.29282570e+01 2.60710793e+01]\n",
            "   [9.33673859e+00 1.74081497e+01 2.05509720e+01]\n",
            "   [0.00000000e+00 5.87242746e+00 8.12751961e+00]\n",
            "   ...\n",
            "   [2.12957306e+01 2.67242584e+01 3.11527863e+01]\n",
            "   [1.00560446e+01 1.59846334e+01 1.61988678e+01]\n",
            "   [7.59691763e+00 1.15969172e+01 1.07397394e+01]]\n",
            "\n",
            "  [[3.39794087e+00 5.69897699e+00 8.05612373e+00]\n",
            "   [8.31640601e-01 3.63777089e+00 5.35206509e+00]\n",
            "   [2.92855835e+00 6.92855835e+00 7.65304995e+00]\n",
            "   ...\n",
            "   [1.10101643e+01 1.64386921e+01 2.08672199e+01]\n",
            "   [6.76022100e+00 1.27602205e+01 1.27602205e+01]\n",
            "   [8.87243462e+00 1.38724346e+01 9.87243462e+00]]]\n",
            "\n",
            "\n",
            " [[[1.95387756e+02 1.97387756e+02 1.58387756e+02]\n",
            "   [1.97214279e+02 1.99214279e+02 1.62214279e+02]\n",
            "   [2.06214294e+02 2.07642868e+02 1.76285721e+02]\n",
            "   ...\n",
            "   [1.87142792e+02 1.81280533e+02 1.58719299e+02]\n",
            "   [1.94515472e+02 1.89872620e+02 1.66801193e+02]\n",
            "   [2.13178421e+02 2.08178421e+02 1.87464127e+02]]\n",
            "\n",
            "  [[1.61719391e+02 1.63719391e+02 1.24719383e+02]\n",
            "   [1.85158157e+02 1.86295914e+02 1.51882660e+02]\n",
            "   [1.92239792e+02 1.93224487e+02 1.61484695e+02]\n",
            "   ...\n",
            "   [1.51433762e+02 1.48520477e+02 1.33234772e+02]\n",
            "   [1.54301010e+02 1.51505112e+02 1.34153061e+02]\n",
            "   [1.63740005e+02 1.61668579e+02 1.46382858e+02]]\n",
            "\n",
            "  [[9.38775558e+01 9.48775558e+01 6.13061218e+01]\n",
            "   [1.25581635e+02 1.26581635e+02 9.30102081e+01]\n",
            "   [1.40204086e+02 1.41204086e+02 1.09418365e+02]\n",
            "   ...\n",
            "   [8.85614319e+01 8.89899826e+01 8.20613708e+01]\n",
            "   [8.97245255e+01 9.09388123e+01 8.35816727e+01]\n",
            "   [9.68111191e+01 9.88162994e+01 9.11019821e+01]]\n",
            "\n",
            "  ...\n",
            "\n",
            "  [[1.37806442e+02 6.65206833e+01 1.10920887e+01]\n",
            "   [1.45025818e+02 7.24543457e+01 1.76686115e+01]\n",
            "   [1.44928970e+02 7.01891174e+01 1.62145920e+01]\n",
            "   ...\n",
            "   [6.43367081e+01 3.04285278e+01 3.85705566e+00]\n",
            "   [7.46887131e+01 3.86887131e+01 1.66887131e+01]\n",
            "   [7.32857666e+01 3.52857666e+01 1.62857666e+01]]\n",
            "\n",
            "  [[1.49790817e+02 7.58622742e+01 1.05765057e+01]\n",
            "   [1.64428574e+02 8.94948959e+01 2.42805748e+01]\n",
            "   [1.56658096e+02 8.14591217e+01 1.68570385e+01]\n",
            "   ...\n",
            "   [7.16735916e+01 3.68878517e+01 6.11748600e+00]\n",
            "   [7.93927536e+01 4.33927536e+01 1.93927517e+01]\n",
            "   [7.56635666e+01 3.86635666e+01 1.96635647e+01]]\n",
            "\n",
            "  [[1.60020477e+02 8.60204697e+01 1.23061171e+01]\n",
            "   [1.67556107e+02 9.35560989e+01 1.98417454e+01]\n",
            "   [1.64653320e+02 8.85768204e+01 1.57961082e+01]\n",
            "   ...\n",
            "   [6.66784134e+01 3.18926754e+01 2.29590893e-01]\n",
            "   [7.11990891e+01 3.51990891e+01 9.34197235e+00]\n",
            "   [8.79184036e+01 5.09184074e+01 3.19184074e+01]]]], shape=(32, 224, 224, 3), dtype=float32) tf.Tensor(\n",
            "[[0. 0. 0. 0. 0. 0. 0. 0. 1. 0.]\n",
            " [0. 0. 1. 0. 0. 0. 0. 0. 0. 0.]\n",
            " [0. 0. 0. 0. 0. 1. 0. 0. 0. 0.]\n",
            " [0. 0. 0. 0. 0. 0. 0. 0. 1. 0.]\n",
            " [1. 0. 0. 0. 0. 0. 0. 0. 0. 0.]\n",
            " [1. 0. 0. 0. 0. 0. 0. 0. 0. 0.]\n",
            " [0. 0. 0. 0. 0. 0. 0. 1. 0. 0.]\n",
            " [0. 0. 0. 0. 0. 0. 0. 0. 0. 1.]\n",
            " [0. 0. 0. 0. 0. 0. 1. 0. 0. 0.]\n",
            " [0. 0. 0. 0. 0. 0. 0. 0. 0. 1.]\n",
            " [0. 0. 0. 0. 0. 0. 0. 1. 0. 0.]\n",
            " [0. 1. 0. 0. 0. 0. 0. 0. 0. 0.]\n",
            " [0. 0. 0. 0. 0. 0. 0. 1. 0. 0.]\n",
            " [0. 0. 0. 0. 0. 0. 0. 1. 0. 0.]\n",
            " [0. 0. 0. 1. 0. 0. 0. 0. 0. 0.]\n",
            " [1. 0. 0. 0. 0. 0. 0. 0. 0. 0.]\n",
            " [0. 0. 0. 0. 0. 0. 0. 0. 0. 1.]\n",
            " [0. 1. 0. 0. 0. 0. 0. 0. 0. 0.]\n",
            " [0. 0. 0. 1. 0. 0. 0. 0. 0. 0.]\n",
            " [0. 0. 0. 0. 0. 0. 0. 1. 0. 0.]\n",
            " [0. 0. 0. 0. 1. 0. 0. 0. 0. 0.]\n",
            " [0. 0. 0. 1. 0. 0. 0. 0. 0. 0.]\n",
            " [0. 0. 0. 0. 0. 0. 0. 1. 0. 0.]\n",
            " [0. 0. 0. 0. 1. 0. 0. 0. 0. 0.]\n",
            " [0. 1. 0. 0. 0. 0. 0. 0. 0. 0.]\n",
            " [0. 0. 0. 1. 0. 0. 0. 0. 0. 0.]\n",
            " [0. 0. 0. 0. 0. 1. 0. 0. 0. 0.]\n",
            " [0. 0. 0. 0. 0. 1. 0. 0. 0. 0.]\n",
            " [0. 0. 0. 0. 0. 0. 1. 0. 0. 0.]\n",
            " [0. 0. 1. 0. 0. 0. 0. 0. 0. 0.]\n",
            " [0. 0. 0. 0. 1. 0. 0. 0. 0. 0.]\n",
            " [0. 1. 0. 0. 0. 0. 0. 0. 0. 0.]], shape=(32, 10), dtype=float32)\n"
          ]
        }
      ]
    },
    {
      "cell_type": "markdown",
      "source": [
        "## Model 0: Building a transfer learning feature extraction model using the Keras Functional API\n",
        "\n",
        "The sequential API is straight-forward, it runs our layers in sequential order.\n",
        "\n",
        "But the functional API gives us more flexibility with our models."
      ],
      "metadata": {
        "id": "A0UKns22tOPD"
      }
    },
    {
      "cell_type": "code",
      "source": [
        "# 1. Create base model with tf.keras.applications\n",
        "base_model = tf.keras.applications.EfficientNetB0(include_top=False)\n",
        "\n",
        "# 2. Freeze the base model (so the underlying pre-trained patterns aren't updated)\n",
        "base_model.trainable = False\n",
        "\n",
        "# 3. Create inputs into our model\n",
        "inputs = tf.keras.layers.Input(shape=(224, 224, 3), name=\"input_layer\")\n",
        "\n",
        "# 4. If using ResNet50V2 you will need to normalize inputs\n",
        "#x = tf.keras.layers.experimental.preprocessing.Rescaling(1/255.)(inputs)\n",
        "\n",
        "# 5. Pass the inputs to the base_model\n",
        "x = base_model(inputs)\n",
        "print(f\"Shape after passing inputs through base model: {x.shape}\")\n",
        "\n",
        "# 6. Averate pool the outputs of the base model (aggregate all the most important information, reduce number of computations)\n",
        "x = tf.keras.layers.GlobalAveragePooling2D(name=\"global_average_pooling_layer\")(x)\n",
        "print(f\"Shape after GlobalAveragePooling2D: {x.shape}\")\n",
        "\n",
        "# 7. Create the output activation layer\n",
        "outputs = tf.keras.layers.Dense(10, activation=\"softmax\", name=\"output_layer\")(x)\n",
        "\n",
        "# 8. Combine the inputs with the outputs into a model\n",
        "model_0 = tf.keras.Model(inputs, outputs)\n",
        "\n",
        "# 9. Compiling the model\n",
        "model_0.compile(loss=\"categorical_crossentropy\",\n",
        "                optimizer=tf.keras.optimizers.Adam(),\n",
        "                metrics=[\"accuracy\"])\n",
        "\n",
        "# 10. Fit the model\n",
        "history_10_percent = model_0.fit(train_data_10_percent,\n",
        "                                 epochs=5,\n",
        "                                 steps_per_epoch=len(train_data_10_percent),\n",
        "                                 validation_data=test_data,\n",
        "                                 validation_steps=int(0.25 * len(test_data)),\n",
        "                                 callbacks=create_tensorboard_callback(dir_name=\"transfer_learning\",\n",
        "                                                                       experiment_name=\"10_percent_feature_extraction\",\n",
        "                                                                       ))"
      ],
      "metadata": {
        "id": "auQzQfUt1H4a",
        "colab": {
          "base_uri": "https://localhost:8080/"
        },
        "outputId": "d3ff818b-9499-44e1-a518-0491f80acb93"
      },
      "execution_count": 54,
      "outputs": [
        {
          "output_type": "stream",
          "name": "stdout",
          "text": [
            "Shape after passing inputs through base model: (None, 7, 7, 1280)\n",
            "Shape after GlobalAveragePooling2D: (None, 1280)\n",
            "Saving TensorBoard log files to: transfer_learning/10_percent_feature_extraction/20220704-080500\n",
            "Epoch 1/5\n",
            "24/24 [==============================] - 20s 338ms/step - loss: 1.8765 - accuracy: 0.3827 - val_loss: 1.3213 - val_accuracy: 0.6793\n",
            "Epoch 2/5\n",
            "24/24 [==============================] - 6s 188ms/step - loss: 1.1357 - accuracy: 0.7160 - val_loss: 0.9017 - val_accuracy: 0.7977\n",
            "Epoch 3/5\n",
            "24/24 [==============================] - 4s 156ms/step - loss: 0.8426 - accuracy: 0.7987 - val_loss: 0.7451 - val_accuracy: 0.8174\n",
            "Epoch 4/5\n",
            "24/24 [==============================] - 5s 188ms/step - loss: 0.6934 - accuracy: 0.8333 - val_loss: 0.6643 - val_accuracy: 0.8355\n",
            "Epoch 5/5\n",
            "24/24 [==============================] - 4s 154ms/step - loss: 0.5911 - accuracy: 0.8653 - val_loss: 0.5984 - val_accuracy: 0.8503\n"
          ]
        }
      ]
    },
    {
      "cell_type": "code",
      "source": [
        "# Evaluate on the full test dataset\n",
        "model_0.evaluate(test_data)"
      ],
      "metadata": {
        "colab": {
          "base_uri": "https://localhost:8080/"
        },
        "id": "vCcFLOuoRG3M",
        "outputId": "d3f7a176-ed08-4619-b0c6-7a29f805c2df"
      },
      "execution_count": 55,
      "outputs": [
        {
          "output_type": "stream",
          "name": "stdout",
          "text": [
            "79/79 [==============================] - 6s 73ms/step - loss: 0.6088 - accuracy: 0.8436\n"
          ]
        },
        {
          "output_type": "execute_result",
          "data": {
            "text/plain": [
              "[0.6088052988052368, 0.8435999751091003]"
            ]
          },
          "metadata": {},
          "execution_count": 55
        }
      ]
    },
    {
      "cell_type": "code",
      "source": [
        "# Check the layers in our base model\n",
        "for layer_number, layer in enumerate(base_model.layers):\n",
        "  print(f\"{layer_number}: {layer.name} layer\")"
      ],
      "metadata": {
        "colab": {
          "base_uri": "https://localhost:8080/"
        },
        "id": "GWwNMmBlZHzu",
        "outputId": "664d203d-4214-4789-bf0b-e02ef94c41a7"
      },
      "execution_count": 56,
      "outputs": [
        {
          "output_type": "stream",
          "name": "stdout",
          "text": [
            "0: input_2 layer\n",
            "1: rescaling_1 layer\n",
            "2: normalization_1 layer\n",
            "3: stem_conv_pad layer\n",
            "4: stem_conv layer\n",
            "5: stem_bn layer\n",
            "6: stem_activation layer\n",
            "7: block1a_dwconv layer\n",
            "8: block1a_bn layer\n",
            "9: block1a_activation layer\n",
            "10: block1a_se_squeeze layer\n",
            "11: block1a_se_reshape layer\n",
            "12: block1a_se_reduce layer\n",
            "13: block1a_se_expand layer\n",
            "14: block1a_se_excite layer\n",
            "15: block1a_project_conv layer\n",
            "16: block1a_project_bn layer\n",
            "17: block2a_expand_conv layer\n",
            "18: block2a_expand_bn layer\n",
            "19: block2a_expand_activation layer\n",
            "20: block2a_dwconv_pad layer\n",
            "21: block2a_dwconv layer\n",
            "22: block2a_bn layer\n",
            "23: block2a_activation layer\n",
            "24: block2a_se_squeeze layer\n",
            "25: block2a_se_reshape layer\n",
            "26: block2a_se_reduce layer\n",
            "27: block2a_se_expand layer\n",
            "28: block2a_se_excite layer\n",
            "29: block2a_project_conv layer\n",
            "30: block2a_project_bn layer\n",
            "31: block2b_expand_conv layer\n",
            "32: block2b_expand_bn layer\n",
            "33: block2b_expand_activation layer\n",
            "34: block2b_dwconv layer\n",
            "35: block2b_bn layer\n",
            "36: block2b_activation layer\n",
            "37: block2b_se_squeeze layer\n",
            "38: block2b_se_reshape layer\n",
            "39: block2b_se_reduce layer\n",
            "40: block2b_se_expand layer\n",
            "41: block2b_se_excite layer\n",
            "42: block2b_project_conv layer\n",
            "43: block2b_project_bn layer\n",
            "44: block2b_drop layer\n",
            "45: block2b_add layer\n",
            "46: block3a_expand_conv layer\n",
            "47: block3a_expand_bn layer\n",
            "48: block3a_expand_activation layer\n",
            "49: block3a_dwconv_pad layer\n",
            "50: block3a_dwconv layer\n",
            "51: block3a_bn layer\n",
            "52: block3a_activation layer\n",
            "53: block3a_se_squeeze layer\n",
            "54: block3a_se_reshape layer\n",
            "55: block3a_se_reduce layer\n",
            "56: block3a_se_expand layer\n",
            "57: block3a_se_excite layer\n",
            "58: block3a_project_conv layer\n",
            "59: block3a_project_bn layer\n",
            "60: block3b_expand_conv layer\n",
            "61: block3b_expand_bn layer\n",
            "62: block3b_expand_activation layer\n",
            "63: block3b_dwconv layer\n",
            "64: block3b_bn layer\n",
            "65: block3b_activation layer\n",
            "66: block3b_se_squeeze layer\n",
            "67: block3b_se_reshape layer\n",
            "68: block3b_se_reduce layer\n",
            "69: block3b_se_expand layer\n",
            "70: block3b_se_excite layer\n",
            "71: block3b_project_conv layer\n",
            "72: block3b_project_bn layer\n",
            "73: block3b_drop layer\n",
            "74: block3b_add layer\n",
            "75: block4a_expand_conv layer\n",
            "76: block4a_expand_bn layer\n",
            "77: block4a_expand_activation layer\n",
            "78: block4a_dwconv_pad layer\n",
            "79: block4a_dwconv layer\n",
            "80: block4a_bn layer\n",
            "81: block4a_activation layer\n",
            "82: block4a_se_squeeze layer\n",
            "83: block4a_se_reshape layer\n",
            "84: block4a_se_reduce layer\n",
            "85: block4a_se_expand layer\n",
            "86: block4a_se_excite layer\n",
            "87: block4a_project_conv layer\n",
            "88: block4a_project_bn layer\n",
            "89: block4b_expand_conv layer\n",
            "90: block4b_expand_bn layer\n",
            "91: block4b_expand_activation layer\n",
            "92: block4b_dwconv layer\n",
            "93: block4b_bn layer\n",
            "94: block4b_activation layer\n",
            "95: block4b_se_squeeze layer\n",
            "96: block4b_se_reshape layer\n",
            "97: block4b_se_reduce layer\n",
            "98: block4b_se_expand layer\n",
            "99: block4b_se_excite layer\n",
            "100: block4b_project_conv layer\n",
            "101: block4b_project_bn layer\n",
            "102: block4b_drop layer\n",
            "103: block4b_add layer\n",
            "104: block4c_expand_conv layer\n",
            "105: block4c_expand_bn layer\n",
            "106: block4c_expand_activation layer\n",
            "107: block4c_dwconv layer\n",
            "108: block4c_bn layer\n",
            "109: block4c_activation layer\n",
            "110: block4c_se_squeeze layer\n",
            "111: block4c_se_reshape layer\n",
            "112: block4c_se_reduce layer\n",
            "113: block4c_se_expand layer\n",
            "114: block4c_se_excite layer\n",
            "115: block4c_project_conv layer\n",
            "116: block4c_project_bn layer\n",
            "117: block4c_drop layer\n",
            "118: block4c_add layer\n",
            "119: block5a_expand_conv layer\n",
            "120: block5a_expand_bn layer\n",
            "121: block5a_expand_activation layer\n",
            "122: block5a_dwconv layer\n",
            "123: block5a_bn layer\n",
            "124: block5a_activation layer\n",
            "125: block5a_se_squeeze layer\n",
            "126: block5a_se_reshape layer\n",
            "127: block5a_se_reduce layer\n",
            "128: block5a_se_expand layer\n",
            "129: block5a_se_excite layer\n",
            "130: block5a_project_conv layer\n",
            "131: block5a_project_bn layer\n",
            "132: block5b_expand_conv layer\n",
            "133: block5b_expand_bn layer\n",
            "134: block5b_expand_activation layer\n",
            "135: block5b_dwconv layer\n",
            "136: block5b_bn layer\n",
            "137: block5b_activation layer\n",
            "138: block5b_se_squeeze layer\n",
            "139: block5b_se_reshape layer\n",
            "140: block5b_se_reduce layer\n",
            "141: block5b_se_expand layer\n",
            "142: block5b_se_excite layer\n",
            "143: block5b_project_conv layer\n",
            "144: block5b_project_bn layer\n",
            "145: block5b_drop layer\n",
            "146: block5b_add layer\n",
            "147: block5c_expand_conv layer\n",
            "148: block5c_expand_bn layer\n",
            "149: block5c_expand_activation layer\n",
            "150: block5c_dwconv layer\n",
            "151: block5c_bn layer\n",
            "152: block5c_activation layer\n",
            "153: block5c_se_squeeze layer\n",
            "154: block5c_se_reshape layer\n",
            "155: block5c_se_reduce layer\n",
            "156: block5c_se_expand layer\n",
            "157: block5c_se_excite layer\n",
            "158: block5c_project_conv layer\n",
            "159: block5c_project_bn layer\n",
            "160: block5c_drop layer\n",
            "161: block5c_add layer\n",
            "162: block6a_expand_conv layer\n",
            "163: block6a_expand_bn layer\n",
            "164: block6a_expand_activation layer\n",
            "165: block6a_dwconv_pad layer\n",
            "166: block6a_dwconv layer\n",
            "167: block6a_bn layer\n",
            "168: block6a_activation layer\n",
            "169: block6a_se_squeeze layer\n",
            "170: block6a_se_reshape layer\n",
            "171: block6a_se_reduce layer\n",
            "172: block6a_se_expand layer\n",
            "173: block6a_se_excite layer\n",
            "174: block6a_project_conv layer\n",
            "175: block6a_project_bn layer\n",
            "176: block6b_expand_conv layer\n",
            "177: block6b_expand_bn layer\n",
            "178: block6b_expand_activation layer\n",
            "179: block6b_dwconv layer\n",
            "180: block6b_bn layer\n",
            "181: block6b_activation layer\n",
            "182: block6b_se_squeeze layer\n",
            "183: block6b_se_reshape layer\n",
            "184: block6b_se_reduce layer\n",
            "185: block6b_se_expand layer\n",
            "186: block6b_se_excite layer\n",
            "187: block6b_project_conv layer\n",
            "188: block6b_project_bn layer\n",
            "189: block6b_drop layer\n",
            "190: block6b_add layer\n",
            "191: block6c_expand_conv layer\n",
            "192: block6c_expand_bn layer\n",
            "193: block6c_expand_activation layer\n",
            "194: block6c_dwconv layer\n",
            "195: block6c_bn layer\n",
            "196: block6c_activation layer\n",
            "197: block6c_se_squeeze layer\n",
            "198: block6c_se_reshape layer\n",
            "199: block6c_se_reduce layer\n",
            "200: block6c_se_expand layer\n",
            "201: block6c_se_excite layer\n",
            "202: block6c_project_conv layer\n",
            "203: block6c_project_bn layer\n",
            "204: block6c_drop layer\n",
            "205: block6c_add layer\n",
            "206: block6d_expand_conv layer\n",
            "207: block6d_expand_bn layer\n",
            "208: block6d_expand_activation layer\n",
            "209: block6d_dwconv layer\n",
            "210: block6d_bn layer\n",
            "211: block6d_activation layer\n",
            "212: block6d_se_squeeze layer\n",
            "213: block6d_se_reshape layer\n",
            "214: block6d_se_reduce layer\n",
            "215: block6d_se_expand layer\n",
            "216: block6d_se_excite layer\n",
            "217: block6d_project_conv layer\n",
            "218: block6d_project_bn layer\n",
            "219: block6d_drop layer\n",
            "220: block6d_add layer\n",
            "221: block7a_expand_conv layer\n",
            "222: block7a_expand_bn layer\n",
            "223: block7a_expand_activation layer\n",
            "224: block7a_dwconv layer\n",
            "225: block7a_bn layer\n",
            "226: block7a_activation layer\n",
            "227: block7a_se_squeeze layer\n",
            "228: block7a_se_reshape layer\n",
            "229: block7a_se_reduce layer\n",
            "230: block7a_se_expand layer\n",
            "231: block7a_se_excite layer\n",
            "232: block7a_project_conv layer\n",
            "233: block7a_project_bn layer\n",
            "234: top_conv layer\n",
            "235: top_bn layer\n",
            "236: top_activation layer\n"
          ]
        }
      ]
    },
    {
      "cell_type": "code",
      "source": [
        "# How about we get a summary of the base model?\n",
        "base_model.summary()"
      ],
      "metadata": {
        "colab": {
          "base_uri": "https://localhost:8080/"
        },
        "id": "dZa-J-yrZz0Z",
        "outputId": "8929b4dc-b8ca-43ac-c6c8-9440381d6a31"
      },
      "execution_count": 57,
      "outputs": [
        {
          "output_type": "stream",
          "name": "stdout",
          "text": [
            "Model: \"efficientnetb0\"\n",
            "__________________________________________________________________________________________________\n",
            " Layer (type)                   Output Shape         Param #     Connected to                     \n",
            "==================================================================================================\n",
            " input_2 (InputLayer)           [(None, None, None,  0           []                               \n",
            "                                 3)]                                                              \n",
            "                                                                                                  \n",
            " rescaling_1 (Rescaling)        (None, None, None,   0           ['input_2[0][0]']                \n",
            "                                3)                                                                \n",
            "                                                                                                  \n",
            " normalization_1 (Normalization  (None, None, None,   7          ['rescaling_1[0][0]']            \n",
            " )                              3)                                                                \n",
            "                                                                                                  \n",
            " stem_conv_pad (ZeroPadding2D)  (None, None, None,   0           ['normalization_1[0][0]']        \n",
            "                                3)                                                                \n",
            "                                                                                                  \n",
            " stem_conv (Conv2D)             (None, None, None,   864         ['stem_conv_pad[0][0]']          \n",
            "                                32)                                                               \n",
            "                                                                                                  \n",
            " stem_bn (BatchNormalization)   (None, None, None,   128         ['stem_conv[0][0]']              \n",
            "                                32)                                                               \n",
            "                                                                                                  \n",
            " stem_activation (Activation)   (None, None, None,   0           ['stem_bn[0][0]']                \n",
            "                                32)                                                               \n",
            "                                                                                                  \n",
            " block1a_dwconv (DepthwiseConv2  (None, None, None,   288        ['stem_activation[0][0]']        \n",
            " D)                             32)                                                               \n",
            "                                                                                                  \n",
            " block1a_bn (BatchNormalization  (None, None, None,   128        ['block1a_dwconv[0][0]']         \n",
            " )                              32)                                                               \n",
            "                                                                                                  \n",
            " block1a_activation (Activation  (None, None, None,   0          ['block1a_bn[0][0]']             \n",
            " )                              32)                                                               \n",
            "                                                                                                  \n",
            " block1a_se_squeeze (GlobalAver  (None, 32)          0           ['block1a_activation[0][0]']     \n",
            " agePooling2D)                                                                                    \n",
            "                                                                                                  \n",
            " block1a_se_reshape (Reshape)   (None, 1, 1, 32)     0           ['block1a_se_squeeze[0][0]']     \n",
            "                                                                                                  \n",
            " block1a_se_reduce (Conv2D)     (None, 1, 1, 8)      264         ['block1a_se_reshape[0][0]']     \n",
            "                                                                                                  \n",
            " block1a_se_expand (Conv2D)     (None, 1, 1, 32)     288         ['block1a_se_reduce[0][0]']      \n",
            "                                                                                                  \n",
            " block1a_se_excite (Multiply)   (None, None, None,   0           ['block1a_activation[0][0]',     \n",
            "                                32)                               'block1a_se_expand[0][0]']      \n",
            "                                                                                                  \n",
            " block1a_project_conv (Conv2D)  (None, None, None,   512         ['block1a_se_excite[0][0]']      \n",
            "                                16)                                                               \n",
            "                                                                                                  \n",
            " block1a_project_bn (BatchNorma  (None, None, None,   64         ['block1a_project_conv[0][0]']   \n",
            " lization)                      16)                                                               \n",
            "                                                                                                  \n",
            " block2a_expand_conv (Conv2D)   (None, None, None,   1536        ['block1a_project_bn[0][0]']     \n",
            "                                96)                                                               \n",
            "                                                                                                  \n",
            " block2a_expand_bn (BatchNormal  (None, None, None,   384        ['block2a_expand_conv[0][0]']    \n",
            " ization)                       96)                                                               \n",
            "                                                                                                  \n",
            " block2a_expand_activation (Act  (None, None, None,   0          ['block2a_expand_bn[0][0]']      \n",
            " ivation)                       96)                                                               \n",
            "                                                                                                  \n",
            " block2a_dwconv_pad (ZeroPaddin  (None, None, None,   0          ['block2a_expand_activation[0][0]\n",
            " g2D)                           96)                              ']                               \n",
            "                                                                                                  \n",
            " block2a_dwconv (DepthwiseConv2  (None, None, None,   864        ['block2a_dwconv_pad[0][0]']     \n",
            " D)                             96)                                                               \n",
            "                                                                                                  \n",
            " block2a_bn (BatchNormalization  (None, None, None,   384        ['block2a_dwconv[0][0]']         \n",
            " )                              96)                                                               \n",
            "                                                                                                  \n",
            " block2a_activation (Activation  (None, None, None,   0          ['block2a_bn[0][0]']             \n",
            " )                              96)                                                               \n",
            "                                                                                                  \n",
            " block2a_se_squeeze (GlobalAver  (None, 96)          0           ['block2a_activation[0][0]']     \n",
            " agePooling2D)                                                                                    \n",
            "                                                                                                  \n",
            " block2a_se_reshape (Reshape)   (None, 1, 1, 96)     0           ['block2a_se_squeeze[0][0]']     \n",
            "                                                                                                  \n",
            " block2a_se_reduce (Conv2D)     (None, 1, 1, 4)      388         ['block2a_se_reshape[0][0]']     \n",
            "                                                                                                  \n",
            " block2a_se_expand (Conv2D)     (None, 1, 1, 96)     480         ['block2a_se_reduce[0][0]']      \n",
            "                                                                                                  \n",
            " block2a_se_excite (Multiply)   (None, None, None,   0           ['block2a_activation[0][0]',     \n",
            "                                96)                               'block2a_se_expand[0][0]']      \n",
            "                                                                                                  \n",
            " block2a_project_conv (Conv2D)  (None, None, None,   2304        ['block2a_se_excite[0][0]']      \n",
            "                                24)                                                               \n",
            "                                                                                                  \n",
            " block2a_project_bn (BatchNorma  (None, None, None,   96         ['block2a_project_conv[0][0]']   \n",
            " lization)                      24)                                                               \n",
            "                                                                                                  \n",
            " block2b_expand_conv (Conv2D)   (None, None, None,   3456        ['block2a_project_bn[0][0]']     \n",
            "                                144)                                                              \n",
            "                                                                                                  \n",
            " block2b_expand_bn (BatchNormal  (None, None, None,   576        ['block2b_expand_conv[0][0]']    \n",
            " ization)                       144)                                                              \n",
            "                                                                                                  \n",
            " block2b_expand_activation (Act  (None, None, None,   0          ['block2b_expand_bn[0][0]']      \n",
            " ivation)                       144)                                                              \n",
            "                                                                                                  \n",
            " block2b_dwconv (DepthwiseConv2  (None, None, None,   1296       ['block2b_expand_activation[0][0]\n",
            " D)                             144)                             ']                               \n",
            "                                                                                                  \n",
            " block2b_bn (BatchNormalization  (None, None, None,   576        ['block2b_dwconv[0][0]']         \n",
            " )                              144)                                                              \n",
            "                                                                                                  \n",
            " block2b_activation (Activation  (None, None, None,   0          ['block2b_bn[0][0]']             \n",
            " )                              144)                                                              \n",
            "                                                                                                  \n",
            " block2b_se_squeeze (GlobalAver  (None, 144)         0           ['block2b_activation[0][0]']     \n",
            " agePooling2D)                                                                                    \n",
            "                                                                                                  \n",
            " block2b_se_reshape (Reshape)   (None, 1, 1, 144)    0           ['block2b_se_squeeze[0][0]']     \n",
            "                                                                                                  \n",
            " block2b_se_reduce (Conv2D)     (None, 1, 1, 6)      870         ['block2b_se_reshape[0][0]']     \n",
            "                                                                                                  \n",
            " block2b_se_expand (Conv2D)     (None, 1, 1, 144)    1008        ['block2b_se_reduce[0][0]']      \n",
            "                                                                                                  \n",
            " block2b_se_excite (Multiply)   (None, None, None,   0           ['block2b_activation[0][0]',     \n",
            "                                144)                              'block2b_se_expand[0][0]']      \n",
            "                                                                                                  \n",
            " block2b_project_conv (Conv2D)  (None, None, None,   3456        ['block2b_se_excite[0][0]']      \n",
            "                                24)                                                               \n",
            "                                                                                                  \n",
            " block2b_project_bn (BatchNorma  (None, None, None,   96         ['block2b_project_conv[0][0]']   \n",
            " lization)                      24)                                                               \n",
            "                                                                                                  \n",
            " block2b_drop (Dropout)         (None, None, None,   0           ['block2b_project_bn[0][0]']     \n",
            "                                24)                                                               \n",
            "                                                                                                  \n",
            " block2b_add (Add)              (None, None, None,   0           ['block2b_drop[0][0]',           \n",
            "                                24)                               'block2a_project_bn[0][0]']     \n",
            "                                                                                                  \n",
            " block3a_expand_conv (Conv2D)   (None, None, None,   3456        ['block2b_add[0][0]']            \n",
            "                                144)                                                              \n",
            "                                                                                                  \n",
            " block3a_expand_bn (BatchNormal  (None, None, None,   576        ['block3a_expand_conv[0][0]']    \n",
            " ization)                       144)                                                              \n",
            "                                                                                                  \n",
            " block3a_expand_activation (Act  (None, None, None,   0          ['block3a_expand_bn[0][0]']      \n",
            " ivation)                       144)                                                              \n",
            "                                                                                                  \n",
            " block3a_dwconv_pad (ZeroPaddin  (None, None, None,   0          ['block3a_expand_activation[0][0]\n",
            " g2D)                           144)                             ']                               \n",
            "                                                                                                  \n",
            " block3a_dwconv (DepthwiseConv2  (None, None, None,   3600       ['block3a_dwconv_pad[0][0]']     \n",
            " D)                             144)                                                              \n",
            "                                                                                                  \n",
            " block3a_bn (BatchNormalization  (None, None, None,   576        ['block3a_dwconv[0][0]']         \n",
            " )                              144)                                                              \n",
            "                                                                                                  \n",
            " block3a_activation (Activation  (None, None, None,   0          ['block3a_bn[0][0]']             \n",
            " )                              144)                                                              \n",
            "                                                                                                  \n",
            " block3a_se_squeeze (GlobalAver  (None, 144)         0           ['block3a_activation[0][0]']     \n",
            " agePooling2D)                                                                                    \n",
            "                                                                                                  \n",
            " block3a_se_reshape (Reshape)   (None, 1, 1, 144)    0           ['block3a_se_squeeze[0][0]']     \n",
            "                                                                                                  \n",
            " block3a_se_reduce (Conv2D)     (None, 1, 1, 6)      870         ['block3a_se_reshape[0][0]']     \n",
            "                                                                                                  \n",
            " block3a_se_expand (Conv2D)     (None, 1, 1, 144)    1008        ['block3a_se_reduce[0][0]']      \n",
            "                                                                                                  \n",
            " block3a_se_excite (Multiply)   (None, None, None,   0           ['block3a_activation[0][0]',     \n",
            "                                144)                              'block3a_se_expand[0][0]']      \n",
            "                                                                                                  \n",
            " block3a_project_conv (Conv2D)  (None, None, None,   5760        ['block3a_se_excite[0][0]']      \n",
            "                                40)                                                               \n",
            "                                                                                                  \n",
            " block3a_project_bn (BatchNorma  (None, None, None,   160        ['block3a_project_conv[0][0]']   \n",
            " lization)                      40)                                                               \n",
            "                                                                                                  \n",
            " block3b_expand_conv (Conv2D)   (None, None, None,   9600        ['block3a_project_bn[0][0]']     \n",
            "                                240)                                                              \n",
            "                                                                                                  \n",
            " block3b_expand_bn (BatchNormal  (None, None, None,   960        ['block3b_expand_conv[0][0]']    \n",
            " ization)                       240)                                                              \n",
            "                                                                                                  \n",
            " block3b_expand_activation (Act  (None, None, None,   0          ['block3b_expand_bn[0][0]']      \n",
            " ivation)                       240)                                                              \n",
            "                                                                                                  \n",
            " block3b_dwconv (DepthwiseConv2  (None, None, None,   6000       ['block3b_expand_activation[0][0]\n",
            " D)                             240)                             ']                               \n",
            "                                                                                                  \n",
            " block3b_bn (BatchNormalization  (None, None, None,   960        ['block3b_dwconv[0][0]']         \n",
            " )                              240)                                                              \n",
            "                                                                                                  \n",
            " block3b_activation (Activation  (None, None, None,   0          ['block3b_bn[0][0]']             \n",
            " )                              240)                                                              \n",
            "                                                                                                  \n",
            " block3b_se_squeeze (GlobalAver  (None, 240)         0           ['block3b_activation[0][0]']     \n",
            " agePooling2D)                                                                                    \n",
            "                                                                                                  \n",
            " block3b_se_reshape (Reshape)   (None, 1, 1, 240)    0           ['block3b_se_squeeze[0][0]']     \n",
            "                                                                                                  \n",
            " block3b_se_reduce (Conv2D)     (None, 1, 1, 10)     2410        ['block3b_se_reshape[0][0]']     \n",
            "                                                                                                  \n",
            " block3b_se_expand (Conv2D)     (None, 1, 1, 240)    2640        ['block3b_se_reduce[0][0]']      \n",
            "                                                                                                  \n",
            " block3b_se_excite (Multiply)   (None, None, None,   0           ['block3b_activation[0][0]',     \n",
            "                                240)                              'block3b_se_expand[0][0]']      \n",
            "                                                                                                  \n",
            " block3b_project_conv (Conv2D)  (None, None, None,   9600        ['block3b_se_excite[0][0]']      \n",
            "                                40)                                                               \n",
            "                                                                                                  \n",
            " block3b_project_bn (BatchNorma  (None, None, None,   160        ['block3b_project_conv[0][0]']   \n",
            " lization)                      40)                                                               \n",
            "                                                                                                  \n",
            " block3b_drop (Dropout)         (None, None, None,   0           ['block3b_project_bn[0][0]']     \n",
            "                                40)                                                               \n",
            "                                                                                                  \n",
            " block3b_add (Add)              (None, None, None,   0           ['block3b_drop[0][0]',           \n",
            "                                40)                               'block3a_project_bn[0][0]']     \n",
            "                                                                                                  \n",
            " block4a_expand_conv (Conv2D)   (None, None, None,   9600        ['block3b_add[0][0]']            \n",
            "                                240)                                                              \n",
            "                                                                                                  \n",
            " block4a_expand_bn (BatchNormal  (None, None, None,   960        ['block4a_expand_conv[0][0]']    \n",
            " ization)                       240)                                                              \n",
            "                                                                                                  \n",
            " block4a_expand_activation (Act  (None, None, None,   0          ['block4a_expand_bn[0][0]']      \n",
            " ivation)                       240)                                                              \n",
            "                                                                                                  \n",
            " block4a_dwconv_pad (ZeroPaddin  (None, None, None,   0          ['block4a_expand_activation[0][0]\n",
            " g2D)                           240)                             ']                               \n",
            "                                                                                                  \n",
            " block4a_dwconv (DepthwiseConv2  (None, None, None,   2160       ['block4a_dwconv_pad[0][0]']     \n",
            " D)                             240)                                                              \n",
            "                                                                                                  \n",
            " block4a_bn (BatchNormalization  (None, None, None,   960        ['block4a_dwconv[0][0]']         \n",
            " )                              240)                                                              \n",
            "                                                                                                  \n",
            " block4a_activation (Activation  (None, None, None,   0          ['block4a_bn[0][0]']             \n",
            " )                              240)                                                              \n",
            "                                                                                                  \n",
            " block4a_se_squeeze (GlobalAver  (None, 240)         0           ['block4a_activation[0][0]']     \n",
            " agePooling2D)                                                                                    \n",
            "                                                                                                  \n",
            " block4a_se_reshape (Reshape)   (None, 1, 1, 240)    0           ['block4a_se_squeeze[0][0]']     \n",
            "                                                                                                  \n",
            " block4a_se_reduce (Conv2D)     (None, 1, 1, 10)     2410        ['block4a_se_reshape[0][0]']     \n",
            "                                                                                                  \n",
            " block4a_se_expand (Conv2D)     (None, 1, 1, 240)    2640        ['block4a_se_reduce[0][0]']      \n",
            "                                                                                                  \n",
            " block4a_se_excite (Multiply)   (None, None, None,   0           ['block4a_activation[0][0]',     \n",
            "                                240)                              'block4a_se_expand[0][0]']      \n",
            "                                                                                                  \n",
            " block4a_project_conv (Conv2D)  (None, None, None,   19200       ['block4a_se_excite[0][0]']      \n",
            "                                80)                                                               \n",
            "                                                                                                  \n",
            " block4a_project_bn (BatchNorma  (None, None, None,   320        ['block4a_project_conv[0][0]']   \n",
            " lization)                      80)                                                               \n",
            "                                                                                                  \n",
            " block4b_expand_conv (Conv2D)   (None, None, None,   38400       ['block4a_project_bn[0][0]']     \n",
            "                                480)                                                              \n",
            "                                                                                                  \n",
            " block4b_expand_bn (BatchNormal  (None, None, None,   1920       ['block4b_expand_conv[0][0]']    \n",
            " ization)                       480)                                                              \n",
            "                                                                                                  \n",
            " block4b_expand_activation (Act  (None, None, None,   0          ['block4b_expand_bn[0][0]']      \n",
            " ivation)                       480)                                                              \n",
            "                                                                                                  \n",
            " block4b_dwconv (DepthwiseConv2  (None, None, None,   4320       ['block4b_expand_activation[0][0]\n",
            " D)                             480)                             ']                               \n",
            "                                                                                                  \n",
            " block4b_bn (BatchNormalization  (None, None, None,   1920       ['block4b_dwconv[0][0]']         \n",
            " )                              480)                                                              \n",
            "                                                                                                  \n",
            " block4b_activation (Activation  (None, None, None,   0          ['block4b_bn[0][0]']             \n",
            " )                              480)                                                              \n",
            "                                                                                                  \n",
            " block4b_se_squeeze (GlobalAver  (None, 480)         0           ['block4b_activation[0][0]']     \n",
            " agePooling2D)                                                                                    \n",
            "                                                                                                  \n",
            " block4b_se_reshape (Reshape)   (None, 1, 1, 480)    0           ['block4b_se_squeeze[0][0]']     \n",
            "                                                                                                  \n",
            " block4b_se_reduce (Conv2D)     (None, 1, 1, 20)     9620        ['block4b_se_reshape[0][0]']     \n",
            "                                                                                                  \n",
            " block4b_se_expand (Conv2D)     (None, 1, 1, 480)    10080       ['block4b_se_reduce[0][0]']      \n",
            "                                                                                                  \n",
            " block4b_se_excite (Multiply)   (None, None, None,   0           ['block4b_activation[0][0]',     \n",
            "                                480)                              'block4b_se_expand[0][0]']      \n",
            "                                                                                                  \n",
            " block4b_project_conv (Conv2D)  (None, None, None,   38400       ['block4b_se_excite[0][0]']      \n",
            "                                80)                                                               \n",
            "                                                                                                  \n",
            " block4b_project_bn (BatchNorma  (None, None, None,   320        ['block4b_project_conv[0][0]']   \n",
            " lization)                      80)                                                               \n",
            "                                                                                                  \n",
            " block4b_drop (Dropout)         (None, None, None,   0           ['block4b_project_bn[0][0]']     \n",
            "                                80)                                                               \n",
            "                                                                                                  \n",
            " block4b_add (Add)              (None, None, None,   0           ['block4b_drop[0][0]',           \n",
            "                                80)                               'block4a_project_bn[0][0]']     \n",
            "                                                                                                  \n",
            " block4c_expand_conv (Conv2D)   (None, None, None,   38400       ['block4b_add[0][0]']            \n",
            "                                480)                                                              \n",
            "                                                                                                  \n",
            " block4c_expand_bn (BatchNormal  (None, None, None,   1920       ['block4c_expand_conv[0][0]']    \n",
            " ization)                       480)                                                              \n",
            "                                                                                                  \n",
            " block4c_expand_activation (Act  (None, None, None,   0          ['block4c_expand_bn[0][0]']      \n",
            " ivation)                       480)                                                              \n",
            "                                                                                                  \n",
            " block4c_dwconv (DepthwiseConv2  (None, None, None,   4320       ['block4c_expand_activation[0][0]\n",
            " D)                             480)                             ']                               \n",
            "                                                                                                  \n",
            " block4c_bn (BatchNormalization  (None, None, None,   1920       ['block4c_dwconv[0][0]']         \n",
            " )                              480)                                                              \n",
            "                                                                                                  \n",
            " block4c_activation (Activation  (None, None, None,   0          ['block4c_bn[0][0]']             \n",
            " )                              480)                                                              \n",
            "                                                                                                  \n",
            " block4c_se_squeeze (GlobalAver  (None, 480)         0           ['block4c_activation[0][0]']     \n",
            " agePooling2D)                                                                                    \n",
            "                                                                                                  \n",
            " block4c_se_reshape (Reshape)   (None, 1, 1, 480)    0           ['block4c_se_squeeze[0][0]']     \n",
            "                                                                                                  \n",
            " block4c_se_reduce (Conv2D)     (None, 1, 1, 20)     9620        ['block4c_se_reshape[0][0]']     \n",
            "                                                                                                  \n",
            " block4c_se_expand (Conv2D)     (None, 1, 1, 480)    10080       ['block4c_se_reduce[0][0]']      \n",
            "                                                                                                  \n",
            " block4c_se_excite (Multiply)   (None, None, None,   0           ['block4c_activation[0][0]',     \n",
            "                                480)                              'block4c_se_expand[0][0]']      \n",
            "                                                                                                  \n",
            " block4c_project_conv (Conv2D)  (None, None, None,   38400       ['block4c_se_excite[0][0]']      \n",
            "                                80)                                                               \n",
            "                                                                                                  \n",
            " block4c_project_bn (BatchNorma  (None, None, None,   320        ['block4c_project_conv[0][0]']   \n",
            " lization)                      80)                                                               \n",
            "                                                                                                  \n",
            " block4c_drop (Dropout)         (None, None, None,   0           ['block4c_project_bn[0][0]']     \n",
            "                                80)                                                               \n",
            "                                                                                                  \n",
            " block4c_add (Add)              (None, None, None,   0           ['block4c_drop[0][0]',           \n",
            "                                80)                               'block4b_add[0][0]']            \n",
            "                                                                                                  \n",
            " block5a_expand_conv (Conv2D)   (None, None, None,   38400       ['block4c_add[0][0]']            \n",
            "                                480)                                                              \n",
            "                                                                                                  \n",
            " block5a_expand_bn (BatchNormal  (None, None, None,   1920       ['block5a_expand_conv[0][0]']    \n",
            " ization)                       480)                                                              \n",
            "                                                                                                  \n",
            " block5a_expand_activation (Act  (None, None, None,   0          ['block5a_expand_bn[0][0]']      \n",
            " ivation)                       480)                                                              \n",
            "                                                                                                  \n",
            " block5a_dwconv (DepthwiseConv2  (None, None, None,   12000      ['block5a_expand_activation[0][0]\n",
            " D)                             480)                             ']                               \n",
            "                                                                                                  \n",
            " block5a_bn (BatchNormalization  (None, None, None,   1920       ['block5a_dwconv[0][0]']         \n",
            " )                              480)                                                              \n",
            "                                                                                                  \n",
            " block5a_activation (Activation  (None, None, None,   0          ['block5a_bn[0][0]']             \n",
            " )                              480)                                                              \n",
            "                                                                                                  \n",
            " block5a_se_squeeze (GlobalAver  (None, 480)         0           ['block5a_activation[0][0]']     \n",
            " agePooling2D)                                                                                    \n",
            "                                                                                                  \n",
            " block5a_se_reshape (Reshape)   (None, 1, 1, 480)    0           ['block5a_se_squeeze[0][0]']     \n",
            "                                                                                                  \n",
            " block5a_se_reduce (Conv2D)     (None, 1, 1, 20)     9620        ['block5a_se_reshape[0][0]']     \n",
            "                                                                                                  \n",
            " block5a_se_expand (Conv2D)     (None, 1, 1, 480)    10080       ['block5a_se_reduce[0][0]']      \n",
            "                                                                                                  \n",
            " block5a_se_excite (Multiply)   (None, None, None,   0           ['block5a_activation[0][0]',     \n",
            "                                480)                              'block5a_se_expand[0][0]']      \n",
            "                                                                                                  \n",
            " block5a_project_conv (Conv2D)  (None, None, None,   53760       ['block5a_se_excite[0][0]']      \n",
            "                                112)                                                              \n",
            "                                                                                                  \n",
            " block5a_project_bn (BatchNorma  (None, None, None,   448        ['block5a_project_conv[0][0]']   \n",
            " lization)                      112)                                                              \n",
            "                                                                                                  \n",
            " block5b_expand_conv (Conv2D)   (None, None, None,   75264       ['block5a_project_bn[0][0]']     \n",
            "                                672)                                                              \n",
            "                                                                                                  \n",
            " block5b_expand_bn (BatchNormal  (None, None, None,   2688       ['block5b_expand_conv[0][0]']    \n",
            " ization)                       672)                                                              \n",
            "                                                                                                  \n",
            " block5b_expand_activation (Act  (None, None, None,   0          ['block5b_expand_bn[0][0]']      \n",
            " ivation)                       672)                                                              \n",
            "                                                                                                  \n",
            " block5b_dwconv (DepthwiseConv2  (None, None, None,   16800      ['block5b_expand_activation[0][0]\n",
            " D)                             672)                             ']                               \n",
            "                                                                                                  \n",
            " block5b_bn (BatchNormalization  (None, None, None,   2688       ['block5b_dwconv[0][0]']         \n",
            " )                              672)                                                              \n",
            "                                                                                                  \n",
            " block5b_activation (Activation  (None, None, None,   0          ['block5b_bn[0][0]']             \n",
            " )                              672)                                                              \n",
            "                                                                                                  \n",
            " block5b_se_squeeze (GlobalAver  (None, 672)         0           ['block5b_activation[0][0]']     \n",
            " agePooling2D)                                                                                    \n",
            "                                                                                                  \n",
            " block5b_se_reshape (Reshape)   (None, 1, 1, 672)    0           ['block5b_se_squeeze[0][0]']     \n",
            "                                                                                                  \n",
            " block5b_se_reduce (Conv2D)     (None, 1, 1, 28)     18844       ['block5b_se_reshape[0][0]']     \n",
            "                                                                                                  \n",
            " block5b_se_expand (Conv2D)     (None, 1, 1, 672)    19488       ['block5b_se_reduce[0][0]']      \n",
            "                                                                                                  \n",
            " block5b_se_excite (Multiply)   (None, None, None,   0           ['block5b_activation[0][0]',     \n",
            "                                672)                              'block5b_se_expand[0][0]']      \n",
            "                                                                                                  \n",
            " block5b_project_conv (Conv2D)  (None, None, None,   75264       ['block5b_se_excite[0][0]']      \n",
            "                                112)                                                              \n",
            "                                                                                                  \n",
            " block5b_project_bn (BatchNorma  (None, None, None,   448        ['block5b_project_conv[0][0]']   \n",
            " lization)                      112)                                                              \n",
            "                                                                                                  \n",
            " block5b_drop (Dropout)         (None, None, None,   0           ['block5b_project_bn[0][0]']     \n",
            "                                112)                                                              \n",
            "                                                                                                  \n",
            " block5b_add (Add)              (None, None, None,   0           ['block5b_drop[0][0]',           \n",
            "                                112)                              'block5a_project_bn[0][0]']     \n",
            "                                                                                                  \n",
            " block5c_expand_conv (Conv2D)   (None, None, None,   75264       ['block5b_add[0][0]']            \n",
            "                                672)                                                              \n",
            "                                                                                                  \n",
            " block5c_expand_bn (BatchNormal  (None, None, None,   2688       ['block5c_expand_conv[0][0]']    \n",
            " ization)                       672)                                                              \n",
            "                                                                                                  \n",
            " block5c_expand_activation (Act  (None, None, None,   0          ['block5c_expand_bn[0][0]']      \n",
            " ivation)                       672)                                                              \n",
            "                                                                                                  \n",
            " block5c_dwconv (DepthwiseConv2  (None, None, None,   16800      ['block5c_expand_activation[0][0]\n",
            " D)                             672)                             ']                               \n",
            "                                                                                                  \n",
            " block5c_bn (BatchNormalization  (None, None, None,   2688       ['block5c_dwconv[0][0]']         \n",
            " )                              672)                                                              \n",
            "                                                                                                  \n",
            " block5c_activation (Activation  (None, None, None,   0          ['block5c_bn[0][0]']             \n",
            " )                              672)                                                              \n",
            "                                                                                                  \n",
            " block5c_se_squeeze (GlobalAver  (None, 672)         0           ['block5c_activation[0][0]']     \n",
            " agePooling2D)                                                                                    \n",
            "                                                                                                  \n",
            " block5c_se_reshape (Reshape)   (None, 1, 1, 672)    0           ['block5c_se_squeeze[0][0]']     \n",
            "                                                                                                  \n",
            " block5c_se_reduce (Conv2D)     (None, 1, 1, 28)     18844       ['block5c_se_reshape[0][0]']     \n",
            "                                                                                                  \n",
            " block5c_se_expand (Conv2D)     (None, 1, 1, 672)    19488       ['block5c_se_reduce[0][0]']      \n",
            "                                                                                                  \n",
            " block5c_se_excite (Multiply)   (None, None, None,   0           ['block5c_activation[0][0]',     \n",
            "                                672)                              'block5c_se_expand[0][0]']      \n",
            "                                                                                                  \n",
            " block5c_project_conv (Conv2D)  (None, None, None,   75264       ['block5c_se_excite[0][0]']      \n",
            "                                112)                                                              \n",
            "                                                                                                  \n",
            " block5c_project_bn (BatchNorma  (None, None, None,   448        ['block5c_project_conv[0][0]']   \n",
            " lization)                      112)                                                              \n",
            "                                                                                                  \n",
            " block5c_drop (Dropout)         (None, None, None,   0           ['block5c_project_bn[0][0]']     \n",
            "                                112)                                                              \n",
            "                                                                                                  \n",
            " block5c_add (Add)              (None, None, None,   0           ['block5c_drop[0][0]',           \n",
            "                                112)                              'block5b_add[0][0]']            \n",
            "                                                                                                  \n",
            " block6a_expand_conv (Conv2D)   (None, None, None,   75264       ['block5c_add[0][0]']            \n",
            "                                672)                                                              \n",
            "                                                                                                  \n",
            " block6a_expand_bn (BatchNormal  (None, None, None,   2688       ['block6a_expand_conv[0][0]']    \n",
            " ization)                       672)                                                              \n",
            "                                                                                                  \n",
            " block6a_expand_activation (Act  (None, None, None,   0          ['block6a_expand_bn[0][0]']      \n",
            " ivation)                       672)                                                              \n",
            "                                                                                                  \n",
            " block6a_dwconv_pad (ZeroPaddin  (None, None, None,   0          ['block6a_expand_activation[0][0]\n",
            " g2D)                           672)                             ']                               \n",
            "                                                                                                  \n",
            " block6a_dwconv (DepthwiseConv2  (None, None, None,   16800      ['block6a_dwconv_pad[0][0]']     \n",
            " D)                             672)                                                              \n",
            "                                                                                                  \n",
            " block6a_bn (BatchNormalization  (None, None, None,   2688       ['block6a_dwconv[0][0]']         \n",
            " )                              672)                                                              \n",
            "                                                                                                  \n",
            " block6a_activation (Activation  (None, None, None,   0          ['block6a_bn[0][0]']             \n",
            " )                              672)                                                              \n",
            "                                                                                                  \n",
            " block6a_se_squeeze (GlobalAver  (None, 672)         0           ['block6a_activation[0][0]']     \n",
            " agePooling2D)                                                                                    \n",
            "                                                                                                  \n",
            " block6a_se_reshape (Reshape)   (None, 1, 1, 672)    0           ['block6a_se_squeeze[0][0]']     \n",
            "                                                                                                  \n",
            " block6a_se_reduce (Conv2D)     (None, 1, 1, 28)     18844       ['block6a_se_reshape[0][0]']     \n",
            "                                                                                                  \n",
            " block6a_se_expand (Conv2D)     (None, 1, 1, 672)    19488       ['block6a_se_reduce[0][0]']      \n",
            "                                                                                                  \n",
            " block6a_se_excite (Multiply)   (None, None, None,   0           ['block6a_activation[0][0]',     \n",
            "                                672)                              'block6a_se_expand[0][0]']      \n",
            "                                                                                                  \n",
            " block6a_project_conv (Conv2D)  (None, None, None,   129024      ['block6a_se_excite[0][0]']      \n",
            "                                192)                                                              \n",
            "                                                                                                  \n",
            " block6a_project_bn (BatchNorma  (None, None, None,   768        ['block6a_project_conv[0][0]']   \n",
            " lization)                      192)                                                              \n",
            "                                                                                                  \n",
            " block6b_expand_conv (Conv2D)   (None, None, None,   221184      ['block6a_project_bn[0][0]']     \n",
            "                                1152)                                                             \n",
            "                                                                                                  \n",
            " block6b_expand_bn (BatchNormal  (None, None, None,   4608       ['block6b_expand_conv[0][0]']    \n",
            " ization)                       1152)                                                             \n",
            "                                                                                                  \n",
            " block6b_expand_activation (Act  (None, None, None,   0          ['block6b_expand_bn[0][0]']      \n",
            " ivation)                       1152)                                                             \n",
            "                                                                                                  \n",
            " block6b_dwconv (DepthwiseConv2  (None, None, None,   28800      ['block6b_expand_activation[0][0]\n",
            " D)                             1152)                            ']                               \n",
            "                                                                                                  \n",
            " block6b_bn (BatchNormalization  (None, None, None,   4608       ['block6b_dwconv[0][0]']         \n",
            " )                              1152)                                                             \n",
            "                                                                                                  \n",
            " block6b_activation (Activation  (None, None, None,   0          ['block6b_bn[0][0]']             \n",
            " )                              1152)                                                             \n",
            "                                                                                                  \n",
            " block6b_se_squeeze (GlobalAver  (None, 1152)        0           ['block6b_activation[0][0]']     \n",
            " agePooling2D)                                                                                    \n",
            "                                                                                                  \n",
            " block6b_se_reshape (Reshape)   (None, 1, 1, 1152)   0           ['block6b_se_squeeze[0][0]']     \n",
            "                                                                                                  \n",
            " block6b_se_reduce (Conv2D)     (None, 1, 1, 48)     55344       ['block6b_se_reshape[0][0]']     \n",
            "                                                                                                  \n",
            " block6b_se_expand (Conv2D)     (None, 1, 1, 1152)   56448       ['block6b_se_reduce[0][0]']      \n",
            "                                                                                                  \n",
            " block6b_se_excite (Multiply)   (None, None, None,   0           ['block6b_activation[0][0]',     \n",
            "                                1152)                             'block6b_se_expand[0][0]']      \n",
            "                                                                                                  \n",
            " block6b_project_conv (Conv2D)  (None, None, None,   221184      ['block6b_se_excite[0][0]']      \n",
            "                                192)                                                              \n",
            "                                                                                                  \n",
            " block6b_project_bn (BatchNorma  (None, None, None,   768        ['block6b_project_conv[0][0]']   \n",
            " lization)                      192)                                                              \n",
            "                                                                                                  \n",
            " block6b_drop (Dropout)         (None, None, None,   0           ['block6b_project_bn[0][0]']     \n",
            "                                192)                                                              \n",
            "                                                                                                  \n",
            " block6b_add (Add)              (None, None, None,   0           ['block6b_drop[0][0]',           \n",
            "                                192)                              'block6a_project_bn[0][0]']     \n",
            "                                                                                                  \n",
            " block6c_expand_conv (Conv2D)   (None, None, None,   221184      ['block6b_add[0][0]']            \n",
            "                                1152)                                                             \n",
            "                                                                                                  \n",
            " block6c_expand_bn (BatchNormal  (None, None, None,   4608       ['block6c_expand_conv[0][0]']    \n",
            " ization)                       1152)                                                             \n",
            "                                                                                                  \n",
            " block6c_expand_activation (Act  (None, None, None,   0          ['block6c_expand_bn[0][0]']      \n",
            " ivation)                       1152)                                                             \n",
            "                                                                                                  \n",
            " block6c_dwconv (DepthwiseConv2  (None, None, None,   28800      ['block6c_expand_activation[0][0]\n",
            " D)                             1152)                            ']                               \n",
            "                                                                                                  \n",
            " block6c_bn (BatchNormalization  (None, None, None,   4608       ['block6c_dwconv[0][0]']         \n",
            " )                              1152)                                                             \n",
            "                                                                                                  \n",
            " block6c_activation (Activation  (None, None, None,   0          ['block6c_bn[0][0]']             \n",
            " )                              1152)                                                             \n",
            "                                                                                                  \n",
            " block6c_se_squeeze (GlobalAver  (None, 1152)        0           ['block6c_activation[0][0]']     \n",
            " agePooling2D)                                                                                    \n",
            "                                                                                                  \n",
            " block6c_se_reshape (Reshape)   (None, 1, 1, 1152)   0           ['block6c_se_squeeze[0][0]']     \n",
            "                                                                                                  \n",
            " block6c_se_reduce (Conv2D)     (None, 1, 1, 48)     55344       ['block6c_se_reshape[0][0]']     \n",
            "                                                                                                  \n",
            " block6c_se_expand (Conv2D)     (None, 1, 1, 1152)   56448       ['block6c_se_reduce[0][0]']      \n",
            "                                                                                                  \n",
            " block6c_se_excite (Multiply)   (None, None, None,   0           ['block6c_activation[0][0]',     \n",
            "                                1152)                             'block6c_se_expand[0][0]']      \n",
            "                                                                                                  \n",
            " block6c_project_conv (Conv2D)  (None, None, None,   221184      ['block6c_se_excite[0][0]']      \n",
            "                                192)                                                              \n",
            "                                                                                                  \n",
            " block6c_project_bn (BatchNorma  (None, None, None,   768        ['block6c_project_conv[0][0]']   \n",
            " lization)                      192)                                                              \n",
            "                                                                                                  \n",
            " block6c_drop (Dropout)         (None, None, None,   0           ['block6c_project_bn[0][0]']     \n",
            "                                192)                                                              \n",
            "                                                                                                  \n",
            " block6c_add (Add)              (None, None, None,   0           ['block6c_drop[0][0]',           \n",
            "                                192)                              'block6b_add[0][0]']            \n",
            "                                                                                                  \n",
            " block6d_expand_conv (Conv2D)   (None, None, None,   221184      ['block6c_add[0][0]']            \n",
            "                                1152)                                                             \n",
            "                                                                                                  \n",
            " block6d_expand_bn (BatchNormal  (None, None, None,   4608       ['block6d_expand_conv[0][0]']    \n",
            " ization)                       1152)                                                             \n",
            "                                                                                                  \n",
            " block6d_expand_activation (Act  (None, None, None,   0          ['block6d_expand_bn[0][0]']      \n",
            " ivation)                       1152)                                                             \n",
            "                                                                                                  \n",
            " block6d_dwconv (DepthwiseConv2  (None, None, None,   28800      ['block6d_expand_activation[0][0]\n",
            " D)                             1152)                            ']                               \n",
            "                                                                                                  \n",
            " block6d_bn (BatchNormalization  (None, None, None,   4608       ['block6d_dwconv[0][0]']         \n",
            " )                              1152)                                                             \n",
            "                                                                                                  \n",
            " block6d_activation (Activation  (None, None, None,   0          ['block6d_bn[0][0]']             \n",
            " )                              1152)                                                             \n",
            "                                                                                                  \n",
            " block6d_se_squeeze (GlobalAver  (None, 1152)        0           ['block6d_activation[0][0]']     \n",
            " agePooling2D)                                                                                    \n",
            "                                                                                                  \n",
            " block6d_se_reshape (Reshape)   (None, 1, 1, 1152)   0           ['block6d_se_squeeze[0][0]']     \n",
            "                                                                                                  \n",
            " block6d_se_reduce (Conv2D)     (None, 1, 1, 48)     55344       ['block6d_se_reshape[0][0]']     \n",
            "                                                                                                  \n",
            " block6d_se_expand (Conv2D)     (None, 1, 1, 1152)   56448       ['block6d_se_reduce[0][0]']      \n",
            "                                                                                                  \n",
            " block6d_se_excite (Multiply)   (None, None, None,   0           ['block6d_activation[0][0]',     \n",
            "                                1152)                             'block6d_se_expand[0][0]']      \n",
            "                                                                                                  \n",
            " block6d_project_conv (Conv2D)  (None, None, None,   221184      ['block6d_se_excite[0][0]']      \n",
            "                                192)                                                              \n",
            "                                                                                                  \n",
            " block6d_project_bn (BatchNorma  (None, None, None,   768        ['block6d_project_conv[0][0]']   \n",
            " lization)                      192)                                                              \n",
            "                                                                                                  \n",
            " block6d_drop (Dropout)         (None, None, None,   0           ['block6d_project_bn[0][0]']     \n",
            "                                192)                                                              \n",
            "                                                                                                  \n",
            " block6d_add (Add)              (None, None, None,   0           ['block6d_drop[0][0]',           \n",
            "                                192)                              'block6c_add[0][0]']            \n",
            "                                                                                                  \n",
            " block7a_expand_conv (Conv2D)   (None, None, None,   221184      ['block6d_add[0][0]']            \n",
            "                                1152)                                                             \n",
            "                                                                                                  \n",
            " block7a_expand_bn (BatchNormal  (None, None, None,   4608       ['block7a_expand_conv[0][0]']    \n",
            " ization)                       1152)                                                             \n",
            "                                                                                                  \n",
            " block7a_expand_activation (Act  (None, None, None,   0          ['block7a_expand_bn[0][0]']      \n",
            " ivation)                       1152)                                                             \n",
            "                                                                                                  \n",
            " block7a_dwconv (DepthwiseConv2  (None, None, None,   10368      ['block7a_expand_activation[0][0]\n",
            " D)                             1152)                            ']                               \n",
            "                                                                                                  \n",
            " block7a_bn (BatchNormalization  (None, None, None,   4608       ['block7a_dwconv[0][0]']         \n",
            " )                              1152)                                                             \n",
            "                                                                                                  \n",
            " block7a_activation (Activation  (None, None, None,   0          ['block7a_bn[0][0]']             \n",
            " )                              1152)                                                             \n",
            "                                                                                                  \n",
            " block7a_se_squeeze (GlobalAver  (None, 1152)        0           ['block7a_activation[0][0]']     \n",
            " agePooling2D)                                                                                    \n",
            "                                                                                                  \n",
            " block7a_se_reshape (Reshape)   (None, 1, 1, 1152)   0           ['block7a_se_squeeze[0][0]']     \n",
            "                                                                                                  \n",
            " block7a_se_reduce (Conv2D)     (None, 1, 1, 48)     55344       ['block7a_se_reshape[0][0]']     \n",
            "                                                                                                  \n",
            " block7a_se_expand (Conv2D)     (None, 1, 1, 1152)   56448       ['block7a_se_reduce[0][0]']      \n",
            "                                                                                                  \n",
            " block7a_se_excite (Multiply)   (None, None, None,   0           ['block7a_activation[0][0]',     \n",
            "                                1152)                             'block7a_se_expand[0][0]']      \n",
            "                                                                                                  \n",
            " block7a_project_conv (Conv2D)  (None, None, None,   368640      ['block7a_se_excite[0][0]']      \n",
            "                                320)                                                              \n",
            "                                                                                                  \n",
            " block7a_project_bn (BatchNorma  (None, None, None,   1280       ['block7a_project_conv[0][0]']   \n",
            " lization)                      320)                                                              \n",
            "                                                                                                  \n",
            " top_conv (Conv2D)              (None, None, None,   409600      ['block7a_project_bn[0][0]']     \n",
            "                                1280)                                                             \n",
            "                                                                                                  \n",
            " top_bn (BatchNormalization)    (None, None, None,   5120        ['top_conv[0][0]']               \n",
            "                                1280)                                                             \n",
            "                                                                                                  \n",
            " top_activation (Activation)    (None, None, None,   0           ['top_bn[0][0]']                 \n",
            "                                1280)                                                             \n",
            "                                                                                                  \n",
            "==================================================================================================\n",
            "Total params: 4,049,571\n",
            "Trainable params: 0\n",
            "Non-trainable params: 4,049,571\n",
            "__________________________________________________________________________________________________\n"
          ]
        }
      ]
    },
    {
      "cell_type": "code",
      "source": [
        "# How about a summary of our whole model\n",
        "model_0.summary()"
      ],
      "metadata": {
        "colab": {
          "base_uri": "https://localhost:8080/"
        },
        "id": "LoL_B_XXaREW",
        "outputId": "b6570659-742d-46ae-f174-d0f34dcdaa2e"
      },
      "execution_count": 58,
      "outputs": [
        {
          "output_type": "stream",
          "name": "stdout",
          "text": [
            "Model: \"model_1\"\n",
            "_________________________________________________________________\n",
            " Layer (type)                Output Shape              Param #   \n",
            "=================================================================\n",
            " input_layer (InputLayer)    [(None, 224, 224, 3)]     0         \n",
            "                                                                 \n",
            " efficientnetb0 (Functional)  (None, None, None, 1280)  4049571  \n",
            "                                                                 \n",
            " global_average_pooling_laye  (None, 1280)             0         \n",
            " r (GlobalAveragePooling2D)                                      \n",
            "                                                                 \n",
            " output_layer (Dense)        (None, 10)                12810     \n",
            "                                                                 \n",
            "=================================================================\n",
            "Total params: 4,062,381\n",
            "Trainable params: 12,810\n",
            "Non-trainable params: 4,049,571\n",
            "_________________________________________________________________\n"
          ]
        }
      ]
    },
    {
      "cell_type": "code",
      "source": [
        "# Check out our model's training curves\n",
        "plot_loss_curves(history_10_percent)"
      ],
      "metadata": {
        "colab": {
          "base_uri": "https://localhost:8080/",
          "height": 573
        },
        "id": "ww4eZf82asQr",
        "outputId": "a78d7d8e-8d79-4816-a6a8-165c0b1f05f1"
      },
      "execution_count": 59,
      "outputs": [
        {
          "output_type": "display_data",
          "data": {
            "text/plain": [
              "<Figure size 432x288 with 1 Axes>"
            ],
            "image/png": "[encoded data removed]"
          },
          "metadata": {
            "needs_background": "light"
          }
        },
        {
          "output_type": "display_data",
          "data": {
            "text/plain": [
              "<Figure size 432x288 with 1 Axes>"
            ],
            "image/png": "[encoded data removed]"
          },
          "metadata": {
            "needs_background": "light"
          }
        }
      ]
    },
    {
      "cell_type": "markdown",
      "source": [
        "## Getting a feature vector from a trained model\n",
        "\n",
        "Let's demonstrate the Global Average Pooling 2D layer...\n",
        "\n",
        "We have a tensor after our model goes through `base_model` of shape (None, 7, 7, 1280).\n",
        "\n",
        "But then when it passes through GlobalAveragePooling2D, it turns into (None, 1280).\n",
        "\n",
        "Let's use a similar shaped tensor of (1, 4, 4, 3) and then pass it to GlobalAveragePooling2D."
      ],
      "metadata": {
        "id": "gxdMu--DbDvv"
      }
    },
    {
      "cell_type": "code",
      "source": [
        "# Define the input shape\n",
        "import tensorflow as tf\n",
        "input_shape = (1, 4, 4, 3)\n",
        "\n",
        "# Create a random tensor\n",
        "tf.random.set_seed = 24\n",
        "input_tensor = tf.random.normal(input_shape)\n",
        "\n",
        "print(f\"Random input tensor:\\n {input_tensor}\\n\")\n",
        "\n",
        "# Pass the random tesnsor through a global average pooling 2D layer\n",
        "global_average_pooled_tensor = tf.keras.layers.GlobalAveragePooling2D()(input_tensor)\n",
        "print(f\"2D global averate pooled random tensor:\\n {global_average_pooled_tensor}\\n\")\n",
        "\n",
        "# Check the shape of the different tensors\n",
        "print(f\"Shape of input tensor: {input_tensor.shape}\")\n",
        "print(f\"Shape of Global average pooled 2D tensor: {global_average_pooled_tensor.shape}\")"
      ],
      "metadata": {
        "colab": {
          "base_uri": "https://localhost:8080/"
        },
        "id": "iqR34E49bUgy",
        "outputId": "727b82b5-41fe-4206-ad75-612bef0095f9"
      },
      "execution_count": 60,
      "outputs": [
        {
          "output_type": "stream",
          "name": "stdout",
          "text": [
            "Random input tensor:\n",
            " [[[[ 0.28627414 -0.6294608   1.0321909 ]\n",
            "   [-0.94491327  0.11749531  0.30722588]\n",
            "   [ 0.07987318 -0.56806654  0.21226443]\n",
            "   [-0.08227621 -0.4237943   0.19876935]]\n",
            "\n",
            "  [[ 1.0822864  -0.34453467 -0.3707651 ]\n",
            "   [-1.5719405   0.576496    1.9727931 ]\n",
            "   [ 2.3371885   1.2752708  -0.8251253 ]\n",
            "   [ 1.1925492  -0.28820628 -0.4012935 ]]\n",
            "\n",
            "  [[ 1.4979389  -0.60815924 -0.33273292]\n",
            "   [-0.6698711   2.280097    0.5161065 ]\n",
            "   [-1.2154692  -0.45123082  0.1072457 ]\n",
            "   [-0.99290305 -0.13800986 -0.5346481 ]]\n",
            "\n",
            "  [[-1.1124966  -1.1769943   0.20254841]\n",
            "   [-1.1762257  -0.5017128  -0.5911657 ]\n",
            "   [ 1.0893244   0.06516669  1.898234  ]\n",
            "   [ 0.74517107 -0.8854194  -1.2935197 ]]]]\n",
            "\n",
            "2D global averate pooled random tensor:\n",
            " [[ 0.03403188 -0.10631644  0.13113299]]\n",
            "\n",
            "Shape of input tensor: (1, 4, 4, 3)\n",
            "Shape of Global average pooled 2D tensor: (1, 3)\n"
          ]
        }
      ]
    },
    {
      "cell_type": "code",
      "source": [
        "# Let's replicate the GlobalAveragePool2D layer\n",
        "tf.reduce_mean(input_tensor, axis=[1, 2])"
      ],
      "metadata": {
        "colab": {
          "base_uri": "https://localhost:8080/"
        },
        "id": "0DllcjKYc47l",
        "outputId": "41367e4d-5065-47b0-c216-7307d467bef5"
      },
      "execution_count": 61,
      "outputs": [
        {
          "output_type": "execute_result",
          "data": {
            "text/plain": [
              "<tf.Tensor: shape=(1, 3), dtype=float32, numpy=array([[ 0.03403188, -0.10631644,  0.13113299]], dtype=float32)>"
            ]
          },
          "metadata": {},
          "execution_count": 61
        }
      ]
    },
    {
      "cell_type": "markdown",
      "source": [
        "**Practice:** Try to do the same with the above two cells but this time use `GlobalMaxPool2D` ... and see what happens"
      ],
      "metadata": {
        "id": "_SfJIQbofJ_4"
      }
    },
    {
      "cell_type": "code",
      "source": [
        "# Using globalMaxPool2D\n",
        "tf.reduce_max(input_tensor, axis=[1, 2])"
      ],
      "metadata": {
        "colab": {
          "base_uri": "https://localhost:8080/"
        },
        "id": "bMqswKODfqO-",
        "outputId": "e76d485c-c8f4-402f-8ddf-5bc3567eab4b"
      },
      "execution_count": 62,
      "outputs": [
        {
          "output_type": "execute_result",
          "data": {
            "text/plain": [
              "<tf.Tensor: shape=(1, 3), dtype=float32, numpy=array([[2.3371885, 2.280097 , 1.9727931]], dtype=float32)>"
            ]
          },
          "metadata": {},
          "execution_count": 62
        }
      ]
    },
    {
      "cell_type": "code",
      "source": [
        "global_max_pooled_layer = tf.keras.layers.GlobalMaxPool2D()(input_tensor)\n",
        "print(global_max_pooled_layer)"
      ],
      "metadata": {
        "colab": {
          "base_uri": "https://localhost:8080/"
        },
        "id": "-9WaDdH-fyJJ",
        "outputId": "41a4adf6-c611-4f03-be8e-23d0444d4ba1"
      },
      "execution_count": 63,
      "outputs": [
        {
          "output_type": "stream",
          "name": "stdout",
          "text": [
            "tf.Tensor([[2.3371885 2.280097  1.9727931]], shape=(1, 3), dtype=float32)\n"
          ]
        }
      ]
    },
    {
      "cell_type": "markdown",
      "source": [
        ">**Note:** One of the reasons feature extraction transfer learning is named how it is is because what often happens is pretrained model outputs a feature vector (a long tensor of numbers which represents the learned representation of the model on a particular sample, in our case, this is the output of the `tf.keras.layers.GlobalAveragePooling2D()` layer) which can then be used to extract patterns out of for our own specific problem."
      ],
      "metadata": {
        "id": "oy8rA6gcgAE9"
      }
    },
    {
      "cell_type": "markdown",
      "source": [
        "## Running a series of transfer learning experiments\n",
        "\n",
        "We've seen the incredible results transfer learning can get with only 10% of the training data... how about we set up a bunch of experiments to find out:\n",
        "\n",
        "1. `model_1` - use feature extraction transfer learning with 1% of the training data with data augmentation\n",
        "2. `model_2` - use feature extraction transfer learning with 10% of the training with data augmentation\n",
        "3. `model_3` - use fine-tuning transfer learing on 10% of the training data with data augmentation\n",
        "4. `model_4` - use fine-tuning transfer learning on 100% of the training data with data augmentation\n",
        "\n",
        "**Note:** throughout all experiments the same test dataset will be used to evaluate our model... this ensures consistency across evaluation metrics."
      ],
      "metadata": {
        "id": "VpEZLGwvg5TA"
      }
    },
    {
      "cell_type": "markdown",
      "source": [
        "## Geting and preprocessing data for model_1"
      ],
      "metadata": {
        "id": "d_rbpnFiksXk"
      }
    },
    {
      "cell_type": "code",
      "source": [
        "# Download and unzip data - preprocessed from Food101\n",
        "!wget https://storage.googleapis.com/ztm_tf_course/food_vision/10_food_classes_1_percent.zip\n",
        "\n",
        "# unzip data\n",
        "unzip_data(\"10_food_classes_1_percent.zip\")"
      ],
      "metadata": {
        "colab": {
          "base_uri": "https://localhost:8080/"
        },
        "id": "uexq7ucyi3Fa",
        "outputId": "81b2c7c5-c616-410c-a959-739556c79929"
      },
      "execution_count": 64,
      "outputs": [
        {
          "output_type": "stream",
          "name": "stdout",
          "text": [
            "--2022-07-04 08:05:55--  https://storage.googleapis.com/ztm_tf_course/food_vision/10_food_classes_1_percent.zip\n",
            "Resolving storage.googleapis.com (storage.googleapis.com)... 209.85.145.128, 209.85.147.128, 142.250.136.128, ...\n",
            "Connecting to storage.googleapis.com (storage.googleapis.com)|209.85.145.128|:443... connected.\n",
            "HTTP request sent, awaiting response... 200 OK\n",
            "Length: 133612354 (127M) [application/zip]\n",
            "Saving to: ‘10_food_classes_1_percent.zip’\n",
            "\n",
            "10_food_classes_1_p 100%[===================>] 127.42M   113MB/s    in 1.1s    \n",
            "\n",
            "2022-07-04 08:05:57 (113 MB/s) - ‘10_food_classes_1_percent.zip’ saved [133612354/133612354]\n",
            "\n"
          ]
        }
      ]
    },
    {
      "cell_type": "code",
      "source": [
        "# Create training and test dirs\n",
        "train_dir_1_percent = \"10_food_classes_1_percent/train\"\n",
        "test_dir = \"10_food_classes_1_percent/test\""
      ],
      "metadata": {
        "id": "nz3nNiULjwfB"
      },
      "execution_count": 65,
      "outputs": []
    },
    {
      "cell_type": "code",
      "source": [
        "# How many images are we working with?\n",
        "walk_through_dir(\"10_food_classes_1_percent\")"
      ],
      "metadata": {
        "colab": {
          "base_uri": "https://localhost:8080/"
        },
        "id": "Pgoz1zApkGb-",
        "outputId": "0e3d35c1-e771-4f55-bc21-e4813119eea0"
      },
      "execution_count": 66,
      "outputs": [
        {
          "output_type": "stream",
          "name": "stdout",
          "text": [
            "There are 2 directories and 0 images in '10_food_classes_1_percent'.\n",
            "There are 10 directories and 0 images in '10_food_classes_1_percent/train'.\n",
            "There are 0 directories and 7 images in '10_food_classes_1_percent/train/ramen'.\n",
            "There are 0 directories and 7 images in '10_food_classes_1_percent/train/chicken_curry'.\n",
            "There are 0 directories and 7 images in '10_food_classes_1_percent/train/pizza'.\n",
            "There are 0 directories and 7 images in '10_food_classes_1_percent/train/hamburger'.\n",
            "There are 0 directories and 7 images in '10_food_classes_1_percent/train/grilled_salmon'.\n",
            "There are 0 directories and 7 images in '10_food_classes_1_percent/train/chicken_wings'.\n",
            "There are 0 directories and 7 images in '10_food_classes_1_percent/train/steak'.\n",
            "There are 0 directories and 7 images in '10_food_classes_1_percent/train/fried_rice'.\n",
            "There are 0 directories and 7 images in '10_food_classes_1_percent/train/sushi'.\n",
            "There are 0 directories and 7 images in '10_food_classes_1_percent/train/ice_cream'.\n",
            "There are 10 directories and 0 images in '10_food_classes_1_percent/test'.\n",
            "There are 0 directories and 250 images in '10_food_classes_1_percent/test/ramen'.\n",
            "There are 0 directories and 250 images in '10_food_classes_1_percent/test/chicken_curry'.\n",
            "There are 0 directories and 250 images in '10_food_classes_1_percent/test/pizza'.\n",
            "There are 0 directories and 250 images in '10_food_classes_1_percent/test/hamburger'.\n",
            "There are 0 directories and 250 images in '10_food_classes_1_percent/test/grilled_salmon'.\n",
            "There are 0 directories and 250 images in '10_food_classes_1_percent/test/chicken_wings'.\n",
            "There are 0 directories and 250 images in '10_food_classes_1_percent/test/steak'.\n",
            "There are 0 directories and 250 images in '10_food_classes_1_percent/test/fried_rice'.\n",
            "There are 0 directories and 250 images in '10_food_classes_1_percent/test/sushi'.\n",
            "There are 0 directories and 250 images in '10_food_classes_1_percent/test/ice_cream'.\n"
          ]
        }
      ]
    },
    {
      "cell_type": "code",
      "source": [
        "# Setup data loaders\n",
        "IMG_SIZE = (224, 224)\n",
        "BATCH_SIZE = 32\n",
        "\n",
        "train_data_1_percent = tf.keras.preprocessing.image_dataset_from_directory(train_dir_1_percent,\n",
        "                                                                           label_mode=\"categorical\",\n",
        "                                                                           image_size=IMG_SIZE,\n",
        "                                                                           batch_size = BATCH_SIZE)\n",
        "\n",
        "test_data_1_percent = tf.keras.preprocessing.image_dataset_from_directory(test_dir,\n",
        "                                                                          label_mode=\"categorical\",\n",
        "                                                                          image_size=IMG_SIZE,\n",
        "                                                                          batch_size=BATCH_SIZE)"
      ],
      "metadata": {
        "colab": {
          "base_uri": "https://localhost:8080/"
        },
        "id": "CDyCnY20kcrh",
        "outputId": "f39d8331-bdf0-4b2f-ad23-9531deee6872"
      },
      "execution_count": 67,
      "outputs": [
        {
          "output_type": "stream",
          "name": "stdout",
          "text": [
            "Found 70 files belonging to 10 classes.\n",
            "Found 2500 files belonging to 10 classes.\n"
          ]
        }
      ]
    },
    {
      "cell_type": "markdown",
      "source": [
        "## Adding data augmentation right into the model\n",
        "\n",
        "To add data augmenation right into our models, we can use the layers inside:\n",
        "\n",
        "* `tf.keras.layers.experiment.preprocessing()` \n",
        "\n",
        "We can see the benefits of doing this within the TensorFlow Data augmentation documentation: https://www.tensorflow.org/tutorials/images/data_augmentation\n",
        "\n",
        "Off the top our of heads, after reading the docs, the benefit of using data augmenation inside the model are:\n",
        "* Preprocessing of images (augmenting them) happens on the GPU (much faster) rather than the CPU.\n",
        "* Image data augmentation only happens during training, so we can still export our whole model and use it elsewhere."
      ],
      "metadata": {
        "id": "zGpoX3uqlWzA"
      }
    },
    {
      "cell_type": "code",
      "source": [
        "import tensorflow as tf\n",
        "from tensorflow import keras\n",
        "from tensorflow.keras import layers\n",
        "from tensorflow.keras.layers.experimental import preprocessing\n",
        "\n",
        "# Create data augmentation stage with horizonal flipping, rotations, zooms ...\n",
        "data_augmentation = keras.Sequential([\n",
        "  preprocessing.RandomFlip(\"horizontal\"),\n",
        "  preprocessing.RandomRotation(0.2),\n",
        "  preprocessing.RandomZoom(0.2),\n",
        "  preprocessing.RandomHeight(0.2),\n",
        "  preprocessing.RandomWidth(0.2),\n",
        "  # preprocessing.Rescale(1/255.) # Keep for models like ResNet50V2 but EfficientNet's having rescale built-in                                    \n",
        "], name=\"data_augmentation\")"
      ],
      "metadata": {
        "id": "vmAXS95lmGPI"
      },
      "execution_count": 68,
      "outputs": []
    },
    {
      "cell_type": "markdown",
      "source": [
        "### Visualize our data augmentation layer (and see what happens to our data)"
      ],
      "metadata": {
        "id": "eIidJmxwnM8N"
      }
    },
    {
      "cell_type": "code",
      "source": [
        "# View a random image and compare it to its augmented version\n",
        "import matplotlib.pyplot as plt\n",
        "import matplotlib.image as mpimg\n",
        "import os\n",
        "import random\n",
        "\n",
        "target_class = random.choice(train_data_1_percent.class_names)\n",
        "target_dir = \"10_food_classes_1_percent/train/\" + target_class\n",
        "random_image = random.choice(os.listdir(target_dir))\n",
        "random_image_path = target_dir + \"/\" + random_image\n",
        "\n",
        "# Read and plot the random image\n",
        "img = mpimg.imread(random_image_path)\n",
        "plt.imshow(img)\n",
        "plt.title(f\"Original random image from class {target_class}\")\n",
        "plt.axis(False)\n",
        "\n",
        "# Now let's plot our augmented random image\n",
        "augmented_img = data_augmentation(img/255., training=True)\n",
        "plt.figure()\n",
        "plt.imshow(augmented_img)\n",
        "plt.title(f\"Augmented random image from class {target_class}\")\n",
        "plt.axis(False)"
      ],
      "metadata": {
        "colab": {
          "base_uri": "https://localhost:8080/",
          "height": 529
        },
        "id": "ORpqGSp5sMBt",
        "outputId": "bdf39c57-847a-4a24-8076-67e1a9b629cb"
      },
      "execution_count": 69,
      "outputs": [
        {
          "output_type": "execute_result",
          "data": {
            "text/plain": [
              "(-0.5, 463.5, 481.5, -0.5)"
            ]
          },
          "metadata": {},
          "execution_count": 69
        },
        {
          "output_type": "display_data",
          "data": {
            "text/plain": [
              "<Figure size 432x288 with 1 Axes>"
            ],
            "image/png": "[encoded data removed]"
          },
          "metadata": {
            "needs_background": "light"
          }
        },
        {
          "output_type": "display_data",
          "data": {
            "text/plain": [
              "<Figure size 432x288 with 1 Axes>"
            ],
            "image/png": "[encoded data removed]"
          },
          "metadata": {
            "needs_background": "light"
          }
        }
      ]
    },
    {
      "cell_type": "markdown",
      "source": [
        "## Model 1: Feature extraction transfer learning on 1% of the data with data augmentation"
      ],
      "metadata": {
        "id": "xUribSC8srUr"
      }
    },
    {
      "cell_type": "code",
      "source": [
        "# Setup input shape and base model, freezing the base model layers\n",
        "IMG_SIZE = (224, 224)\n",
        "input_shape = IMG_SIZE + (3,)\n",
        "\n",
        "base_model = tf.keras.applications.EfficientNetB0(include_top=False)\n",
        "base_model.trainable = False\n",
        "\n",
        "# Create input layer\n",
        "inputs = layers.Input(shape=input_shape,\n",
        "                      name=\"input_layer\")\n",
        "\n",
        "# Add in data augmentation Sequential model as a layer\n",
        "x = data_augmentation(inputs)\n",
        "\n",
        "# Give base_model the inputs (after augmentation) and don't train it\n",
        "x = base_model(x, training=False)\n",
        "\n",
        "# Pool output features of the base model\n",
        "x = layers.GlobalAveragePooling2D(name=\"global_average_pooling_layer\")(x)\n",
        "\n",
        "# Put a dense layer on as the output\n",
        "outputs = layers.Dense(10, activation=\"softmax\",\n",
        "                       name=\"output_layer\")(x)\n",
        "\n",
        "# Make a model using the input and output\n",
        "model_1 = keras.Model(inputs, outputs)                       \n",
        "\n",
        "# Compile the model\n",
        "model_1.compile(loss=\"categorical_crossentropy\",\n",
        "                optimizer=tf.keras.optimizers.Adam(),\n",
        "                metrics=[\"accuracy\"])\n",
        "\n",
        "# Fit the model\n",
        "history_1_percent = model_1.fit(train_data_1_percent,\n",
        "                                epochs=5,\n",
        "                                steps_per_epoch=len(train_data_1_percent),\n",
        "                                validation_data=test_data,\n",
        "                                validation_steps=int(0.25*len(test_data)),\n",
        "                                # Track model training logs\n",
        "                                callbacks=[create_tensorboard_callback(dir_name=\"transfer_learning\",\n",
        "                                                                       experiment_name=\"1_percent_data_aug\")])"
      ],
      "metadata": {
        "colab": {
          "base_uri": "https://localhost:8080/"
        },
        "id": "jHAj3SEJvuTE",
        "outputId": "d799a432-a52a-4ddb-b529-23f623df05d3"
      },
      "execution_count": 70,
      "outputs": [
        {
          "output_type": "stream",
          "name": "stdout",
          "text": [
            "WARNING:tensorflow:Model was constructed with shape (512, 512, 3) for input KerasTensor(type_spec=TensorSpec(shape=(512, 512, 3), dtype=tf.float64, name='random_flip_1_input'), name='random_flip_1_input', description=\"created by layer 'random_flip_1_input'\"), but it was called on an input with incompatible shape (None, 224, 224, 3).\n",
            "Saving TensorBoard log files to: transfer_learning/1_percent_data_aug/20220704-080603\n",
            "Epoch 1/5\n",
            "WARNING:tensorflow:Model was constructed with shape (512, 512, 3) for input KerasTensor(type_spec=TensorSpec(shape=(512, 512, 3), dtype=tf.float64, name='random_flip_1_input'), name='random_flip_1_input', description=\"created by layer 'random_flip_1_input'\"), but it was called on an input with incompatible shape (None, 224, 224, 3).\n",
            "WARNING:tensorflow:Model was constructed with shape (512, 512, 3) for input KerasTensor(type_spec=TensorSpec(shape=(512, 512, 3), dtype=tf.float64, name='random_flip_1_input'), name='random_flip_1_input', description=\"created by layer 'random_flip_1_input'\"), but it was called on an input with incompatible shape (None, 224, 224, 3).\n",
            "3/3 [==============================] - ETA: 0s - loss: 2.3752 - accuracy: 0.1286WARNING:tensorflow:Model was constructed with shape (512, 512, 3) for input KerasTensor(type_spec=TensorSpec(shape=(512, 512, 3), dtype=tf.float64, name='random_flip_1_input'), name='random_flip_1_input', description=\"created by layer 'random_flip_1_input'\"), but it was called on an input with incompatible shape (None, 224, 224, 3).\n",
            "3/3 [==============================] - 11s 2s/step - loss: 2.3752 - accuracy: 0.1286 - val_loss: 2.2208 - val_accuracy: 0.1924\n",
            "Epoch 2/5\n",
            "3/3 [==============================] - 3s 1s/step - loss: 2.1725 - accuracy: 0.1714 - val_loss: 2.1108 - val_accuracy: 0.2599\n",
            "Epoch 3/5\n",
            "3/3 [==============================] - 3s 2s/step - loss: 2.0198 - accuracy: 0.3143 - val_loss: 1.9842 - val_accuracy: 0.3569\n",
            "Epoch 4/5\n",
            "3/3 [==============================] - 3s 1s/step - loss: 1.7973 - accuracy: 0.5571 - val_loss: 1.9142 - val_accuracy: 0.4128\n",
            "Epoch 5/5\n",
            "3/3 [==============================] - 3s 1s/step - loss: 1.6526 - accuracy: 0.6143 - val_loss: 1.8246 - val_accuracy: 0.4753\n"
          ]
        }
      ]
    },
    {
      "cell_type": "code",
      "source": [
        "# Check out a model summary\n",
        "model_1.summary()"
      ],
      "metadata": {
        "colab": {
          "base_uri": "https://localhost:8080/"
        },
        "id": "-8IG92RNwNrK",
        "outputId": "adf645d4-f56d-4e1c-ea48-63f93cc1575f"
      },
      "execution_count": 71,
      "outputs": [
        {
          "output_type": "stream",
          "name": "stdout",
          "text": [
            "Model: \"model_2\"\n",
            "_________________________________________________________________\n",
            " Layer (type)                Output Shape              Param #   \n",
            "=================================================================\n",
            " input_layer (InputLayer)    [(None, 224, 224, 3)]     0         \n",
            "                                                                 \n",
            " data_augmentation (Sequenti  (None, None, 3)          0         \n",
            " al)                                                             \n",
            "                                                                 \n",
            " efficientnetb0 (Functional)  (None, None, None, 1280)  4049571  \n",
            "                                                                 \n",
            " global_average_pooling_laye  (None, 1280)             0         \n",
            " r (GlobalAveragePooling2D)                                      \n",
            "                                                                 \n",
            " output_layer (Dense)        (None, 10)                12810     \n",
            "                                                                 \n",
            "=================================================================\n",
            "Total params: 4,062,381\n",
            "Trainable params: 12,810\n",
            "Non-trainable params: 4,049,571\n",
            "_________________________________________________________________\n"
          ]
        }
      ]
    },
    {
      "cell_type": "code",
      "source": [
        "# Evaluate on the full dataset\n",
        "results_1_percent_data_aug = model_1.evaluate(test_data)\n",
        "results_1_percent_data_aug"
      ],
      "metadata": {
        "colab": {
          "base_uri": "https://localhost:8080/"
        },
        "id": "-ujWvtkU07z4",
        "outputId": "fd3adb78-b646-456a-ad5f-d39df58118a2"
      },
      "execution_count": 72,
      "outputs": [
        {
          "output_type": "stream",
          "name": "stdout",
          "text": [
            "79/79 [==============================] - 7s 79ms/step - loss: 1.8327 - accuracy: 0.4788\n"
          ]
        },
        {
          "output_type": "execute_result",
          "data": {
            "text/plain": [
              "[1.8326722383499146, 0.4787999987602234]"
            ]
          },
          "metadata": {},
          "execution_count": 72
        }
      ]
    },
    {
      "cell_type": "code",
      "source": [
        "# How do the model with 1% of the data augmentation loss curves look?\n",
        "plot_loss_curves(history_1_percent)"
      ],
      "metadata": {
        "colab": {
          "base_uri": "https://localhost:8080/",
          "height": 573
        },
        "id": "LjVpbZgf1N9e",
        "outputId": "0a0c4d0d-5f4f-42df-c02b-7f02698486ca"
      },
      "execution_count": 73,
      "outputs": [
        {
          "output_type": "display_data",
          "data": {
            "text/plain": [
              "<Figure size 432x288 with 1 Axes>"
            ],
            "image/png": "[encoded data removed]"
          },
          "metadata": {
            "needs_background": "light"
          }
        },
        {
          "output_type": "display_data",
          "data": {
            "text/plain": [
              "<Figure size 432x288 with 1 Axes>"
            ],
            "image/png": "[encoded data removed]"
          },
          "metadata": {
            "needs_background": "light"
          }
        }
      ]
    },
    {
      "cell_type": "markdown",
      "source": [
        "## Model 2: Feature extraction transfer learning on 10% of the data with data augmentation"
      ],
      "metadata": {
        "id": "32HLqPi-1j7e"
      }
    },
    {
      "cell_type": "code",
      "source": [
        "# Get the helper function\n",
        "!wget https://raw.githubusercontent.com/mrdbourke/tensorflow-deep-learning/main/extras/helper_functions.py"
      ],
      "metadata": {
        "colab": {
          "base_uri": "https://localhost:8080/"
        },
        "id": "FMN_rkc99eVZ",
        "outputId": "04eeaea4-f5c0-43fb-8911-69ca34da06cf"
      },
      "execution_count": 74,
      "outputs": [
        {
          "output_type": "stream",
          "name": "stdout",
          "text": [
            "--2022-07-04 08:06:42--  https://raw.githubusercontent.com/mrdbourke/tensorflow-deep-learning/main/extras/helper_functions.py\n",
            "Resolving raw.githubusercontent.com (raw.githubusercontent.com)... 185.199.110.133, 185.199.109.133, 185.199.111.133, ...\n",
            "Connecting to raw.githubusercontent.com (raw.githubusercontent.com)|185.199.110.133|:443... connected.\n",
            "HTTP request sent, awaiting response... 200 OK\n",
            "Length: 10246 (10K) [text/plain]\n",
            "Saving to: ‘helper_functions.py.3’\n",
            "\n",
            "\rhelper_functions.py   0%[                    ]       0  --.-KB/s               \rhelper_functions.py 100%[===================>]  10.01K  --.-KB/s    in 0s      \n",
            "\n",
            "2022-07-04 08:06:42 (77.5 MB/s) - ‘helper_functions.py.3’ saved [10246/10246]\n",
            "\n"
          ]
        }
      ]
    },
    {
      "cell_type": "code",
      "source": [
        "# Import helper functions we're going to use in this notebook\n",
        "from helper_functions import create_tensorboard_callback, plot_loss_curves, unzip_data, walk_through_dir"
      ],
      "metadata": {
        "id": "6elkT7Az9hsq"
      },
      "execution_count": 75,
      "outputs": []
    },
    {
      "cell_type": "code",
      "source": [
        "# Get 10% of data\n",
        "!wget https://storage.googleapis.com/ztm_tf_course/food_vision/10_food_classes_10_percent.zip\n",
        "\n",
        "unzip_data(\"10_food_classes_10_percent.zip\")\n",
        "\n",
        "train_dir_10_percent = \"10_food_classes_10_percent/train/\"\n",
        "test_dir = \"10_food_classes_10_percent/test/\""
      ],
      "metadata": {
        "colab": {
          "base_uri": "https://localhost:8080/"
        },
        "id": "z8SVfE186W7-",
        "outputId": "a8361d5b-ed25-4770-8f1c-5a1898503369"
      },
      "execution_count": 76,
      "outputs": [
        {
          "output_type": "stream",
          "name": "stdout",
          "text": [
            "--2022-07-04 08:06:42--  https://storage.googleapis.com/ztm_tf_course/food_vision/10_food_classes_10_percent.zip\n",
            "Resolving storage.googleapis.com (storage.googleapis.com)... 173.194.197.128, 142.250.125.128, 142.250.136.128, ...\n",
            "Connecting to storage.googleapis.com (storage.googleapis.com)|173.194.197.128|:443... connected.\n",
            "HTTP request sent, awaiting response... 200 OK\n",
            "Length: 168546183 (161M) [application/zip]\n",
            "Saving to: ‘10_food_classes_10_percent.zip.2’\n",
            "\n",
            "10_food_classes_10_ 100%[===================>] 160.74M  47.9MB/s    in 3.2s    \n",
            "\n",
            "2022-07-04 08:06:46 (50.9 MB/s) - ‘10_food_classes_10_percent.zip.2’ saved [168546183/168546183]\n",
            "\n"
          ]
        }
      ]
    },
    {
      "cell_type": "code",
      "source": [
        "# Set data input\n",
        "import tensorflow as tf\n",
        "IMG_SIZE = (224, 224)\n",
        "train_data_10_percent = tf.keras.preprocessing.image_dataset_from_directory(train_dir_10_percent,\n",
        "                                                                            label_mode=\"categorical\",\n",
        "                                                                            image_size=IMG_SIZE)\n",
        "\n",
        "test_data = tf.keras.preprocessing.image_dataset_from_directory(test_dir,\n",
        "                                                                label_mode=\"categorical\",\n",
        "                                                                image_size=IMG_SIZE)"
      ],
      "metadata": {
        "colab": {
          "base_uri": "https://localhost:8080/"
        },
        "id": "A9CVz46x61zG",
        "outputId": "2f8f374c-6efe-461a-9bbf-199fe10a112c"
      },
      "execution_count": 77,
      "outputs": [
        {
          "output_type": "stream",
          "name": "stdout",
          "text": [
            "Found 750 files belonging to 10 classes.\n",
            "Found 2500 files belonging to 10 classes.\n"
          ]
        }
      ]
    },
    {
      "cell_type": "code",
      "source": [
        "# Create model 2 with data augmentation built in\n",
        "from tensorflow.keras import layers\n",
        "from tensorflow.keras.layers.experimental import preprocessing\n",
        "from tensorflow.keras.models import Sequential\n",
        "\n",
        "# Build data augmenation layer\n",
        "data_augmentation = Sequential([\n",
        "  preprocessing.RandomFlip(\"horizontal\"),\n",
        "  preprocessing.RandomHeight(0.2),  # 0.2 is a good default value\n",
        "  preprocessing.RandomWidth(0.2),\n",
        "  preprocessing.RandomZoom(0.2),\n",
        "  preprocessing.RandomRotation(0.2),\n",
        "  #preprocessing.Rescaling(1/255.)  # for ResNet50V2 without a built in scaled layer                                \n",
        "], name=\"data_augmentation\")"
      ],
      "metadata": {
        "id": "Nlljm6UU8W3t"
      },
      "execution_count": 78,
      "outputs": []
    },
    {
      "cell_type": "code",
      "source": [
        "from gc import callbacks\n",
        "# Set-up input shape and base model, freezing the base model's layer\n",
        "input_shape = IMG_SIZE + (3,)\n",
        "\n",
        "base_model = tf.keras.applications.EfficientNetB0(include_top=False)\n",
        "base_model.trainable = False\n",
        "\n",
        "# Create the input layer\n",
        "inputs = layers.Input(shape=input_shape,\n",
        "                           name=\"input_layer\")\n",
        "\n",
        "# Add in data augmenation sequential model as a layer\n",
        "x = data_augmentation(inputs)\n",
        "\n",
        "# Add the inputs to the base model\n",
        "x = base_model(x, training=False)\n",
        "\n",
        "# Pool output features of the base model\n",
        "x = layers.GlobalAveragePooling2D(name=\"global_average_pooling_layer\")(x)\n",
        "\n",
        "# Put a dense layer on as the output\n",
        "outputs = layers.Dense(10, activation=\"softmax\", name=\"output_layer\")(x)\n",
        "\n",
        "# Create the model using inputs and outputs\n",
        "model_2 = tf.keras.Model(inputs, outputs)\n",
        "\n",
        "# Compile the model\n",
        "model_2.compile(loss=\"categorical_crossentropy\",\n",
        "                optimizer=tf.keras.optimizers.Adam(),\n",
        "                metrics=[\"accuracy\"])\n",
        "\n",
        "# Fit the model\n",
        "history_10_percent_augmented = model_2.fit(train_data_10_percent,\n",
        "                                           epochs=5,\n",
        "                                           steps_per_epoch=len(train_data_10_percent),\n",
        "                                           validation_data=test_data,\n",
        "                                           validation_steps=int(0.25*len(test_data)),\n",
        "                                           callbacks=[create_tensorboard_callback(dir_name=\"transfer_leraning\",\n",
        "                                                                                  experiment_name=\"10_percent_data_aug\")])"
      ],
      "metadata": {
        "colab": {
          "base_uri": "https://localhost:8080/"
        },
        "id": "acwKzhXn2EF0",
        "outputId": "12486b56-9e63-411c-b038-2b2369188e16"
      },
      "execution_count": 79,
      "outputs": [
        {
          "output_type": "stream",
          "name": "stdout",
          "text": [
            "Saving TensorBoard log files to: transfer_leraning/10_percent_data_aug/20220704-080652\n",
            "Epoch 1/5\n",
            "24/24 [==============================] - 13s 317ms/step - loss: 2.0092 - accuracy: 0.3213 - val_loss: 1.4958 - val_accuracy: 0.6414\n",
            "Epoch 2/5\n",
            "24/24 [==============================] - 7s 285ms/step - loss: 1.3528 - accuracy: 0.6707 - val_loss: 1.0929 - val_accuracy: 0.7401\n",
            "Epoch 3/5\n",
            "24/24 [==============================] - 10s 405ms/step - loss: 1.0657 - accuracy: 0.7427 - val_loss: 0.8555 - val_accuracy: 0.7977\n",
            "Epoch 4/5\n",
            "24/24 [==============================] - 7s 252ms/step - loss: 0.8914 - accuracy: 0.7640 - val_loss: 0.7696 - val_accuracy: 0.8026\n",
            "Epoch 5/5\n",
            "24/24 [==============================] - 7s 296ms/step - loss: 0.8166 - accuracy: 0.7893 - val_loss: 0.7146 - val_accuracy: 0.8043\n"
          ]
        }
      ]
    },
    {
      "cell_type": "code",
      "source": [
        "# Evaluate on the full dataset\n",
        "results_10_percent_data_aug = model_2.evaluate(test_data)"
      ],
      "metadata": {
        "colab": {
          "base_uri": "https://localhost:8080/"
        },
        "id": "rL_3_UKq4-T7",
        "outputId": "c65369de-b97f-416d-c22b-adebcdcb426f"
      },
      "execution_count": 80,
      "outputs": [
        {
          "output_type": "stream",
          "name": "stdout",
          "text": [
            "79/79 [==============================] - 7s 82ms/step - loss: 0.7038 - accuracy: 0.8084\n"
          ]
        }
      ]
    },
    {
      "cell_type": "code",
      "source": [
        "# Plot the loss curve\n",
        "plot_loss_curves(history_10_percent_augmented)"
      ],
      "metadata": {
        "colab": {
          "base_uri": "https://localhost:8080/",
          "height": 573
        },
        "id": "WlFl7kqX5ry6",
        "outputId": "3b83545d-292a-4849-fbe5-235718a7294f"
      },
      "execution_count": 81,
      "outputs": [
        {
          "output_type": "display_data",
          "data": {
            "text/plain": [
              "<Figure size 432x288 with 1 Axes>"
            ],
            "image/png": "[encoded data removed]"
          },
          "metadata": {
            "needs_background": "light"
          }
        },
        {
          "output_type": "display_data",
          "data": {
            "text/plain": [
              "<Figure size 432x288 with 1 Axes>"
            ],
            "image/png": "[encoded data removed]"
          },
          "metadata": {
            "needs_background": "light"
          }
        }
      ]
    },
    {
      "cell_type": "markdown",
      "source": [
        "### Creating a ModelCheckpoint callback\n",
        "\n",
        "The ModelCheckpoint callback intermediately saves our model (the full model or just the weights) during training. This is useful so we can come and start where we left off."
      ],
      "metadata": {
        "id": "rPgxswT25xQ6"
      }
    },
    {
      "cell_type": "code",
      "source": [
        "# Set checkpoint path\n",
        "checkpoint_path = \"ten_percent_model_checkpoints_weights/checkpoint.ckpt\"\n",
        "\n",
        "# Create a ModelCheckpoint callback that saves the model's weights only\n",
        "checkpoint_callback= tf.keras.callbacks.ModelCheckpoint(filepath=checkpoint_path,\n",
        "                                                        save_weights_only=True,\n",
        "                                                        save_best_only=False,\n",
        "                                                        save_freq=\"epoch\",  # save every epoch\n",
        "                                                        verbose=1)"
      ],
      "metadata": {
        "id": "0_9InvlewJyN"
      },
      "execution_count": 82,
      "outputs": []
    },
    {
      "cell_type": "markdown",
      "source": [
        "### Fit model 2 passing in the ModelCheckpoint callback"
      ],
      "metadata": {
        "id": "83tFNHT3xN59"
      }
    },
    {
      "cell_type": "code",
      "source": [
        "# Fit the model saving checkpoints every epoch\n",
        "initial_epochs = 5\n",
        "history_10_percent_data_aug = model_2.fit(train_data_10_percent,\n",
        "                                          epochs=initial_epochs,\n",
        "                                          validation_data=test_data,\n",
        "                                          validation_steps=int(0.25*len(test_data)),\n",
        "                                          callbacks=[create_tensorboard_callback(dir_name=\"transfer_learning\",\n",
        "                                                                                 experiment_name=\"10_percent_data_aug\"),\n",
        "                                                     checkpoint_callback])"
      ],
      "metadata": {
        "colab": {
          "base_uri": "https://localhost:8080/"
        },
        "id": "4fjB3DqayR31",
        "outputId": "31e6a1ae-1b67-4d71-ed5e-f24ebb90026d"
      },
      "execution_count": 83,
      "outputs": [
        {
          "output_type": "stream",
          "name": "stdout",
          "text": [
            "Saving TensorBoard log files to: transfer_learning/10_percent_data_aug/20220704-080751\n",
            "Epoch 1/5\n",
            "24/24 [==============================] - ETA: 0s - loss: 0.7208 - accuracy: 0.8240\n",
            "Epoch 1: saving model to ten_percent_model_checkpoints_weights/checkpoint.ckpt\n",
            "24/24 [==============================] - 7s 267ms/step - loss: 0.7208 - accuracy: 0.8240 - val_loss: 0.6524 - val_accuracy: 0.8158\n",
            "Epoch 2/5\n",
            "24/24 [==============================] - ETA: 0s - loss: 0.6757 - accuracy: 0.8107\n",
            "Epoch 2: saving model to ten_percent_model_checkpoints_weights/checkpoint.ckpt\n",
            "24/24 [==============================] - 6s 230ms/step - loss: 0.6757 - accuracy: 0.8107 - val_loss: 0.6190 - val_accuracy: 0.8191\n",
            "Epoch 3/5\n",
            "24/24 [==============================] - ETA: 0s - loss: 0.6176 - accuracy: 0.8453\n",
            "Epoch 3: saving model to ten_percent_model_checkpoints_weights/checkpoint.ckpt\n",
            "24/24 [==============================] - 7s 274ms/step - loss: 0.6176 - accuracy: 0.8453 - val_loss: 0.6002 - val_accuracy: 0.8207\n",
            "Epoch 4/5\n",
            "24/24 [==============================] - ETA: 0s - loss: 0.5982 - accuracy: 0.8493\n",
            "Epoch 4: saving model to ten_percent_model_checkpoints_weights/checkpoint.ckpt\n",
            "24/24 [==============================] - 7s 276ms/step - loss: 0.5982 - accuracy: 0.8493 - val_loss: 0.5800 - val_accuracy: 0.8289\n",
            "Epoch 5/5\n",
            "24/24 [==============================] - ETA: 0s - loss: 0.5494 - accuracy: 0.8560\n",
            "Epoch 5: saving model to ten_percent_model_checkpoints_weights/checkpoint.ckpt\n",
            "24/24 [==============================] - 9s 346ms/step - loss: 0.5494 - accuracy: 0.8560 - val_loss: 0.5221 - val_accuracy: 0.8487\n"
          ]
        }
      ]
    },
    {
      "cell_type": "code",
      "source": [
        "# Check model 2 results on all test_data\n",
        "results_10_percent_data_aug = model_2.evaluate(test_data)\n",
        "results_10_percent_data_aug"
      ],
      "metadata": {
        "colab": {
          "base_uri": "https://localhost:8080/"
        },
        "id": "40VzqVUKzdw6",
        "outputId": "e3c44401-13bd-4992-cdd9-691ddab884eb"
      },
      "execution_count": 84,
      "outputs": [
        {
          "output_type": "stream",
          "name": "stdout",
          "text": [
            "79/79 [==============================] - 6s 74ms/step - loss: 0.5655 - accuracy: 0.8360\n"
          ]
        },
        {
          "output_type": "execute_result",
          "data": {
            "text/plain": [
              "[0.5654925107955933, 0.8360000252723694]"
            ]
          },
          "metadata": {},
          "execution_count": 84
        }
      ]
    },
    {
      "cell_type": "code",
      "source": [
        "# Plot model loss curves\n",
        "plot_loss_curves(history_10_percent_data_aug)"
      ],
      "metadata": {
        "colab": {
          "base_uri": "https://localhost:8080/",
          "height": 573
        },
        "id": "Syk6NqUFzfsJ",
        "outputId": "8fdbd6eb-004d-49a3-db63-6e179a33c8c8"
      },
      "execution_count": 85,
      "outputs": [
        {
          "output_type": "display_data",
          "data": {
            "text/plain": [
              "<Figure size 432x288 with 1 Axes>"
            ],
            "image/png": "[encoded data removed]"
          },
          "metadata": {
            "needs_background": "light"
          }
        },
        {
          "output_type": "display_data",
          "data": {
            "text/plain": [
              "<Figure size 432x288 with 1 Axes>"
            ],
            "image/png": "[encoded data removed]"
          },
          "metadata": {
            "needs_background": "light"
          }
        }
      ]
    },
    {
      "cell_type": "markdown",
      "source": [
        "### Loading in checkpointed weights\n",
        "\n",
        "loading in checkpointed weights returns a model to a specific checkpoint"
      ],
      "metadata": {
        "id": "39vDjOkL0GNB"
      }
    },
    {
      "cell_type": "code",
      "source": [
        "# Load in saved model weights and evaluate model\n",
        "model_2.load_weights(checkpoint_path)"
      ],
      "metadata": {
        "colab": {
          "base_uri": "https://localhost:8080/"
        },
        "id": "8rZHGm070hHg",
        "outputId": "b6e5385c-51e6-437a-e394-2df7748be60b"
      },
      "execution_count": 86,
      "outputs": [
        {
          "output_type": "execute_result",
          "data": {
            "text/plain": [
              "<tensorflow.python.training.tracking.util.CheckpointLoadStatus at 0x7fe1f73f4ad0>"
            ]
          },
          "metadata": {},
          "execution_count": 86
        }
      ]
    },
    {
      "cell_type": "code",
      "source": [
        "# Evaluate model_2 with loaded weights\n",
        "loaded_weights_model_results = model_2.evaluate(test_data)"
      ],
      "metadata": {
        "colab": {
          "base_uri": "https://localhost:8080/"
        },
        "id": "ImjdliDc0zAQ",
        "outputId": "3b3380b5-5695-4ea6-e44c-9ab718c6d2ad"
      },
      "execution_count": 87,
      "outputs": [
        {
          "output_type": "stream",
          "name": "stdout",
          "text": [
            "79/79 [==============================] - 7s 85ms/step - loss: 0.5655 - accuracy: 0.8360\n"
          ]
        }
      ]
    },
    {
      "cell_type": "code",
      "source": [
        "# If the results from our previously evaluated model_2 match the loaded weights, everything has worked!\n",
        "print(\"original weights:\", results_10_percent_data_aug)\n",
        "print(\"loaded weights:  \", loaded_weights_model_results)"
      ],
      "metadata": {
        "colab": {
          "base_uri": "https://localhost:8080/"
        },
        "id": "_dn4S3CA09Co",
        "outputId": "56141b2d-4b31-4366-cf53-10441b8b10a6"
      },
      "execution_count": 88,
      "outputs": [
        {
          "output_type": "stream",
          "name": "stdout",
          "text": [
            "original weights: [0.5654925107955933, 0.8360000252723694]\n",
            "loaded weights:   [0.565492570400238, 0.8360000252723694]\n"
          ]
        }
      ]
    },
    {
      "cell_type": "code",
      "source": [
        "# Check to see if loaded model results are very close to our previous non-loaded model results\n",
        "import numpy as np\n",
        "np.isclose(np.array(results_10_percent_data_aug), np.array(loaded_weights_model_results))"
      ],
      "metadata": {
        "colab": {
          "base_uri": "https://localhost:8080/"
        },
        "id": "lvOzJ7SJ1cm1",
        "outputId": "89c59c79-6457-4791-e8e5-0e438dd59acc"
      },
      "execution_count": 89,
      "outputs": [
        {
          "output_type": "execute_result",
          "data": {
            "text/plain": [
              "array([ True,  True])"
            ]
          },
          "metadata": {},
          "execution_count": 89
        }
      ]
    },
    {
      "cell_type": "code",
      "source": [
        "# Check the difference between 2 results\n",
        "print(np.array(results_10_percent_data_aug) - np.array(loaded_weights_model_results))"
      ],
      "metadata": {
        "colab": {
          "base_uri": "https://localhost:8080/"
        },
        "id": "MRXsya9T2EBe",
        "outputId": "e6c51940-864c-420b-bb96-255973307fb3"
      },
      "execution_count": 90,
      "outputs": [
        {
          "output_type": "stream",
          "name": "stdout",
          "text": [
            "[-5.96046448e-08  0.00000000e+00]\n"
          ]
        }
      ]
    },
    {
      "cell_type": "markdown",
      "source": [
        "## Model 3: Fine-tuning an existing model on 10% of the data\n",
        "\n",
        ">**Note:** So fine-tuning usually works best *after* training a feature extraction model for a few epochs with large amounts of custom data."
      ],
      "metadata": {
        "id": "NR4G6WDW2MsO"
      }
    },
    {
      "cell_type": "code",
      "source": [
        "# Layers in loaded model\n",
        "model_2.layers"
      ],
      "metadata": {
        "colab": {
          "base_uri": "https://localhost:8080/"
        },
        "id": "xudDGLBM5Dtq",
        "outputId": "59ad25bd-a33f-49cb-fb01-0f1037c977f2"
      },
      "execution_count": 91,
      "outputs": [
        {
          "output_type": "execute_result",
          "data": {
            "text/plain": [
              "[<keras.engine.input_layer.InputLayer at 0x7fe1f7667f50>,\n",
              " <keras.engine.sequential.Sequential at 0x7fe1f7402cd0>,\n",
              " <keras.engine.functional.Functional at 0x7fe1f70eda90>,\n",
              " <keras.layers.pooling.GlobalAveragePooling2D at 0x7fe1f973a110>,\n",
              " <keras.layers.core.dense.Dense at 0x7fe1f70e64d0>]"
            ]
          },
          "metadata": {},
          "execution_count": 91
        }
      ]
    },
    {
      "cell_type": "code",
      "source": [
        "# Are these layers trainable?\n",
        "for layer in model_2.layers:\n",
        "  print(layer, layer.trainable)"
      ],
      "metadata": {
        "colab": {
          "base_uri": "https://localhost:8080/"
        },
        "id": "nsDGwHGk5fIL",
        "outputId": "9f5c8a67-ab02-44c3-b971-3f94ac2b2f5f"
      },
      "execution_count": 92,
      "outputs": [
        {
          "output_type": "stream",
          "name": "stdout",
          "text": [
            "<keras.engine.input_layer.InputLayer object at 0x7fe1f7667f50> True\n",
            "<keras.engine.sequential.Sequential object at 0x7fe1f7402cd0> True\n",
            "<keras.engine.functional.Functional object at 0x7fe1f70eda90> False\n",
            "<keras.layers.pooling.GlobalAveragePooling2D object at 0x7fe1f973a110> True\n",
            "<keras.layers.core.dense.Dense object at 0x7fe1f70e64d0> True\n"
          ]
        }
      ]
    },
    {
      "cell_type": "code",
      "source": [
        "# What layers are in our base_model (EfficientNetB0) and are they trainable?\n",
        "for i, layer in enumerate(model_2.layers[2].layers):\n",
        "  print(i, layer.name, layer.trainable)"
      ],
      "metadata": {
        "colab": {
          "base_uri": "https://localhost:8080/"
        },
        "id": "FhYLKlYe5zAx",
        "outputId": "663b8580-ab48-48d5-9cca-7c8893632d4b"
      },
      "execution_count": 93,
      "outputs": [
        {
          "output_type": "stream",
          "name": "stdout",
          "text": [
            "0 input_4 False\n",
            "1 rescaling_3 False\n",
            "2 normalization_3 False\n",
            "3 stem_conv_pad False\n",
            "4 stem_conv False\n",
            "5 stem_bn False\n",
            "6 stem_activation False\n",
            "7 block1a_dwconv False\n",
            "8 block1a_bn False\n",
            "9 block1a_activation False\n",
            "10 block1a_se_squeeze False\n",
            "11 block1a_se_reshape False\n",
            "12 block1a_se_reduce False\n",
            "13 block1a_se_expand False\n",
            "14 block1a_se_excite False\n",
            "15 block1a_project_conv False\n",
            "16 block1a_project_bn False\n",
            "17 block2a_expand_conv False\n",
            "18 block2a_expand_bn False\n",
            "19 block2a_expand_activation False\n",
            "20 block2a_dwconv_pad False\n",
            "21 block2a_dwconv False\n",
            "22 block2a_bn False\n",
            "23 block2a_activation False\n",
            "24 block2a_se_squeeze False\n",
            "25 block2a_se_reshape False\n",
            "26 block2a_se_reduce False\n",
            "27 block2a_se_expand False\n",
            "28 block2a_se_excite False\n",
            "29 block2a_project_conv False\n",
            "30 block2a_project_bn False\n",
            "31 block2b_expand_conv False\n",
            "32 block2b_expand_bn False\n",
            "33 block2b_expand_activation False\n",
            "34 block2b_dwconv False\n",
            "35 block2b_bn False\n",
            "36 block2b_activation False\n",
            "37 block2b_se_squeeze False\n",
            "38 block2b_se_reshape False\n",
            "39 block2b_se_reduce False\n",
            "40 block2b_se_expand False\n",
            "41 block2b_se_excite False\n",
            "42 block2b_project_conv False\n",
            "43 block2b_project_bn False\n",
            "44 block2b_drop False\n",
            "45 block2b_add False\n",
            "46 block3a_expand_conv False\n",
            "47 block3a_expand_bn False\n",
            "48 block3a_expand_activation False\n",
            "49 block3a_dwconv_pad False\n",
            "50 block3a_dwconv False\n",
            "51 block3a_bn False\n",
            "52 block3a_activation False\n",
            "53 block3a_se_squeeze False\n",
            "54 block3a_se_reshape False\n",
            "55 block3a_se_reduce False\n",
            "56 block3a_se_expand False\n",
            "57 block3a_se_excite False\n",
            "58 block3a_project_conv False\n",
            "59 block3a_project_bn False\n",
            "60 block3b_expand_conv False\n",
            "61 block3b_expand_bn False\n",
            "62 block3b_expand_activation False\n",
            "63 block3b_dwconv False\n",
            "64 block3b_bn False\n",
            "65 block3b_activation False\n",
            "66 block3b_se_squeeze False\n",
            "67 block3b_se_reshape False\n",
            "68 block3b_se_reduce False\n",
            "69 block3b_se_expand False\n",
            "70 block3b_se_excite False\n",
            "71 block3b_project_conv False\n",
            "72 block3b_project_bn False\n",
            "73 block3b_drop False\n",
            "74 block3b_add False\n",
            "75 block4a_expand_conv False\n",
            "76 block4a_expand_bn False\n",
            "77 block4a_expand_activation False\n",
            "78 block4a_dwconv_pad False\n",
            "79 block4a_dwconv False\n",
            "80 block4a_bn False\n",
            "81 block4a_activation False\n",
            "82 block4a_se_squeeze False\n",
            "83 block4a_se_reshape False\n",
            "84 block4a_se_reduce False\n",
            "85 block4a_se_expand False\n",
            "86 block4a_se_excite False\n",
            "87 block4a_project_conv False\n",
            "88 block4a_project_bn False\n",
            "89 block4b_expand_conv False\n",
            "90 block4b_expand_bn False\n",
            "91 block4b_expand_activation False\n",
            "92 block4b_dwconv False\n",
            "93 block4b_bn False\n",
            "94 block4b_activation False\n",
            "95 block4b_se_squeeze False\n",
            "96 block4b_se_reshape False\n",
            "97 block4b_se_reduce False\n",
            "98 block4b_se_expand False\n",
            "99 block4b_se_excite False\n",
            "100 block4b_project_conv False\n",
            "101 block4b_project_bn False\n",
            "102 block4b_drop False\n",
            "103 block4b_add False\n",
            "104 block4c_expand_conv False\n",
            "105 block4c_expand_bn False\n",
            "106 block4c_expand_activation False\n",
            "107 block4c_dwconv False\n",
            "108 block4c_bn False\n",
            "109 block4c_activation False\n",
            "110 block4c_se_squeeze False\n",
            "111 block4c_se_reshape False\n",
            "112 block4c_se_reduce False\n",
            "113 block4c_se_expand False\n",
            "114 block4c_se_excite False\n",
            "115 block4c_project_conv False\n",
            "116 block4c_project_bn False\n",
            "117 block4c_drop False\n",
            "118 block4c_add False\n",
            "119 block5a_expand_conv False\n",
            "120 block5a_expand_bn False\n",
            "121 block5a_expand_activation False\n",
            "122 block5a_dwconv False\n",
            "123 block5a_bn False\n",
            "124 block5a_activation False\n",
            "125 block5a_se_squeeze False\n",
            "126 block5a_se_reshape False\n",
            "127 block5a_se_reduce False\n",
            "128 block5a_se_expand False\n",
            "129 block5a_se_excite False\n",
            "130 block5a_project_conv False\n",
            "131 block5a_project_bn False\n",
            "132 block5b_expand_conv False\n",
            "133 block5b_expand_bn False\n",
            "134 block5b_expand_activation False\n",
            "135 block5b_dwconv False\n",
            "136 block5b_bn False\n",
            "137 block5b_activation False\n",
            "138 block5b_se_squeeze False\n",
            "139 block5b_se_reshape False\n",
            "140 block5b_se_reduce False\n",
            "141 block5b_se_expand False\n",
            "142 block5b_se_excite False\n",
            "143 block5b_project_conv False\n",
            "144 block5b_project_bn False\n",
            "145 block5b_drop False\n",
            "146 block5b_add False\n",
            "147 block5c_expand_conv False\n",
            "148 block5c_expand_bn False\n",
            "149 block5c_expand_activation False\n",
            "150 block5c_dwconv False\n",
            "151 block5c_bn False\n",
            "152 block5c_activation False\n",
            "153 block5c_se_squeeze False\n",
            "154 block5c_se_reshape False\n",
            "155 block5c_se_reduce False\n",
            "156 block5c_se_expand False\n",
            "157 block5c_se_excite False\n",
            "158 block5c_project_conv False\n",
            "159 block5c_project_bn False\n",
            "160 block5c_drop False\n",
            "161 block5c_add False\n",
            "162 block6a_expand_conv False\n",
            "163 block6a_expand_bn False\n",
            "164 block6a_expand_activation False\n",
            "165 block6a_dwconv_pad False\n",
            "166 block6a_dwconv False\n",
            "167 block6a_bn False\n",
            "168 block6a_activation False\n",
            "169 block6a_se_squeeze False\n",
            "170 block6a_se_reshape False\n",
            "171 block6a_se_reduce False\n",
            "172 block6a_se_expand False\n",
            "173 block6a_se_excite False\n",
            "174 block6a_project_conv False\n",
            "175 block6a_project_bn False\n",
            "176 block6b_expand_conv False\n",
            "177 block6b_expand_bn False\n",
            "178 block6b_expand_activation False\n",
            "179 block6b_dwconv False\n",
            "180 block6b_bn False\n",
            "181 block6b_activation False\n",
            "182 block6b_se_squeeze False\n",
            "183 block6b_se_reshape False\n",
            "184 block6b_se_reduce False\n",
            "185 block6b_se_expand False\n",
            "186 block6b_se_excite False\n",
            "187 block6b_project_conv False\n",
            "188 block6b_project_bn False\n",
            "189 block6b_drop False\n",
            "190 block6b_add False\n",
            "191 block6c_expand_conv False\n",
            "192 block6c_expand_bn False\n",
            "193 block6c_expand_activation False\n",
            "194 block6c_dwconv False\n",
            "195 block6c_bn False\n",
            "196 block6c_activation False\n",
            "197 block6c_se_squeeze False\n",
            "198 block6c_se_reshape False\n",
            "199 block6c_se_reduce False\n",
            "200 block6c_se_expand False\n",
            "201 block6c_se_excite False\n",
            "202 block6c_project_conv False\n",
            "203 block6c_project_bn False\n",
            "204 block6c_drop False\n",
            "205 block6c_add False\n",
            "206 block6d_expand_conv False\n",
            "207 block6d_expand_bn False\n",
            "208 block6d_expand_activation False\n",
            "209 block6d_dwconv False\n",
            "210 block6d_bn False\n",
            "211 block6d_activation False\n",
            "212 block6d_se_squeeze False\n",
            "213 block6d_se_reshape False\n",
            "214 block6d_se_reduce False\n",
            "215 block6d_se_expand False\n",
            "216 block6d_se_excite False\n",
            "217 block6d_project_conv False\n",
            "218 block6d_project_bn False\n",
            "219 block6d_drop False\n",
            "220 block6d_add False\n",
            "221 block7a_expand_conv False\n",
            "222 block7a_expand_bn False\n",
            "223 block7a_expand_activation False\n",
            "224 block7a_dwconv False\n",
            "225 block7a_bn False\n",
            "226 block7a_activation False\n",
            "227 block7a_se_squeeze False\n",
            "228 block7a_se_reshape False\n",
            "229 block7a_se_reduce False\n",
            "230 block7a_se_expand False\n",
            "231 block7a_se_excite False\n",
            "232 block7a_project_conv False\n",
            "233 block7a_project_bn False\n",
            "234 top_conv False\n",
            "235 top_bn False\n",
            "236 top_activation False\n"
          ]
        }
      ]
    },
    {
      "cell_type": "code",
      "source": [
        "# How many trainable variables are in our base model?\n",
        "print(len(model_2.layers[2].trainable_variables))"
      ],
      "metadata": {
        "colab": {
          "base_uri": "https://localhost:8080/"
        },
        "id": "mPfB2FvL5_sg",
        "outputId": "cc542a98-2cdb-46f0-945a-4dece12b0ac0"
      },
      "execution_count": 94,
      "outputs": [
        {
          "output_type": "stream",
          "name": "stdout",
          "text": [
            "0\n"
          ]
        }
      ]
    },
    {
      "cell_type": "code",
      "source": [
        "# To begin fine-tuning, let's start by setting the last 10 layers of our base_model.trainable = True\n",
        "base_model.trainable = True\n",
        "\n",
        "# Freeze all layers except for the last 10\n",
        "for layer in base_model.layers[:-10]:\n",
        "  layer.trainable = False\n",
        "\n",
        "# Recompile (we have to recompile our models everytime we make a change)\n",
        "model_2.compile(loss=\"categorical_crossentropy\",\n",
        "                optimizer=tf.keras.optimizers.Adam(learning_rate=0.0001), # when fine-tuning you typically want to lower the learning rate by 10x\n",
        "                metrics=[\"accuracy\"])"
      ],
      "metadata": {
        "id": "GHaNJkMh6ego"
      },
      "execution_count": 95,
      "outputs": []
    },
    {
      "cell_type": "markdown",
      "source": [
        ">**Note:** When using fine-tuning it's best practice to lower your learning rate by some amount. How much? This is a hyperparameter you can tune. But a rule of thumb is at least 10x (though differntsource will claim other values). A good resource for information on this is the ULMFiT paper: https://arxiv.org/abs/1801.06146"
      ],
      "metadata": {
        "id": "r0jErMT38SB4"
      }
    },
    {
      "cell_type": "code",
      "source": [
        "# Check which layers are tunable (Trainable)\n",
        "for layer_number, layer in enumerate(model_2.layers[2].layers):\n",
        "  print(layer_number, layer.name, layer.trainable)"
      ],
      "metadata": {
        "colab": {
          "base_uri": "https://localhost:8080/"
        },
        "id": "cjj3LU9C7maO",
        "outputId": "ffb47983-8ac4-41e7-f1f3-1d6465041d62"
      },
      "execution_count": 96,
      "outputs": [
        {
          "output_type": "stream",
          "name": "stdout",
          "text": [
            "0 input_4 False\n",
            "1 rescaling_3 False\n",
            "2 normalization_3 False\n",
            "3 stem_conv_pad False\n",
            "4 stem_conv False\n",
            "5 stem_bn False\n",
            "6 stem_activation False\n",
            "7 block1a_dwconv False\n",
            "8 block1a_bn False\n",
            "9 block1a_activation False\n",
            "10 block1a_se_squeeze False\n",
            "11 block1a_se_reshape False\n",
            "12 block1a_se_reduce False\n",
            "13 block1a_se_expand False\n",
            "14 block1a_se_excite False\n",
            "15 block1a_project_conv False\n",
            "16 block1a_project_bn False\n",
            "17 block2a_expand_conv False\n",
            "18 block2a_expand_bn False\n",
            "19 block2a_expand_activation False\n",
            "20 block2a_dwconv_pad False\n",
            "21 block2a_dwconv False\n",
            "22 block2a_bn False\n",
            "23 block2a_activation False\n",
            "24 block2a_se_squeeze False\n",
            "25 block2a_se_reshape False\n",
            "26 block2a_se_reduce False\n",
            "27 block2a_se_expand False\n",
            "28 block2a_se_excite False\n",
            "29 block2a_project_conv False\n",
            "30 block2a_project_bn False\n",
            "31 block2b_expand_conv False\n",
            "32 block2b_expand_bn False\n",
            "33 block2b_expand_activation False\n",
            "34 block2b_dwconv False\n",
            "35 block2b_bn False\n",
            "36 block2b_activation False\n",
            "37 block2b_se_squeeze False\n",
            "38 block2b_se_reshape False\n",
            "39 block2b_se_reduce False\n",
            "40 block2b_se_expand False\n",
            "41 block2b_se_excite False\n",
            "42 block2b_project_conv False\n",
            "43 block2b_project_bn False\n",
            "44 block2b_drop False\n",
            "45 block2b_add False\n",
            "46 block3a_expand_conv False\n",
            "47 block3a_expand_bn False\n",
            "48 block3a_expand_activation False\n",
            "49 block3a_dwconv_pad False\n",
            "50 block3a_dwconv False\n",
            "51 block3a_bn False\n",
            "52 block3a_activation False\n",
            "53 block3a_se_squeeze False\n",
            "54 block3a_se_reshape False\n",
            "55 block3a_se_reduce False\n",
            "56 block3a_se_expand False\n",
            "57 block3a_se_excite False\n",
            "58 block3a_project_conv False\n",
            "59 block3a_project_bn False\n",
            "60 block3b_expand_conv False\n",
            "61 block3b_expand_bn False\n",
            "62 block3b_expand_activation False\n",
            "63 block3b_dwconv False\n",
            "64 block3b_bn False\n",
            "65 block3b_activation False\n",
            "66 block3b_se_squeeze False\n",
            "67 block3b_se_reshape False\n",
            "68 block3b_se_reduce False\n",
            "69 block3b_se_expand False\n",
            "70 block3b_se_excite False\n",
            "71 block3b_project_conv False\n",
            "72 block3b_project_bn False\n",
            "73 block3b_drop False\n",
            "74 block3b_add False\n",
            "75 block4a_expand_conv False\n",
            "76 block4a_expand_bn False\n",
            "77 block4a_expand_activation False\n",
            "78 block4a_dwconv_pad False\n",
            "79 block4a_dwconv False\n",
            "80 block4a_bn False\n",
            "81 block4a_activation False\n",
            "82 block4a_se_squeeze False\n",
            "83 block4a_se_reshape False\n",
            "84 block4a_se_reduce False\n",
            "85 block4a_se_expand False\n",
            "86 block4a_se_excite False\n",
            "87 block4a_project_conv False\n",
            "88 block4a_project_bn False\n",
            "89 block4b_expand_conv False\n",
            "90 block4b_expand_bn False\n",
            "91 block4b_expand_activation False\n",
            "92 block4b_dwconv False\n",
            "93 block4b_bn False\n",
            "94 block4b_activation False\n",
            "95 block4b_se_squeeze False\n",
            "96 block4b_se_reshape False\n",
            "97 block4b_se_reduce False\n",
            "98 block4b_se_expand False\n",
            "99 block4b_se_excite False\n",
            "100 block4b_project_conv False\n",
            "101 block4b_project_bn False\n",
            "102 block4b_drop False\n",
            "103 block4b_add False\n",
            "104 block4c_expand_conv False\n",
            "105 block4c_expand_bn False\n",
            "106 block4c_expand_activation False\n",
            "107 block4c_dwconv False\n",
            "108 block4c_bn False\n",
            "109 block4c_activation False\n",
            "110 block4c_se_squeeze False\n",
            "111 block4c_se_reshape False\n",
            "112 block4c_se_reduce False\n",
            "113 block4c_se_expand False\n",
            "114 block4c_se_excite False\n",
            "115 block4c_project_conv False\n",
            "116 block4c_project_bn False\n",
            "117 block4c_drop False\n",
            "118 block4c_add False\n",
            "119 block5a_expand_conv False\n",
            "120 block5a_expand_bn False\n",
            "121 block5a_expand_activation False\n",
            "122 block5a_dwconv False\n",
            "123 block5a_bn False\n",
            "124 block5a_activation False\n",
            "125 block5a_se_squeeze False\n",
            "126 block5a_se_reshape False\n",
            "127 block5a_se_reduce False\n",
            "128 block5a_se_expand False\n",
            "129 block5a_se_excite False\n",
            "130 block5a_project_conv False\n",
            "131 block5a_project_bn False\n",
            "132 block5b_expand_conv False\n",
            "133 block5b_expand_bn False\n",
            "134 block5b_expand_activation False\n",
            "135 block5b_dwconv False\n",
            "136 block5b_bn False\n",
            "137 block5b_activation False\n",
            "138 block5b_se_squeeze False\n",
            "139 block5b_se_reshape False\n",
            "140 block5b_se_reduce False\n",
            "141 block5b_se_expand False\n",
            "142 block5b_se_excite False\n",
            "143 block5b_project_conv False\n",
            "144 block5b_project_bn False\n",
            "145 block5b_drop False\n",
            "146 block5b_add False\n",
            "147 block5c_expand_conv False\n",
            "148 block5c_expand_bn False\n",
            "149 block5c_expand_activation False\n",
            "150 block5c_dwconv False\n",
            "151 block5c_bn False\n",
            "152 block5c_activation False\n",
            "153 block5c_se_squeeze False\n",
            "154 block5c_se_reshape False\n",
            "155 block5c_se_reduce False\n",
            "156 block5c_se_expand False\n",
            "157 block5c_se_excite False\n",
            "158 block5c_project_conv False\n",
            "159 block5c_project_bn False\n",
            "160 block5c_drop False\n",
            "161 block5c_add False\n",
            "162 block6a_expand_conv False\n",
            "163 block6a_expand_bn False\n",
            "164 block6a_expand_activation False\n",
            "165 block6a_dwconv_pad False\n",
            "166 block6a_dwconv False\n",
            "167 block6a_bn False\n",
            "168 block6a_activation False\n",
            "169 block6a_se_squeeze False\n",
            "170 block6a_se_reshape False\n",
            "171 block6a_se_reduce False\n",
            "172 block6a_se_expand False\n",
            "173 block6a_se_excite False\n",
            "174 block6a_project_conv False\n",
            "175 block6a_project_bn False\n",
            "176 block6b_expand_conv False\n",
            "177 block6b_expand_bn False\n",
            "178 block6b_expand_activation False\n",
            "179 block6b_dwconv False\n",
            "180 block6b_bn False\n",
            "181 block6b_activation False\n",
            "182 block6b_se_squeeze False\n",
            "183 block6b_se_reshape False\n",
            "184 block6b_se_reduce False\n",
            "185 block6b_se_expand False\n",
            "186 block6b_se_excite False\n",
            "187 block6b_project_conv False\n",
            "188 block6b_project_bn False\n",
            "189 block6b_drop False\n",
            "190 block6b_add False\n",
            "191 block6c_expand_conv False\n",
            "192 block6c_expand_bn False\n",
            "193 block6c_expand_activation False\n",
            "194 block6c_dwconv False\n",
            "195 block6c_bn False\n",
            "196 block6c_activation False\n",
            "197 block6c_se_squeeze False\n",
            "198 block6c_se_reshape False\n",
            "199 block6c_se_reduce False\n",
            "200 block6c_se_expand False\n",
            "201 block6c_se_excite False\n",
            "202 block6c_project_conv False\n",
            "203 block6c_project_bn False\n",
            "204 block6c_drop False\n",
            "205 block6c_add False\n",
            "206 block6d_expand_conv False\n",
            "207 block6d_expand_bn False\n",
            "208 block6d_expand_activation False\n",
            "209 block6d_dwconv False\n",
            "210 block6d_bn False\n",
            "211 block6d_activation False\n",
            "212 block6d_se_squeeze False\n",
            "213 block6d_se_reshape False\n",
            "214 block6d_se_reduce False\n",
            "215 block6d_se_expand False\n",
            "216 block6d_se_excite False\n",
            "217 block6d_project_conv False\n",
            "218 block6d_project_bn False\n",
            "219 block6d_drop False\n",
            "220 block6d_add False\n",
            "221 block7a_expand_conv False\n",
            "222 block7a_expand_bn False\n",
            "223 block7a_expand_activation False\n",
            "224 block7a_dwconv False\n",
            "225 block7a_bn False\n",
            "226 block7a_activation False\n",
            "227 block7a_se_squeeze True\n",
            "228 block7a_se_reshape True\n",
            "229 block7a_se_reduce True\n",
            "230 block7a_se_expand True\n",
            "231 block7a_se_excite True\n",
            "232 block7a_project_conv True\n",
            "233 block7a_project_bn True\n",
            "234 top_conv True\n",
            "235 top_bn True\n",
            "236 top_activation True\n"
          ]
        }
      ]
    },
    {
      "cell_type": "code",
      "source": [
        "# Now we've unfrozen some of the layers closer to the top, how many trainable variable are there?\n",
        "print(len(model_2.trainable_variables))"
      ],
      "metadata": {
        "colab": {
          "base_uri": "https://localhost:8080/"
        },
        "id": "SKQwqYZD-IjL",
        "outputId": "b4f1dabf-196e-4508-98bd-76b8af872431"
      },
      "execution_count": 97,
      "outputs": [
        {
          "output_type": "stream",
          "name": "stdout",
          "text": [
            "12\n"
          ]
        }
      ]
    },
    {
      "cell_type": "code",
      "source": [
        "# Fine tune for another 5 epochs\n",
        "fine_tune_epochs = initial_epochs + 5\n",
        "\n",
        "# Refit the model (same as model_2 except with more trainable layers)\n",
        "history_fine_10_percent_data_aug = model_2.fit(train_data_10_percent,\n",
        "                                               epochs=fine_tune_epochs,\n",
        "                                               validation_data=test_data,\n",
        "                                               validation_steps=int(0.25*len(test_data)),\n",
        "                                               initial_epoch=history_10_percent_data_aug.epoch[-1],  # start training from last previous epoch\n",
        "                                               callbacks=[create_tensorboard_callback(dir_name=\"transfer_learning\",\n",
        "                                                                                      experiment_name=\"10_percent_fine_tune_last_10\")])  "
      ],
      "metadata": {
        "colab": {
          "base_uri": "https://localhost:8080/"
        },
        "id": "AHHl_t6e-SK8",
        "outputId": "3503cdcc-4f1b-44e7-b5d6-706ba5682268"
      },
      "execution_count": 98,
      "outputs": [
        {
          "output_type": "stream",
          "name": "stdout",
          "text": [
            "Saving TensorBoard log files to: transfer_learning/10_percent_fine_tune_last_10/20220704-080857\n",
            "Epoch 5/10\n",
            "24/24 [==============================] - 16s 333ms/step - loss: 0.4930 - accuracy: 0.8573 - val_loss: 0.5088 - val_accuracy: 0.8273\n",
            "Epoch 6/10\n",
            "24/24 [==============================] - 7s 280ms/step - loss: 0.4204 - accuracy: 0.8667 - val_loss: 0.5053 - val_accuracy: 0.8421\n",
            "Epoch 7/10\n",
            "24/24 [==============================] - 6s 230ms/step - loss: 0.3717 - accuracy: 0.8933 - val_loss: 0.4897 - val_accuracy: 0.8372\n",
            "Epoch 8/10\n",
            "24/24 [==============================] - 7s 276ms/step - loss: 0.3284 - accuracy: 0.9160 - val_loss: 0.4704 - val_accuracy: 0.8355\n",
            "Epoch 9/10\n",
            "24/24 [==============================] - 5s 204ms/step - loss: 0.3051 - accuracy: 0.9080 - val_loss: 0.4625 - val_accuracy: 0.8454\n",
            "Epoch 10/10\n",
            "24/24 [==============================] - 6s 247ms/step - loss: 0.2564 - accuracy: 0.9307 - val_loss: 0.5208 - val_accuracy: 0.8322\n"
          ]
        }
      ]
    },
    {
      "cell_type": "code",
      "source": [
        "# Evaluate the fine-tuned model (model_3 which is actually model_2 fine-tuned for another 5 epochs)\n",
        "results_fine_tune_10_percent = model_2.evaluate(test_data)"
      ],
      "metadata": {
        "colab": {
          "base_uri": "https://localhost:8080/"
        },
        "id": "pAqlO01c--sr",
        "outputId": "62c7eae7-65e9-46f5-a62d-1db82b14f52a"
      },
      "execution_count": 99,
      "outputs": [
        {
          "output_type": "stream",
          "name": "stdout",
          "text": [
            "79/79 [==============================] - 7s 78ms/step - loss: 0.5158 - accuracy: 0.8296\n"
          ]
        }
      ]
    },
    {
      "cell_type": "code",
      "source": [
        "# Check out the loss curves of our fine-tuned model\n",
        "plot_loss_curves(history_fine_10_percent_data_aug)"
      ],
      "metadata": {
        "colab": {
          "base_uri": "https://localhost:8080/",
          "height": 573
        },
        "id": "kT4ZNbJQBE0A",
        "outputId": "0f80a561-4874-4de9-a8a2-7d8c4d0ba948"
      },
      "execution_count": 100,
      "outputs": [
        {
          "output_type": "display_data",
          "data": {
            "text/plain": [
              "<Figure size 432x288 with 1 Axes>"
            ],
            "image/png": "[encoded data removed]"
          },
          "metadata": {
            "needs_background": "light"
          }
        },
        {
          "output_type": "display_data",
          "data": {
            "text/plain": [
              "<Figure size 432x288 with 1 Axes>"
            ],
            "image/png": "[encoded data removed]"
          },
          "metadata": {
            "needs_background": "light"
          }
        }
      ]
    },
    {
      "cell_type": "markdown",
      "source": [
        "The `plot_loss_curves` function works great with models which have only been fit once, however, we want something to compare one series of running `fit()` with another (ex before and after fine tuning)"
      ],
      "metadata": {
        "id": "TwYb17qjBgjg"
      }
    },
    {
      "cell_type": "code",
      "source": [
        "import matplotlib.pyplot as plt\n",
        "\n",
        "# Let's create a function to compare training histories\n",
        "def compare_history(original_history, new_history, initial_epochs=5):\n",
        "  \"\"\"\n",
        "  Compares two TensorFlow history object\n",
        "  \"\"\"\n",
        "  # Get original history measurements\n",
        "  acc = original_history.history[\"accuracy\"]\n",
        "  loss = original_history.history[\"loss\"]\n",
        "\n",
        "  val_acc = original_history.history[\"val_accuracy\"]\n",
        "  val_loss = original_history.history[\"val_loss\"]\n",
        "\n",
        "  # Combine original history metrics with new history metrics\n",
        "  total_acc = acc + new_history.history[\"accuracy\"]\n",
        "  total_loss = loss + new_history.history[\"loss\"]\n",
        "\n",
        "  total_val_acc = val_acc + new_history.history[\"val_accuracy\"]\n",
        "  total_val_loss = val_loss + new_history.history[\"val_loss\"]\n",
        "\n",
        "  # Make plots for accuracy\n",
        "  plt.figure(figsize=(8, 8))\n",
        "  plt.subplot(2, 1, 1)\n",
        "  plt.plot(total_acc, label=\"Training Accuracy\")\n",
        "  plt.plot(total_val_acc, label=\"Val Accuracy\")\n",
        "  plt.plot([initial_epochs-1, initial_epochs-1], plt.ylim(), label=\"Start Fine Tuning\")\n",
        "  plt.legend(loc=\"lower right\")\n",
        "  plt.title(\"Training and Validation Accuracy\")\n",
        "\n",
        "  # Make plots for loss\n",
        "  plt.figure(figsize=(8, 8))\n",
        "  plt.subplot(2, 1, 1)\n",
        "  plt.plot(total_loss, label=\"Training Loss\")\n",
        "  plt.plot(total_val_loss, label=\"Val Loss\")\n",
        "  plt.plot([initial_epochs-1, initial_epochs-1], plt.ylim(), label=\"Start Fine Tuning\")\n",
        "  plt.legend(loc=\"upper right\")\n",
        "  plt.title(\"Training and Validation Loss\")"
      ],
      "metadata": {
        "id": "CRACFudyB34G"
      },
      "execution_count": 101,
      "outputs": []
    },
    {
      "cell_type": "code",
      "source": [
        "compare_history(history_10_percent_data_aug,\n",
        "                history_fine_10_percent_data_aug,\n",
        "                initial_epochs=5)"
      ],
      "metadata": {
        "colab": {
          "base_uri": "https://localhost:8080/",
          "height": 507
        },
        "id": "ouSsHlgSCOlv",
        "outputId": "d8a10638-53a8-4ccb-9aa5-3ec242383756"
      },
      "execution_count": 102,
      "outputs": [
        {
          "output_type": "display_data",
          "data": {
            "text/plain": [
              "<Figure size 576x576 with 1 Axes>"
            ],
            "image/png": "[encoded data removed]"
          },
          "metadata": {
            "needs_background": "light"
          }
        },
        {
          "output_type": "display_data",
          "data": {
            "text/plain": [
              "<Figure size 576x576 with 1 Axes>"
            ],
            "image/png": "[encoded data removed]"
          },
          "metadata": {
            "needs_background": "light"
          }
        }
      ]
    },
    {
      "cell_type": "markdown",
      "source": [
        "## Model 4: Fine-tuning and existing model on all of the data"
      ],
      "metadata": {
        "id": "ABWRv40eDXBv"
      }
    },
    {
      "cell_type": "code",
      "source": [
        "# Get the helper function\n",
        "!wget https://raw.githubusercontent.com/mrdbourke/tensorflow-deep-learning/main/extras/helper_functions.py\n",
        "\n",
        "# Import helper functions we're going to use in this notebook\n",
        "from helper_functions import create_tensorboard_callback, plot_loss_curves, unzip_data, walk_through_dir\n",
        "\n",
        "# Download and unzip 10 classes of Food101 data with all images\n",
        "!wget https://storage.googleapis.com/ztm_tf_course/food_vision/10_food_classes_all_data.zip\n",
        "unzip_data(\"10_food_classes_all_data.zip\")"
      ],
      "metadata": {
        "colab": {
          "base_uri": "https://localhost:8080/"
        },
        "id": "--6E6JhWE01j",
        "outputId": "f1065d51-c2b8-42a0-e8e6-6fe3e51a7b3d"
      },
      "execution_count": 103,
      "outputs": [
        {
          "output_type": "stream",
          "name": "stdout",
          "text": [
            "--2022-07-04 08:10:00--  https://raw.githubusercontent.com/mrdbourke/tensorflow-deep-learning/main/extras/helper_functions.py\n",
            "Resolving raw.githubusercontent.com (raw.githubusercontent.com)... 185.199.109.133, 185.199.110.133, 185.199.111.133, ...\n",
            "Connecting to raw.githubusercontent.com (raw.githubusercontent.com)|185.199.109.133|:443... connected.\n",
            "HTTP request sent, awaiting response... 200 OK\n",
            "Length: 10246 (10K) [text/plain]\n",
            "Saving to: ‘helper_functions.py.4’\n",
            "\n",
            "\rhelper_functions.py   0%[                    ]       0  --.-KB/s               \rhelper_functions.py 100%[===================>]  10.01K  --.-KB/s    in 0s      \n",
            "\n",
            "2022-07-04 08:10:00 (102 MB/s) - ‘helper_functions.py.4’ saved [10246/10246]\n",
            "\n",
            "--2022-07-04 08:10:01--  https://storage.googleapis.com/ztm_tf_course/food_vision/10_food_classes_all_data.zip\n",
            "Resolving storage.googleapis.com (storage.googleapis.com)... 142.250.148.128, 172.217.214.128, 172.253.114.128, ...\n",
            "Connecting to storage.googleapis.com (storage.googleapis.com)|142.250.148.128|:443... connected.\n",
            "HTTP request sent, awaiting response... 200 OK\n",
            "Length: 519183241 (495M) [application/zip]\n",
            "Saving to: ‘10_food_classes_all_data.zip.1’\n",
            "\n",
            "10_food_classes_all 100%[===================>] 495.13M  61.5MB/s    in 6.8s    \n",
            "\n",
            "2022-07-04 08:10:07 (72.8 MB/s) - ‘10_food_classes_all_data.zip.1’ saved [519183241/519183241]\n",
            "\n"
          ]
        }
      ]
    },
    {
      "cell_type": "code",
      "source": [
        "# Setup training and test dir\n",
        "train_dir_all_data = \"10_food_classes_all_data/train\"\n",
        "test_dir = \"10_food_classes_all_data/test\""
      ],
      "metadata": {
        "id": "6vlRgvSnFhrK"
      },
      "execution_count": 104,
      "outputs": []
    },
    {
      "cell_type": "code",
      "source": [
        "# How many images are we working with now?\n",
        "walk_through_dir(\"10_food_classes_all_data\")"
      ],
      "metadata": {
        "colab": {
          "base_uri": "https://localhost:8080/"
        },
        "id": "uj4d6G1_Fy4C",
        "outputId": "e10d497c-6cf8-4d69-966d-74ba9cae49a7"
      },
      "execution_count": 105,
      "outputs": [
        {
          "output_type": "stream",
          "name": "stdout",
          "text": [
            "There are 2 directories and 0 images in '10_food_classes_all_data'.\n",
            "There are 10 directories and 0 images in '10_food_classes_all_data/train'.\n",
            "There are 0 directories and 750 images in '10_food_classes_all_data/train/ramen'.\n",
            "There are 0 directories and 750 images in '10_food_classes_all_data/train/chicken_curry'.\n",
            "There are 0 directories and 750 images in '10_food_classes_all_data/train/pizza'.\n",
            "There are 0 directories and 750 images in '10_food_classes_all_data/train/hamburger'.\n",
            "There are 0 directories and 750 images in '10_food_classes_all_data/train/grilled_salmon'.\n",
            "There are 0 directories and 750 images in '10_food_classes_all_data/train/chicken_wings'.\n",
            "There are 0 directories and 750 images in '10_food_classes_all_data/train/steak'.\n",
            "There are 0 directories and 750 images in '10_food_classes_all_data/train/fried_rice'.\n",
            "There are 0 directories and 750 images in '10_food_classes_all_data/train/sushi'.\n",
            "There are 0 directories and 750 images in '10_food_classes_all_data/train/ice_cream'.\n",
            "There are 10 directories and 0 images in '10_food_classes_all_data/test'.\n",
            "There are 0 directories and 250 images in '10_food_classes_all_data/test/ramen'.\n",
            "There are 0 directories and 250 images in '10_food_classes_all_data/test/chicken_curry'.\n",
            "There are 0 directories and 250 images in '10_food_classes_all_data/test/pizza'.\n",
            "There are 0 directories and 250 images in '10_food_classes_all_data/test/hamburger'.\n",
            "There are 0 directories and 250 images in '10_food_classes_all_data/test/grilled_salmon'.\n",
            "There are 0 directories and 250 images in '10_food_classes_all_data/test/chicken_wings'.\n",
            "There are 0 directories and 250 images in '10_food_classes_all_data/test/steak'.\n",
            "There are 0 directories and 250 images in '10_food_classes_all_data/test/fried_rice'.\n",
            "There are 0 directories and 250 images in '10_food_classes_all_data/test/sushi'.\n",
            "There are 0 directories and 250 images in '10_food_classes_all_data/test/ice_cream'.\n"
          ]
        }
      ]
    },
    {
      "cell_type": "code",
      "source": [
        "# Setup data inputs\n",
        "import tensorflow as tf\n",
        "IMG_SIZE = (224, 224)\n",
        "train_data_10_classes_full = tf.keras.preprocessing.image_dataset_from_directory(train_dir_all_data,\n",
        "                                                                                 label_mode=\"categorical\",\n",
        "                                                                                 image_size=IMG_SIZE)\n",
        "\n",
        "test_data = tf.keras.preprocessing.image_dataset_from_directory(test_dir,\n",
        "                                                                label_mode=\"categorical\",\n",
        "                                                                image_size=IMG_SIZE)"
      ],
      "metadata": {
        "colab": {
          "base_uri": "https://localhost:8080/"
        },
        "id": "NevhFJHRF7x6",
        "outputId": "2b32cf39-f1cc-489d-9572-6330302a6d14"
      },
      "execution_count": 106,
      "outputs": [
        {
          "output_type": "stream",
          "name": "stdout",
          "text": [
            "Found 7500 files belonging to 10 classes.\n",
            "Found 2500 files belonging to 10 classes.\n"
          ]
        }
      ]
    },
    {
      "cell_type": "markdown",
      "source": [
        "The test dataset we've loaded in is the same as what we've been using for previous experiments (all experiments have used the same test dataset).\n",
        "\n",
        "Let's verify this..."
      ],
      "metadata": {
        "id": "XcV0cmfOGzZ6"
      }
    },
    {
      "cell_type": "code",
      "source": [
        "# Evaluate model 2 (this is the fine-tuned 10 percent of data version)\n",
        "model_2.evaluate(test_data)"
      ],
      "metadata": {
        "colab": {
          "base_uri": "https://localhost:8080/"
        },
        "id": "_l0Kh6MPHPOY",
        "outputId": "f921ac1d-3d98-45bd-8931-bbd08c454aed"
      },
      "execution_count": 107,
      "outputs": [
        {
          "output_type": "stream",
          "name": "stdout",
          "text": [
            "79/79 [==============================] - 6s 74ms/step - loss: 0.5158 - accuracy: 0.8296\n"
          ]
        },
        {
          "output_type": "execute_result",
          "data": {
            "text/plain": [
              "[0.5157526135444641, 0.8295999765396118]"
            ]
          },
          "metadata": {},
          "execution_count": 107
        }
      ]
    },
    {
      "cell_type": "code",
      "source": [
        "results_fine_tune_10_percent"
      ],
      "metadata": {
        "colab": {
          "base_uri": "https://localhost:8080/"
        },
        "id": "y9BlrN7-Hvhu",
        "outputId": "5b4d1cf5-bc92-412c-c22e-54381211c4cd"
      },
      "execution_count": 108,
      "outputs": [
        {
          "output_type": "execute_result",
          "data": {
            "text/plain": [
              "[0.5157526135444641, 0.8295999765396118]"
            ]
          },
          "metadata": {},
          "execution_count": 108
        }
      ]
    },
    {
      "cell_type": "markdown",
      "source": [
        "To train a fine-tuning model (model_4) we need to revert model_2 back to its reature extraction weights."
      ],
      "metadata": {
        "id": "uS9VD1QsH0iQ"
      }
    },
    {
      "cell_type": "code",
      "source": [
        "# Load weights from checkpoint, that way we can fine-tune from the same state the 10 percent data model was fine-tuned from\n",
        "model_2.load_weights(checkpoint_path)"
      ],
      "metadata": {
        "colab": {
          "base_uri": "https://localhost:8080/"
        },
        "id": "rToHrwRQILru",
        "outputId": "ad73d181-3374-49ec-feee-243063ebd6da"
      },
      "execution_count": 109,
      "outputs": [
        {
          "output_type": "execute_result",
          "data": {
            "text/plain": [
              "<tensorflow.python.training.tracking.util.CheckpointLoadStatus at 0x7fe1f76c3750>"
            ]
          },
          "metadata": {},
          "execution_count": 109
        }
      ]
    },
    {
      "cell_type": "code",
      "source": [
        "# Let's evaluate model_2 now\n",
        "model_2.evaluate(test_data)"
      ],
      "metadata": {
        "colab": {
          "base_uri": "https://localhost:8080/"
        },
        "id": "2JxnTm7GIitt",
        "outputId": "0b50448e-914e-4076-da00-2f1ead7f48da"
      },
      "execution_count": 110,
      "outputs": [
        {
          "output_type": "stream",
          "name": "stdout",
          "text": [
            "79/79 [==============================] - 6s 73ms/step - loss: 0.5655 - accuracy: 0.8360\n"
          ]
        },
        {
          "output_type": "execute_result",
          "data": {
            "text/plain": [
              "[0.5654925107955933, 0.8360000252723694]"
            ]
          },
          "metadata": {},
          "execution_count": 110
        }
      ]
    },
    {
      "cell_type": "code",
      "source": [
        "# Check to see if our model_2 has been reverted back to feature extraction results\n",
        "results_10_percent_data_aug"
      ],
      "metadata": {
        "colab": {
          "base_uri": "https://localhost:8080/"
        },
        "id": "kT2d6T2PItO9",
        "outputId": "436b46f4-4793-423f-9910-78c865ded765"
      },
      "execution_count": 111,
      "outputs": [
        {
          "output_type": "execute_result",
          "data": {
            "text/plain": [
              "[0.5654925107955933, 0.8360000252723694]"
            ]
          },
          "metadata": {},
          "execution_count": 111
        }
      ]
    },
    {
      "cell_type": "markdown",
      "source": [
        "Alright, the previous steps seem quite confusing but all we've done is:\n",
        "\n",
        "1. Trained a feature extraction transfer learning model for 5 epochs on 10% of the data with data augmentation (model_2) and we saved the model's weight using `ModelCheckpoint` callback.\n",
        "2. Fine-tuned the same model on the same 10% of the data for a further 5 epochs with the top 10 layers of the base model unfrozen (model_3).\n",
        "3. Saved the results and training logs each time.\n",
        "4. Reloaded the model from step 1 to do the same steps as step 2 except this time we've going to use all of the data (model_4)."
      ],
      "metadata": {
        "id": "N9LlJIS1I04e"
      }
    },
    {
      "cell_type": "code",
      "source": [
        "# Check which layers are tunable in the whole model\n",
        "for layer_number, layer in enumerate(model_2.layers):\n",
        "  print(layer_number, layer.name, layer.trainable)"
      ],
      "metadata": {
        "colab": {
          "base_uri": "https://localhost:8080/"
        },
        "id": "LW4UN8wnJwEV",
        "outputId": "78e6941a-c522-45a5-cf93-bcdfc7249767"
      },
      "execution_count": 112,
      "outputs": [
        {
          "output_type": "stream",
          "name": "stdout",
          "text": [
            "0 input_layer True\n",
            "1 data_augmentation True\n",
            "2 efficientnetb0 True\n",
            "3 global_average_pooling_layer True\n",
            "4 output_layer True\n"
          ]
        }
      ]
    },
    {
      "cell_type": "code",
      "source": [
        "# Let's drill into our base_model (efficientnetb0) and see what layers are trainable\n",
        "for layer_number, layer in enumerate(model_2.layers[2].layers):\n",
        "  print(layer_number, layer, layer.name, layer.trainable)"
      ],
      "metadata": {
        "colab": {
          "base_uri": "https://localhost:8080/"
        },
        "id": "3dMDCve4KCZ0",
        "outputId": "bb7f6e07-441f-43a8-cea6-465e9417426f"
      },
      "execution_count": 113,
      "outputs": [
        {
          "output_type": "stream",
          "name": "stdout",
          "text": [
            "0 <keras.engine.input_layer.InputLayer object at 0x7fe1f7667bd0> input_4 False\n",
            "1 <keras.layers.preprocessing.image_preprocessing.Rescaling object at 0x7fe1f7667250> rescaling_3 False\n",
            "2 <keras.layers.preprocessing.normalization.Normalization object at 0x7fe1f7642550> normalization_3 False\n",
            "3 <keras.layers.convolutional.ZeroPadding2D object at 0x7fe1f742ecd0> stem_conv_pad False\n",
            "4 <keras.layers.convolutional.Conv2D object at 0x7fe1f7425a50> stem_conv False\n",
            "5 <keras.layers.normalization.batch_normalization.BatchNormalization object at 0x7fe1f742ebd0> stem_bn False\n",
            "6 <keras.layers.core.activation.Activation object at 0x7fe1f74c4250> stem_activation False\n",
            "7 <keras.layers.convolutional.DepthwiseConv2D object at 0x7fe1f74c9ed0> block1a_dwconv False\n",
            "8 <keras.layers.normalization.batch_normalization.BatchNormalization object at 0x7fe1f74c4390> block1a_bn False\n",
            "9 <keras.layers.core.activation.Activation object at 0x7fe1f74d6f50> block1a_activation False\n",
            "10 <keras.layers.pooling.GlobalAveragePooling2D object at 0x7fe36cf494d0> block1a_se_squeeze False\n",
            "11 <keras.layers.core.reshape.Reshape object at 0x7fe36ce53a90> block1a_se_reshape False\n",
            "12 <keras.layers.convolutional.Conv2D object at 0x7fe36ce5a4d0> block1a_se_reduce False\n",
            "13 <keras.layers.convolutional.Conv2D object at 0x7fe36cf5ac50> block1a_se_expand False\n",
            "14 <keras.layers.merge.Multiply object at 0x7fe1f74ef810> block1a_se_excite False\n",
            "15 <keras.layers.convolutional.Conv2D object at 0x7fe1f7656790> block1a_project_conv False\n",
            "16 <keras.layers.normalization.batch_normalization.BatchNormalization object at 0x7fe1f74f47d0> block1a_project_bn False\n",
            "17 <keras.layers.convolutional.Conv2D object at 0x7fe1f7482d10> block2a_expand_conv False\n",
            "18 <keras.layers.normalization.batch_normalization.BatchNormalization object at 0x7fe1f748dbd0> block2a_expand_bn False\n",
            "19 <keras.layers.core.activation.Activation object at 0x7fe1f7492850> block2a_expand_activation False\n",
            "20 <keras.layers.convolutional.ZeroPadding2D object at 0x7fe1f7488e10> block2a_dwconv_pad False\n",
            "21 <keras.layers.convolutional.DepthwiseConv2D object at 0x7fe1f74b1550> block2a_dwconv False\n",
            "22 <keras.layers.normalization.batch_normalization.BatchNormalization object at 0x7fe1f7488190> block2a_bn False\n",
            "23 <keras.layers.core.activation.Activation object at 0x7fe1f7492810> block2a_activation False\n",
            "24 <keras.layers.pooling.GlobalAveragePooling2D object at 0x7fe1f74406d0> block2a_se_squeeze False\n",
            "25 <keras.layers.core.reshape.Reshape object at 0x7fe1f7456610> block2a_se_reshape False\n",
            "26 <keras.layers.convolutional.Conv2D object at 0x7fe1f744a710> block2a_se_reduce False\n",
            "27 <keras.layers.convolutional.Conv2D object at 0x7fe1f745bb90> block2a_se_expand False\n",
            "28 <keras.layers.merge.Multiply object at 0x7fe1f74665d0> block2a_se_excite False\n",
            "29 <keras.layers.convolutional.Conv2D object at 0x7fe1f745bf90> block2a_project_conv False\n",
            "30 <keras.layers.normalization.batch_normalization.BatchNormalization object at 0x7fe1f753cb90> block2a_project_bn False\n",
            "31 <keras.layers.convolutional.Conv2D object at 0x7fe1f7542c90> block2b_expand_conv False\n",
            "32 <keras.layers.normalization.batch_normalization.BatchNormalization object at 0x7fe1f754cf90> block2b_expand_bn False\n",
            "33 <keras.layers.core.activation.Activation object at 0x7fe1f754dd10> block2b_expand_activation False\n",
            "34 <keras.layers.convolutional.DepthwiseConv2D object at 0x7fe1f755dd50> block2b_dwconv False\n",
            "35 <keras.layers.normalization.batch_normalization.BatchNormalization object at 0x7fe1f7556fd0> block2b_bn False\n",
            "36 <keras.layers.core.activation.Activation object at 0x7fe1f7571410> block2b_activation False\n",
            "37 <keras.layers.pooling.GlobalAveragePooling2D object at 0x7fe1f73bbc50> block2b_se_squeeze False\n",
            "38 <keras.layers.core.reshape.Reshape object at 0x7fe1f73bb410> block2b_se_reshape False\n",
            "39 <keras.layers.convolutional.Conv2D object at 0x7fe1f755ce50> block2b_se_reduce False\n",
            "40 <keras.layers.convolutional.Conv2D object at 0x7fe1f7440510> block2b_se_expand False\n",
            "41 <keras.layers.merge.Multiply object at 0x7fe1f7492690> block2b_se_excite False\n",
            "42 <keras.layers.convolutional.Conv2D object at 0x7fe1f7542050> block2b_project_conv False\n",
            "43 <keras.layers.normalization.batch_normalization.BatchNormalization object at 0x7fe36ce5aa90> block2b_project_bn False\n",
            "44 <keras.layers.core.dropout.Dropout object at 0x7fe1f73d0a90> block2b_drop False\n",
            "45 <keras.layers.merge.Add object at 0x7fe1f73c9810> block2b_add False\n",
            "46 <keras.layers.convolutional.Conv2D object at 0x7fe1f73d1dd0> block3a_expand_conv False\n",
            "47 <keras.layers.normalization.batch_normalization.BatchNormalization object at 0x7fe1f73d64d0> block3a_expand_bn False\n",
            "48 <keras.layers.core.activation.Activation object at 0x7fe1f73d9c10> block3a_expand_activation False\n",
            "49 <keras.layers.convolutional.ZeroPadding2D object at 0x7fe1f73dbb10> block3a_dwconv_pad False\n",
            "50 <keras.layers.convolutional.DepthwiseConv2D object at 0x7fe1f73e77d0> block3a_dwconv False\n",
            "51 <keras.layers.normalization.batch_normalization.BatchNormalization object at 0x7fe1f73eacd0> block3a_bn False\n",
            "52 <keras.layers.core.activation.Activation object at 0x7fe1f73ea850> block3a_activation False\n",
            "53 <keras.layers.pooling.GlobalAveragePooling2D object at 0x7fe1f73f4d10> block3a_se_squeeze False\n",
            "54 <keras.layers.core.reshape.Reshape object at 0x7fe1f7604b90> block3a_se_reshape False\n",
            "55 <keras.layers.convolutional.Conv2D object at 0x7fe1f73f6f50> block3a_se_reduce False\n",
            "56 <keras.layers.convolutional.Conv2D object at 0x7fe1f7608c10> block3a_se_expand False\n",
            "57 <keras.layers.merge.Multiply object at 0x7fe1f7616790> block3a_se_excite False\n",
            "58 <keras.layers.convolutional.Conv2D object at 0x7fe1f761aa90> block3a_project_conv False\n",
            "59 <keras.layers.normalization.batch_normalization.BatchNormalization object at 0x7fe1f761bc50> block3a_project_bn False\n",
            "60 <keras.layers.convolutional.Conv2D object at 0x7fe1f7627090> block3b_expand_conv False\n",
            "61 <keras.layers.normalization.batch_normalization.BatchNormalization object at 0x7fe1f7627810> block3b_expand_bn False\n",
            "62 <keras.layers.core.activation.Activation object at 0x7fe1f7638090> block3b_expand_activation False\n",
            "63 <keras.layers.convolutional.DepthwiseConv2D object at 0x7fe1f7638c90> block3b_dwconv False\n",
            "64 <keras.layers.normalization.batch_normalization.BatchNormalization object at 0x7fe1f75c7850> block3b_bn False\n",
            "65 <keras.layers.core.activation.Activation object at 0x7fe1f7634990> block3b_activation False\n",
            "66 <keras.layers.pooling.GlobalAveragePooling2D object at 0x7fe1f75ccb90> block3b_se_squeeze False\n",
            "67 <keras.layers.core.reshape.Reshape object at 0x7fe1f75dacd0> block3b_se_reshape False\n",
            "68 <keras.layers.convolutional.Conv2D object at 0x7fe1f75d2e50> block3b_se_reduce False\n",
            "69 <keras.layers.convolutional.Conv2D object at 0x7fe1f75e64d0> block3b_se_expand False\n",
            "70 <keras.layers.merge.Multiply object at 0x7fe1f75f7110> block3b_se_excite False\n",
            "71 <keras.layers.convolutional.Conv2D object at 0x7fe1f75e6810> block3b_project_conv False\n",
            "72 <keras.layers.normalization.batch_normalization.BatchNormalization object at 0x7fe1f757f3d0> block3b_project_bn False\n",
            "73 <keras.layers.core.dropout.Dropout object at 0x7fe1f7586750> block3b_drop False\n",
            "74 <keras.layers.merge.Add object at 0x7fe1f7584d50> block3b_add False\n",
            "75 <keras.layers.convolutional.Conv2D object at 0x7fe1f758dad0> block4a_expand_conv False\n",
            "76 <keras.layers.normalization.batch_normalization.BatchNormalization object at 0x7fe1f7599110> block4a_expand_bn False\n",
            "77 <keras.layers.core.activation.Activation object at 0x7fe1f759e7d0> block4a_expand_activation False\n",
            "78 <keras.layers.convolutional.ZeroPadding2D object at 0x7fe1f7599290> block4a_dwconv_pad False\n",
            "79 <keras.layers.convolutional.DepthwiseConv2D object at 0x7fe1f75d2890> block4a_dwconv False\n",
            "80 <keras.layers.normalization.batch_normalization.BatchNormalization object at 0x7fe1f75bd710> block4a_bn False\n",
            "81 <keras.layers.core.activation.Activation object at 0x7fe1f761a090> block4a_activation False\n",
            "82 <keras.layers.pooling.GlobalAveragePooling2D object at 0x7fe1f761b310> block4a_se_squeeze False\n",
            "83 <keras.layers.core.reshape.Reshape object at 0x7fe1f73eadd0> block4a_se_reshape False\n",
            "84 <keras.layers.convolutional.Conv2D object at 0x7fe1f73dbd90> block4a_se_reduce False\n",
            "85 <keras.layers.convolutional.Conv2D object at 0x7fe1f73d2550> block4a_se_expand False\n",
            "86 <keras.layers.merge.Multiply object at 0x7fe1f75a9290> block4a_se_excite False\n",
            "87 <keras.layers.convolutional.Conv2D object at 0x7fe1f75aa810> block4a_project_conv False\n",
            "88 <keras.layers.normalization.batch_normalization.BatchNormalization object at 0x7fe1f75ae210> block4a_project_bn False\n",
            "89 <keras.layers.convolutional.Conv2D object at 0x7fe1f75b1a90> block4b_expand_conv False\n",
            "90 <keras.layers.normalization.batch_normalization.BatchNormalization object at 0x7fe1f75ba110> block4b_expand_bn False\n",
            "91 <keras.layers.core.activation.Activation object at 0x7fe1f75b9b50> block4b_expand_activation False\n",
            "92 <keras.layers.convolutional.DepthwiseConv2D object at 0x7fe1f75b1410> block4b_dwconv False\n",
            "93 <keras.layers.normalization.batch_normalization.BatchNormalization object at 0x7fe1f738e350> block4b_bn False\n",
            "94 <keras.layers.core.activation.Activation object at 0x7fe1f7384a50> block4b_activation False\n",
            "95 <keras.layers.pooling.GlobalAveragePooling2D object at 0x7fe1f7392990> block4b_se_squeeze False\n",
            "96 <keras.layers.core.reshape.Reshape object at 0x7fe1f73a27d0> block4b_se_reshape False\n",
            "97 <keras.layers.convolutional.Conv2D object at 0x7fe1f73979d0> block4b_se_reduce False\n",
            "98 <keras.layers.convolutional.Conv2D object at 0x7fe1f73ad190> block4b_se_expand False\n",
            "99 <keras.layers.merge.Multiply object at 0x7fe1f73babd0> block4b_se_excite False\n",
            "100 <keras.layers.convolutional.Conv2D object at 0x7fe1f73ad290> block4b_project_conv False\n",
            "101 <keras.layers.normalization.batch_normalization.BatchNormalization object at 0x7fe1f73460d0> block4b_project_bn False\n",
            "102 <keras.layers.core.dropout.Dropout object at 0x7fe1f734cb10> block4b_drop False\n",
            "103 <keras.layers.merge.Add object at 0x7fe1f7398750> block4b_add False\n",
            "104 <keras.layers.convolutional.Conv2D object at 0x7fe1f735d350> block4c_expand_conv False\n",
            "105 <keras.layers.normalization.batch_normalization.BatchNormalization object at 0x7fe1f7667110> block4c_expand_bn False\n",
            "106 <keras.layers.core.activation.Activation object at 0x7fe1f74ca250> block4c_expand_activation False\n",
            "107 <keras.layers.convolutional.DepthwiseConv2D object at 0x7fe1f7354350> block4c_dwconv False\n",
            "108 <keras.layers.normalization.batch_normalization.BatchNormalization object at 0x7fe1f73544d0> block4c_bn False\n",
            "109 <keras.layers.core.activation.Activation object at 0x7fe1f7369090> block4c_activation False\n",
            "110 <keras.layers.pooling.GlobalAveragePooling2D object at 0x7fe1f7379ad0> block4c_se_squeeze False\n",
            "111 <keras.layers.core.reshape.Reshape object at 0x7fe1f72fb450> block4c_se_reshape False\n",
            "112 <keras.layers.convolutional.Conv2D object at 0x7fe1f7364f50> block4c_se_reduce False\n",
            "113 <keras.layers.convolutional.Conv2D object at 0x7fe1f735da10> block4c_se_expand False\n",
            "114 <keras.layers.merge.Multiply object at 0x7fe1f730afd0> block4c_se_excite False\n",
            "115 <keras.layers.convolutional.Conv2D object at 0x7fe1f731c890> block4c_project_conv False\n",
            "116 <keras.layers.normalization.batch_normalization.BatchNormalization object at 0x7fe1f7325f10> block4c_project_bn False\n",
            "117 <keras.layers.core.dropout.Dropout object at 0x7fe1f7313510> block4c_drop False\n",
            "118 <keras.layers.merge.Add object at 0x7fe1f72fb410> block4c_add False\n",
            "119 <keras.layers.convolutional.Conv2D object at 0x7fe1f72fba90> block5a_expand_conv False\n",
            "120 <keras.layers.normalization.batch_normalization.BatchNormalization object at 0x7fe1f73ad2d0> block5a_expand_bn False\n",
            "121 <keras.layers.core.activation.Activation object at 0x7fe1f7300d10> block5a_expand_activation False\n",
            "122 <keras.layers.convolutional.DepthwiseConv2D object at 0x7fe1f7313cd0> block5a_dwconv False\n",
            "123 <keras.layers.normalization.batch_normalization.BatchNormalization object at 0x7fe1f74f4e90> block5a_bn False\n",
            "124 <keras.layers.core.activation.Activation object at 0x7fe1f733ec10> block5a_activation False\n",
            "125 <keras.layers.pooling.GlobalAveragePooling2D object at 0x7fe1f7322610> block5a_se_squeeze False\n",
            "126 <keras.layers.core.reshape.Reshape object at 0x7fe1f72fbe10> block5a_se_reshape False\n",
            "127 <keras.layers.convolutional.Conv2D object at 0x7fe1f73eee90> block5a_se_reduce False\n",
            "128 <keras.layers.convolutional.Conv2D object at 0x7fe1f7322a10> block5a_se_expand False\n",
            "129 <keras.layers.merge.Multiply object at 0x7fe1f762dfd0> block5a_se_excite False\n",
            "130 <keras.layers.convolutional.Conv2D object at 0x7fe1f7336790> block5a_project_conv False\n",
            "131 <keras.layers.normalization.batch_normalization.BatchNormalization object at 0x7fe1f7608d90> block5a_project_bn False\n",
            "132 <keras.layers.convolutional.Conv2D object at 0x7fe1f72cc690> block5b_expand_conv False\n",
            "133 <keras.layers.normalization.batch_normalization.BatchNormalization object at 0x7fe1f72bc550> block5b_expand_bn False\n",
            "134 <keras.layers.core.activation.Activation object at 0x7fe1f7336f50> block5b_expand_activation False\n",
            "135 <keras.layers.convolutional.DepthwiseConv2D object at 0x7fe1f72ec610> block5b_dwconv False\n",
            "136 <keras.layers.normalization.batch_normalization.BatchNormalization object at 0x7fe1f72ec210> block5b_bn False\n",
            "137 <keras.layers.core.activation.Activation object at 0x7fe1f72ec310> block5b_activation False\n",
            "138 <keras.layers.pooling.GlobalAveragePooling2D object at 0x7fe1f72f7050> block5b_se_squeeze False\n",
            "139 <keras.layers.core.reshape.Reshape object at 0x7fe1f730a490> block5b_se_reshape False\n",
            "140 <keras.layers.convolutional.Conv2D object at 0x7fe1f72f83d0> block5b_se_reduce False\n",
            "141 <keras.layers.convolutional.Conv2D object at 0x7fe1f72d8790> block5b_se_expand False\n",
            "142 <keras.layers.merge.Multiply object at 0x7fe1f72dcc90> block5b_se_excite False\n",
            "143 <keras.layers.convolutional.Conv2D object at 0x7fe1f7288c90> block5b_project_conv False\n",
            "144 <keras.layers.normalization.batch_normalization.BatchNormalization object at 0x7fe1f72d4890> block5b_project_bn False\n",
            "145 <keras.layers.core.dropout.Dropout object at 0x7fe1f729a8d0> block5b_drop False\n",
            "146 <keras.layers.merge.Add object at 0x7fe1f7313250> block5b_add False\n",
            "147 <keras.layers.convolutional.Conv2D object at 0x7fe1f72a5a90> block5c_expand_conv False\n",
            "148 <keras.layers.normalization.batch_normalization.BatchNormalization object at 0x7fe1f72883d0> block5c_expand_bn False\n",
            "149 <keras.layers.core.activation.Activation object at 0x7fe1f723d250> block5c_expand_activation False\n",
            "150 <keras.layers.convolutional.DepthwiseConv2D object at 0x7fe1f72a8110> block5c_dwconv False\n",
            "151 <keras.layers.normalization.batch_normalization.BatchNormalization object at 0x7fe1f723d550> block5c_bn False\n",
            "152 <keras.layers.core.activation.Activation object at 0x7fe1f72b2ed0> block5c_activation False\n",
            "153 <keras.layers.pooling.GlobalAveragePooling2D object at 0x7fe1f7248510> block5c_se_squeeze False\n",
            "154 <keras.layers.core.reshape.Reshape object at 0x7fe1f7251050> block5c_se_reshape False\n",
            "155 <keras.layers.convolutional.Conv2D object at 0x7fe1f72515d0> block5c_se_reduce False\n",
            "156 <keras.layers.convolutional.Conv2D object at 0x7fe1f7262490> block5c_se_expand False\n",
            "157 <keras.layers.merge.Multiply object at 0x7fe1f7262f10> block5c_se_excite False\n",
            "158 <keras.layers.convolutional.Conv2D object at 0x7fe1f7248810> block5c_project_conv False\n",
            "159 <keras.layers.normalization.batch_normalization.BatchNormalization object at 0x7fe1f7262b10> block5c_project_bn False\n",
            "160 <keras.layers.core.dropout.Dropout object at 0x7fe1f729fb50> block5c_drop False\n",
            "161 <keras.layers.merge.Add object at 0x7fe1f72b6c90> block5c_add False\n",
            "162 <keras.layers.convolutional.Conv2D object at 0x7fe1f724b350> block6a_expand_conv False\n",
            "163 <keras.layers.normalization.batch_normalization.BatchNormalization object at 0x7fe1f7251710> block6a_expand_bn False\n",
            "164 <keras.layers.core.activation.Activation object at 0x7fe1f73849d0> block6a_expand_activation False\n",
            "165 <keras.layers.convolutional.ZeroPadding2D object at 0x7fe1f738e9d0> block6a_dwconv_pad False\n",
            "166 <keras.layers.convolutional.DepthwiseConv2D object at 0x7fe1f723d590> block6a_dwconv False\n",
            "167 <keras.layers.normalization.batch_normalization.BatchNormalization object at 0x7fe1f7273890> block6a_bn False\n",
            "168 <keras.layers.core.activation.Activation object at 0x7fe1f7336cd0> block6a_activation False\n",
            "169 <keras.layers.pooling.GlobalAveragePooling2D object at 0x7fe1f7273790> block6a_se_squeeze False\n",
            "170 <keras.layers.core.reshape.Reshape object at 0x7fe1f73f4250> block6a_se_reshape False\n",
            "171 <keras.layers.convolutional.Conv2D object at 0x7fe1f72761d0> block6a_se_reduce False\n",
            "172 <keras.layers.convolutional.Conv2D object at 0x7fe1f72ccb90> block6a_se_expand False\n",
            "173 <keras.layers.merge.Multiply object at 0x7fe1f7279190> block6a_se_excite False\n",
            "174 <keras.layers.convolutional.Conv2D object at 0x7fe1f7210790> block6a_project_conv False\n",
            "175 <keras.layers.normalization.batch_normalization.BatchNormalization object at 0x7fe1f727a890> block6a_project_bn False\n",
            "176 <keras.layers.convolutional.Conv2D object at 0x7fe1f7223bd0> block6b_expand_conv False\n",
            "177 <keras.layers.normalization.batch_normalization.BatchNormalization object at 0x7fe1f7219b10> block6b_expand_bn False\n",
            "178 <keras.layers.core.activation.Activation object at 0x7fe1f721cbd0> block6b_expand_activation False\n",
            "179 <keras.layers.convolutional.DepthwiseConv2D object at 0x7fe1f71bced0> block6b_dwconv False\n",
            "180 <keras.layers.normalization.batch_normalization.BatchNormalization object at 0x7fe1f7276090> block6b_bn False\n",
            "181 <keras.layers.core.activation.Activation object at 0x7fe1f71bca90> block6b_activation False\n",
            "182 <keras.layers.pooling.GlobalAveragePooling2D object at 0x7fe1f71d3550> block6b_se_squeeze False\n",
            "183 <keras.layers.core.reshape.Reshape object at 0x7fe1f71ce190> block6b_se_reshape False\n",
            "184 <keras.layers.convolutional.Conv2D object at 0x7fe1f7231ed0> block6b_se_reduce False\n",
            "185 <keras.layers.convolutional.Conv2D object at 0x7fe1f722ead0> block6b_se_expand False\n",
            "186 <keras.layers.merge.Multiply object at 0x7fe1f71c3250> block6b_se_excite False\n",
            "187 <keras.layers.convolutional.Conv2D object at 0x7fe1f71dfed0> block6b_project_conv False\n",
            "188 <keras.layers.normalization.batch_normalization.BatchNormalization object at 0x7fe1f72386d0> block6b_project_bn False\n",
            "189 <keras.layers.core.dropout.Dropout object at 0x7fe1f71f4bd0> block6b_drop False\n",
            "190 <keras.layers.merge.Add object at 0x7fe1f729a790> block6b_add False\n",
            "191 <keras.layers.convolutional.Conv2D object at 0x7fe1f71dfc50> block6c_expand_conv False\n",
            "192 <keras.layers.normalization.batch_normalization.BatchNormalization object at 0x7fe1f72293d0> block6c_expand_bn False\n",
            "193 <keras.layers.core.activation.Activation object at 0x7fe1f718e490> block6c_expand_activation False\n",
            "194 <keras.layers.convolutional.DepthwiseConv2D object at 0x7fe1f71f8c90> block6c_dwconv False\n",
            "195 <keras.layers.normalization.batch_normalization.BatchNormalization object at 0x7fe1f7193790> block6c_bn False\n",
            "196 <keras.layers.core.activation.Activation object at 0x7fe1f7193750> block6c_activation False\n",
            "197 <keras.layers.pooling.GlobalAveragePooling2D object at 0x7fe1f71a19d0> block6c_se_squeeze False\n",
            "198 <keras.layers.core.reshape.Reshape object at 0x7fe1f71a9510> block6c_se_reshape False\n",
            "199 <keras.layers.convolutional.Conv2D object at 0x7fe1f71a90d0> block6c_se_reduce False\n",
            "200 <keras.layers.convolutional.Conv2D object at 0x7fe1f71c8050> block6c_se_expand False\n",
            "201 <keras.layers.merge.Multiply object at 0x7fe1f71c8e50> block6c_se_excite False\n",
            "202 <keras.layers.convolutional.Conv2D object at 0x7fe1f7279950> block6c_project_conv False\n",
            "203 <keras.layers.normalization.batch_normalization.BatchNormalization object at 0x7fe1f71a9b50> block6c_project_bn False\n",
            "204 <keras.layers.core.dropout.Dropout object at 0x7fe1f728cd10> block6c_drop False\n",
            "205 <keras.layers.merge.Add object at 0x7fe1f717f350> block6c_add False\n",
            "206 <keras.layers.convolutional.Conv2D object at 0x7fe1f7273550> block6d_expand_conv False\n",
            "207 <keras.layers.normalization.batch_normalization.BatchNormalization object at 0x7fe1f727a6d0> block6d_expand_bn False\n",
            "208 <keras.layers.core.activation.Activation object at 0x7fe1f71b5d90> block6d_expand_activation False\n",
            "209 <keras.layers.convolutional.DepthwiseConv2D object at 0x7fe1f713d410> block6d_dwconv False\n",
            "210 <keras.layers.normalization.batch_normalization.BatchNormalization object at 0x7fe1f714ab90> block6d_bn False\n",
            "211 <keras.layers.core.activation.Activation object at 0x7fe1f71b2290> block6d_activation False\n",
            "212 <keras.layers.pooling.GlobalAveragePooling2D object at 0x7fe1f714add0> block6d_se_squeeze False\n",
            "213 <keras.layers.core.reshape.Reshape object at 0x7fe1f7153a90> block6d_se_reshape False\n",
            "214 <keras.layers.convolutional.Conv2D object at 0x7fe1f71b56d0> block6d_se_reduce False\n",
            "215 <keras.layers.convolutional.Conv2D object at 0x7fe1f7273a50> block6d_se_expand False\n",
            "216 <keras.layers.merge.Multiply object at 0x7fe1f71583d0> block6d_se_excite False\n",
            "217 <keras.layers.convolutional.Conv2D object at 0x7fe1f71701d0> block6d_project_conv False\n",
            "218 <keras.layers.normalization.batch_normalization.BatchNormalization object at 0x7fe1f7160750> block6d_project_bn False\n",
            "219 <keras.layers.core.dropout.Dropout object at 0x7fe1f716cf50> block6d_drop False\n",
            "220 <keras.layers.merge.Add object at 0x7fe1f710a7d0> block6d_add False\n",
            "221 <keras.layers.convolutional.Conv2D object at 0x7fe1f71044d0> block7a_expand_conv False\n",
            "222 <keras.layers.normalization.batch_normalization.BatchNormalization object at 0x7fe1f7170fd0> block7a_expand_bn False\n",
            "223 <keras.layers.core.activation.Activation object at 0x7fe1f710e990> block7a_expand_activation False\n",
            "224 <keras.layers.convolutional.DepthwiseConv2D object at 0x7fe1f711b090> block7a_dwconv False\n",
            "225 <keras.layers.normalization.batch_normalization.BatchNormalization object at 0x7fe1f711b950> block7a_bn False\n",
            "226 <keras.layers.core.activation.Activation object at 0x7fe1f711b510> block7a_activation False\n",
            "227 <keras.layers.pooling.GlobalAveragePooling2D object at 0x7fe1f7129f10> block7a_se_squeeze True\n",
            "228 <keras.layers.core.reshape.Reshape object at 0x7fe1f711b110> block7a_se_reshape True\n",
            "229 <keras.layers.convolutional.Conv2D object at 0x7fe1f71b2910> block7a_se_reduce True\n",
            "230 <keras.layers.convolutional.Conv2D object at 0x7fe1f710a310> block7a_se_expand True\n",
            "231 <keras.layers.merge.Multiply object at 0x7fe1f711bf90> block7a_se_excite True\n",
            "232 <keras.layers.convolutional.Conv2D object at 0x7fe1f70c6610> block7a_project_conv True\n",
            "233 <keras.layers.normalization.batch_normalization.BatchNormalization object at 0x7fe1f7134510> block7a_project_bn True\n",
            "234 <keras.layers.convolutional.Conv2D object at 0x7fe1f741e310> top_conv True\n",
            "235 <keras.layers.normalization.batch_normalization.BatchNormalization object at 0x7fe1f7134a50> top_bn True\n",
            "236 <keras.layers.core.activation.Activation object at 0x7fe1f70d51d0> top_activation True\n"
          ]
        }
      ]
    },
    {
      "cell_type": "code",
      "source": [
        "# Compile\n",
        "model_2.compile(loss=\"categorical_crossentropy\",\n",
        "                optimizer=tf.keras.optimizers.Adam(learning_rate=0.0001),\n",
        "                metrics=[\"accuracy\"])\n",
        "\n",
        "# Continue to train and fine-tune the model to our data (100% of training data)\n",
        "fine_tune_epochs = initial_epochs + 5\n",
        "\n",
        "history_fine_10_classes_full = model_2.fit(train_data_10_classes_full,\n",
        "                                           epochs=fine_tune_epochs,\n",
        "                                           validation_data=test_data,\n",
        "                                           validation_steps=int(0.25*len(test_data)),\n",
        "                                           initial_epoch=history_10_percent_data_aug.epoch[-1],\n",
        "                                           callbacks=[create_tensorboard_callback(dir_name=\"transfer_learning\",\n",
        "                                                                                  experiment_name=\"full_10_classes_fine_tune_last_10\")])"
      ],
      "metadata": {
        "colab": {
          "base_uri": "https://localhost:8080/"
        },
        "id": "HxJuiwXPKajs",
        "outputId": "258c074a-c1bf-4855-e5e6-0bcae4f564c5"
      },
      "execution_count": 114,
      "outputs": [
        {
          "output_type": "stream",
          "name": "stdout",
          "text": [
            "Saving TensorBoard log files to: transfer_learning/full_10_classes_fine_tune_last_10/20220704-081032\n",
            "Epoch 5/10\n",
            "235/235 [==============================] - 46s 165ms/step - loss: 0.6885 - accuracy: 0.7764 - val_loss: 0.4287 - val_accuracy: 0.8470\n",
            "Epoch 6/10\n",
            "235/235 [==============================] - 32s 134ms/step - loss: 0.5759 - accuracy: 0.8113 - val_loss: 0.3968 - val_accuracy: 0.8701\n",
            "Epoch 7/10\n",
            "235/235 [==============================] - 30s 128ms/step - loss: 0.5117 - accuracy: 0.8343 - val_loss: 0.3789 - val_accuracy: 0.8832\n",
            "Epoch 8/10\n",
            "235/235 [==============================] - 30s 127ms/step - loss: 0.4687 - accuracy: 0.8477 - val_loss: 0.3742 - val_accuracy: 0.8783\n",
            "Epoch 9/10\n",
            "235/235 [==============================] - 30s 127ms/step - loss: 0.4345 - accuracy: 0.8587 - val_loss: 0.3508 - val_accuracy: 0.8914\n",
            "Epoch 10/10\n",
            "235/235 [==============================] - 32s 133ms/step - loss: 0.4136 - accuracy: 0.8685 - val_loss: 0.3522 - val_accuracy: 0.8898\n"
          ]
        }
      ]
    },
    {
      "cell_type": "code",
      "source": [
        "# Let's evaluate on all data\n",
        "results_fine_tune_full_data = model_2.evaluate(test_data)\n",
        "results_fine_tune_full_data"
      ],
      "metadata": {
        "colab": {
          "base_uri": "https://localhost:8080/"
        },
        "id": "XYJFTIatMN5a",
        "outputId": "dccbeac3-c088-4612-d1f8-3a7206e2b62f"
      },
      "execution_count": 115,
      "outputs": [
        {
          "output_type": "stream",
          "name": "stdout",
          "text": [
            "79/79 [==============================] - 6s 73ms/step - loss: 0.3247 - accuracy: 0.8952\n"
          ]
        },
        {
          "output_type": "execute_result",
          "data": {
            "text/plain": [
              "[0.32471033930778503, 0.8952000141143799]"
            ]
          },
          "metadata": {},
          "execution_count": 115
        }
      ]
    },
    {
      "cell_type": "code",
      "source": [
        "# How did fine-tuning go with more data?\n",
        "compare_history(original_history=history_10_percent_data_aug,\n",
        "                new_history=history_fine_10_classes_full,\n",
        "                initial_epochs=5)"
      ],
      "metadata": {
        "colab": {
          "base_uri": "https://localhost:8080/",
          "height": 507
        },
        "id": "ULiLXMJKM5Qa",
        "outputId": "e6b4779b-6ea6-4e6e-beac-3364733b36eb"
      },
      "execution_count": 116,
      "outputs": [
        {
          "output_type": "display_data",
          "data": {
            "text/plain": [
              "<Figure size 576x576 with 1 Axes>"
            ],
            "image/png": "[encoded data removed]"
          },
          "metadata": {
            "needs_background": "light"
          }
        },
        {
          "output_type": "display_data",
          "data": {
            "text/plain": [
              "<Figure size 576x576 with 1 Axes>"
            ],
            "image/png": "[encoded data removed]"
          },
          "metadata": {
            "needs_background": "light"
          }
        }
      ]
    },
    {
      "cell_type": "markdown",
      "source": [
        "## Viewing our experiment data on TensorBoard\n",
        "\n",
        ">**Note:** Anything you upload to TensorBoard.dev is going to be public. So if you have private data, do not uploaded!"
      ],
      "metadata": {
        "id": "TFdxo20hNYrA"
      }
    },
    {
      "cell_type": "code",
      "source": [
        "# View tensorboard logs of transfer learning modelling experiments (should ~4 models)\n",
        "# Upload TensorBoard dev records\n",
        "!tensorboard dev upload --logdir ./transfer_learning \\\n",
        "  --name \"Transfer Learning Experiments with 10 Food101 Classes\" \\\n",
        "  --description \"A series of different transfer learning experiments with varying amounts of data and fine-tuning.\" \\\n",
        "  --one_shot # exits the uploader once its finished uploading"
      ],
      "metadata": {
        "id": "OwXG3HmsPMa3"
      },
      "execution_count": null,
      "outputs": []
    },
    {
      "cell_type": "markdown",
      "source": [
        "My TensorBoard experiments are available at: https://tensorboard.dev/experiment/oY13Jp3GTnC1dr2jZ64DlA/"
      ],
      "metadata": {
        "id": "HnaOvd1LPdgN"
      }
    },
    {
      "cell_type": "code",
      "source": [
        "# View all of your uploaded TensorBoard.dev\n",
        "!tensorboard dev list"
      ],
      "metadata": {
        "id": "ADsy7yJzScFm"
      },
      "execution_count": null,
      "outputs": []
    },
    {
      "cell_type": "code",
      "source": [
        "# To delete  an experiment\n",
        "#!tensorboard dev delete --experiment_id id_input_here"
      ],
      "metadata": {
        "id": "OR26o5QYSizL"
      },
      "execution_count": null,
      "outputs": []
    }
  ]
}