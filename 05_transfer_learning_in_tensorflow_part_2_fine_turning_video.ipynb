{
  "nbformat": 4,
  "nbformat_minor": 0,
  "metadata": {
    "colab": {
      "name": "05_transfer_learning_in_tensorflow_part_2_fine_turning_video.ipynb",
      "provenance": [],
      "authorship_tag": "ABX9TyMs8rcdfAPQbvSN8d0gjMKp",
      "include_colab_link": true
    },
    "kernelspec": {
      "name": "python3",
      "display_name": "Python 3"
    },
    "language_info": {
      "name": "python"
    },
    "gpuClass": "standard",
    "accelerator": "GPU"
  },
  "cells": [
    {
      "cell_type": "markdown",
      "metadata": {
        "id": "view-in-github",
        "colab_type": "text"
      },
      "source": [
        "<a href=\"https://colab.research.google.com/github/sonpn82/Tensor-flow-Developer-Certification-Exam/blob/main/05_transfer_learning_in_tensorflow_part_2_fine_turning_video.ipynb\" target=\"_parent\"><img src=\"https://colab.research.google.com/assets/colab-badge.svg\" alt=\"Open In Colab\"/></a>"
      ]
    },
    {
      "cell_type": "markdown",
      "source": [
        "# Transfer Learning with TensorFlow part 2: Fine-tuning\n",
        "\n",
        "In the previous notebook, we covered transfer learning feature extraction, now it's time to learn about a new kind of transfer learning: fine-tuning"
      ],
      "metadata": {
        "id": "bCohYETFft1n"
      }
    },
    {
      "cell_type": "code",
      "source": [
        "# Check if we're using a GPU\n",
        "!nvidia-smi"
      ],
      "metadata": {
        "colab": {
          "base_uri": "https://localhost:8080/"
        },
        "id": "N5fZMVl0gaZN",
        "outputId": "1516ee78-cbb3-4356-f826-848f4c23df94"
      },
      "execution_count": 1,
      "outputs": [
        {
          "output_type": "stream",
          "name": "stdout",
          "text": [
            "Tue Jul  5 23:00:40 2022       \n",
            "+-----------------------------------------------------------------------------+\n",
            "| NVIDIA-SMI 460.32.03    Driver Version: 460.32.03    CUDA Version: 11.2     |\n",
            "|-------------------------------+----------------------+----------------------+\n",
            "| GPU  Name        Persistence-M| Bus-Id        Disp.A | Volatile Uncorr. ECC |\n",
            "| Fan  Temp  Perf  Pwr:Usage/Cap|         Memory-Usage | GPU-Util  Compute M. |\n",
            "|                               |                      |               MIG M. |\n",
            "|===============================+======================+======================|\n",
            "|   0  Tesla T4            Off  | 00000000:00:04.0 Off |                    0 |\n",
            "| N/A   44C    P8     9W /  70W |      0MiB / 15109MiB |      0%      Default |\n",
            "|                               |                      |                  N/A |\n",
            "+-------------------------------+----------------------+----------------------+\n",
            "                                                                               \n",
            "+-----------------------------------------------------------------------------+\n",
            "| Processes:                                                                  |\n",
            "|  GPU   GI   CI        PID   Type   Process name                  GPU Memory |\n",
            "|        ID   ID                                                   Usage      |\n",
            "|=============================================================================|\n",
            "|  No running processes found                                                 |\n",
            "+-----------------------------------------------------------------------------+\n"
          ]
        }
      ]
    },
    {
      "cell_type": "markdown",
      "source": [
        "## Creating helper functions\n",
        "\n",
        "In previous notebooks, we' created a bunch of helper functions, now we could rewrite them all, however, this is tedious.\n",
        "\n",
        "So, it's a good idea to put functions you'll want to use again in a script you can download and import your notebooks (or elsewhere).\n",
        "\n",
        "We've done this for some of the functions we've used previously here: https://raw.githubusercontent.com/mrdbourke/tensorflow-deep-learning/main/extras/helper_functions.py"
      ],
      "metadata": {
        "id": "UYyGo0fbgyxc"
      }
    },
    {
      "cell_type": "code",
      "source": [
        "!wget https://raw.githubusercontent.com/mrdbourke/tensorflow-deep-learning/main/extras/helper_functions.py"
      ],
      "metadata": {
        "colab": {
          "base_uri": "https://localhost:8080/"
        },
        "id": "ISQfPIJ0hptr",
        "outputId": "2dfdf295-27c4-4fde-da6b-d09cf46f3e46"
      },
      "execution_count": 2,
      "outputs": [
        {
          "output_type": "stream",
          "name": "stdout",
          "text": [
            "--2022-07-05 23:00:40--  https://raw.githubusercontent.com/mrdbourke/tensorflow-deep-learning/main/extras/helper_functions.py\n",
            "Resolving raw.githubusercontent.com (raw.githubusercontent.com)... 185.199.108.133, 185.199.109.133, 185.199.110.133, ...\n",
            "Connecting to raw.githubusercontent.com (raw.githubusercontent.com)|185.199.108.133|:443... connected.\n",
            "HTTP request sent, awaiting response... 200 OK\n",
            "Length: 10246 (10K) [text/plain]\n",
            "Saving to: ‘helper_functions.py’\n",
            "\n",
            "helper_functions.py 100%[===================>]  10.01K  --.-KB/s    in 0s      \n",
            "\n",
            "2022-07-05 23:00:40 (86.6 MB/s) - ‘helper_functions.py’ saved [10246/10246]\n",
            "\n"
          ]
        }
      ]
    },
    {
      "cell_type": "code",
      "source": [
        "# Import helper functions we're going to use in this notebook\n",
        "from helper_functions import create_tensorboard_callback, plot_loss_curves, unzip_data, walk_through_dir"
      ],
      "metadata": {
        "id": "ny4W1V5TmRRW"
      },
      "execution_count": 3,
      "outputs": []
    },
    {
      "cell_type": "markdown",
      "source": [
        ">**Note:** If you're running this notebook in Google Colab, when it times out Colab will delete `helper_functions.py`, so you'll have to redownload it if you want access to your helper functions."
      ],
      "metadata": {
        "id": "LwlI5b_YnpzM"
      }
    },
    {
      "cell_type": "markdown",
      "source": [
        "## Let's get some data\n",
        "\n",
        "This time we're going to see how we can use the pretrained models within tf.keras.applications and apply them to our own problem (recognizing images of food).\n",
        "\n",
        "link: https://www.tensorflow.org/api_docs/python/tf/keras/applications"
      ],
      "metadata": {
        "id": "wzWA0kNmn7wL"
      }
    },
    {
      "cell_type": "code",
      "source": [
        "# Get 10% of training data of 10 classes of Food101\n",
        "!wget https://storage.googleapis.com/ztm_tf_course/food_vision/10_food_classes_10_percent.zip\n",
        "\n",
        "unzip_data(\"10_food_classes_10_percent.zip\")"
      ],
      "metadata": {
        "colab": {
          "base_uri": "https://localhost:8080/"
        },
        "id": "VcqLMvQToJXq",
        "outputId": "8529e5e9-5d14-4d41-e754-c5afadb65d6e"
      },
      "execution_count": 4,
      "outputs": [
        {
          "output_type": "stream",
          "name": "stdout",
          "text": [
            "--2022-07-05 23:00:43--  https://storage.googleapis.com/ztm_tf_course/food_vision/10_food_classes_10_percent.zip\n",
            "Resolving storage.googleapis.com (storage.googleapis.com)... 216.58.220.208, 74.125.200.128, 74.125.68.128, ...\n",
            "Connecting to storage.googleapis.com (storage.googleapis.com)|216.58.220.208|:443... connected.\n",
            "HTTP request sent, awaiting response... 200 OK\n",
            "Length: 168546183 (161M) [application/zip]\n",
            "Saving to: ‘10_food_classes_10_percent.zip’\n",
            "\n",
            "10_food_classes_10_ 100%[===================>] 160.74M   243MB/s    in 0.7s    \n",
            "\n",
            "2022-07-05 23:00:44 (243 MB/s) - ‘10_food_classes_10_percent.zip’ saved [168546183/168546183]\n",
            "\n"
          ]
        }
      ]
    },
    {
      "cell_type": "code",
      "source": [
        "# Check out how many images and subdirectories are in our dataset\n",
        "walk_through_dir(\"10_food_classes_10_percent\")"
      ],
      "metadata": {
        "colab": {
          "base_uri": "https://localhost:8080/"
        },
        "id": "QxcT1Ty1pK8I",
        "outputId": "3fca2875-6917-4149-9693-ae746dd9ebf1"
      },
      "execution_count": 5,
      "outputs": [
        {
          "output_type": "stream",
          "name": "stdout",
          "text": [
            "There are 2 directories and 0 images in '10_food_classes_10_percent'.\n",
            "There are 10 directories and 0 images in '10_food_classes_10_percent/train'.\n",
            "There are 0 directories and 75 images in '10_food_classes_10_percent/train/ramen'.\n",
            "There are 0 directories and 75 images in '10_food_classes_10_percent/train/chicken_curry'.\n",
            "There are 0 directories and 75 images in '10_food_classes_10_percent/train/pizza'.\n",
            "There are 0 directories and 75 images in '10_food_classes_10_percent/train/hamburger'.\n",
            "There are 0 directories and 75 images in '10_food_classes_10_percent/train/grilled_salmon'.\n",
            "There are 0 directories and 75 images in '10_food_classes_10_percent/train/chicken_wings'.\n",
            "There are 0 directories and 75 images in '10_food_classes_10_percent/train/steak'.\n",
            "There are 0 directories and 75 images in '10_food_classes_10_percent/train/fried_rice'.\n",
            "There are 0 directories and 75 images in '10_food_classes_10_percent/train/sushi'.\n",
            "There are 0 directories and 75 images in '10_food_classes_10_percent/train/ice_cream'.\n",
            "There are 10 directories and 0 images in '10_food_classes_10_percent/test'.\n",
            "There are 0 directories and 250 images in '10_food_classes_10_percent/test/ramen'.\n",
            "There are 0 directories and 250 images in '10_food_classes_10_percent/test/chicken_curry'.\n",
            "There are 0 directories and 250 images in '10_food_classes_10_percent/test/pizza'.\n",
            "There are 0 directories and 250 images in '10_food_classes_10_percent/test/hamburger'.\n",
            "There are 0 directories and 250 images in '10_food_classes_10_percent/test/grilled_salmon'.\n",
            "There are 0 directories and 250 images in '10_food_classes_10_percent/test/chicken_wings'.\n",
            "There are 0 directories and 250 images in '10_food_classes_10_percent/test/steak'.\n",
            "There are 0 directories and 250 images in '10_food_classes_10_percent/test/fried_rice'.\n",
            "There are 0 directories and 250 images in '10_food_classes_10_percent/test/sushi'.\n",
            "There are 0 directories and 250 images in '10_food_classes_10_percent/test/ice_cream'.\n"
          ]
        }
      ]
    },
    {
      "cell_type": "code",
      "source": [
        "# Create training and test directory paths\n",
        "train_dir = \"10_food_classes_10_percent/train\"\n",
        "test_dir = \"10_food_classes_10_percent/test\""
      ],
      "metadata": {
        "id": "MizLZevnpUdA"
      },
      "execution_count": 6,
      "outputs": []
    },
    {
      "cell_type": "code",
      "source": [
        "import tensorflow as tf\n",
        "\n",
        "IMG_SIZE = (224, 224)\n",
        "BATCH_SIZE = 32\n",
        "train_data_10_percent = tf.keras.preprocessing.image_dataset_from_directory(directory=train_dir,\n",
        "                                                                            image_size=IMG_SIZE,\n",
        "                                                                            label_mode=\"categorical\",\n",
        "                                                                            batch_size=BATCH_SIZE)\n",
        "\n",
        "test_data = tf.keras.preprocessing.image_dataset_from_directory(directory=test_dir,\n",
        "                                                                           image_size=IMG_SIZE,\n",
        "                                                                           label_mode=\"categorical\",\n",
        "                                                                           batch_size=BATCH_SIZE)"
      ],
      "metadata": {
        "colab": {
          "base_uri": "https://localhost:8080/"
        },
        "id": "Etguh8sDpu6R",
        "outputId": "62b7bbbe-9dc0-4ea4-d5f7-e00a1f196f30"
      },
      "execution_count": 7,
      "outputs": [
        {
          "output_type": "stream",
          "name": "stdout",
          "text": [
            "Found 750 files belonging to 10 classes.\n",
            "Found 2500 files belonging to 10 classes.\n"
          ]
        }
      ]
    },
    {
      "cell_type": "code",
      "source": [
        "train_data_10_percent"
      ],
      "metadata": {
        "colab": {
          "base_uri": "https://localhost:8080/"
        },
        "id": "QbS8X21lsN0e",
        "outputId": "0ec152d0-7e3e-4bd5-af76-7cefb5311c19"
      },
      "execution_count": 8,
      "outputs": [
        {
          "output_type": "execute_result",
          "data": {
            "text/plain": [
              "<BatchDataset element_spec=(TensorSpec(shape=(None, 224, 224, 3), dtype=tf.float32, name=None), TensorSpec(shape=(None, 10), dtype=tf.float32, name=None))>"
            ]
          },
          "metadata": {},
          "execution_count": 8
        }
      ]
    },
    {
      "cell_type": "code",
      "source": [
        "# Check out the class names of our dataset\n",
        "train_data_10_percent.class_names"
      ],
      "metadata": {
        "colab": {
          "base_uri": "https://localhost:8080/"
        },
        "id": "TXe-3VAPsTrs",
        "outputId": "46a3e025-90d8-4597-b376-d7b957a9a0dc"
      },
      "execution_count": 9,
      "outputs": [
        {
          "output_type": "execute_result",
          "data": {
            "text/plain": [
              "['chicken_curry',\n",
              " 'chicken_wings',\n",
              " 'fried_rice',\n",
              " 'grilled_salmon',\n",
              " 'hamburger',\n",
              " 'ice_cream',\n",
              " 'pizza',\n",
              " 'ramen',\n",
              " 'steak',\n",
              " 'sushi']"
            ]
          },
          "metadata": {},
          "execution_count": 9
        }
      ]
    },
    {
      "cell_type": "code",
      "source": [
        "# See an example of a batch data\n",
        "for images, labels in train_data_10_percent.take(1):\n",
        "  print(images, labels)"
      ],
      "metadata": {
        "colab": {
          "base_uri": "https://localhost:8080/"
        },
        "id": "98FekS_Ks3mN",
        "outputId": "7d9157c6-695d-4f1f-d8a8-6c62e75a7700"
      },
      "execution_count": 10,
      "outputs": [
        {
          "output_type": "stream",
          "name": "stdout",
          "text": [
            "tf.Tensor(\n",
            "[[[[1.20255417e+02 7.22554169e+01 3.22554207e+01]\n",
            "   [1.36309631e+02 9.22382050e+01 5.32382011e+01]\n",
            "   [1.88249359e+02 1.49035080e+02 1.10677933e+02]\n",
            "   ...\n",
            "   [2.45013596e+02 2.18308228e+02 1.69106689e+02]\n",
            "   [2.52248398e+02 2.32778412e+02 1.77059647e+02]\n",
            "   [2.51710754e+02 2.36950958e+02 1.79946457e+02]]\n",
            "\n",
            "  [[1.26096619e+02 7.90966187e+01 3.70966187e+01]\n",
            "   [1.43535400e+02 9.95178680e+01 6.02133331e+01]\n",
            "   [2.03479599e+02 1.64265305e+02 1.25908165e+02]\n",
            "   ...\n",
            "   [2.44142090e+02 2.12001160e+02 1.63059189e+02]\n",
            "   [2.52977341e+02 2.26955368e+02 1.75946106e+02]\n",
            "   [2.51136795e+02 2.29846619e+02 1.76962692e+02]]\n",
            "\n",
            "  [[1.34469070e+02 8.74690704e+01 4.54690704e+01]\n",
            "   [1.51608749e+02 1.08465889e+02 6.65373154e+01]\n",
            "   [2.13238525e+02 1.74024246e+02 1.35667099e+02]\n",
            "   ...\n",
            "   [2.46049286e+02 2.08567184e+02 1.61003433e+02]\n",
            "   [2.54928558e+02 2.22017868e+02 1.75016907e+02]\n",
            "   [2.54120575e+02 2.24303604e+02 1.76357178e+02]]\n",
            "\n",
            "  ...\n",
            "\n",
            "  [[2.51473267e+02 2.24763367e+02 1.66000000e+02]\n",
            "   [2.51473267e+02 2.24763367e+02 1.66000000e+02]\n",
            "   [2.52473267e+02 2.25763367e+02 1.67101410e+02]\n",
            "   ...\n",
            "   [2.43506729e+02 2.00082413e+02 1.55217651e+02]\n",
            "   [2.28853699e+02 1.75186829e+02 1.33985077e+02]\n",
            "   [1.21700806e+02 6.19909058e+01 2.59726982e+01]]\n",
            "\n",
            "  [[2.53000000e+02 2.24000000e+02 1.66000000e+02]\n",
            "   [2.53000000e+02 2.24000000e+02 1.66000000e+02]\n",
            "   [2.54000000e+02 2.25000000e+02 1.67428574e+02]\n",
            "   ...\n",
            "   [2.40453842e+02 1.92653625e+02 1.49167084e+02]\n",
            "   [1.44833969e+02 8.68526993e+01 4.92740517e+01]\n",
            "   [1.06229797e+02 4.26148987e+01 9.71929932e+00]]\n",
            "\n",
            "  [[2.53000000e+02 2.24000000e+02 1.66000000e+02]\n",
            "   [2.53000000e+02 2.24000000e+02 1.66000000e+02]\n",
            "   [2.54000000e+02 2.24785721e+02 1.69214279e+02]\n",
            "   ...\n",
            "   [1.80527405e+02 1.29875824e+02 8.79100647e+01]\n",
            "   [8.83288422e+01 2.91859570e+01 1.29467773e+00]\n",
            "   [9.46557236e+01 3.06557255e+01 4.55143595e+00]]]\n",
            "\n",
            "\n",
            " [[[1.62901783e+01 6.29017830e+00 5.29017830e+00]\n",
            "   [1.42857141e+01 4.28571415e+00 3.28571439e+00]\n",
            "   [1.50491076e+01 5.04910755e+00 4.04910755e+00]\n",
            "   ...\n",
            "   [2.42671852e+01 1.82671852e+01 2.07404518e+01]\n",
            "   [2.20745888e+01 1.60745888e+01 2.00745888e+01]\n",
            "   [1.95293312e+01 1.55293312e+01 1.65293312e+01]]\n",
            "\n",
            "  [[1.40462370e+01 4.04623699e+00 3.04623699e+00]\n",
            "   [1.40000000e+01 4.00000000e+00 3.00000000e+00]\n",
            "   [1.55267859e+01 5.52678585e+00 4.52678585e+00]\n",
            "   ...\n",
            "   [2.95812588e+01 2.35812588e+01 2.55812588e+01]\n",
            "   [2.60487442e+01 2.00487442e+01 2.20487442e+01]\n",
            "   [2.31635666e+01 1.71635666e+01 1.91635666e+01]]\n",
            "\n",
            "  [[1.58657522e+01 5.86575174e+00 4.65146589e+00]\n",
            "   [1.53695784e+01 5.36957884e+00 4.15529299e+00]\n",
            "   [1.63348217e+01 6.33482122e+00 5.12053537e+00]\n",
            "   ...\n",
            "   [3.25758133e+01 2.33615303e+01 2.59329567e+01]\n",
            "   [2.79980335e+01 1.87837486e+01 1.98749123e+01]\n",
            "   [2.58568039e+01 1.62142868e+01 1.70124245e+01]]\n",
            "\n",
            "  ...\n",
            "\n",
            "  [[1.71556625e+01 1.41556625e+01 9.15566254e+00]\n",
            "   [1.68963623e+01 1.18963633e+01 7.89636326e+00]\n",
            "   [1.65774822e+01 7.92408514e+00 4.96016836e+00]\n",
            "   ...\n",
            "   [9.90129013e+01 4.45843735e+01 9.17050171e+00]\n",
            "   [9.86800842e+01 4.35114021e+01 1.19212627e+01]\n",
            "   [9.50579834e+01 4.01383972e+01 1.19869680e+01]]\n",
            "\n",
            "  [[1.46221256e+01 1.16221256e+01 6.62212515e+00]\n",
            "   [1.29461107e+01 7.94611025e+00 3.94611025e+00]\n",
            "   [1.51250134e+01 6.30804873e+00 3.83483458e+00]\n",
            "   ...\n",
            "   [9.05877380e+01 4.45108986e+01 1.29291143e+01]\n",
            "   [9.15703583e+01 4.47846794e+01 1.87400951e+01]\n",
            "   [8.46041412e+01 3.68184624e+01 1.39109573e+01]]\n",
            "\n",
            "  [[1.29374647e+01 8.93746471e+00 5.93746519e+00]\n",
            "   [1.17008581e+01 6.70085812e+00 2.70085812e+00]\n",
            "   [1.64597874e+01 7.64282227e+00 5.16960812e+00]\n",
            "   ...\n",
            "   [7.63611450e+01 3.49909821e+01 1.01239967e+01]\n",
            "   [7.38693542e+01 3.22265320e+01 1.01519470e+01]\n",
            "   [7.66392136e+01 3.43535728e+01 1.57107487e+01]]]\n",
            "\n",
            "\n",
            " [[[1.14285713e+02 9.32857132e+01 6.62857132e+01]\n",
            "   [1.14642860e+02 9.36428604e+01 6.66428604e+01]\n",
            "   [1.15285713e+02 9.42857132e+01 6.72857132e+01]\n",
            "   ...\n",
            "   [1.98647934e+02 2.08219406e+02 2.10219406e+02]\n",
            "   [1.96285706e+02 2.06285706e+02 2.08285706e+02]\n",
            "   [1.94999969e+02 2.04999969e+02 2.06999969e+02]]\n",
            "\n",
            "  [[1.20525513e+02 9.65255127e+01 7.05255127e+01]\n",
            "   [1.20923470e+02 9.69234695e+01 7.09234695e+01]\n",
            "   [1.20928574e+02 9.69285736e+01 7.09285736e+01]\n",
            "   ...\n",
            "   [1.92428543e+02 2.02000015e+02 2.04000015e+02]\n",
            "   [1.91209183e+02 2.01209183e+02 2.03209183e+02]\n",
            "   [1.91117340e+02 2.01117340e+02 2.03117340e+02]]\n",
            "\n",
            "  [[1.22428574e+02 9.82142868e+01 6.97857132e+01]\n",
            "   [1.22428574e+02 9.82142868e+01 6.97857132e+01]\n",
            "   [1.22642860e+02 9.84285736e+01 7.00000000e+01]\n",
            "   ...\n",
            "   [1.88168350e+02 1.97739822e+02 1.99571457e+02]\n",
            "   [1.88801025e+02 1.98801025e+02 2.00586731e+02]\n",
            "   [1.89000000e+02 1.99000000e+02 2.00785721e+02]]\n",
            "\n",
            "  ...\n",
            "\n",
            "  [[2.20642853e+02 2.20857117e+02 2.11285645e+02]\n",
            "   [2.23714310e+02 2.23928574e+02 2.14357101e+02]\n",
            "   [2.22403076e+02 2.22954086e+02 2.13214249e+02]\n",
            "   ...\n",
            "   [2.41403122e+02 2.46403122e+02 2.39403122e+02]\n",
            "   [2.41785736e+02 2.46785736e+02 2.40571472e+02]\n",
            "   [2.41505081e+02 2.46505081e+02 2.40290817e+02]]\n",
            "\n",
            "  [[2.23285767e+02 2.23285767e+02 2.13285767e+02]\n",
            "   [2.19433701e+02 2.19433701e+02 2.09433701e+02]\n",
            "   [2.17158142e+02 2.17158142e+02 2.07158142e+02]\n",
            "   ...\n",
            "   [2.40714294e+02 2.45714294e+02 2.39500031e+02]\n",
            "   [2.41862213e+02 2.46862213e+02 2.40862213e+02]\n",
            "   [2.41000000e+02 2.46000000e+02 2.40000000e+02]]\n",
            "\n",
            "  [[2.34944000e+02 2.31944000e+02 2.22944000e+02]\n",
            "   [2.33357346e+02 2.30357346e+02 2.21357346e+02]\n",
            "   [2.19704178e+02 2.19704178e+02 2.09704178e+02]\n",
            "   ...\n",
            "   [2.38785736e+02 2.43785736e+02 2.37571472e+02]\n",
            "   [2.41428619e+02 2.46428619e+02 2.40428619e+02]\n",
            "   [2.42357178e+02 2.47357178e+02 2.41357178e+02]]]\n",
            "\n",
            "\n",
            " ...\n",
            "\n",
            "\n",
            " [[[1.25621017e+02 7.76210175e+01 5.46210136e+01]\n",
            "   [1.20142853e+02 7.41428528e+01 5.11428566e+01]\n",
            "   [1.13191963e+02 6.96273880e+01 5.03571434e+01]\n",
            "   ...\n",
            "   [6.62702179e+01 3.26274300e+01 1.78416939e+01]\n",
            "   [6.66465454e+01 3.43853874e+01 1.93853855e+01]\n",
            "   [6.96183395e+01 3.73571777e+01 2.23571777e+01]]\n",
            "\n",
            "  [[1.23790176e+02 7.73571396e+01 5.43571434e+01]\n",
            "   [1.18575890e+02 7.33593674e+01 5.19263382e+01]\n",
            "   [1.10930801e+02 6.90022278e+01 4.99094391e+01]\n",
            "   ...\n",
            "   [6.92267151e+01 3.21701241e+01 1.87834816e+01]\n",
            "   [7.12053680e+01 3.42879601e+01 2.08549232e+01]\n",
            "   [7.34911041e+01 3.65736961e+01 2.31406593e+01]]\n",
            "\n",
            "  [[1.20243141e+02 7.58547516e+01 5.54663582e+01]\n",
            "   [1.16203598e+02 7.18152084e+01 5.14268150e+01]\n",
            "   [1.09011795e+02 6.87201843e+01 5.05714264e+01]\n",
            "   ...\n",
            "   [7.20260162e+01 3.24545441e+01 2.02402802e+01]\n",
            "   [7.40932922e+01 3.40932884e+01 2.20932884e+01]\n",
            "   [7.65537567e+01 3.65537567e+01 2.45537548e+01]]\n",
            "\n",
            "  ...\n",
            "\n",
            "  [[2.11642853e+02 1.83642853e+02 1.79642853e+02]\n",
            "   [2.13021835e+02 1.84021835e+02 1.78021835e+02]\n",
            "   [2.14708374e+02 1.84065521e+02 1.76279800e+02]\n",
            "   ...\n",
            "   [2.52305786e+02 2.19305786e+02 2.02305786e+02]\n",
            "   [2.52305786e+02 2.19305786e+02 2.01694214e+02]\n",
            "   [2.52305786e+02 2.19305786e+02 2.00305786e+02]]\n",
            "\n",
            "  [[2.10426331e+02 1.82426331e+02 1.78642853e+02]\n",
            "   [2.12055954e+02 1.83055954e+02 1.79055954e+02]\n",
            "   [2.13472733e+02 1.82044159e+02 1.76615601e+02]\n",
            "   ...\n",
            "   [2.52000000e+02 2.19000000e+02 2.02092789e+02]\n",
            "   [2.52000000e+02 2.19000000e+02 2.02000000e+02]\n",
            "   [2.52000000e+02 2.19000000e+02 2.02000000e+02]]\n",
            "\n",
            "  [[2.09642853e+02 1.81642853e+02 1.78642853e+02]\n",
            "   [2.11313919e+02 1.82313919e+02 1.78313919e+02]\n",
            "   [2.12698807e+02 1.81270233e+02 1.76158325e+02]\n",
            "   ...\n",
            "   [2.52000000e+02 2.19000000e+02 2.03589630e+02]\n",
            "   [2.52000000e+02 2.19000000e+02 2.02000000e+02]\n",
            "   [2.52000000e+02 2.19000000e+02 2.02000000e+02]]]\n",
            "\n",
            "\n",
            " [[[0.00000000e+00 1.63775504e+00 2.51020408e+00]\n",
            "   [6.22448742e-01 3.62755036e+00 7.74489737e+00]\n",
            "   [1.55051041e+01 2.42295933e+01 3.09387779e+01]\n",
            "   ...\n",
            "   [0.00000000e+00 1.27805738e+01 2.80713768e+01]\n",
            "   [0.00000000e+00 5.04583740e+00 1.96427879e+01]\n",
            "   [0.00000000e+00 3.35714293e+00 1.63571434e+01]]\n",
            "\n",
            "  [[1.19387794e+00 2.28571415e+00 3.88265324e+00]\n",
            "   [1.77040732e+00 4.85714245e+00 8.00510120e+00]\n",
            "   [3.10714302e+01 3.77857132e+01 4.49030609e+01]\n",
            "   ...\n",
            "   [2.24487352e+00 1.09999561e+01 2.77142334e+01]\n",
            "   [0.00000000e+00 4.15300655e+00 2.01479053e+01]\n",
            "   [0.00000000e+00 1.02551043e+00 1.59540825e+01]]\n",
            "\n",
            "  [[1.07653069e+00 9.38775480e-01 9.38775480e-01]\n",
            "   [2.24489644e-01 2.80612051e-01 2.42346907e+00]\n",
            "   [1.13367338e+01 1.38622437e+01 2.02193871e+01]\n",
            "   ...\n",
            "   [0.00000000e+00 6.23466301e+00 2.28060818e+01]\n",
            "   [0.00000000e+00 1.57139397e+00 1.82856979e+01]\n",
            "   [0.00000000e+00 2.90817440e-01 1.45714331e+01]]\n",
            "\n",
            "  ...\n",
            "\n",
            "  [[1.66790833e+02 1.28790833e+02 9.02193604e+01]\n",
            "   [1.66000015e+02 1.28000015e+02 8.94285507e+01]\n",
            "   [1.70637833e+02 1.31403107e+02 9.46837234e+01]\n",
            "   ...\n",
            "   [1.59856995e+02 9.66428223e+01 8.78112030e+01]\n",
            "   [1.56627365e+02 9.57703094e+01 8.58978348e+01]\n",
            "   [1.50494705e+02 8.96376495e+01 8.02754211e+01]]\n",
            "\n",
            "  [[1.68596924e+02 1.29596924e+02 9.05969315e+01]\n",
            "   [1.66923462e+02 1.27923454e+02 8.89234543e+01]\n",
            "   [1.69102005e+02 1.29316284e+02 9.26734238e+01]\n",
            "   ...\n",
            "   [1.35612045e+02 8.08978195e+01 7.59692612e+01]\n",
            "   [1.29285431e+02 7.45711975e+01 6.96426392e+01]\n",
            "   [1.15979408e+02 6.32141418e+01 5.73366127e+01]]\n",
            "\n",
            "  [[1.66540741e+02 1.27540741e+02 8.65407333e+01]\n",
            "   [1.66403030e+02 1.27403023e+02 8.84030228e+01]\n",
            "   [1.63285645e+02 1.24285645e+02 8.52856445e+01]\n",
            "   ...\n",
            "   [9.89279175e+01 5.00044594e+01 4.61575394e+01]\n",
            "   [9.19278564e+01 4.32850342e+01 3.99993896e+01]\n",
            "   [7.72443542e+01 2.87851868e+01 2.61882896e+01]]]\n",
            "\n",
            "\n",
            " [[[1.81000000e+02 1.73000000e+02 1.50000000e+02]\n",
            "   [1.80974487e+02 1.74377548e+02 1.54168365e+02]\n",
            "   [1.82137756e+02 1.75137756e+02 1.57566330e+02]\n",
            "   ...\n",
            "   [1.47336761e+02 1.17908241e+02 5.16939735e+01]\n",
            "   [1.59285751e+02 1.29285751e+02 6.52857513e+01]\n",
            "   [1.61515228e+02 1.31515228e+02 6.75152206e+01]]\n",
            "\n",
            "  [[1.82928574e+02 1.74928574e+02 1.53122452e+02]\n",
            "   [1.82857147e+02 1.75862244e+02 1.57709183e+02]\n",
            "   [1.82413269e+02 1.76198975e+02 1.60198975e+02]\n",
            "   ...\n",
            "   [1.56357086e+02 1.27357079e+02 6.13570786e+01]\n",
            "   [1.57147995e+02 1.27148003e+02 6.31479988e+01]\n",
            "   [1.60928574e+02 1.32928574e+02 6.79285736e+01]]\n",
            "\n",
            "  [[1.85214279e+02 1.77214279e+02 1.57653061e+02]\n",
            "   [1.84214279e+02 1.77214279e+02 1.59214279e+02]\n",
            "   [1.83260208e+02 1.77551010e+02 1.60403061e+02]\n",
            "   ...\n",
            "   [1.55525543e+02 1.28336746e+02 6.27857590e+01]\n",
            "   [1.57571426e+02 1.30214279e+02 6.50000000e+01]\n",
            "   [1.57571426e+02 1.30214279e+02 6.50000000e+01]]\n",
            "\n",
            "  ...\n",
            "\n",
            "  [[2.27494888e+02 1.99494888e+02 1.36494888e+02]\n",
            "   [2.26484650e+02 1.98484650e+02 1.35484650e+02]\n",
            "   [2.25719360e+02 1.97382614e+02 1.34550980e+02]\n",
            "   ...\n",
            "   [2.23785736e+02 2.15785736e+02 2.02785736e+02]\n",
            "   [2.23785736e+02 2.15785736e+02 2.02785736e+02]\n",
            "   [2.23785736e+02 2.15785736e+02 2.02785736e+02]]\n",
            "\n",
            "  [[2.25928558e+02 1.97928558e+02 1.34928558e+02]\n",
            "   [2.25071426e+02 1.95071426e+02 1.33071426e+02]\n",
            "   [2.25270416e+02 1.95270416e+02 1.32841858e+02]\n",
            "   ...\n",
            "   [2.25000000e+02 2.17000000e+02 2.04000000e+02]\n",
            "   [2.24000000e+02 2.16000000e+02 2.03000000e+02]\n",
            "   [2.24000000e+02 2.16000000e+02 2.03000000e+02]]\n",
            "\n",
            "  [[2.25000000e+02 1.95000000e+02 1.33000000e+02]\n",
            "   [2.26331665e+02 1.96331665e+02 1.34331665e+02]\n",
            "   [2.26494919e+02 1.96280640e+02 1.33852066e+02]\n",
            "   ...\n",
            "   [2.25000000e+02 2.17000000e+02 2.04000000e+02]\n",
            "   [2.23928558e+02 2.15928558e+02 2.02928558e+02]\n",
            "   [2.22872421e+02 2.14872421e+02 2.01872421e+02]]]], shape=(32, 224, 224, 3), dtype=float32) tf.Tensor(\n",
            "[[0. 0. 1. 0. 0. 0. 0. 0. 0. 0.]\n",
            " [0. 0. 0. 0. 0. 0. 1. 0. 0. 0.]\n",
            " [0. 0. 0. 0. 1. 0. 0. 0. 0. 0.]\n",
            " [0. 1. 0. 0. 0. 0. 0. 0. 0. 0.]\n",
            " [0. 0. 0. 0. 0. 0. 1. 0. 0. 0.]\n",
            " [0. 0. 0. 0. 0. 0. 0. 0. 0. 1.]\n",
            " [0. 0. 0. 0. 1. 0. 0. 0. 0. 0.]\n",
            " [0. 0. 0. 0. 0. 0. 0. 1. 0. 0.]\n",
            " [0. 1. 0. 0. 0. 0. 0. 0. 0. 0.]\n",
            " [0. 1. 0. 0. 0. 0. 0. 0. 0. 0.]\n",
            " [0. 0. 0. 0. 0. 0. 0. 1. 0. 0.]\n",
            " [0. 0. 0. 1. 0. 0. 0. 0. 0. 0.]\n",
            " [0. 0. 0. 1. 0. 0. 0. 0. 0. 0.]\n",
            " [0. 0. 0. 0. 0. 0. 0. 1. 0. 0.]\n",
            " [0. 0. 0. 1. 0. 0. 0. 0. 0. 0.]\n",
            " [0. 0. 0. 0. 0. 1. 0. 0. 0. 0.]\n",
            " [0. 0. 1. 0. 0. 0. 0. 0. 0. 0.]\n",
            " [0. 0. 0. 0. 0. 0. 0. 1. 0. 0.]\n",
            " [0. 0. 0. 0. 0. 0. 0. 0. 1. 0.]\n",
            " [0. 0. 0. 1. 0. 0. 0. 0. 0. 0.]\n",
            " [0. 0. 0. 0. 0. 0. 0. 1. 0. 0.]\n",
            " [0. 0. 0. 0. 0. 1. 0. 0. 0. 0.]\n",
            " [0. 1. 0. 0. 0. 0. 0. 0. 0. 0.]\n",
            " [0. 0. 0. 0. 1. 0. 0. 0. 0. 0.]\n",
            " [0. 0. 0. 0. 0. 0. 1. 0. 0. 0.]\n",
            " [0. 0. 0. 0. 1. 0. 0. 0. 0. 0.]\n",
            " [1. 0. 0. 0. 0. 0. 0. 0. 0. 0.]\n",
            " [0. 0. 0. 0. 0. 1. 0. 0. 0. 0.]\n",
            " [0. 0. 0. 0. 0. 0. 0. 0. 0. 1.]\n",
            " [0. 0. 0. 0. 0. 0. 0. 0. 1. 0.]\n",
            " [0. 0. 0. 0. 0. 0. 1. 0. 0. 0.]\n",
            " [0. 0. 0. 0. 1. 0. 0. 0. 0. 0.]], shape=(32, 10), dtype=float32)\n"
          ]
        }
      ]
    },
    {
      "cell_type": "markdown",
      "source": [
        "## Model 0: Building a transfer learning feature extraction model using the Keras Functional API\n",
        "\n",
        "The sequential API is straight-forward, it runs our layers in sequential order.\n",
        "\n",
        "But the functional API gives us more flexibility with our models."
      ],
      "metadata": {
        "id": "A0UKns22tOPD"
      }
    },
    {
      "cell_type": "code",
      "source": [
        "# 1. Create base model with tf.keras.applications\n",
        "base_model = tf.keras.applications.EfficientNetB0(include_top=False)\n",
        "\n",
        "# 2. Freeze the base model (so the underlying pre-trained patterns aren't updated)\n",
        "base_model.trainable = False\n",
        "\n",
        "# 3. Create inputs into our model\n",
        "inputs = tf.keras.layers.Input(shape=(224, 224, 3), name=\"input_layer\")\n",
        "\n",
        "# 4. If using ResNet50V2 you will need to normalize inputs\n",
        "#x = tf.keras.layers.experimental.preprocessing.Rescaling(1/255.)(inputs)\n",
        "\n",
        "# 5. Pass the inputs to the base_model\n",
        "x = base_model(inputs)\n",
        "print(f\"Shape after passing inputs through base model: {x.shape}\")\n",
        "\n",
        "# 6. Averate pool the outputs of the base model (aggregate all the most important information, reduce number of computations)\n",
        "x = tf.keras.layers.GlobalAveragePooling2D(name=\"global_average_pooling_layer\")(x)\n",
        "print(f\"Shape after GlobalAveragePooling2D: {x.shape}\")\n",
        "\n",
        "# 7. Create the output activation layer\n",
        "outputs = tf.keras.layers.Dense(10, activation=\"softmax\", name=\"output_layer\")(x)\n",
        "\n",
        "# 8. Combine the inputs with the outputs into a model\n",
        "model_0 = tf.keras.Model(inputs, outputs)\n",
        "\n",
        "# 9. Compiling the model\n",
        "model_0.compile(loss=\"categorical_crossentropy\",\n",
        "                optimizer=tf.keras.optimizers.Adam(),\n",
        "                metrics=[\"accuracy\"])\n",
        "\n",
        "# 10. Fit the model\n",
        "history_10_percent = model_0.fit(train_data_10_percent,\n",
        "                                 epochs=5,\n",
        "                                 steps_per_epoch=len(train_data_10_percent),\n",
        "                                 validation_data=test_data,\n",
        "                                 validation_steps=int(0.25 * len(test_data)),\n",
        "                                 callbacks=create_tensorboard_callback(dir_name=\"transfer_learning\",\n",
        "                                                                       experiment_name=\"10_percent_feature_extraction\",\n",
        "                                                                       ))"
      ],
      "metadata": {
        "id": "auQzQfUt1H4a",
        "colab": {
          "base_uri": "https://localhost:8080/"
        },
        "outputId": "519cea89-4b90-40df-f702-ea244968db81"
      },
      "execution_count": 11,
      "outputs": [
        {
          "output_type": "stream",
          "name": "stdout",
          "text": [
            "Downloading data from https://storage.googleapis.com/keras-applications/efficientnetb0_notop.h5\n",
            "16711680/16705208 [==============================] - 0s 0us/step\n",
            "16719872/16705208 [==============================] - 0s 0us/step\n",
            "Shape after passing inputs through base model: (None, 7, 7, 1280)\n",
            "Shape after GlobalAveragePooling2D: (None, 1280)\n",
            "Saving TensorBoard log files to: transfer_learning/10_percent_feature_extraction/20220705-230058\n",
            "Epoch 1/5\n",
            "24/24 [==============================] - 33s 358ms/step - loss: 1.9831 - accuracy: 0.3493 - val_loss: 1.4190 - val_accuracy: 0.6727\n",
            "Epoch 2/5\n",
            "24/24 [==============================] - 5s 209ms/step - loss: 1.2030 - accuracy: 0.7347 - val_loss: 0.9844 - val_accuracy: 0.7845\n",
            "Epoch 3/5\n",
            "24/24 [==============================] - 5s 194ms/step - loss: 0.8714 - accuracy: 0.8107 - val_loss: 0.7902 - val_accuracy: 0.8026\n",
            "Epoch 4/5\n",
            "24/24 [==============================] - 5s 202ms/step - loss: 0.7022 - accuracy: 0.8400 - val_loss: 0.7152 - val_accuracy: 0.8043\n",
            "Epoch 5/5\n",
            "24/24 [==============================] - 4s 157ms/step - loss: 0.6089 - accuracy: 0.8573 - val_loss: 0.6491 - val_accuracy: 0.8158\n"
          ]
        }
      ]
    },
    {
      "cell_type": "code",
      "source": [
        "# Evaluate on the full test dataset\n",
        "model_0.evaluate(test_data)"
      ],
      "metadata": {
        "colab": {
          "base_uri": "https://localhost:8080/"
        },
        "id": "vCcFLOuoRG3M",
        "outputId": "7637c5e7-4488-4825-bc8a-cbb9922eb886"
      },
      "execution_count": 12,
      "outputs": [
        {
          "output_type": "stream",
          "name": "stdout",
          "text": [
            "79/79 [==============================] - 8s 101ms/step - loss: 0.6234 - accuracy: 0.8336\n"
          ]
        },
        {
          "output_type": "execute_result",
          "data": {
            "text/plain": [
              "[0.6233879327774048, 0.8335999846458435]"
            ]
          },
          "metadata": {},
          "execution_count": 12
        }
      ]
    },
    {
      "cell_type": "code",
      "source": [
        "# Check the layers in our base model\n",
        "for layer_number, layer in enumerate(base_model.layers):\n",
        "  print(f\"{layer_number}: {layer.name} layer\")"
      ],
      "metadata": {
        "colab": {
          "base_uri": "https://localhost:8080/"
        },
        "id": "GWwNMmBlZHzu",
        "outputId": "91ce24ad-15a6-436a-a832-ad2b9b256c1a"
      },
      "execution_count": 13,
      "outputs": [
        {
          "output_type": "stream",
          "name": "stdout",
          "text": [
            "0: input_1 layer\n",
            "1: rescaling layer\n",
            "2: normalization layer\n",
            "3: stem_conv_pad layer\n",
            "4: stem_conv layer\n",
            "5: stem_bn layer\n",
            "6: stem_activation layer\n",
            "7: block1a_dwconv layer\n",
            "8: block1a_bn layer\n",
            "9: block1a_activation layer\n",
            "10: block1a_se_squeeze layer\n",
            "11: block1a_se_reshape layer\n",
            "12: block1a_se_reduce layer\n",
            "13: block1a_se_expand layer\n",
            "14: block1a_se_excite layer\n",
            "15: block1a_project_conv layer\n",
            "16: block1a_project_bn layer\n",
            "17: block2a_expand_conv layer\n",
            "18: block2a_expand_bn layer\n",
            "19: block2a_expand_activation layer\n",
            "20: block2a_dwconv_pad layer\n",
            "21: block2a_dwconv layer\n",
            "22: block2a_bn layer\n",
            "23: block2a_activation layer\n",
            "24: block2a_se_squeeze layer\n",
            "25: block2a_se_reshape layer\n",
            "26: block2a_se_reduce layer\n",
            "27: block2a_se_expand layer\n",
            "28: block2a_se_excite layer\n",
            "29: block2a_project_conv layer\n",
            "30: block2a_project_bn layer\n",
            "31: block2b_expand_conv layer\n",
            "32: block2b_expand_bn layer\n",
            "33: block2b_expand_activation layer\n",
            "34: block2b_dwconv layer\n",
            "35: block2b_bn layer\n",
            "36: block2b_activation layer\n",
            "37: block2b_se_squeeze layer\n",
            "38: block2b_se_reshape layer\n",
            "39: block2b_se_reduce layer\n",
            "40: block2b_se_expand layer\n",
            "41: block2b_se_excite layer\n",
            "42: block2b_project_conv layer\n",
            "43: block2b_project_bn layer\n",
            "44: block2b_drop layer\n",
            "45: block2b_add layer\n",
            "46: block3a_expand_conv layer\n",
            "47: block3a_expand_bn layer\n",
            "48: block3a_expand_activation layer\n",
            "49: block3a_dwconv_pad layer\n",
            "50: block3a_dwconv layer\n",
            "51: block3a_bn layer\n",
            "52: block3a_activation layer\n",
            "53: block3a_se_squeeze layer\n",
            "54: block3a_se_reshape layer\n",
            "55: block3a_se_reduce layer\n",
            "56: block3a_se_expand layer\n",
            "57: block3a_se_excite layer\n",
            "58: block3a_project_conv layer\n",
            "59: block3a_project_bn layer\n",
            "60: block3b_expand_conv layer\n",
            "61: block3b_expand_bn layer\n",
            "62: block3b_expand_activation layer\n",
            "63: block3b_dwconv layer\n",
            "64: block3b_bn layer\n",
            "65: block3b_activation layer\n",
            "66: block3b_se_squeeze layer\n",
            "67: block3b_se_reshape layer\n",
            "68: block3b_se_reduce layer\n",
            "69: block3b_se_expand layer\n",
            "70: block3b_se_excite layer\n",
            "71: block3b_project_conv layer\n",
            "72: block3b_project_bn layer\n",
            "73: block3b_drop layer\n",
            "74: block3b_add layer\n",
            "75: block4a_expand_conv layer\n",
            "76: block4a_expand_bn layer\n",
            "77: block4a_expand_activation layer\n",
            "78: block4a_dwconv_pad layer\n",
            "79: block4a_dwconv layer\n",
            "80: block4a_bn layer\n",
            "81: block4a_activation layer\n",
            "82: block4a_se_squeeze layer\n",
            "83: block4a_se_reshape layer\n",
            "84: block4a_se_reduce layer\n",
            "85: block4a_se_expand layer\n",
            "86: block4a_se_excite layer\n",
            "87: block4a_project_conv layer\n",
            "88: block4a_project_bn layer\n",
            "89: block4b_expand_conv layer\n",
            "90: block4b_expand_bn layer\n",
            "91: block4b_expand_activation layer\n",
            "92: block4b_dwconv layer\n",
            "93: block4b_bn layer\n",
            "94: block4b_activation layer\n",
            "95: block4b_se_squeeze layer\n",
            "96: block4b_se_reshape layer\n",
            "97: block4b_se_reduce layer\n",
            "98: block4b_se_expand layer\n",
            "99: block4b_se_excite layer\n",
            "100: block4b_project_conv layer\n",
            "101: block4b_project_bn layer\n",
            "102: block4b_drop layer\n",
            "103: block4b_add layer\n",
            "104: block4c_expand_conv layer\n",
            "105: block4c_expand_bn layer\n",
            "106: block4c_expand_activation layer\n",
            "107: block4c_dwconv layer\n",
            "108: block4c_bn layer\n",
            "109: block4c_activation layer\n",
            "110: block4c_se_squeeze layer\n",
            "111: block4c_se_reshape layer\n",
            "112: block4c_se_reduce layer\n",
            "113: block4c_se_expand layer\n",
            "114: block4c_se_excite layer\n",
            "115: block4c_project_conv layer\n",
            "116: block4c_project_bn layer\n",
            "117: block4c_drop layer\n",
            "118: block4c_add layer\n",
            "119: block5a_expand_conv layer\n",
            "120: block5a_expand_bn layer\n",
            "121: block5a_expand_activation layer\n",
            "122: block5a_dwconv layer\n",
            "123: block5a_bn layer\n",
            "124: block5a_activation layer\n",
            "125: block5a_se_squeeze layer\n",
            "126: block5a_se_reshape layer\n",
            "127: block5a_se_reduce layer\n",
            "128: block5a_se_expand layer\n",
            "129: block5a_se_excite layer\n",
            "130: block5a_project_conv layer\n",
            "131: block5a_project_bn layer\n",
            "132: block5b_expand_conv layer\n",
            "133: block5b_expand_bn layer\n",
            "134: block5b_expand_activation layer\n",
            "135: block5b_dwconv layer\n",
            "136: block5b_bn layer\n",
            "137: block5b_activation layer\n",
            "138: block5b_se_squeeze layer\n",
            "139: block5b_se_reshape layer\n",
            "140: block5b_se_reduce layer\n",
            "141: block5b_se_expand layer\n",
            "142: block5b_se_excite layer\n",
            "143: block5b_project_conv layer\n",
            "144: block5b_project_bn layer\n",
            "145: block5b_drop layer\n",
            "146: block5b_add layer\n",
            "147: block5c_expand_conv layer\n",
            "148: block5c_expand_bn layer\n",
            "149: block5c_expand_activation layer\n",
            "150: block5c_dwconv layer\n",
            "151: block5c_bn layer\n",
            "152: block5c_activation layer\n",
            "153: block5c_se_squeeze layer\n",
            "154: block5c_se_reshape layer\n",
            "155: block5c_se_reduce layer\n",
            "156: block5c_se_expand layer\n",
            "157: block5c_se_excite layer\n",
            "158: block5c_project_conv layer\n",
            "159: block5c_project_bn layer\n",
            "160: block5c_drop layer\n",
            "161: block5c_add layer\n",
            "162: block6a_expand_conv layer\n",
            "163: block6a_expand_bn layer\n",
            "164: block6a_expand_activation layer\n",
            "165: block6a_dwconv_pad layer\n",
            "166: block6a_dwconv layer\n",
            "167: block6a_bn layer\n",
            "168: block6a_activation layer\n",
            "169: block6a_se_squeeze layer\n",
            "170: block6a_se_reshape layer\n",
            "171: block6a_se_reduce layer\n",
            "172: block6a_se_expand layer\n",
            "173: block6a_se_excite layer\n",
            "174: block6a_project_conv layer\n",
            "175: block6a_project_bn layer\n",
            "176: block6b_expand_conv layer\n",
            "177: block6b_expand_bn layer\n",
            "178: block6b_expand_activation layer\n",
            "179: block6b_dwconv layer\n",
            "180: block6b_bn layer\n",
            "181: block6b_activation layer\n",
            "182: block6b_se_squeeze layer\n",
            "183: block6b_se_reshape layer\n",
            "184: block6b_se_reduce layer\n",
            "185: block6b_se_expand layer\n",
            "186: block6b_se_excite layer\n",
            "187: block6b_project_conv layer\n",
            "188: block6b_project_bn layer\n",
            "189: block6b_drop layer\n",
            "190: block6b_add layer\n",
            "191: block6c_expand_conv layer\n",
            "192: block6c_expand_bn layer\n",
            "193: block6c_expand_activation layer\n",
            "194: block6c_dwconv layer\n",
            "195: block6c_bn layer\n",
            "196: block6c_activation layer\n",
            "197: block6c_se_squeeze layer\n",
            "198: block6c_se_reshape layer\n",
            "199: block6c_se_reduce layer\n",
            "200: block6c_se_expand layer\n",
            "201: block6c_se_excite layer\n",
            "202: block6c_project_conv layer\n",
            "203: block6c_project_bn layer\n",
            "204: block6c_drop layer\n",
            "205: block6c_add layer\n",
            "206: block6d_expand_conv layer\n",
            "207: block6d_expand_bn layer\n",
            "208: block6d_expand_activation layer\n",
            "209: block6d_dwconv layer\n",
            "210: block6d_bn layer\n",
            "211: block6d_activation layer\n",
            "212: block6d_se_squeeze layer\n",
            "213: block6d_se_reshape layer\n",
            "214: block6d_se_reduce layer\n",
            "215: block6d_se_expand layer\n",
            "216: block6d_se_excite layer\n",
            "217: block6d_project_conv layer\n",
            "218: block6d_project_bn layer\n",
            "219: block6d_drop layer\n",
            "220: block6d_add layer\n",
            "221: block7a_expand_conv layer\n",
            "222: block7a_expand_bn layer\n",
            "223: block7a_expand_activation layer\n",
            "224: block7a_dwconv layer\n",
            "225: block7a_bn layer\n",
            "226: block7a_activation layer\n",
            "227: block7a_se_squeeze layer\n",
            "228: block7a_se_reshape layer\n",
            "229: block7a_se_reduce layer\n",
            "230: block7a_se_expand layer\n",
            "231: block7a_se_excite layer\n",
            "232: block7a_project_conv layer\n",
            "233: block7a_project_bn layer\n",
            "234: top_conv layer\n",
            "235: top_bn layer\n",
            "236: top_activation layer\n"
          ]
        }
      ]
    },
    {
      "cell_type": "code",
      "source": [
        "# How about we get a summary of the base model?\n",
        "base_model.summary()"
      ],
      "metadata": {
        "colab": {
          "base_uri": "https://localhost:8080/"
        },
        "id": "dZa-J-yrZz0Z",
        "outputId": "339d6e19-2129-450f-ae4b-a1798b1c956c"
      },
      "execution_count": 14,
      "outputs": [
        {
          "output_type": "stream",
          "name": "stdout",
          "text": [
            "Model: \"efficientnetb0\"\n",
            "__________________________________________________________________________________________________\n",
            " Layer (type)                   Output Shape         Param #     Connected to                     \n",
            "==================================================================================================\n",
            " input_1 (InputLayer)           [(None, None, None,  0           []                               \n",
            "                                 3)]                                                              \n",
            "                                                                                                  \n",
            " rescaling (Rescaling)          (None, None, None,   0           ['input_1[0][0]']                \n",
            "                                3)                                                                \n",
            "                                                                                                  \n",
            " normalization (Normalization)  (None, None, None,   7           ['rescaling[0][0]']              \n",
            "                                3)                                                                \n",
            "                                                                                                  \n",
            " stem_conv_pad (ZeroPadding2D)  (None, None, None,   0           ['normalization[0][0]']          \n",
            "                                3)                                                                \n",
            "                                                                                                  \n",
            " stem_conv (Conv2D)             (None, None, None,   864         ['stem_conv_pad[0][0]']          \n",
            "                                32)                                                               \n",
            "                                                                                                  \n",
            " stem_bn (BatchNormalization)   (None, None, None,   128         ['stem_conv[0][0]']              \n",
            "                                32)                                                               \n",
            "                                                                                                  \n",
            " stem_activation (Activation)   (None, None, None,   0           ['stem_bn[0][0]']                \n",
            "                                32)                                                               \n",
            "                                                                                                  \n",
            " block1a_dwconv (DepthwiseConv2  (None, None, None,   288        ['stem_activation[0][0]']        \n",
            " D)                             32)                                                               \n",
            "                                                                                                  \n",
            " block1a_bn (BatchNormalization  (None, None, None,   128        ['block1a_dwconv[0][0]']         \n",
            " )                              32)                                                               \n",
            "                                                                                                  \n",
            " block1a_activation (Activation  (None, None, None,   0          ['block1a_bn[0][0]']             \n",
            " )                              32)                                                               \n",
            "                                                                                                  \n",
            " block1a_se_squeeze (GlobalAver  (None, 32)          0           ['block1a_activation[0][0]']     \n",
            " agePooling2D)                                                                                    \n",
            "                                                                                                  \n",
            " block1a_se_reshape (Reshape)   (None, 1, 1, 32)     0           ['block1a_se_squeeze[0][0]']     \n",
            "                                                                                                  \n",
            " block1a_se_reduce (Conv2D)     (None, 1, 1, 8)      264         ['block1a_se_reshape[0][0]']     \n",
            "                                                                                                  \n",
            " block1a_se_expand (Conv2D)     (None, 1, 1, 32)     288         ['block1a_se_reduce[0][0]']      \n",
            "                                                                                                  \n",
            " block1a_se_excite (Multiply)   (None, None, None,   0           ['block1a_activation[0][0]',     \n",
            "                                32)                               'block1a_se_expand[0][0]']      \n",
            "                                                                                                  \n",
            " block1a_project_conv (Conv2D)  (None, None, None,   512         ['block1a_se_excite[0][0]']      \n",
            "                                16)                                                               \n",
            "                                                                                                  \n",
            " block1a_project_bn (BatchNorma  (None, None, None,   64         ['block1a_project_conv[0][0]']   \n",
            " lization)                      16)                                                               \n",
            "                                                                                                  \n",
            " block2a_expand_conv (Conv2D)   (None, None, None,   1536        ['block1a_project_bn[0][0]']     \n",
            "                                96)                                                               \n",
            "                                                                                                  \n",
            " block2a_expand_bn (BatchNormal  (None, None, None,   384        ['block2a_expand_conv[0][0]']    \n",
            " ization)                       96)                                                               \n",
            "                                                                                                  \n",
            " block2a_expand_activation (Act  (None, None, None,   0          ['block2a_expand_bn[0][0]']      \n",
            " ivation)                       96)                                                               \n",
            "                                                                                                  \n",
            " block2a_dwconv_pad (ZeroPaddin  (None, None, None,   0          ['block2a_expand_activation[0][0]\n",
            " g2D)                           96)                              ']                               \n",
            "                                                                                                  \n",
            " block2a_dwconv (DepthwiseConv2  (None, None, None,   864        ['block2a_dwconv_pad[0][0]']     \n",
            " D)                             96)                                                               \n",
            "                                                                                                  \n",
            " block2a_bn (BatchNormalization  (None, None, None,   384        ['block2a_dwconv[0][0]']         \n",
            " )                              96)                                                               \n",
            "                                                                                                  \n",
            " block2a_activation (Activation  (None, None, None,   0          ['block2a_bn[0][0]']             \n",
            " )                              96)                                                               \n",
            "                                                                                                  \n",
            " block2a_se_squeeze (GlobalAver  (None, 96)          0           ['block2a_activation[0][0]']     \n",
            " agePooling2D)                                                                                    \n",
            "                                                                                                  \n",
            " block2a_se_reshape (Reshape)   (None, 1, 1, 96)     0           ['block2a_se_squeeze[0][0]']     \n",
            "                                                                                                  \n",
            " block2a_se_reduce (Conv2D)     (None, 1, 1, 4)      388         ['block2a_se_reshape[0][0]']     \n",
            "                                                                                                  \n",
            " block2a_se_expand (Conv2D)     (None, 1, 1, 96)     480         ['block2a_se_reduce[0][0]']      \n",
            "                                                                                                  \n",
            " block2a_se_excite (Multiply)   (None, None, None,   0           ['block2a_activation[0][0]',     \n",
            "                                96)                               'block2a_se_expand[0][0]']      \n",
            "                                                                                                  \n",
            " block2a_project_conv (Conv2D)  (None, None, None,   2304        ['block2a_se_excite[0][0]']      \n",
            "                                24)                                                               \n",
            "                                                                                                  \n",
            " block2a_project_bn (BatchNorma  (None, None, None,   96         ['block2a_project_conv[0][0]']   \n",
            " lization)                      24)                                                               \n",
            "                                                                                                  \n",
            " block2b_expand_conv (Conv2D)   (None, None, None,   3456        ['block2a_project_bn[0][0]']     \n",
            "                                144)                                                              \n",
            "                                                                                                  \n",
            " block2b_expand_bn (BatchNormal  (None, None, None,   576        ['block2b_expand_conv[0][0]']    \n",
            " ization)                       144)                                                              \n",
            "                                                                                                  \n",
            " block2b_expand_activation (Act  (None, None, None,   0          ['block2b_expand_bn[0][0]']      \n",
            " ivation)                       144)                                                              \n",
            "                                                                                                  \n",
            " block2b_dwconv (DepthwiseConv2  (None, None, None,   1296       ['block2b_expand_activation[0][0]\n",
            " D)                             144)                             ']                               \n",
            "                                                                                                  \n",
            " block2b_bn (BatchNormalization  (None, None, None,   576        ['block2b_dwconv[0][0]']         \n",
            " )                              144)                                                              \n",
            "                                                                                                  \n",
            " block2b_activation (Activation  (None, None, None,   0          ['block2b_bn[0][0]']             \n",
            " )                              144)                                                              \n",
            "                                                                                                  \n",
            " block2b_se_squeeze (GlobalAver  (None, 144)         0           ['block2b_activation[0][0]']     \n",
            " agePooling2D)                                                                                    \n",
            "                                                                                                  \n",
            " block2b_se_reshape (Reshape)   (None, 1, 1, 144)    0           ['block2b_se_squeeze[0][0]']     \n",
            "                                                                                                  \n",
            " block2b_se_reduce (Conv2D)     (None, 1, 1, 6)      870         ['block2b_se_reshape[0][0]']     \n",
            "                                                                                                  \n",
            " block2b_se_expand (Conv2D)     (None, 1, 1, 144)    1008        ['block2b_se_reduce[0][0]']      \n",
            "                                                                                                  \n",
            " block2b_se_excite (Multiply)   (None, None, None,   0           ['block2b_activation[0][0]',     \n",
            "                                144)                              'block2b_se_expand[0][0]']      \n",
            "                                                                                                  \n",
            " block2b_project_conv (Conv2D)  (None, None, None,   3456        ['block2b_se_excite[0][0]']      \n",
            "                                24)                                                               \n",
            "                                                                                                  \n",
            " block2b_project_bn (BatchNorma  (None, None, None,   96         ['block2b_project_conv[0][0]']   \n",
            " lization)                      24)                                                               \n",
            "                                                                                                  \n",
            " block2b_drop (Dropout)         (None, None, None,   0           ['block2b_project_bn[0][0]']     \n",
            "                                24)                                                               \n",
            "                                                                                                  \n",
            " block2b_add (Add)              (None, None, None,   0           ['block2b_drop[0][0]',           \n",
            "                                24)                               'block2a_project_bn[0][0]']     \n",
            "                                                                                                  \n",
            " block3a_expand_conv (Conv2D)   (None, None, None,   3456        ['block2b_add[0][0]']            \n",
            "                                144)                                                              \n",
            "                                                                                                  \n",
            " block3a_expand_bn (BatchNormal  (None, None, None,   576        ['block3a_expand_conv[0][0]']    \n",
            " ization)                       144)                                                              \n",
            "                                                                                                  \n",
            " block3a_expand_activation (Act  (None, None, None,   0          ['block3a_expand_bn[0][0]']      \n",
            " ivation)                       144)                                                              \n",
            "                                                                                                  \n",
            " block3a_dwconv_pad (ZeroPaddin  (None, None, None,   0          ['block3a_expand_activation[0][0]\n",
            " g2D)                           144)                             ']                               \n",
            "                                                                                                  \n",
            " block3a_dwconv (DepthwiseConv2  (None, None, None,   3600       ['block3a_dwconv_pad[0][0]']     \n",
            " D)                             144)                                                              \n",
            "                                                                                                  \n",
            " block3a_bn (BatchNormalization  (None, None, None,   576        ['block3a_dwconv[0][0]']         \n",
            " )                              144)                                                              \n",
            "                                                                                                  \n",
            " block3a_activation (Activation  (None, None, None,   0          ['block3a_bn[0][0]']             \n",
            " )                              144)                                                              \n",
            "                                                                                                  \n",
            " block3a_se_squeeze (GlobalAver  (None, 144)         0           ['block3a_activation[0][0]']     \n",
            " agePooling2D)                                                                                    \n",
            "                                                                                                  \n",
            " block3a_se_reshape (Reshape)   (None, 1, 1, 144)    0           ['block3a_se_squeeze[0][0]']     \n",
            "                                                                                                  \n",
            " block3a_se_reduce (Conv2D)     (None, 1, 1, 6)      870         ['block3a_se_reshape[0][0]']     \n",
            "                                                                                                  \n",
            " block3a_se_expand (Conv2D)     (None, 1, 1, 144)    1008        ['block3a_se_reduce[0][0]']      \n",
            "                                                                                                  \n",
            " block3a_se_excite (Multiply)   (None, None, None,   0           ['block3a_activation[0][0]',     \n",
            "                                144)                              'block3a_se_expand[0][0]']      \n",
            "                                                                                                  \n",
            " block3a_project_conv (Conv2D)  (None, None, None,   5760        ['block3a_se_excite[0][0]']      \n",
            "                                40)                                                               \n",
            "                                                                                                  \n",
            " block3a_project_bn (BatchNorma  (None, None, None,   160        ['block3a_project_conv[0][0]']   \n",
            " lization)                      40)                                                               \n",
            "                                                                                                  \n",
            " block3b_expand_conv (Conv2D)   (None, None, None,   9600        ['block3a_project_bn[0][0]']     \n",
            "                                240)                                                              \n",
            "                                                                                                  \n",
            " block3b_expand_bn (BatchNormal  (None, None, None,   960        ['block3b_expand_conv[0][0]']    \n",
            " ization)                       240)                                                              \n",
            "                                                                                                  \n",
            " block3b_expand_activation (Act  (None, None, None,   0          ['block3b_expand_bn[0][0]']      \n",
            " ivation)                       240)                                                              \n",
            "                                                                                                  \n",
            " block3b_dwconv (DepthwiseConv2  (None, None, None,   6000       ['block3b_expand_activation[0][0]\n",
            " D)                             240)                             ']                               \n",
            "                                                                                                  \n",
            " block3b_bn (BatchNormalization  (None, None, None,   960        ['block3b_dwconv[0][0]']         \n",
            " )                              240)                                                              \n",
            "                                                                                                  \n",
            " block3b_activation (Activation  (None, None, None,   0          ['block3b_bn[0][0]']             \n",
            " )                              240)                                                              \n",
            "                                                                                                  \n",
            " block3b_se_squeeze (GlobalAver  (None, 240)         0           ['block3b_activation[0][0]']     \n",
            " agePooling2D)                                                                                    \n",
            "                                                                                                  \n",
            " block3b_se_reshape (Reshape)   (None, 1, 1, 240)    0           ['block3b_se_squeeze[0][0]']     \n",
            "                                                                                                  \n",
            " block3b_se_reduce (Conv2D)     (None, 1, 1, 10)     2410        ['block3b_se_reshape[0][0]']     \n",
            "                                                                                                  \n",
            " block3b_se_expand (Conv2D)     (None, 1, 1, 240)    2640        ['block3b_se_reduce[0][0]']      \n",
            "                                                                                                  \n",
            " block3b_se_excite (Multiply)   (None, None, None,   0           ['block3b_activation[0][0]',     \n",
            "                                240)                              'block3b_se_expand[0][0]']      \n",
            "                                                                                                  \n",
            " block3b_project_conv (Conv2D)  (None, None, None,   9600        ['block3b_se_excite[0][0]']      \n",
            "                                40)                                                               \n",
            "                                                                                                  \n",
            " block3b_project_bn (BatchNorma  (None, None, None,   160        ['block3b_project_conv[0][0]']   \n",
            " lization)                      40)                                                               \n",
            "                                                                                                  \n",
            " block3b_drop (Dropout)         (None, None, None,   0           ['block3b_project_bn[0][0]']     \n",
            "                                40)                                                               \n",
            "                                                                                                  \n",
            " block3b_add (Add)              (None, None, None,   0           ['block3b_drop[0][0]',           \n",
            "                                40)                               'block3a_project_bn[0][0]']     \n",
            "                                                                                                  \n",
            " block4a_expand_conv (Conv2D)   (None, None, None,   9600        ['block3b_add[0][0]']            \n",
            "                                240)                                                              \n",
            "                                                                                                  \n",
            " block4a_expand_bn (BatchNormal  (None, None, None,   960        ['block4a_expand_conv[0][0]']    \n",
            " ization)                       240)                                                              \n",
            "                                                                                                  \n",
            " block4a_expand_activation (Act  (None, None, None,   0          ['block4a_expand_bn[0][0]']      \n",
            " ivation)                       240)                                                              \n",
            "                                                                                                  \n",
            " block4a_dwconv_pad (ZeroPaddin  (None, None, None,   0          ['block4a_expand_activation[0][0]\n",
            " g2D)                           240)                             ']                               \n",
            "                                                                                                  \n",
            " block4a_dwconv (DepthwiseConv2  (None, None, None,   2160       ['block4a_dwconv_pad[0][0]']     \n",
            " D)                             240)                                                              \n",
            "                                                                                                  \n",
            " block4a_bn (BatchNormalization  (None, None, None,   960        ['block4a_dwconv[0][0]']         \n",
            " )                              240)                                                              \n",
            "                                                                                                  \n",
            " block4a_activation (Activation  (None, None, None,   0          ['block4a_bn[0][0]']             \n",
            " )                              240)                                                              \n",
            "                                                                                                  \n",
            " block4a_se_squeeze (GlobalAver  (None, 240)         0           ['block4a_activation[0][0]']     \n",
            " agePooling2D)                                                                                    \n",
            "                                                                                                  \n",
            " block4a_se_reshape (Reshape)   (None, 1, 1, 240)    0           ['block4a_se_squeeze[0][0]']     \n",
            "                                                                                                  \n",
            " block4a_se_reduce (Conv2D)     (None, 1, 1, 10)     2410        ['block4a_se_reshape[0][0]']     \n",
            "                                                                                                  \n",
            " block4a_se_expand (Conv2D)     (None, 1, 1, 240)    2640        ['block4a_se_reduce[0][0]']      \n",
            "                                                                                                  \n",
            " block4a_se_excite (Multiply)   (None, None, None,   0           ['block4a_activation[0][0]',     \n",
            "                                240)                              'block4a_se_expand[0][0]']      \n",
            "                                                                                                  \n",
            " block4a_project_conv (Conv2D)  (None, None, None,   19200       ['block4a_se_excite[0][0]']      \n",
            "                                80)                                                               \n",
            "                                                                                                  \n",
            " block4a_project_bn (BatchNorma  (None, None, None,   320        ['block4a_project_conv[0][0]']   \n",
            " lization)                      80)                                                               \n",
            "                                                                                                  \n",
            " block4b_expand_conv (Conv2D)   (None, None, None,   38400       ['block4a_project_bn[0][0]']     \n",
            "                                480)                                                              \n",
            "                                                                                                  \n",
            " block4b_expand_bn (BatchNormal  (None, None, None,   1920       ['block4b_expand_conv[0][0]']    \n",
            " ization)                       480)                                                              \n",
            "                                                                                                  \n",
            " block4b_expand_activation (Act  (None, None, None,   0          ['block4b_expand_bn[0][0]']      \n",
            " ivation)                       480)                                                              \n",
            "                                                                                                  \n",
            " block4b_dwconv (DepthwiseConv2  (None, None, None,   4320       ['block4b_expand_activation[0][0]\n",
            " D)                             480)                             ']                               \n",
            "                                                                                                  \n",
            " block4b_bn (BatchNormalization  (None, None, None,   1920       ['block4b_dwconv[0][0]']         \n",
            " )                              480)                                                              \n",
            "                                                                                                  \n",
            " block4b_activation (Activation  (None, None, None,   0          ['block4b_bn[0][0]']             \n",
            " )                              480)                                                              \n",
            "                                                                                                  \n",
            " block4b_se_squeeze (GlobalAver  (None, 480)         0           ['block4b_activation[0][0]']     \n",
            " agePooling2D)                                                                                    \n",
            "                                                                                                  \n",
            " block4b_se_reshape (Reshape)   (None, 1, 1, 480)    0           ['block4b_se_squeeze[0][0]']     \n",
            "                                                                                                  \n",
            " block4b_se_reduce (Conv2D)     (None, 1, 1, 20)     9620        ['block4b_se_reshape[0][0]']     \n",
            "                                                                                                  \n",
            " block4b_se_expand (Conv2D)     (None, 1, 1, 480)    10080       ['block4b_se_reduce[0][0]']      \n",
            "                                                                                                  \n",
            " block4b_se_excite (Multiply)   (None, None, None,   0           ['block4b_activation[0][0]',     \n",
            "                                480)                              'block4b_se_expand[0][0]']      \n",
            "                                                                                                  \n",
            " block4b_project_conv (Conv2D)  (None, None, None,   38400       ['block4b_se_excite[0][0]']      \n",
            "                                80)                                                               \n",
            "                                                                                                  \n",
            " block4b_project_bn (BatchNorma  (None, None, None,   320        ['block4b_project_conv[0][0]']   \n",
            " lization)                      80)                                                               \n",
            "                                                                                                  \n",
            " block4b_drop (Dropout)         (None, None, None,   0           ['block4b_project_bn[0][0]']     \n",
            "                                80)                                                               \n",
            "                                                                                                  \n",
            " block4b_add (Add)              (None, None, None,   0           ['block4b_drop[0][0]',           \n",
            "                                80)                               'block4a_project_bn[0][0]']     \n",
            "                                                                                                  \n",
            " block4c_expand_conv (Conv2D)   (None, None, None,   38400       ['block4b_add[0][0]']            \n",
            "                                480)                                                              \n",
            "                                                                                                  \n",
            " block4c_expand_bn (BatchNormal  (None, None, None,   1920       ['block4c_expand_conv[0][0]']    \n",
            " ization)                       480)                                                              \n",
            "                                                                                                  \n",
            " block4c_expand_activation (Act  (None, None, None,   0          ['block4c_expand_bn[0][0]']      \n",
            " ivation)                       480)                                                              \n",
            "                                                                                                  \n",
            " block4c_dwconv (DepthwiseConv2  (None, None, None,   4320       ['block4c_expand_activation[0][0]\n",
            " D)                             480)                             ']                               \n",
            "                                                                                                  \n",
            " block4c_bn (BatchNormalization  (None, None, None,   1920       ['block4c_dwconv[0][0]']         \n",
            " )                              480)                                                              \n",
            "                                                                                                  \n",
            " block4c_activation (Activation  (None, None, None,   0          ['block4c_bn[0][0]']             \n",
            " )                              480)                                                              \n",
            "                                                                                                  \n",
            " block4c_se_squeeze (GlobalAver  (None, 480)         0           ['block4c_activation[0][0]']     \n",
            " agePooling2D)                                                                                    \n",
            "                                                                                                  \n",
            " block4c_se_reshape (Reshape)   (None, 1, 1, 480)    0           ['block4c_se_squeeze[0][0]']     \n",
            "                                                                                                  \n",
            " block4c_se_reduce (Conv2D)     (None, 1, 1, 20)     9620        ['block4c_se_reshape[0][0]']     \n",
            "                                                                                                  \n",
            " block4c_se_expand (Conv2D)     (None, 1, 1, 480)    10080       ['block4c_se_reduce[0][0]']      \n",
            "                                                                                                  \n",
            " block4c_se_excite (Multiply)   (None, None, None,   0           ['block4c_activation[0][0]',     \n",
            "                                480)                              'block4c_se_expand[0][0]']      \n",
            "                                                                                                  \n",
            " block4c_project_conv (Conv2D)  (None, None, None,   38400       ['block4c_se_excite[0][0]']      \n",
            "                                80)                                                               \n",
            "                                                                                                  \n",
            " block4c_project_bn (BatchNorma  (None, None, None,   320        ['block4c_project_conv[0][0]']   \n",
            " lization)                      80)                                                               \n",
            "                                                                                                  \n",
            " block4c_drop (Dropout)         (None, None, None,   0           ['block4c_project_bn[0][0]']     \n",
            "                                80)                                                               \n",
            "                                                                                                  \n",
            " block4c_add (Add)              (None, None, None,   0           ['block4c_drop[0][0]',           \n",
            "                                80)                               'block4b_add[0][0]']            \n",
            "                                                                                                  \n",
            " block5a_expand_conv (Conv2D)   (None, None, None,   38400       ['block4c_add[0][0]']            \n",
            "                                480)                                                              \n",
            "                                                                                                  \n",
            " block5a_expand_bn (BatchNormal  (None, None, None,   1920       ['block5a_expand_conv[0][0]']    \n",
            " ization)                       480)                                                              \n",
            "                                                                                                  \n",
            " block5a_expand_activation (Act  (None, None, None,   0          ['block5a_expand_bn[0][0]']      \n",
            " ivation)                       480)                                                              \n",
            "                                                                                                  \n",
            " block5a_dwconv (DepthwiseConv2  (None, None, None,   12000      ['block5a_expand_activation[0][0]\n",
            " D)                             480)                             ']                               \n",
            "                                                                                                  \n",
            " block5a_bn (BatchNormalization  (None, None, None,   1920       ['block5a_dwconv[0][0]']         \n",
            " )                              480)                                                              \n",
            "                                                                                                  \n",
            " block5a_activation (Activation  (None, None, None,   0          ['block5a_bn[0][0]']             \n",
            " )                              480)                                                              \n",
            "                                                                                                  \n",
            " block5a_se_squeeze (GlobalAver  (None, 480)         0           ['block5a_activation[0][0]']     \n",
            " agePooling2D)                                                                                    \n",
            "                                                                                                  \n",
            " block5a_se_reshape (Reshape)   (None, 1, 1, 480)    0           ['block5a_se_squeeze[0][0]']     \n",
            "                                                                                                  \n",
            " block5a_se_reduce (Conv2D)     (None, 1, 1, 20)     9620        ['block5a_se_reshape[0][0]']     \n",
            "                                                                                                  \n",
            " block5a_se_expand (Conv2D)     (None, 1, 1, 480)    10080       ['block5a_se_reduce[0][0]']      \n",
            "                                                                                                  \n",
            " block5a_se_excite (Multiply)   (None, None, None,   0           ['block5a_activation[0][0]',     \n",
            "                                480)                              'block5a_se_expand[0][0]']      \n",
            "                                                                                                  \n",
            " block5a_project_conv (Conv2D)  (None, None, None,   53760       ['block5a_se_excite[0][0]']      \n",
            "                                112)                                                              \n",
            "                                                                                                  \n",
            " block5a_project_bn (BatchNorma  (None, None, None,   448        ['block5a_project_conv[0][0]']   \n",
            " lization)                      112)                                                              \n",
            "                                                                                                  \n",
            " block5b_expand_conv (Conv2D)   (None, None, None,   75264       ['block5a_project_bn[0][0]']     \n",
            "                                672)                                                              \n",
            "                                                                                                  \n",
            " block5b_expand_bn (BatchNormal  (None, None, None,   2688       ['block5b_expand_conv[0][0]']    \n",
            " ization)                       672)                                                              \n",
            "                                                                                                  \n",
            " block5b_expand_activation (Act  (None, None, None,   0          ['block5b_expand_bn[0][0]']      \n",
            " ivation)                       672)                                                              \n",
            "                                                                                                  \n",
            " block5b_dwconv (DepthwiseConv2  (None, None, None,   16800      ['block5b_expand_activation[0][0]\n",
            " D)                             672)                             ']                               \n",
            "                                                                                                  \n",
            " block5b_bn (BatchNormalization  (None, None, None,   2688       ['block5b_dwconv[0][0]']         \n",
            " )                              672)                                                              \n",
            "                                                                                                  \n",
            " block5b_activation (Activation  (None, None, None,   0          ['block5b_bn[0][0]']             \n",
            " )                              672)                                                              \n",
            "                                                                                                  \n",
            " block5b_se_squeeze (GlobalAver  (None, 672)         0           ['block5b_activation[0][0]']     \n",
            " agePooling2D)                                                                                    \n",
            "                                                                                                  \n",
            " block5b_se_reshape (Reshape)   (None, 1, 1, 672)    0           ['block5b_se_squeeze[0][0]']     \n",
            "                                                                                                  \n",
            " block5b_se_reduce (Conv2D)     (None, 1, 1, 28)     18844       ['block5b_se_reshape[0][0]']     \n",
            "                                                                                                  \n",
            " block5b_se_expand (Conv2D)     (None, 1, 1, 672)    19488       ['block5b_se_reduce[0][0]']      \n",
            "                                                                                                  \n",
            " block5b_se_excite (Multiply)   (None, None, None,   0           ['block5b_activation[0][0]',     \n",
            "                                672)                              'block5b_se_expand[0][0]']      \n",
            "                                                                                                  \n",
            " block5b_project_conv (Conv2D)  (None, None, None,   75264       ['block5b_se_excite[0][0]']      \n",
            "                                112)                                                              \n",
            "                                                                                                  \n",
            " block5b_project_bn (BatchNorma  (None, None, None,   448        ['block5b_project_conv[0][0]']   \n",
            " lization)                      112)                                                              \n",
            "                                                                                                  \n",
            " block5b_drop (Dropout)         (None, None, None,   0           ['block5b_project_bn[0][0]']     \n",
            "                                112)                                                              \n",
            "                                                                                                  \n",
            " block5b_add (Add)              (None, None, None,   0           ['block5b_drop[0][0]',           \n",
            "                                112)                              'block5a_project_bn[0][0]']     \n",
            "                                                                                                  \n",
            " block5c_expand_conv (Conv2D)   (None, None, None,   75264       ['block5b_add[0][0]']            \n",
            "                                672)                                                              \n",
            "                                                                                                  \n",
            " block5c_expand_bn (BatchNormal  (None, None, None,   2688       ['block5c_expand_conv[0][0]']    \n",
            " ization)                       672)                                                              \n",
            "                                                                                                  \n",
            " block5c_expand_activation (Act  (None, None, None,   0          ['block5c_expand_bn[0][0]']      \n",
            " ivation)                       672)                                                              \n",
            "                                                                                                  \n",
            " block5c_dwconv (DepthwiseConv2  (None, None, None,   16800      ['block5c_expand_activation[0][0]\n",
            " D)                             672)                             ']                               \n",
            "                                                                                                  \n",
            " block5c_bn (BatchNormalization  (None, None, None,   2688       ['block5c_dwconv[0][0]']         \n",
            " )                              672)                                                              \n",
            "                                                                                                  \n",
            " block5c_activation (Activation  (None, None, None,   0          ['block5c_bn[0][0]']             \n",
            " )                              672)                                                              \n",
            "                                                                                                  \n",
            " block5c_se_squeeze (GlobalAver  (None, 672)         0           ['block5c_activation[0][0]']     \n",
            " agePooling2D)                                                                                    \n",
            "                                                                                                  \n",
            " block5c_se_reshape (Reshape)   (None, 1, 1, 672)    0           ['block5c_se_squeeze[0][0]']     \n",
            "                                                                                                  \n",
            " block5c_se_reduce (Conv2D)     (None, 1, 1, 28)     18844       ['block5c_se_reshape[0][0]']     \n",
            "                                                                                                  \n",
            " block5c_se_expand (Conv2D)     (None, 1, 1, 672)    19488       ['block5c_se_reduce[0][0]']      \n",
            "                                                                                                  \n",
            " block5c_se_excite (Multiply)   (None, None, None,   0           ['block5c_activation[0][0]',     \n",
            "                                672)                              'block5c_se_expand[0][0]']      \n",
            "                                                                                                  \n",
            " block5c_project_conv (Conv2D)  (None, None, None,   75264       ['block5c_se_excite[0][0]']      \n",
            "                                112)                                                              \n",
            "                                                                                                  \n",
            " block5c_project_bn (BatchNorma  (None, None, None,   448        ['block5c_project_conv[0][0]']   \n",
            " lization)                      112)                                                              \n",
            "                                                                                                  \n",
            " block5c_drop (Dropout)         (None, None, None,   0           ['block5c_project_bn[0][0]']     \n",
            "                                112)                                                              \n",
            "                                                                                                  \n",
            " block5c_add (Add)              (None, None, None,   0           ['block5c_drop[0][0]',           \n",
            "                                112)                              'block5b_add[0][0]']            \n",
            "                                                                                                  \n",
            " block6a_expand_conv (Conv2D)   (None, None, None,   75264       ['block5c_add[0][0]']            \n",
            "                                672)                                                              \n",
            "                                                                                                  \n",
            " block6a_expand_bn (BatchNormal  (None, None, None,   2688       ['block6a_expand_conv[0][0]']    \n",
            " ization)                       672)                                                              \n",
            "                                                                                                  \n",
            " block6a_expand_activation (Act  (None, None, None,   0          ['block6a_expand_bn[0][0]']      \n",
            " ivation)                       672)                                                              \n",
            "                                                                                                  \n",
            " block6a_dwconv_pad (ZeroPaddin  (None, None, None,   0          ['block6a_expand_activation[0][0]\n",
            " g2D)                           672)                             ']                               \n",
            "                                                                                                  \n",
            " block6a_dwconv (DepthwiseConv2  (None, None, None,   16800      ['block6a_dwconv_pad[0][0]']     \n",
            " D)                             672)                                                              \n",
            "                                                                                                  \n",
            " block6a_bn (BatchNormalization  (None, None, None,   2688       ['block6a_dwconv[0][0]']         \n",
            " )                              672)                                                              \n",
            "                                                                                                  \n",
            " block6a_activation (Activation  (None, None, None,   0          ['block6a_bn[0][0]']             \n",
            " )                              672)                                                              \n",
            "                                                                                                  \n",
            " block6a_se_squeeze (GlobalAver  (None, 672)         0           ['block6a_activation[0][0]']     \n",
            " agePooling2D)                                                                                    \n",
            "                                                                                                  \n",
            " block6a_se_reshape (Reshape)   (None, 1, 1, 672)    0           ['block6a_se_squeeze[0][0]']     \n",
            "                                                                                                  \n",
            " block6a_se_reduce (Conv2D)     (None, 1, 1, 28)     18844       ['block6a_se_reshape[0][0]']     \n",
            "                                                                                                  \n",
            " block6a_se_expand (Conv2D)     (None, 1, 1, 672)    19488       ['block6a_se_reduce[0][0]']      \n",
            "                                                                                                  \n",
            " block6a_se_excite (Multiply)   (None, None, None,   0           ['block6a_activation[0][0]',     \n",
            "                                672)                              'block6a_se_expand[0][0]']      \n",
            "                                                                                                  \n",
            " block6a_project_conv (Conv2D)  (None, None, None,   129024      ['block6a_se_excite[0][0]']      \n",
            "                                192)                                                              \n",
            "                                                                                                  \n",
            " block6a_project_bn (BatchNorma  (None, None, None,   768        ['block6a_project_conv[0][0]']   \n",
            " lization)                      192)                                                              \n",
            "                                                                                                  \n",
            " block6b_expand_conv (Conv2D)   (None, None, None,   221184      ['block6a_project_bn[0][0]']     \n",
            "                                1152)                                                             \n",
            "                                                                                                  \n",
            " block6b_expand_bn (BatchNormal  (None, None, None,   4608       ['block6b_expand_conv[0][0]']    \n",
            " ization)                       1152)                                                             \n",
            "                                                                                                  \n",
            " block6b_expand_activation (Act  (None, None, None,   0          ['block6b_expand_bn[0][0]']      \n",
            " ivation)                       1152)                                                             \n",
            "                                                                                                  \n",
            " block6b_dwconv (DepthwiseConv2  (None, None, None,   28800      ['block6b_expand_activation[0][0]\n",
            " D)                             1152)                            ']                               \n",
            "                                                                                                  \n",
            " block6b_bn (BatchNormalization  (None, None, None,   4608       ['block6b_dwconv[0][0]']         \n",
            " )                              1152)                                                             \n",
            "                                                                                                  \n",
            " block6b_activation (Activation  (None, None, None,   0          ['block6b_bn[0][0]']             \n",
            " )                              1152)                                                             \n",
            "                                                                                                  \n",
            " block6b_se_squeeze (GlobalAver  (None, 1152)        0           ['block6b_activation[0][0]']     \n",
            " agePooling2D)                                                                                    \n",
            "                                                                                                  \n",
            " block6b_se_reshape (Reshape)   (None, 1, 1, 1152)   0           ['block6b_se_squeeze[0][0]']     \n",
            "                                                                                                  \n",
            " block6b_se_reduce (Conv2D)     (None, 1, 1, 48)     55344       ['block6b_se_reshape[0][0]']     \n",
            "                                                                                                  \n",
            " block6b_se_expand (Conv2D)     (None, 1, 1, 1152)   56448       ['block6b_se_reduce[0][0]']      \n",
            "                                                                                                  \n",
            " block6b_se_excite (Multiply)   (None, None, None,   0           ['block6b_activation[0][0]',     \n",
            "                                1152)                             'block6b_se_expand[0][0]']      \n",
            "                                                                                                  \n",
            " block6b_project_conv (Conv2D)  (None, None, None,   221184      ['block6b_se_excite[0][0]']      \n",
            "                                192)                                                              \n",
            "                                                                                                  \n",
            " block6b_project_bn (BatchNorma  (None, None, None,   768        ['block6b_project_conv[0][0]']   \n",
            " lization)                      192)                                                              \n",
            "                                                                                                  \n",
            " block6b_drop (Dropout)         (None, None, None,   0           ['block6b_project_bn[0][0]']     \n",
            "                                192)                                                              \n",
            "                                                                                                  \n",
            " block6b_add (Add)              (None, None, None,   0           ['block6b_drop[0][0]',           \n",
            "                                192)                              'block6a_project_bn[0][0]']     \n",
            "                                                                                                  \n",
            " block6c_expand_conv (Conv2D)   (None, None, None,   221184      ['block6b_add[0][0]']            \n",
            "                                1152)                                                             \n",
            "                                                                                                  \n",
            " block6c_expand_bn (BatchNormal  (None, None, None,   4608       ['block6c_expand_conv[0][0]']    \n",
            " ization)                       1152)                                                             \n",
            "                                                                                                  \n",
            " block6c_expand_activation (Act  (None, None, None,   0          ['block6c_expand_bn[0][0]']      \n",
            " ivation)                       1152)                                                             \n",
            "                                                                                                  \n",
            " block6c_dwconv (DepthwiseConv2  (None, None, None,   28800      ['block6c_expand_activation[0][0]\n",
            " D)                             1152)                            ']                               \n",
            "                                                                                                  \n",
            " block6c_bn (BatchNormalization  (None, None, None,   4608       ['block6c_dwconv[0][0]']         \n",
            " )                              1152)                                                             \n",
            "                                                                                                  \n",
            " block6c_activation (Activation  (None, None, None,   0          ['block6c_bn[0][0]']             \n",
            " )                              1152)                                                             \n",
            "                                                                                                  \n",
            " block6c_se_squeeze (GlobalAver  (None, 1152)        0           ['block6c_activation[0][0]']     \n",
            " agePooling2D)                                                                                    \n",
            "                                                                                                  \n",
            " block6c_se_reshape (Reshape)   (None, 1, 1, 1152)   0           ['block6c_se_squeeze[0][0]']     \n",
            "                                                                                                  \n",
            " block6c_se_reduce (Conv2D)     (None, 1, 1, 48)     55344       ['block6c_se_reshape[0][0]']     \n",
            "                                                                                                  \n",
            " block6c_se_expand (Conv2D)     (None, 1, 1, 1152)   56448       ['block6c_se_reduce[0][0]']      \n",
            "                                                                                                  \n",
            " block6c_se_excite (Multiply)   (None, None, None,   0           ['block6c_activation[0][0]',     \n",
            "                                1152)                             'block6c_se_expand[0][0]']      \n",
            "                                                                                                  \n",
            " block6c_project_conv (Conv2D)  (None, None, None,   221184      ['block6c_se_excite[0][0]']      \n",
            "                                192)                                                              \n",
            "                                                                                                  \n",
            " block6c_project_bn (BatchNorma  (None, None, None,   768        ['block6c_project_conv[0][0]']   \n",
            " lization)                      192)                                                              \n",
            "                                                                                                  \n",
            " block6c_drop (Dropout)         (None, None, None,   0           ['block6c_project_bn[0][0]']     \n",
            "                                192)                                                              \n",
            "                                                                                                  \n",
            " block6c_add (Add)              (None, None, None,   0           ['block6c_drop[0][0]',           \n",
            "                                192)                              'block6b_add[0][0]']            \n",
            "                                                                                                  \n",
            " block6d_expand_conv (Conv2D)   (None, None, None,   221184      ['block6c_add[0][0]']            \n",
            "                                1152)                                                             \n",
            "                                                                                                  \n",
            " block6d_expand_bn (BatchNormal  (None, None, None,   4608       ['block6d_expand_conv[0][0]']    \n",
            " ization)                       1152)                                                             \n",
            "                                                                                                  \n",
            " block6d_expand_activation (Act  (None, None, None,   0          ['block6d_expand_bn[0][0]']      \n",
            " ivation)                       1152)                                                             \n",
            "                                                                                                  \n",
            " block6d_dwconv (DepthwiseConv2  (None, None, None,   28800      ['block6d_expand_activation[0][0]\n",
            " D)                             1152)                            ']                               \n",
            "                                                                                                  \n",
            " block6d_bn (BatchNormalization  (None, None, None,   4608       ['block6d_dwconv[0][0]']         \n",
            " )                              1152)                                                             \n",
            "                                                                                                  \n",
            " block6d_activation (Activation  (None, None, None,   0          ['block6d_bn[0][0]']             \n",
            " )                              1152)                                                             \n",
            "                                                                                                  \n",
            " block6d_se_squeeze (GlobalAver  (None, 1152)        0           ['block6d_activation[0][0]']     \n",
            " agePooling2D)                                                                                    \n",
            "                                                                                                  \n",
            " block6d_se_reshape (Reshape)   (None, 1, 1, 1152)   0           ['block6d_se_squeeze[0][0]']     \n",
            "                                                                                                  \n",
            " block6d_se_reduce (Conv2D)     (None, 1, 1, 48)     55344       ['block6d_se_reshape[0][0]']     \n",
            "                                                                                                  \n",
            " block6d_se_expand (Conv2D)     (None, 1, 1, 1152)   56448       ['block6d_se_reduce[0][0]']      \n",
            "                                                                                                  \n",
            " block6d_se_excite (Multiply)   (None, None, None,   0           ['block6d_activation[0][0]',     \n",
            "                                1152)                             'block6d_se_expand[0][0]']      \n",
            "                                                                                                  \n",
            " block6d_project_conv (Conv2D)  (None, None, None,   221184      ['block6d_se_excite[0][0]']      \n",
            "                                192)                                                              \n",
            "                                                                                                  \n",
            " block6d_project_bn (BatchNorma  (None, None, None,   768        ['block6d_project_conv[0][0]']   \n",
            " lization)                      192)                                                              \n",
            "                                                                                                  \n",
            " block6d_drop (Dropout)         (None, None, None,   0           ['block6d_project_bn[0][0]']     \n",
            "                                192)                                                              \n",
            "                                                                                                  \n",
            " block6d_add (Add)              (None, None, None,   0           ['block6d_drop[0][0]',           \n",
            "                                192)                              'block6c_add[0][0]']            \n",
            "                                                                                                  \n",
            " block7a_expand_conv (Conv2D)   (None, None, None,   221184      ['block6d_add[0][0]']            \n",
            "                                1152)                                                             \n",
            "                                                                                                  \n",
            " block7a_expand_bn (BatchNormal  (None, None, None,   4608       ['block7a_expand_conv[0][0]']    \n",
            " ization)                       1152)                                                             \n",
            "                                                                                                  \n",
            " block7a_expand_activation (Act  (None, None, None,   0          ['block7a_expand_bn[0][0]']      \n",
            " ivation)                       1152)                                                             \n",
            "                                                                                                  \n",
            " block7a_dwconv (DepthwiseConv2  (None, None, None,   10368      ['block7a_expand_activation[0][0]\n",
            " D)                             1152)                            ']                               \n",
            "                                                                                                  \n",
            " block7a_bn (BatchNormalization  (None, None, None,   4608       ['block7a_dwconv[0][0]']         \n",
            " )                              1152)                                                             \n",
            "                                                                                                  \n",
            " block7a_activation (Activation  (None, None, None,   0          ['block7a_bn[0][0]']             \n",
            " )                              1152)                                                             \n",
            "                                                                                                  \n",
            " block7a_se_squeeze (GlobalAver  (None, 1152)        0           ['block7a_activation[0][0]']     \n",
            " agePooling2D)                                                                                    \n",
            "                                                                                                  \n",
            " block7a_se_reshape (Reshape)   (None, 1, 1, 1152)   0           ['block7a_se_squeeze[0][0]']     \n",
            "                                                                                                  \n",
            " block7a_se_reduce (Conv2D)     (None, 1, 1, 48)     55344       ['block7a_se_reshape[0][0]']     \n",
            "                                                                                                  \n",
            " block7a_se_expand (Conv2D)     (None, 1, 1, 1152)   56448       ['block7a_se_reduce[0][0]']      \n",
            "                                                                                                  \n",
            " block7a_se_excite (Multiply)   (None, None, None,   0           ['block7a_activation[0][0]',     \n",
            "                                1152)                             'block7a_se_expand[0][0]']      \n",
            "                                                                                                  \n",
            " block7a_project_conv (Conv2D)  (None, None, None,   368640      ['block7a_se_excite[0][0]']      \n",
            "                                320)                                                              \n",
            "                                                                                                  \n",
            " block7a_project_bn (BatchNorma  (None, None, None,   1280       ['block7a_project_conv[0][0]']   \n",
            " lization)                      320)                                                              \n",
            "                                                                                                  \n",
            " top_conv (Conv2D)              (None, None, None,   409600      ['block7a_project_bn[0][0]']     \n",
            "                                1280)                                                             \n",
            "                                                                                                  \n",
            " top_bn (BatchNormalization)    (None, None, None,   5120        ['top_conv[0][0]']               \n",
            "                                1280)                                                             \n",
            "                                                                                                  \n",
            " top_activation (Activation)    (None, None, None,   0           ['top_bn[0][0]']                 \n",
            "                                1280)                                                             \n",
            "                                                                                                  \n",
            "==================================================================================================\n",
            "Total params: 4,049,571\n",
            "Trainable params: 0\n",
            "Non-trainable params: 4,049,571\n",
            "__________________________________________________________________________________________________\n"
          ]
        }
      ]
    },
    {
      "cell_type": "code",
      "source": [
        "# How about a summary of our whole model\n",
        "model_0.summary()"
      ],
      "metadata": {
        "colab": {
          "base_uri": "https://localhost:8080/"
        },
        "id": "LoL_B_XXaREW",
        "outputId": "a3c66073-30ca-41ef-c0bc-411524bfb250"
      },
      "execution_count": 15,
      "outputs": [
        {
          "output_type": "stream",
          "name": "stdout",
          "text": [
            "Model: \"model\"\n",
            "_________________________________________________________________\n",
            " Layer (type)                Output Shape              Param #   \n",
            "=================================================================\n",
            " input_layer (InputLayer)    [(None, 224, 224, 3)]     0         \n",
            "                                                                 \n",
            " efficientnetb0 (Functional)  (None, None, None, 1280)  4049571  \n",
            "                                                                 \n",
            " global_average_pooling_laye  (None, 1280)             0         \n",
            " r (GlobalAveragePooling2D)                                      \n",
            "                                                                 \n",
            " output_layer (Dense)        (None, 10)                12810     \n",
            "                                                                 \n",
            "=================================================================\n",
            "Total params: 4,062,381\n",
            "Trainable params: 12,810\n",
            "Non-trainable params: 4,049,571\n",
            "_________________________________________________________________\n"
          ]
        }
      ]
    },
    {
      "cell_type": "code",
      "source": [
        "# Check out our model's training curves\n",
        "plot_loss_curves(history_10_percent)"
      ],
      "metadata": {
        "colab": {
          "base_uri": "https://localhost:8080/",
          "height": 573
        },
        "id": "ww4eZf82asQr",
        "outputId": "cea7e9a8-226b-4666-bb81-05081f781128"
      },
      "execution_count": 16,
      "outputs": [
        {
          "output_type": "display_data",
          "data": {
            "text/plain": [
              "<Figure size 432x288 with 1 Axes>"
            ],
            "image/png": "[encoded data removed]"
          },
          "metadata": {
            "needs_background": "light"
          }
        },
        {
          "output_type": "display_data",
          "data": {
            "text/plain": [
              "<Figure size 432x288 with 1 Axes>"
            ],
            "image/png": "[encoded data removed]"
          },
          "metadata": {
            "needs_background": "light"
          }
        }
      ]
    },
    {
      "cell_type": "markdown",
      "source": [
        "## Getting a feature vector from a trained model\n",
        "\n",
        "Let's demonstrate the Global Average Pooling 2D layer...\n",
        "\n",
        "We have a tensor after our model goes through `base_model` of shape (None, 7, 7, 1280).\n",
        "\n",
        "But then when it passes through GlobalAveragePooling2D, it turns into (None, 1280).\n",
        "\n",
        "Let's use a similar shaped tensor of (1, 4, 4, 3) and then pass it to GlobalAveragePooling2D."
      ],
      "metadata": {
        "id": "gxdMu--DbDvv"
      }
    },
    {
      "cell_type": "code",
      "source": [
        "# Define the input shape\n",
        "import tensorflow as tf\n",
        "input_shape = (1, 4, 4, 3)\n",
        "\n",
        "# Create a random tensor\n",
        "tf.random.set_seed = 24\n",
        "input_tensor = tf.random.normal(input_shape)\n",
        "\n",
        "print(f\"Random input tensor:\\n {input_tensor}\\n\")\n",
        "\n",
        "# Pass the random tesnsor through a global average pooling 2D layer\n",
        "global_average_pooled_tensor = tf.keras.layers.GlobalAveragePooling2D()(input_tensor)\n",
        "print(f\"2D global averate pooled random tensor:\\n {global_average_pooled_tensor}\\n\")\n",
        "\n",
        "# Check the shape of the different tensors\n",
        "print(f\"Shape of input tensor: {input_tensor.shape}\")\n",
        "print(f\"Shape of Global average pooled 2D tensor: {global_average_pooled_tensor.shape}\")"
      ],
      "metadata": {
        "colab": {
          "base_uri": "https://localhost:8080/"
        },
        "id": "iqR34E49bUgy",
        "outputId": "e8ee20c4-7daf-472c-a4f8-7efbb25c1bac"
      },
      "execution_count": 17,
      "outputs": [
        {
          "output_type": "stream",
          "name": "stdout",
          "text": [
            "Random input tensor:\n",
            " [[[[-1.3896283   0.12120483  0.43962228]\n",
            "   [-0.08826266  1.1440083  -2.0342638 ]\n",
            "   [-0.8237379  -0.11944464 -0.8762734 ]\n",
            "   [ 0.01682347 -0.37666675  0.8241467 ]]\n",
            "\n",
            "  [[ 1.166331   -1.7338604   0.88132924]\n",
            "   [-0.9851182  -0.6350885   0.0379754 ]\n",
            "   [-1.0387655  -0.7342556   2.5560606 ]\n",
            "   [-1.0566157  -0.8816069   1.1301686 ]]\n",
            "\n",
            "  [[ 0.30803365 -0.95824116 -0.83184546]\n",
            "   [ 0.03230513 -0.5606192   0.49858552]\n",
            "   [-0.411485    0.21978514 -1.0080867 ]\n",
            "   [ 0.13213204  1.375567    0.9001192 ]]\n",
            "\n",
            "  [[ 1.8937826   0.6993476   0.5784838 ]\n",
            "   [ 0.95336777  0.5390254  -0.90900964]\n",
            "   [ 0.24186835 -0.32241914 -1.1732315 ]\n",
            "   [-0.57740784 -0.33615124  0.5191823 ]]]]\n",
            "\n",
            "2D global averate pooled random tensor:\n",
            " [[-0.10164855 -0.15996346  0.09581018]]\n",
            "\n",
            "Shape of input tensor: (1, 4, 4, 3)\n",
            "Shape of Global average pooled 2D tensor: (1, 3)\n"
          ]
        }
      ]
    },
    {
      "cell_type": "code",
      "source": [
        "# Let's replicate the GlobalAveragePool2D layer\n",
        "tf.reduce_mean(input_tensor, axis=[1, 2])"
      ],
      "metadata": {
        "colab": {
          "base_uri": "https://localhost:8080/"
        },
        "id": "0DllcjKYc47l",
        "outputId": "3deac9a2-bbfb-4531-e448-cabc643c7492"
      },
      "execution_count": 18,
      "outputs": [
        {
          "output_type": "execute_result",
          "data": {
            "text/plain": [
              "<tf.Tensor: shape=(1, 3), dtype=float32, numpy=array([[-0.10164855, -0.15996346,  0.09581018]], dtype=float32)>"
            ]
          },
          "metadata": {},
          "execution_count": 18
        }
      ]
    },
    {
      "cell_type": "markdown",
      "source": [
        "**Practice:** Try to do the same with the above two cells but this time use `GlobalMaxPool2D` ... and see what happens"
      ],
      "metadata": {
        "id": "_SfJIQbofJ_4"
      }
    },
    {
      "cell_type": "code",
      "source": [
        "# Using globalMaxPool2D\n",
        "tf.reduce_max(input_tensor, axis=[1, 2])"
      ],
      "metadata": {
        "colab": {
          "base_uri": "https://localhost:8080/"
        },
        "id": "bMqswKODfqO-",
        "outputId": "3490ff4a-a210-4dbe-b19d-993d97826f16"
      },
      "execution_count": 19,
      "outputs": [
        {
          "output_type": "execute_result",
          "data": {
            "text/plain": [
              "<tf.Tensor: shape=(1, 3), dtype=float32, numpy=array([[1.8937826, 1.375567 , 2.5560606]], dtype=float32)>"
            ]
          },
          "metadata": {},
          "execution_count": 19
        }
      ]
    },
    {
      "cell_type": "code",
      "source": [
        "global_max_pooled_layer = tf.keras.layers.GlobalMaxPool2D()(input_tensor)\n",
        "print(global_max_pooled_layer)"
      ],
      "metadata": {
        "colab": {
          "base_uri": "https://localhost:8080/"
        },
        "id": "-9WaDdH-fyJJ",
        "outputId": "221c16ca-0a89-444f-b36c-88651f11b1f8"
      },
      "execution_count": 20,
      "outputs": [
        {
          "output_type": "stream",
          "name": "stdout",
          "text": [
            "tf.Tensor([[1.8937826 1.375567  2.5560606]], shape=(1, 3), dtype=float32)\n"
          ]
        }
      ]
    },
    {
      "cell_type": "markdown",
      "source": [
        ">**Note:** One of the reasons feature extraction transfer learning is named how it is is because what often happens is pretrained model outputs a feature vector (a long tensor of numbers which represents the learned representation of the model on a particular sample, in our case, this is the output of the `tf.keras.layers.GlobalAveragePooling2D()` layer) which can then be used to extract patterns out of for our own specific problem."
      ],
      "metadata": {
        "id": "oy8rA6gcgAE9"
      }
    },
    {
      "cell_type": "markdown",
      "source": [
        "## Running a series of transfer learning experiments\n",
        "\n",
        "We've seen the incredible results transfer learning can get with only 10% of the training data... how about we set up a bunch of experiments to find out:\n",
        "\n",
        "1. `model_1` - use feature extraction transfer learning with 1% of the training data with data augmentation\n",
        "2. `model_2` - use feature extraction transfer learning with 10% of the training with data augmentation\n",
        "3. `model_3` - use fine-tuning transfer learing on 10% of the training data with data augmentation\n",
        "4. `model_4` - use fine-tuning transfer learning on 100% of the training data with data augmentation\n",
        "\n",
        "**Note:** throughout all experiments the same test dataset will be used to evaluate our model... this ensures consistency across evaluation metrics."
      ],
      "metadata": {
        "id": "VpEZLGwvg5TA"
      }
    },
    {
      "cell_type": "markdown",
      "source": [
        "## Geting and preprocessing data for model_1"
      ],
      "metadata": {
        "id": "d_rbpnFiksXk"
      }
    },
    {
      "cell_type": "code",
      "source": [
        "# Download and unzip data - preprocessed from Food101\n",
        "!wget https://storage.googleapis.com/ztm_tf_course/food_vision/10_food_classes_1_percent.zip\n",
        "\n",
        "# unzip data\n",
        "unzip_data(\"10_food_classes_1_percent.zip\")"
      ],
      "metadata": {
        "colab": {
          "base_uri": "https://localhost:8080/"
        },
        "id": "uexq7ucyi3Fa",
        "outputId": "450b6653-4f8e-4db3-cadc-989639c3d3a8"
      },
      "execution_count": 21,
      "outputs": [
        {
          "output_type": "stream",
          "name": "stdout",
          "text": [
            "--2022-07-05 23:02:14--  https://storage.googleapis.com/ztm_tf_course/food_vision/10_food_classes_1_percent.zip\n",
            "Resolving storage.googleapis.com (storage.googleapis.com)... 172.253.118.128, 142.251.10.128, 142.251.12.128, ...\n",
            "Connecting to storage.googleapis.com (storage.googleapis.com)|172.253.118.128|:443... connected.\n",
            "HTTP request sent, awaiting response... 200 OK\n",
            "Length: 133612354 (127M) [application/zip]\n",
            "Saving to: ‘10_food_classes_1_percent.zip’\n",
            "\n",
            "10_food_classes_1_p 100%[===================>] 127.42M   294MB/s    in 0.4s    \n",
            "\n",
            "2022-07-05 23:02:15 (294 MB/s) - ‘10_food_classes_1_percent.zip’ saved [133612354/133612354]\n",
            "\n"
          ]
        }
      ]
    },
    {
      "cell_type": "code",
      "source": [
        "# Create training and test dirs\n",
        "train_dir_1_percent = \"10_food_classes_1_percent/train\"\n",
        "test_dir = \"10_food_classes_1_percent/test\""
      ],
      "metadata": {
        "id": "nz3nNiULjwfB"
      },
      "execution_count": 22,
      "outputs": []
    },
    {
      "cell_type": "code",
      "source": [
        "# How many images are we working with?\n",
        "walk_through_dir(\"10_food_classes_1_percent\")"
      ],
      "metadata": {
        "colab": {
          "base_uri": "https://localhost:8080/"
        },
        "id": "Pgoz1zApkGb-",
        "outputId": "8b9653d8-ac40-481c-8b0c-23eacfc022b9"
      },
      "execution_count": 23,
      "outputs": [
        {
          "output_type": "stream",
          "name": "stdout",
          "text": [
            "There are 2 directories and 0 images in '10_food_classes_1_percent'.\n",
            "There are 10 directories and 0 images in '10_food_classes_1_percent/train'.\n",
            "There are 0 directories and 7 images in '10_food_classes_1_percent/train/ramen'.\n",
            "There are 0 directories and 7 images in '10_food_classes_1_percent/train/chicken_curry'.\n",
            "There are 0 directories and 7 images in '10_food_classes_1_percent/train/pizza'.\n",
            "There are 0 directories and 7 images in '10_food_classes_1_percent/train/hamburger'.\n",
            "There are 0 directories and 7 images in '10_food_classes_1_percent/train/grilled_salmon'.\n",
            "There are 0 directories and 7 images in '10_food_classes_1_percent/train/chicken_wings'.\n",
            "There are 0 directories and 7 images in '10_food_classes_1_percent/train/steak'.\n",
            "There are 0 directories and 7 images in '10_food_classes_1_percent/train/fried_rice'.\n",
            "There are 0 directories and 7 images in '10_food_classes_1_percent/train/sushi'.\n",
            "There are 0 directories and 7 images in '10_food_classes_1_percent/train/ice_cream'.\n",
            "There are 10 directories and 0 images in '10_food_classes_1_percent/test'.\n",
            "There are 0 directories and 250 images in '10_food_classes_1_percent/test/ramen'.\n",
            "There are 0 directories and 250 images in '10_food_classes_1_percent/test/chicken_curry'.\n",
            "There are 0 directories and 250 images in '10_food_classes_1_percent/test/pizza'.\n",
            "There are 0 directories and 250 images in '10_food_classes_1_percent/test/hamburger'.\n",
            "There are 0 directories and 250 images in '10_food_classes_1_percent/test/grilled_salmon'.\n",
            "There are 0 directories and 250 images in '10_food_classes_1_percent/test/chicken_wings'.\n",
            "There are 0 directories and 250 images in '10_food_classes_1_percent/test/steak'.\n",
            "There are 0 directories and 250 images in '10_food_classes_1_percent/test/fried_rice'.\n",
            "There are 0 directories and 250 images in '10_food_classes_1_percent/test/sushi'.\n",
            "There are 0 directories and 250 images in '10_food_classes_1_percent/test/ice_cream'.\n"
          ]
        }
      ]
    },
    {
      "cell_type": "code",
      "source": [
        "# Setup data loaders\n",
        "IMG_SIZE = (224, 224)\n",
        "BATCH_SIZE = 32\n",
        "\n",
        "train_data_1_percent = tf.keras.preprocessing.image_dataset_from_directory(train_dir_1_percent,\n",
        "                                                                           label_mode=\"categorical\",\n",
        "                                                                           image_size=IMG_SIZE,\n",
        "                                                                           batch_size = BATCH_SIZE)\n",
        "\n",
        "test_data_1_percent = tf.keras.preprocessing.image_dataset_from_directory(test_dir,\n",
        "                                                                          label_mode=\"categorical\",\n",
        "                                                                          image_size=IMG_SIZE,\n",
        "                                                                          batch_size=BATCH_SIZE)"
      ],
      "metadata": {
        "colab": {
          "base_uri": "https://localhost:8080/"
        },
        "id": "CDyCnY20kcrh",
        "outputId": "600ceb85-01db-41f8-f979-cf9a2293a9e4"
      },
      "execution_count": 24,
      "outputs": [
        {
          "output_type": "stream",
          "name": "stdout",
          "text": [
            "Found 70 files belonging to 10 classes.\n",
            "Found 2500 files belonging to 10 classes.\n"
          ]
        }
      ]
    },
    {
      "cell_type": "markdown",
      "source": [
        "## Adding data augmentation right into the model\n",
        "\n",
        "To add data augmenation right into our models, we can use the layers inside:\n",
        "\n",
        "* `tf.keras.layers.experiment.preprocessing()` \n",
        "\n",
        "We can see the benefits of doing this within the TensorFlow Data augmentation documentation: https://www.tensorflow.org/tutorials/images/data_augmentation\n",
        "\n",
        "Off the top our of heads, after reading the docs, the benefit of using data augmenation inside the model are:\n",
        "* Preprocessing of images (augmenting them) happens on the GPU (much faster) rather than the CPU.\n",
        "* Image data augmentation only happens during training, so we can still export our whole model and use it elsewhere."
      ],
      "metadata": {
        "id": "zGpoX3uqlWzA"
      }
    },
    {
      "cell_type": "code",
      "source": [
        "import tensorflow as tf\n",
        "from tensorflow import keras\n",
        "from tensorflow.keras import layers\n",
        "from tensorflow.keras.layers.experimental import preprocessing\n",
        "\n",
        "# Create data augmentation stage with horizonal flipping, rotations, zooms ...\n",
        "data_augmentation = keras.Sequential([\n",
        "  preprocessing.RandomFlip(\"horizontal\"),\n",
        "  preprocessing.RandomRotation(0.2),\n",
        "  preprocessing.RandomZoom(0.2),\n",
        "  preprocessing.RandomHeight(0.2),\n",
        "  preprocessing.RandomWidth(0.2),\n",
        "  # preprocessing.Rescale(1/255.) # Keep for models like ResNet50V2 but EfficientNet's having rescale built-in                                    \n",
        "], name=\"data_augmentation\")"
      ],
      "metadata": {
        "id": "vmAXS95lmGPI"
      },
      "execution_count": 25,
      "outputs": []
    },
    {
      "cell_type": "markdown",
      "source": [
        "### Visualize our data augmentation layer (and see what happens to our data)"
      ],
      "metadata": {
        "id": "eIidJmxwnM8N"
      }
    },
    {
      "cell_type": "code",
      "source": [
        "# View a random image and compare it to its augmented version\n",
        "import matplotlib.pyplot as plt\n",
        "import matplotlib.image as mpimg\n",
        "import os\n",
        "import random\n",
        "\n",
        "target_class = random.choice(train_data_1_percent.class_names)\n",
        "target_dir = \"10_food_classes_1_percent/train/\" + target_class\n",
        "random_image = random.choice(os.listdir(target_dir))\n",
        "random_image_path = target_dir + \"/\" + random_image\n",
        "\n",
        "# Read and plot the random image\n",
        "img = mpimg.imread(random_image_path)\n",
        "plt.imshow(img)\n",
        "plt.title(f\"Original random image from class {target_class}\")\n",
        "plt.axis(False)\n",
        "\n",
        "# Now let's plot our augmented random image\n",
        "augmented_img = data_augmentation(img/255., training=True)\n",
        "plt.figure()\n",
        "plt.imshow(augmented_img)\n",
        "plt.title(f\"Augmented random image from class {target_class}\")\n",
        "plt.axis(False)"
      ],
      "metadata": {
        "colab": {
          "base_uri": "https://localhost:8080/",
          "height": 529
        },
        "id": "ORpqGSp5sMBt",
        "outputId": "469620b5-5959-4951-897b-d8ec70d7cd54"
      },
      "execution_count": 26,
      "outputs": [
        {
          "output_type": "execute_result",
          "data": {
            "text/plain": [
              "(-0.5, 490.5, 503.5, -0.5)"
            ]
          },
          "metadata": {},
          "execution_count": 26
        },
        {
          "output_type": "display_data",
          "data": {
            "text/plain": [
              "<Figure size 432x288 with 1 Axes>"
            ],
            "image/png": "[encoded data removed]"
          },
          "metadata": {
            "needs_background": "light"
          }
        },
        {
          "output_type": "display_data",
          "data": {
            "text/plain": [
              "<Figure size 432x288 with 1 Axes>"
            ],
            "image/png": "[encoded data removed]"
          },
          "metadata": {
            "needs_background": "light"
          }
        }
      ]
    },
    {
      "cell_type": "markdown",
      "source": [
        "## Model 1: Feature extraction transfer learning on 1% of the data with data augmentation"
      ],
      "metadata": {
        "id": "xUribSC8srUr"
      }
    },
    {
      "cell_type": "code",
      "source": [
        "# Setup input shape and base model, freezing the base model layers\n",
        "IMG_SIZE = (224, 224)\n",
        "input_shape = IMG_SIZE + (3,)\n",
        "\n",
        "base_model = tf.keras.applications.EfficientNetB0(include_top=False)\n",
        "base_model.trainable = False\n",
        "\n",
        "# Create input layer\n",
        "inputs = layers.Input(shape=input_shape,\n",
        "                      name=\"input_layer\")\n",
        "\n",
        "# Add in data augmentation Sequential model as a layer\n",
        "x = data_augmentation(inputs)\n",
        "\n",
        "# Give base_model the inputs (after augmentation) and don't train it\n",
        "x = base_model(x, training=False)\n",
        "\n",
        "# Pool output features of the base model\n",
        "x = layers.GlobalAveragePooling2D(name=\"global_average_pooling_layer\")(x)\n",
        "\n",
        "# Put a dense layer on as the output\n",
        "outputs = layers.Dense(10, activation=\"softmax\",\n",
        "                       name=\"output_layer\")(x)\n",
        "\n",
        "# Make a model using the input and output\n",
        "model_1 = keras.Model(inputs, outputs)                       \n",
        "\n",
        "# Compile the model\n",
        "model_1.compile(loss=\"categorical_crossentropy\",\n",
        "                optimizer=tf.keras.optimizers.Adam(),\n",
        "                metrics=[\"accuracy\"])\n",
        "\n",
        "# Fit the model\n",
        "history_1_percent = model_1.fit(train_data_1_percent,\n",
        "                                epochs=5,\n",
        "                                steps_per_epoch=len(train_data_1_percent),\n",
        "                                validation_data=test_data,\n",
        "                                validation_steps=int(0.25*len(test_data)),\n",
        "                                # Track model training logs\n",
        "                                callbacks=[create_tensorboard_callback(dir_name=\"transfer_learning\",\n",
        "                                                                       experiment_name=\"1_percent_data_aug\")])"
      ],
      "metadata": {
        "colab": {
          "base_uri": "https://localhost:8080/"
        },
        "id": "jHAj3SEJvuTE",
        "outputId": "628460b9-7eec-4af9-8e2b-e76a068fbfa2"
      },
      "execution_count": 27,
      "outputs": [
        {
          "output_type": "stream",
          "name": "stdout",
          "text": [
            "WARNING:tensorflow:Model was constructed with shape (512, 512, 3) for input KerasTensor(type_spec=TensorSpec(shape=(512, 512, 3), dtype=tf.float64, name='random_flip_input'), name='random_flip_input', description=\"created by layer 'random_flip_input'\"), but it was called on an input with incompatible shape (None, 224, 224, 3).\n",
            "Saving TensorBoard log files to: transfer_learning/1_percent_data_aug/20220705-230220\n",
            "Epoch 1/5\n",
            "WARNING:tensorflow:Model was constructed with shape (512, 512, 3) for input KerasTensor(type_spec=TensorSpec(shape=(512, 512, 3), dtype=tf.float64, name='random_flip_input'), name='random_flip_input', description=\"created by layer 'random_flip_input'\"), but it was called on an input with incompatible shape (None, 224, 224, 3).\n",
            "WARNING:tensorflow:Model was constructed with shape (512, 512, 3) for input KerasTensor(type_spec=TensorSpec(shape=(512, 512, 3), dtype=tf.float64, name='random_flip_input'), name='random_flip_input', description=\"created by layer 'random_flip_input'\"), but it was called on an input with incompatible shape (None, 224, 224, 3).\n",
            "3/3 [==============================] - ETA: 0s - loss: 2.4734 - accuracy: 0.0714WARNING:tensorflow:Model was constructed with shape (512, 512, 3) for input KerasTensor(type_spec=TensorSpec(shape=(512, 512, 3), dtype=tf.float64, name='random_flip_input'), name='random_flip_input', description=\"created by layer 'random_flip_input'\"), but it was called on an input with incompatible shape (None, 224, 224, 3).\n",
            "3/3 [==============================] - 12s 2s/step - loss: 2.4734 - accuracy: 0.0714 - val_loss: 2.3583 - val_accuracy: 0.1332\n",
            "Epoch 2/5\n",
            "3/3 [==============================] - 3s 1s/step - loss: 2.2110 - accuracy: 0.1714 - val_loss: 2.2204 - val_accuracy: 0.1941\n",
            "Epoch 3/5\n",
            "3/3 [==============================] - 3s 1s/step - loss: 2.0153 - accuracy: 0.3143 - val_loss: 2.1091 - val_accuracy: 0.2516\n",
            "Epoch 4/5\n",
            "3/3 [==============================] - 4s 2s/step - loss: 1.8408 - accuracy: 0.4429 - val_loss: 2.0127 - val_accuracy: 0.3026\n",
            "Epoch 5/5\n",
            "3/3 [==============================] - 4s 2s/step - loss: 1.7339 - accuracy: 0.5429 - val_loss: 1.9376 - val_accuracy: 0.3766\n"
          ]
        }
      ]
    },
    {
      "cell_type": "code",
      "source": [
        "# Check out a model summary\n",
        "model_1.summary()"
      ],
      "metadata": {
        "colab": {
          "base_uri": "https://localhost:8080/"
        },
        "id": "-8IG92RNwNrK",
        "outputId": "9f651729-10f4-4c13-8ea8-6e2560ad3fb9"
      },
      "execution_count": 28,
      "outputs": [
        {
          "output_type": "stream",
          "name": "stdout",
          "text": [
            "Model: \"model_1\"\n",
            "_________________________________________________________________\n",
            " Layer (type)                Output Shape              Param #   \n",
            "=================================================================\n",
            " input_layer (InputLayer)    [(None, 224, 224, 3)]     0         \n",
            "                                                                 \n",
            " data_augmentation (Sequenti  (None, None, 3)          0         \n",
            " al)                                                             \n",
            "                                                                 \n",
            " efficientnetb0 (Functional)  (None, None, None, 1280)  4049571  \n",
            "                                                                 \n",
            " global_average_pooling_laye  (None, 1280)             0         \n",
            " r (GlobalAveragePooling2D)                                      \n",
            "                                                                 \n",
            " output_layer (Dense)        (None, 10)                12810     \n",
            "                                                                 \n",
            "=================================================================\n",
            "Total params: 4,062,381\n",
            "Trainable params: 12,810\n",
            "Non-trainable params: 4,049,571\n",
            "_________________________________________________________________\n"
          ]
        }
      ]
    },
    {
      "cell_type": "code",
      "source": [
        "# Evaluate on the full dataset\n",
        "results_1_percent_data_aug = model_1.evaluate(test_data)\n",
        "results_1_percent_data_aug"
      ],
      "metadata": {
        "colab": {
          "base_uri": "https://localhost:8080/"
        },
        "id": "-ujWvtkU07z4",
        "outputId": "644fc859-5c8e-4838-fae8-c0e2aa59b999"
      },
      "execution_count": 29,
      "outputs": [
        {
          "output_type": "stream",
          "name": "stdout",
          "text": [
            "79/79 [==============================] - 10s 111ms/step - loss: 1.9362 - accuracy: 0.3556\n"
          ]
        },
        {
          "output_type": "execute_result",
          "data": {
            "text/plain": [
              "[1.936218500137329, 0.3555999994277954]"
            ]
          },
          "metadata": {},
          "execution_count": 29
        }
      ]
    },
    {
      "cell_type": "code",
      "source": [
        "# How do the model with 1% of the data augmentation loss curves look?\n",
        "plot_loss_curves(history_1_percent)"
      ],
      "metadata": {
        "colab": {
          "base_uri": "https://localhost:8080/",
          "height": 573
        },
        "id": "LjVpbZgf1N9e",
        "outputId": "a521b5a3-3391-4bb6-e871-cb8b90d04216"
      },
      "execution_count": 30,
      "outputs": [
        {
          "output_type": "display_data",
          "data": {
            "text/plain": [
              "<Figure size 432x288 with 1 Axes>"
            ],
            "image/png": "[encoded data removed]"
          },
          "metadata": {
            "needs_background": "light"
          }
        },
        {
          "output_type": "display_data",
          "data": {
            "text/plain": [
              "<Figure size 432x288 with 1 Axes>"
            ],
            "image/png": "[encoded data removed]"
          },
          "metadata": {
            "needs_background": "light"
          }
        }
      ]
    },
    {
      "cell_type": "markdown",
      "source": [
        "## Model 2: Feature extraction transfer learning on 10% of the data with data augmentation"
      ],
      "metadata": {
        "id": "32HLqPi-1j7e"
      }
    },
    {
      "cell_type": "code",
      "source": [
        "# Get the helper function\n",
        "!wget https://raw.githubusercontent.com/mrdbourke/tensorflow-deep-learning/main/extras/helper_functions.py"
      ],
      "metadata": {
        "colab": {
          "base_uri": "https://localhost:8080/"
        },
        "id": "FMN_rkc99eVZ",
        "outputId": "9acad603-cf3e-47b3-e1eb-8a803e3e6f25"
      },
      "execution_count": 31,
      "outputs": [
        {
          "output_type": "stream",
          "name": "stdout",
          "text": [
            "--2022-07-05 23:03:03--  https://raw.githubusercontent.com/mrdbourke/tensorflow-deep-learning/main/extras/helper_functions.py\n",
            "Resolving raw.githubusercontent.com (raw.githubusercontent.com)... 185.199.111.133, 185.199.109.133, 185.199.108.133, ...\n",
            "Connecting to raw.githubusercontent.com (raw.githubusercontent.com)|185.199.111.133|:443... connected.\n",
            "HTTP request sent, awaiting response... 200 OK\n",
            "Length: 10246 (10K) [text/plain]\n",
            "Saving to: ‘helper_functions.py.1’\n",
            "\n",
            "\rhelper_functions.py   0%[                    ]       0  --.-KB/s               \rhelper_functions.py 100%[===================>]  10.01K  --.-KB/s    in 0s      \n",
            "\n",
            "2022-07-05 23:03:03 (58.4 MB/s) - ‘helper_functions.py.1’ saved [10246/10246]\n",
            "\n"
          ]
        }
      ]
    },
    {
      "cell_type": "code",
      "source": [
        "# Import helper functions we're going to use in this notebook\n",
        "from helper_functions import create_tensorboard_callback, plot_loss_curves, unzip_data, walk_through_dir"
      ],
      "metadata": {
        "id": "6elkT7Az9hsq"
      },
      "execution_count": 32,
      "outputs": []
    },
    {
      "cell_type": "code",
      "source": [
        "# Get 10% of data\n",
        "!wget https://storage.googleapis.com/ztm_tf_course/food_vision/10_food_classes_10_percent.zip\n",
        "\n",
        "unzip_data(\"10_food_classes_10_percent.zip\")\n",
        "\n",
        "train_dir_10_percent = \"10_food_classes_10_percent/train/\"\n",
        "test_dir = \"10_food_classes_10_percent/test/\""
      ],
      "metadata": {
        "colab": {
          "base_uri": "https://localhost:8080/"
        },
        "id": "z8SVfE186W7-",
        "outputId": "396bd9e3-1c5f-47fa-ae86-222a03552251"
      },
      "execution_count": 33,
      "outputs": [
        {
          "output_type": "stream",
          "name": "stdout",
          "text": [
            "--2022-07-05 23:03:03--  https://storage.googleapis.com/ztm_tf_course/food_vision/10_food_classes_10_percent.zip\n",
            "Resolving storage.googleapis.com (storage.googleapis.com)... 142.251.10.128, 142.251.12.128, 172.217.194.128, ...\n",
            "Connecting to storage.googleapis.com (storage.googleapis.com)|142.251.10.128|:443... connected.\n",
            "HTTP request sent, awaiting response... 200 OK\n",
            "Length: 168546183 (161M) [application/zip]\n",
            "Saving to: ‘10_food_classes_10_percent.zip.1’\n",
            "\n",
            "10_food_classes_10_ 100%[===================>] 160.74M   219MB/s    in 0.7s    \n",
            "\n",
            "2022-07-05 23:03:04 (219 MB/s) - ‘10_food_classes_10_percent.zip.1’ saved [168546183/168546183]\n",
            "\n"
          ]
        }
      ]
    },
    {
      "cell_type": "code",
      "source": [
        "# Set data input\n",
        "import tensorflow as tf\n",
        "IMG_SIZE = (224, 224)\n",
        "train_data_10_percent = tf.keras.preprocessing.image_dataset_from_directory(train_dir_10_percent,\n",
        "                                                                            label_mode=\"categorical\",\n",
        "                                                                            image_size=IMG_SIZE)\n",
        "\n",
        "test_data = tf.keras.preprocessing.image_dataset_from_directory(test_dir,\n",
        "                                                                label_mode=\"categorical\",\n",
        "                                                                image_size=IMG_SIZE)"
      ],
      "metadata": {
        "colab": {
          "base_uri": "https://localhost:8080/"
        },
        "id": "A9CVz46x61zG",
        "outputId": "b163876c-7d74-4f58-ac17-47716e60504a"
      },
      "execution_count": 34,
      "outputs": [
        {
          "output_type": "stream",
          "name": "stdout",
          "text": [
            "Found 750 files belonging to 10 classes.\n",
            "Found 2500 files belonging to 10 classes.\n"
          ]
        }
      ]
    },
    {
      "cell_type": "code",
      "source": [
        "# Create model 2 with data augmentation built in\n",
        "from tensorflow.keras import layers\n",
        "from tensorflow.keras.layers.experimental import preprocessing\n",
        "from tensorflow.keras.models import Sequential\n",
        "\n",
        "# Build data augmenation layer\n",
        "data_augmentation = Sequential([\n",
        "  preprocessing.RandomFlip(\"horizontal\"),\n",
        "  preprocessing.RandomHeight(0.2),  # 0.2 is a good default value\n",
        "  preprocessing.RandomWidth(0.2),\n",
        "  preprocessing.RandomZoom(0.2),\n",
        "  preprocessing.RandomRotation(0.2),\n",
        "  #preprocessing.Rescaling(1/255.)  # for ResNet50V2 without a built in scaled layer                                \n",
        "], name=\"data_augmentation\")"
      ],
      "metadata": {
        "id": "Nlljm6UU8W3t"
      },
      "execution_count": 35,
      "outputs": []
    },
    {
      "cell_type": "code",
      "source": [
        "from gc import callbacks\n",
        "# Set-up input shape and base model, freezing the base model's layer\n",
        "input_shape = IMG_SIZE + (3,)\n",
        "\n",
        "base_model = tf.keras.applications.EfficientNetB0(include_top=False)\n",
        "base_model.trainable = False\n",
        "\n",
        "# Create the input layer\n",
        "inputs = layers.Input(shape=input_shape,\n",
        "                           name=\"input_layer\")\n",
        "\n",
        "# Add in data augmenation sequential model as a layer\n",
        "x = data_augmentation(inputs)\n",
        "\n",
        "# Add the inputs to the base model\n",
        "x = base_model(x, training=False)\n",
        "\n",
        "# Pool output features of the base model\n",
        "x = layers.GlobalAveragePooling2D(name=\"global_average_pooling_layer\")(x)\n",
        "\n",
        "# Put a dense layer on as the output\n",
        "outputs = layers.Dense(10, activation=\"softmax\", name=\"output_layer\")(x)\n",
        "\n",
        "# Create the model using inputs and outputs\n",
        "model_2 = tf.keras.Model(inputs, outputs)\n",
        "\n",
        "# Compile the model\n",
        "model_2.compile(loss=\"categorical_crossentropy\",\n",
        "                optimizer=tf.keras.optimizers.Adam(),\n",
        "                metrics=[\"accuracy\"])\n",
        "\n",
        "# Fit the model\n",
        "history_10_percent_augmented = model_2.fit(train_data_10_percent,\n",
        "                                           epochs=5,\n",
        "                                           steps_per_epoch=len(train_data_10_percent),\n",
        "                                           validation_data=test_data,\n",
        "                                           validation_steps=int(0.25*len(test_data)),\n",
        "                                           callbacks=[create_tensorboard_callback(dir_name=\"transfer_leraning\",\n",
        "                                                                                  experiment_name=\"10_percent_data_aug\")])"
      ],
      "metadata": {
        "colab": {
          "base_uri": "https://localhost:8080/"
        },
        "id": "acwKzhXn2EF0",
        "outputId": "10bc2bfa-49c5-414f-f9d6-da40a8a7bee9"
      },
      "execution_count": 36,
      "outputs": [
        {
          "output_type": "stream",
          "name": "stdout",
          "text": [
            "Saving TensorBoard log files to: transfer_leraning/10_percent_data_aug/20220705-230310\n",
            "Epoch 1/5\n",
            "24/24 [==============================] - 22s 640ms/step - loss: 1.9667 - accuracy: 0.3627 - val_loss: 1.4397 - val_accuracy: 0.6546\n",
            "Epoch 2/5\n",
            "24/24 [==============================] - 16s 618ms/step - loss: 1.3676 - accuracy: 0.6360 - val_loss: 1.0348 - val_accuracy: 0.7632\n",
            "Epoch 3/5\n",
            "24/24 [==============================] - 10s 396ms/step - loss: 1.0608 - accuracy: 0.7347 - val_loss: 0.8506 - val_accuracy: 0.7845\n",
            "Epoch 4/5\n",
            "24/24 [==============================] - 10s 415ms/step - loss: 0.9075 - accuracy: 0.7760 - val_loss: 0.7441 - val_accuracy: 0.8076\n",
            "Epoch 5/5\n",
            "24/24 [==============================] - 10s 393ms/step - loss: 0.7995 - accuracy: 0.7773 - val_loss: 0.7010 - val_accuracy: 0.7928\n"
          ]
        }
      ]
    },
    {
      "cell_type": "code",
      "source": [
        "# Evaluate on the full dataset\n",
        "results_10_percent_data_aug = model_2.evaluate(test_data)"
      ],
      "metadata": {
        "colab": {
          "base_uri": "https://localhost:8080/"
        },
        "id": "rL_3_UKq4-T7",
        "outputId": "ee189bfe-48d5-4bf8-9f84-ac4ada045c03"
      },
      "execution_count": 37,
      "outputs": [
        {
          "output_type": "stream",
          "name": "stdout",
          "text": [
            "79/79 [==============================] - 8s 100ms/step - loss: 0.6795 - accuracy: 0.8160\n"
          ]
        }
      ]
    },
    {
      "cell_type": "code",
      "source": [
        "# Plot the loss curve\n",
        "plot_loss_curves(history_10_percent_augmented)"
      ],
      "metadata": {
        "colab": {
          "base_uri": "https://localhost:8080/",
          "height": 573
        },
        "id": "WlFl7kqX5ry6",
        "outputId": "9e2ee0cb-1e89-4a27-a6b7-bf43fec00004"
      },
      "execution_count": 38,
      "outputs": [
        {
          "output_type": "display_data",
          "data": {
            "text/plain": [
              "<Figure size 432x288 with 1 Axes>"
            ],
            "image/png": "[encoded data removed]"
          },
          "metadata": {
            "needs_background": "light"
          }
        },
        {
          "output_type": "display_data",
          "data": {
            "text/plain": [
              "<Figure size 432x288 with 1 Axes>"
            ],
            "image/png": "[encoded data removed]"
          },
          "metadata": {
            "needs_background": "light"
          }
        }
      ]
    },
    {
      "cell_type": "markdown",
      "source": [
        "### Creating a ModelCheckpoint callback\n",
        "\n",
        "The ModelCheckpoint callback intermediately saves our model (the full model or just the weights) during training. This is useful so we can come and start where we left off."
      ],
      "metadata": {
        "id": "rPgxswT25xQ6"
      }
    },
    {
      "cell_type": "code",
      "source": [
        "# Set checkpoint path\n",
        "checkpoint_path = \"ten_percent_model_checkpoints_weights/checkpoint.ckpt\"\n",
        "\n",
        "# Create a ModelCheckpoint callback that saves the model's weights only\n",
        "checkpoint_callback= tf.keras.callbacks.ModelCheckpoint(filepath=checkpoint_path,\n",
        "                                                        save_weights_only=True,\n",
        "                                                        save_best_only=False,\n",
        "                                                        save_freq=\"epoch\",  # save every epoch\n",
        "                                                        verbose=1)"
      ],
      "metadata": {
        "id": "0_9InvlewJyN"
      },
      "execution_count": 39,
      "outputs": []
    },
    {
      "cell_type": "markdown",
      "source": [
        "### Fit model 2 passing in the ModelCheckpoint callback"
      ],
      "metadata": {
        "id": "83tFNHT3xN59"
      }
    },
    {
      "cell_type": "code",
      "source": [
        "# Fit the model saving checkpoints every epoch\n",
        "initial_epochs = 5\n",
        "history_10_percent_data_aug = model_2.fit(train_data_10_percent,\n",
        "                                          epochs=initial_epochs,\n",
        "                                          validation_data=test_data,\n",
        "                                          validation_steps=int(0.25*len(test_data)),\n",
        "                                          callbacks=[create_tensorboard_callback(dir_name=\"transfer_learning\",\n",
        "                                                                                 experiment_name=\"10_percent_data_aug\"),\n",
        "                                                     checkpoint_callback])"
      ],
      "metadata": {
        "colab": {
          "base_uri": "https://localhost:8080/"
        },
        "id": "4fjB3DqayR31",
        "outputId": "2ba71389-115c-41b2-ae9b-3cedea804884"
      },
      "execution_count": 40,
      "outputs": [
        {
          "output_type": "stream",
          "name": "stdout",
          "text": [
            "Saving TensorBoard log files to: transfer_learning/10_percent_data_aug/20220705-230427\n",
            "Epoch 1/5\n",
            "24/24 [==============================] - ETA: 0s - loss: 0.7190 - accuracy: 0.8133\n",
            "Epoch 1: saving model to ten_percent_model_checkpoints_weights/checkpoint.ckpt\n",
            "24/24 [==============================] - 11s 404ms/step - loss: 0.7190 - accuracy: 0.8133 - val_loss: 0.6605 - val_accuracy: 0.8059\n",
            "Epoch 2/5\n",
            "24/24 [==============================] - ETA: 0s - loss: 0.6655 - accuracy: 0.8280\n",
            "Epoch 2: saving model to ten_percent_model_checkpoints_weights/checkpoint.ckpt\n",
            "24/24 [==============================] - 8s 322ms/step - loss: 0.6655 - accuracy: 0.8280 - val_loss: 0.6278 - val_accuracy: 0.7977\n",
            "Epoch 3/5\n",
            "24/24 [==============================] - ETA: 0s - loss: 0.6352 - accuracy: 0.8373\n",
            "Epoch 3: saving model to ten_percent_model_checkpoints_weights/checkpoint.ckpt\n",
            "24/24 [==============================] - 8s 310ms/step - loss: 0.6352 - accuracy: 0.8373 - val_loss: 0.5942 - val_accuracy: 0.8174\n",
            "Epoch 4/5\n",
            "24/24 [==============================] - ETA: 0s - loss: 0.5783 - accuracy: 0.8453\n",
            "Epoch 4: saving model to ten_percent_model_checkpoints_weights/checkpoint.ckpt\n",
            "24/24 [==============================] - 10s 381ms/step - loss: 0.5783 - accuracy: 0.8453 - val_loss: 0.6077 - val_accuracy: 0.8043\n",
            "Epoch 5/5\n",
            "24/24 [==============================] - ETA: 0s - loss: 0.5726 - accuracy: 0.8613\n",
            "Epoch 5: saving model to ten_percent_model_checkpoints_weights/checkpoint.ckpt\n",
            "24/24 [==============================] - 12s 476ms/step - loss: 0.5726 - accuracy: 0.8613 - val_loss: 0.5607 - val_accuracy: 0.8191\n"
          ]
        }
      ]
    },
    {
      "cell_type": "code",
      "source": [
        "# Check model 2 results on all test_data\n",
        "results_10_percent_data_aug = model_2.evaluate(test_data)\n",
        "results_10_percent_data_aug"
      ],
      "metadata": {
        "colab": {
          "base_uri": "https://localhost:8080/"
        },
        "id": "40VzqVUKzdw6",
        "outputId": "ec4c27f8-efae-45b7-b16d-d6fcf3a10725"
      },
      "execution_count": 41,
      "outputs": [
        {
          "output_type": "stream",
          "name": "stdout",
          "text": [
            "79/79 [==============================] - 9s 102ms/step - loss: 0.5617 - accuracy: 0.8336\n"
          ]
        },
        {
          "output_type": "execute_result",
          "data": {
            "text/plain": [
              "[0.5617230534553528, 0.8335999846458435]"
            ]
          },
          "metadata": {},
          "execution_count": 41
        }
      ]
    },
    {
      "cell_type": "code",
      "source": [
        "# Plot model loss curves\n",
        "plot_loss_curves(history_10_percent_data_aug)"
      ],
      "metadata": {
        "colab": {
          "base_uri": "https://localhost:8080/",
          "height": 573
        },
        "id": "Syk6NqUFzfsJ",
        "outputId": "88d250aa-69ac-435b-be6c-df3fc5dd2aef"
      },
      "execution_count": 42,
      "outputs": [
        {
          "output_type": "display_data",
          "data": {
            "text/plain": [
              "<Figure size 432x288 with 1 Axes>"
            ],
            "image/png": "[encoded data removed]"
          },
          "metadata": {
            "needs_background": "light"
          }
        },
        {
          "output_type": "display_data",
          "data": {
            "text/plain": [
              "<Figure size 432x288 with 1 Axes>"
            ],
            "image/png": "[encoded data removed]"
          },
          "metadata": {
            "needs_background": "light"
          }
        }
      ]
    },
    {
      "cell_type": "markdown",
      "source": [
        "### Loading in checkpointed weights\n",
        "\n",
        "loading in checkpointed weights returns a model to a specific checkpoint"
      ],
      "metadata": {
        "id": "39vDjOkL0GNB"
      }
    },
    {
      "cell_type": "code",
      "source": [
        "# Load in saved model weights and evaluate model\n",
        "model_2.load_weights(checkpoint_path)"
      ],
      "metadata": {
        "colab": {
          "base_uri": "https://localhost:8080/"
        },
        "id": "8rZHGm070hHg",
        "outputId": "89898354-00e7-4226-b195-890f6e55fdfb"
      },
      "execution_count": 43,
      "outputs": [
        {
          "output_type": "execute_result",
          "data": {
            "text/plain": [
              "<tensorflow.python.training.tracking.util.CheckpointLoadStatus at 0x7f467d69d2d0>"
            ]
          },
          "metadata": {},
          "execution_count": 43
        }
      ]
    },
    {
      "cell_type": "code",
      "source": [
        "# Evaluate model_2 with loaded weights\n",
        "loaded_weights_model_results = model_2.evaluate(test_data)"
      ],
      "metadata": {
        "colab": {
          "base_uri": "https://localhost:8080/"
        },
        "id": "ImjdliDc0zAQ",
        "outputId": "bb34c0ba-24b4-405f-a17a-5d707ecc0bff"
      },
      "execution_count": 44,
      "outputs": [
        {
          "output_type": "stream",
          "name": "stdout",
          "text": [
            "79/79 [==============================] - 9s 97ms/step - loss: 0.5617 - accuracy: 0.8336\n"
          ]
        }
      ]
    },
    {
      "cell_type": "code",
      "source": [
        "# If the results from our previously evaluated model_2 match the loaded weights, everything has worked!\n",
        "print(\"original weights:\", results_10_percent_data_aug)\n",
        "print(\"loaded weights:  \", loaded_weights_model_results)"
      ],
      "metadata": {
        "colab": {
          "base_uri": "https://localhost:8080/"
        },
        "id": "_dn4S3CA09Co",
        "outputId": "5c97b048-ddcc-4ecd-8276-051d3d21faee"
      },
      "execution_count": 45,
      "outputs": [
        {
          "output_type": "stream",
          "name": "stdout",
          "text": [
            "original weights: [0.5617230534553528, 0.8335999846458435]\n",
            "loaded weights:   [0.5617234110832214, 0.8335999846458435]\n"
          ]
        }
      ]
    },
    {
      "cell_type": "code",
      "source": [
        "# Check to see if loaded model results are very close to our previous non-loaded model results\n",
        "import numpy as np\n",
        "np.isclose(np.array(results_10_percent_data_aug), np.array(loaded_weights_model_results))"
      ],
      "metadata": {
        "colab": {
          "base_uri": "https://localhost:8080/"
        },
        "id": "lvOzJ7SJ1cm1",
        "outputId": "350a5f91-cd91-4242-b4c4-d481a68ec77a"
      },
      "execution_count": 46,
      "outputs": [
        {
          "output_type": "execute_result",
          "data": {
            "text/plain": [
              "array([ True,  True])"
            ]
          },
          "metadata": {},
          "execution_count": 46
        }
      ]
    },
    {
      "cell_type": "code",
      "source": [
        "# Check the difference between 2 results\n",
        "print(np.array(results_10_percent_data_aug) - np.array(loaded_weights_model_results))"
      ],
      "metadata": {
        "colab": {
          "base_uri": "https://localhost:8080/"
        },
        "id": "MRXsya9T2EBe",
        "outputId": "7de5cf46-b5ff-459e-93fa-5b24c724e4a9"
      },
      "execution_count": 47,
      "outputs": [
        {
          "output_type": "stream",
          "name": "stdout",
          "text": [
            "[-3.57627869e-07  0.00000000e+00]\n"
          ]
        }
      ]
    },
    {
      "cell_type": "markdown",
      "source": [
        "## Model 3: Fine-tuning an existing model on 10% of the data\n",
        "\n",
        ">**Note:** So fine-tuning usually works best *after* training a feature extraction model for a few epochs with large amounts of custom data."
      ],
      "metadata": {
        "id": "NR4G6WDW2MsO"
      }
    },
    {
      "cell_type": "code",
      "source": [
        "# Layers in loaded model\n",
        "model_2.layers"
      ],
      "metadata": {
        "colab": {
          "base_uri": "https://localhost:8080/"
        },
        "id": "xudDGLBM5Dtq",
        "outputId": "e32c8974-f451-4374-df48-8c49d1ade946"
      },
      "execution_count": 48,
      "outputs": [
        {
          "output_type": "execute_result",
          "data": {
            "text/plain": [
              "[<keras.engine.input_layer.InputLayer at 0x7f4706b7ec90>,\n",
              " <keras.engine.sequential.Sequential at 0x7f47071bb610>,\n",
              " <keras.engine.functional.Functional at 0x7f4706d8b950>,\n",
              " <keras.layers.pooling.GlobalAveragePooling2D at 0x7f470661e1d0>,\n",
              " <keras.layers.core.dense.Dense at 0x7f4706632990>]"
            ]
          },
          "metadata": {},
          "execution_count": 48
        }
      ]
    },
    {
      "cell_type": "code",
      "source": [
        "# Are these layers trainable?\n",
        "for layer in model_2.layers:\n",
        "  print(layer, layer.trainable)"
      ],
      "metadata": {
        "colab": {
          "base_uri": "https://localhost:8080/"
        },
        "id": "nsDGwHGk5fIL",
        "outputId": "2a497137-cc6f-49cb-9f10-8066bcabc67d"
      },
      "execution_count": 49,
      "outputs": [
        {
          "output_type": "stream",
          "name": "stdout",
          "text": [
            "<keras.engine.input_layer.InputLayer object at 0x7f4706b7ec90> True\n",
            "<keras.engine.sequential.Sequential object at 0x7f47071bb610> True\n",
            "<keras.engine.functional.Functional object at 0x7f4706d8b950> False\n",
            "<keras.layers.pooling.GlobalAveragePooling2D object at 0x7f470661e1d0> True\n",
            "<keras.layers.core.dense.Dense object at 0x7f4706632990> True\n"
          ]
        }
      ]
    },
    {
      "cell_type": "code",
      "source": [
        "# What layers are in our base_model (EfficientNetB0) and are they trainable?\n",
        "for i, layer in enumerate(model_2.layers[2].layers):\n",
        "  print(i, layer.name, layer.trainable)"
      ],
      "metadata": {
        "colab": {
          "base_uri": "https://localhost:8080/"
        },
        "id": "FhYLKlYe5zAx",
        "outputId": "a310d227-f1e8-49e3-fc2c-5e8336432045"
      },
      "execution_count": 50,
      "outputs": [
        {
          "output_type": "stream",
          "name": "stdout",
          "text": [
            "0 input_3 False\n",
            "1 rescaling_2 False\n",
            "2 normalization_2 False\n",
            "3 stem_conv_pad False\n",
            "4 stem_conv False\n",
            "5 stem_bn False\n",
            "6 stem_activation False\n",
            "7 block1a_dwconv False\n",
            "8 block1a_bn False\n",
            "9 block1a_activation False\n",
            "10 block1a_se_squeeze False\n",
            "11 block1a_se_reshape False\n",
            "12 block1a_se_reduce False\n",
            "13 block1a_se_expand False\n",
            "14 block1a_se_excite False\n",
            "15 block1a_project_conv False\n",
            "16 block1a_project_bn False\n",
            "17 block2a_expand_conv False\n",
            "18 block2a_expand_bn False\n",
            "19 block2a_expand_activation False\n",
            "20 block2a_dwconv_pad False\n",
            "21 block2a_dwconv False\n",
            "22 block2a_bn False\n",
            "23 block2a_activation False\n",
            "24 block2a_se_squeeze False\n",
            "25 block2a_se_reshape False\n",
            "26 block2a_se_reduce False\n",
            "27 block2a_se_expand False\n",
            "28 block2a_se_excite False\n",
            "29 block2a_project_conv False\n",
            "30 block2a_project_bn False\n",
            "31 block2b_expand_conv False\n",
            "32 block2b_expand_bn False\n",
            "33 block2b_expand_activation False\n",
            "34 block2b_dwconv False\n",
            "35 block2b_bn False\n",
            "36 block2b_activation False\n",
            "37 block2b_se_squeeze False\n",
            "38 block2b_se_reshape False\n",
            "39 block2b_se_reduce False\n",
            "40 block2b_se_expand False\n",
            "41 block2b_se_excite False\n",
            "42 block2b_project_conv False\n",
            "43 block2b_project_bn False\n",
            "44 block2b_drop False\n",
            "45 block2b_add False\n",
            "46 block3a_expand_conv False\n",
            "47 block3a_expand_bn False\n",
            "48 block3a_expand_activation False\n",
            "49 block3a_dwconv_pad False\n",
            "50 block3a_dwconv False\n",
            "51 block3a_bn False\n",
            "52 block3a_activation False\n",
            "53 block3a_se_squeeze False\n",
            "54 block3a_se_reshape False\n",
            "55 block3a_se_reduce False\n",
            "56 block3a_se_expand False\n",
            "57 block3a_se_excite False\n",
            "58 block3a_project_conv False\n",
            "59 block3a_project_bn False\n",
            "60 block3b_expand_conv False\n",
            "61 block3b_expand_bn False\n",
            "62 block3b_expand_activation False\n",
            "63 block3b_dwconv False\n",
            "64 block3b_bn False\n",
            "65 block3b_activation False\n",
            "66 block3b_se_squeeze False\n",
            "67 block3b_se_reshape False\n",
            "68 block3b_se_reduce False\n",
            "69 block3b_se_expand False\n",
            "70 block3b_se_excite False\n",
            "71 block3b_project_conv False\n",
            "72 block3b_project_bn False\n",
            "73 block3b_drop False\n",
            "74 block3b_add False\n",
            "75 block4a_expand_conv False\n",
            "76 block4a_expand_bn False\n",
            "77 block4a_expand_activation False\n",
            "78 block4a_dwconv_pad False\n",
            "79 block4a_dwconv False\n",
            "80 block4a_bn False\n",
            "81 block4a_activation False\n",
            "82 block4a_se_squeeze False\n",
            "83 block4a_se_reshape False\n",
            "84 block4a_se_reduce False\n",
            "85 block4a_se_expand False\n",
            "86 block4a_se_excite False\n",
            "87 block4a_project_conv False\n",
            "88 block4a_project_bn False\n",
            "89 block4b_expand_conv False\n",
            "90 block4b_expand_bn False\n",
            "91 block4b_expand_activation False\n",
            "92 block4b_dwconv False\n",
            "93 block4b_bn False\n",
            "94 block4b_activation False\n",
            "95 block4b_se_squeeze False\n",
            "96 block4b_se_reshape False\n",
            "97 block4b_se_reduce False\n",
            "98 block4b_se_expand False\n",
            "99 block4b_se_excite False\n",
            "100 block4b_project_conv False\n",
            "101 block4b_project_bn False\n",
            "102 block4b_drop False\n",
            "103 block4b_add False\n",
            "104 block4c_expand_conv False\n",
            "105 block4c_expand_bn False\n",
            "106 block4c_expand_activation False\n",
            "107 block4c_dwconv False\n",
            "108 block4c_bn False\n",
            "109 block4c_activation False\n",
            "110 block4c_se_squeeze False\n",
            "111 block4c_se_reshape False\n",
            "112 block4c_se_reduce False\n",
            "113 block4c_se_expand False\n",
            "114 block4c_se_excite False\n",
            "115 block4c_project_conv False\n",
            "116 block4c_project_bn False\n",
            "117 block4c_drop False\n",
            "118 block4c_add False\n",
            "119 block5a_expand_conv False\n",
            "120 block5a_expand_bn False\n",
            "121 block5a_expand_activation False\n",
            "122 block5a_dwconv False\n",
            "123 block5a_bn False\n",
            "124 block5a_activation False\n",
            "125 block5a_se_squeeze False\n",
            "126 block5a_se_reshape False\n",
            "127 block5a_se_reduce False\n",
            "128 block5a_se_expand False\n",
            "129 block5a_se_excite False\n",
            "130 block5a_project_conv False\n",
            "131 block5a_project_bn False\n",
            "132 block5b_expand_conv False\n",
            "133 block5b_expand_bn False\n",
            "134 block5b_expand_activation False\n",
            "135 block5b_dwconv False\n",
            "136 block5b_bn False\n",
            "137 block5b_activation False\n",
            "138 block5b_se_squeeze False\n",
            "139 block5b_se_reshape False\n",
            "140 block5b_se_reduce False\n",
            "141 block5b_se_expand False\n",
            "142 block5b_se_excite False\n",
            "143 block5b_project_conv False\n",
            "144 block5b_project_bn False\n",
            "145 block5b_drop False\n",
            "146 block5b_add False\n",
            "147 block5c_expand_conv False\n",
            "148 block5c_expand_bn False\n",
            "149 block5c_expand_activation False\n",
            "150 block5c_dwconv False\n",
            "151 block5c_bn False\n",
            "152 block5c_activation False\n",
            "153 block5c_se_squeeze False\n",
            "154 block5c_se_reshape False\n",
            "155 block5c_se_reduce False\n",
            "156 block5c_se_expand False\n",
            "157 block5c_se_excite False\n",
            "158 block5c_project_conv False\n",
            "159 block5c_project_bn False\n",
            "160 block5c_drop False\n",
            "161 block5c_add False\n",
            "162 block6a_expand_conv False\n",
            "163 block6a_expand_bn False\n",
            "164 block6a_expand_activation False\n",
            "165 block6a_dwconv_pad False\n",
            "166 block6a_dwconv False\n",
            "167 block6a_bn False\n",
            "168 block6a_activation False\n",
            "169 block6a_se_squeeze False\n",
            "170 block6a_se_reshape False\n",
            "171 block6a_se_reduce False\n",
            "172 block6a_se_expand False\n",
            "173 block6a_se_excite False\n",
            "174 block6a_project_conv False\n",
            "175 block6a_project_bn False\n",
            "176 block6b_expand_conv False\n",
            "177 block6b_expand_bn False\n",
            "178 block6b_expand_activation False\n",
            "179 block6b_dwconv False\n",
            "180 block6b_bn False\n",
            "181 block6b_activation False\n",
            "182 block6b_se_squeeze False\n",
            "183 block6b_se_reshape False\n",
            "184 block6b_se_reduce False\n",
            "185 block6b_se_expand False\n",
            "186 block6b_se_excite False\n",
            "187 block6b_project_conv False\n",
            "188 block6b_project_bn False\n",
            "189 block6b_drop False\n",
            "190 block6b_add False\n",
            "191 block6c_expand_conv False\n",
            "192 block6c_expand_bn False\n",
            "193 block6c_expand_activation False\n",
            "194 block6c_dwconv False\n",
            "195 block6c_bn False\n",
            "196 block6c_activation False\n",
            "197 block6c_se_squeeze False\n",
            "198 block6c_se_reshape False\n",
            "199 block6c_se_reduce False\n",
            "200 block6c_se_expand False\n",
            "201 block6c_se_excite False\n",
            "202 block6c_project_conv False\n",
            "203 block6c_project_bn False\n",
            "204 block6c_drop False\n",
            "205 block6c_add False\n",
            "206 block6d_expand_conv False\n",
            "207 block6d_expand_bn False\n",
            "208 block6d_expand_activation False\n",
            "209 block6d_dwconv False\n",
            "210 block6d_bn False\n",
            "211 block6d_activation False\n",
            "212 block6d_se_squeeze False\n",
            "213 block6d_se_reshape False\n",
            "214 block6d_se_reduce False\n",
            "215 block6d_se_expand False\n",
            "216 block6d_se_excite False\n",
            "217 block6d_project_conv False\n",
            "218 block6d_project_bn False\n",
            "219 block6d_drop False\n",
            "220 block6d_add False\n",
            "221 block7a_expand_conv False\n",
            "222 block7a_expand_bn False\n",
            "223 block7a_expand_activation False\n",
            "224 block7a_dwconv False\n",
            "225 block7a_bn False\n",
            "226 block7a_activation False\n",
            "227 block7a_se_squeeze False\n",
            "228 block7a_se_reshape False\n",
            "229 block7a_se_reduce False\n",
            "230 block7a_se_expand False\n",
            "231 block7a_se_excite False\n",
            "232 block7a_project_conv False\n",
            "233 block7a_project_bn False\n",
            "234 top_conv False\n",
            "235 top_bn False\n",
            "236 top_activation False\n"
          ]
        }
      ]
    },
    {
      "cell_type": "code",
      "source": [
        "# How many trainable variables are in our base model?\n",
        "print(len(model_2.layers[2].trainable_variables))"
      ],
      "metadata": {
        "colab": {
          "base_uri": "https://localhost:8080/"
        },
        "id": "mPfB2FvL5_sg",
        "outputId": "342bd6bc-b2ac-4dc7-b336-e61850692c09"
      },
      "execution_count": 51,
      "outputs": [
        {
          "output_type": "stream",
          "name": "stdout",
          "text": [
            "0\n"
          ]
        }
      ]
    },
    {
      "cell_type": "code",
      "source": [
        "# To begin fine-tuning, let's start by setting the last 10 layers of our base_model.trainable = True\n",
        "base_model.trainable = True\n",
        "\n",
        "# Freeze all layers except for the last 10\n",
        "for layer in base_model.layers[:-10]:\n",
        "  layer.trainable = False\n",
        "\n",
        "# Recompile (we have to recompile our models everytime we make a change)\n",
        "model_2.compile(loss=\"categorical_crossentropy\",\n",
        "                optimizer=tf.keras.optimizers.Adam(learning_rate=0.0001), # when fine-tuning you typically want to lower the learning rate by 10x\n",
        "                metrics=[\"accuracy\"])"
      ],
      "metadata": {
        "id": "GHaNJkMh6ego"
      },
      "execution_count": 52,
      "outputs": []
    },
    {
      "cell_type": "markdown",
      "source": [
        ">**Note:** When using fine-tuning it's best practice to lower your learning rate by some amount. How much? This is a hyperparameter you can tune. But a rule of thumb is at least 10x (though differntsource will claim other values). A good resource for information on this is the ULMFiT paper: https://arxiv.org/abs/1801.06146"
      ],
      "metadata": {
        "id": "r0jErMT38SB4"
      }
    },
    {
      "cell_type": "code",
      "source": [
        "# Check which layers are tunable (Trainable)\n",
        "for layer_number, layer in enumerate(model_2.layers[2].layers):\n",
        "  print(layer_number, layer.name, layer.trainable)"
      ],
      "metadata": {
        "colab": {
          "base_uri": "https://localhost:8080/"
        },
        "id": "cjj3LU9C7maO",
        "outputId": "c845feb8-e965-44e9-b754-3fb51b345a9c"
      },
      "execution_count": 53,
      "outputs": [
        {
          "output_type": "stream",
          "name": "stdout",
          "text": [
            "0 input_3 False\n",
            "1 rescaling_2 False\n",
            "2 normalization_2 False\n",
            "3 stem_conv_pad False\n",
            "4 stem_conv False\n",
            "5 stem_bn False\n",
            "6 stem_activation False\n",
            "7 block1a_dwconv False\n",
            "8 block1a_bn False\n",
            "9 block1a_activation False\n",
            "10 block1a_se_squeeze False\n",
            "11 block1a_se_reshape False\n",
            "12 block1a_se_reduce False\n",
            "13 block1a_se_expand False\n",
            "14 block1a_se_excite False\n",
            "15 block1a_project_conv False\n",
            "16 block1a_project_bn False\n",
            "17 block2a_expand_conv False\n",
            "18 block2a_expand_bn False\n",
            "19 block2a_expand_activation False\n",
            "20 block2a_dwconv_pad False\n",
            "21 block2a_dwconv False\n",
            "22 block2a_bn False\n",
            "23 block2a_activation False\n",
            "24 block2a_se_squeeze False\n",
            "25 block2a_se_reshape False\n",
            "26 block2a_se_reduce False\n",
            "27 block2a_se_expand False\n",
            "28 block2a_se_excite False\n",
            "29 block2a_project_conv False\n",
            "30 block2a_project_bn False\n",
            "31 block2b_expand_conv False\n",
            "32 block2b_expand_bn False\n",
            "33 block2b_expand_activation False\n",
            "34 block2b_dwconv False\n",
            "35 block2b_bn False\n",
            "36 block2b_activation False\n",
            "37 block2b_se_squeeze False\n",
            "38 block2b_se_reshape False\n",
            "39 block2b_se_reduce False\n",
            "40 block2b_se_expand False\n",
            "41 block2b_se_excite False\n",
            "42 block2b_project_conv False\n",
            "43 block2b_project_bn False\n",
            "44 block2b_drop False\n",
            "45 block2b_add False\n",
            "46 block3a_expand_conv False\n",
            "47 block3a_expand_bn False\n",
            "48 block3a_expand_activation False\n",
            "49 block3a_dwconv_pad False\n",
            "50 block3a_dwconv False\n",
            "51 block3a_bn False\n",
            "52 block3a_activation False\n",
            "53 block3a_se_squeeze False\n",
            "54 block3a_se_reshape False\n",
            "55 block3a_se_reduce False\n",
            "56 block3a_se_expand False\n",
            "57 block3a_se_excite False\n",
            "58 block3a_project_conv False\n",
            "59 block3a_project_bn False\n",
            "60 block3b_expand_conv False\n",
            "61 block3b_expand_bn False\n",
            "62 block3b_expand_activation False\n",
            "63 block3b_dwconv False\n",
            "64 block3b_bn False\n",
            "65 block3b_activation False\n",
            "66 block3b_se_squeeze False\n",
            "67 block3b_se_reshape False\n",
            "68 block3b_se_reduce False\n",
            "69 block3b_se_expand False\n",
            "70 block3b_se_excite False\n",
            "71 block3b_project_conv False\n",
            "72 block3b_project_bn False\n",
            "73 block3b_drop False\n",
            "74 block3b_add False\n",
            "75 block4a_expand_conv False\n",
            "76 block4a_expand_bn False\n",
            "77 block4a_expand_activation False\n",
            "78 block4a_dwconv_pad False\n",
            "79 block4a_dwconv False\n",
            "80 block4a_bn False\n",
            "81 block4a_activation False\n",
            "82 block4a_se_squeeze False\n",
            "83 block4a_se_reshape False\n",
            "84 block4a_se_reduce False\n",
            "85 block4a_se_expand False\n",
            "86 block4a_se_excite False\n",
            "87 block4a_project_conv False\n",
            "88 block4a_project_bn False\n",
            "89 block4b_expand_conv False\n",
            "90 block4b_expand_bn False\n",
            "91 block4b_expand_activation False\n",
            "92 block4b_dwconv False\n",
            "93 block4b_bn False\n",
            "94 block4b_activation False\n",
            "95 block4b_se_squeeze False\n",
            "96 block4b_se_reshape False\n",
            "97 block4b_se_reduce False\n",
            "98 block4b_se_expand False\n",
            "99 block4b_se_excite False\n",
            "100 block4b_project_conv False\n",
            "101 block4b_project_bn False\n",
            "102 block4b_drop False\n",
            "103 block4b_add False\n",
            "104 block4c_expand_conv False\n",
            "105 block4c_expand_bn False\n",
            "106 block4c_expand_activation False\n",
            "107 block4c_dwconv False\n",
            "108 block4c_bn False\n",
            "109 block4c_activation False\n",
            "110 block4c_se_squeeze False\n",
            "111 block4c_se_reshape False\n",
            "112 block4c_se_reduce False\n",
            "113 block4c_se_expand False\n",
            "114 block4c_se_excite False\n",
            "115 block4c_project_conv False\n",
            "116 block4c_project_bn False\n",
            "117 block4c_drop False\n",
            "118 block4c_add False\n",
            "119 block5a_expand_conv False\n",
            "120 block5a_expand_bn False\n",
            "121 block5a_expand_activation False\n",
            "122 block5a_dwconv False\n",
            "123 block5a_bn False\n",
            "124 block5a_activation False\n",
            "125 block5a_se_squeeze False\n",
            "126 block5a_se_reshape False\n",
            "127 block5a_se_reduce False\n",
            "128 block5a_se_expand False\n",
            "129 block5a_se_excite False\n",
            "130 block5a_project_conv False\n",
            "131 block5a_project_bn False\n",
            "132 block5b_expand_conv False\n",
            "133 block5b_expand_bn False\n",
            "134 block5b_expand_activation False\n",
            "135 block5b_dwconv False\n",
            "136 block5b_bn False\n",
            "137 block5b_activation False\n",
            "138 block5b_se_squeeze False\n",
            "139 block5b_se_reshape False\n",
            "140 block5b_se_reduce False\n",
            "141 block5b_se_expand False\n",
            "142 block5b_se_excite False\n",
            "143 block5b_project_conv False\n",
            "144 block5b_project_bn False\n",
            "145 block5b_drop False\n",
            "146 block5b_add False\n",
            "147 block5c_expand_conv False\n",
            "148 block5c_expand_bn False\n",
            "149 block5c_expand_activation False\n",
            "150 block5c_dwconv False\n",
            "151 block5c_bn False\n",
            "152 block5c_activation False\n",
            "153 block5c_se_squeeze False\n",
            "154 block5c_se_reshape False\n",
            "155 block5c_se_reduce False\n",
            "156 block5c_se_expand False\n",
            "157 block5c_se_excite False\n",
            "158 block5c_project_conv False\n",
            "159 block5c_project_bn False\n",
            "160 block5c_drop False\n",
            "161 block5c_add False\n",
            "162 block6a_expand_conv False\n",
            "163 block6a_expand_bn False\n",
            "164 block6a_expand_activation False\n",
            "165 block6a_dwconv_pad False\n",
            "166 block6a_dwconv False\n",
            "167 block6a_bn False\n",
            "168 block6a_activation False\n",
            "169 block6a_se_squeeze False\n",
            "170 block6a_se_reshape False\n",
            "171 block6a_se_reduce False\n",
            "172 block6a_se_expand False\n",
            "173 block6a_se_excite False\n",
            "174 block6a_project_conv False\n",
            "175 block6a_project_bn False\n",
            "176 block6b_expand_conv False\n",
            "177 block6b_expand_bn False\n",
            "178 block6b_expand_activation False\n",
            "179 block6b_dwconv False\n",
            "180 block6b_bn False\n",
            "181 block6b_activation False\n",
            "182 block6b_se_squeeze False\n",
            "183 block6b_se_reshape False\n",
            "184 block6b_se_reduce False\n",
            "185 block6b_se_expand False\n",
            "186 block6b_se_excite False\n",
            "187 block6b_project_conv False\n",
            "188 block6b_project_bn False\n",
            "189 block6b_drop False\n",
            "190 block6b_add False\n",
            "191 block6c_expand_conv False\n",
            "192 block6c_expand_bn False\n",
            "193 block6c_expand_activation False\n",
            "194 block6c_dwconv False\n",
            "195 block6c_bn False\n",
            "196 block6c_activation False\n",
            "197 block6c_se_squeeze False\n",
            "198 block6c_se_reshape False\n",
            "199 block6c_se_reduce False\n",
            "200 block6c_se_expand False\n",
            "201 block6c_se_excite False\n",
            "202 block6c_project_conv False\n",
            "203 block6c_project_bn False\n",
            "204 block6c_drop False\n",
            "205 block6c_add False\n",
            "206 block6d_expand_conv False\n",
            "207 block6d_expand_bn False\n",
            "208 block6d_expand_activation False\n",
            "209 block6d_dwconv False\n",
            "210 block6d_bn False\n",
            "211 block6d_activation False\n",
            "212 block6d_se_squeeze False\n",
            "213 block6d_se_reshape False\n",
            "214 block6d_se_reduce False\n",
            "215 block6d_se_expand False\n",
            "216 block6d_se_excite False\n",
            "217 block6d_project_conv False\n",
            "218 block6d_project_bn False\n",
            "219 block6d_drop False\n",
            "220 block6d_add False\n",
            "221 block7a_expand_conv False\n",
            "222 block7a_expand_bn False\n",
            "223 block7a_expand_activation False\n",
            "224 block7a_dwconv False\n",
            "225 block7a_bn False\n",
            "226 block7a_activation False\n",
            "227 block7a_se_squeeze True\n",
            "228 block7a_se_reshape True\n",
            "229 block7a_se_reduce True\n",
            "230 block7a_se_expand True\n",
            "231 block7a_se_excite True\n",
            "232 block7a_project_conv True\n",
            "233 block7a_project_bn True\n",
            "234 top_conv True\n",
            "235 top_bn True\n",
            "236 top_activation True\n"
          ]
        }
      ]
    },
    {
      "cell_type": "code",
      "source": [
        "# Now we've unfrozen some of the layers closer to the top, how many trainable variable are there?\n",
        "print(len(model_2.trainable_variables))"
      ],
      "metadata": {
        "colab": {
          "base_uri": "https://localhost:8080/"
        },
        "id": "SKQwqYZD-IjL",
        "outputId": "25752f22-337e-4230-a849-1cf1a2ff5ae8"
      },
      "execution_count": 54,
      "outputs": [
        {
          "output_type": "stream",
          "name": "stdout",
          "text": [
            "12\n"
          ]
        }
      ]
    },
    {
      "cell_type": "code",
      "source": [
        "# Fine tune for another 5 epochs\n",
        "fine_tune_epochs = initial_epochs + 5\n",
        "\n",
        "# Refit the model (same as model_2 except with more trainable layers)\n",
        "history_fine_10_percent_data_aug = model_2.fit(train_data_10_percent,\n",
        "                                               epochs=fine_tune_epochs,\n",
        "                                               validation_data=test_data,\n",
        "                                               validation_steps=int(0.25*len(test_data)),\n",
        "                                               initial_epoch=history_10_percent_data_aug.epoch[-1],  # start training from last previous epoch\n",
        "                                               callbacks=[create_tensorboard_callback(dir_name=\"transfer_learning\",\n",
        "                                                                                      experiment_name=\"10_percent_fine_tune_last_10\")])  "
      ],
      "metadata": {
        "colab": {
          "base_uri": "https://localhost:8080/"
        },
        "id": "AHHl_t6e-SK8",
        "outputId": "345e0f70-b37b-4301-9b2f-e189962d9b66"
      },
      "execution_count": 55,
      "outputs": [
        {
          "output_type": "stream",
          "name": "stdout",
          "text": [
            "Saving TensorBoard log files to: transfer_learning/10_percent_fine_tune_last_10/20220705-230548\n",
            "Epoch 5/10\n",
            "24/24 [==============================] - 19s 434ms/step - loss: 0.5124 - accuracy: 0.8467 - val_loss: 0.4940 - val_accuracy: 0.8240\n",
            "Epoch 6/10\n",
            "24/24 [==============================] - 11s 425ms/step - loss: 0.4308 - accuracy: 0.8680 - val_loss: 0.5081 - val_accuracy: 0.8191\n",
            "Epoch 7/10\n",
            "24/24 [==============================] - 14s 569ms/step - loss: 0.4189 - accuracy: 0.8680 - val_loss: 0.4984 - val_accuracy: 0.8207\n",
            "Epoch 8/10\n",
            "24/24 [==============================] - 9s 356ms/step - loss: 0.3209 - accuracy: 0.9107 - val_loss: 0.4699 - val_accuracy: 0.8273\n",
            "Epoch 9/10\n",
            "24/24 [==============================] - 11s 440ms/step - loss: 0.3331 - accuracy: 0.8907 - val_loss: 0.4808 - val_accuracy: 0.8306\n",
            "Epoch 10/10\n",
            "24/24 [==============================] - 10s 351ms/step - loss: 0.3017 - accuracy: 0.9053 - val_loss: 0.4963 - val_accuracy: 0.8257\n"
          ]
        }
      ]
    },
    {
      "cell_type": "code",
      "source": [
        "# Evaluate the fine-tuned model (model_3 which is actually model_2 fine-tuned for another 5 epochs)\n",
        "results_fine_tune_10_percent = model_2.evaluate(test_data)"
      ],
      "metadata": {
        "colab": {
          "base_uri": "https://localhost:8080/"
        },
        "id": "pAqlO01c--sr",
        "outputId": "8b515de3-8357-4847-f21e-b3d95a2c51e6"
      },
      "execution_count": 56,
      "outputs": [
        {
          "output_type": "stream",
          "name": "stdout",
          "text": [
            "79/79 [==============================] - 6s 76ms/step - loss: 0.4865 - accuracy: 0.8396\n"
          ]
        }
      ]
    },
    {
      "cell_type": "code",
      "source": [
        "# Check out the loss curves of our fine-tuned model\n",
        "plot_loss_curves(history_fine_10_percent_data_aug)"
      ],
      "metadata": {
        "colab": {
          "base_uri": "https://localhost:8080/",
          "height": 573
        },
        "id": "kT4ZNbJQBE0A",
        "outputId": "68ff8ba9-de81-4226-92c9-4235c2bb1810"
      },
      "execution_count": 57,
      "outputs": [
        {
          "output_type": "display_data",
          "data": {
            "text/plain": [
              "<Figure size 432x288 with 1 Axes>"
            ],
            "image/png": "[encoded data removed]"
          },
          "metadata": {
            "needs_background": "light"
          }
        },
        {
          "output_type": "display_data",
          "data": {
            "text/plain": [
              "<Figure size 432x288 with 1 Axes>"
            ],
            "image/png": "[encoded data removed]"
          },
          "metadata": {
            "needs_background": "light"
          }
        }
      ]
    },
    {
      "cell_type": "markdown",
      "source": [
        "The `plot_loss_curves` function works great with models which have only been fit once, however, we want something to compare one series of running `fit()` with another (ex before and after fine tuning)"
      ],
      "metadata": {
        "id": "TwYb17qjBgjg"
      }
    },
    {
      "cell_type": "code",
      "source": [
        "import matplotlib.pyplot as plt\n",
        "\n",
        "# Let's create a function to compare training histories\n",
        "def compare_history(original_history, new_history, initial_epochs=5):\n",
        "  \"\"\"\n",
        "  Compares two TensorFlow history object\n",
        "  \"\"\"\n",
        "  # Get original history measurements\n",
        "  acc = original_history.history[\"accuracy\"]\n",
        "  loss = original_history.history[\"loss\"]\n",
        "\n",
        "  val_acc = original_history.history[\"val_accuracy\"]\n",
        "  val_loss = original_history.history[\"val_loss\"]\n",
        "\n",
        "  # Combine original history metrics with new history metrics\n",
        "  total_acc = acc + new_history.history[\"accuracy\"]\n",
        "  total_loss = loss + new_history.history[\"loss\"]\n",
        "\n",
        "  total_val_acc = val_acc + new_history.history[\"val_accuracy\"]\n",
        "  total_val_loss = val_loss + new_history.history[\"val_loss\"]\n",
        "\n",
        "  # Make plots for accuracy\n",
        "  plt.figure(figsize=(8, 8))\n",
        "  plt.subplot(2, 1, 1)\n",
        "  plt.plot(total_acc, label=\"Training Accuracy\")\n",
        "  plt.plot(total_val_acc, label=\"Val Accuracy\")\n",
        "  plt.plot([initial_epochs-1, initial_epochs-1], plt.ylim(), label=\"Start Fine Tuning\")\n",
        "  plt.legend(loc=\"lower right\")\n",
        "  plt.title(\"Training and Validation Accuracy\")\n",
        "\n",
        "  # Make plots for loss\n",
        "  plt.figure(figsize=(8, 8))\n",
        "  plt.subplot(2, 1, 1)\n",
        "  plt.plot(total_loss, label=\"Training Loss\")\n",
        "  plt.plot(total_val_loss, label=\"Val Loss\")\n",
        "  plt.plot([initial_epochs-1, initial_epochs-1], plt.ylim(), label=\"Start Fine Tuning\")\n",
        "  plt.legend(loc=\"upper right\")\n",
        "  plt.title(\"Training and Validation Loss\")"
      ],
      "metadata": {
        "id": "CRACFudyB34G"
      },
      "execution_count": 58,
      "outputs": []
    },
    {
      "cell_type": "code",
      "source": [
        "compare_history(history_10_percent_data_aug,\n",
        "                history_fine_10_percent_data_aug,\n",
        "                initial_epochs=5)"
      ],
      "metadata": {
        "colab": {
          "base_uri": "https://localhost:8080/",
          "height": 507
        },
        "id": "ouSsHlgSCOlv",
        "outputId": "5f525cec-c7eb-4528-a419-e7475caee393"
      },
      "execution_count": 59,
      "outputs": [
        {
          "output_type": "display_data",
          "data": {
            "text/plain": [
              "<Figure size 576x576 with 1 Axes>"
            ],
            "image/png": "[encoded data removed]"
          },
          "metadata": {
            "needs_background": "light"
          }
        },
        {
          "output_type": "display_data",
          "data": {
            "text/plain": [
              "<Figure size 576x576 with 1 Axes>"
            ],
            "image/png": "[encoded data removed]"
          },
          "metadata": {
            "needs_background": "light"
          }
        }
      ]
    },
    {
      "cell_type": "markdown",
      "source": [
        "## Model 4: Fine-tuning and existing model on all of the data"
      ],
      "metadata": {
        "id": "ABWRv40eDXBv"
      }
    },
    {
      "cell_type": "code",
      "source": [
        "# Get the helper function\n",
        "!wget https://raw.githubusercontent.com/mrdbourke/tensorflow-deep-learning/main/extras/helper_functions.py\n",
        "\n",
        "# Import helper functions we're going to use in this notebook\n",
        "from helper_functions import create_tensorboard_callback, plot_loss_curves, unzip_data, walk_through_dir\n",
        "\n",
        "# Download and unzip 10 classes of Food101 data with all images\n",
        "!wget https://storage.googleapis.com/ztm_tf_course/food_vision/10_food_classes_all_data.zip\n",
        "unzip_data(\"10_food_classes_all_data.zip\")"
      ],
      "metadata": {
        "colab": {
          "base_uri": "https://localhost:8080/"
        },
        "id": "--6E6JhWE01j",
        "outputId": "2db828c1-3c04-4a23-e2d4-67ee1a20db4e"
      },
      "execution_count": 60,
      "outputs": [
        {
          "output_type": "stream",
          "name": "stdout",
          "text": [
            "--2022-07-05 23:07:19--  https://raw.githubusercontent.com/mrdbourke/tensorflow-deep-learning/main/extras/helper_functions.py\n",
            "Resolving raw.githubusercontent.com (raw.githubusercontent.com)... 185.199.110.133, 185.199.108.133, 185.199.111.133, ...\n",
            "Connecting to raw.githubusercontent.com (raw.githubusercontent.com)|185.199.110.133|:443... connected.\n",
            "HTTP request sent, awaiting response... 200 OK\n",
            "Length: 10246 (10K) [text/plain]\n",
            "Saving to: ‘helper_functions.py.2’\n",
            "\n",
            "helper_functions.py 100%[===================>]  10.01K  --.-KB/s    in 0s      \n",
            "\n",
            "2022-07-05 23:07:19 (93.1 MB/s) - ‘helper_functions.py.2’ saved [10246/10246]\n",
            "\n",
            "--2022-07-05 23:07:19--  https://storage.googleapis.com/ztm_tf_course/food_vision/10_food_classes_all_data.zip\n",
            "Resolving storage.googleapis.com (storage.googleapis.com)... 216.58.220.208, 74.125.200.128, 74.125.68.128, ...\n",
            "Connecting to storage.googleapis.com (storage.googleapis.com)|216.58.220.208|:443... connected.\n",
            "HTTP request sent, awaiting response... 200 OK\n",
            "Length: 519183241 (495M) [application/zip]\n",
            "Saving to: ‘10_food_classes_all_data.zip’\n",
            "\n",
            "10_food_classes_all 100%[===================>] 495.13M  49.3MB/s    in 10s     \n",
            "\n",
            "2022-07-05 23:07:30 (47.8 MB/s) - ‘10_food_classes_all_data.zip’ saved [519183241/519183241]\n",
            "\n"
          ]
        }
      ]
    },
    {
      "cell_type": "code",
      "source": [
        "# Setup training and test dir\n",
        "train_dir_all_data = \"10_food_classes_all_data/train\"\n",
        "test_dir = \"10_food_classes_all_data/test\""
      ],
      "metadata": {
        "id": "6vlRgvSnFhrK"
      },
      "execution_count": 61,
      "outputs": []
    },
    {
      "cell_type": "code",
      "source": [
        "# How many images are we working with now?\n",
        "walk_through_dir(\"10_food_classes_all_data\")"
      ],
      "metadata": {
        "colab": {
          "base_uri": "https://localhost:8080/"
        },
        "id": "uj4d6G1_Fy4C",
        "outputId": "6d51fc6f-4b90-45cf-816d-d6fba9ca62fd"
      },
      "execution_count": 62,
      "outputs": [
        {
          "output_type": "stream",
          "name": "stdout",
          "text": [
            "There are 2 directories and 0 images in '10_food_classes_all_data'.\n",
            "There are 10 directories and 0 images in '10_food_classes_all_data/train'.\n",
            "There are 0 directories and 750 images in '10_food_classes_all_data/train/ramen'.\n",
            "There are 0 directories and 750 images in '10_food_classes_all_data/train/chicken_curry'.\n",
            "There are 0 directories and 750 images in '10_food_classes_all_data/train/pizza'.\n",
            "There are 0 directories and 750 images in '10_food_classes_all_data/train/hamburger'.\n",
            "There are 0 directories and 750 images in '10_food_classes_all_data/train/grilled_salmon'.\n",
            "There are 0 directories and 750 images in '10_food_classes_all_data/train/chicken_wings'.\n",
            "There are 0 directories and 750 images in '10_food_classes_all_data/train/steak'.\n",
            "There are 0 directories and 750 images in '10_food_classes_all_data/train/fried_rice'.\n",
            "There are 0 directories and 750 images in '10_food_classes_all_data/train/sushi'.\n",
            "There are 0 directories and 750 images in '10_food_classes_all_data/train/ice_cream'.\n",
            "There are 10 directories and 0 images in '10_food_classes_all_data/test'.\n",
            "There are 0 directories and 250 images in '10_food_classes_all_data/test/ramen'.\n",
            "There are 0 directories and 250 images in '10_food_classes_all_data/test/chicken_curry'.\n",
            "There are 0 directories and 250 images in '10_food_classes_all_data/test/pizza'.\n",
            "There are 0 directories and 250 images in '10_food_classes_all_data/test/hamburger'.\n",
            "There are 0 directories and 250 images in '10_food_classes_all_data/test/grilled_salmon'.\n",
            "There are 0 directories and 250 images in '10_food_classes_all_data/test/chicken_wings'.\n",
            "There are 0 directories and 250 images in '10_food_classes_all_data/test/steak'.\n",
            "There are 0 directories and 250 images in '10_food_classes_all_data/test/fried_rice'.\n",
            "There are 0 directories and 250 images in '10_food_classes_all_data/test/sushi'.\n",
            "There are 0 directories and 250 images in '10_food_classes_all_data/test/ice_cream'.\n"
          ]
        }
      ]
    },
    {
      "cell_type": "code",
      "source": [
        "# Setup data inputs\n",
        "import tensorflow as tf\n",
        "IMG_SIZE = (224, 224)\n",
        "train_data_10_classes_full = tf.keras.preprocessing.image_dataset_from_directory(train_dir_all_data,\n",
        "                                                                                 label_mode=\"categorical\",\n",
        "                                                                                 image_size=IMG_SIZE)\n",
        "\n",
        "test_data = tf.keras.preprocessing.image_dataset_from_directory(test_dir,\n",
        "                                                                label_mode=\"categorical\",\n",
        "                                                                image_size=IMG_SIZE)"
      ],
      "metadata": {
        "colab": {
          "base_uri": "https://localhost:8080/"
        },
        "id": "NevhFJHRF7x6",
        "outputId": "01bfd3c4-8a2a-4e49-a077-693db6fd9e67"
      },
      "execution_count": 63,
      "outputs": [
        {
          "output_type": "stream",
          "name": "stdout",
          "text": [
            "Found 7500 files belonging to 10 classes.\n",
            "Found 2500 files belonging to 10 classes.\n"
          ]
        }
      ]
    },
    {
      "cell_type": "markdown",
      "source": [
        "The test dataset we've loaded in is the same as what we've been using for previous experiments (all experiments have used the same test dataset).\n",
        "\n",
        "Let's verify this..."
      ],
      "metadata": {
        "id": "XcV0cmfOGzZ6"
      }
    },
    {
      "cell_type": "code",
      "source": [
        "# Evaluate model 2 (this is the fine-tuned 10 percent of data version)\n",
        "model_2.evaluate(test_data)"
      ],
      "metadata": {
        "colab": {
          "base_uri": "https://localhost:8080/"
        },
        "id": "_l0Kh6MPHPOY",
        "outputId": "20cef82b-4e51-45d9-9ea5-86e158dd7359"
      },
      "execution_count": 64,
      "outputs": [
        {
          "output_type": "stream",
          "name": "stdout",
          "text": [
            "79/79 [==============================] - 9s 110ms/step - loss: 0.4865 - accuracy: 0.8396\n"
          ]
        },
        {
          "output_type": "execute_result",
          "data": {
            "text/plain": [
              "[0.48651161789894104, 0.8396000266075134]"
            ]
          },
          "metadata": {},
          "execution_count": 64
        }
      ]
    },
    {
      "cell_type": "code",
      "source": [
        "results_fine_tune_10_percent"
      ],
      "metadata": {
        "colab": {
          "base_uri": "https://localhost:8080/"
        },
        "id": "y9BlrN7-Hvhu",
        "outputId": "aa7392b0-5c39-4448-f853-e7e4d17b37b6"
      },
      "execution_count": 65,
      "outputs": [
        {
          "output_type": "execute_result",
          "data": {
            "text/plain": [
              "[0.4865116775035858, 0.8396000266075134]"
            ]
          },
          "metadata": {},
          "execution_count": 65
        }
      ]
    },
    {
      "cell_type": "markdown",
      "source": [
        "To train a fine-tuning model (model_4) we need to revert model_2 back to its reature extraction weights."
      ],
      "metadata": {
        "id": "uS9VD1QsH0iQ"
      }
    },
    {
      "cell_type": "code",
      "source": [
        "# Load weights from checkpoint, that way we can fine-tune from the same state the 10 percent data model was fine-tuned from\n",
        "model_2.load_weights(checkpoint_path)"
      ],
      "metadata": {
        "colab": {
          "base_uri": "https://localhost:8080/"
        },
        "id": "rToHrwRQILru",
        "outputId": "642f75f8-e2a1-4e48-aa7b-7c03d805bd1e"
      },
      "execution_count": 66,
      "outputs": [
        {
          "output_type": "execute_result",
          "data": {
            "text/plain": [
              "<tensorflow.python.training.tracking.util.CheckpointLoadStatus at 0x7f467d4d6910>"
            ]
          },
          "metadata": {},
          "execution_count": 66
        }
      ]
    },
    {
      "cell_type": "code",
      "source": [
        "# Let's evaluate model_2 now\n",
        "model_2.evaluate(test_data)"
      ],
      "metadata": {
        "colab": {
          "base_uri": "https://localhost:8080/"
        },
        "id": "2JxnTm7GIitt",
        "outputId": "20092cf3-e0af-417d-d946-48a6bb48af5f"
      },
      "execution_count": 67,
      "outputs": [
        {
          "output_type": "stream",
          "name": "stdout",
          "text": [
            "79/79 [==============================] - 8s 96ms/step - loss: 0.5617 - accuracy: 0.8336\n"
          ]
        },
        {
          "output_type": "execute_result",
          "data": {
            "text/plain": [
              "[0.5617232918739319, 0.8335999846458435]"
            ]
          },
          "metadata": {},
          "execution_count": 67
        }
      ]
    },
    {
      "cell_type": "code",
      "source": [
        "# Check to see if our model_2 has been reverted back to feature extraction results\n",
        "results_10_percent_data_aug"
      ],
      "metadata": {
        "colab": {
          "base_uri": "https://localhost:8080/"
        },
        "id": "kT2d6T2PItO9",
        "outputId": "fe2a88d6-2904-414d-da58-e096c16b0846"
      },
      "execution_count": 68,
      "outputs": [
        {
          "output_type": "execute_result",
          "data": {
            "text/plain": [
              "[0.5617230534553528, 0.8335999846458435]"
            ]
          },
          "metadata": {},
          "execution_count": 68
        }
      ]
    },
    {
      "cell_type": "markdown",
      "source": [
        "Alright, the previous steps seem quite confusing but all we've done is:\n",
        "\n",
        "1. Trained a feature extraction transfer learning model for 5 epochs on 10% of the data with data augmentation (model_2) and we saved the model's weight using `ModelCheckpoint` callback.\n",
        "2. Fine-tuned the same model on the same 10% of the data for a further 5 epochs with the top 10 layers of the base model unfrozen (model_3).\n",
        "3. Saved the results and training logs each time.\n",
        "4. Reloaded the model from step 1 to do the same steps as step 2 except this time we've going to use all of the data (model_4)."
      ],
      "metadata": {
        "id": "N9LlJIS1I04e"
      }
    },
    {
      "cell_type": "code",
      "source": [
        "# Check which layers are tunable in the whole model\n",
        "for layer_number, layer in enumerate(model_2.layers):\n",
        "  print(layer_number, layer.name, layer.trainable)"
      ],
      "metadata": {
        "colab": {
          "base_uri": "https://localhost:8080/"
        },
        "id": "LW4UN8wnJwEV",
        "outputId": "9dfd11cc-6b6b-45d5-972c-19d1e8a26851"
      },
      "execution_count": 69,
      "outputs": [
        {
          "output_type": "stream",
          "name": "stdout",
          "text": [
            "0 input_layer True\n",
            "1 data_augmentation True\n",
            "2 efficientnetb0 True\n",
            "3 global_average_pooling_layer True\n",
            "4 output_layer True\n"
          ]
        }
      ]
    },
    {
      "cell_type": "code",
      "source": [
        "# Let's drill into our base_model (efficientnetb0) and see what layers are trainable\n",
        "for layer_number, layer in enumerate(model_2.layers[2].layers):\n",
        "  print(layer_number, layer, layer.name, layer.trainable)"
      ],
      "metadata": {
        "colab": {
          "base_uri": "https://localhost:8080/"
        },
        "id": "3dMDCve4KCZ0",
        "outputId": "f1c2901d-7885-4577-a569-0d450ea3230e"
      },
      "execution_count": 70,
      "outputs": [
        {
          "output_type": "stream",
          "name": "stdout",
          "text": [
            "0 <keras.engine.input_layer.InputLayer object at 0x7f470318af90> input_3 False\n",
            "1 <keras.layers.preprocessing.image_preprocessing.Rescaling object at 0x7f47072f5fd0> rescaling_2 False\n",
            "2 <keras.layers.preprocessing.normalization.Normalization object at 0x7f47065f45d0> normalization_2 False\n",
            "3 <keras.layers.convolutional.ZeroPadding2D object at 0x7f479aeaf5d0> stem_conv_pad False\n",
            "4 <keras.layers.convolutional.Conv2D object at 0x7f47071ada50> stem_conv False\n",
            "5 <keras.layers.normalization.batch_normalization.BatchNormalization object at 0x7f4707323590> stem_bn False\n",
            "6 <keras.layers.core.activation.Activation object at 0x7f479af03290> stem_activation False\n",
            "7 <keras.layers.convolutional.DepthwiseConv2D object at 0x7f47071513d0> block1a_dwconv False\n",
            "8 <keras.layers.normalization.batch_normalization.BatchNormalization object at 0x7f470714ed50> block1a_bn False\n",
            "9 <keras.layers.core.activation.Activation object at 0x7f470715b950> block1a_activation False\n",
            "10 <keras.layers.pooling.GlobalAveragePooling2D object at 0x7f470715bed0> block1a_se_squeeze False\n",
            "11 <keras.layers.core.reshape.Reshape object at 0x7f4707166cd0> block1a_se_reshape False\n",
            "12 <keras.layers.convolutional.Conv2D object at 0x7f4707162b10> block1a_se_reduce False\n",
            "13 <keras.layers.convolutional.Conv2D object at 0x7f479af97d90> block1a_se_expand False\n",
            "14 <keras.layers.merge.Multiply object at 0x7f479afa8650> block1a_se_excite False\n",
            "15 <keras.layers.convolutional.Conv2D object at 0x7f479af03a50> block1a_project_conv False\n",
            "16 <keras.layers.normalization.batch_normalization.BatchNormalization object at 0x7f479afa7bd0> block1a_project_bn False\n",
            "17 <keras.layers.convolutional.Conv2D object at 0x7f47071f27d0> block2a_expand_conv False\n",
            "18 <keras.layers.normalization.batch_normalization.BatchNormalization object at 0x7f47071ebf50> block2a_expand_bn False\n",
            "19 <keras.layers.core.activation.Activation object at 0x7f47071ffcd0> block2a_expand_activation False\n",
            "20 <keras.layers.convolutional.ZeroPadding2D object at 0x7f470720d910> block2a_dwconv_pad False\n",
            "21 <keras.layers.convolutional.DepthwiseConv2D object at 0x7f47072164d0> block2a_dwconv False\n",
            "22 <keras.layers.normalization.batch_normalization.BatchNormalization object at 0x7f479afa7310> block2a_bn False\n",
            "23 <keras.layers.core.activation.Activation object at 0x7f47070e84d0> block2a_activation False\n",
            "24 <keras.layers.pooling.GlobalAveragePooling2D object at 0x7f47070e8b50> block2a_se_squeeze False\n",
            "25 <keras.layers.core.reshape.Reshape object at 0x7f4707223510> block2a_se_reshape False\n",
            "26 <keras.layers.convolutional.Conv2D object at 0x7f4707102d10> block2a_se_reduce False\n",
            "27 <keras.layers.convolutional.Conv2D object at 0x7f4707112490> block2a_se_expand False\n",
            "28 <keras.layers.merge.Multiply object at 0x7f47071192d0> block2a_se_excite False\n",
            "29 <keras.layers.convolutional.Conv2D object at 0x7f4707120150> block2a_project_conv False\n",
            "30 <keras.layers.normalization.batch_normalization.BatchNormalization object at 0x7f47071171d0> block2a_project_bn False\n",
            "31 <keras.layers.convolutional.Conv2D object at 0x7f470716ed90> block2b_expand_conv False\n",
            "32 <keras.layers.normalization.batch_normalization.BatchNormalization object at 0x7f470717dc50> block2b_expand_bn False\n",
            "33 <keras.layers.core.activation.Activation object at 0x7f4707183750> block2b_expand_activation False\n",
            "34 <keras.layers.convolutional.DepthwiseConv2D object at 0x7f470717d750> block2b_dwconv False\n",
            "35 <keras.layers.normalization.batch_normalization.BatchNormalization object at 0x7f470719a150> block2b_bn False\n",
            "36 <keras.layers.core.activation.Activation object at 0x7f470719fe10> block2b_activation False\n",
            "37 <keras.layers.pooling.GlobalAveragePooling2D object at 0x7f47071a7ad0> block2b_se_squeeze False\n",
            "38 <keras.layers.core.reshape.Reshape object at 0x7f47070cf710> block2b_se_reshape False\n",
            "39 <keras.layers.convolutional.Conv2D object at 0x7f4707194fd0> block2b_se_reduce False\n",
            "40 <keras.layers.convolutional.Conv2D object at 0x7f47071a71d0> block2b_se_expand False\n",
            "41 <keras.layers.merge.Multiply object at 0x7f4707223950> block2b_se_excite False\n",
            "42 <keras.layers.convolutional.Conv2D object at 0x7f47071eba50> block2b_project_conv False\n",
            "43 <keras.layers.normalization.batch_normalization.BatchNormalization object at 0x7f47070e8390> block2b_project_bn False\n",
            "44 <keras.layers.core.dropout.Dropout object at 0x7f4707162590> block2b_drop False\n",
            "45 <keras.layers.merge.Add object at 0x7f47070e12d0> block2b_add False\n",
            "46 <keras.layers.convolutional.Conv2D object at 0x7f47070e1990> block3a_expand_conv False\n",
            "47 <keras.layers.normalization.batch_normalization.BatchNormalization object at 0x7f4707142790> block3a_expand_bn False\n",
            "48 <keras.layers.core.activation.Activation object at 0x7f47070e4b10> block3a_expand_activation False\n",
            "49 <keras.layers.convolutional.ZeroPadding2D object at 0x7f47070e7950> block3a_dwconv_pad False\n",
            "50 <keras.layers.convolutional.DepthwiseConv2D object at 0x7f47070e13d0> block3a_dwconv False\n",
            "51 <keras.layers.normalization.batch_normalization.BatchNormalization object at 0x7f47072313d0> block3a_bn False\n",
            "52 <keras.layers.core.activation.Activation object at 0x7f470723c550> block3a_activation False\n",
            "53 <keras.layers.pooling.GlobalAveragePooling2D object at 0x7f470723cf90> block3a_se_squeeze False\n",
            "54 <keras.layers.core.reshape.Reshape object at 0x7f470723f650> block3a_se_reshape False\n",
            "55 <keras.layers.convolutional.Conv2D object at 0x7f4707248f50> block3a_se_reduce False\n",
            "56 <keras.layers.convolutional.Conv2D object at 0x7f470724f650> block3a_se_expand False\n",
            "57 <keras.layers.merge.Multiply object at 0x7f470724c910> block3a_se_excite False\n",
            "58 <keras.layers.convolutional.Conv2D object at 0x7f47072557d0> block3a_project_conv False\n",
            "59 <keras.layers.normalization.batch_normalization.BatchNormalization object at 0x7f4707263110> block3a_project_bn False\n",
            "60 <keras.layers.convolutional.Conv2D object at 0x7f470725f690> block3b_expand_conv False\n",
            "61 <keras.layers.normalization.batch_normalization.BatchNormalization object at 0x7f47072a98d0> block3b_expand_bn False\n",
            "62 <keras.layers.core.activation.Activation object at 0x7f47072b5c90> block3b_expand_activation False\n",
            "63 <keras.layers.convolutional.DepthwiseConv2D object at 0x7f47072bac10> block3b_dwconv False\n",
            "64 <keras.layers.normalization.batch_normalization.BatchNormalization object at 0x7f47072c56d0> block3b_bn False\n",
            "65 <keras.layers.core.activation.Activation object at 0x7f47072cf350> block3b_activation False\n",
            "66 <keras.layers.pooling.GlobalAveragePooling2D object at 0x7f47072cfbd0> block3b_se_squeeze False\n",
            "67 <keras.layers.core.reshape.Reshape object at 0x7f47072d7810> block3b_se_reshape False\n",
            "68 <keras.layers.convolutional.Conv2D object at 0x7f47072e4650> block3b_se_reduce False\n",
            "69 <keras.layers.convolutional.Conv2D object at 0x7f47072de410> block3b_se_expand False\n",
            "70 <keras.layers.merge.Multiply object at 0x7f4707274cd0> block3b_se_excite False\n",
            "71 <keras.layers.convolutional.Conv2D object at 0x7f470727b7d0> block3b_project_conv False\n",
            "72 <keras.layers.normalization.batch_normalization.BatchNormalization object at 0x7f47072825d0> block3b_project_bn False\n",
            "73 <keras.layers.core.dropout.Dropout object at 0x7f4707285ad0> block3b_drop False\n",
            "74 <keras.layers.merge.Add object at 0x7f4707290990> block3b_add False\n",
            "75 <keras.layers.convolutional.Conv2D object at 0x7f470728b710> block4a_expand_conv False\n",
            "76 <keras.layers.normalization.batch_normalization.BatchNormalization object at 0x7f4707296990> block4a_expand_bn False\n",
            "77 <keras.layers.core.activation.Activation object at 0x7f4707295d10> block4a_expand_activation False\n",
            "78 <keras.layers.convolutional.ZeroPadding2D object at 0x7f47072a2b10> block4a_dwconv_pad False\n",
            "79 <keras.layers.convolutional.DepthwiseConv2D object at 0x7f4707290590> block4a_dwconv False\n",
            "80 <keras.layers.normalization.batch_normalization.BatchNormalization object at 0x7f47072e4150> block4a_bn False\n",
            "81 <keras.layers.core.activation.Activation object at 0x7f47072cfc10> block4a_activation False\n",
            "82 <keras.layers.pooling.GlobalAveragePooling2D object at 0x7f47072afb10> block4a_se_squeeze False\n",
            "83 <keras.layers.core.reshape.Reshape object at 0x7f470722cf10> block4a_se_reshape False\n",
            "84 <keras.layers.convolutional.Conv2D object at 0x7f4707238b10> block4a_se_reduce False\n",
            "85 <keras.layers.convolutional.Conv2D object at 0x7f4707070610> block4a_se_expand False\n",
            "86 <keras.layers.merge.Multiply object at 0x7f47070718d0> block4a_se_excite False\n",
            "87 <keras.layers.convolutional.Conv2D object at 0x7f47070735d0> block4a_project_conv False\n",
            "88 <keras.layers.normalization.batch_normalization.BatchNormalization object at 0x7f4707075990> block4a_project_bn False\n",
            "89 <keras.layers.convolutional.Conv2D object at 0x7f4707078ad0> block4b_expand_conv False\n",
            "90 <keras.layers.normalization.batch_normalization.BatchNormalization object at 0x7f47070828d0> block4b_expand_bn False\n",
            "91 <keras.layers.core.activation.Activation object at 0x7f4707090550> block4b_expand_activation False\n",
            "92 <keras.layers.convolutional.DepthwiseConv2D object at 0x7f470708cc90> block4b_dwconv False\n",
            "93 <keras.layers.normalization.batch_normalization.BatchNormalization object at 0x7f4707099710> block4b_bn False\n",
            "94 <keras.layers.core.activation.Activation object at 0x7f47070a23d0> block4b_activation False\n",
            "95 <keras.layers.pooling.GlobalAveragePooling2D object at 0x7f47070a2bd0> block4b_se_squeeze False\n",
            "96 <keras.layers.core.reshape.Reshape object at 0x7f470702c850> block4b_se_reshape False\n",
            "97 <keras.layers.convolutional.Conv2D object at 0x7f4707039750> block4b_se_reduce False\n",
            "98 <keras.layers.convolutional.Conv2D object at 0x7f47070be090> block4b_se_expand False\n",
            "99 <keras.layers.merge.Multiply object at 0x7f470704bd50> block4b_se_excite False\n",
            "100 <keras.layers.convolutional.Conv2D object at 0x7f4707048a50> block4b_project_conv False\n",
            "101 <keras.layers.normalization.batch_normalization.BatchNormalization object at 0x7f47070560d0> block4b_project_bn False\n",
            "102 <keras.layers.core.dropout.Dropout object at 0x7f470705aad0> block4b_drop False\n",
            "103 <keras.layers.merge.Add object at 0x7f4707064f10> block4b_add False\n",
            "104 <keras.layers.convolutional.Conv2D object at 0x7f4707056cd0> block4c_expand_conv False\n",
            "105 <keras.layers.normalization.batch_normalization.BatchNormalization object at 0x7f4707051b10> block4c_expand_bn False\n",
            "106 <keras.layers.core.activation.Activation object at 0x7f4706feae10> block4c_expand_activation False\n",
            "107 <keras.layers.convolutional.DepthwiseConv2D object at 0x7f4706ff5290> block4c_dwconv False\n",
            "108 <keras.layers.normalization.batch_normalization.BatchNormalization object at 0x7f4707061050> block4c_bn False\n",
            "109 <keras.layers.core.activation.Activation object at 0x7f4706ff5390> block4c_activation False\n",
            "110 <keras.layers.pooling.GlobalAveragePooling2D object at 0x7f470700e610> block4c_se_squeeze False\n",
            "111 <keras.layers.core.reshape.Reshape object at 0x7f4706feafd0> block4c_se_reshape False\n",
            "112 <keras.layers.convolutional.Conv2D object at 0x7f470700e950> block4c_se_reduce False\n",
            "113 <keras.layers.convolutional.Conv2D object at 0x7f4707061490> block4c_se_expand False\n",
            "114 <keras.layers.merge.Multiply object at 0x7f4707026090> block4c_se_excite False\n",
            "115 <keras.layers.convolutional.Conv2D object at 0x7f4706ffcfd0> block4c_project_conv False\n",
            "116 <keras.layers.normalization.batch_normalization.BatchNormalization object at 0x7f47070003d0> block4c_project_bn False\n",
            "117 <keras.layers.core.dropout.Dropout object at 0x7f4706fb7550> block4c_drop False\n",
            "118 <keras.layers.merge.Add object at 0x7f4706fb7050> block4c_add False\n",
            "119 <keras.layers.convolutional.Conv2D object at 0x7f4706fb75d0> block5a_expand_conv False\n",
            "120 <keras.layers.normalization.batch_normalization.BatchNormalization object at 0x7f470701aed0> block5a_expand_bn False\n",
            "121 <keras.layers.core.activation.Activation object at 0x7f47070334d0> block5a_expand_activation False\n",
            "122 <keras.layers.convolutional.DepthwiseConv2D object at 0x7f4707028790> block5a_dwconv False\n",
            "123 <keras.layers.normalization.batch_normalization.BatchNormalization object at 0x7f47070785d0> block5a_bn False\n",
            "124 <keras.layers.core.activation.Activation object at 0x7f4707039510> block5a_activation False\n",
            "125 <keras.layers.pooling.GlobalAveragePooling2D object at 0x7f4707073850> block5a_se_squeeze False\n",
            "126 <keras.layers.core.reshape.Reshape object at 0x7f4706fbb710> block5a_se_reshape False\n",
            "127 <keras.layers.convolutional.Conv2D object at 0x7f4707026d10> block5a_se_reduce False\n",
            "128 <keras.layers.convolutional.Conv2D object at 0x7f4707006290> block5a_se_expand False\n",
            "129 <keras.layers.merge.Multiply object at 0x7f4706fc9d10> block5a_se_excite False\n",
            "130 <keras.layers.convolutional.Conv2D object at 0x7f4706fc6d10> block5a_project_conv False\n",
            "131 <keras.layers.normalization.batch_normalization.BatchNormalization object at 0x7f4706fc9b50> block5a_project_bn False\n",
            "132 <keras.layers.convolutional.Conv2D object at 0x7f4706fdb250> block5b_expand_conv False\n",
            "133 <keras.layers.normalization.batch_normalization.BatchNormalization object at 0x7f4706fc60d0> block5b_expand_bn False\n",
            "134 <keras.layers.core.activation.Activation object at 0x7f4706fe2cd0> block5b_expand_activation False\n",
            "135 <keras.layers.convolutional.DepthwiseConv2D object at 0x7f4706f77d10> block5b_dwconv False\n",
            "136 <keras.layers.normalization.batch_normalization.BatchNormalization object at 0x7f4706f77d90> block5b_bn False\n",
            "137 <keras.layers.core.activation.Activation object at 0x7f4706f77910> block5b_activation False\n",
            "138 <keras.layers.pooling.GlobalAveragePooling2D object at 0x7f4706f82590> block5b_se_squeeze False\n",
            "139 <keras.layers.core.reshape.Reshape object at 0x7f4706f8d210> block5b_se_reshape False\n",
            "140 <keras.layers.convolutional.Conv2D object at 0x7f4706f85490> block5b_se_reduce False\n",
            "141 <keras.layers.convolutional.Conv2D object at 0x7f4706fd8350> block5b_se_expand False\n",
            "142 <keras.layers.merge.Multiply object at 0x7f4706fa0e90> block5b_se_excite False\n",
            "143 <keras.layers.convolutional.Conv2D object at 0x7f4706fa01d0> block5b_project_conv False\n",
            "144 <keras.layers.normalization.batch_normalization.BatchNormalization object at 0x7f4706fa0cd0> block5b_project_bn False\n",
            "145 <keras.layers.core.dropout.Dropout object at 0x7f4706f34fd0> block5b_drop False\n",
            "146 <keras.layers.merge.Add object at 0x7f4706fb7950> block5b_add False\n",
            "147 <keras.layers.convolutional.Conv2D object at 0x7f4706f34810> block5c_expand_conv False\n",
            "148 <keras.layers.normalization.batch_normalization.BatchNormalization object at 0x7f4706f52c50> block5c_expand_bn False\n",
            "149 <keras.layers.core.activation.Activation object at 0x7f4706f52f50> block5c_expand_activation False\n",
            "150 <keras.layers.convolutional.DepthwiseConv2D object at 0x7f4706f52f90> block5c_dwconv False\n",
            "151 <keras.layers.normalization.batch_normalization.BatchNormalization object at 0x7f4706f61f90> block5c_bn False\n",
            "152 <keras.layers.core.activation.Activation object at 0x7f4706f34690> block5c_activation False\n",
            "153 <keras.layers.pooling.GlobalAveragePooling2D object at 0x7f4706f61cd0> block5c_se_squeeze False\n",
            "154 <keras.layers.core.reshape.Reshape object at 0x7f4706f49510> block5c_se_reshape False\n",
            "155 <keras.layers.convolutional.Conv2D object at 0x7f4706f8d4d0> block5c_se_reduce False\n",
            "156 <keras.layers.convolutional.Conv2D object at 0x7f4706f31750> block5c_se_expand False\n",
            "157 <keras.layers.merge.Multiply object at 0x7f4706ef1e90> block5c_se_excite False\n",
            "158 <keras.layers.convolutional.Conv2D object at 0x7f4706f06350> block5c_project_conv False\n",
            "159 <keras.layers.normalization.batch_normalization.BatchNormalization object at 0x7f4706f0d710> block5c_project_bn False\n",
            "160 <keras.layers.core.dropout.Dropout object at 0x7f4706f0de10> block5c_drop False\n",
            "161 <keras.layers.merge.Add object at 0x7f4706f525d0> block5c_add False\n",
            "162 <keras.layers.convolutional.Conv2D object at 0x7f4706f39fd0> block6a_expand_conv False\n",
            "163 <keras.layers.normalization.batch_normalization.BatchNormalization object at 0x7f4706f0d290> block6a_expand_bn False\n",
            "164 <keras.layers.core.activation.Activation object at 0x7f4706f3e0d0> block6a_expand_activation False\n",
            "165 <keras.layers.convolutional.ZeroPadding2D object at 0x7f4706fd81d0> block6a_dwconv_pad False\n",
            "166 <keras.layers.convolutional.DepthwiseConv2D object at 0x7f47072a2750> block6a_dwconv False\n",
            "167 <keras.layers.normalization.batch_normalization.BatchNormalization object at 0x7f4706fe2e50> block6a_bn False\n",
            "168 <keras.layers.core.activation.Activation object at 0x7f4707073b90> block6a_activation False\n",
            "169 <keras.layers.pooling.GlobalAveragePooling2D object at 0x7f4707073090> block6a_se_squeeze False\n",
            "170 <keras.layers.core.reshape.Reshape object at 0x7f4706f3ead0> block6a_se_reshape False\n",
            "171 <keras.layers.convolutional.Conv2D object at 0x7f47070394d0> block6a_se_reduce False\n",
            "172 <keras.layers.convolutional.Conv2D object at 0x7f4706f90d90> block6a_se_expand False\n",
            "173 <keras.layers.merge.Multiply object at 0x7f47070646d0> block6a_se_excite False\n",
            "174 <keras.layers.convolutional.Conv2D object at 0x7f4706eed090> block6a_project_conv False\n",
            "175 <keras.layers.normalization.batch_normalization.BatchNormalization object at 0x7f4706f1ed90> block6a_project_bn False\n",
            "176 <keras.layers.convolutional.Conv2D object at 0x7f4706eb8f50> block6b_expand_conv False\n",
            "177 <keras.layers.normalization.batch_normalization.BatchNormalization object at 0x7f4706f10210> block6b_expand_bn False\n",
            "178 <keras.layers.core.activation.Activation object at 0x7f4706ebdb10> block6b_expand_activation False\n",
            "179 <keras.layers.convolutional.DepthwiseConv2D object at 0x7f4706ec5050> block6b_dwconv False\n",
            "180 <keras.layers.normalization.batch_normalization.BatchNormalization object at 0x7f4706ec5150> block6b_bn False\n",
            "181 <keras.layers.core.activation.Activation object at 0x7f4706ec5cd0> block6b_activation False\n",
            "182 <keras.layers.pooling.GlobalAveragePooling2D object at 0x7f4706e68e90> block6b_se_squeeze False\n",
            "183 <keras.layers.core.reshape.Reshape object at 0x7f4706ef1710> block6b_se_reshape False\n",
            "184 <keras.layers.convolutional.Conv2D object at 0x7f4706e68050> block6b_se_reduce False\n",
            "185 <keras.layers.convolutional.Conv2D object at 0x7f4706ebd450> block6b_se_expand False\n",
            "186 <keras.layers.merge.Multiply object at 0x7f4706e88850> block6b_se_excite False\n",
            "187 <keras.layers.convolutional.Conv2D object at 0x7f4706ed2350> block6b_project_conv False\n",
            "188 <keras.layers.normalization.batch_normalization.BatchNormalization object at 0x7f4706ee02d0> block6b_project_bn False\n",
            "189 <keras.layers.core.dropout.Dropout object at 0x7f4706e902d0> block6b_drop False\n",
            "190 <keras.layers.merge.Add object at 0x7f4706ef16d0> block6b_add False\n",
            "191 <keras.layers.convolutional.Conv2D object at 0x7f4706e90dd0> block6c_expand_conv False\n",
            "192 <keras.layers.normalization.batch_normalization.BatchNormalization object at 0x7f4706e88f10> block6c_expand_bn False\n",
            "193 <keras.layers.core.activation.Activation object at 0x7f4706e31c50> block6c_expand_activation False\n",
            "194 <keras.layers.convolutional.DepthwiseConv2D object at 0x7f4706e8d510> block6c_dwconv False\n",
            "195 <keras.layers.normalization.batch_normalization.BatchNormalization object at 0x7f4706ea3c50> block6c_bn False\n",
            "196 <keras.layers.core.activation.Activation object at 0x7f4706e8d790> block6c_activation False\n",
            "197 <keras.layers.pooling.GlobalAveragePooling2D object at 0x7f4706e3ca10> block6c_se_squeeze False\n",
            "198 <keras.layers.core.reshape.Reshape object at 0x7f4706e43690> block6c_se_reshape False\n",
            "199 <keras.layers.convolutional.Conv2D object at 0x7f4706ee52d0> block6c_se_reduce False\n",
            "200 <keras.layers.convolutional.Conv2D object at 0x7f4706e5a5d0> block6c_se_expand False\n",
            "201 <keras.layers.merge.Multiply object at 0x7f4706e435d0> block6c_se_excite False\n",
            "202 <keras.layers.convolutional.Conv2D object at 0x7f4706e3fe90> block6c_project_conv False\n",
            "203 <keras.layers.normalization.batch_normalization.BatchNormalization object at 0x7f4706e99450> block6c_project_bn False\n",
            "204 <keras.layers.core.dropout.Dropout object at 0x7f4706e28a10> block6c_drop False\n",
            "205 <keras.layers.merge.Add object at 0x7f4706e28e50> block6c_add False\n",
            "206 <keras.layers.convolutional.Conv2D object at 0x7f4706e90710> block6d_expand_conv False\n",
            "207 <keras.layers.normalization.batch_normalization.BatchNormalization object at 0x7f4707033810> block6d_expand_bn False\n",
            "208 <keras.layers.core.activation.Activation object at 0x7f4706f85d50> block6d_expand_activation False\n",
            "209 <keras.layers.convolutional.DepthwiseConv2D object at 0x7f4706ee5c50> block6d_dwconv False\n",
            "210 <keras.layers.normalization.batch_normalization.BatchNormalization object at 0x7f4706ebd5d0> block6d_bn False\n",
            "211 <keras.layers.core.activation.Activation object at 0x7f4706ebd810> block6d_activation False\n",
            "212 <keras.layers.pooling.GlobalAveragePooling2D object at 0x7f4706dea610> block6d_se_squeeze False\n",
            "213 <keras.layers.core.reshape.Reshape object at 0x7f4706ee5650> block6d_se_reshape False\n",
            "214 <keras.layers.convolutional.Conv2D object at 0x7f4706e437d0> block6d_se_reduce False\n",
            "215 <keras.layers.convolutional.Conv2D object at 0x7f4706ee5f50> block6d_se_expand False\n",
            "216 <keras.layers.merge.Multiply object at 0x7f4706e07090> block6d_se_excite False\n",
            "217 <keras.layers.convolutional.Conv2D object at 0x7f4706e55450> block6d_project_conv False\n",
            "218 <keras.layers.normalization.batch_normalization.BatchNormalization object at 0x7f4706dfce50> block6d_project_bn False\n",
            "219 <keras.layers.core.dropout.Dropout object at 0x7f4706e15410> block6d_drop False\n",
            "220 <keras.layers.merge.Add object at 0x7f4706e11d50> block6d_add False\n",
            "221 <keras.layers.convolutional.Conv2D object at 0x7f4706e21150> block7a_expand_conv False\n",
            "222 <keras.layers.normalization.batch_normalization.BatchNormalization object at 0x7f4706e0d910> block7a_expand_bn False\n",
            "223 <keras.layers.core.activation.Activation object at 0x7f4706e279d0> block7a_expand_activation False\n",
            "224 <keras.layers.convolutional.DepthwiseConv2D object at 0x7f4706db11d0> block7a_dwconv False\n",
            "225 <keras.layers.normalization.batch_normalization.BatchNormalization object at 0x7f4706db1dd0> block7a_bn False\n",
            "226 <keras.layers.core.activation.Activation object at 0x7f4706db1910> block7a_activation False\n",
            "227 <keras.layers.pooling.GlobalAveragePooling2D object at 0x7f4706dca310> block7a_se_squeeze True\n",
            "228 <keras.layers.core.reshape.Reshape object at 0x7f4706db1050> block7a_se_reshape True\n",
            "229 <keras.layers.convolutional.Conv2D object at 0x7f4706dc5290> block7a_se_reduce True\n",
            "230 <keras.layers.convolutional.Conv2D object at 0x7f4706e27190> block7a_se_expand True\n",
            "231 <keras.layers.merge.Multiply object at 0x7f4706db61d0> block7a_se_excite True\n",
            "232 <keras.layers.convolutional.Conv2D object at 0x7f4706de2a10> block7a_project_conv True\n",
            "233 <keras.layers.normalization.batch_normalization.BatchNormalization object at 0x7f4706dc2ad0> block7a_project_bn True\n",
            "234 <keras.layers.convolutional.Conv2D object at 0x7f4707151c10> top_conv True\n",
            "235 <keras.layers.normalization.batch_normalization.BatchNormalization object at 0x7f4706d78e50> top_bn True\n",
            "236 <keras.layers.core.activation.Activation object at 0x7f4706dbc850> top_activation True\n"
          ]
        }
      ]
    },
    {
      "cell_type": "code",
      "source": [
        "# Compile\n",
        "model_2.compile(loss=\"categorical_crossentropy\",\n",
        "                optimizer=tf.keras.optimizers.Adam(learning_rate=0.0001),\n",
        "                metrics=[\"accuracy\"])\n",
        "\n",
        "# Continue to train and fine-tune the model to our data (100% of training data)\n",
        "fine_tune_epochs = initial_epochs + 5\n",
        "\n",
        "history_fine_10_classes_full = model_2.fit(train_data_10_classes_full,\n",
        "                                           epochs=fine_tune_epochs,\n",
        "                                           validation_data=test_data,\n",
        "                                           validation_steps=int(0.25*len(test_data)),\n",
        "                                           initial_epoch=history_10_percent_data_aug.epoch[-1],\n",
        "                                           callbacks=[create_tensorboard_callback(dir_name=\"transfer_learning\",\n",
        "                                                                                  experiment_name=\"full_10_classes_fine_tune_last_10\")])"
      ],
      "metadata": {
        "colab": {
          "base_uri": "https://localhost:8080/"
        },
        "id": "HxJuiwXPKajs",
        "outputId": "489e41f4-6482-4963-946b-9435b6dfa648"
      },
      "execution_count": 71,
      "outputs": [
        {
          "output_type": "stream",
          "name": "stdout",
          "text": [
            "Saving TensorBoard log files to: transfer_learning/full_10_classes_fine_tune_last_10/20220705-230802\n",
            "Epoch 5/10\n",
            "235/235 [==============================] - 70s 245ms/step - loss: 0.6813 - accuracy: 0.7783 - val_loss: 0.4195 - val_accuracy: 0.8684\n",
            "Epoch 6/10\n",
            "235/235 [==============================] - 45s 189ms/step - loss: 0.5804 - accuracy: 0.8135 - val_loss: 0.3437 - val_accuracy: 0.8947\n",
            "Epoch 7/10\n",
            "235/235 [==============================] - 48s 203ms/step - loss: 0.5111 - accuracy: 0.8344 - val_loss: 0.3478 - val_accuracy: 0.8931\n",
            "Epoch 8/10\n",
            "235/235 [==============================] - 50s 210ms/step - loss: 0.4621 - accuracy: 0.8499 - val_loss: 0.3376 - val_accuracy: 0.8980\n",
            "Epoch 9/10\n",
            "235/235 [==============================] - 51s 212ms/step - loss: 0.4342 - accuracy: 0.8629 - val_loss: 0.3111 - val_accuracy: 0.9062\n",
            "Epoch 10/10\n",
            "235/235 [==============================] - 45s 192ms/step - loss: 0.4050 - accuracy: 0.8695 - val_loss: 0.3128 - val_accuracy: 0.9062\n"
          ]
        }
      ]
    },
    {
      "cell_type": "code",
      "source": [
        "# Let's evaluate on all data\n",
        "results_fine_tune_full_data = model_2.evaluate(test_data)\n",
        "results_fine_tune_full_data"
      ],
      "metadata": {
        "colab": {
          "base_uri": "https://localhost:8080/"
        },
        "id": "XYJFTIatMN5a",
        "outputId": "22475eb3-6bb9-4723-811f-84464b602a8a"
      },
      "execution_count": 72,
      "outputs": [
        {
          "output_type": "stream",
          "name": "stdout",
          "text": [
            "79/79 [==============================] - 6s 76ms/step - loss: 0.3005 - accuracy: 0.9064\n"
          ]
        },
        {
          "output_type": "execute_result",
          "data": {
            "text/plain": [
              "[0.3005277216434479, 0.9064000248908997]"
            ]
          },
          "metadata": {},
          "execution_count": 72
        }
      ]
    },
    {
      "cell_type": "code",
      "source": [
        "# How did fine-tuning go with more data?\n",
        "compare_history(original_history=history_10_percent_data_aug,\n",
        "                new_history=history_fine_10_classes_full,\n",
        "                initial_epochs=5)"
      ],
      "metadata": {
        "colab": {
          "base_uri": "https://localhost:8080/",
          "height": 507
        },
        "id": "ULiLXMJKM5Qa",
        "outputId": "dad91937-bd99-4cf9-ddcb-03c58213e696"
      },
      "execution_count": 73,
      "outputs": [
        {
          "output_type": "display_data",
          "data": {
            "text/plain": [
              "<Figure size 576x576 with 1 Axes>"
            ],
            "image/png": "[encoded data removed]"
          },
          "metadata": {
            "needs_background": "light"
          }
        },
        {
          "output_type": "display_data",
          "data": {
            "text/plain": [
              "<Figure size 576x576 with 1 Axes>"
            ],
            "image/png": "[encoded data removed]"
          },
          "metadata": {
            "needs_background": "light"
          }
        }
      ]
    },
    {
      "cell_type": "markdown",
      "source": [
        "## Viewing our experiment data on TensorBoard\n",
        "\n",
        ">**Note:** Anything you upload to TensorBoard.dev is going to be public. So if you have private data, do not uploaded!"
      ],
      "metadata": {
        "id": "TFdxo20hNYrA"
      }
    },
    {
      "cell_type": "code",
      "source": [
        "# View tensorboard logs of transfer learning modelling experiments (should ~4 models)\n",
        "# Upload TensorBoard dev records\n",
        "!tensorboard dev upload --logdir ./transfer_learning \\\n",
        "  --name \"Transfer Learning Experiments with 10 Food101 Classes\" \\\n",
        "  --description \"A series of different transfer learning experiments with varying amounts of data and fine-tuning.\" \\\n",
        "  --one_shot # exits the uploader once its finished uploading"
      ],
      "metadata": {
        "id": "OwXG3HmsPMa3",
        "colab": {
          "base_uri": "https://localhost:8080/"
        },
        "outputId": "b1471fe5-f06d-42ed-9812-fab90bced89d"
      },
      "execution_count": 74,
      "outputs": [
        {
          "output_type": "stream",
          "name": "stdout",
          "text": [
            "\n",
            "***** TensorBoard Uploader *****\n",
            "\n",
            "This will upload your TensorBoard logs to https://tensorboard.dev/ from\n",
            "the following directory:\n",
            "\n",
            "./transfer_learning\n",
            "\n",
            "This TensorBoard will be visible to everyone. Do not upload sensitive\n",
            "data.\n",
            "\n",
            "Your use of this service is subject to Google's Terms of Service\n",
            "<https://policies.google.com/terms> and Privacy Policy\n",
            "<https://policies.google.com/privacy>, and TensorBoard.dev's Terms of Service\n",
            "<https://tensorboard.dev/policy/terms/>.\n",
            "\n",
            "This notice will not be shown again while you are logged into the uploader.\n",
            "To log out, run `tensorboard dev auth revoke`.\n",
            "\n",
            "Continue? (yes/NO) No\n"
          ]
        }
      ]
    },
    {
      "cell_type": "markdown",
      "source": [
        "My TensorBoard experiments are available at: https://tensorboard.dev/experiment/oY13Jp3GTnC1dr2jZ64DlA/"
      ],
      "metadata": {
        "id": "HnaOvd1LPdgN"
      }
    },
    {
      "cell_type": "code",
      "source": [
        "# View all of your uploaded TensorBoard.dev\n",
        "!tensorboard dev list"
      ],
      "metadata": {
        "id": "ADsy7yJzScFm",
        "colab": {
          "base_uri": "https://localhost:8080/"
        },
        "outputId": "da1e761a-e219-4b1f-bab2-7381b2c99555"
      },
      "execution_count": 75,
      "outputs": [
        {
          "output_type": "stream",
          "name": "stdout",
          "text": [
            "\n",
            "***** TensorBoard Uploader *****\n",
            "\n",
            "This will list all experiments that you've uploaded to\n",
            "https://tensorboard.dev. TensorBoard.dev experiments are visible\n",
            "to everyone. Do not upload sensitive data.\n",
            "\n",
            "Your use of this service is subject to Google's Terms of Service\n",
            "<https://policies.google.com/terms> and Privacy Policy\n",
            "<https://policies.google.com/privacy>, and TensorBoard.dev's Terms of Service\n",
            "<https://tensorboard.dev/policy/terms/>.\n",
            "\n",
            "This notice will not be shown again while you are logged into the uploader.\n",
            "To log out, run `tensorboard dev auth revoke`.\n",
            "\n",
            "Continue? (yes/NO) No\n"
          ]
        }
      ]
    },
    {
      "cell_type": "code",
      "source": [
        "# To delete  an experiment\n",
        "#!tensorboard dev delete --experiment_id id_input_here"
      ],
      "metadata": {
        "id": "OR26o5QYSizL"
      },
      "execution_count": 76,
      "outputs": []
    },
    {
      "cell_type": "markdown",
      "source": [
        "## Exercise"
      ],
      "metadata": {
        "id": "vjhU_6mZmCyI"
      }
    },
    {
      "cell_type": "markdown",
      "source": [
        "Train for 10 epochs model using EfficientNetB0 for 10% of Food Vision data\n"
      ],
      "metadata": {
        "id": "79dfEkTPmHRv"
      }
    },
    {
      "cell_type": "code",
      "source": [
        "# Get 10% data\n",
        "!wget https://storage.googleapis.com/ztm_tf_course/food_vision/10_food_classes_10_percent.zip\n",
        "\n",
        "# unzip the data\n",
        "unzip_data(\"10_food_classes_10_percent.zip\")\n",
        "\n",
        "# Create train and test dir\n",
        "train_dir_10_percent = \"10_food_classes_10_percent/train/\"\n",
        "test_dir = \"10_food_classes_10_percent/test/\""
      ],
      "metadata": {
        "colab": {
          "base_uri": "https://localhost:8080/"
        },
        "id": "LNYNuuXQmXJn",
        "outputId": "0c9ba349-cabd-40d7-e720-21b554c06d0a"
      },
      "execution_count": 77,
      "outputs": [
        {
          "output_type": "stream",
          "name": "stdout",
          "text": [
            "--2022-07-05 23:31:33--  https://storage.googleapis.com/ztm_tf_course/food_vision/10_food_classes_10_percent.zip\n",
            "Resolving storage.googleapis.com (storage.googleapis.com)... 142.251.10.128, 142.251.12.128, 172.217.194.128, ...\n",
            "Connecting to storage.googleapis.com (storage.googleapis.com)|142.251.10.128|:443... connected.\n",
            "HTTP request sent, awaiting response... 200 OK\n",
            "Length: 168546183 (161M) [application/zip]\n",
            "Saving to: ‘10_food_classes_10_percent.zip.2’\n",
            "\n",
            "10_food_classes_10_ 100%[===================>] 160.74M   235MB/s    in 0.7s    \n",
            "\n",
            "2022-07-05 23:31:34 (235 MB/s) - ‘10_food_classes_10_percent.zip.2’ saved [168546183/168546183]\n",
            "\n"
          ]
        }
      ]
    },
    {
      "cell_type": "code",
      "source": [
        "# Create train test set\n",
        "import tensorflow as tf\n",
        "IMG_SIZE = (224, 224)\n",
        "train_data_10_percent = tf.keras.preprocessing.image_dataset_from_directory(train_dir_10_percent,\n",
        "                                                                            label_mode=\"categorical\",\n",
        "                                                                            image_size=IMG_SIZE)\n",
        "test_data = tf.keras.preprocessing.image_dataset_from_directory(test_dir,\n",
        "                                                                label_mode=\"categorical\",\n",
        "                                                                image_size=IMG_SIZE)"
      ],
      "metadata": {
        "colab": {
          "base_uri": "https://localhost:8080/"
        },
        "id": "jfOx0bZom5kX",
        "outputId": "3472e1ca-87f0-487a-87e2-9b33d7594860"
      },
      "execution_count": 81,
      "outputs": [
        {
          "output_type": "stream",
          "name": "stdout",
          "text": [
            "Found 750 files belonging to 10 classes.\n",
            "Found 2500 files belonging to 10 classes.\n"
          ]
        }
      ]
    },
    {
      "cell_type": "code",
      "source": [
        "# Create data augmentation for the model\n",
        "from tensorflow.keras import layers\n",
        "from tensorflow.keras.layers.experimental import preprocessing\n",
        "from tensorflow.keras.models import Sequential\n",
        "\n",
        "# Build data augmentation\n",
        "AUGVAL = 0.2\n",
        "\n",
        "data_augmentation = Sequential([\n",
        "  preprocessing.RandomFlip(\"horizontal\"),\n",
        "  preprocessing.RandomHeight(AUGVAL),\n",
        "  preprocessing.RandomWidth(AUGVAL),\n",
        "  preprocessing.RandomZoom(AUGVAL),\n",
        "  preprocessing.RandomRotation(AUGVAL)                                \n",
        "], name=\"data_augmentation\")"
      ],
      "metadata": {
        "id": "XJi8bbIsn1ss"
      },
      "execution_count": 83,
      "outputs": []
    },
    {
      "cell_type": "code",
      "source": [
        "from gc import callbacks\n",
        "\n",
        "# Setup the input shape and base model, freezing the top layer\n",
        "input_shape = IMG_SIZE + (3,)\n",
        "\n",
        "# Remove the final layer (the softmax layer)\n",
        "base_model = tf.keras.applications.EfficientNetB0(include_top=False)\n",
        "\n",
        "# Freeze all parameters (not trainable)\n",
        "base_model.trainable = False\n",
        "\n",
        "# Create the input layer\n",
        "inputs = layers.Input(shape=input_shape,\n",
        "                      name=\"input_layer\")\n",
        "\n",
        "# Add in data augmentation as a layer\n",
        "x = data_augmentation(inputs)\n",
        "\n",
        "# Add the input to the base model\n",
        "x = base_model(x, training=False)\n",
        "\n",
        "# Average pool features of the base model (reduce X*X*Y tensor to a vector of size Y)\n",
        "x = layers.GlobalAveragePooling2D(name=\"global_average_pooling_layer\")(x)\n",
        "\n",
        "# Put a dense layer as output with softmax\n",
        "outputs = layers.Dense(10, activation=\"softmax\", name=\"output_layer\")(x)\n",
        "\n",
        "# Create the model using inputs and outputs\n",
        "model_5 = tf.keras.Model(inputs, outputs)\n",
        "\n",
        "# Compile the model\n",
        "model_5.compile(loss=\"categorical_crossentropy\",\n",
        "                optimizer=tf.keras.optimizers.Adam(),\n",
        "                metrics=[\"accuracy\"])\n",
        "\n",
        "# Fit the model\n",
        "history_model_5 = model_5.fit(train_data_10_percent,\n",
        "                              epochs=10,\n",
        "                              steps_per_epoch=len(train_data_10_percent),\n",
        "                              validation_data=test_data,\n",
        "                              validation_steps=int(0.25*len(test_data)),\n",
        "                              callbacks=[create_tensorboard_callback(dir_name=\"transfer_learning\",\n",
        "                                                                     experiment_name=\"10_percent_data_aug_10_epochs\")])"
      ],
      "metadata": {
        "colab": {
          "base_uri": "https://localhost:8080/"
        },
        "id": "d7JIXOR3pXQC",
        "outputId": "29f85f46-c1d0-4236-bdda-b73782752fd5"
      },
      "execution_count": 84,
      "outputs": [
        {
          "output_type": "stream",
          "name": "stdout",
          "text": [
            "Saving TensorBoard log files to: transfer_learning/10_percent_data_aug_10_epochs/20220705-233641\n",
            "Epoch 1/10\n",
            "24/24 [==============================] - 14s 298ms/step - loss: 2.0325 - accuracy: 0.3213 - val_loss: 1.5374 - val_accuracy: 0.6217\n",
            "Epoch 2/10\n",
            "24/24 [==============================] - 6s 229ms/step - loss: 1.3962 - accuracy: 0.6533 - val_loss: 1.0682 - val_accuracy: 0.7566\n",
            "Epoch 3/10\n",
            "24/24 [==============================] - 7s 269ms/step - loss: 1.0810 - accuracy: 0.7253 - val_loss: 0.8750 - val_accuracy: 0.7961\n",
            "Epoch 4/10\n",
            "24/24 [==============================] - 7s 271ms/step - loss: 0.9014 - accuracy: 0.7760 - val_loss: 0.7372 - val_accuracy: 0.8207\n",
            "Epoch 5/10\n",
            "24/24 [==============================] - 10s 397ms/step - loss: 0.8018 - accuracy: 0.7920 - val_loss: 0.6631 - val_accuracy: 0.8372\n",
            "Epoch 6/10\n",
            "24/24 [==============================] - 9s 374ms/step - loss: 0.7518 - accuracy: 0.8013 - val_loss: 0.6294 - val_accuracy: 0.8257\n",
            "Epoch 7/10\n",
            "24/24 [==============================] - 11s 416ms/step - loss: 0.6674 - accuracy: 0.8227 - val_loss: 0.6174 - val_accuracy: 0.8207\n",
            "Epoch 8/10\n",
            "24/24 [==============================] - 6s 227ms/step - loss: 0.6201 - accuracy: 0.8387 - val_loss: 0.5929 - val_accuracy: 0.8273\n",
            "Epoch 9/10\n",
            "24/24 [==============================] - 7s 264ms/step - loss: 0.5910 - accuracy: 0.8413 - val_loss: 0.5631 - val_accuracy: 0.8273\n",
            "Epoch 10/10\n",
            "24/24 [==============================] - 9s 377ms/step - loss: 0.5690 - accuracy: 0.8467 - val_loss: 0.5300 - val_accuracy: 0.8421\n"
          ]
        }
      ]
    },
    {
      "cell_type": "code",
      "source": [
        "# Evaluate on the full dataset\n",
        "results_model_5 = model_5.evaluate(test_data)"
      ],
      "metadata": {
        "colab": {
          "base_uri": "https://localhost:8080/"
        },
        "id": "HipWPfbpt5jt",
        "outputId": "7344e777-5c05-4a1c-a4f0-593fbbb37b48"
      },
      "execution_count": 85,
      "outputs": [
        {
          "output_type": "stream",
          "name": "stdout",
          "text": [
            "79/79 [==============================] - 9s 104ms/step - loss: 0.5660 - accuracy: 0.8328\n"
          ]
        }
      ]
    },
    {
      "cell_type": "code",
      "source": [
        "# Plot the loss curve\n",
        "plot_loss_curves(history_model_5)"
      ],
      "metadata": {
        "colab": {
          "base_uri": "https://localhost:8080/",
          "height": 573
        },
        "id": "VkxnEHb-uddj",
        "outputId": "7359cb19-dcd7-4938-c64c-3e504ec52f20"
      },
      "execution_count": 86,
      "outputs": [
        {
          "output_type": "display_data",
          "data": {
            "text/plain": [
              "<Figure size 432x288 with 1 Axes>"
            ],
            "image/png": "[encoded data removed]"
          },
          "metadata": {
            "needs_background": "light"
          }
        },
        {
          "output_type": "display_data",
          "data": {
            "text/plain": [
              "<Figure size 432x288 with 1 Axes>"
            ],
            "image/png": "[encoded data removed]"
          },
          "metadata": {
            "needs_background": "light"
          }
        }
      ]
    },
    {
      "cell_type": "markdown",
      "source": [
        "Create a ModelCheckpoint callback"
      ],
      "metadata": {
        "id": "GckXfWJauitC"
      }
    },
    {
      "cell_type": "code",
      "source": [
        "# Set checkpoint path\n",
        "checkpoint_path = \"model_5/checkpoint.ckpt\"\n",
        "\n",
        "# Save the model's weight using this checkpoint \n",
        "checkpoint_callback = tf.keras.callbacks.ModelCheckpoint(filepath=checkpoint_path,\n",
        "                                                         save_weights_only=True,\n",
        "                                                         sava_best_only=False,\n",
        "                                                         save_freq=\"epoch\",\n",
        "                                                         verbose=1)"
      ],
      "metadata": {
        "id": "2GA5RovKup_O"
      },
      "execution_count": 87,
      "outputs": []
    },
    {
      "cell_type": "code",
      "source": [
        "# Saving checkpoint when fit the model\n",
        "initial_epochs = 10\n",
        "history_model_5 = model_5.fit(train_data_10_percent,\n",
        "                              epochs=initial_epochs,\n",
        "                              validation_data=test_data,\n",
        "                              validation_steps=int(0.25*len(test_data)),\n",
        "                              callbacks=[create_tensorboard_callback(dir_name=\"transfer_learning\",\n",
        "                                                                     experiment_name=\"10_percent_data_aug_10_epochs\"),\n",
        "                                         checkpoint_callback])"
      ],
      "metadata": {
        "colab": {
          "base_uri": "https://localhost:8080/"
        },
        "id": "rzzEWixXw5zh",
        "outputId": "0dd782e4-9a38-491d-a75c-e8f3a07eb207"
      },
      "execution_count": 88,
      "outputs": [
        {
          "output_type": "stream",
          "name": "stdout",
          "text": [
            "Saving TensorBoard log files to: transfer_learning/10_percent_data_aug_10_epochs/20220705-235431\n",
            "Epoch 1/10\n",
            "24/24 [==============================] - ETA: 0s - loss: 0.5286 - accuracy: 0.8613\n",
            "Epoch 1: saving model to model_5/checkpoint.ckpt\n",
            "24/24 [==============================] - 8s 274ms/step - loss: 0.5286 - accuracy: 0.8613 - val_loss: 0.5273 - val_accuracy: 0.8388\n",
            "Epoch 2/10\n",
            "24/24 [==============================] - ETA: 0s - loss: 0.5141 - accuracy: 0.8587\n",
            "Epoch 2: saving model to model_5/checkpoint.ckpt\n",
            "24/24 [==============================] - 6s 248ms/step - loss: 0.5141 - accuracy: 0.8587 - val_loss: 0.5224 - val_accuracy: 0.8454\n",
            "Epoch 3/10\n",
            "24/24 [==============================] - ETA: 0s - loss: 0.5046 - accuracy: 0.8773\n",
            "Epoch 3: saving model to model_5/checkpoint.ckpt\n",
            "24/24 [==============================] - 7s 283ms/step - loss: 0.5046 - accuracy: 0.8773 - val_loss: 0.5073 - val_accuracy: 0.8421\n",
            "Epoch 4/10\n",
            "24/24 [==============================] - ETA: 0s - loss: 0.4638 - accuracy: 0.8653\n",
            "Epoch 4: saving model to model_5/checkpoint.ckpt\n",
            "24/24 [==============================] - 11s 429ms/step - loss: 0.4638 - accuracy: 0.8653 - val_loss: 0.4939 - val_accuracy: 0.8454\n",
            "Epoch 5/10\n",
            "24/24 [==============================] - ETA: 0s - loss: 0.4618 - accuracy: 0.8773\n",
            "Epoch 5: saving model to model_5/checkpoint.ckpt\n",
            "24/24 [==============================] - 10s 389ms/step - loss: 0.4618 - accuracy: 0.8773 - val_loss: 0.5023 - val_accuracy: 0.8388\n",
            "Epoch 6/10\n",
            "24/24 [==============================] - ETA: 0s - loss: 0.4215 - accuracy: 0.9000\n",
            "Epoch 6: saving model to model_5/checkpoint.ckpt\n",
            "24/24 [==============================] - 11s 443ms/step - loss: 0.4215 - accuracy: 0.9000 - val_loss: 0.4740 - val_accuracy: 0.8602\n",
            "Epoch 7/10\n",
            "24/24 [==============================] - ETA: 0s - loss: 0.4116 - accuracy: 0.9000\n",
            "Epoch 7: saving model to model_5/checkpoint.ckpt\n",
            "24/24 [==============================] - 8s 306ms/step - loss: 0.4116 - accuracy: 0.9000 - val_loss: 0.4680 - val_accuracy: 0.8569\n",
            "Epoch 8/10\n",
            "24/24 [==============================] - ETA: 0s - loss: 0.3989 - accuracy: 0.9067\n",
            "Epoch 8: saving model to model_5/checkpoint.ckpt\n",
            "24/24 [==============================] - 11s 393ms/step - loss: 0.3989 - accuracy: 0.9067 - val_loss: 0.4928 - val_accuracy: 0.8454\n",
            "Epoch 9/10\n",
            "24/24 [==============================] - ETA: 0s - loss: 0.3935 - accuracy: 0.9120\n",
            "Epoch 9: saving model to model_5/checkpoint.ckpt\n",
            "24/24 [==============================] - 10s 419ms/step - loss: 0.3935 - accuracy: 0.9120 - val_loss: 0.4591 - val_accuracy: 0.8586\n",
            "Epoch 10/10\n",
            "24/24 [==============================] - ETA: 0s - loss: 0.3554 - accuracy: 0.9200\n",
            "Epoch 10: saving model to model_5/checkpoint.ckpt\n",
            "24/24 [==============================] - 10s 395ms/step - loss: 0.3554 - accuracy: 0.9200 - val_loss: 0.4594 - val_accuracy: 0.8586\n"
          ]
        }
      ]
    },
    {
      "cell_type": "markdown",
      "source": [
        "Loading in checkpointed weights"
      ],
      "metadata": {
        "id": "M7PSM24byWfN"
      }
    },
    {
      "cell_type": "code",
      "source": [
        "# Load in saved model weights and evaluate model\n",
        "model_5.load_weights(checkpoint_path)\n",
        "loaded_result = model_5.evaluate(test_data)"
      ],
      "metadata": {
        "colab": {
          "base_uri": "https://localhost:8080/"
        },
        "id": "DITSgizEydaR",
        "outputId": "25c00aeb-908b-4c59-bd82-aed8bdc5109a"
      },
      "execution_count": 89,
      "outputs": [
        {
          "output_type": "stream",
          "name": "stdout",
          "text": [
            "79/79 [==============================] - 7s 77ms/step - loss: 0.4982 - accuracy: 0.8452\n"
          ]
        }
      ]
    },
    {
      "cell_type": "markdown",
      "source": [
        "Model 6: Fine-tuning the last 20 layers of model 5 for another 10 epochs"
      ],
      "metadata": {
        "id": "todufeMuytoO"
      }
    },
    {
      "cell_type": "code",
      "source": [
        "# Set all layers of base model to true\n",
        "base_model.trainable = True\n",
        "\n",
        "# Freeze all layers except the last 20 layers\n",
        "for layer in base_model.layers[:-20]:\n",
        "  layer.trainable = False\n",
        "\n",
        "# Recompile the model\n",
        "model_5.compile(loss=\"categorical_crossentropy\",\n",
        "                optimizer=tf.keras.optimizers.Adam(learning_rate=0.0001),  # Reduce learning rate by 10 times\n",
        "                metrics=[\"accuracy\"])"
      ],
      "metadata": {
        "id": "wQTNPyxdy90-"
      },
      "execution_count": 90,
      "outputs": []
    },
    {
      "cell_type": "code",
      "source": [
        "# fine tune for another 10 epochs\n",
        "fine_tune_epochs = initial_epochs + 10\n",
        "\n",
        "# Refit the model\n",
        "history_model_6 = model_5.fit(train_data_10_percent,\n",
        "                              epochs=fine_tune_epochs,\n",
        "                              validation_data=test_data,\n",
        "                              validation_steps=int(0.25*len(test_data)),\n",
        "                              initial_epoch=history_model_5.epoch[-1],\n",
        "                              callbacks=[create_tensorboard_callback(dir_name=\"transfer_learning\",\n",
        "                                                                     experiment_name=\"10_percent_fine_tune_last_10_epochs_10\")])"
      ],
      "metadata": {
        "colab": {
          "base_uri": "https://localhost:8080/"
        },
        "id": "AB3POK2nztfk",
        "outputId": "153ab588-cd73-49e3-9ef3-6959e3587f3a"
      },
      "execution_count": 91,
      "outputs": [
        {
          "output_type": "stream",
          "name": "stdout",
          "text": [
            "Saving TensorBoard log files to: transfer_learning/10_percent_fine_tune_last_10_epochs_10/20220706-000408\n",
            "Epoch 10/20\n",
            "24/24 [==============================] - 18s 400ms/step - loss: 0.3315 - accuracy: 0.9173 - val_loss: 0.4320 - val_accuracy: 0.8569\n",
            "Epoch 11/20\n",
            "24/24 [==============================] - 8s 291ms/step - loss: 0.2564 - accuracy: 0.9280 - val_loss: 0.4639 - val_accuracy: 0.8421\n",
            "Epoch 12/20\n",
            "24/24 [==============================] - 7s 282ms/step - loss: 0.2089 - accuracy: 0.9413 - val_loss: 0.4425 - val_accuracy: 0.8569\n",
            "Epoch 13/20\n",
            "24/24 [==============================] - 10s 391ms/step - loss: 0.1917 - accuracy: 0.9427 - val_loss: 0.3915 - val_accuracy: 0.8717\n",
            "Epoch 14/20\n",
            "24/24 [==============================] - 10s 415ms/step - loss: 0.1834 - accuracy: 0.9427 - val_loss: 0.4829 - val_accuracy: 0.8421\n",
            "Epoch 15/20\n",
            "24/24 [==============================] - 6s 231ms/step - loss: 0.1318 - accuracy: 0.9587 - val_loss: 0.4506 - val_accuracy: 0.8470\n",
            "Epoch 16/20\n",
            "24/24 [==============================] - 6s 247ms/step - loss: 0.1476 - accuracy: 0.9493 - val_loss: 0.5175 - val_accuracy: 0.8454\n",
            "Epoch 17/20\n",
            "24/24 [==============================] - 10s 408ms/step - loss: 0.1077 - accuracy: 0.9693 - val_loss: 0.4369 - val_accuracy: 0.8553\n",
            "Epoch 18/20\n",
            "24/24 [==============================] - 6s 244ms/step - loss: 0.0809 - accuracy: 0.9827 - val_loss: 0.4481 - val_accuracy: 0.8355\n",
            "Epoch 19/20\n",
            "24/24 [==============================] - 6s 234ms/step - loss: 0.0672 - accuracy: 0.9840 - val_loss: 0.4966 - val_accuracy: 0.8586\n",
            "Epoch 20/20\n",
            "24/24 [==============================] - 6s 220ms/step - loss: 0.0671 - accuracy: 0.9813 - val_loss: 0.4975 - val_accuracy: 0.8503\n"
          ]
        }
      ]
    },
    {
      "cell_type": "code",
      "source": [
        "# Evaluate on full test data\n",
        "result_model_6 = model_5.evaluate(test_data)"
      ],
      "metadata": {
        "colab": {
          "base_uri": "https://localhost:8080/"
        },
        "id": "u6GtITet0jfz",
        "outputId": "b8b4dc6f-35ca-4217-f97d-048a40c79696"
      },
      "execution_count": 92,
      "outputs": [
        {
          "output_type": "stream",
          "name": "stdout",
          "text": [
            "79/79 [==============================] - 9s 112ms/step - loss: 0.5194 - accuracy: 0.8428\n"
          ]
        }
      ]
    },
    {
      "cell_type": "code",
      "source": [
        "# Plot the loss curve\n",
        "plot_loss_curves(history_model_6)"
      ],
      "metadata": {
        "colab": {
          "base_uri": "https://localhost:8080/",
          "height": 573
        },
        "id": "p8M4EabE0usL",
        "outputId": "20a5a6a4-ae52-49b9-f8f3-b613045c9827"
      },
      "execution_count": 93,
      "outputs": [
        {
          "output_type": "display_data",
          "data": {
            "text/plain": [
              "<Figure size 432x288 with 1 Axes>"
            ],
            "image/png": "[encoded data removed]"
          },
          "metadata": {
            "needs_background": "light"
          }
        },
        {
          "output_type": "display_data",
          "data": {
            "text/plain": [
              "<Figure size 432x288 with 1 Axes>"
            ],
            "image/png": "[encoded data removed]"
          },
          "metadata": {
            "needs_background": "light"
          }
        }
      ]
    },
    {
      "cell_type": "markdown",
      "source": [
        "Model 7: Refit model 5 with 30 last layers unfrozen"
      ],
      "metadata": {
        "id": "wA31l5H50y0D"
      }
    },
    {
      "cell_type": "code",
      "source": [
        "# Reload model 5\n",
        "model_5.load_weights(checkpoint_path)\n",
        "\n",
        "# Evaluate model 5 with loaded weights\n",
        "loaded_weights_model_results = model_5.evaluate(test_data)"
      ],
      "metadata": {
        "colab": {
          "base_uri": "https://localhost:8080/"
        },
        "id": "bsMWGOtS1Ggb",
        "outputId": "958e3be8-fa86-416d-d68f-9e761fede59d"
      },
      "execution_count": 94,
      "outputs": [
        {
          "output_type": "stream",
          "name": "stdout",
          "text": [
            "79/79 [==============================] - 7s 81ms/step - loss: 0.4982 - accuracy: 0.8452\n"
          ]
        }
      ]
    },
    {
      "cell_type": "code",
      "source": [
        "# Begin fine-tuning, set all layers to trainable = true\n",
        "base_model.trainable = True\n",
        "\n",
        "# Freeze all layers except for the last 30\n",
        "for layer in base_model.layers[:-30]:\n",
        "  layer.trainable = False\n",
        "\n",
        "# Recompile the model\n",
        "model_5.compile(loss=\"categorical_crossentropy\",\n",
        "                optimizer=tf.keras.optimizers.Adam(learning_rate=0.0001),\n",
        "                metrics=[\"accuracy\"])"
      ],
      "metadata": {
        "id": "1C8dDEvS1nh5"
      },
      "execution_count": 95,
      "outputs": []
    },
    {
      "cell_type": "code",
      "source": [
        "# Fine tune for another 10 epochs\n",
        "fine_tune_epochs = initial_epochs + 10\n",
        "\n",
        "# Refit the model 5\n",
        "history_model_7 = model_5.fit(train_data_10_percent,\n",
        "                              epochs=fine_tune_epochs,\n",
        "                              validation_data=test_data,\n",
        "                              validation_steps=int(0.25*len(test_data)),\n",
        "                              initial_epoch=history_model_5.epoch[-1],\n",
        "                              callbacks=[create_tensorboard_callback(dir_name=\"transfer_learning\",\n",
        "                                                                     experiment_name=\"10_percent_fine_tune_30_layers\")])"
      ],
      "metadata": {
        "colab": {
          "base_uri": "https://localhost:8080/"
        },
        "id": "0194RNff2OYC",
        "outputId": "87bad2df-6ed9-4859-e654-4ebd9a4947f4"
      },
      "execution_count": 96,
      "outputs": [
        {
          "output_type": "stream",
          "name": "stdout",
          "text": [
            "Saving TensorBoard log files to: transfer_learning/10_percent_fine_tune_30_layers/20220706-001451\n",
            "Epoch 10/20\n",
            "24/24 [==============================] - 17s 354ms/step - loss: 0.3207 - accuracy: 0.9053 - val_loss: 0.4271 - val_accuracy: 0.8586\n",
            "Epoch 11/20\n",
            "24/24 [==============================] - 8s 282ms/step - loss: 0.2360 - accuracy: 0.9240 - val_loss: 0.4283 - val_accuracy: 0.8438\n",
            "Epoch 12/20\n",
            "24/24 [==============================] - 8s 311ms/step - loss: 0.1994 - accuracy: 0.9427 - val_loss: 0.4498 - val_accuracy: 0.8602\n",
            "Epoch 13/20\n",
            "24/24 [==============================] - 10s 386ms/step - loss: 0.1807 - accuracy: 0.9467 - val_loss: 0.4960 - val_accuracy: 0.8421\n",
            "Epoch 14/20\n",
            "24/24 [==============================] - 9s 327ms/step - loss: 0.1516 - accuracy: 0.9560 - val_loss: 0.4148 - val_accuracy: 0.8618\n",
            "Epoch 15/20\n",
            "24/24 [==============================] - 7s 283ms/step - loss: 0.1316 - accuracy: 0.9587 - val_loss: 0.4677 - val_accuracy: 0.8520\n",
            "Epoch 16/20\n",
            "24/24 [==============================] - 6s 221ms/step - loss: 0.0955 - accuracy: 0.9773 - val_loss: 0.4583 - val_accuracy: 0.8569\n",
            "Epoch 17/20\n",
            "24/24 [==============================] - 6s 247ms/step - loss: 0.0859 - accuracy: 0.9760 - val_loss: 0.4864 - val_accuracy: 0.8569\n",
            "Epoch 18/20\n",
            "24/24 [==============================] - 6s 246ms/step - loss: 0.0830 - accuracy: 0.9813 - val_loss: 0.4732 - val_accuracy: 0.8618\n",
            "Epoch 19/20\n",
            "24/24 [==============================] - 6s 217ms/step - loss: 0.0820 - accuracy: 0.9787 - val_loss: 0.5015 - val_accuracy: 0.8553\n",
            "Epoch 20/20\n",
            "24/24 [==============================] - 6s 239ms/step - loss: 0.0512 - accuracy: 0.9853 - val_loss: 0.5148 - val_accuracy: 0.8503\n"
          ]
        }
      ]
    },
    {
      "cell_type": "code",
      "source": [
        "# Evaluate on all data\n",
        "results_model_7 = model_5.fit(test_data)"
      ],
      "metadata": {
        "colab": {
          "base_uri": "https://localhost:8080/"
        },
        "id": "J9QWlilR3AUX",
        "outputId": "5985178b-4141-4077-cdcf-434ba0f86d5d"
      },
      "execution_count": 97,
      "outputs": [
        {
          "output_type": "stream",
          "name": "stdout",
          "text": [
            "79/79 [==============================] - 12s 143ms/step - loss: 0.5924 - accuracy: 0.8224\n"
          ]
        }
      ]
    },
    {
      "cell_type": "code",
      "source": [
        "# Plot the loss curve\n",
        "plot_loss_curves(history_model_7)"
      ],
      "metadata": {
        "colab": {
          "base_uri": "https://localhost:8080/",
          "height": 573
        },
        "id": "oq1cM5ZB3JiP",
        "outputId": "fdd432a8-edfb-4813-de92-d914e9092d04"
      },
      "execution_count": 98,
      "outputs": [
        {
          "output_type": "display_data",
          "data": {
            "text/plain": [
              "<Figure size 432x288 with 1 Axes>"
            ],
            "image/png": "[encoded data removed]"
          },
          "metadata": {
            "needs_background": "light"
          }
        },
        {
          "output_type": "display_data",
          "data": {
            "text/plain": [
              "<Figure size 432x288 with 1 Axes>"
            ],
            "image/png": "[encoded data removed]"
          },
          "metadata": {
            "needs_background": "light"
          }
        }
      ]
    },
    {
      "cell_type": "code",
      "source": [
        ""
      ],
      "metadata": {
        "id": "NwVDWGNI3Om_"
      },
      "execution_count": null,
      "outputs": []
    }
  ]
}